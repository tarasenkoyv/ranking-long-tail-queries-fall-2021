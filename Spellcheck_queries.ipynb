{
 "cells": [
  {
   "cell_type": "code",
   "execution_count": 59,
   "id": "358b265a",
   "metadata": {},
   "outputs": [],
   "source": [
    "import requests\n",
    "import pandas as pd\n",
    "import tqdm"
   ]
  },
  {
   "cell_type": "code",
   "execution_count": 46,
   "id": "53d2f25c",
   "metadata": {},
   "outputs": [],
   "source": [
    "def correct(text):\n",
    "    responce = requests.post('https://speller.yandex.net/services/spellservice.json/checkText',\n",
    "                             data = {'text' : text})\n",
    "    new_text = text\n",
    "    minus_len = 0\n",
    "    for word in responce.json():\n",
    "        new_text = new_text[:word['pos'] - minus_len] + word['s'][0] + new_text[word['pos'] - minus_len + word['len']:]\n",
    "        minus_len += word['len'] - len(word['s'][0]) \n",
    "    return new_text"
   ]
  },
  {
   "cell_type": "code",
   "execution_count": 68,
   "id": "c21bf76f",
   "metadata": {},
   "outputs": [
    {
     "data": {
      "text/plain": [
       "'анна детектив'"
      ]
     },
     "execution_count": 68,
     "metadata": {},
     "output_type": "execute_result"
    }
   ],
   "source": [
    "text = 'ана детыктив'\n",
    "correct(text)"
   ]
  },
  {
   "cell_type": "code",
   "execution_count": 32,
   "id": "247079fb",
   "metadata": {},
   "outputs": [],
   "source": [
    "queries_df = pd.read_csv('queries.tsv', sep='\\t', header=None)\n",
    "queries_df.rename(columns={0: \"id\", 1: \"query\"}, inplace=True)"
   ]
  },
  {
   "cell_type": "code",
   "execution_count": 60,
   "id": "7352188a",
   "metadata": {},
   "outputs": [
    {
     "name": "stderr",
     "output_type": "stream",
     "text": [
      "6311it [15:19,  6.86it/s]\n"
     ]
    }
   ],
   "source": [
    "corrected_queries = []\n",
    "for index, row in tqdm.tqdm(queries_df.iterrows()):\n",
    "    corrected_queries.append(correct(row.query))"
   ]
  },
  {
   "cell_type": "code",
   "execution_count": 61,
   "id": "2552e16e",
   "metadata": {},
   "outputs": [],
   "source": [
    "queries_df['corrected_query'] = corrected_queries"
   ]
  },
  {
   "cell_type": "code",
   "execution_count": 63,
   "id": "39b81567",
   "metadata": {},
   "outputs": [
    {
     "data": {
      "text/html": [
       "<div>\n",
       "<style scoped>\n",
       "    .dataframe tbody tr th:only-of-type {\n",
       "        vertical-align: middle;\n",
       "    }\n",
       "\n",
       "    .dataframe tbody tr th {\n",
       "        vertical-align: top;\n",
       "    }\n",
       "\n",
       "    .dataframe thead th {\n",
       "        text-align: right;\n",
       "    }\n",
       "</style>\n",
       "<table border=\"1\" class=\"dataframe\">\n",
       "  <thead>\n",
       "    <tr style=\"text-align: right;\">\n",
       "      <th></th>\n",
       "      <th>id</th>\n",
       "      <th>query</th>\n",
       "      <th>corrected_query</th>\n",
       "    </tr>\n",
       "  </thead>\n",
       "  <tbody>\n",
       "    <tr>\n",
       "      <th>0</th>\n",
       "      <td>0</td>\n",
       "      <td>13 причин почему</td>\n",
       "      <td>13 причин почему</td>\n",
       "    </tr>\n",
       "    <tr>\n",
       "      <th>1</th>\n",
       "      <td>1</td>\n",
       "      <td>1 положительный и 1 отрицательный могут ли</td>\n",
       "      <td>1 положительный и 1 отрицательный могут ли</td>\n",
       "    </tr>\n",
       "    <tr>\n",
       "      <th>2</th>\n",
       "      <td>2</td>\n",
       "      <td>2016 действует ли зао рождественская мануфактура</td>\n",
       "      <td>2016 действует ли зао рождественская мануфактура</td>\n",
       "    </tr>\n",
       "    <tr>\n",
       "      <th>3</th>\n",
       "      <td>3</td>\n",
       "      <td>1 месяц после операции на кишечнику диета что ...</td>\n",
       "      <td>1 месяц после операции на кишечнике диета что ...</td>\n",
       "    </tr>\n",
       "    <tr>\n",
       "      <th>4</th>\n",
       "      <td>4</td>\n",
       "      <td>2 правды 1 ложь что можно придумать</td>\n",
       "      <td>2 правды 1 ложь что можно придумать</td>\n",
       "    </tr>\n",
       "    <tr>\n",
       "      <th>5</th>\n",
       "      <td>5</td>\n",
       "      <td>10 книг которые нужно прочитать что бы быть сп...</td>\n",
       "      <td>10 книг которые нужно прочитать чтобы быть спо...</td>\n",
       "    </tr>\n",
       "    <tr>\n",
       "      <th>6</th>\n",
       "      <td>6</td>\n",
       "      <td>100 к 1 что нужно взять в</td>\n",
       "      <td>100 к 1 что нужно взять в</td>\n",
       "    </tr>\n",
       "    <tr>\n",
       "      <th>7</th>\n",
       "      <td>7</td>\n",
       "      <td>1 как называется форма приведенная на рисунке ...</td>\n",
       "      <td>1 как называется форма приведенная на рисунке ...</td>\n",
       "    </tr>\n",
       "    <tr>\n",
       "      <th>8</th>\n",
       "      <td>8</td>\n",
       "      <td>27 20 16 есть ли жизнь после смерти а чапман</td>\n",
       "      <td>27 20 16 есть ли жизнь после смерти а чапман</td>\n",
       "    </tr>\n",
       "    <tr>\n",
       "      <th>9</th>\n",
       "      <td>9</td>\n",
       "      <td>gjvjuftn kb akerjyfpjk jn vjkjxybws</td>\n",
       "      <td>помогает ли флуконазол от молочницы</td>\n",
       "    </tr>\n",
       "  </tbody>\n",
       "</table>\n",
       "</div>"
      ],
      "text/plain": [
       "   id                                              query  \\\n",
       "0   0                                   13 причин почему   \n",
       "1   1         1 положительный и 1 отрицательный могут ли   \n",
       "2   2   2016 действует ли зао рождественская мануфактура   \n",
       "3   3  1 месяц после операции на кишечнику диета что ...   \n",
       "4   4                2 правды 1 ложь что можно придумать   \n",
       "5   5  10 книг которые нужно прочитать что бы быть сп...   \n",
       "6   6                          100 к 1 что нужно взять в   \n",
       "7   7  1 как называется форма приведенная на рисунке ...   \n",
       "8   8       27 20 16 есть ли жизнь после смерти а чапман   \n",
       "9   9                gjvjuftn kb akerjyfpjk jn vjkjxybws   \n",
       "\n",
       "                                     corrected_query  \n",
       "0                                   13 причин почему  \n",
       "1         1 положительный и 1 отрицательный могут ли  \n",
       "2   2016 действует ли зао рождественская мануфактура  \n",
       "3  1 месяц после операции на кишечнике диета что ...  \n",
       "4                2 правды 1 ложь что можно придумать  \n",
       "5  10 книг которые нужно прочитать чтобы быть спо...  \n",
       "6                          100 к 1 что нужно взять в  \n",
       "7  1 как называется форма приведенная на рисунке ...  \n",
       "8       27 20 16 есть ли жизнь после смерти а чапман  \n",
       "9                помогает ли флуконазол от молочницы  "
      ]
     },
     "execution_count": 63,
     "metadata": {},
     "output_type": "execute_result"
    }
   ],
   "source": [
    "queries_df[:10]"
   ]
  },
  {
   "cell_type": "code",
   "execution_count": 64,
   "id": "d8939369",
   "metadata": {},
   "outputs": [],
   "source": [
    "queries_df.to_csv('corrected_queries.tsv', index=False, sep='\\t')"
   ]
  }
 ],
 "metadata": {
  "kernelspec": {
   "display_name": "Python 3 (ipykernel)",
   "language": "python",
   "name": "python3"
  },
  "language_info": {
   "codemirror_mode": {
    "name": "ipython",
    "version": 3
   },
   "file_extension": ".py",
   "mimetype": "text/x-python",
   "name": "python",
   "nbconvert_exporter": "python",
   "pygments_lexer": "ipython3",
   "version": "3.8.5"
  }
 },
 "nbformat": 4,
 "nbformat_minor": 5
}
