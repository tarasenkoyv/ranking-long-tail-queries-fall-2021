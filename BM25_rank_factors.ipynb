{
 "cells": [
  {
   "cell_type": "code",
   "execution_count": 4,
   "id": "7203ff30",
   "metadata": {},
   "outputs": [],
   "source": [
    "import helpers"
   ]
  },
  {
   "cell_type": "code",
   "execution_count": 15,
   "id": "08281107",
   "metadata": {},
   "outputs": [
    {
     "data": {
      "text/plain": [
       "<module 'helpers' from 'C:\\\\Users\\\\taras\\\\Documents\\\\Аспирантура МГУ\\\\Техносфера mail.ru\\\\IR\\\\Итоговый конкурс\\\\helpers.py'>"
      ]
     },
     "execution_count": 15,
     "metadata": {},
     "output_type": "execute_result"
    }
   ],
   "source": [
    "import importlib\n",
    "importlib.reload(helpers)"
   ]
  },
  {
   "cell_type": "code",
   "execution_count": 2,
   "id": "5ee4cac9",
   "metadata": {},
   "outputs": [],
   "source": [
    "from tqdm.notebook import tqdm\n",
    "import numpy as np\n",
    "from collections import defaultdict"
   ]
  },
  {
   "cell_type": "code",
   "execution_count": 3,
   "id": "c7751ee5",
   "metadata": {},
   "outputs": [],
   "source": [
    "from multiprocessing.dummy import Pool, Lock, Queue"
   ]
  },
  {
   "cell_type": "code",
   "execution_count": 3,
   "id": "a1cd5187",
   "metadata": {},
   "outputs": [],
   "source": [
    "import pandas as pd\n",
    "import json"
   ]
  },
  {
   "cell_type": "markdown",
   "id": "5ef012dc",
   "metadata": {},
   "source": [
    "### Sphinx API"
   ]
  },
  {
   "cell_type": "code",
   "execution_count": 23,
   "id": "817c0327",
   "metadata": {},
   "outputs": [],
   "source": [
    "import sphinxapi\n",
    "import sys"
   ]
  },
  {
   "cell_type": "code",
   "execution_count": 26,
   "id": "24b2427b",
   "metadata": {},
   "outputs": [],
   "source": [
    "q = ''\n",
    "mode = sphinxapi.SPH_MATCH_ANY\n",
    "host = '127.0.0.1'\n",
    "port = 9312\n",
    "index = 'docs1'\n",
    "limit = 0\n",
    "\n",
    "# do query\n",
    "cl = sphinxapi.SphinxClient()\n",
    "cl.SetServer(host, port)\n",
    "cl.SetMatchMode(mode)\n",
    "cl.SetLimits(limit, max(limit, 1))\n",
    "#cl.SetFieldWeights({'title': 2, 'body': 3});\n",
    "cl.SetSelect('id, title, packedfactors()')\n",
    "#cl.SetRankingMode(SPH_RANK_EXPR, rankexpr=\"bm25\")\n",
    "cl.SetSortMode(sphinxapi.SPH_SORT_RELEVANCE)"
   ]
  },
  {
   "cell_type": "code",
   "execution_count": 27,
   "id": "c1f0b895",
   "metadata": {},
   "outputs": [
    {
     "data": {
      "text/plain": [
       "{'error': '',\n",
       " 'warning': 'packedfactors() and bm25f() requires using an expression ranker',\n",
       " 'status': 3,\n",
       " 'fields': ['title', 'body'],\n",
       " 'attrs': [['title', 7], ['packedfactors()', 1001]],\n",
       " 'matches': [{'id': 11,\n",
       "   'weight': 21768,\n",
       "   'attrs': {'title': 'аэропорт храброво новости', 'packedfactors()': ''}}],\n",
       " 'total': 17,\n",
       " 'total_found': 17,\n",
       " 'time': '0.036',\n",
       " 'words': [{'word': 'аэропорт', 'docs': 17, 'hits': 710}]}"
      ]
     },
     "execution_count": 27,
     "metadata": {},
     "output_type": "execute_result"
    }
   ],
   "source": [
    "res = cl.Query('аэропорт', index)\n",
    "res"
   ]
  },
  {
   "cell_type": "markdown",
   "id": "200ea57f",
   "metadata": {},
   "source": [
    "### SphinxQL"
   ]
  },
  {
   "cell_type": "markdown",
   "id": "02ab530f",
   "metadata": {},
   "source": [
    "option:  \n",
    "field_weights=(title=2, body=3)    \n",
    "ranker=bm25  "
   ]
  },
  {
   "cell_type": "markdown",
   "id": "3e2bd5ea",
   "metadata": {},
   "source": [
    "quorum matching, \"pick any 3 keywords out of this entire set\"/3  \n",
    "https://www.rupython.com/sphinx-search-engine-api-python-73748.html  \n",
    "https://sphinxsearch.com/docs/sphinx3.html#running-queries-via-mysql-shell"
   ]
  },
  {
   "cell_type": "markdown",
   "id": "2abe5116",
   "metadata": {},
   "source": [
    "bm25f(1.2, 0.75) = bm25a  \n",
    "BM25F(k1,b,{field_weights_list})  \n",
    "http://sphinxsearch.com/blog/2013/03/22/new-bm25-functions-and-idf-operators-in-custom-rankers/"
   ]
  },
  {
   "cell_type": "markdown",
   "id": "8205039c",
   "metadata": {},
   "source": [
    "SPH_RANK_SPH04 = sum((4*lcs+2*(min_hit_pos==1)+exact_hit)*user_weight)*1000+bm25  \n",
    "https://sphinxsearch.com/docs/manual-2.3.2.html#document-factors"
   ]
  },
  {
   "cell_type": "markdown",
   "id": "1ad69346",
   "metadata": {},
   "source": [
    "Quick summary of the ranking factors  \n",
    "http://sphinxsearch.com/docs/current/ranking-factors.html  \n",
    "bm25a, bm25f"
   ]
  },
  {
   "cell_type": "code",
   "execution_count": 8,
   "id": "41f4594b",
   "metadata": {},
   "outputs": [
    {
     "name": "stdout",
     "output_type": "stream",
     "text": [
      "1\n",
      "(80518, 'рождественская мануфактура зао рождественская мануфактура тверь производственное предприятие на ул спартака 47а на справке ру телефоны карта фото отзывы и оценки клиентов', '{\"bm15\":9571, \"bm25a\":11.018845, \"field_mask\":3, \"doc_word_count\":4, \"fields\":[{\"field\":0, \"lcs\":3, \"hit_count\":5, \"word_count\":3, \"tf_idf\":18.551353, \"min_idf\":3.094606, \"max_idf\":4.617383, \"sum_idf\":10.839363, \"min_hit_pos\":1, \"min_best_span_pos\":3, \"exact_hit\":0, \"exact_field_hit\":0, \"full_field_hit\":0, \"max_window_hits\":1, \"min_gaps\":0, \"exact_order\":0, \"lccs\":3, \"wlccs\":10.839363, \"atc\":4.878920, \"sum_idf_boost\":3.000000, \"is_noun_hits\":5, \"is_latin_hits\":0, \"is_number_hits\":0, \"has_digit_hits\":0, \"phrase_decay10\":0.525674, \"phrase_decay30\":0.475400}, {\"field\":1, \"lcs\":3, \"hit_count\":19, \"word_count\":4, \"tf_idf\":68.944572, \"min_idf\":0.993917, \"max_idf\":4.617383, \"sum_idf\":11.833281, \"min_hit_pos\":6, \"min_best_span_pos\":14, \"exact_hit\":0, \"exact_field_hit\":0, \"full_field_hit\":0, \"max_window_hits\":1, \"min_gaps\":121, \"exact_order\":0, \"lccs\":3, \"wlccs\":10.839363, \"atc\":5.800290, \"sum_idf_boost\":4.000000, \"is_noun_hits\":18, \"is_latin_hits\":0, \"is_number_hits\":1, \"has_digit_hits\":1, \"phrase_decay10\":0.413130, \"phrase_decay30\":0.322336}], \"words\":[{\"tf\":1, \"idf\":0.993917}, {\"tf\":0, \"idf\":0.987086}, {\"tf\":0, \"idf\":0.542458}, {\"tf\":3, \"idf\":3.127373}, {\"tf\":10, \"idf\":3.094606}, {\"tf\":10, \"idf\":4.617383}], \"query\":{\"max_lcs\":12, \"word_count\":6, \"is_noun_words\":4, \"is_latin_words\":0, \"is_number_words\":1, \"has_digit_words\":1, \"max_idf\":4.617383, \"min_idf\":0.542458, \"sum_idf\":13.362823}}', 35571.0)\n"
     ]
    }
   ],
   "source": [
    "with helpers.get_sphinx_conn() as sphinx_conn, sphinx_conn.cursor() as cursor:\n",
    "    match = '\\'\"2016 действует ли зао рождественская мануфактура\"/1\\''\n",
    "    query = 'SELECT id, title, factors(), weight() FROM docs WHERE MATCH(' + match + ') \\\n",
    "             LIMIT 0, 1 OPTION ranker=expr(\\'sum((4*lcs + 2*(min_hit_pos==1) + exact_hit)*user_weight)*1000 + bm25\\'),\\\n",
    "             field_weights=(title=1, body=1)'\n",
    "    cursor.execute(query)\n",
    "    rows = cursor.fetchall()\n",
    "    print(len(list(rows)))\n",
    "    print(*rows, sep='\\n')"
   ]
  },
  {
   "cell_type": "code",
   "execution_count": 9,
   "id": "1e603727",
   "metadata": {},
   "outputs": [
    {
     "name": "stdout",
     "output_type": "stream",
     "text": [
      "(80518, 'рождественская мануфактура зао рождественская мануфактура тверь производственное предприятие на ул спартака 47а на справке ру телефоны карта фото отзывы и оценки клиентов', 35571.0)\n"
     ]
    }
   ],
   "source": [
    "limit = 1\n",
    "ranker = 'expr(\\'sum((4*lcs + 2*(min_hit_pos==1) + exact_hit)*user_weight)*1000 + bm25\\')'\n",
    "fields = ['id', 'title', 'weight()']\n",
    "index = 'docs'\n",
    "query = '2016 действует ли зао рождественская мануфактура'\n",
    "rows = helpers.select_from_sphinx_wrapper(query, index, fields, limit, ranker)\n",
    "print(*rows, sep='\\n')"
   ]
  },
  {
   "cell_type": "code",
   "execution_count": 10,
   "id": "45e0c20f",
   "metadata": {},
   "outputs": [
    {
     "name": "stdout",
     "output_type": "stream",
     "text": [
      "(80518, 'рождественская мануфактура зао рождественская мануфактура тверь производственное предприятие на ул спартака 47а на справке ру телефоны карта фото отзывы и оценки клиентов', 269571.3)\n"
     ]
    }
   ],
   "source": [
    "limit = 1\n",
    "ranker = 'sph04'\n",
    "fields = ['id', 'title', 'weight()']\n",
    "index = 'docs'\n",
    "query = '2016 действует ли зао рождественская мануфактура'\n",
    "rows = helpers.select_from_sphinx_wrapper(query, index, fields, limit, ranker)\n",
    "print(*rows, sep='\\n')"
   ]
  },
  {
   "cell_type": "markdown",
   "id": "5d406bae",
   "metadata": {},
   "source": [
    "**call keywords**"
   ]
  },
  {
   "cell_type": "markdown",
   "id": "02f73b7f",
   "metadata": {},
   "source": [
    "tokenized, normalized, docs, hits, plain_idf, global_idf, has_global_idf, is_latin, in_noun, is_number, has_digit"
   ]
  },
  {
   "cell_type": "code",
   "execution_count": 195,
   "id": "7271a084",
   "metadata": {},
   "outputs": [
    {
     "name": "stdout",
     "output_type": "stream",
     "text": [
      "('1', '1', '1', '91', '2613', '0.094311', '0.000000', '0', '0', '0', '1', '1')\n",
      "('2', 'месяц', 'месяц', '48', '329', '0.733969', '0.000000', '0', '0', '1', '0', '0')\n",
      "('3', 'после', 'посол', '72', '1014', '0.328504', '0.000000', '0', '0', '1', '0', '0')\n",
      "('4', 'операции', 'операция', '31', '94', '1.171183', '0.000000', '0', '0', '1', '0', '0')\n",
      "('5', 'на', 'на', '100', '13812', '0.000000', '0.000000', '0', '0', '0', '0', '0')\n",
      "('6', 'кишечнику', 'кишечник', '2', '4', '3.912023', '0.000000', '0', '0', '1', '0', '0')\n",
      "('7', 'диета', 'диета', '8', '14', '2.525729', '0.000000', '0', '0', '1', '0', '0')\n",
      "('8', 'что', 'что', '90', '8002', '0.105361', '0.000000', '0', '0', '0', '0', '0')\n",
      "('9', 'можно', 'можно', '75', '1344', '0.287682', '0.000000', '0', '0', '0', '0', '0')\n",
      "('10', 'добавить', 'добавить', '59', '758', '0.527633', '0.000000', '0', '0', '0', '0', '0')\n"
     ]
    }
   ],
   "source": [
    "query = '1 месяц после операции на кишечнику диета что можно добавить'\n",
    "index = 'docs1'\n",
    "with helpers.get_sphinx_conn() as sphinx_conn, sphinx_conn.cursor() as cursor:\n",
    "    query = f\"call keywords('{query}', '{index}', 1)\"\n",
    "    cursor.execute(query)\n",
    "    rows = cursor.fetchall()\n",
    "    print(*rows, sep='\\n')"
   ]
  },
  {
   "cell_type": "markdown",
   "id": "e44b1335",
   "metadata": {},
   "source": [
    "**call snippets**"
   ]
  },
  {
   "cell_type": "code",
   "execution_count": 16,
   "id": "14e88e8e",
   "metadata": {},
   "outputs": [],
   "source": [
    "body = 'очень воспитанный мальчик упал в люк и закрыл его за собой добавить в избранное сделать стартовой разделы сайта главная страница команда сайта музыка хит парад тексты песен переводы песен flash игры стихи юмор анекдоты и стишки смешные картинки истории счетчики событий гостевая книга поддержка сайта вам понравился сайт sentido ru есть несколько способов помочь его развитию 1 отправить собственный перевод на сайт 2 стать модератором сайта получив права добавлять тексты стихи переводы на сайт для этого нужно отправить свои контакты администратору сайта 3 стать спонсором или партнером сайта подробности можно узнать здесь лучшие страницы первый раз на сайте рекомендуем посетить его лучшие страницы 1 уловить смысл песен fallen kiss the rain shape of my heart confessa my immortal je t aime stay it will rain 2 вспомнить прекрасные строки я могу тебя вечно ждать пролистнуть в листве березовой осиновой взглянуть на календарь произнося двадцать первое ночь понедельник 3 напеть давно забытый мотив бесконечности послушать мелодию о лютой ненависти и святой любви погрустить вдвоем вместе с летним дождем виджеты для вашего удобства мы создали виджеты быстрого доступа к сайту через главную страницу яндекса имеется возможность установить три виджета быстрого доступа как по отдельности так и все вместе 1 к переводам лучших иностранных песен 2 к текстам песен отечественных и иностранных исполнителей 3 к лучшим стихам и рассказам о любви классиков жанра и современных авторов для установки перейдите на страницу виджетов популярные стихи сайта двадцатка самых популярных стихов на сайте sentido ru 1 рождественский роберт я в глазах твоих утону можно 2 пушкин александр письмо онегина татьяне отрывок из романа евгений онегин 3 пушкин александр письмо татьяны онегину отрывок из романа евгений онегин 4 рождественский роберт будь пожалуйста послабее 5 асадов эдуард я могу тебя очень ждать 6 рождественский роберт мы совпали с тобой 7 пушкин александр я помню чудное мгновенье 8 асеев николай я не могу без тебя жить 9 есенин сергей заметался пожар голубой 10 есенин сергей ты меня не любишь не жалеешь 11 цветаева марина мне нравится что вы больны не мной 12 визбор юрий мне твердят что скоро ты любовь найдешь 13 асадов эдуард ты далеко сегодня от меня 14 высоцкая ольга любовь она бывает разной 15 ахматова анна двадцать первое ночь понедельник 16 северянин игорь встречаются чтоб расставаться 17 пастернак борис любить иных тяжелый крест 18 друнина юлия ты рядом 19 дементьев андрей ни о чем не жалейте 20 рождественский роберт приходить к тебе буква выбрать букву а б в г д е ж з и к л м н о п р с т у ф х ц ч ш щ э я автор произведение a б в г д е ж з и к л м н о п р с т у ф х ц ч ш щ э ю я вернуться к списку произведений автора асадов эдуард моя любовь ну каким ты владеешь секретом чем взяла меня и когда но с тобой я всегда всегда днем и ночью зимой и летом площадями ль иду большими иль за шумным сижу столом стоит мне шепнуть твое имя и уже мы с тобой вдвоем когда радуюсь или грущу я и когда обиды терплю и в веселье тебя люблю я и в несчастье тебя люблю даже если крепчайше сплю все равно я тебя люблю говорят что дней круговерть настоящих чувств не тревожит говорят будто только смерть навсегда погасить их может я не знаю последнего дня но без громких скажу речей смерть конечно сильней меня но любви моей не сильней и когда мой звонок пробъет и окончу я путь земной знай любовь моя не уйдет а останется тут с тобой подойдет без жалоб и слез и незримо для глаз чужих словно верный и добрый пес на колени положит нос и свернется у ног твоих лучшие поэты асадов эдуард ахматова анна блок александр есенин сергей набоков владимир пушкин александр цветаева марина избранные стихи я могу тебя очень ждать мне большего не надо я в глазах твоих утону можно ты рядом и все прекрасно я не могу без тебя жить ты далеко сегодня от меня ошибка двадцать первое ночь понедельник весенняя сказка дождя рассказ мы совпали с тобой я отпускаю тебя отпускаю любовь она бывает разной любим мы друг друга или нет в листве березовой осиновой обидная любовь встречаются чтоб расставаться письмо любимой твое лицо мне так знакомо есть в близости людей заветная черта ты меня не любишь не жалеешь ночь приходить к тебе любви начало было летом мне нравится что вы больны не мной для школьного возраста любовь покоряет обманно десятая заповедь ты хочешь сделать мир счастливым ты письмо мое милый не комкай ее душа как свет необычайный вечером поэма о первой нежности любить иных тяжелый крест рекомендуем установить виджет быстрого доступа ко всем стихам и рассказам общение все отзывы пожелания предложения пишите в гостевую книгу или шлите по e mail tosha22 yandex ru популярные переводы сайта двадцатка самых популярных переводов на сайте sentido ru 1 okean elzi океан эльзы на небі 2 okean elzi океан эльзы без бою 3 okean elzi океан эльзы обійми 4 sia chandelier 5 adele hello 6 imany don t be so shy 7 dzidzo дзідзьо ft vovazilvova павук 8 sting shape of my heart 9 olga kormuhina ольга кормухина путь 10 lara fabian je t aime 11 okean elzi океан эльзы я так хочу до тебе 12 bumboks бумбокс наодинці 13 blank and jones ft delerium fallen 14 sarah brightman hijo de la luna 15 bumboks бумбокс квіти в волоссі 16 bumboks бумбокс дитина 17 rihanna diamonds 18 okean elzi океан эльзы rendez vous 19 skillet awake and alive 20 david usher black black heart популярные тексты сайта двадцатка самых популярных текстов на сайте sentido ru 1 алла пугачева нас бьют мы летаем 2 ани лорак забирай 3 жуки батарейка 4 ирина дубцова люби меня долго 5 чиж и со на поле танки грохотали 6 нюша ангел 7 полина гагарина колыбельная 8 евро колян 9 градусы голая 10 ани лорак снится сон 11 виагра и мот кислород 12 нюша танцы на стеклах 13 елка около тебя 14 нервы слишком влюблен 15 machete токио нежность 16 сектор газа 30 лет 17 елка все зависит от нас самих 18 елка на большом воздушном шаре 19 тина кароль україна це ти 20 дискотека авария недетское время обновления сайта добавлены переводы песен 1 meg myers make a shadow 2 meg myers go 3 meg myers sorry 4 guano apes tribute 5 guano apes when the ships arrive 6 amy lee ft dave eggar lockdown 7 feeling numb drama 8 meg myers i die 9 tamoto beware 10 guano apes fanman добавлены тексты песен 1 серебро chocolate 2 дмитрий колдун поцелуй меня 3 баста и полина гагарина голос 4 леонид агутин птица черная 5 леонид агутин севастополь 6 леонид агутин отец рядом с тобой 7 леонид агутин мир зеленого цвета 8 нюша целуй 9 ирина дубцова бойфренд 10 мот маврикий мы всегда рады видеть вас на нашем сайте заходите почаще ведь здесь всегда уютно приятно и интересно полет нормальный идея и оформление сайта седельников антон aka tosha 1783 2015 правила использования сайта реклама на сайте'"
   ]
  },
  {
   "cell_type": "code",
   "execution_count": 66,
   "id": "21260bda",
   "metadata": {},
   "outputs": [],
   "source": [
    "def get_snippet(sphinx_conn, text, index, query, limit=1024):\n",
    "    query = '|'.join(query.split())\n",
    "    query = helpers.cut_query(query)\n",
    "    with sphinx_conn.cursor() as cursor:\n",
    "        query = f\"call snippets('{text}', '{index}', '{query}', '' as before_match, \\\n",
    "                '' as after_match, ' ' as chunk_separator, {limit} as limit, 1 as allow_empty)\"\n",
    "        cursor.execute(query)\n",
    "        row = cursor.fetchone()\n",
    "    return row[0].strip()"
   ]
  },
  {
   "cell_type": "code",
   "execution_count": 68,
   "id": "44ec6038",
   "metadata": {},
   "outputs": [
    {
     "name": "stdout",
     "output_type": "stream",
     "text": [
      "мальчик упал в люк и закрыл его за собой добавить в избранное сделать  flash игры стихи юмор анекдоты и стишки смешные картинки истории счетчики  вечно ждать пролистнуть в листве березовой осиновой взглянуть на календарь произнося двадцать  послушать мелодию о лютой ненависти и святой любви погрустить вдвоем вместе  2 к текстам песен отечественных и иностранных исполнителей 3 к лучшим  стихам и рассказам о любви классиков жанра  и современных авторов для установки перейдите   я всегда всегда днем и ночью зимой и летом площадями ль иду  когда обиды терплю и в веселье тебя люблю я и в несчастье тебя люблю даже  с тобой подойдет без жалоб и слез и незримо для глаз чужих  словно верный и добрый пес на колени положит  быстрого доступа ко всем стихам и рассказам общение все отзывы пожелания  колдун поцелуй меня 3 баста и полина гагарина голос 4 леонид  всегда уютно приятно и интересно полет нормальный идея и оформление сайта седельников\n"
     ]
    }
   ],
   "source": [
    "match = 'в и календарь'\n",
    "with helpers.get_sphinx_conn() as sphinx_conn:\n",
    "    print(get_snippet(sphinx_conn, body, 'docs', match, limit=1024))"
   ]
  },
  {
   "cell_type": "markdown",
   "id": "54512fd7",
   "metadata": {},
   "source": [
    "### Нормализация queries"
   ]
  },
  {
   "cell_type": "code",
   "execution_count": 109,
   "id": "93c92320",
   "metadata": {},
   "outputs": [],
   "source": [
    "queries_df = pd.read_csv('corrected_queries.tsv', sep='\\t')"
   ]
  },
  {
   "cell_type": "code",
   "execution_count": 135,
   "id": "79f3330b",
   "metadata": {},
   "outputs": [],
   "source": [
    "titles = queries_df.corrected_query.values"
   ]
  },
  {
   "cell_type": "code",
   "execution_count": 136,
   "id": "6c6189a0",
   "metadata": {},
   "outputs": [
    {
     "data": {
      "application/vnd.jupyter.widget-view+json": {
       "model_id": "135d5c01b2f84597b6b0ec0615ed961b",
       "version_major": 2,
       "version_minor": 0
      },
      "text/plain": [
       "HBox(children=(FloatProgress(value=0.0, max=6311.0), HTML(value='')))"
      ]
     },
     "metadata": {},
     "output_type": "display_data"
    },
    {
     "name": "stdout",
     "output_type": "stream",
     "text": [
      "\n"
     ]
    }
   ],
   "source": [
    "norm_titles = []\n",
    "index = 'docs'\n",
    "with helpers.get_sphinx_conn() as conn,  conn.cursor() as cursor:\n",
    "    for text in tqdm(titles, total=len(titles)):\n",
    "        norm_text = norm_doc(cursor, text, index)\n",
    "        norm_titles.append(norm_text)"
   ]
  },
  {
   "cell_type": "code",
   "execution_count": 141,
   "id": "fd3fcb53",
   "metadata": {},
   "outputs": [],
   "source": [
    "queries_df['query_norm'] = norm_titles"
   ]
  },
  {
   "cell_type": "code",
   "execution_count": 142,
   "id": "af9ee758",
   "metadata": {},
   "outputs": [],
   "source": [
    "queries_df.to_csv('corrected_queries.tsv', index=False, sep='\\t')"
   ]
  },
  {
   "cell_type": "markdown",
   "id": "e4dcfd8c",
   "metadata": {},
   "source": [
    "### Построение признаков"
   ]
  },
  {
   "cell_type": "code",
   "execution_count": 8,
   "id": "73edae12",
   "metadata": {},
   "outputs": [],
   "source": [
    "queries_df = pd.read_csv('corrected_queries.tsv', sep='\\t')"
   ]
  },
  {
   "cell_type": "code",
   "execution_count": 9,
   "id": "bc1fcfeb",
   "metadata": {},
   "outputs": [
    {
     "data": {
      "text/plain": [
       "6311"
      ]
     },
     "execution_count": 9,
     "metadata": {},
     "output_type": "execute_result"
    }
   ],
   "source": [
    "len(queries_df)"
   ]
  },
  {
   "cell_type": "code",
   "execution_count": 10,
   "id": "e6884516",
   "metadata": {},
   "outputs": [],
   "source": [
    "def get_sphinx_features_list(row):\n",
    "    sphinx_features = []\n",
    "    json_str = row[2].replace('-nan', '-100')\n",
    "    factor_dict = json.loads(json_str)\n",
    "    for key, value in factor_dict.items():\n",
    "        if key == 'fields':\n",
    "            for field_dict in value:\n",
    "                field_features = list(field_dict)[1:]\n",
    "                sphinx_features_field = [field_dict[k] for k in field_features]\n",
    "                sphinx_features.extend(sphinx_features_field)\n",
    "        elif key == 'query':\n",
    "            sphinx_features_query = [v for v in value.values()]\n",
    "            sphinx_features.extend(sphinx_features_query)\n",
    "        elif key == 'words':\n",
    "            continue\n",
    "        else:\n",
    "            sphinx_features.append(value)\n",
    "    return sphinx_features"
   ]
  },
  {
   "cell_type": "code",
   "execution_count": 1020,
   "id": "979d0d87",
   "metadata": {},
   "outputs": [],
   "source": [
    "def get_sphinx_features_dict(row):\n",
    "    sphinx_features = defaultdict(float)\n",
    "    json_str = row[2].replace('-nan', '-100')\n",
    "    factor_dict = json.loads(json_str)\n",
    "    for key, value in factor_dict.items():\n",
    "        if key == 'fields':\n",
    "            for field_dict in value:\n",
    "                prefix = str(field_dict['field']) + '_'\n",
    "                field_features = list(field_dict)[1:]\n",
    "                sphinx_features_field = {prefix + k: field_dict[k] for k in field_features}\n",
    "                sphinx_features.update(sphinx_features_field)\n",
    "        elif key == 'query':\n",
    "            prefix = 'query_'\n",
    "            sphinx_features_query = {prefix + k: v for k, v in value.items()}\n",
    "            sphinx_features.update(sphinx_features_query)\n",
    "        elif key == 'words':\n",
    "            sphinx_features['words'] = value\n",
    "        else:\n",
    "            prefix = 'document_'\n",
    "            sphinx_features[prefix + key] = value\n",
    "    return sphinx_features"
   ]
  },
  {
   "cell_type": "code",
   "execution_count": 1021,
   "id": "403bfe18",
   "metadata": {},
   "outputs": [],
   "source": [
    "limit = 1\n",
    "ranker = 'expr(\\'sum((4*lcs + 2*(min_hit_pos==1) + exact_hit)*user_weight)*1000 + bm25\\')'\n",
    "fields = ['id', 'title', 'factors()', 'weight()']\n",
    "index = 'docs'\n",
    "query = '2016 действует ли зао рождественская мануфактура'\n",
    "rows = helpers.select_from_sphinx_wrapper(query, index, fields, limit, ranker)"
   ]
  },
  {
   "cell_type": "code",
   "execution_count": 1022,
   "id": "b63d3ff4",
   "metadata": {},
   "outputs": [],
   "source": [
    "sphinx_features = get_sphinx_features_dict(rows[0])\n",
    "f_columns = list(sphinx_features.keys())"
   ]
  },
  {
   "cell_type": "code",
   "execution_count": 424,
   "id": "32fee112",
   "metadata": {},
   "outputs": [
    {
     "data": {
      "text/plain": [
       "64"
      ]
     },
     "execution_count": 424,
     "metadata": {},
     "output_type": "execute_result"
    }
   ],
   "source": [
    "len(f_columns)"
   ]
  },
  {
   "cell_type": "code",
   "execution_count": 1023,
   "id": "37d2e9b0",
   "metadata": {},
   "outputs": [
    {
     "data": {
      "text/plain": [
       "[{'tf': 1, 'idf': 0.993917},\n",
       " {'tf': 0, 'idf': 0.987086},\n",
       " {'tf': 0, 'idf': 0.542458},\n",
       " {'tf': 3, 'idf': 3.127373},\n",
       " {'tf': 10, 'idf': 3.094606},\n",
       " {'tf': 10, 'idf': 4.617383}]"
      ]
     },
     "execution_count": 1023,
     "metadata": {},
     "output_type": "execute_result"
    }
   ],
   "source": [
    "sphinx_features['words']"
   ]
  },
  {
   "cell_type": "code",
   "execution_count": 145,
   "id": "593096e5",
   "metadata": {},
   "outputs": [
    {
     "data": {
      "application/vnd.jupyter.widget-view+json": {
       "model_id": "a3b3dcb310204c1f87579cdefcd851b5",
       "version_major": 2,
       "version_minor": 0
      },
      "text/plain": [
       "HBox(children=(FloatProgress(value=0.0, max=6311.0), HTML(value='')))"
      ]
     },
     "metadata": {},
     "output_type": "display_data"
    },
    {
     "name": "stdout",
     "output_type": "stream",
     "text": [
      "\n"
     ]
    }
   ],
   "source": [
    "limit = 200\n",
    "ranker = 'expr(\\'sum((4*lcs + 2*(min_hit_pos==1) + exact_hit)*user_weight)*1000 + bm25\\')'\n",
    "fields = ['id', 'title', 'factors()', 'weight()']\n",
    "index = 'docs'\n",
    "qids = []\n",
    "dids = []\n",
    "titles = []\n",
    "sph04_list = []\n",
    "dq_features = {c: [] for c in f_columns}\n",
    "with get_sphinx_conn() as sphinx_conn:\n",
    "    for i, row in tqdm(queries_df.iterrows(), total=len(queries_df)):\n",
    "        query = row.corrected_query\n",
    "        qid = row.id\n",
    "        docs = helpers.select_from_sphinx(sphinx_conn, query, index, fields, limit, ranker)\n",
    "\n",
    "        for doc in docs:\n",
    "            qids.append(qid)\n",
    "            dids.append(doc[0])\n",
    "            titles.append(doc[1])\n",
    "            sph04_list.append(doc[3])\n",
    "            sphinx_features = get_sphinx_features_dict(doc)\n",
    "            for c in f_columns:\n",
    "                dq_features[c].append(sphinx_features[c])"
   ]
  },
  {
   "cell_type": "code",
   "execution_count": null,
   "id": "82f73974",
   "metadata": {},
   "outputs": [],
   "source": [
    "data_dict = {'query_id': qids, 'doc_id': dids, 'doc_title': titles, 'sph04': sph04_list}\n",
    "data_dict.update(dq_features)\n",
    "data_df = pd.DataFrame(data = data_dict)\n",
    "\n",
    "helpers.save_obj(data_df, '200_data_df')\n",
    "data_df.to_csv('200_data_df.csv', index=False, sep='\\t')"
   ]
  },
  {
   "cell_type": "markdown",
   "id": "e73f96fd",
   "metadata": {},
   "source": [
    "### Create dataset based on 'train.marks.tsv' for LTR"
   ]
  },
  {
   "cell_type": "code",
   "execution_count": 14,
   "id": "e37ae58b",
   "metadata": {},
   "outputs": [],
   "source": [
    "marks_df = pd.read_csv('train.marks.tsv', sep='\\t', header=None)\n",
    "marks_df.rename(columns={0: \"QueryID\", 1: \"DocID\", 2: \"Mark\"}, inplace=True)"
   ]
  },
  {
   "cell_type": "code",
   "execution_count": 39,
   "id": "1f0396ca",
   "metadata": {},
   "outputs": [],
   "source": [
    "def select_docs_by_id_list(query, ids, index, fields, limit, ranker):\n",
    "    with helpers.get_sphinx_conn() as sphinx_conn, sphinx_conn.cursor() as cursor:\n",
    "        match = '\\'\"' + query + '\"/1\\''\n",
    "        query = 'SELECT ' + ', '.join(fields) + ' FROM ' + index + ' WHERE MATCH(' + match + ') \\\n",
    "                 and id in (' + ','.join(ids) + ') LIMIT 0, ' + str(limit) + \\\n",
    "                ' OPTION ranker=' + ranker\n",
    "        cursor.execute(query)\n",
    "        rows = cursor.fetchall()\n",
    "    return rows"
   ]
  },
  {
   "cell_type": "code",
   "execution_count": 430,
   "id": "8d30b23c",
   "metadata": {},
   "outputs": [],
   "source": [
    "qids_to_select = np.unique(marks_df['QueryID'], return_counts=False)"
   ]
  },
  {
   "cell_type": "code",
   "execution_count": 431,
   "id": "706814f5",
   "metadata": {},
   "outputs": [
    {
     "data": {
      "application/vnd.jupyter.widget-view+json": {
       "model_id": "ddb12602de8f49958a5e144d8080ecd9",
       "version_major": 2,
       "version_minor": 0
      },
      "text/plain": [
       "HBox(children=(FloatProgress(value=0.0, max=2111.0), HTML(value='')))"
      ]
     },
     "metadata": {},
     "output_type": "display_data"
    },
    {
     "name": "stdout",
     "output_type": "stream",
     "text": [
      "\n"
     ]
    }
   ],
   "source": [
    "index = 'docs'\n",
    "ranker = 'expr(\\'sum((4*lcs + 2*(min_hit_pos==1) + exact_hit)*user_weight)*1000 + bm25\\')'\n",
    "fields = ['id', 'title', 'factors()', 'weight()']\n",
    "\n",
    "qids_mark = []\n",
    "dids_mark = []\n",
    "titles_mark = []\n",
    "sph04_list_mark = []\n",
    "dq_features_mark = {c: [] for c in f_columns}\n",
    "\n",
    "for qid in tqdm(qids_to_select, total=len(qids_to_select)):\n",
    "    ids = list(map(str, marks_df[marks_df.QueryID == qid].DocID.values))\n",
    "    limit = len(ids)\n",
    "    query = queries_df[queries_df.id == qid].corrected_query.values[0]\n",
    "    docs = select_docs_by_id_list(query, ids, index, fields, limit, ranker)\n",
    "    \n",
    "    for doc in docs:\n",
    "        qids_mark.append(qid)\n",
    "        dids_mark.append(doc[0])\n",
    "        titles_mark.append(doc[1])\n",
    "        sph04_list_mark.append(doc[3])\n",
    "        sphinx_features = get_sphinx_features_dict(doc)\n",
    "        for c in f_columns:\n",
    "            dq_features_mark[c].append(sphinx_features[c])"
   ]
  },
  {
   "cell_type": "markdown",
   "id": "7a18ec88",
   "metadata": {},
   "source": [
    "**Не получены данные по документам:**"
   ]
  },
  {
   "cell_type": "code",
   "execution_count": 5,
   "id": "c2bd03ee",
   "metadata": {},
   "outputs": [],
   "source": [
    "queries_df = pd.read_csv('corrected_queries.tsv', sep='\\t')"
   ]
  },
  {
   "cell_type": "code",
   "execution_count": 5,
   "id": "e2e2a2ae",
   "metadata": {},
   "outputs": [],
   "source": [
    "train_sphinx_df = pd.read_csv('train_sphinx_df.csv', sep='\\t')\n",
    "test_sphinx_df = pd.read_csv('test_sphinx_df.csv', sep='\\t')"
   ]
  },
  {
   "cell_type": "code",
   "execution_count": 6,
   "id": "9059b52a",
   "metadata": {},
   "outputs": [
    {
     "data": {
      "text/html": [
       "<div>\n",
       "<style scoped>\n",
       "    .dataframe tbody tr th:only-of-type {\n",
       "        vertical-align: middle;\n",
       "    }\n",
       "\n",
       "    .dataframe tbody tr th {\n",
       "        vertical-align: top;\n",
       "    }\n",
       "\n",
       "    .dataframe thead th {\n",
       "        text-align: right;\n",
       "    }\n",
       "</style>\n",
       "<table border=\"1\" class=\"dataframe\">\n",
       "  <thead>\n",
       "    <tr style=\"text-align: right;\">\n",
       "      <th></th>\n",
       "      <th>query_id</th>\n",
       "      <th>doc_id</th>\n",
       "      <th>sph04</th>\n",
       "      <th>document_bm15</th>\n",
       "      <th>document_bm25a</th>\n",
       "      <th>document_field_mask</th>\n",
       "      <th>document_doc_word_count</th>\n",
       "      <th>0_lcs</th>\n",
       "      <th>0_hit_count</th>\n",
       "      <th>0_word_count</th>\n",
       "      <th>...</th>\n",
       "      <th>query_max_lcs</th>\n",
       "      <th>query_word_count</th>\n",
       "      <th>query_is_noun_words</th>\n",
       "      <th>query_is_latin_words</th>\n",
       "      <th>query_is_number_words</th>\n",
       "      <th>query_has_digit_words</th>\n",
       "      <th>query_max_idf</th>\n",
       "      <th>query_min_idf</th>\n",
       "      <th>query_sum_idf</th>\n",
       "      <th>doc_url</th>\n",
       "    </tr>\n",
       "  </thead>\n",
       "  <tbody>\n",
       "    <tr>\n",
       "      <th>0</th>\n",
       "      <td>2</td>\n",
       "      <td>19489</td>\n",
       "      <td>6746.0</td>\n",
       "      <td>2746</td>\n",
       "      <td>1.620457</td>\n",
       "      <td>2</td>\n",
       "      <td>3</td>\n",
       "      <td>0.0</td>\n",
       "      <td>0.0</td>\n",
       "      <td>0.0</td>\n",
       "      <td>...</td>\n",
       "      <td>12</td>\n",
       "      <td>6</td>\n",
       "      <td>4</td>\n",
       "      <td>0</td>\n",
       "      <td>1</td>\n",
       "      <td>1</td>\n",
       "      <td>4.617383</td>\n",
       "      <td>0.542458</td>\n",
       "      <td>13.362823</td>\n",
       "      <td>www.historyru.com/doc/persons/xr/mem/book1a.html</td>\n",
       "    </tr>\n",
       "    <tr>\n",
       "      <th>1</th>\n",
       "      <td>2</td>\n",
       "      <td>30946</td>\n",
       "      <td>9405.0</td>\n",
       "      <td>5405</td>\n",
       "      <td>4.085787</td>\n",
       "      <td>2</td>\n",
       "      <td>4</td>\n",
       "      <td>0.0</td>\n",
       "      <td>0.0</td>\n",
       "      <td>0.0</td>\n",
       "      <td>...</td>\n",
       "      <td>12</td>\n",
       "      <td>6</td>\n",
       "      <td>4</td>\n",
       "      <td>0</td>\n",
       "      <td>1</td>\n",
       "      <td>1</td>\n",
       "      <td>4.617383</td>\n",
       "      <td>0.542458</td>\n",
       "      <td>13.362823</td>\n",
       "      <td>panoramakz.com/archiv/2002/46.htm</td>\n",
       "    </tr>\n",
       "    <tr>\n",
       "      <th>2</th>\n",
       "      <td>2</td>\n",
       "      <td>33190</td>\n",
       "      <td>8553.0</td>\n",
       "      <td>4553</td>\n",
       "      <td>4.028360</td>\n",
       "      <td>2</td>\n",
       "      <td>4</td>\n",
       "      <td>0.0</td>\n",
       "      <td>0.0</td>\n",
       "      <td>0.0</td>\n",
       "      <td>...</td>\n",
       "      <td>12</td>\n",
       "      <td>6</td>\n",
       "      <td>4</td>\n",
       "      <td>0</td>\n",
       "      <td>1</td>\n",
       "      <td>1</td>\n",
       "      <td>4.617383</td>\n",
       "      <td>0.542458</td>\n",
       "      <td>13.362823</td>\n",
       "      <td>cameroon.polpred.com/news/?detail=82&amp;ns=2&amp;page...</td>\n",
       "    </tr>\n",
       "    <tr>\n",
       "      <th>3</th>\n",
       "      <td>2</td>\n",
       "      <td>37143</td>\n",
       "      <td>8188.0</td>\n",
       "      <td>4188</td>\n",
       "      <td>4.095489</td>\n",
       "      <td>2</td>\n",
       "      <td>4</td>\n",
       "      <td>0.0</td>\n",
       "      <td>0.0</td>\n",
       "      <td>0.0</td>\n",
       "      <td>...</td>\n",
       "      <td>12</td>\n",
       "      <td>6</td>\n",
       "      <td>4</td>\n",
       "      <td>0</td>\n",
       "      <td>1</td>\n",
       "      <td>1</td>\n",
       "      <td>4.617383</td>\n",
       "      <td>0.542458</td>\n",
       "      <td>13.362823</td>\n",
       "      <td>www.rwandaforeigntrade.polpred.com/?ns=1</td>\n",
       "    </tr>\n",
       "    <tr>\n",
       "      <th>4</th>\n",
       "      <td>2</td>\n",
       "      <td>37469</td>\n",
       "      <td>10277.0</td>\n",
       "      <td>6277</td>\n",
       "      <td>4.572857</td>\n",
       "      <td>2</td>\n",
       "      <td>5</td>\n",
       "      <td>0.0</td>\n",
       "      <td>0.0</td>\n",
       "      <td>0.0</td>\n",
       "      <td>...</td>\n",
       "      <td>12</td>\n",
       "      <td>6</td>\n",
       "      <td>4</td>\n",
       "      <td>0</td>\n",
       "      <td>1</td>\n",
       "      <td>1</td>\n",
       "      <td>4.617383</td>\n",
       "      <td>0.542458</td>\n",
       "      <td>13.362823</td>\n",
       "      <td>srilanka.polpred.com/news?detail=156&amp;ns=2&amp;page=2</td>\n",
       "    </tr>\n",
       "    <tr>\n",
       "      <th>...</th>\n",
       "      <td>...</td>\n",
       "      <td>...</td>\n",
       "      <td>...</td>\n",
       "      <td>...</td>\n",
       "      <td>...</td>\n",
       "      <td>...</td>\n",
       "      <td>...</td>\n",
       "      <td>...</td>\n",
       "      <td>...</td>\n",
       "      <td>...</td>\n",
       "      <td>...</td>\n",
       "      <td>...</td>\n",
       "      <td>...</td>\n",
       "      <td>...</td>\n",
       "      <td>...</td>\n",
       "      <td>...</td>\n",
       "      <td>...</td>\n",
       "      <td>...</td>\n",
       "      <td>...</td>\n",
       "      <td>...</td>\n",
       "      <td>...</td>\n",
       "    </tr>\n",
       "    <tr>\n",
       "      <th>199881</th>\n",
       "      <td>6305</td>\n",
       "      <td>569261</td>\n",
       "      <td>17526.0</td>\n",
       "      <td>1526</td>\n",
       "      <td>1.456820</td>\n",
       "      <td>3</td>\n",
       "      <td>4</td>\n",
       "      <td>1.0</td>\n",
       "      <td>1.0</td>\n",
       "      <td>1.0</td>\n",
       "      <td>...</td>\n",
       "      <td>10</td>\n",
       "      <td>5</td>\n",
       "      <td>1</td>\n",
       "      <td>0</td>\n",
       "      <td>0</td>\n",
       "      <td>0</td>\n",
       "      <td>3.049739</td>\n",
       "      <td>0.015481</td>\n",
       "      <td>4.752659</td>\n",
       "      <td>sat-prof.com.ua/archive/index.php/t-3152-p-2.html</td>\n",
       "    </tr>\n",
       "    <tr>\n",
       "      <th>199882</th>\n",
       "      <td>6305</td>\n",
       "      <td>572086</td>\n",
       "      <td>22770.0</td>\n",
       "      <td>2770</td>\n",
       "      <td>3.717402</td>\n",
       "      <td>2</td>\n",
       "      <td>5</td>\n",
       "      <td>0.0</td>\n",
       "      <td>0.0</td>\n",
       "      <td>0.0</td>\n",
       "      <td>...</td>\n",
       "      <td>10</td>\n",
       "      <td>5</td>\n",
       "      <td>1</td>\n",
       "      <td>0</td>\n",
       "      <td>0</td>\n",
       "      <td>0</td>\n",
       "      <td>3.049739</td>\n",
       "      <td>0.015481</td>\n",
       "      <td>4.752659</td>\n",
       "      <td>alove.in.ua/poem/1887/</td>\n",
       "    </tr>\n",
       "    <tr>\n",
       "      <th>199883</th>\n",
       "      <td>6305</td>\n",
       "      <td>573311</td>\n",
       "      <td>8879.0</td>\n",
       "      <td>879</td>\n",
       "      <td>1.062787</td>\n",
       "      <td>2</td>\n",
       "      <td>3</td>\n",
       "      <td>0.0</td>\n",
       "      <td>0.0</td>\n",
       "      <td>0.0</td>\n",
       "      <td>...</td>\n",
       "      <td>10</td>\n",
       "      <td>5</td>\n",
       "      <td>1</td>\n",
       "      <td>0</td>\n",
       "      <td>0</td>\n",
       "      <td>0</td>\n",
       "      <td>3.049739</td>\n",
       "      <td>0.015481</td>\n",
       "      <td>4.752659</td>\n",
       "      <td>meri.kiev.ua/2008/11/</td>\n",
       "    </tr>\n",
       "    <tr>\n",
       "      <th>199884</th>\n",
       "      <td>6305</td>\n",
       "      <td>579920</td>\n",
       "      <td>48629.0</td>\n",
       "      <td>4629</td>\n",
       "      <td>4.714674</td>\n",
       "      <td>3</td>\n",
       "      <td>5</td>\n",
       "      <td>5.0</td>\n",
       "      <td>6.0</td>\n",
       "      <td>5.0</td>\n",
       "      <td>...</td>\n",
       "      <td>10</td>\n",
       "      <td>5</td>\n",
       "      <td>1</td>\n",
       "      <td>0</td>\n",
       "      <td>0</td>\n",
       "      <td>0</td>\n",
       "      <td>3.049739</td>\n",
       "      <td>0.015481</td>\n",
       "      <td>4.752659</td>\n",
       "      <td>pleer.ws/search/%D1%8F%20%D0%B2%20%D0%B3%D0%BB...</td>\n",
       "    </tr>\n",
       "    <tr>\n",
       "      <th>199885</th>\n",
       "      <td>6305</td>\n",
       "      <td>581775</td>\n",
       "      <td>30295.0</td>\n",
       "      <td>4295</td>\n",
       "      <td>4.615671</td>\n",
       "      <td>3</td>\n",
       "      <td>5</td>\n",
       "      <td>3.0</td>\n",
       "      <td>9.0</td>\n",
       "      <td>5.0</td>\n",
       "      <td>...</td>\n",
       "      <td>10</td>\n",
       "      <td>5</td>\n",
       "      <td>1</td>\n",
       "      <td>0</td>\n",
       "      <td>0</td>\n",
       "      <td>0</td>\n",
       "      <td>3.049739</td>\n",
       "      <td>0.015481</td>\n",
       "      <td>4.752659</td>\n",
       "      <td>xn--e1aajgqkncdd3h.xn--p1ai/stihi/ja-lubit-teb...</td>\n",
       "    </tr>\n",
       "  </tbody>\n",
       "</table>\n",
       "<p>199886 rows × 67 columns</p>\n",
       "</div>"
      ],
      "text/plain": [
       "        query_id  doc_id    sph04  document_bm15  document_bm25a  \\\n",
       "0              2   19489   6746.0           2746        1.620457   \n",
       "1              2   30946   9405.0           5405        4.085787   \n",
       "2              2   33190   8553.0           4553        4.028360   \n",
       "3              2   37143   8188.0           4188        4.095489   \n",
       "4              2   37469  10277.0           6277        4.572857   \n",
       "...          ...     ...      ...            ...             ...   \n",
       "199881      6305  569261  17526.0           1526        1.456820   \n",
       "199882      6305  572086  22770.0           2770        3.717402   \n",
       "199883      6305  573311   8879.0            879        1.062787   \n",
       "199884      6305  579920  48629.0           4629        4.714674   \n",
       "199885      6305  581775  30295.0           4295        4.615671   \n",
       "\n",
       "        document_field_mask  document_doc_word_count  0_lcs  0_hit_count  \\\n",
       "0                         2                        3    0.0          0.0   \n",
       "1                         2                        4    0.0          0.0   \n",
       "2                         2                        4    0.0          0.0   \n",
       "3                         2                        4    0.0          0.0   \n",
       "4                         2                        5    0.0          0.0   \n",
       "...                     ...                      ...    ...          ...   \n",
       "199881                    3                        4    1.0          1.0   \n",
       "199882                    2                        5    0.0          0.0   \n",
       "199883                    2                        3    0.0          0.0   \n",
       "199884                    3                        5    5.0          6.0   \n",
       "199885                    3                        5    3.0          9.0   \n",
       "\n",
       "        0_word_count  ...  query_max_lcs  query_word_count  \\\n",
       "0                0.0  ...             12                 6   \n",
       "1                0.0  ...             12                 6   \n",
       "2                0.0  ...             12                 6   \n",
       "3                0.0  ...             12                 6   \n",
       "4                0.0  ...             12                 6   \n",
       "...              ...  ...            ...               ...   \n",
       "199881           1.0  ...             10                 5   \n",
       "199882           0.0  ...             10                 5   \n",
       "199883           0.0  ...             10                 5   \n",
       "199884           5.0  ...             10                 5   \n",
       "199885           5.0  ...             10                 5   \n",
       "\n",
       "        query_is_noun_words  query_is_latin_words  query_is_number_words  \\\n",
       "0                         4                     0                      1   \n",
       "1                         4                     0                      1   \n",
       "2                         4                     0                      1   \n",
       "3                         4                     0                      1   \n",
       "4                         4                     0                      1   \n",
       "...                     ...                   ...                    ...   \n",
       "199881                    1                     0                      0   \n",
       "199882                    1                     0                      0   \n",
       "199883                    1                     0                      0   \n",
       "199884                    1                     0                      0   \n",
       "199885                    1                     0                      0   \n",
       "\n",
       "        query_has_digit_words  query_max_idf  query_min_idf  query_sum_idf  \\\n",
       "0                           1       4.617383       0.542458      13.362823   \n",
       "1                           1       4.617383       0.542458      13.362823   \n",
       "2                           1       4.617383       0.542458      13.362823   \n",
       "3                           1       4.617383       0.542458      13.362823   \n",
       "4                           1       4.617383       0.542458      13.362823   \n",
       "...                       ...            ...            ...            ...   \n",
       "199881                      0       3.049739       0.015481       4.752659   \n",
       "199882                      0       3.049739       0.015481       4.752659   \n",
       "199883                      0       3.049739       0.015481       4.752659   \n",
       "199884                      0       3.049739       0.015481       4.752659   \n",
       "199885                      0       3.049739       0.015481       4.752659   \n",
       "\n",
       "                                                  doc_url  \n",
       "0        www.historyru.com/doc/persons/xr/mem/book1a.html  \n",
       "1                       panoramakz.com/archiv/2002/46.htm  \n",
       "2       cameroon.polpred.com/news/?detail=82&ns=2&page...  \n",
       "3                www.rwandaforeigntrade.polpred.com/?ns=1  \n",
       "4        srilanka.polpred.com/news?detail=156&ns=2&page=2  \n",
       "...                                                   ...  \n",
       "199881  sat-prof.com.ua/archive/index.php/t-3152-p-2.html  \n",
       "199882                             alove.in.ua/poem/1887/  \n",
       "199883                              meri.kiev.ua/2008/11/  \n",
       "199884  pleer.ws/search/%D1%8F%20%D0%B2%20%D0%B3%D0%BB...  \n",
       "199885  xn--e1aajgqkncdd3h.xn--p1ai/stihi/ja-lubit-teb...  \n",
       "\n",
       "[199886 rows x 67 columns]"
      ]
     },
     "execution_count": 6,
     "metadata": {},
     "output_type": "execute_result"
    }
   ],
   "source": [
    "train_sphinx_df"
   ]
  },
  {
   "cell_type": "code",
   "execution_count": 7,
   "id": "73c27575",
   "metadata": {},
   "outputs": [],
   "source": [
    "train_marks_df = pd.read_csv('train.marks.tsv', sep='\\t', header=None)\n",
    "train_marks_df.rename(columns={0: \"query_id\", 1: \"doc_id\", 2: \"mark\"}, inplace=True)\n",
    "sample_df = pd.read_csv('sample.csv', sep=',')\n",
    "sample_df.rename(columns={'QueryId': \"query_id\", 'DocumentId': \"doc_id\"}, inplace=True)"
   ]
  },
  {
   "cell_type": "code",
   "execution_count": 29,
   "id": "cee5ed45",
   "metadata": {},
   "outputs": [
    {
     "data": {
      "text/plain": [
       "2193"
      ]
     },
     "execution_count": 29,
     "metadata": {},
     "output_type": "execute_result"
    }
   ],
   "source": [
    "train_marks_df.shape[0] - train_sphinx_df.shape[0]"
   ]
  },
  {
   "cell_type": "code",
   "execution_count": 20,
   "id": "f10dc663",
   "metadata": {},
   "outputs": [
    {
     "data": {
      "text/plain": [
       "4187"
      ]
     },
     "execution_count": 20,
     "metadata": {},
     "output_type": "execute_result"
    }
   ],
   "source": [
    "sample_df.shape[0] - test_sphinx_df.shape[0]"
   ]
  },
  {
   "cell_type": "code",
   "execution_count": 10,
   "id": "f212eada",
   "metadata": {},
   "outputs": [],
   "source": [
    "dids_train_sphinx = np.unique(train_sphinx_df['doc_id'], return_counts=False)\n",
    "not_in_train_sphinx_df = train_marks_df.loc[~train_marks_df['doc_id'].isin(dids_train_sphinx)]"
   ]
  },
  {
   "cell_type": "code",
   "execution_count": 34,
   "id": "9889bce1",
   "metadata": {},
   "outputs": [
    {
     "data": {
      "text/plain": [
       "(2045, 3)"
      ]
     },
     "execution_count": 34,
     "metadata": {},
     "output_type": "execute_result"
    }
   ],
   "source": [
    "not_in_train_sphinx_df.shape"
   ]
  },
  {
   "cell_type": "code",
   "execution_count": 13,
   "id": "c79eca5d",
   "metadata": {},
   "outputs": [
    {
     "data": {
      "text/html": [
       "<div>\n",
       "<style scoped>\n",
       "    .dataframe tbody tr th:only-of-type {\n",
       "        vertical-align: middle;\n",
       "    }\n",
       "\n",
       "    .dataframe tbody tr th {\n",
       "        vertical-align: top;\n",
       "    }\n",
       "\n",
       "    .dataframe thead th {\n",
       "        text-align: right;\n",
       "    }\n",
       "</style>\n",
       "<table border=\"1\" class=\"dataframe\">\n",
       "  <thead>\n",
       "    <tr style=\"text-align: right;\">\n",
       "      <th></th>\n",
       "      <th>query_id</th>\n",
       "      <th>doc_id</th>\n",
       "      <th>mark</th>\n",
       "    </tr>\n",
       "  </thead>\n",
       "  <tbody>\n",
       "    <tr>\n",
       "      <th>40090</th>\n",
       "      <td>1261</td>\n",
       "      <td>332</td>\n",
       "      <td>1</td>\n",
       "    </tr>\n",
       "    <tr>\n",
       "      <th>60084</th>\n",
       "      <td>1946</td>\n",
       "      <td>360</td>\n",
       "      <td>0</td>\n",
       "    </tr>\n",
       "    <tr>\n",
       "      <th>32022</th>\n",
       "      <td>1019</td>\n",
       "      <td>540</td>\n",
       "      <td>1</td>\n",
       "    </tr>\n",
       "    <tr>\n",
       "      <th>29776</th>\n",
       "      <td>930</td>\n",
       "      <td>1158</td>\n",
       "      <td>1</td>\n",
       "    </tr>\n",
       "    <tr>\n",
       "      <th>50513</th>\n",
       "      <td>1616</td>\n",
       "      <td>1422</td>\n",
       "      <td>0</td>\n",
       "    </tr>\n",
       "    <tr>\n",
       "      <th>...</th>\n",
       "      <td>...</td>\n",
       "      <td>...</td>\n",
       "      <td>...</td>\n",
       "    </tr>\n",
       "    <tr>\n",
       "      <th>2995</th>\n",
       "      <td>96</td>\n",
       "      <td>582054</td>\n",
       "      <td>1</td>\n",
       "    </tr>\n",
       "    <tr>\n",
       "      <th>79472</th>\n",
       "      <td>2520</td>\n",
       "      <td>582078</td>\n",
       "      <td>1</td>\n",
       "    </tr>\n",
       "    <tr>\n",
       "      <th>79487</th>\n",
       "      <td>2520</td>\n",
       "      <td>582138</td>\n",
       "      <td>1</td>\n",
       "    </tr>\n",
       "    <tr>\n",
       "      <th>79488</th>\n",
       "      <td>2520</td>\n",
       "      <td>582139</td>\n",
       "      <td>1</td>\n",
       "    </tr>\n",
       "    <tr>\n",
       "      <th>79489</th>\n",
       "      <td>2520</td>\n",
       "      <td>582140</td>\n",
       "      <td>1</td>\n",
       "    </tr>\n",
       "  </tbody>\n",
       "</table>\n",
       "<p>2045 rows × 3 columns</p>\n",
       "</div>"
      ],
      "text/plain": [
       "       query_id  doc_id  mark\n",
       "40090      1261     332     1\n",
       "60084      1946     360     0\n",
       "32022      1019     540     1\n",
       "29776       930    1158     1\n",
       "50513      1616    1422     0\n",
       "...         ...     ...   ...\n",
       "2995         96  582054     1\n",
       "79472      2520  582078     1\n",
       "79487      2520  582138     1\n",
       "79488      2520  582139     1\n",
       "79489      2520  582140     1\n",
       "\n",
       "[2045 rows x 3 columns]"
      ]
     },
     "execution_count": 13,
     "metadata": {},
     "output_type": "execute_result"
    }
   ],
   "source": [
    "not_in_train_sphinx_df.sort_values(by=['doc_id']) #[not_in_train_sphinx_df.mark == 4]"
   ]
  },
  {
   "cell_type": "code",
   "execution_count": null,
   "id": "901ed1c0",
   "metadata": {},
   "outputs": [],
   "source": [
    "not_in_train_sphinx_df.sort_values(by=['doc_id'])"
   ]
  },
  {
   "cell_type": "code",
   "execution_count": 54,
   "id": "f567ada1",
   "metadata": {},
   "outputs": [
    {
     "name": "stdout",
     "output_type": "stream",
     "text": [
      "\n"
     ]
    }
   ],
   "source": [
    "index = 'docs'\n",
    "ranker = 'expr(\\'sum((4*lcs + 2*(min_hit_pos==1) + exact_hit)*user_weight)*1000 + bm25\\')'\n",
    "fields = ['id', 'title', 'factors()', 'weight()']\n",
    "qid = 4420\n",
    "query = queries_df[queries_df.id == qid].corrected_query.values[0]\n",
    "ids = [str(8303)]\n",
    "limit = 1\n",
    "docs = select_docs_by_id_list(query, ids, index, fields, limit, ranker)\n",
    "print(*docs)"
   ]
  },
  {
   "cell_type": "code",
   "execution_count": 55,
   "id": "3ae3ff89",
   "metadata": {},
   "outputs": [
    {
     "data": {
      "text/plain": [
       "'ли экспресс'"
      ]
     },
     "execution_count": 55,
     "metadata": {},
     "output_type": "execute_result"
    }
   ],
   "source": [
    "query"
   ]
  },
  {
   "cell_type": "markdown",
   "id": "890c0466",
   "metadata": {},
   "source": [
    "По части документов пустой title, body - не ясно почему оценка ассесоров > 0."
   ]
  },
  {
   "cell_type": "code",
   "execution_count": 57,
   "id": "8a804cb9",
   "metadata": {},
   "outputs": [],
   "source": [
    "dids_test_sphinx = np.unique(test_sphinx_df['doc_id'], return_counts=False)\n",
    "not_in_test_sphinx_df = sample_df.loc[~sample_df['doc_id'].isin(dids_test_sphinx)]"
   ]
  },
  {
   "cell_type": "code",
   "execution_count": 59,
   "id": "389aa6cb",
   "metadata": {},
   "outputs": [
    {
     "data": {
      "text/html": [
       "<div>\n",
       "<style scoped>\n",
       "    .dataframe tbody tr th:only-of-type {\n",
       "        vertical-align: middle;\n",
       "    }\n",
       "\n",
       "    .dataframe tbody tr th {\n",
       "        vertical-align: top;\n",
       "    }\n",
       "\n",
       "    .dataframe thead th {\n",
       "        text-align: right;\n",
       "    }\n",
       "</style>\n",
       "<table border=\"1\" class=\"dataframe\">\n",
       "  <thead>\n",
       "    <tr style=\"text-align: right;\">\n",
       "      <th></th>\n",
       "      <th>query_id</th>\n",
       "      <th>doc_id</th>\n",
       "    </tr>\n",
       "  </thead>\n",
       "  <tbody>\n",
       "    <tr>\n",
       "      <th>10</th>\n",
       "      <td>0</td>\n",
       "      <td>107045</td>\n",
       "    </tr>\n",
       "    <tr>\n",
       "      <th>36</th>\n",
       "      <td>0</td>\n",
       "      <td>515943</td>\n",
       "    </tr>\n",
       "  </tbody>\n",
       "</table>\n",
       "</div>"
      ],
      "text/plain": [
       "    query_id  doc_id\n",
       "10         0  107045\n",
       "36         0  515943"
      ]
     },
     "execution_count": 59,
     "metadata": {},
     "output_type": "execute_result"
    }
   ],
   "source": [
    "not_in_test_sphinx_df[:2]"
   ]
  },
  {
   "cell_type": "markdown",
   "id": "f2f830bc",
   "metadata": {},
   "source": [
    "title пустой, body = 'aaqqsswwddeeffrr'"
   ]
  },
  {
   "cell_type": "code",
   "execution_count": 65,
   "id": "8eaeb771",
   "metadata": {},
   "outputs": [],
   "source": [
    "query = 'aaqqsswwddeeffrr'\n",
    "limit = 2_000\n",
    "ranker = 'sph04'\n",
    "fields = ['id', 'title', 'weight()']\n",
    "index = 'docs'\n",
    "rows = helpers.select_from_sphinx_wrapper(query, index, fields, limit, ranker)"
   ]
  },
  {
   "cell_type": "code",
   "execution_count": 66,
   "id": "33bbcc06",
   "metadata": {},
   "outputs": [
    {
     "data": {
      "text/plain": [
       "1000"
      ]
     },
     "execution_count": 66,
     "metadata": {},
     "output_type": "execute_result"
    }
   ],
   "source": [
    "len(rows)"
   ]
  },
  {
   "cell_type": "markdown",
   "id": "1a665cbe",
   "metadata": {},
   "source": [
    "Таких документов > 1000"
   ]
  },
  {
   "cell_type": "markdown",
   "id": "c742a5db",
   "metadata": {},
   "source": [
    "**Добавляем информацию по tf слов, чтобы получить doc_snippet**"
   ]
  },
  {
   "cell_type": "code",
   "execution_count": 432,
   "id": "1e6dcfe9",
   "metadata": {},
   "outputs": [],
   "source": [
    "train_data_dict = {'query_id': qids_mark, 'doc_id': dids_mark }\n",
    "train_data_dict.update(dq_features_mark)\n",
    "train_words_df = pd.DataFrame(data = train_data_dict)\n",
    "train_words_df.to_csv('train_words_df.csv', index=False, sep='\\t')"
   ]
  },
  {
   "cell_type": "markdown",
   "id": "3e1f3d3e",
   "metadata": {},
   "source": [
    "**Нормализация doc_title**"
   ]
  },
  {
   "cell_type": "code",
   "execution_count": 129,
   "id": "8aa8949e",
   "metadata": {},
   "outputs": [],
   "source": [
    "def norm_doc(cursor, text, index):\n",
    "    query = f\"call keywords('{text}', '{index}')\"\n",
    "    cursor.execute(query)\n",
    "    rows = cursor.fetchall()\n",
    "    return ' '.join([row[2] for row in rows])"
   ]
  },
  {
   "cell_type": "code",
   "execution_count": 129,
   "id": "4961dd55",
   "metadata": {},
   "outputs": [],
   "source": [
    "def norm_doc_wrapper(data):\n",
    "    text = data[0]\n",
    "    index = data[1]\n",
    "    with helpers.get_sphinx_conn() as conn, sphinx_conn.cursor() as cursor:\n",
    "        norm_text = norm_doc(cursor, text, index)\n",
    "    # счетчик должен атомарно обновиться\n",
    "    with lock:\n",
    "        pbar.update(1)\n",
    "    return norm_text"
   ]
  },
  {
   "cell_type": "code",
   "execution_count": 28,
   "id": "4bf18de1",
   "metadata": {},
   "outputs": [
    {
     "data": {
      "application/vnd.jupyter.widget-view+json": {
       "model_id": "94caa58fdf674d8aa1c8bbf51c5e5d64",
       "version_major": 2,
       "version_minor": 0
      },
      "text/plain": [
       "HBox(children=(FloatProgress(value=0.0, max=199886.0), HTML(value='')))"
      ]
     },
     "metadata": {},
     "output_type": "display_data"
    },
    {
     "name": "stdout",
     "output_type": "stream",
     "text": [
      "\n"
     ]
    }
   ],
   "source": [
    "norm_titles_mark = []\n",
    "index = 'docs'\n",
    "with helpers.get_sphinx_conn() as conn,  conn.cursor() as cursor:\n",
    "    for text in tqdm(titles_mark, total=len(titles_mark)):\n",
    "        norm_text = norm_doc(cursor, text, index)\n",
    "        norm_titles_mark.append(norm_text)"
   ]
  },
  {
   "cell_type": "code",
   "execution_count": 121,
   "id": "d012659a",
   "metadata": {},
   "outputs": [],
   "source": [
    "data_mark_df = pd.read_csv('mark_data_df.csv', sep='\\t')"
   ]
  },
  {
   "cell_type": "code",
   "execution_count": 145,
   "id": "c0f4f5c7",
   "metadata": {},
   "outputs": [
    {
     "data": {
      "text/html": [
       "<div>\n",
       "<style scoped>\n",
       "    .dataframe tbody tr th:only-of-type {\n",
       "        vertical-align: middle;\n",
       "    }\n",
       "\n",
       "    .dataframe tbody tr th {\n",
       "        vertical-align: top;\n",
       "    }\n",
       "\n",
       "    .dataframe thead th {\n",
       "        text-align: right;\n",
       "    }\n",
       "</style>\n",
       "<table border=\"1\" class=\"dataframe\">\n",
       "  <thead>\n",
       "    <tr style=\"text-align: right;\">\n",
       "      <th></th>\n",
       "      <th>query_id</th>\n",
       "      <th>doc_id</th>\n",
       "      <th>doc_title</th>\n",
       "      <th>doc_title_norm</th>\n",
       "      <th>doc_snippet</th>\n",
       "      <th>sph04</th>\n",
       "      <th>document_bm15</th>\n",
       "      <th>document_bm25a</th>\n",
       "      <th>document_field_mask</th>\n",
       "      <th>document_doc_word_count</th>\n",
       "      <th>...</th>\n",
       "      <th>1_phrase_decay30</th>\n",
       "      <th>query_max_lcs</th>\n",
       "      <th>query_word_count</th>\n",
       "      <th>query_is_noun_words</th>\n",
       "      <th>query_is_latin_words</th>\n",
       "      <th>query_is_number_words</th>\n",
       "      <th>query_has_digit_words</th>\n",
       "      <th>query_max_idf</th>\n",
       "      <th>query_min_idf</th>\n",
       "      <th>query_sum_idf</th>\n",
       "    </tr>\n",
       "  </thead>\n",
       "  <tbody>\n",
       "    <tr>\n",
       "      <th>0</th>\n",
       "      <td>2</td>\n",
       "      <td>80518</td>\n",
       "      <td>рождественская мануфактура зао рождественская ...</td>\n",
       "      <td>рождественский мануфактура зао рождественский ...</td>\n",
       "      <td>NaN</td>\n",
       "      <td>35571.0</td>\n",
       "      <td>9571</td>\n",
       "      <td>11.018845</td>\n",
       "      <td>3</td>\n",
       "      <td>4</td>\n",
       "      <td>...</td>\n",
       "      <td>0.322336</td>\n",
       "      <td>12</td>\n",
       "      <td>6</td>\n",
       "      <td>4</td>\n",
       "      <td>0</td>\n",
       "      <td>1</td>\n",
       "      <td>1</td>\n",
       "      <td>4.617383</td>\n",
       "      <td>0.542458</td>\n",
       "      <td>13.362823</td>\n",
       "    </tr>\n",
       "  </tbody>\n",
       "</table>\n",
       "<p>1 rows × 69 columns</p>\n",
       "</div>"
      ],
      "text/plain": [
       "   query_id  doc_id                                          doc_title  \\\n",
       "0         2   80518  рождественская мануфактура зао рождественская ...   \n",
       "\n",
       "                                      doc_title_norm  doc_snippet    sph04  \\\n",
       "0  рождественский мануфактура зао рождественский ...          NaN  35571.0   \n",
       "\n",
       "   document_bm15  document_bm25a  document_field_mask  \\\n",
       "0           9571       11.018845                    3   \n",
       "\n",
       "   document_doc_word_count  ...  1_phrase_decay30  query_max_lcs  \\\n",
       "0                        4  ...          0.322336             12   \n",
       "\n",
       "   query_word_count  query_is_noun_words  query_is_latin_words  \\\n",
       "0                 6                    4                     0   \n",
       "\n",
       "   query_is_number_words  query_has_digit_words  query_max_idf  query_min_idf  \\\n",
       "0                      1                      1       4.617383       0.542458   \n",
       "\n",
       "   query_sum_idf  \n",
       "0      13.362823  \n",
       "\n",
       "[1 rows x 69 columns]"
      ]
     },
     "execution_count": 145,
     "metadata": {},
     "output_type": "execute_result"
    }
   ],
   "source": [
    "data_mark_df[:1]"
   ]
  },
  {
   "cell_type": "markdown",
   "id": "6791d9b5",
   "metadata": {},
   "source": [
    "**Добавить snippet для body**"
   ]
  },
  {
   "cell_type": "code",
   "execution_count": 111,
   "id": "f9d845b5",
   "metadata": {},
   "outputs": [],
   "source": [
    "def get_body(sql_conn, did):\n",
    "    with sql_conn.cursor() as cursor:\n",
    "        cursor.execute(f'SELECT top 1 [DocContent] FROM [ir].[dbo].[docs] where DocId={did}')\n",
    "        text = cursor.fetchone()\n",
    "    return text[0]"
   ]
  },
  {
   "cell_type": "code",
   "execution_count": 112,
   "id": "598ef7ca",
   "metadata": {},
   "outputs": [],
   "source": [
    "def get_snippet_wrapper(data):\n",
    "    index = data[0]\n",
    "    match = helpers.cut_query(data[1])\n",
    "    did = data[2]\n",
    "    with helpers.get_sql_conn() as sql_conn, sql_conn.cursor() as cursor:\n",
    "        cursor.execute(f'SELECT top 1 [DocContent] FROM [ir].[dbo].[docs] where DocId={did}')\n",
    "        text = cursor.fetchone()\n",
    "        text = text[0]\n",
    "    with helpers.get_sphinx_conn() as sphinx_conn:\n",
    "        return get_snippet(sphinx_conn, text, index, match)"
   ]
  },
  {
   "cell_type": "code",
   "execution_count": 113,
   "id": "d945dd09",
   "metadata": {},
   "outputs": [],
   "source": [
    "def get_snippet_main_wrapper(sphinx_conn, sql_conn, tf_words, queries_df, doc_id, query_id, index, limit=512):\n",
    "    is_cut = False\n",
    "    match_norm = queries_df[queries_df.id == query_id].query_norm.values[0]\n",
    "    body = get_body(sql_conn, doc_id)\n",
    "    match_norm_dict = {w: None for w in match_norm.split()}\n",
    "    match_norm_list = list(match_norm_dict.keys())\n",
    "    match_in_doc = []\n",
    "    if len(tf_words) != len(match_norm_list):\n",
    "        print(f\"error: {query_id}, {doc_id}\")\n",
    "    for i, w in enumerate(match_norm_list):\n",
    "        if tf_words[i]['tf'] > 0:\n",
    "            match_in_doc.append(w)\n",
    "    match = ' '.join(match_in_doc)  \n",
    "    snippet = ''\n",
    "    if len(match_in_doc) > 0:\n",
    "        try:\n",
    "            snippet = get_snippet(sphinx_conn, body, index, match, limit=limit)\n",
    "        except:\n",
    "            pass\n",
    "    if snippet == '' or len(match_in_doc) == 0:\n",
    "        snippet = body[:limit]\n",
    "        is_cut = True\n",
    "    return snippet, match, is_cut"
   ]
  },
  {
   "cell_type": "code",
   "execution_count": 1096,
   "id": "a0a227ab",
   "metadata": {},
   "outputs": [],
   "source": [
    "index= 'docs'\n",
    "doc_id = 537515\n",
    "query_id = 15\n",
    "with helpers.get_sql_conn() as sql_conn, helpers.get_sphinx_conn() as sphinx_conn:\n",
    "    json.loads(train_words_df.iloc[i].words.replace(\"'\", \"\\\"\"))\n",
    "    tf_words = train_words_df[(train_words_df.doc_id == doc_id) & \n",
    "                              (train_words_df.query_id == query_id)].words.values[0]\n",
    "    tf_words = json.loads(tf_words.replace(\"'\", \"\\\"\"))\n",
    "    snippet, match, is_cut = get_snippet_main_wrapper(sphinx_conn, sql_conn, tf_words, queries_df, \n",
    "                                                      doc_id, query_id, index, limit=512)"
   ]
  },
  {
   "cell_type": "code",
   "execution_count": 1097,
   "id": "00a305b2",
   "metadata": {},
   "outputs": [
    {
     "data": {
      "text/plain": [
       "('вы здесь главная советы перестала заряжаться батарея на ноутбуке если ваш аккумулятор в ноутбуке или нетбуке перестал распознаваться операционной системой или ось сообщает что аккумулятор подключен но не заряжается то не спешите приобретать новую батарею иногда такое поведение связано с программными неполадками самого ноутбука чтобы их исключить нужно сбросить настройки базовой системы ввода вывода bios а также снять заряд с материнской платы ноутбука последовательность сброса настроек и конфигурации ноутбу',\n",
       " 'почему не работать',\n",
       " True)"
      ]
     },
     "execution_count": 1097,
     "metadata": {},
     "output_type": "execute_result"
    }
   ],
   "source": [
    "snippet, match, is_cut"
   ]
  },
  {
   "cell_type": "code",
   "execution_count": 988,
   "id": "88480f83",
   "metadata": {},
   "outputs": [],
   "source": [
    "train_use_df = pd.read_csv('train_use_df.csv', sep='\\t')\n",
    "train_words_df = pd.read_csv('train_words_df.csv', sep='\\t')\n",
    "train_use_df = train_use_df.sort_values(by=['query_id', 'doc_id'])\n",
    "train_words_df = train_words_df[['query_id', 'doc_id', 'words']].sort_values(by=['query_id', 'doc_id'])"
   ]
  },
  {
   "cell_type": "code",
   "execution_count": 1042,
   "id": "ea64d38c",
   "metadata": {},
   "outputs": [
    {
     "data": {
      "application/vnd.jupyter.widget-view+json": {
       "model_id": "66be9d943eff44beac77b51ba5a85750",
       "version_major": 2,
       "version_minor": 0
      },
      "text/plain": [
       "HBox(children=(FloatProgress(value=0.0, max=199886.0), HTML(value='')))"
      ]
     },
     "metadata": {},
     "output_type": "display_data"
    },
    {
     "name": "stdout",
     "output_type": "stream",
     "text": [
      "\n"
     ]
    }
   ],
   "source": [
    "index = 'docs'\n",
    "doc_snippet_512_list = []\n",
    "doc_snippet_1024_list = []\n",
    "match_list = []\n",
    "is_cut_list = []\n",
    "with helpers.get_sphinx_conn() as sphinx_conn,  helpers.get_sql_conn() as sql_conn:\n",
    "    for i, row in tqdm(train_use_df.iterrows(), total=len(train_use_df)):\n",
    "        is_cut = False\n",
    "        doc_id = row.doc_id\n",
    "        query_id = row.query_id\n",
    "        tf_words = json.loads(train_words_df.iloc[i].words.replace(\"'\", \"\\\"\"))\n",
    "        \n",
    "        match_norm = queries_df[queries_df.id == query_id].query_norm.values[0]\n",
    "        body = get_body(sql_conn, doc_id)\n",
    "        match_norm_dict = {w: None for w in match_norm.split()}\n",
    "        match_norm_list = list(match_norm_dict.keys())\n",
    "        match_in_doc = []\n",
    "        if len(tf_words) != len(match_norm_list):\n",
    "            print(f\"error: {query_id}, {doc_id}\")\n",
    "        for i, w in enumerate(match_norm_list):\n",
    "            if tf_words[i]['tf'] > 0:\n",
    "                match_in_doc.append(w)\n",
    "        match = ' '.join(match_in_doc)\n",
    "        \n",
    "        doc_snippet_512 = ''\n",
    "        doc_snippet_1024 = ''\n",
    "        if len(match_in_doc) > 0:\n",
    "            try:\n",
    "                doc_snippet_512 = get_snippet(sphinx_conn, body, index, match, limit=512)\n",
    "                doc_snippet_1024 = get_snippet(sphinx_conn, body, index, match, limit=1024)\n",
    "            except:\n",
    "                pass\n",
    "        if doc_snippet_512 == '' or len(match_in_doc) == 0:\n",
    "            doc_snippet_512 = body[:512]\n",
    "            doc_snippet_1024 = body[:1024]\n",
    "            is_cut = True\n",
    "        \n",
    "        doc_snippet_512_list.append(doc_snippet_512)\n",
    "        doc_snippet_1024_list.append(doc_snippet_1024)\n",
    "        is_cut_list.append(is_cut)\n",
    "        match_list.append(match)"
   ]
  },
  {
   "cell_type": "code",
   "execution_count": 1043,
   "id": "69671c13",
   "metadata": {},
   "outputs": [],
   "source": [
    "train_use_df['doc_snippet_512'] = doc_snippet_512_list\n",
    "train_use_df['doc_snippet_1024'] = doc_snippet_1024_list\n",
    "train_use_df['is_cut'] = list(map(int, is_cut_list))\n",
    "train_use_df['doc_snippet_match'] = match_list"
   ]
  },
  {
   "cell_type": "code",
   "execution_count": null,
   "id": "6f0f26a9",
   "metadata": {},
   "outputs": [],
   "source": [
    "train_use_df.drop(['doc_snippet'], axis=1, inplace=True)"
   ]
  },
  {
   "cell_type": "code",
   "execution_count": 1056,
   "id": "78419b97",
   "metadata": {},
   "outputs": [],
   "source": [
    "train_use_df.drop(['sim_use_qa_qs_un', 'sim_use_qs_un', 'sim_use_qa_qss_un'], axis=1, inplace=True)"
   ]
  },
  {
   "cell_type": "code",
   "execution_count": 1058,
   "id": "1c6f03b8",
   "metadata": {},
   "outputs": [],
   "source": [
    "train_use_df.to_csv('train_use_df.csv', index=False, sep='\\t')"
   ]
  },
  {
   "cell_type": "code",
   "execution_count": 1057,
   "id": "a4da2377",
   "metadata": {},
   "outputs": [
    {
     "data": {
      "text/plain": [
       "Index(['query_id', 'doc_id', 'doc_title_norm', 'doc_title', 'doc_snippet_512',\n",
       "       'sim_use_qt', 'sim_use_qa_qt', 'doc_snippet_1024', 'is_cut',\n",
       "       'doc_snippet_match'],\n",
       "      dtype='object')"
      ]
     },
     "execution_count": 1057,
     "metadata": {},
     "output_type": "execute_result"
    }
   ],
   "source": [
    "train_use_df.columns"
   ]
  },
  {
   "cell_type": "markdown",
   "id": "130df362",
   "metadata": {},
   "source": [
    "**Нормализовать doc_snippet_1024**"
   ]
  },
  {
   "cell_type": "code",
   "execution_count": 1210,
   "id": "a738e0bc",
   "metadata": {},
   "outputs": [
    {
     "data": {
      "application/vnd.jupyter.widget-view+json": {
       "model_id": "7fd24f65bef14468b97e2690d9b41a2e",
       "version_major": 2,
       "version_minor": 0
      },
      "text/plain": [
       "HBox(children=(FloatProgress(value=0.0, max=199886.0), HTML(value='')))"
      ]
     },
     "metadata": {},
     "output_type": "display_data"
    },
    {
     "name": "stdout",
     "output_type": "stream",
     "text": [
      "\n"
     ]
    }
   ],
   "source": [
    "doc_snippet_1024_norm_list = []\n",
    "index = 'docs'\n",
    "with helpers.get_sphinx_conn() as sphinx_conn,  sphinx_conn.cursor() as cursor:\n",
    "    for i, row in tqdm(train_use_df.iterrows(), total=len(train_use_df)):\n",
    "        text = row.doc_snippet_1024\n",
    "        norm_text = norm_doc(cursor, text, index)\n",
    "        doc_snippet_1024_norm_list.append(norm_text)"
   ]
  },
  {
   "cell_type": "code",
   "execution_count": 1213,
   "id": "a495a8cf",
   "metadata": {},
   "outputs": [],
   "source": [
    "train_use_df['doc_snippet_1024_norm'] = doc_snippet_1024_norm_list"
   ]
  },
  {
   "cell_type": "code",
   "execution_count": 1215,
   "id": "f0069ebb",
   "metadata": {},
   "outputs": [],
   "source": [
    "train_use_df.to_csv('train_use_df.csv', index=False, sep='\\t')"
   ]
  },
  {
   "cell_type": "markdown",
   "id": "bd8223d1",
   "metadata": {},
   "source": [
    "**Save**"
   ]
  },
  {
   "cell_type": "code",
   "execution_count": 74,
   "id": "3437e485",
   "metadata": {},
   "outputs": [],
   "source": [
    "data_mark_dict = {'query_id': qids_mark, 'doc_id': dids_mark, \n",
    "                  'doc_title': titles_mark, \n",
    "                  'doc_title_norm': norm_titles_mark,\n",
    "                  'doc_snippet': doc_body_s_mark,\n",
    "                  'sph04': sph04_list_mark}\n",
    "data_mark_dict.update(dq_features_mark)\n",
    "data_mark_df = pd.DataFrame(data = data_mark_dict)\n",
    "#data_aux_df = pd.DataFrame(data = data_aux_dict, index=range(len(data_df), len(qids)))"
   ]
  },
  {
   "cell_type": "code",
   "execution_count": 146,
   "id": "0d2025e3",
   "metadata": {},
   "outputs": [],
   "source": [
    "data_mark_df.to_csv('mark_data_df.csv', index=False, sep='\\t')"
   ]
  },
  {
   "cell_type": "markdown",
   "id": "1823d30b",
   "metadata": {},
   "source": [
    "### Create test dataset based on 'sample.csv'"
   ]
  },
  {
   "cell_type": "code",
   "execution_count": 534,
   "id": "aa45c8f4",
   "metadata": {},
   "outputs": [],
   "source": [
    "sample_df = pd.read_csv('sample.csv', sep=',')\n",
    "qids_to_select = np.unique(sample_df['QueryId'], return_counts=False)"
   ]
  },
  {
   "cell_type": "code",
   "execution_count": 535,
   "id": "06337a67",
   "metadata": {},
   "outputs": [
    {
     "data": {
      "application/vnd.jupyter.widget-view+json": {
       "model_id": "7ba6143b95f14edca099e4a19f5fcedf",
       "version_major": 2,
       "version_minor": 0
      },
      "text/plain": [
       "HBox(children=(FloatProgress(value=0.0, max=4200.0), HTML(value='')))"
      ]
     },
     "metadata": {},
     "output_type": "display_data"
    },
    {
     "name": "stdout",
     "output_type": "stream",
     "text": [
      "\n"
     ]
    }
   ],
   "source": [
    "index = 'docs'\n",
    "ranker = 'expr(\\'sum((4*lcs + 2*(min_hit_pos==1) + exact_hit)*user_weight)*1000 + bm25\\')'\n",
    "fields = ['id', 'title', 'factors()', 'weight()']\n",
    "\n",
    "qids_sample = []\n",
    "dids_sample = []\n",
    "titles_sample = []\n",
    "sph04_list_sample = []\n",
    "dq_features_sample = {c: [] for c in f_columns}\n",
    "\n",
    "for qid in tqdm(qids_to_select, total=len(qids_to_select)):\n",
    "    ids = list(map(str, sample_df[sample_df.QueryId == qid].DocumentId.values))\n",
    "    limit = len(ids)\n",
    "    query = queries_df[queries_df.id == qid].corrected_query.values[0]\n",
    "    docs = select_docs_by_id_list(query, ids, index, fields, limit, ranker)\n",
    "    \n",
    "    for doc in docs:\n",
    "        qids_sample.append(qid)\n",
    "        dids_sample.append(doc[0])\n",
    "        #titles_sample.append(doc[1])\n",
    "        #sph04_list_sample.append(doc[3])\n",
    "        sphinx_features = get_sphinx_features_dict(doc)\n",
    "        for c in f_columns:\n",
    "            dq_features_sample[c].append(sphinx_features[c])"
   ]
  },
  {
   "cell_type": "markdown",
   "id": "a36ea027",
   "metadata": {},
   "source": [
    "**Добавляем информацию по tf слов, чтобы получить doc_snippet**"
   ]
  },
  {
   "cell_type": "code",
   "execution_count": 536,
   "id": "24a08333",
   "metadata": {},
   "outputs": [],
   "source": [
    "test_data_dict = {'query_id': qids_sample, 'doc_id': dids_sample }\n",
    "test_data_dict.update(dq_features_sample)\n",
    "test_words_df = pd.DataFrame(data = test_data_dict)\n",
    "test_words_df.to_csv('test_words_df.csv', index=False, sep='\\t')"
   ]
  },
  {
   "cell_type": "code",
   "execution_count": 120,
   "id": "027af6ae",
   "metadata": {},
   "outputs": [
    {
     "data": {
      "text/plain": [
       "((399784, 67), (403971, 2))"
      ]
     },
     "execution_count": 120,
     "metadata": {},
     "output_type": "execute_result"
    }
   ],
   "source": [
    "data_sample_df.shape, sample_df.shape"
   ]
  },
  {
   "cell_type": "markdown",
   "id": "83453283",
   "metadata": {},
   "source": [
    "**Нормализация doc_title**"
   ]
  },
  {
   "cell_type": "code",
   "execution_count": 124,
   "id": "822636dd",
   "metadata": {},
   "outputs": [],
   "source": [
    "#data_sample_df = pd.read_csv('sample_data_df.csv', sep='\\t')"
   ]
  },
  {
   "cell_type": "code",
   "execution_count": 125,
   "id": "50b3fb9c",
   "metadata": {},
   "outputs": [],
   "source": [
    "#titles_sample = data_sample_df.doc_title.values"
   ]
  },
  {
   "cell_type": "code",
   "execution_count": 130,
   "id": "a4661f1d",
   "metadata": {},
   "outputs": [
    {
     "data": {
      "application/vnd.jupyter.widget-view+json": {
       "model_id": "49d802c136f44566a6150eb94aef3e44",
       "version_major": 2,
       "version_minor": 0
      },
      "text/plain": [
       "HBox(children=(FloatProgress(value=0.0, max=399784.0), HTML(value='')))"
      ]
     },
     "metadata": {},
     "output_type": "display_data"
    },
    {
     "name": "stdout",
     "output_type": "stream",
     "text": [
      "\n"
     ]
    }
   ],
   "source": [
    "norm_titles_sample = []\n",
    "index = 'docs'\n",
    "with helpers.get_sphinx_conn() as conn,  conn.cursor() as cursor:\n",
    "    for text in tqdm(titles_sample, total=len(titles_sample)):\n",
    "        norm_text = norm_doc(cursor, text, index)\n",
    "        norm_titles_sample.append(norm_text)"
   ]
  },
  {
   "cell_type": "code",
   "execution_count": 131,
   "id": "adf5941e",
   "metadata": {},
   "outputs": [],
   "source": [
    "#data_sample_df['doc_title_norm'] = norm_titles_sample"
   ]
  },
  {
   "cell_type": "code",
   "execution_count": 132,
   "id": "8ef5eca0",
   "metadata": {},
   "outputs": [],
   "source": [
    "#data_sample_df.to_csv('sample_data_df.csv', index=False, sep='\\t')"
   ]
  },
  {
   "cell_type": "markdown",
   "id": "6e753467",
   "metadata": {},
   "source": [
    "**Добавить snippet для body**"
   ]
  },
  {
   "cell_type": "code",
   "execution_count": 107,
   "id": "174301a5",
   "metadata": {},
   "outputs": [],
   "source": [
    "test_use_df = pd.read_csv('test_use_df.csv', sep='\\t')\n",
    "test_words_df = pd.read_csv('test_words_df.csv', sep='\\t')\n",
    "test_use_df = test_use_df.sort_values(by=['query_id', 'doc_id'])\n",
    "test_words_df = test_words_df[['query_id', 'doc_id', 'words']].sort_values(by=['query_id', 'doc_id'])"
   ]
  },
  {
   "cell_type": "code",
   "execution_count": 117,
   "id": "7893c48b",
   "metadata": {},
   "outputs": [
    {
     "data": {
      "application/vnd.jupyter.widget-view+json": {
       "model_id": "f81d6a4b5d76473fb545508218c6e2ff",
       "version_major": 2,
       "version_minor": 0
      },
      "text/plain": [
       "HBox(children=(FloatProgress(value=0.0, max=399784.0), HTML(value='')))"
      ]
     },
     "metadata": {},
     "output_type": "display_data"
    },
    {
     "name": "stdout",
     "output_type": "stream",
     "text": [
      "\n"
     ]
    }
   ],
   "source": [
    "index = 'docs'\n",
    "doc_snippet_512_list = []\n",
    "doc_snippet_1024_list = []\n",
    "match_list = []\n",
    "is_cut_list = []\n",
    "with helpers.get_sphinx_conn() as sphinx_conn,  helpers.get_sql_conn() as sql_conn:\n",
    "    for i, row in tqdm(test_use_df.iterrows(), total=len(test_use_df)):\n",
    "        is_cut = False\n",
    "        doc_id = row.doc_id\n",
    "        query_id = row.query_id\n",
    "        tf_words = json.loads(test_words_df.iloc[i].words.replace(\"'\", \"\\\"\"))\n",
    "        \n",
    "        match_norm = queries_df[queries_df.id == query_id].query_norm.values[0]\n",
    "        body = get_body(sql_conn, doc_id)\n",
    "        match_norm_dict = {w: None for w in match_norm.split()}\n",
    "        match_norm_list = list(match_norm_dict.keys())\n",
    "        match_in_doc = []\n",
    "        if len(tf_words) != len(match_norm_list):\n",
    "            print(f\"error: {query_id}, {doc_id}\")\n",
    "        for i, w in enumerate(match_norm_list):\n",
    "            if tf_words[i]['tf'] > 0:\n",
    "                match_in_doc.append(w)\n",
    "        match = ' '.join(match_in_doc)\n",
    "        \n",
    "        doc_snippet_512 = ''\n",
    "        doc_snippet_1024 = ''\n",
    "        if len(match_in_doc) > 0:\n",
    "            try:\n",
    "                doc_snippet_512 = get_snippet(sphinx_conn, body, index, match, limit=512)\n",
    "                doc_snippet_1024 = get_snippet(sphinx_conn, body, index, match, limit=1024)\n",
    "            except:\n",
    "                pass\n",
    "        if doc_snippet_512 == '' or len(match_in_doc) == 0:\n",
    "            doc_snippet_512 = body[:512]\n",
    "            doc_snippet_1024 = body[:1024]\n",
    "            is_cut = True\n",
    "        \n",
    "        doc_snippet_512_list.append(doc_snippet_512)\n",
    "        doc_snippet_1024_list.append(doc_snippet_1024)\n",
    "        is_cut_list.append(is_cut)\n",
    "        match_list.append(match)"
   ]
  },
  {
   "cell_type": "code",
   "execution_count": 119,
   "id": "21bb21e0",
   "metadata": {},
   "outputs": [
    {
     "data": {
      "text/plain": [
       "Index(['query_id', 'doc_id', 'doc_snippet', 'doc_title_norm', 'doc_title',\n",
       "       'sim_use_qa_qs_un', 'sim_use_qs_un', 'doc_snippet_512',\n",
       "       'sim_use_qa_qss_un', 'sim_use_qt', 'sim_use_qa_qt', 'doc_snippet_1024',\n",
       "       'is_cut', 'doc_snippet_match'],\n",
       "      dtype='object')"
      ]
     },
     "execution_count": 119,
     "metadata": {},
     "output_type": "execute_result"
    }
   ],
   "source": [
    "test_use_df.columns"
   ]
  },
  {
   "cell_type": "code",
   "execution_count": 118,
   "id": "6736b8f1",
   "metadata": {},
   "outputs": [],
   "source": [
    "test_use_df['doc_snippet_512'] = doc_snippet_512_list\n",
    "test_use_df['doc_snippet_1024'] = doc_snippet_1024_list\n",
    "test_use_df['is_cut'] = list(map(int, is_cut_list))\n",
    "test_use_df['doc_snippet_match'] = match_list"
   ]
  },
  {
   "cell_type": "code",
   "execution_count": 120,
   "id": "ff52fecb",
   "metadata": {},
   "outputs": [],
   "source": [
    "test_use_df.drop(['doc_snippet'], axis=1, inplace=True)\n",
    "test_use_df.drop(['sim_use_qa_qs_un', 'sim_use_qs_un', 'sim_use_qa_qss_un'], axis=1, inplace=True)"
   ]
  },
  {
   "cell_type": "code",
   "execution_count": 123,
   "id": "8e533f68",
   "metadata": {},
   "outputs": [
    {
     "data": {
      "text/plain": [
       "(10, 19)"
      ]
     },
     "execution_count": 123,
     "metadata": {},
     "output_type": "execute_result"
    }
   ],
   "source": [
    "len(test_use_df.columns), len(train_use_df.columns)"
   ]
  },
  {
   "cell_type": "code",
   "execution_count": 126,
   "id": "1fa435ea",
   "metadata": {},
   "outputs": [],
   "source": [
    "test_use_df.to_csv('test_use_df.csv', index=False, sep='\\t')"
   ]
  },
  {
   "cell_type": "markdown",
   "id": "9aac791f",
   "metadata": {},
   "source": [
    "**Нормализовать doc_snippet_1024**"
   ]
  },
  {
   "cell_type": "code",
   "execution_count": 139,
   "id": "0f969b9d",
   "metadata": {},
   "outputs": [],
   "source": [
    "test_use_df = pd.read_csv('test_use_df.csv', sep='\\t')\n",
    "test_use_df.sort_values(by=['query_id', 'doc_id'], inplace=True)"
   ]
  },
  {
   "cell_type": "code",
   "execution_count": 130,
   "id": "669af0e6",
   "metadata": {},
   "outputs": [
    {
     "data": {
      "application/vnd.jupyter.widget-view+json": {
       "model_id": "9643e8e1fb8a411e85884fa32931aeb0",
       "version_major": 2,
       "version_minor": 0
      },
      "text/plain": [
       "HBox(children=(FloatProgress(value=0.0, max=399784.0), HTML(value='')))"
      ]
     },
     "metadata": {},
     "output_type": "display_data"
    },
    {
     "name": "stdout",
     "output_type": "stream",
     "text": [
      "\n"
     ]
    }
   ],
   "source": [
    "doc_snippet_1024_norm_list = []\n",
    "index = 'docs'\n",
    "with helpers.get_sphinx_conn() as sphinx_conn,  sphinx_conn.cursor() as cursor:\n",
    "    for i, row in tqdm(test_use_df.iterrows(), total=len(test_use_df)):\n",
    "        text = row.doc_snippet_1024\n",
    "        norm_text = norm_doc(cursor, text, index)\n",
    "        doc_snippet_1024_norm_list.append(norm_text)"
   ]
  },
  {
   "cell_type": "code",
   "execution_count": 167,
   "id": "1c528044",
   "metadata": {},
   "outputs": [],
   "source": [
    "test_use_df['doc_snippet_1024_norm'] = doc_snippet_1024_norm_list"
   ]
  },
  {
   "cell_type": "code",
   "execution_count": 144,
   "id": "5b3bb7e7",
   "metadata": {},
   "outputs": [],
   "source": [
    "test_use_df.rename(columns={'sim_use_qa_qt': \"sim_use_qa_qtt\"}, inplace=True)"
   ]
  },
  {
   "cell_type": "code",
   "execution_count": 170,
   "id": "234279f0",
   "metadata": {},
   "outputs": [
    {
     "data": {
      "text/plain": [
       "Index(['query_id', 'doc_id', 'doc_title_norm', 'doc_title', 'doc_snippet_512',\n",
       "       'sim_use_qt', 'sim_use_qa_qt', 'doc_snippet_1024', 'is_cut',\n",
       "       'doc_snippet_match', 'sim_use_qt_un', 'sim_use_qa_qtt_un',\n",
       "       'sim_use_qs_512_un', 'sim_use_qs_1024_un', 'sim_use_qa_qts_512_un',\n",
       "       'sim_use_qa_qts_1024_un', 'sim_use_qa_qss_512_un',\n",
       "       'sim_use_qa_qss_1024_un', 'doc_snippet_1024_norm'],\n",
       "      dtype='object')"
      ]
     },
     "execution_count": 170,
     "metadata": {},
     "output_type": "execute_result"
    }
   ],
   "source": [
    "test_use_df.columns"
   ]
  },
  {
   "cell_type": "code",
   "execution_count": 180,
   "id": "ee15eb6f",
   "metadata": {},
   "outputs": [
    {
     "data": {
      "text/plain": [
       "True"
      ]
     },
     "execution_count": 180,
     "metadata": {},
     "output_type": "execute_result"
    }
   ],
   "source": [
    "sorted(test_use_df.columns) == sorted(train_use_df.columns)"
   ]
  },
  {
   "cell_type": "code",
   "execution_count": 175,
   "id": "d19cd35f",
   "metadata": {},
   "outputs": [],
   "source": [
    "test_use_df.to_csv('test_use_df.csv', index=False, sep='\\t')"
   ]
  },
  {
   "cell_type": "markdown",
   "id": "1a6190d5",
   "metadata": {},
   "source": [
    "**Save**"
   ]
  },
  {
   "cell_type": "code",
   "execution_count": 118,
   "id": "73ce5e2e",
   "metadata": {},
   "outputs": [],
   "source": [
    "data_sample_dict = {'query_id': qids_sample, 'doc_id': dids_sample, 'doc_title': titles_sample, \n",
    "                    #'doc_title_norm': norm_titles_sample, \n",
    "                    #'doc_snippet': doc_body_s_sample,\n",
    "                    'sph04': sph04_list_sample}\n",
    "data_sample_dict.update(dq_features_sample)\n",
    "data_sample_df = pd.DataFrame(data = data_sample_dict)"
   ]
  },
  {
   "cell_type": "code",
   "execution_count": 119,
   "id": "e1bf77da",
   "metadata": {},
   "outputs": [],
   "source": [
    "data_sample_df.to_csv('sample_data_df.csv', index=False, sep='\\t')"
   ]
  },
  {
   "cell_type": "markdown",
   "id": "e694f7ee",
   "metadata": {},
   "source": [
    "#### Create test dataset based on sphinx"
   ]
  },
  {
   "cell_type": "code",
   "execution_count": null,
   "id": "7110192b",
   "metadata": {},
   "outputs": [],
   "source": [
    "sample_df = pd.read_csv('sample.csv', sep=',')\n",
    "qids_test_unique = np.unique(sample_df['QueryId'], return_counts=False)\n",
    "queries_test_df = queries_df.loc[queries_df['id'].isin(qids_test_unique)]"
   ]
  },
  {
   "cell_type": "code",
   "execution_count": null,
   "id": "290e9cad",
   "metadata": {},
   "outputs": [],
   "source": [
    "limit = 100\n",
    "ranker = 'expr(\\'sum((4*lcs + 2*(min_hit_pos==1) + exact_hit)*user_weight)*1000 + bm25\\')'\n",
    "fields = ['id', 'title', 'factors()', 'weight()']\n",
    "index = 'docs'\n",
    "qids_test = []\n",
    "dids_test = []\n",
    "titles_test = []\n",
    "sph04_list_test = []\n",
    "dq_features_test = {c: [] for c in f_columns}"
   ]
  },
  {
   "cell_type": "code",
   "execution_count": null,
   "id": "52413d05",
   "metadata": {},
   "outputs": [],
   "source": [
    "with get_sphinx_conn() as sphinx_conn:\n",
    "    for i, row in tqdm(queries_test_df.iterrows(), total=len(queries_test_df)):\n",
    "        query = row.corrected_query\n",
    "        qid = row.id\n",
    "        docs = helpers.select_from_sphinx(query, index, fields, limit, ranker)\n",
    "\n",
    "        for doc in docs:\n",
    "            qids_test.append(qid)\n",
    "            dids_test.append(doc[0])\n",
    "            titles_test.append(doc[1])\n",
    "            sph04_list_test.append(doc[3])\n",
    "            sphinx_features = get_sphinx_features_dict(doc)\n",
    "            for c in f_columns:\n",
    "                dq_features_test[c].append(sphinx_features[c])"
   ]
  },
  {
   "cell_type": "code",
   "execution_count": null,
   "id": "d3aaf80a",
   "metadata": {},
   "outputs": [],
   "source": [
    "test_dict = {'query_id': qids_test, 'doc_id': dids_test, 'doc_title': titles_test, 'sph04': sph04_list_test}\n",
    "test_dict.update(dq_features_test)\n",
    "test_df = pd.DataFrame(data = data_test)"
   ]
  },
  {
   "cell_type": "code",
   "execution_count": null,
   "id": "d92d3a58",
   "metadata": {},
   "outputs": [],
   "source": [
    "test_df.to_csv('test_df.csv', index=False, sep='\\t')"
   ]
  },
  {
   "cell_type": "markdown",
   "id": "3117f6b9",
   "metadata": {},
   "source": [
    "### SPH04"
   ]
  },
  {
   "cell_type": "code",
   "execution_count": 41,
   "id": "a9e27ad9",
   "metadata": {},
   "outputs": [],
   "source": [
    "def save_submission(qids_test, data_df, filename):\n",
    "    with open(filename, 'w') as fout:\n",
    "        fout.write('QueryId,DocumentId\\n')\n",
    "        for qid in qids_test:\n",
    "            sph04_list = data_df[data_df.query_id == qid][['sph04']].values.reshape(-1)\n",
    "            doc_list = data_df[data_df.query_id == qid][['doc_id']].values.reshape(-1)\n",
    "            #sorted_doc_list = 1 + doc_list[np.argsort(sph04_list)[::-1]]\n",
    "            for did in doc_list[:5]:\n",
    "                fout.write('{0},{1}\\n'.format(qid, did))"
   ]
  },
  {
   "cell_type": "code",
   "execution_count": null,
   "id": "f8c31ac4",
   "metadata": {},
   "outputs": [],
   "source": [
    "sample_df = pd.read_csv('sample.csv', sep=',')\n",
    "qids_test = np.unique(sample_df['QueryId'], return_counts=False)"
   ]
  },
  {
   "cell_type": "code",
   "execution_count": null,
   "id": "b7226bae",
   "metadata": {},
   "outputs": [],
   "source": [
    "data_df = helpers.load_obj('20_data_df')"
   ]
  },
  {
   "cell_type": "code",
   "execution_count": 43,
   "id": "ef49da9c",
   "metadata": {},
   "outputs": [],
   "source": [
    "save_submission(qids_test, data_df, 'sph04.csv')"
   ]
  },
  {
   "cell_type": "markdown",
   "id": "4fedd69b",
   "metadata": {},
   "source": [
    "### LearningToRank"
   ]
  },
  {
   "cell_type": "code",
   "execution_count": 83,
   "id": "54fb8295",
   "metadata": {},
   "outputs": [],
   "source": [
    "tqdm.pandas()"
   ]
  },
  {
   "cell_type": "code",
   "execution_count": 76,
   "id": "56d32ca2",
   "metadata": {},
   "outputs": [],
   "source": [
    "data_df = pd.read_csv('mark_data_df.csv', sep='\\t')"
   ]
  },
  {
   "cell_type": "code",
   "execution_count": 7,
   "id": "f23d0448",
   "metadata": {},
   "outputs": [],
   "source": [
    "sample_df = pd.read_csv('sample.csv', sep=',')\n",
    "qids_test = np.unique(sample_df['QueryId'], return_counts=False)"
   ]
  },
  {
   "cell_type": "code",
   "execution_count": 80,
   "id": "10a6697b",
   "metadata": {},
   "outputs": [],
   "source": [
    "def get_t_val_indices(qid_data, grp_val_indices):\n",
    "    df = pd.DataFrame(data = {'group_id': qid_data})\n",
    "    grp_t_indices = []\n",
    "    for group_id in qid_data:\n",
    "        if group_id not in set(grp_val_indices):\n",
    "            grp_t_indices.append(group_id)\n",
    "        \n",
    "    df_grouped = df.groupby('group_id')\n",
    "\n",
    "    val_indices = []\n",
    "    t_indices = []\n",
    "    for grp_id, grp_indices in df_grouped.groups.items():\n",
    "        if grp_id in set(grp_val_indices):\n",
    "            val_indices.extend(grp_indices)\n",
    "        if grp_id in set(grp_t_indices):\n",
    "            t_indices.extend(grp_indices)\n",
    "    return t_indices, val_indices"
   ]
  },
  {
   "cell_type": "code",
   "execution_count": 79,
   "id": "e51175f6",
   "metadata": {},
   "outputs": [],
   "source": [
    "marks_df = pd.read_csv('train.marks.tsv', sep='\\t', header=None)\n",
    "marks_df.rename(columns={0: \"QueryID\", 1: \"DocID\", 2: \"Mark\"}, inplace=True)"
   ]
  },
  {
   "cell_type": "code",
   "execution_count": 80,
   "id": "b9ed46a6",
   "metadata": {},
   "outputs": [],
   "source": [
    "qids_mark = np.unique(marks_df['QueryID'], return_counts=False)"
   ]
  },
  {
   "cell_type": "code",
   "execution_count": 84,
   "id": "ac7cd118",
   "metadata": {},
   "outputs": [
    {
     "data": {
      "application/vnd.jupyter.widget-view+json": {
       "model_id": "f118f95d00234f11ab28e869fb1b5acd",
       "version_major": 2,
       "version_minor": 0
      },
      "text/plain": [
       "HBox(children=(FloatProgress(value=0.0, max=199886.0), HTML(value='')))"
      ]
     },
     "metadata": {},
     "output_type": "display_data"
    },
    {
     "name": "stdout",
     "output_type": "stream",
     "text": [
      "\n"
     ]
    }
   ],
   "source": [
    "data_df['query_id+doc_id'] = data_df.progress_apply(lambda row: str(row['query_id']) + '-' + str(row['doc_id']), axis=1)"
   ]
  },
  {
   "cell_type": "code",
   "execution_count": 85,
   "id": "7e00f9d5",
   "metadata": {},
   "outputs": [
    {
     "data": {
      "application/vnd.jupyter.widget-view+json": {
       "model_id": "1773811ee32a4a26967023f63d59d6d1",
       "version_major": 2,
       "version_minor": 0
      },
      "text/plain": [
       "HBox(children=(FloatProgress(value=0.0, max=202079.0), HTML(value='')))"
      ]
     },
     "metadata": {},
     "output_type": "display_data"
    },
    {
     "name": "stdout",
     "output_type": "stream",
     "text": [
      "\n"
     ]
    }
   ],
   "source": [
    "marks_df['query_id+doc_id'] = marks_df.progress_apply(lambda row: str(row['QueryID']) + '-' + str(row['DocID']), axis=1)"
   ]
  },
  {
   "cell_type": "code",
   "execution_count": 86,
   "id": "e31b8136",
   "metadata": {},
   "outputs": [],
   "source": [
    "data_mark_df = data_df.loc[data_df['query_id+doc_id'].isin(marks_df['query_id+doc_id'].values)]"
   ]
  },
  {
   "cell_type": "code",
   "execution_count": 87,
   "id": "607a0635",
   "metadata": {},
   "outputs": [
    {
     "data": {
      "text/html": [
       "<div>\n",
       "<style scoped>\n",
       "    .dataframe tbody tr th:only-of-type {\n",
       "        vertical-align: middle;\n",
       "    }\n",
       "\n",
       "    .dataframe tbody tr th {\n",
       "        vertical-align: top;\n",
       "    }\n",
       "\n",
       "    .dataframe thead th {\n",
       "        text-align: right;\n",
       "    }\n",
       "</style>\n",
       "<table border=\"1\" class=\"dataframe\">\n",
       "  <thead>\n",
       "    <tr style=\"text-align: right;\">\n",
       "      <th></th>\n",
       "      <th>QueryID</th>\n",
       "      <th>DocID</th>\n",
       "      <th>Mark</th>\n",
       "      <th>query_id+doc_id</th>\n",
       "    </tr>\n",
       "  </thead>\n",
       "  <tbody>\n",
       "    <tr>\n",
       "      <th>0</th>\n",
       "      <td>2</td>\n",
       "      <td>135041</td>\n",
       "      <td>1</td>\n",
       "      <td>2-135041</td>\n",
       "    </tr>\n",
       "    <tr>\n",
       "      <th>1</th>\n",
       "      <td>2</td>\n",
       "      <td>80518</td>\n",
       "      <td>1</td>\n",
       "      <td>2-80518</td>\n",
       "    </tr>\n",
       "    <tr>\n",
       "      <th>2</th>\n",
       "      <td>2</td>\n",
       "      <td>434055</td>\n",
       "      <td>1</td>\n",
       "      <td>2-434055</td>\n",
       "    </tr>\n",
       "    <tr>\n",
       "      <th>3</th>\n",
       "      <td>2</td>\n",
       "      <td>510856</td>\n",
       "      <td>0</td>\n",
       "      <td>2-510856</td>\n",
       "    </tr>\n",
       "    <tr>\n",
       "      <th>4</th>\n",
       "      <td>2</td>\n",
       "      <td>458604</td>\n",
       "      <td>1</td>\n",
       "      <td>2-458604</td>\n",
       "    </tr>\n",
       "    <tr>\n",
       "      <th>...</th>\n",
       "      <td>...</td>\n",
       "      <td>...</td>\n",
       "      <td>...</td>\n",
       "      <td>...</td>\n",
       "    </tr>\n",
       "    <tr>\n",
       "      <th>202074</th>\n",
       "      <td>6305</td>\n",
       "      <td>63981</td>\n",
       "      <td>3</td>\n",
       "      <td>6305-63981</td>\n",
       "    </tr>\n",
       "    <tr>\n",
       "      <th>202075</th>\n",
       "      <td>6305</td>\n",
       "      <td>354802</td>\n",
       "      <td>1</td>\n",
       "      <td>6305-354802</td>\n",
       "    </tr>\n",
       "    <tr>\n",
       "      <th>202076</th>\n",
       "      <td>6305</td>\n",
       "      <td>275960</td>\n",
       "      <td>4</td>\n",
       "      <td>6305-275960</td>\n",
       "    </tr>\n",
       "    <tr>\n",
       "      <th>202077</th>\n",
       "      <td>6305</td>\n",
       "      <td>338427</td>\n",
       "      <td>4</td>\n",
       "      <td>6305-338427</td>\n",
       "    </tr>\n",
       "    <tr>\n",
       "      <th>202078</th>\n",
       "      <td>6305</td>\n",
       "      <td>511</td>\n",
       "      <td>1</td>\n",
       "      <td>6305-511</td>\n",
       "    </tr>\n",
       "  </tbody>\n",
       "</table>\n",
       "<p>202079 rows × 4 columns</p>\n",
       "</div>"
      ],
      "text/plain": [
       "        QueryID   DocID  Mark query_id+doc_id\n",
       "0             2  135041     1        2-135041\n",
       "1             2   80518     1         2-80518\n",
       "2             2  434055     1        2-434055\n",
       "3             2  510856     0        2-510856\n",
       "4             2  458604     1        2-458604\n",
       "...         ...     ...   ...             ...\n",
       "202074     6305   63981     3      6305-63981\n",
       "202075     6305  354802     1     6305-354802\n",
       "202076     6305  275960     4     6305-275960\n",
       "202077     6305  338427     4     6305-338427\n",
       "202078     6305     511     1        6305-511\n",
       "\n",
       "[202079 rows x 4 columns]"
      ]
     },
     "execution_count": 87,
     "metadata": {},
     "output_type": "execute_result"
    }
   ],
   "source": [
    "marks_df"
   ]
  },
  {
   "cell_type": "code",
   "execution_count": 88,
   "id": "be5fd388",
   "metadata": {},
   "outputs": [
    {
     "data": {
      "text/html": [
       "<div>\n",
       "<style scoped>\n",
       "    .dataframe tbody tr th:only-of-type {\n",
       "        vertical-align: middle;\n",
       "    }\n",
       "\n",
       "    .dataframe tbody tr th {\n",
       "        vertical-align: top;\n",
       "    }\n",
       "\n",
       "    .dataframe thead th {\n",
       "        text-align: right;\n",
       "    }\n",
       "</style>\n",
       "<table border=\"1\" class=\"dataframe\">\n",
       "  <thead>\n",
       "    <tr style=\"text-align: right;\">\n",
       "      <th></th>\n",
       "      <th>query_id</th>\n",
       "      <th>doc_id</th>\n",
       "      <th>doc_title</th>\n",
       "      <th>doc_title_norm</th>\n",
       "      <th>doc_snippet</th>\n",
       "      <th>sph04</th>\n",
       "      <th>document_bm15</th>\n",
       "      <th>document_bm25a</th>\n",
       "      <th>document_field_mask</th>\n",
       "      <th>document_doc_word_count</th>\n",
       "      <th>...</th>\n",
       "      <th>query_max_lcs</th>\n",
       "      <th>query_word_count</th>\n",
       "      <th>query_is_noun_words</th>\n",
       "      <th>query_is_latin_words</th>\n",
       "      <th>query_is_number_words</th>\n",
       "      <th>query_has_digit_words</th>\n",
       "      <th>query_max_idf</th>\n",
       "      <th>query_min_idf</th>\n",
       "      <th>query_sum_idf</th>\n",
       "      <th>query_id+doc_id</th>\n",
       "    </tr>\n",
       "  </thead>\n",
       "  <tbody>\n",
       "    <tr>\n",
       "      <th>18</th>\n",
       "      <td>2</td>\n",
       "      <td>135041</td>\n",
       "      <td>наша деятельность</td>\n",
       "      <td>наш деятельность</td>\n",
       "      <td>NaN</td>\n",
       "      <td>10240.0</td>\n",
       "      <td>6240</td>\n",
       "      <td>4.240867</td>\n",
       "      <td>2</td>\n",
       "      <td>5</td>\n",
       "      <td>...</td>\n",
       "      <td>12</td>\n",
       "      <td>6</td>\n",
       "      <td>4</td>\n",
       "      <td>0</td>\n",
       "      <td>1</td>\n",
       "      <td>1</td>\n",
       "      <td>4.617383</td>\n",
       "      <td>0.542458</td>\n",
       "      <td>13.362823</td>\n",
       "      <td>2-135041</td>\n",
       "    </tr>\n",
       "  </tbody>\n",
       "</table>\n",
       "<p>1 rows × 70 columns</p>\n",
       "</div>"
      ],
      "text/plain": [
       "    query_id  doc_id          doc_title    doc_title_norm  doc_snippet  \\\n",
       "18         2  135041  наша деятельность  наш деятельность          NaN   \n",
       "\n",
       "      sph04  document_bm15  document_bm25a  document_field_mask  \\\n",
       "18  10240.0           6240        4.240867                    2   \n",
       "\n",
       "    document_doc_word_count  ...  query_max_lcs  query_word_count  \\\n",
       "18                        5  ...             12                 6   \n",
       "\n",
       "    query_is_noun_words  query_is_latin_words  query_is_number_words  \\\n",
       "18                    4                     0                      1   \n",
       "\n",
       "    query_has_digit_words  query_max_idf  query_min_idf  query_sum_idf  \\\n",
       "18                      1       4.617383       0.542458      13.362823   \n",
       "\n",
       "    query_id+doc_id  \n",
       "18         2-135041  \n",
       "\n",
       "[1 rows x 70 columns]"
      ]
     },
     "execution_count": 88,
     "metadata": {},
     "output_type": "execute_result"
    }
   ],
   "source": [
    "data_mark_df[data_mark_df.doc_id==135041]"
   ]
  },
  {
   "cell_type": "code",
   "execution_count": 89,
   "id": "64ebf89d",
   "metadata": {},
   "outputs": [
    {
     "data": {
      "text/plain": [
       "(199886, 70)"
      ]
     },
     "execution_count": 89,
     "metadata": {},
     "output_type": "execute_result"
    }
   ],
   "source": [
    "data_mark_df.shape"
   ]
  },
  {
   "cell_type": "code",
   "execution_count": 90,
   "id": "209fe2e0",
   "metadata": {},
   "outputs": [
    {
     "data": {
      "application/vnd.jupyter.widget-view+json": {
       "model_id": "3c0a5ec601304a42872ec3fc6a33f975",
       "version_major": 2,
       "version_minor": 0
      },
      "text/plain": [
       "HBox(children=(FloatProgress(value=0.0, max=199886.0), HTML(value='')))"
      ]
     },
     "metadata": {},
     "output_type": "display_data"
    },
    {
     "name": "stdout",
     "output_type": "stream",
     "text": [
      "\n"
     ]
    }
   ],
   "source": [
    "y_train = []\n",
    "for index, row in tqdm(data_mark_df.iterrows(), total=len(data_mark_df)):\n",
    "    mark = marks_df[((marks_df['QueryID'] == row.query_id) & (marks_df['DocID'] == row.doc_id))].Mark.values[0]\n",
    "    y_train.append(mark)\n",
    "y_train = np.array(y_train)"
   ]
  },
  {
   "cell_type": "code",
   "execution_count": 100,
   "id": "d61302ec",
   "metadata": {},
   "outputs": [],
   "source": [
    "X_train = data_mark_df.drop(['doc_title', 'doc_title_norm', \n",
    "                             'doc_snippet', 'doc_id', 'query_id', 'query_id+doc_id'], axis=1).to_numpy()"
   ]
  },
  {
   "cell_type": "code",
   "execution_count": 91,
   "id": "e791ec63",
   "metadata": {},
   "outputs": [],
   "source": [
    "X_train = data_mark_df.drop(['doc_title', 'doc_title_norm', \n",
    "                             'doc_snippet', 'doc_id', 'query_id', 'query_id+doc_id'\n",
    "                            ], axis=1)"
   ]
  },
  {
   "cell_type": "code",
   "execution_count": 92,
   "id": "39ad35df",
   "metadata": {},
   "outputs": [],
   "source": [
    "qids_mark = np.unique(data_mark_df['query_id'], return_counts=False)"
   ]
  },
  {
   "cell_type": "code",
   "execution_count": 93,
   "id": "60fb7fdf",
   "metadata": {},
   "outputs": [
    {
     "data": {
      "text/plain": [
       "2111"
      ]
     },
     "execution_count": 93,
     "metadata": {},
     "output_type": "execute_result"
    }
   ],
   "source": [
    "len(qids_mark)"
   ]
  },
  {
   "cell_type": "code",
   "execution_count": 94,
   "id": "04234081",
   "metadata": {},
   "outputs": [],
   "source": [
    "import xgboost as xgb"
   ]
  },
  {
   "cell_type": "code",
   "execution_count": 96,
   "id": "ee54bef5",
   "metadata": {},
   "outputs": [],
   "source": [
    "grp_val_indices = np.random.choice(qids_mark, 300, replace=False)"
   ]
  },
  {
   "cell_type": "code",
   "execution_count": 97,
   "id": "af22990d",
   "metadata": {},
   "outputs": [],
   "source": [
    "t_indices, val_indices = get_t_val_indices(data_mark_df['query_id'].values, grp_val_indices)"
   ]
  },
  {
   "cell_type": "code",
   "execution_count": 101,
   "id": "df7f6cc4",
   "metadata": {},
   "outputs": [],
   "source": [
    "X_val = X_train[val_indices]\n",
    "y_val = y_train[val_indices]\n",
    "X_t = X_train[t_indices]\n",
    "y_t = y_train[t_indices]"
   ]
  },
  {
   "cell_type": "code",
   "execution_count": 102,
   "id": "001a3ef9",
   "metadata": {},
   "outputs": [],
   "source": [
    "dt = xgb.DMatrix(data = X_t, label = y_t)\n",
    "dt.set_group(np.unique(data_mark_df['query_id'].values[t_indices], return_counts=True)[1])\n",
    "dval = xgb.DMatrix(data = X_val, label = y_val)\n",
    "dval.set_group(np.unique(data_mark_df['query_id'].values[val_indices], return_counts=True)[1])"
   ]
  },
  {
   "cell_type": "code",
   "execution_count": 107,
   "id": "e6bdf780",
   "metadata": {},
   "outputs": [],
   "source": [
    "params = {'objective': 'rank:ndcg', 'eta': 0.1,\n",
    "          'max_depth': 10,\n",
    "          'eval_metric': 'ndcg@5'}"
   ]
  },
  {
   "cell_type": "code",
   "execution_count": 108,
   "id": "6c0e88f6",
   "metadata": {},
   "outputs": [
    {
     "name": "stdout",
     "output_type": "stream",
     "text": [
      "[0]\tdval-ndcg@5:0.65353\n",
      "[1]\tdval-ndcg@5:0.65058\n",
      "[2]\tdval-ndcg@5:0.66092\n",
      "[3]\tdval-ndcg@5:0.65671\n",
      "[4]\tdval-ndcg@5:0.66878\n",
      "[5]\tdval-ndcg@5:0.66420\n",
      "[6]\tdval-ndcg@5:0.66556\n",
      "[7]\tdval-ndcg@5:0.66298\n",
      "[8]\tdval-ndcg@5:0.66497\n",
      "[9]\tdval-ndcg@5:0.66270\n",
      "[10]\tdval-ndcg@5:0.66449\n",
      "[11]\tdval-ndcg@5:0.66276\n",
      "[12]\tdval-ndcg@5:0.66400\n",
      "[13]\tdval-ndcg@5:0.66294\n",
      "[14]\tdval-ndcg@5:0.66584\n",
      "[15]\tdval-ndcg@5:0.66678\n",
      "[16]\tdval-ndcg@5:0.66928\n",
      "[17]\tdval-ndcg@5:0.67255\n",
      "[18]\tdval-ndcg@5:0.67062\n",
      "[19]\tdval-ndcg@5:0.67031\n",
      "[20]\tdval-ndcg@5:0.67317\n",
      "[21]\tdval-ndcg@5:0.67043\n",
      "[22]\tdval-ndcg@5:0.66407\n",
      "[23]\tdval-ndcg@5:0.66681\n",
      "[24]\tdval-ndcg@5:0.66739\n",
      "[25]\tdval-ndcg@5:0.66650\n",
      "[26]\tdval-ndcg@5:0.66575\n",
      "[27]\tdval-ndcg@5:0.66125\n",
      "[28]\tdval-ndcg@5:0.66271\n",
      "[29]\tdval-ndcg@5:0.66246\n",
      "[30]\tdval-ndcg@5:0.66124\n",
      "[31]\tdval-ndcg@5:0.65797\n",
      "[32]\tdval-ndcg@5:0.65723\n",
      "[33]\tdval-ndcg@5:0.65683\n",
      "[34]\tdval-ndcg@5:0.65500\n",
      "[35]\tdval-ndcg@5:0.65558\n",
      "[36]\tdval-ndcg@5:0.65585\n",
      "[37]\tdval-ndcg@5:0.65555\n",
      "[38]\tdval-ndcg@5:0.65682\n",
      "[39]\tdval-ndcg@5:0.65777\n",
      "[40]\tdval-ndcg@5:0.65683\n",
      "[41]\tdval-ndcg@5:0.65639\n",
      "[42]\tdval-ndcg@5:0.65428\n",
      "[43]\tdval-ndcg@5:0.65386\n",
      "[44]\tdval-ndcg@5:0.65477\n",
      "[45]\tdval-ndcg@5:0.65477\n",
      "[46]\tdval-ndcg@5:0.65516\n",
      "[47]\tdval-ndcg@5:0.65972\n",
      "[48]\tdval-ndcg@5:0.65905\n",
      "[49]\tdval-ndcg@5:0.65869\n",
      "[50]\tdval-ndcg@5:0.66249\n",
      "[51]\tdval-ndcg@5:0.66361\n",
      "[52]\tdval-ndcg@5:0.66488\n",
      "[53]\tdval-ndcg@5:0.66529\n",
      "[54]\tdval-ndcg@5:0.66207\n",
      "[55]\tdval-ndcg@5:0.66236\n",
      "[56]\tdval-ndcg@5:0.66230\n",
      "[57]\tdval-ndcg@5:0.66241\n",
      "[58]\tdval-ndcg@5:0.66347\n",
      "[59]\tdval-ndcg@5:0.66063\n",
      "[60]\tdval-ndcg@5:0.66308\n",
      "[61]\tdval-ndcg@5:0.66369\n",
      "[62]\tdval-ndcg@5:0.66310\n",
      "[63]\tdval-ndcg@5:0.65943\n",
      "[64]\tdval-ndcg@5:0.66139\n",
      "[65]\tdval-ndcg@5:0.66158\n",
      "[66]\tdval-ndcg@5:0.66600\n",
      "[67]\tdval-ndcg@5:0.66626\n",
      "[68]\tdval-ndcg@5:0.66767\n",
      "[69]\tdval-ndcg@5:0.66641\n",
      "[70]\tdval-ndcg@5:0.66507\n",
      "[71]\tdval-ndcg@5:0.66748\n",
      "[72]\tdval-ndcg@5:0.66798\n",
      "[73]\tdval-ndcg@5:0.66838\n",
      "[74]\tdval-ndcg@5:0.66877\n",
      "[75]\tdval-ndcg@5:0.66897\n",
      "[76]\tdval-ndcg@5:0.66962\n",
      "[77]\tdval-ndcg@5:0.66954\n",
      "[78]\tdval-ndcg@5:0.66838\n",
      "[79]\tdval-ndcg@5:0.66711\n",
      "[80]\tdval-ndcg@5:0.66743\n",
      "[81]\tdval-ndcg@5:0.66670\n",
      "[82]\tdval-ndcg@5:0.66659\n",
      "[83]\tdval-ndcg@5:0.66762\n",
      "[84]\tdval-ndcg@5:0.66485\n",
      "[85]\tdval-ndcg@5:0.66525\n",
      "[86]\tdval-ndcg@5:0.66594\n",
      "[87]\tdval-ndcg@5:0.66525\n",
      "[88]\tdval-ndcg@5:0.66604\n",
      "[89]\tdval-ndcg@5:0.66683\n",
      "[90]\tdval-ndcg@5:0.66742\n",
      "[91]\tdval-ndcg@5:0.66793\n",
      "[92]\tdval-ndcg@5:0.66873\n",
      "[93]\tdval-ndcg@5:0.67090\n",
      "[94]\tdval-ndcg@5:0.67130\n",
      "[95]\tdval-ndcg@5:0.66934\n",
      "[96]\tdval-ndcg@5:0.66891\n",
      "[97]\tdval-ndcg@5:0.66982\n",
      "[98]\tdval-ndcg@5:0.67090\n",
      "[99]\tdval-ndcg@5:0.67214\n"
     ]
    },
    {
     "data": {
      "text/plain": [
       "<xgboost.core.Booster at 0x1f080a27a30>"
      ]
     },
     "execution_count": 108,
     "metadata": {},
     "output_type": "execute_result"
    }
   ],
   "source": [
    "xgb.train(params, dt, num_boost_round=100, evals=[(dval, 'dval')], verbose_eval=True)"
   ]
  },
  {
   "cell_type": "code",
   "execution_count": 111,
   "id": "8619bb91",
   "metadata": {},
   "outputs": [],
   "source": [
    "X_train = data_mark_df.drop(['doc_title', 'doc_title_norm', \n",
    "                             'doc_snippet', 'doc_id', 'query_id', 'query_id+doc_id'], axis=1)\n",
    "dtrain = xgb.DMatrix(data = X_train, label = y_train)\n",
    "dtrain.set_group(np.unique(data_mark_df['query_id'], return_counts=True)[1])"
   ]
  },
  {
   "cell_type": "code",
   "execution_count": 112,
   "id": "2929682e",
   "metadata": {},
   "outputs": [],
   "source": [
    "xgb_model = xgb.train(params, dtrain, num_boost_round=100)"
   ]
  },
  {
   "cell_type": "code",
   "execution_count": 113,
   "id": "f4aa2cb4",
   "metadata": {},
   "outputs": [
    {
     "name": "stdout",
     "output_type": "stream",
     "text": [
      "                     feature  importance\n",
      "7                1_min_gaps        1149\n",
      "4             query_sum_idf        1143\n",
      "3          1_phrase_decay30        1122\n",
      "12                  1_wlccs        1071\n",
      "8                     1_atc        1044\n",
      "5               1_hit_count        1032\n",
      "1                     sph04        1021\n",
      "9                  1_tf_idf        1002\n",
      "23      1_min_best_span_pos         910\n",
      "6                 1_max_idf         842\n",
      "16            query_max_idf         804\n",
      "13           1_is_noun_hits         798\n",
      "14         1_phrase_decay10         795\n",
      "15           document_bm25a         689\n",
      "24            1_min_hit_pos         684\n",
      "32            document_bm15         638\n",
      "21                1_sum_idf         597\n",
      "31                0_min_idf         594\n",
      "27                    0_atc         563\n",
      "20                  0_wlccs         537\n",
      "28         0_phrase_decay30         489\n",
      "19                 0_tf_idf         478\n",
      "2          0_phrase_decay10         461\n",
      "18                1_min_idf         430\n",
      "22                0_max_idf         396\n",
      "0                 0_sum_idf         372\n",
      "33            query_max_lcs         359\n",
      "11            query_min_idf         282\n",
      "10      query_is_noun_words         235\n",
      "38      0_min_best_span_pos         225\n",
      "30            0_min_hit_pos         201\n",
      "39               0_min_gaps         163\n",
      "29  document_doc_word_count         129\n",
      "34           0_is_noun_hits         127\n",
      "41                   1_lccs         126\n",
      "36            1_exact_order         121\n",
      "35              0_hit_count         108\n",
      "44             0_word_count          98\n",
      "37             1_word_count          73\n",
      "26    query_is_number_words          61\n",
      "47         1_is_number_hits          60\n",
      "25                    1_lcs          60\n",
      "17         1_has_digit_hits          48\n",
      "42                   0_lccs          45\n",
      "43     query_is_latin_words          43\n",
      "40         0_is_number_hits          40\n",
      "50    query_has_digit_words          35\n",
      "45                    0_lcs          24\n",
      "48          1_is_latin_hits          22\n",
      "52         0_has_digit_hits          16\n",
      "51            0_exact_order           6\n",
      "46          0_is_latin_hits           4\n",
      "49      document_field_mask           2\n",
      "54        0_exact_field_hit           2\n",
      "53              0_exact_hit           1\n"
     ]
    }
   ],
   "source": [
    "xgb_fea_imp=pd.DataFrame(list(xgb_model.get_fscore().items()),\n",
    "                         columns=['feature','importance']).sort_values('importance', ascending=False)\n",
    "print('',xgb_fea_imp)"
   ]
  },
  {
   "cell_type": "code",
   "execution_count": 114,
   "id": "174942c7",
   "metadata": {},
   "outputs": [],
   "source": [
    "from xgboost import plot_importance"
   ]
  },
  {
   "cell_type": "code",
   "execution_count": 115,
   "id": "d42a2411",
   "metadata": {},
   "outputs": [
    {
     "data": {
      "text/plain": [
       "<AxesSubplot:title={'center':'Feature importance'}, xlabel='F score', ylabel='Features'>"
      ]
     },
     "execution_count": 115,
     "metadata": {},
     "output_type": "execute_result"
    },
    {
     "data": {
      "image/png": "[encoded data removed]",
      "text/plain": [
       "<Figure size 432x288 with 1 Axes>"
      ]
     },
     "metadata": {
      "needs_background": "light"
     },
     "output_type": "display_data"
    }
   ],
   "source": [
    "plot_importance(xgb_model, max_num_features=10)"
   ]
  },
  {
   "cell_type": "markdown",
   "id": "b4899fc9",
   "metadata": {},
   "source": [
    "### Spam features"
   ]
  },
  {
   "cell_type": "code",
   "execution_count": 748,
   "id": "3218d266",
   "metadata": {},
   "outputs": [],
   "source": [
    "train_use_df = pd.read_csv('train_use_df.csv', sep='\\t')\n",
    "test_use_df = pd.read_csv('test_use_df.csv', sep='\\t')"
   ]
  },
  {
   "cell_type": "code",
   "execution_count": 854,
   "id": "0225152a",
   "metadata": {},
   "outputs": [],
   "source": [
    "train_use_df = train_use_df.sort_values(by=['query_id', 'doc_id'])\n",
    "test_use_df = test_use_df.sort_values(by=['query_id', 'doc_id'])"
   ]
  },
  {
   "cell_type": "code",
   "execution_count": 722,
   "id": "8a5043b8",
   "metadata": {},
   "outputs": [],
   "source": [
    "def get_urls(df):\n",
    "    urls = []\n",
    "    for _, row in tqdm(df.iterrows(), total=len(df)):\n",
    "        url = url_data_df[url_data_df.doc_id == row.doc_id].url_id.values[0]\n",
    "        urls.append(url)\n",
    "    return urls"
   ]
  },
  {
   "cell_type": "code",
   "execution_count": 739,
   "id": "2bd6a429",
   "metadata": {},
   "outputs": [],
   "source": [
    "url_data_df = pd.read_csv('url.data', header=None, sep='\\t')\n",
    "url_data_df.rename(columns={0: \"doc_id\", 1: \"url_id\"}, inplace=True)"
   ]
  },
  {
   "cell_type": "code",
   "execution_count": 760,
   "id": "ac876e1e",
   "metadata": {},
   "outputs": [],
   "source": [
    "train_df = pd.read_csv('train_sphinx_df.csv', sep='\\t')\n",
    "test_df = pd.read_csv('test_sphinx_df.csv', sep='\\t')"
   ]
  },
  {
   "cell_type": "code",
   "execution_count": 740,
   "id": "5ff4c049",
   "metadata": {},
   "outputs": [
    {
     "data": {
      "application/vnd.jupyter.widget-view+json": {
       "model_id": "651fa713458c40f8b539fedc9ad2433d",
       "version_major": 2,
       "version_minor": 0
      },
      "text/plain": [
       "HBox(children=(FloatProgress(value=0.0, max=199886.0), HTML(value='')))"
      ]
     },
     "metadata": {},
     "output_type": "display_data"
    },
    {
     "name": "stdout",
     "output_type": "stream",
     "text": [
      "\n"
     ]
    }
   ],
   "source": [
    "train_urls = get_urls(train_df)\n",
    "train_df['doc_url'] = train_urls"
   ]
  },
  {
   "cell_type": "code",
   "execution_count": 741,
   "id": "34310622",
   "metadata": {},
   "outputs": [
    {
     "data": {
      "application/vnd.jupyter.widget-view+json": {
       "model_id": "8f2ceb8a537a4c3a9e19ea60ebdb6ed0",
       "version_major": 2,
       "version_minor": 0
      },
      "text/plain": [
       "HBox(children=(FloatProgress(value=0.0, max=399784.0), HTML(value='')))"
      ]
     },
     "metadata": {},
     "output_type": "display_data"
    },
    {
     "name": "stdout",
     "output_type": "stream",
     "text": [
      "\n"
     ]
    }
   ],
   "source": [
    "test_urls = get_urls(test_df)\n",
    "test_df['doc_url'] = test_urls"
   ]
  },
  {
   "cell_type": "code",
   "execution_count": 742,
   "id": "105779e3",
   "metadata": {},
   "outputs": [],
   "source": [
    "train_df.to_csv('train_sphinx_df.csv', index=False, sep='\\t')\n",
    "test_df.to_csv('test_sphinx_df.csv', index=False, sep='\\t')"
   ]
  },
  {
   "cell_type": "code",
   "execution_count": 155,
   "id": "a11c028e",
   "metadata": {},
   "outputs": [],
   "source": [
    "from urllib.parse import urlparse\n",
    "def get_domain_level(url):\n",
    "    prefix_www = 'www.'\n",
    "    if url.find(prefix_www) == 0:\n",
    "        url = url[len(prefix_www):]\n",
    "    return len(urlparse(f\"http://{url}\").netloc.split('.'))\n",
    "\n",
    "def get_url_len(url):\n",
    "    return len(list(url.split('/')))"
   ]
  },
  {
   "cell_type": "code",
   "execution_count": 765,
   "id": "550a80fe",
   "metadata": {},
   "outputs": [],
   "source": [
    "train_use_df = train_use_df.sort_values(by=['query_id', 'doc_id'])\n",
    "train_df = train_df.sort_values(by=['query_id', 'doc_id'])\n",
    "test_use_df = test_use_df.sort_values(by=['query_id', 'doc_id'])\n",
    "test_df = test_df.sort_values(by=['query_id', 'doc_id'])"
   ]
  },
  {
   "cell_type": "code",
   "execution_count": 9,
   "id": "a77f514d",
   "metadata": {},
   "outputs": [],
   "source": [
    "tqdm.pandas()"
   ]
  },
  {
   "cell_type": "code",
   "execution_count": 767,
   "id": "3a5873b8",
   "metadata": {},
   "outputs": [],
   "source": [
    "train_spam_df = pd.DataFrame()\n",
    "train_spam_df['query_id'] = train_df['query_id'].values\n",
    "train_spam_df['doc_id'] = train_df['doc_id'].values\n",
    "train_spam_df['doc_url'] = train_df['doc_url'].values"
   ]
  },
  {
   "cell_type": "code",
   "execution_count": 828,
   "id": "0be7e53a",
   "metadata": {},
   "outputs": [
    {
     "data": {
      "application/vnd.jupyter.widget-view+json": {
       "model_id": "56835bc381344f4a9bf55b7801575e23",
       "version_major": 2,
       "version_minor": 0
      },
      "text/plain": [
       "HBox(children=(FloatProgress(value=0.0, max=199886.0), HTML(value='')))"
      ]
     },
     "metadata": {},
     "output_type": "display_data"
    },
    {
     "name": "stdout",
     "output_type": "stream",
     "text": [
      "\n"
     ]
    }
   ],
   "source": [
    "train_spam_df['domain_level'] = train_spam_df.progress_apply(lambda row: get_domain_level(row['doc_url']), axis=1)"
   ]
  },
  {
   "cell_type": "code",
   "execution_count": 835,
   "id": "e910e35c",
   "metadata": {},
   "outputs": [
    {
     "data": {
      "application/vnd.jupyter.widget-view+json": {
       "model_id": "fd6387f394554c288013ab798391ebbd",
       "version_major": 2,
       "version_minor": 0
      },
      "text/plain": [
       "HBox(children=(FloatProgress(value=0.0, max=199886.0), HTML(value='')))"
      ]
     },
     "metadata": {},
     "output_type": "display_data"
    },
    {
     "name": "stdout",
     "output_type": "stream",
     "text": [
      "\n"
     ]
    }
   ],
   "source": [
    "train_spam_df['url_len'] = train_spam_df.progress_apply(lambda row: get_url_len(row['doc_url']), axis=1)"
   ]
  },
  {
   "cell_type": "code",
   "execution_count": 845,
   "id": "1271a023",
   "metadata": {},
   "outputs": [],
   "source": [
    "train_spam_df.to_csv('train_spam_df.csv', index=False, sep='\\t')"
   ]
  },
  {
   "cell_type": "markdown",
   "id": "6433903c",
   "metadata": {},
   "source": [
    "**test**"
   ]
  },
  {
   "cell_type": "code",
   "execution_count": 150,
   "id": "53846265",
   "metadata": {},
   "outputs": [],
   "source": [
    "test_df = pd.read_csv('test_sphinx_df.csv', sep='\\t')"
   ]
  },
  {
   "cell_type": "code",
   "execution_count": 151,
   "id": "f5b9ea7a",
   "metadata": {},
   "outputs": [],
   "source": [
    "test_use_df.sort_values(by=['query_id', 'doc_id'], inplace=True)\n",
    "test_df = test_df.sort_values(by=['query_id', 'doc_id'], inplace=True)"
   ]
  },
  {
   "cell_type": "code",
   "execution_count": 153,
   "id": "b4c57333",
   "metadata": {},
   "outputs": [],
   "source": [
    "test_spam_df = pd.DataFrame()\n",
    "test_spam_df['query_id'] = test_df['query_id'].values\n",
    "test_spam_df['doc_id'] = test_df['doc_id'].values\n",
    "test_spam_df['doc_url'] = test_df['doc_url'].values"
   ]
  },
  {
   "cell_type": "code",
   "execution_count": 156,
   "id": "a7b425cf",
   "metadata": {},
   "outputs": [
    {
     "data": {
      "application/vnd.jupyter.widget-view+json": {
       "model_id": "7c0c089963f34ec292fd836ce1232cef",
       "version_major": 2,
       "version_minor": 0
      },
      "text/plain": [
       "HBox(children=(FloatProgress(value=0.0, max=399784.0), HTML(value='')))"
      ]
     },
     "metadata": {},
     "output_type": "display_data"
    },
    {
     "name": "stdout",
     "output_type": "stream",
     "text": [
      "\n"
     ]
    }
   ],
   "source": [
    "test_spam_df['domain_level'] = test_spam_df.progress_apply(lambda row: get_domain_level(row['doc_url']), axis=1)"
   ]
  },
  {
   "cell_type": "code",
   "execution_count": 157,
   "id": "f785a9ef",
   "metadata": {},
   "outputs": [
    {
     "data": {
      "application/vnd.jupyter.widget-view+json": {
       "model_id": "aa824787cac64bef817773dee368a043",
       "version_major": 2,
       "version_minor": 0
      },
      "text/plain": [
       "HBox(children=(FloatProgress(value=0.0, max=399784.0), HTML(value='')))"
      ]
     },
     "metadata": {},
     "output_type": "display_data"
    },
    {
     "name": "stdout",
     "output_type": "stream",
     "text": [
      "\n"
     ]
    }
   ],
   "source": [
    "test_spam_df['url_len'] = test_spam_df.progress_apply(lambda row: get_url_len(row['doc_url']), axis=1)"
   ]
  },
  {
   "cell_type": "code",
   "execution_count": 158,
   "id": "86b130ce",
   "metadata": {},
   "outputs": [],
   "source": [
    "test_spam_df.to_csv('test_spam_df.csv', index=False, sep='\\t')"
   ]
  },
  {
   "cell_type": "markdown",
   "id": "f9b15720",
   "metadata": {},
   "source": [
    "**Классификатор спама**"
   ]
  },
  {
   "cell_type": "code",
   "execution_count": 17,
   "id": "4a7529b5",
   "metadata": {},
   "outputs": [],
   "source": [
    "from collections import namedtuple\n",
    "DocItem = namedtuple('DocItem', ['doc_id', 'is_spam', 'url', 'features'])"
   ]
  },
  {
   "cell_type": "code",
   "execution_count": 24,
   "id": "2340c21d",
   "metadata": {},
   "outputs": [],
   "source": [
    "spam_train_docs = helpers.load_obj('spam_train_docs')\n",
    "spam_test_docs = helpers.load_obj('spam_test_docs')"
   ]
  },
  {
   "cell_type": "code",
   "execution_count": 25,
   "id": "3f01a377",
   "metadata": {},
   "outputs": [],
   "source": [
    "doc_features = spam_train_docs[0].features.keys()\n",
    "spam_df_columns = ['doc_id', 'target'] + [k for k in doc_features]"
   ]
  },
  {
   "cell_type": "code",
   "execution_count": 27,
   "id": "4bca6c6e",
   "metadata": {},
   "outputs": [],
   "source": [
    "spam_train_df = pd.concat([pd.DataFrame([[doc.doc_id, str(int(doc.is_spam))] + [doc.features[k] for k in doc_features]], \n",
    "                           columns=spam_df_columns) \n",
    "                           for doc in spam_train_docs], ignore_index=True)\n",
    "spam_train_df.set_index('doc_id',inplace=True)\n",
    "\n",
    "spam_test_df = pd.concat([pd.DataFrame([[doc.doc_id, str(int(doc.is_spam))] + [doc.features[k] for k in doc_features]], \n",
    "                          columns=spam_df_columns) \n",
    "                          for doc in spam_test_docs], ignore_index=True)\n",
    "spam_test_df.set_index('doc_id',inplace=True)"
   ]
  },
  {
   "cell_type": "code",
   "execution_count": 28,
   "id": "dd6fb4bd",
   "metadata": {},
   "outputs": [],
   "source": [
    "from sklearn.feature_extraction.text import TfidfTransformer\n",
    "from sklearn.feature_extraction.text import TfidfVectorizer\n",
    "from sklearn.feature_extraction.text import CountVectorizer"
   ]
  },
  {
   "cell_type": "code",
   "execution_count": 29,
   "id": "a4d5d109",
   "metadata": {},
   "outputs": [],
   "source": [
    "spam_texts = pd.concat([spam_train_df['tokenized_text'], spam_test_df['tokenized_text']])"
   ]
  },
  {
   "cell_type": "code",
   "execution_count": 30,
   "id": "7a45059b",
   "metadata": {},
   "outputs": [
    {
     "data": {
      "text/plain": [
       "TfidfVectorizer(analyzer='word', binary=False, decode_error='strict',\n",
       "                dtype=<class 'numpy.float64'>, encoding='utf-8',\n",
       "                input='content', lowercase=True, max_df=1.0, max_features=50000,\n",
       "                min_df=1, ngram_range=(1, 3), norm='l2', preprocessor=None,\n",
       "                smooth_idf=True, stop_words=None, strip_accents=None,\n",
       "                sublinear_tf=False, token_pattern='(?u)\\\\b\\\\w\\\\w+\\\\b',\n",
       "                tokenizer=None, use_idf=True, vocabulary=None)"
      ]
     },
     "execution_count": 30,
     "metadata": {},
     "output_type": "execute_result"
    }
   ],
   "source": [
    "MAX_TFIDF_FEATURES = 50_000\n",
    "spam_tf_idf_vectorizer = TfidfVectorizer(max_features=MAX_TFIDF_FEATURES, ngram_range = (1, 3))\n",
    "spam_tf_idf_vectorizer.fit(spam_texts)"
   ]
  },
  {
   "cell_type": "code",
   "execution_count": 31,
   "id": "a3c26694",
   "metadata": {},
   "outputs": [],
   "source": [
    "spam_tf_idf_train = spam_tf_idf_vectorizer.transform(spam_train_df.tokenized_text)\n",
    "spam_tf_idf_test = spam_tf_idf_vectorizer.transform(spam_test_df.tokenized_text)"
   ]
  },
  {
   "cell_type": "code",
   "execution_count": 34,
   "id": "2e1d2919",
   "metadata": {},
   "outputs": [],
   "source": [
    "from sklearn.naive_bayes import MultinomialNB\n",
    "from sklearn.model_selection import train_test_split\n",
    "from sklearn.metrics import f1_score"
   ]
  },
  {
   "cell_type": "code",
   "execution_count": 35,
   "id": "86217147",
   "metadata": {},
   "outputs": [],
   "source": [
    "X_train, X_test, y_train, y_test = train_test_split(spam_tf_idf_train, spam_train_df['target'], \n",
    "                                                    test_size=0.1, random_state=69, stratify=spam_train_df['target'])"
   ]
  },
  {
   "cell_type": "code",
   "execution_count": 36,
   "id": "dffdd07a",
   "metadata": {},
   "outputs": [],
   "source": [
    "model_nb = MultinomialNB().fit(X_train, y_train)"
   ]
  },
  {
   "cell_type": "code",
   "execution_count": 37,
   "id": "5e4cbd9b",
   "metadata": {},
   "outputs": [
    {
     "data": {
      "text/plain": [
       "0.9303711986255727"
      ]
     },
     "execution_count": 37,
     "metadata": {},
     "output_type": "execute_result"
    }
   ],
   "source": [
    "y_pred = model_nb.predict(X_test)\n",
    "f1_score(y_test, y_pred, average='weighted')"
   ]
  },
  {
   "cell_type": "code",
   "execution_count": 38,
   "id": "63994588",
   "metadata": {},
   "outputs": [],
   "source": [
    "model_nb = MultinomialNB().fit(spam_tf_idf_train, spam_train_df['target'])"
   ]
  },
  {
   "cell_type": "code",
   "execution_count": 40,
   "id": "43658db6",
   "metadata": {},
   "outputs": [],
   "source": [
    "helpers.save_obj(model_nb, 'spam_model')"
   ]
  },
  {
   "cell_type": "code",
   "execution_count": 43,
   "id": "f6f9ba56",
   "metadata": {},
   "outputs": [],
   "source": [
    "helpers.save_obj(spam_tf_idf_vectorizer, 'spam_tf_idf_vectorizer')"
   ]
  },
  {
   "cell_type": "markdown",
   "id": "8bed16c5",
   "metadata": {},
   "source": [
    "**Dataframe с признаками спама**"
   ]
  },
  {
   "cell_type": "code",
   "execution_count": 51,
   "id": "7feb4f08",
   "metadata": {},
   "outputs": [],
   "source": [
    "train_spam_df = pd.read_csv('train_spam_df.csv', sep='\\t')\n",
    "train_use_df = pd.read_csv('train_use_df.csv', sep='\\t')"
   ]
  },
  {
   "cell_type": "code",
   "execution_count": 8,
   "id": "809e5289",
   "metadata": {},
   "outputs": [],
   "source": [
    "spam_model = helpers.load_obj('spam_model')\n",
    "spam_tf_idf_vectorizer = helpers.load_obj('spam_tf_idf_vectorizer')"
   ]
  },
  {
   "cell_type": "code",
   "execution_count": 52,
   "id": "ee79596e",
   "metadata": {},
   "outputs": [],
   "source": [
    "train_use_df['doc_snippet_1024_norm'].fillna('', inplace=True)"
   ]
  },
  {
   "cell_type": "code",
   "execution_count": 53,
   "id": "e9e2caf2",
   "metadata": {},
   "outputs": [],
   "source": [
    "train_use_df.sort_values(by=['query_id', 'doc_id'], inplace=True)\n",
    "train_spam_df.sort_values(by=['query_id', 'doc_id'], inplace=True)"
   ]
  },
  {
   "cell_type": "code",
   "execution_count": 54,
   "id": "c538c911",
   "metadata": {},
   "outputs": [],
   "source": [
    "spam_tf_idf_train = spam_tf_idf_vectorizer.transform(train_use_df.doc_snippet_1024_norm)"
   ]
  },
  {
   "cell_type": "code",
   "execution_count": 55,
   "id": "4a36253f",
   "metadata": {},
   "outputs": [],
   "source": [
    "train_spam_df['proba_spam'] = spam_model.predict_proba(spam_tf_idf_train)[:, 1]"
   ]
  },
  {
   "cell_type": "code",
   "execution_count": 26,
   "id": "53a867ac",
   "metadata": {},
   "outputs": [],
   "source": [
    "tqdm.pandas()"
   ]
  },
  {
   "cell_type": "code",
   "execution_count": 57,
   "id": "bf858d21",
   "metadata": {},
   "outputs": [
    {
     "data": {
      "application/vnd.jupyter.widget-view+json": {
       "model_id": "785f2b8f9a934b7b909156642fda814a",
       "version_major": 2,
       "version_minor": 0
      },
      "text/plain": [
       "HBox(children=(FloatProgress(value=0.0, max=199886.0), HTML(value='')))"
      ]
     },
     "metadata": {},
     "output_type": "display_data"
    },
    {
     "name": "stdout",
     "output_type": "stream",
     "text": [
      "\n"
     ]
    },
    {
     "data": {
      "application/vnd.jupyter.widget-view+json": {
       "model_id": "cfeb8f4339bc48e38b5c75348cd0d7f5",
       "version_major": 2,
       "version_minor": 0
      },
      "text/plain": [
       "HBox(children=(FloatProgress(value=0.0, max=202079.0), HTML(value='')))"
      ]
     },
     "metadata": {},
     "output_type": "display_data"
    },
    {
     "name": "stdout",
     "output_type": "stream",
     "text": [
      "\n"
     ]
    }
   ],
   "source": [
    "marks_df = pd.read_csv('train.marks.tsv', sep='\\t', header=None)\n",
    "marks_df.rename(columns={0: \"query_id\", 1: \"doc_id\", 2: \"mark\"}, inplace=True)\n",
    "train_spam_df['query_id+doc_id'] = train_spam_df.progress_apply(lambda row: str(row['query_id']) + '-' + str(row['doc_id']), axis=1)\n",
    "marks_df['query_id+doc_id'] = marks_df.progress_apply(lambda row: str(row['query_id']) + '-' + str(row['doc_id']), axis=1)\n",
    "exist_marks_df = marks_df.loc[marks_df['query_id+doc_id'].isin(train_spam_df['query_id+doc_id'].values)]\n",
    "exist_marks_df = exist_marks_df.sort_values(by=['query_id', 'doc_id'])"
   ]
  },
  {
   "cell_type": "code",
   "execution_count": 60,
   "id": "518e2180",
   "metadata": {},
   "outputs": [],
   "source": [
    "train_spam_df['mark'] = exist_marks_df.mark.values"
   ]
  },
  {
   "cell_type": "code",
   "execution_count": 64,
   "id": "2f5b3cc8",
   "metadata": {},
   "outputs": [
    {
     "data": {
      "text/html": [
       "<div>\n",
       "<style scoped>\n",
       "    .dataframe tbody tr th:only-of-type {\n",
       "        vertical-align: middle;\n",
       "    }\n",
       "\n",
       "    .dataframe tbody tr th {\n",
       "        vertical-align: top;\n",
       "    }\n",
       "\n",
       "    .dataframe thead th {\n",
       "        text-align: right;\n",
       "    }\n",
       "</style>\n",
       "<table border=\"1\" class=\"dataframe\">\n",
       "  <thead>\n",
       "    <tr style=\"text-align: right;\">\n",
       "      <th></th>\n",
       "      <th>query_id</th>\n",
       "      <th>doc_id</th>\n",
       "      <th>doc_url</th>\n",
       "      <th>domain_level</th>\n",
       "      <th>url_len</th>\n",
       "      <th>proba_spam</th>\n",
       "      <th>query_id+doc_id</th>\n",
       "      <th>mark</th>\n",
       "    </tr>\n",
       "  </thead>\n",
       "  <tbody>\n",
       "    <tr>\n",
       "      <th>25192</th>\n",
       "      <td>820</td>\n",
       "      <td>163700</td>\n",
       "      <td>battlecarnival.ru/</td>\n",
       "      <td>2</td>\n",
       "      <td>2</td>\n",
       "      <td>0.675125</td>\n",
       "      <td>820-163700</td>\n",
       "      <td>5</td>\n",
       "    </tr>\n",
       "    <tr>\n",
       "      <th>28301</th>\n",
       "      <td>905</td>\n",
       "      <td>231956</td>\n",
       "      <td>online.ettu.ru/map/trams</td>\n",
       "      <td>3</td>\n",
       "      <td>3</td>\n",
       "      <td>0.660722</td>\n",
       "      <td>905-231956</td>\n",
       "      <td>5</td>\n",
       "    </tr>\n",
       "    <tr>\n",
       "      <th>1706</th>\n",
       "      <td>47</td>\n",
       "      <td>576666</td>\n",
       "      <td>privatbank.ua/udalenniy-banking/privat24/faq-736/</td>\n",
       "      <td>2</td>\n",
       "      <td>5</td>\n",
       "      <td>0.620205</td>\n",
       "      <td>47-576666</td>\n",
       "      <td>5</td>\n",
       "    </tr>\n",
       "    <tr>\n",
       "      <th>107340</th>\n",
       "      <td>3506</td>\n",
       "      <td>82757</td>\n",
       "      <td>www.activ.kz/ru/service/number</td>\n",
       "      <td>2</td>\n",
       "      <td>4</td>\n",
       "      <td>0.583333</td>\n",
       "      <td>3506-82757</td>\n",
       "      <td>5</td>\n",
       "    </tr>\n",
       "    <tr>\n",
       "      <th>26023</th>\n",
       "      <td>858</td>\n",
       "      <td>253707</td>\n",
       "      <td>gdepapa.ru/</td>\n",
       "      <td>2</td>\n",
       "      <td>2</td>\n",
       "      <td>0.513999</td>\n",
       "      <td>858-253707</td>\n",
       "      <td>5</td>\n",
       "    </tr>\n",
       "    <tr>\n",
       "      <th>26027</th>\n",
       "      <td>858</td>\n",
       "      <td>253711</td>\n",
       "      <td>gdepapa.ru/blogs/newpost/</td>\n",
       "      <td>2</td>\n",
       "      <td>4</td>\n",
       "      <td>0.513999</td>\n",
       "      <td>858-253711</td>\n",
       "      <td>5</td>\n",
       "    </tr>\n",
       "    <tr>\n",
       "      <th>26633</th>\n",
       "      <td>866</td>\n",
       "      <td>253756</td>\n",
       "      <td>gdeposylka.ru/</td>\n",
       "      <td>2</td>\n",
       "      <td>2</td>\n",
       "      <td>0.411942</td>\n",
       "      <td>866-253756</td>\n",
       "      <td>5</td>\n",
       "    </tr>\n",
       "    <tr>\n",
       "      <th>26736</th>\n",
       "      <td>867</td>\n",
       "      <td>253756</td>\n",
       "      <td>gdeposylka.ru/</td>\n",
       "      <td>2</td>\n",
       "      <td>2</td>\n",
       "      <td>0.411942</td>\n",
       "      <td>867-253756</td>\n",
       "      <td>5</td>\n",
       "    </tr>\n",
       "    <tr>\n",
       "      <th>28296</th>\n",
       "      <td>905</td>\n",
       "      <td>231950</td>\n",
       "      <td>m.ettu.ru/</td>\n",
       "      <td>3</td>\n",
       "      <td>2</td>\n",
       "      <td>0.398614</td>\n",
       "      <td>905-231950</td>\n",
       "      <td>5</td>\n",
       "    </tr>\n",
       "    <tr>\n",
       "      <th>28298</th>\n",
       "      <td>905</td>\n",
       "      <td>231952</td>\n",
       "      <td>mobile.ettu.ru/</td>\n",
       "      <td>3</td>\n",
       "      <td>2</td>\n",
       "      <td>0.398614</td>\n",
       "      <td>905-231952</td>\n",
       "      <td>5</td>\n",
       "    </tr>\n",
       "  </tbody>\n",
       "</table>\n",
       "</div>"
      ],
      "text/plain": [
       "        query_id  doc_id                                            doc_url  \\\n",
       "25192        820  163700                                 battlecarnival.ru/   \n",
       "28301        905  231956                           online.ettu.ru/map/trams   \n",
       "1706          47  576666  privatbank.ua/udalenniy-banking/privat24/faq-736/   \n",
       "107340      3506   82757                     www.activ.kz/ru/service/number   \n",
       "26023        858  253707                                        gdepapa.ru/   \n",
       "26027        858  253711                          gdepapa.ru/blogs/newpost/   \n",
       "26633        866  253756                                     gdeposylka.ru/   \n",
       "26736        867  253756                                     gdeposylka.ru/   \n",
       "28296        905  231950                                         m.ettu.ru/   \n",
       "28298        905  231952                                    mobile.ettu.ru/   \n",
       "\n",
       "        domain_level  url_len  proba_spam query_id+doc_id  mark  \n",
       "25192              2        2    0.675125      820-163700     5  \n",
       "28301              3        3    0.660722      905-231956     5  \n",
       "1706               2        5    0.620205       47-576666     5  \n",
       "107340             2        4    0.583333      3506-82757     5  \n",
       "26023              2        2    0.513999      858-253707     5  \n",
       "26027              2        4    0.513999      858-253711     5  \n",
       "26633              2        2    0.411942      866-253756     5  \n",
       "26736              2        2    0.411942      867-253756     5  \n",
       "28296              3        2    0.398614      905-231950     5  \n",
       "28298              3        2    0.398614      905-231952     5  "
      ]
     },
     "execution_count": 64,
     "metadata": {},
     "output_type": "execute_result"
    }
   ],
   "source": [
    "train_spam_df.sort_values(by=['mark', 'proba_spam'], ascending=False)[:10]"
   ]
  },
  {
   "cell_type": "code",
   "execution_count": 62,
   "id": "a8695286",
   "metadata": {},
   "outputs": [],
   "source": [
    "train_spam_df.to_csv('train_spam_df.csv', index=False, sep='\\t')"
   ]
  },
  {
   "cell_type": "markdown",
   "id": "13c6d6d2",
   "metadata": {},
   "source": [
    "**test**"
   ]
  },
  {
   "cell_type": "code",
   "execution_count": 160,
   "id": "c33e51a5",
   "metadata": {},
   "outputs": [],
   "source": [
    "test_spam_df = pd.read_csv('test_spam_df.csv', sep='\\t')\n",
    "test_use_df = pd.read_csv('test_use_df.csv', sep='\\t')\n",
    "\n",
    "test_spam_df.sort_values(by=['query_id', 'doc_id'], inplace=True)\n",
    "test_use_df.sort_values(by=['query_id', 'doc_id'], inplace=True)"
   ]
  },
  {
   "cell_type": "code",
   "execution_count": 177,
   "id": "41add8ba",
   "metadata": {},
   "outputs": [],
   "source": [
    "test_use_df['doc_snippet_1024_norm'].fillna('', inplace=True)"
   ]
  },
  {
   "cell_type": "code",
   "execution_count": 178,
   "id": "4330b0ba",
   "metadata": {},
   "outputs": [],
   "source": [
    "spam_tf_idf_test = spam_tf_idf_vectorizer.transform(test_use_df.doc_snippet_1024_norm)"
   ]
  },
  {
   "cell_type": "code",
   "execution_count": 181,
   "id": "009bbacb",
   "metadata": {},
   "outputs": [],
   "source": [
    "test_spam_df['proba_spam'] = spam_model.predict_proba(spam_tf_idf_test)[:, 1]"
   ]
  },
  {
   "cell_type": "code",
   "execution_count": 182,
   "id": "db09a5d5",
   "metadata": {},
   "outputs": [],
   "source": [
    "test_spam_df.to_csv('test_spam_df.csv', index=False, sep='\\t')"
   ]
  },
  {
   "cell_type": "markdown",
   "id": "d94da170",
   "metadata": {},
   "source": [
    "### With USE"
   ]
  },
  {
   "cell_type": "code",
   "execution_count": 160,
   "id": "4209b3ca",
   "metadata": {},
   "outputs": [],
   "source": [
    "tqdm.pandas()"
   ]
  },
  {
   "cell_type": "code",
   "execution_count": 240,
   "id": "91b3cb95",
   "metadata": {},
   "outputs": [],
   "source": [
    "data_df = pd.read_csv('mark_data_df_use_qa.csv', sep='\\t')\n",
    "marks_df = pd.read_csv('train.marks.tsv', sep='\\t', header=None)\n",
    "marks_df.rename(columns={0: \"QueryID\", 1: \"DocID\", 2: \"Mark\"}, inplace=True)"
   ]
  },
  {
   "cell_type": "code",
   "execution_count": 241,
   "id": "1943f09f",
   "metadata": {},
   "outputs": [
    {
     "data": {
      "application/vnd.jupyter.widget-view+json": {
       "model_id": "bebe73db9f384e37b71e87a5053ae1cf",
       "version_major": 2,
       "version_minor": 0
      },
      "text/plain": [
       "HBox(children=(FloatProgress(value=0.0, max=199886.0), HTML(value='')))"
      ]
     },
     "metadata": {},
     "output_type": "display_data"
    },
    {
     "name": "stdout",
     "output_type": "stream",
     "text": [
      "\n"
     ]
    }
   ],
   "source": [
    "data_df['query_id+doc_id'] = data_df.progress_apply(lambda row: str(row['query_id']) + '-' + str(row['doc_id']), axis=1)"
   ]
  },
  {
   "cell_type": "code",
   "execution_count": 242,
   "id": "01f3511b",
   "metadata": {},
   "outputs": [
    {
     "data": {
      "application/vnd.jupyter.widget-view+json": {
       "model_id": "3321148783554676a3d436d6daf2af71",
       "version_major": 2,
       "version_minor": 0
      },
      "text/plain": [
       "HBox(children=(FloatProgress(value=0.0, max=202079.0), HTML(value='')))"
      ]
     },
     "metadata": {},
     "output_type": "display_data"
    },
    {
     "name": "stdout",
     "output_type": "stream",
     "text": [
      "\n"
     ]
    }
   ],
   "source": [
    "marks_df['query_id+doc_id'] = marks_df.progress_apply(lambda row: str(row['QueryID']) + '-' + str(row['DocID']), axis=1)"
   ]
  },
  {
   "cell_type": "code",
   "execution_count": 243,
   "id": "77c2fe09",
   "metadata": {},
   "outputs": [],
   "source": [
    "exist_marks_df = marks_df.loc[marks_df['query_id+doc_id'].isin(data_df['query_id+doc_id'].values)]"
   ]
  },
  {
   "cell_type": "code",
   "execution_count": 244,
   "id": "2269c0ec",
   "metadata": {},
   "outputs": [],
   "source": [
    "exist_marks_df = exist_marks_df.sort_values(by=['QueryID', 'DocID'])"
   ]
  },
  {
   "cell_type": "code",
   "execution_count": 245,
   "id": "d2d55a1e",
   "metadata": {},
   "outputs": [],
   "source": [
    "data_df = data_df.sort_values(by=['query_id', 'doc_id'])"
   ]
  },
  {
   "cell_type": "code",
   "execution_count": 246,
   "id": "53df1de3",
   "metadata": {},
   "outputs": [],
   "source": [
    "y_train = exist_marks_df['Mark'].values"
   ]
  },
  {
   "cell_type": "code",
   "execution_count": 306,
   "id": "be9ba83a",
   "metadata": {},
   "outputs": [],
   "source": [
    "drop_columns = ['doc_title', 'doc_title_norm', \n",
    "                'doc_snippet', 'doc_id', 'query_id', 'query_id+doc_id']"
   ]
  },
  {
   "cell_type": "code",
   "execution_count": 271,
   "id": "6ef68d18",
   "metadata": {},
   "outputs": [],
   "source": [
    "drop_columns = ['doc_title', 'doc_title_norm', \n",
    "                'doc_snippet', 'doc_id', 'query_id', 'query_id+doc_id']\n",
    "drop_columns = drop_columns + list(xgb_fea_imp[xgb_fea_imp.importance < 100]['feature'].values.ravel())"
   ]
  },
  {
   "cell_type": "code",
   "execution_count": 209,
   "id": "9ed20000",
   "metadata": {},
   "outputs": [],
   "source": [
    "drop_columns = ['doc_title', 'doc_title_norm', \n",
    "                'doc_snippet', 'doc_id', 'query_id', 'query_id+doc_id',\n",
    "                'query_is_number_words',\n",
    "                '1_is_number_hits',\n",
    "                '1_lcs',\n",
    "                '1_has_digit_hits',\n",
    "                'query_is_latin_words',\n",
    "                '0_is_number_hits',\n",
    "                'query_has_digit_words',\n",
    "                '0_lcs',\n",
    "                '1_is_latin_hits',\n",
    "                '0_has_digit_hits',\n",
    "                '0_exact_order',\n",
    "                '0_is_latin_hits',\n",
    "                'document_field_mask',\n",
    "                '0_exact_field_hit',\n",
    "                '0_word_count',\n",
    "                '1_word_count',\n",
    "                '0_full_field_hit',\n",
    "                'document_doc_word_count',\n",
    "                '1_exact_order',\n",
    "                '0_hit_count']"
   ]
  },
  {
   "cell_type": "code",
   "execution_count": 307,
   "id": "6d5b14b0",
   "metadata": {},
   "outputs": [],
   "source": [
    "X_train = data_df.drop(drop_columns, axis=1).to_numpy()"
   ]
  },
  {
   "cell_type": "code",
   "execution_count": 308,
   "id": "6ccf1545",
   "metadata": {},
   "outputs": [],
   "source": [
    "qids_unique = np.unique(train_df['query_id'], return_counts=False)"
   ]
  },
  {
   "cell_type": "code",
   "execution_count": 250,
   "id": "ef373021",
   "metadata": {},
   "outputs": [
    {
     "data": {
      "text/plain": [
       "2111"
      ]
     },
     "execution_count": 250,
     "metadata": {},
     "output_type": "execute_result"
    }
   ],
   "source": [
    "len(qids_unique)"
   ]
  },
  {
   "cell_type": "code",
   "execution_count": 213,
   "id": "ca1bd435",
   "metadata": {},
   "outputs": [],
   "source": [
    "import xgboost as xgb"
   ]
  },
  {
   "cell_type": "code",
   "execution_count": 309,
   "id": "f353e943",
   "metadata": {},
   "outputs": [],
   "source": [
    "grp_val_indices = np.random.choice(qids_unique, 300, replace=False)"
   ]
  },
  {
   "cell_type": "code",
   "execution_count": 310,
   "id": "c36d443e",
   "metadata": {},
   "outputs": [],
   "source": [
    "t_indices, val_indices = get_t_val_indices(data_df['query_id'].values, grp_val_indices)"
   ]
  },
  {
   "cell_type": "code",
   "execution_count": 311,
   "id": "201a0b7f",
   "metadata": {},
   "outputs": [],
   "source": [
    "X_val = X_train[val_indices]\n",
    "y_val = y_train[val_indices]\n",
    "X_t = X_train[t_indices]\n",
    "y_t = y_train[t_indices]"
   ]
  },
  {
   "cell_type": "code",
   "execution_count": 312,
   "id": "23cc8eac",
   "metadata": {},
   "outputs": [],
   "source": [
    "dt = xgb.DMatrix(data = X_t, label = y_t)\n",
    "dt.set_group(np.unique(train_df['query_id'].values[t_indices], return_counts=True)[1])\n",
    "dval = xgb.DMatrix(data = X_val, label = y_val)\n",
    "dval.set_group(np.unique(train_df['query_id'].values[val_indices], return_counts=True)[1])"
   ]
  },
  {
   "cell_type": "code",
   "execution_count": 313,
   "id": "c64f0b33",
   "metadata": {},
   "outputs": [],
   "source": [
    "params = {'objective': 'rank:ndcg', 'eta': 0.1,\n",
    "          'max_depth': 10,\n",
    "          'eval_metric': 'ndcg@5'}"
   ]
  },
  {
   "cell_type": "code",
   "execution_count": 314,
   "id": "1f590952",
   "metadata": {},
   "outputs": [
    {
     "name": "stdout",
     "output_type": "stream",
     "text": [
      "[0]\tdval-ndcg@5:0.60019\n",
      "[1]\tdval-ndcg@5:0.61547\n",
      "[2]\tdval-ndcg@5:0.61735\n",
      "[3]\tdval-ndcg@5:0.62617\n",
      "[4]\tdval-ndcg@5:0.63311\n",
      "[5]\tdval-ndcg@5:0.63052\n",
      "[6]\tdval-ndcg@5:0.64087\n",
      "[7]\tdval-ndcg@5:0.65632\n",
      "[8]\tdval-ndcg@5:0.65765\n",
      "[9]\tdval-ndcg@5:0.65957\n",
      "[10]\tdval-ndcg@5:0.66065\n",
      "[11]\tdval-ndcg@5:0.66024\n",
      "[12]\tdval-ndcg@5:0.66245\n",
      "[13]\tdval-ndcg@5:0.66197\n",
      "[14]\tdval-ndcg@5:0.66651\n",
      "[15]\tdval-ndcg@5:0.66519\n",
      "[16]\tdval-ndcg@5:0.66662\n",
      "[17]\tdval-ndcg@5:0.66756\n",
      "[18]\tdval-ndcg@5:0.66539\n",
      "[19]\tdval-ndcg@5:0.66794\n",
      "[20]\tdval-ndcg@5:0.67037\n",
      "[21]\tdval-ndcg@5:0.67236\n",
      "[22]\tdval-ndcg@5:0.66893\n",
      "[23]\tdval-ndcg@5:0.66704\n",
      "[24]\tdval-ndcg@5:0.66752\n",
      "[25]\tdval-ndcg@5:0.66617\n",
      "[26]\tdval-ndcg@5:0.66535\n",
      "[27]\tdval-ndcg@5:0.66565\n",
      "[28]\tdval-ndcg@5:0.66810\n",
      "[29]\tdval-ndcg@5:0.67081\n",
      "[30]\tdval-ndcg@5:0.66944\n",
      "[31]\tdval-ndcg@5:0.67200\n",
      "[32]\tdval-ndcg@5:0.67564\n",
      "[33]\tdval-ndcg@5:0.67571\n",
      "[34]\tdval-ndcg@5:0.67563\n",
      "[35]\tdval-ndcg@5:0.67787\n",
      "[36]\tdval-ndcg@5:0.67723\n",
      "[37]\tdval-ndcg@5:0.67541\n",
      "[38]\tdval-ndcg@5:0.67613\n",
      "[39]\tdval-ndcg@5:0.67570\n",
      "[40]\tdval-ndcg@5:0.67641\n",
      "[41]\tdval-ndcg@5:0.67278\n",
      "[42]\tdval-ndcg@5:0.67492\n",
      "[43]\tdval-ndcg@5:0.67351\n",
      "[44]\tdval-ndcg@5:0.67794\n",
      "[45]\tdval-ndcg@5:0.67394\n",
      "[46]\tdval-ndcg@5:0.67552\n",
      "[47]\tdval-ndcg@5:0.67576\n",
      "[48]\tdval-ndcg@5:0.67526\n",
      "[49]\tdval-ndcg@5:0.67336\n",
      "[50]\tdval-ndcg@5:0.67480\n",
      "[51]\tdval-ndcg@5:0.67651\n",
      "[52]\tdval-ndcg@5:0.67891\n",
      "[53]\tdval-ndcg@5:0.67759\n",
      "[54]\tdval-ndcg@5:0.67719\n",
      "[55]\tdval-ndcg@5:0.67669\n",
      "[56]\tdval-ndcg@5:0.67795\n",
      "[57]\tdval-ndcg@5:0.67607\n",
      "[58]\tdval-ndcg@5:0.67627\n",
      "[59]\tdval-ndcg@5:0.67376\n",
      "[60]\tdval-ndcg@5:0.67415\n",
      "[61]\tdval-ndcg@5:0.67175\n",
      "[62]\tdval-ndcg@5:0.67285\n",
      "[63]\tdval-ndcg@5:0.67534\n",
      "[64]\tdval-ndcg@5:0.67374\n",
      "[65]\tdval-ndcg@5:0.67506\n",
      "[66]\tdval-ndcg@5:0.67553\n",
      "[67]\tdval-ndcg@5:0.67468\n",
      "[68]\tdval-ndcg@5:0.67654\n",
      "[69]\tdval-ndcg@5:0.67254\n",
      "[70]\tdval-ndcg@5:0.67534\n",
      "[71]\tdval-ndcg@5:0.67457\n",
      "[72]\tdval-ndcg@5:0.67235\n",
      "[73]\tdval-ndcg@5:0.67557\n",
      "[74]\tdval-ndcg@5:0.67542\n",
      "[75]\tdval-ndcg@5:0.67449\n",
      "[76]\tdval-ndcg@5:0.67772\n",
      "[77]\tdval-ndcg@5:0.67587\n",
      "[78]\tdval-ndcg@5:0.67650\n",
      "[79]\tdval-ndcg@5:0.67736\n",
      "[80]\tdval-ndcg@5:0.67695\n",
      "[81]\tdval-ndcg@5:0.67461\n",
      "[82]\tdval-ndcg@5:0.67390\n",
      "[83]\tdval-ndcg@5:0.67347\n",
      "[84]\tdval-ndcg@5:0.67260\n",
      "[85]\tdval-ndcg@5:0.67537\n",
      "[86]\tdval-ndcg@5:0.67476\n",
      "[87]\tdval-ndcg@5:0.67407\n",
      "[88]\tdval-ndcg@5:0.67690\n",
      "[89]\tdval-ndcg@5:0.67617\n",
      "[90]\tdval-ndcg@5:0.67658\n",
      "[91]\tdval-ndcg@5:0.67849\n",
      "[92]\tdval-ndcg@5:0.67694\n",
      "[93]\tdval-ndcg@5:0.67613\n",
      "[94]\tdval-ndcg@5:0.67479\n",
      "[95]\tdval-ndcg@5:0.67563\n",
      "[96]\tdval-ndcg@5:0.67337\n",
      "[97]\tdval-ndcg@5:0.67534\n",
      "[98]\tdval-ndcg@5:0.67631\n",
      "[99]\tdval-ndcg@5:0.67553\n",
      "[100]\tdval-ndcg@5:0.67378\n",
      "[101]\tdval-ndcg@5:0.67405\n",
      "[102]\tdval-ndcg@5:0.67485\n",
      "[103]\tdval-ndcg@5:0.67658\n",
      "[104]\tdval-ndcg@5:0.67833\n",
      "[105]\tdval-ndcg@5:0.67797\n",
      "[106]\tdval-ndcg@5:0.67799\n",
      "[107]\tdval-ndcg@5:0.67987\n",
      "[108]\tdval-ndcg@5:0.68087\n",
      "[109]\tdval-ndcg@5:0.68090\n",
      "[110]\tdval-ndcg@5:0.67887\n",
      "[111]\tdval-ndcg@5:0.68081\n",
      "[112]\tdval-ndcg@5:0.67978\n",
      "[113]\tdval-ndcg@5:0.68095\n",
      "[114]\tdval-ndcg@5:0.67824\n",
      "[115]\tdval-ndcg@5:0.67966\n",
      "[116]\tdval-ndcg@5:0.67987\n",
      "[117]\tdval-ndcg@5:0.67956\n",
      "[118]\tdval-ndcg@5:0.67965\n",
      "[119]\tdval-ndcg@5:0.67838\n",
      "[120]\tdval-ndcg@5:0.68239\n",
      "[121]\tdval-ndcg@5:0.68162\n",
      "[122]\tdval-ndcg@5:0.68245\n",
      "[123]\tdval-ndcg@5:0.68252\n",
      "[124]\tdval-ndcg@5:0.68218\n",
      "[125]\tdval-ndcg@5:0.68475\n",
      "[126]\tdval-ndcg@5:0.68511\n",
      "[127]\tdval-ndcg@5:0.68476\n",
      "[128]\tdval-ndcg@5:0.68386\n",
      "[129]\tdval-ndcg@5:0.68509\n",
      "[130]\tdval-ndcg@5:0.68292\n",
      "[131]\tdval-ndcg@5:0.68494\n",
      "[132]\tdval-ndcg@5:0.68671\n",
      "[133]\tdval-ndcg@5:0.68455\n",
      "[134]\tdval-ndcg@5:0.68544\n",
      "[135]\tdval-ndcg@5:0.68595\n",
      "[136]\tdval-ndcg@5:0.68581\n",
      "[137]\tdval-ndcg@5:0.68550\n",
      "[138]\tdval-ndcg@5:0.68527\n",
      "[139]\tdval-ndcg@5:0.68440\n",
      "[140]\tdval-ndcg@5:0.68432\n",
      "[141]\tdval-ndcg@5:0.68544\n",
      "[142]\tdval-ndcg@5:0.68583\n",
      "[143]\tdval-ndcg@5:0.68509\n",
      "[144]\tdval-ndcg@5:0.68524\n",
      "[145]\tdval-ndcg@5:0.68409\n",
      "[146]\tdval-ndcg@5:0.68470\n",
      "[147]\tdval-ndcg@5:0.68330\n",
      "[148]\tdval-ndcg@5:0.68417\n",
      "[149]\tdval-ndcg@5:0.68318\n"
     ]
    },
    {
     "data": {
      "text/plain": [
       "<xgboost.core.Booster at 0x158257276a0>"
      ]
     },
     "execution_count": 314,
     "metadata": {},
     "output_type": "execute_result"
    }
   ],
   "source": [
    "xgb.train(params, dt, num_boost_round=150, evals=[(dval, 'dval')], verbose_eval=True)"
   ]
  },
  {
   "cell_type": "code",
   "execution_count": 315,
   "id": "8b8b5d4e",
   "metadata": {},
   "outputs": [],
   "source": [
    "X_train = data_df.drop(drop_columns, axis=1)\n",
    "dtrain = xgb.DMatrix(data = X_train, label = y_train)\n",
    "dtrain.set_group(np.unique(data_df['query_id'], return_counts=True)[1])"
   ]
  },
  {
   "cell_type": "code",
   "execution_count": 316,
   "id": "ba802893",
   "metadata": {},
   "outputs": [],
   "source": [
    "xgb_model = xgb.train(params, dtrain, num_boost_round=150)"
   ]
  },
  {
   "cell_type": "code",
   "execution_count": 317,
   "id": "bd61f360",
   "metadata": {},
   "outputs": [
    {
     "name": "stdout",
     "output_type": "stream",
     "text": [
      "                     feature  importance\n",
      "5             sim_use_qa_qt        1952\n",
      "0                sim_use_qt        1608\n",
      "4             query_sum_idf        1390\n",
      "10               1_min_gaps        1359\n",
      "8                  1_tf_idf        1289\n",
      "3                   1_wlccs        1257\n",
      "1          1_phrase_decay30        1194\n",
      "13                    sph04        1154\n",
      "20                    1_atc        1124\n",
      "18              1_hit_count        1087\n",
      "29      1_min_best_span_pos        1060\n",
      "6             query_max_idf         958\n",
      "15                1_max_idf         954\n",
      "30           1_is_noun_hits         951\n",
      "24         1_phrase_decay10         920\n",
      "23            1_min_hit_pos         873\n",
      "11           document_bm25a         781\n",
      "36                  0_wlccs         754\n",
      "32            document_bm15         732\n",
      "14                1_sum_idf         679\n",
      "26                0_min_idf         652\n",
      "25                    0_atc         644\n",
      "33                 0_tf_idf         582\n",
      "22                0_max_idf         548\n",
      "27         0_phrase_decay10         500\n",
      "16                1_min_idf         498\n",
      "2                 0_sum_idf         471\n",
      "37         0_phrase_decay30         456\n",
      "7             query_max_lcs         434\n",
      "28            query_min_idf         363\n",
      "31      0_min_best_span_pos         306\n",
      "9       query_is_noun_words         277\n",
      "19            0_min_hit_pos         202\n",
      "38               0_min_gaps         197\n",
      "40                   1_lccs         157\n",
      "34           0_is_noun_hits         147\n",
      "17  document_doc_word_count         140\n",
      "45            1_exact_order         123\n",
      "21              0_hit_count         114\n",
      "47                    1_lcs         109\n",
      "35             1_word_count          92\n",
      "42             0_word_count          88\n",
      "53         1_has_digit_hits          76\n",
      "49    query_has_digit_words          63\n",
      "44         1_is_number_hits          62\n",
      "48                   0_lccs          50\n",
      "46                    0_lcs          49\n",
      "39     query_is_latin_words          48\n",
      "41    query_is_number_words          45\n",
      "12          1_is_latin_hits          32\n",
      "56         0_is_number_hits          28\n",
      "43         0_has_digit_hits          15\n",
      "52            0_exact_order          14\n",
      "55      document_field_mask           5\n",
      "50        0_exact_field_hit           4\n",
      "54          0_is_latin_hits           4\n",
      "51         0_full_field_hit           3\n"
     ]
    }
   ],
   "source": [
    "xgb_fea_imp = pd.DataFrame(list(xgb_model.get_fscore().items()),\n",
    "                           columns=['feature','importance']).sort_values('importance', ascending=False)\n",
    "print('',xgb_fea_imp)"
   ]
  },
  {
   "cell_type": "code",
   "execution_count": 318,
   "id": "e363cd8d",
   "metadata": {},
   "outputs": [
    {
     "data": {
      "text/plain": [
       "['1_word_count',\n",
       " '0_word_count',\n",
       " '1_has_digit_hits',\n",
       " 'query_has_digit_words',\n",
       " '1_is_number_hits',\n",
       " '0_lccs',\n",
       " '0_lcs',\n",
       " 'query_is_latin_words',\n",
       " 'query_is_number_words',\n",
       " '1_is_latin_hits',\n",
       " '0_is_number_hits',\n",
       " '0_has_digit_hits',\n",
       " '0_exact_order',\n",
       " 'document_field_mask',\n",
       " '0_exact_field_hit',\n",
       " '0_is_latin_hits',\n",
       " '0_full_field_hit']"
      ]
     },
     "execution_count": 318,
     "metadata": {},
     "output_type": "execute_result"
    }
   ],
   "source": [
    "list(xgb_fea_imp[xgb_fea_imp.importance < 100]['feature'].values.ravel())"
   ]
  },
  {
   "cell_type": "markdown",
   "id": "7a7425dc",
   "metadata": {},
   "source": [
    "### With click models"
   ]
  },
  {
   "cell_type": "code",
   "execution_count": 65,
   "id": "7a31f193",
   "metadata": {},
   "outputs": [],
   "source": [
    "train_df = pd.read_csv('train_sphinx_df.csv', sep='\\t')\n",
    "train_use_df = pd.read_csv('train_use_df.csv', sep='\\t')\n",
    "train_cm_df = pd.read_csv('train_cm_df.csv', sep='\\t')\n",
    "train_spam_df = pd.read_csv('train_spam_df.csv', sep='\\t')\n",
    "marks_df = pd.read_csv('train.marks.tsv', sep='\\t', header=None)\n",
    "marks_df.rename(columns={0: \"query_id\", 1: \"doc_id\", 2: \"mark\"}, inplace=True)"
   ]
  },
  {
   "cell_type": "code",
   "execution_count": 66,
   "id": "6c7767ed",
   "metadata": {},
   "outputs": [
    {
     "data": {
      "application/vnd.jupyter.widget-view+json": {
       "model_id": "1ac118347689483a98043b82e89013e7",
       "version_major": 2,
       "version_minor": 0
      },
      "text/plain": [
       "HBox(children=(FloatProgress(value=0.0, max=199886.0), HTML(value='')))"
      ]
     },
     "metadata": {},
     "output_type": "display_data"
    },
    {
     "name": "stdout",
     "output_type": "stream",
     "text": [
      "\n"
     ]
    },
    {
     "data": {
      "application/vnd.jupyter.widget-view+json": {
       "model_id": "92f7186bfb974d0b8be9530b6a38be39",
       "version_major": 2,
       "version_minor": 0
      },
      "text/plain": [
       "HBox(children=(FloatProgress(value=0.0, max=202079.0), HTML(value='')))"
      ]
     },
     "metadata": {},
     "output_type": "display_data"
    },
    {
     "name": "stdout",
     "output_type": "stream",
     "text": [
      "\n"
     ]
    }
   ],
   "source": [
    "train_df['query_id+doc_id'] = train_df.progress_apply(lambda row: str(row['query_id']) + '-' + str(row['doc_id']), axis=1)\n",
    "marks_df['query_id+doc_id'] = marks_df.progress_apply(lambda row: str(row['query_id']) + '-' + str(row['doc_id']), axis=1)"
   ]
  },
  {
   "cell_type": "code",
   "execution_count": 68,
   "id": "8da78a58",
   "metadata": {},
   "outputs": [],
   "source": [
    "exist_marks_df = marks_df.loc[marks_df['query_id+doc_id'].isin(train_df['query_id+doc_id'].values)]\n",
    "exist_marks_df = exist_marks_df.sort_values(by=['query_id', 'doc_id'])\n",
    "train_df.sort_values(by=['query_id', 'doc_id'], inplace=True)\n",
    "train_use_df.sort_values(by=['query_id', 'doc_id'], inplace=True)\n",
    "train_cm_df.sort_values(by=['query_id', 'doc_id'], inplace=True)\n",
    "train_spam_df.sort_values(by=['query_id', 'doc_id'], inplace=True)\n",
    "y_train = exist_marks_df['mark'].values"
   ]
  },
  {
   "cell_type": "code",
   "execution_count": 70,
   "id": "652367d1",
   "metadata": {},
   "outputs": [],
   "source": [
    "drop_columns = ['doc_id', 'query_id', 'query_id+doc_id', 'doc_url']"
   ]
  },
  {
   "cell_type": "code",
   "execution_count": 92,
   "id": "57eff09e",
   "metadata": {},
   "outputs": [],
   "source": [
    "train_df['sim_use_qa_qss_1024_un'] = train_use_df['sim_use_qa_qss_1024_un'].values\n",
    "train_df['sim_use_qa_qss_512_un'] = train_use_df['sim_use_qa_qss_512_un'].values\n",
    "train_df['sim_use_qa_qts_1024_un'] = train_use_df['sim_use_qa_qts_1024_un'].values\n",
    "train_df['sim_use_qa_qts_512_un'] = train_use_df['sim_use_qa_qts_512_un'].values\n",
    "train_df['sim_use_qa_qtt'] = train_use_df['sim_use_qa_qtt'].values\n",
    "train_df['sim_use_qa_qtt_un'] = train_use_df['sim_use_qa_qtt_un'].values\n",
    "train_df['sim_use_qs_1024_un'] = train_use_df['sim_use_qs_1024_un'].values\n",
    "train_df['sim_use_qs_512_un'] = train_use_df['sim_use_qs_512_un'].values\n",
    "train_df['sim_use_qt'] = train_use_df['sim_use_qt'].values\n",
    "train_df['sim_use_qt_un'] = train_use_df['sim_use_qt_un'].values\n",
    "\n",
    "train_df['cm_rel'] = train_cm_df['cm_rel'].values\n",
    "train_df['dctr_rel'] = train_cm_df['dctr_rel'].values\n",
    "train_df['gctr_rel'] = train_cm_df['gctr_rel'].values\n",
    "train_df['sdbn_rel'] = train_cm_df['sdbn_rel'].values\n",
    "train_df['dcm_rel'] = train_cm_df['dcm_rel'].values\n",
    "train_df['ubm_rel'] = train_cm_df['ubm_rel'].values\n",
    "train_df['dbn_rel'] = train_cm_df['dbn_rel'].values\n",
    "\n",
    "train_df['domain_level'] = train_spam_df['domain_level'].values\n",
    "train_df['url_len'] = train_spam_df['url_len'].values\n",
    "train_df['proba_spam'] = train_spam_df['proba_spam'].values"
   ]
  },
  {
   "cell_type": "code",
   "execution_count": 190,
   "id": "e57ac261",
   "metadata": {},
   "outputs": [],
   "source": [
    "train_df.to_csv('train_df.csv', index=False, sep='\\t')"
   ]
  }
 ],
 "metadata": {
  "kernelspec": {
   "display_name": "Python 3 (ipykernel)",
   "language": "python",
   "name": "python3"
  },
  "language_info": {
   "codemirror_mode": {
    "name": "ipython",
    "version": 3
   },
   "file_extension": ".py",
   "mimetype": "text/x-python",
   "name": "python",
   "nbconvert_exporter": "python",
   "pygments_lexer": "ipython3",
   "version": "3.8.5"
  }
 },
 "nbformat": 4,
 "nbformat_minor": 5
}
