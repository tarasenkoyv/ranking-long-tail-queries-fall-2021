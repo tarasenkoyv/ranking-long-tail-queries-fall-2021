{
 "cells": [
  {
   "cell_type": "code",
   "execution_count": 15,
   "id": "a6ac6167",
   "metadata": {},
   "outputs": [],
   "source": [
    "from tqdm.notebook import tqdm"
   ]
  },
  {
   "cell_type": "code",
   "execution_count": 2,
   "id": "e2343757",
   "metadata": {},
   "outputs": [],
   "source": [
    "from __future__ import print_function\n",
    "\n",
    "import sys\n",
    "\n",
    "import time\n",
    "\n",
    "from pyclick.click_models.Evaluation import LogLikelihood, Perplexity\n",
    "from pyclick.click_models.UBM import UBM\n",
    "from pyclick.click_models.DBN import DBN\n",
    "from pyclick.click_models.SDBN import SDBN\n",
    "from pyclick.click_models.DCM import DCM\n",
    "from pyclick.click_models.CCM import CCM\n",
    "from pyclick.click_models.CTR import DCTR, RCTR, GCTR\n",
    "from pyclick.click_models.CM import CM\n",
    "from pyclick.click_models.PBM import PBM\n",
    "from pyclick.utils.Utils import Utils"
   ]
  },
  {
   "cell_type": "code",
   "execution_count": 3,
   "id": "c4cdd51e",
   "metadata": {},
   "outputs": [],
   "source": [
    "from pyclick.click_models.task_centric.TaskCentricSearchSession import TaskCentricSearchSession\n",
    "from pyclick.search_session.SearchResult import SearchResult"
   ]
  },
  {
   "cell_type": "code",
   "execution_count": 8,
   "id": "04ccbe2d",
   "metadata": {},
   "outputs": [],
   "source": [
    "import os\n",
    "import bz2\n",
    "import numpy as np"
   ]
  },
  {
   "cell_type": "code",
   "execution_count": null,
   "id": "0dcfdcba",
   "metadata": {},
   "outputs": [],
   "source": [
    "def parse_log_line(line):\n",
    "    query = line.split(\"@\")[0]\n",
    "    line = line[len(query) + 1:]\n",
    "    data = line.split('\\t')\n",
    "    geoId = data[0]\n",
    "    show_urls = data[1].split(',')\n",
    "    click_urls = data[2].split(',')\n",
    "    time_click_urls = list(map(int, data[3].split(',')))\n",
    "    ordered_time_click_urls = np.array(time_click_urls).argsort()\n",
    "    for i, url in enumerate(show_urls):\n",
    "        if url.find('://') > 0:\n",
    "            show_urls[i] = url.split(\"://\")[-1]\n",
    "    ordered_click_url = []\n",
    "    for i in ordered_time_click_urls:\n",
    "        url = click_urls[i]\n",
    "        if url.find('://') > 0:\n",
    "            url = url.split(\"://\")[-1]\n",
    "        ordered_click_url.append(url)\n",
    "    return query, geoId, show_urls, ordered_click_url"
   ]
  },
  {
   "cell_type": "code",
   "execution_count": 6,
   "id": "67933784",
   "metadata": {},
   "outputs": [],
   "source": [
    "class ClickDataParser:\n",
    "    @staticmethod\n",
    "    def parse(sessions_filename, log_id_start, sessions_max=None):\n",
    "        \"\"\"\n",
    "        Parses search sessions, formatted according to:\n",
    "        Query Text @ Query Geo <tab> List of shown urls <tab> List of clicked urls <tab>\n",
    "        :param sessions_filename: The name of the file with search sessions.\n",
    "        :param sessions_max: The maximum number of search sessions to return.\n",
    "        If not set, all search sessions are parsed and returned.\n",
    "        :returns: A list of parsed search sessions, wrapped into SearchSession objects.\n",
    "        \"\"\"\n",
    "        with bz2.open(sessions_filename, \"rb\") as f:\n",
    "            lines = f.readlines()\n",
    "            \n",
    "        sessions = []\n",
    "\n",
    "        log_id = 0\n",
    "        for line in lines:\n",
    "            if sessions_max and len(sessions) >= sessions_max:\n",
    "                break\n",
    "            line = line.decode('utf-8').rstrip('\\n')\n",
    "            query = line.split(\"@\")[0]\n",
    "            line = line[len(query) + 1:]\n",
    "            data = line.split('\\t')\n",
    "            \n",
    "            task = log_id + log_id_start\n",
    "            results = dict(map(lambda x: (x.split(\"://\")[-1], None) if x.find('://') > 0 else (x, None), \n",
    "                               data[1].split(',')))\n",
    "                    \n",
    "            click_results = dict(map(lambda x: (x.split(\"://\")[-1], None) if x.find('://') > 0 else (x, None), \n",
    "                                     data[2].split(',')))\n",
    "            #click_results = list(map(lambda x: x.split(\"://\")[-1] if x.find('://') > 0 else x, \n",
    "            #                         data[2].split(',')))\n",
    "            #time_clicks = list(map(int, data[3].split(',')))\n",
    "            #ordered_time_clicks = np.array(time_clicks).argsort()\n",
    "            #ordered_click_results = {click_results[i] : None for i in ordered_time_click_urls}\n",
    "            \n",
    "            session = TaskCentricSearchSession(task, query)\n",
    "            \n",
    "            for result in results:\n",
    "                click = 1 if result in click_results else 0\n",
    "                result = SearchResult(result, click)\n",
    "                session.web_results.append(result)\n",
    "\n",
    "            sessions.append(session)\n",
    "                        \n",
    "            log_id = log_id + 1\n",
    "        return sessions"
   ]
  },
  {
   "cell_type": "code",
   "execution_count": 120,
   "id": "a0241913",
   "metadata": {},
   "outputs": [],
   "source": [
    "def predict_relevance(click_model, query, search_result):\n",
    "    return click_model.params[click_model.param_names.attr].get(query, search_result).value()"
   ]
  },
  {
   "cell_type": "code",
   "execution_count": 7,
   "id": "d907976d",
   "metadata": {},
   "outputs": [],
   "source": [
    "search_sessions_path = os.path.join(\"2017\", 'part-m-00015.bz2')\n",
    "search_sessions_num = 5"
   ]
  },
  {
   "cell_type": "code",
   "execution_count": 8,
   "id": "e32e9519",
   "metadata": {},
   "outputs": [],
   "source": [
    "search_sessions = ClickDataParser().parse(search_sessions_path, 0)"
   ]
  },
  {
   "cell_type": "code",
   "execution_count": 11,
   "id": "cbcb2333",
   "metadata": {},
   "outputs": [],
   "source": [
    "from pyclick.click_models.Inference import EMInference, MLEInference"
   ]
  },
  {
   "cell_type": "code",
   "execution_count": 16,
   "id": "0edff9a0",
   "metadata": {},
   "outputs": [
    {
     "data": {
      "application/vnd.jupyter.widget-view+json": {
       "model_id": "5aa982b0549f4c1b9cfa0d3e2a2bda34",
       "version_major": 2,
       "version_minor": 0
      },
      "text/plain": [
       "HBox(children=(FloatProgress(value=0.0, max=60370.0), HTML(value='')))"
      ]
     },
     "metadata": {},
     "output_type": "display_data"
    },
    {
     "name": "stdout",
     "output_type": "stream",
     "text": [
      "\n"
     ]
    }
   ],
   "source": [
    "search_sessions_cut = []\n",
    "for s in tqdm(search_sessions):\n",
    "    s_cut = TaskCentricSearchSession(s.task, s.query)\n",
    "    s_cut.web_results = s.web_results[:10]\n",
    "    search_sessions_cut.append(s_cut)"
   ]
  },
  {
   "cell_type": "code",
   "execution_count": 104,
   "id": "c2f91dd7",
   "metadata": {},
   "outputs": [],
   "source": [
    "click_model = CCM(EMInference(iter_num=1))"
   ]
  },
  {
   "cell_type": "code",
   "execution_count": 87,
   "id": "a9d65d51",
   "metadata": {},
   "outputs": [],
   "source": [
    "click_model = SDBN()"
   ]
  },
  {
   "cell_type": "code",
   "execution_count": 106,
   "id": "95063bc6",
   "metadata": {},
   "outputs": [
    {
     "name": "stdout",
     "output_type": "stream",
     "text": [
      "\tTrained CCM click model in 11 secs:\n",
      "\n"
     ]
    }
   ],
   "source": [
    "start = time.time()\n",
    "click_model.train(search_sessions[:1000])\n",
    "end = time.time()\n",
    "print(\"\\tTrained %s click model in %i secs:\\n\" % (click_model.__class__.__name__, end - start))"
   ]
  },
  {
   "cell_type": "code",
   "execution_count": 86,
   "id": "7780b44c",
   "metadata": {},
   "outputs": [
    {
     "data": {
      "text/plain": [
       "0.5"
      ]
     },
     "execution_count": 86,
     "metadata": {},
     "output_type": "execute_result"
    }
   ],
   "source": [
    "click_model.predict_relevance('пасхальные открытки 19 века с надписями', 'images')"
   ]
  },
  {
   "cell_type": "code",
   "execution_count": 204,
   "id": "209447ac",
   "metadata": {},
   "outputs": [
    {
     "name": "stdout",
     "output_type": "stream",
     "text": [
      "\tTrained UBM click model in 0 secs:\n",
      "\n"
     ]
    }
   ],
   "source": [
    "print(\"\\tTrained %s click model in %i secs:\\n\" % (click_model.__class__.__name__, end - start))"
   ]
  },
  {
   "cell_type": "markdown",
   "id": "17f01dd7",
   "metadata": {},
   "source": [
    "### Загрузка сессий"
   ]
  },
  {
   "cell_type": "code",
   "execution_count": 208,
   "id": "f57b364c",
   "metadata": {},
   "outputs": [],
   "source": [
    "def cut_session_to_10(search_sessions):\n",
    "    search_sessions_cut = []\n",
    "    for s in search_sessions:\n",
    "        s_cut = TaskCentricSearchSession(s.task, s.query)\n",
    "        s_cut.web_results = s.web_results[:10]\n",
    "        search_sessions_cut.append(s_cut)\n",
    "    return search_sessions_cut"
   ]
  },
  {
   "cell_type": "code",
   "execution_count": 2,
   "id": "5c646479",
   "metadata": {},
   "outputs": [
    {
     "data": {
      "text/plain": [
       "<module 'helpers' from 'C:\\\\Users\\\\taras\\\\Documents\\\\Аспирантура МГУ\\\\Техносфера mail.ru\\\\IR\\\\Итоговый конкурс\\\\helpers.py'>"
      ]
     },
     "execution_count": 2,
     "metadata": {},
     "output_type": "execute_result"
    }
   ],
   "source": [
    "import helpers\n",
    "import importlib\n",
    "importlib.reload(helpers)"
   ]
  },
  {
   "cell_type": "code",
   "execution_count": 3,
   "id": "8cefc2ec",
   "metadata": {},
   "outputs": [],
   "source": [
    "search_sessions = helpers.load_obj('search_sessions')"
   ]
  },
  {
   "cell_type": "code",
   "execution_count": null,
   "id": "3abe2e11",
   "metadata": {},
   "outputs": [],
   "source": [
    "search_sessions_cut = cut_session_to_10(search_sessions)"
   ]
  },
  {
   "cell_type": "code",
   "execution_count": null,
   "id": "c7f8995e",
   "metadata": {},
   "outputs": [],
   "source": [
    "def predict_relevance(click_model, query, search_result):\n",
    "    return click_model.params[click_model.param_names.attr].get(query, search_result).value()"
   ]
  },
  {
   "cell_type": "code",
   "execution_count": null,
   "id": "388f640a",
   "metadata": {},
   "outputs": [],
   "source": [
    "train_df = pd.read_csv('train_use_qa_df.csv', sep='\\t')\n",
    "test_df = pd.read_csv('test_use_qa_df.csv', sep='\\t')"
   ]
  },
  {
   "cell_type": "markdown",
   "id": "6f06f9c0",
   "metadata": {},
   "source": [
    "**CM**"
   ]
  },
  {
   "cell_type": "code",
   "execution_count": null,
   "id": "0daa5744",
   "metadata": {},
   "outputs": [],
   "source": [
    "click_model = CM()\n",
    "start = time.time()\n",
    "click_model.train(search_sessions)\n",
    "end = time.time()"
   ]
  },
  {
   "cell_type": "code",
   "execution_count": null,
   "id": "d6493464",
   "metadata": {},
   "outputs": [],
   "source": [
    "print(\"\\tTrained %s click model in %i secs\" % (CM_click_model.__class__.__name__, end - start))"
   ]
  },
  {
   "cell_type": "markdown",
   "id": "7e2e46fe",
   "metadata": {},
   "source": [
    "**CCM**"
   ]
  }
 ],
 "metadata": {
  "kernelspec": {
   "display_name": "Python 3 (ipykernel)",
   "language": "python",
   "name": "python3"
  },
  "language_info": {
   "codemirror_mode": {
    "name": "ipython",
    "version": 3
   },
   "file_extension": ".py",
   "mimetype": "text/x-python",
   "name": "python",
   "nbconvert_exporter": "python",
   "pygments_lexer": "ipython3",
   "version": "3.8.5"
  }
 },
 "nbformat": 4,
 "nbformat_minor": 5
}
