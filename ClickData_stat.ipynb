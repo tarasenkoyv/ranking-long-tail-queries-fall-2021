{
 "cells": [
  {
   "cell_type": "code",
   "execution_count": 35,
   "id": "2beca1f6",
   "metadata": {},
   "outputs": [],
   "source": [
    "import helpers\n",
    "import pandas as pd\n",
    "from tqdm.notebook import tqdm\n",
    "import numpy as np"
   ]
  },
  {
   "cell_type": "code",
   "execution_count": null,
   "id": "4ad15007",
   "metadata": {},
   "outputs": [],
   "source": [
    "import importlib\n",
    "importlib.reload(helpers)"
   ]
  },
  {
   "cell_type": "code",
   "execution_count": 23,
   "id": "26f47688",
   "metadata": {},
   "outputs": [],
   "source": [
    "def read_features(filename):\n",
    "    fet={}\n",
    "    with open(filename,'r', encoding='utf-8') as f:\n",
    "        for line in f.readlines():\n",
    "            l=line.strip().split('\\t')\n",
    "            x=[]\n",
    "            for i in range(1, len(l)):\n",
    "                x.append(float(l[i].strip()))\n",
    "            fet[l[0]]=x\n",
    "    return fet"
   ]
  },
  {
   "cell_type": "code",
   "execution_count": 68,
   "id": "6c89b9e0",
   "metadata": {},
   "outputs": [],
   "source": [
    "def save_click_stat_df(df, df_name):\n",
    "    features_host_dict = {c: [] for c in features_host_columns}\n",
    "    features_doc_dict = {c: [] for c in features_doc_columns}\n",
    "    features_qhost_dict = {c: [] for c in features_query_host_columns}\n",
    "    features_qdoc_dict = {c: [] for c in features_query_doc_columns}\n",
    "\n",
    "    for i, row in tqdm(df.iterrows(), total=len(df)):\n",
    "        features_host = features_hosts[str(row[1])] if str(row[1]) in features_hosts.keys() else np.zeros(cnt_features)\n",
    "        features_doc = features_docs[str(row[1])] if str(row[1]) in features_docs.keys() else np.zeros(cnt_features)\n",
    "        features_qhost = features_qhosts[str(row[0])+\"|\"+str(row[1])] if str(row[0])+\"|\"+str(row[1]) in features_qhosts.keys() else np.zeros(cnt_features)\n",
    "        features_qdoc = features_qdocs[str(row[0])+\"|\"+str(row[1])] if str(row[0])+\"|\"+str(row[1]) in features_qdocs.keys() else np.zeros(cnt_features)\n",
    "        for f_i, c in enumerate(features_host_columns):\n",
    "            features_host_dict[c].append(features_host[f_i])\n",
    "        for f_i, c in enumerate(features_doc_columns):\n",
    "            features_doc_dict[c].append(features_doc[f_i])\n",
    "        for f_i, c in enumerate(features_query_host_columns):\n",
    "            features_qhost_dict[c].append(features_qhost[f_i])\n",
    "        for f_i, c in enumerate(features_query_doc_columns):\n",
    "            features_qdoc_dict[c].append(features_qdoc[f_i])\n",
    "        \n",
    "    click_stat_data = {'query_id': df.query_id.values, 'doc_id': df.doc_id.values}\n",
    "    click_stat_data.update(features_host_dict)\n",
    "    click_stat_data.update(features_doc_dict)\n",
    "    click_stat_data.update(features_qhost_dict)\n",
    "    click_stat_data.update(features_qdoc_dict)\n",
    "    click_stat_df = pd.DataFrame(data = click_stat_data)\n",
    "    click_stat_df.to_csv(df_name+ '.csv', index=False, sep='\\t')"
   ]
  },
  {
   "cell_type": "code",
   "execution_count": 18,
   "id": "e90108c3",
   "metadata": {},
   "outputs": [],
   "source": [
    "features_host_columns = helpers.load_obj('features_host_columns')\n",
    "features_doc_columns = helpers.load_obj('features_doc_columns')\n",
    "features_query_host_columns = helpers.load_obj('features_query_host_columns')\n",
    "features_query_doc_columns = helpers.load_obj('features_query_doc_columns')"
   ]
  },
  {
   "cell_type": "code",
   "execution_count": 24,
   "id": "1f7c8a76",
   "metadata": {},
   "outputs": [],
   "source": [
    "features_hosts = read_features(\"features/click_hosts.txt\")\n",
    "features_docs = read_features(\"features/click_docs.txt\")\n",
    "features_qhosts = read_features(\"features/click_qhosts.txt\")\n",
    "features_qdocs = read_features(\"features/click_qdocs.txt\") "
   ]
  },
  {
   "cell_type": "code",
   "execution_count": 28,
   "id": "5fc15f10",
   "metadata": {},
   "outputs": [],
   "source": [
    "cnt_features = len(features_host_columns)"
   ]
  },
  {
   "cell_type": "code",
   "execution_count": 27,
   "id": "a141999e",
   "metadata": {},
   "outputs": [],
   "source": [
    "train_sphinx_df = pd.read_csv('train_sphinx_df.csv', sep='\\t')\n",
    "train_sphinx_df.sort_values(by=['query_id', 'doc_id'], inplace=True)"
   ]
  },
  {
   "cell_type": "code",
   "execution_count": 60,
   "id": "2426ad3c",
   "metadata": {},
   "outputs": [
    {
     "data": {
      "application/vnd.jupyter.widget-view+json": {
       "model_id": "31c0414a3d70499f82165057ac914205",
       "version_major": 2,
       "version_minor": 0
      },
      "text/plain": [
       "HBox(children=(FloatProgress(value=0.0, max=199886.0), HTML(value='')))"
      ]
     },
     "metadata": {},
     "output_type": "display_data"
    },
    {
     "name": "stdout",
     "output_type": "stream",
     "text": [
      "\n"
     ]
    }
   ],
   "source": [
    "save_click_stat_df(train_sphinx_df, 'train_click_stat_df')"
   ]
  },
  {
   "cell_type": "code",
   "execution_count": 74,
   "id": "d943efb7",
   "metadata": {},
   "outputs": [],
   "source": [
    "train_df = pd.read_csv('train_df.csv', sep='\\t')\n",
    "train_click_stat_df = pd.read_csv('train_click_stat_df.csv', sep='\\t')"
   ]
  },
  {
   "cell_type": "code",
   "execution_count": 70,
   "id": "607863c5",
   "metadata": {},
   "outputs": [],
   "source": [
    "train_click_stat_df.drop(['query_id', 'doc_id'], axis=1, inplace=True)"
   ]
  },
  {
   "cell_type": "code",
   "execution_count": 99,
   "id": "c9a9ed29",
   "metadata": {},
   "outputs": [],
   "source": [
    "train_df.drop(['query_id+doc_id'], axis=1, inplace=True)"
   ]
  },
  {
   "cell_type": "code",
   "execution_count": 100,
   "id": "615275df",
   "metadata": {},
   "outputs": [],
   "source": [
    "train_aux_df = pd.concat([train_df, train_click_stat_df], axis=1)\n",
    "train_aux_df.to_csv('train_aux_df.csv', index=False, sep='\\t')"
   ]
  },
  {
   "cell_type": "markdown",
   "id": "6c9a3780",
   "metadata": {},
   "source": [
    "### Анализ"
   ]
  },
  {
   "cell_type": "code",
   "execution_count": 2,
   "id": "654b7970",
   "metadata": {},
   "outputs": [],
   "source": [
    "import pandas as pd"
   ]
  },
  {
   "cell_type": "code",
   "execution_count": 46,
   "id": "ee178b96",
   "metadata": {},
   "outputs": [],
   "source": [
    "test_click_stat_df = pd.read_csv('test_click_stat_df.csv', sep='\\t')\n",
    "test_click_stat_df.sort_values(by=['query_id', 'doc_id'], inplace=True)"
   ]
  },
  {
   "cell_type": "code",
   "execution_count": 47,
   "id": "b7a7c55c",
   "metadata": {},
   "outputs": [],
   "source": [
    "train_click_stat_df = pd.read_csv('train_click_stat_df.csv', sep='\\t')\n",
    "train_click_stat_df.sort_values(by=['query_id', 'doc_id'], inplace=True)"
   ]
  },
  {
   "cell_type": "code",
   "execution_count": null,
   "id": "f0c7cfce",
   "metadata": {},
   "outputs": [],
   "source": [
    "columns_h = ['H CM', 'H AVG click before show doc', 'H AVG click after show doc', 'H UpProb', 'H DowbProb']\n",
    "colimns_d = ['Doc CM', 'Doc AVG click before show doc', 'Doc AVG click after show doc', 'Doc UpProb', 'Doc DowbProb']\n",
    "colimns_qh = ['QH CM', 'QH AVG click before show doc', 'QH AVG click after show doc', 'QH UpProb', 'QH DowbProb']\n",
    "colimns_qd = ['QD CM', 'QD AVG click before show doc', 'QD AVG click after show doc', 'QD UpProb', 'QD DowbProb']"
   ]
  },
  {
   "cell_type": "code",
   "execution_count": 5,
   "id": "ec991daf",
   "metadata": {},
   "outputs": [
    {
     "data": {
      "text/plain": [
       "['query_id',\n",
       " 'doc_id',\n",
       " 'H CTR',\n",
       " 'H AVGtime',\n",
       " 'H FirstCTR',\n",
       " 'H LastCTR',\n",
       " 'H AVG Position',\n",
       " 'H AVG Position Click',\n",
       " 'H AVG showPosition if was Click',\n",
       " 'H Количество показов за пределами топ 10/на все показы',\n",
       " 'H Количество кликов за пределами топ 10/на все клики',\n",
       " 'H LastProb',\n",
       " 'H AVG click before show doc',\n",
       " 'H AVG click after show doc',\n",
       " 'H CTR@5',\n",
       " 'H Количество не первых кликов/на все клики',\n",
       " 'H PBM',\n",
       " 'H CM',\n",
       " 'H log(1+shows)',\n",
       " 'H log(1+clicks)',\n",
       " 'H UpProb',\n",
       " 'H DowbProb',\n",
       " 'H CTR position 1',\n",
       " 'H CTR position 2',\n",
       " 'H CTR position 3',\n",
       " 'H CTR position 4',\n",
       " 'H CTR position 5',\n",
       " 'H CTR position 6',\n",
       " 'H CTR position 7',\n",
       " 'H CTR position 8',\n",
       " 'H CTR position 9',\n",
       " 'H CTR position 10',\n",
       " 'H ProbClick clickposition 1',\n",
       " 'H ProbClick clickposition 2',\n",
       " 'H ProbClick clickposition 3',\n",
       " 'H ProbClick clickposition 4',\n",
       " 'H ProbClick clickposition 5',\n",
       " 'H ProbClick clickposition 6',\n",
       " 'H ProbClick clickposition 7',\n",
       " 'H ProbClick clickposition 8',\n",
       " 'H ProbClick clickposition 9',\n",
       " 'H ProbClick clickposition 10',\n",
       " 'H Probclick showposition 1',\n",
       " 'H Probclick showposition 2',\n",
       " 'H Probclick showposition 3',\n",
       " 'H Probclick showposition 4',\n",
       " 'H Probclick showposition 5',\n",
       " 'H Probclick showposition 6',\n",
       " 'H Probclick showposition 7',\n",
       " 'H Probclick showposition 8',\n",
       " 'H Probclick showposition 9',\n",
       " 'H Probclick showposition 10',\n",
       " 'Doc CTR',\n",
       " 'Doc AVGtime',\n",
       " 'Doc FirstCTR',\n",
       " 'Doc LastCTR',\n",
       " 'Doc AVG Position',\n",
       " 'Doc AVG Position Click',\n",
       " 'Doc AVG showPosition if was Click',\n",
       " 'Doc Количество показов за пределами топ 10/на все показы',\n",
       " 'Doc Количество кликов за пределами топ 10/на все клики',\n",
       " 'Doc LastProb',\n",
       " 'Doc AVG click before show doc',\n",
       " 'Doc AVG click after show doc',\n",
       " 'Doc CTR@5',\n",
       " 'Doc Количество не первых кликов/на все клики',\n",
       " 'Doc PBM',\n",
       " 'Doc CM',\n",
       " 'Doc log(1+shows)',\n",
       " 'Doc log(1+clicks)',\n",
       " 'Doc UpProb',\n",
       " 'Doc DowbProb',\n",
       " 'Doc CTR position 1',\n",
       " 'Doc CTR position 2',\n",
       " 'Doc CTR position 3',\n",
       " 'Doc CTR position 4',\n",
       " 'Doc CTR position 5',\n",
       " 'Doc CTR position 6',\n",
       " 'Doc CTR position 7',\n",
       " 'Doc CTR position 8',\n",
       " 'Doc CTR position 9',\n",
       " 'Doc CTR position 10',\n",
       " 'Doc ProbClick clickposition 1',\n",
       " 'Doc ProbClick clickposition 2',\n",
       " 'Doc ProbClick clickposition 3',\n",
       " 'Doc ProbClick clickposition 4',\n",
       " 'Doc ProbClick clickposition 5',\n",
       " 'Doc ProbClick clickposition 6',\n",
       " 'Doc ProbClick clickposition 7',\n",
       " 'Doc ProbClick clickposition 8',\n",
       " 'Doc ProbClick clickposition 9',\n",
       " 'Doc ProbClick clickposition 10',\n",
       " 'Doc Probclick showposition 1',\n",
       " 'Doc Probclick showposition 2',\n",
       " 'Doc Probclick showposition 3',\n",
       " 'Doc Probclick showposition 4',\n",
       " 'Doc Probclick showposition 5',\n",
       " 'Doc Probclick showposition 6',\n",
       " 'Doc Probclick showposition 7',\n",
       " 'Doc Probclick showposition 8',\n",
       " 'Doc Probclick showposition 9',\n",
       " 'Doc Probclick showposition 10',\n",
       " 'QH CTR',\n",
       " 'QH AVGtime',\n",
       " 'QH FirstCTR',\n",
       " 'QH LastCTR',\n",
       " 'QH AVG Position',\n",
       " 'QH AVG Position Click',\n",
       " 'QH AVG showPosition if was Click',\n",
       " 'QH Количество показов за пределами топ 10/на все показы',\n",
       " 'QH Количество кликов за пределами топ 10/на все клики',\n",
       " 'QH LastProb',\n",
       " 'QH AVG click before show doc',\n",
       " 'QH AVG click after show doc',\n",
       " 'QH CTR@5',\n",
       " 'QH Количество не первых кликов/на все клики',\n",
       " 'QH PBM',\n",
       " 'QH CM',\n",
       " 'QH log(1+shows)',\n",
       " 'QH log(1+clicks)',\n",
       " 'QH UpProb',\n",
       " 'QH DowbProb',\n",
       " 'QH CTR position 1',\n",
       " 'QH CTR position 2',\n",
       " 'QH CTR position 3',\n",
       " 'QH CTR position 4',\n",
       " 'QH CTR position 5',\n",
       " 'QH CTR position 6',\n",
       " 'QH CTR position 7',\n",
       " 'QH CTR position 8',\n",
       " 'QH CTR position 9',\n",
       " 'QH CTR position 10',\n",
       " 'QH ProbClick clickposition 1',\n",
       " 'QH ProbClick clickposition 2',\n",
       " 'QH ProbClick clickposition 3',\n",
       " 'QH ProbClick clickposition 4',\n",
       " 'QH ProbClick clickposition 5',\n",
       " 'QH ProbClick clickposition 6',\n",
       " 'QH ProbClick clickposition 7',\n",
       " 'QH ProbClick clickposition 8',\n",
       " 'QH ProbClick clickposition 9',\n",
       " 'QH ProbClick clickposition 10',\n",
       " 'QH Probclick showposition 1',\n",
       " 'QH Probclick showposition 2',\n",
       " 'QH Probclick showposition 3',\n",
       " 'QH Probclick showposition 4',\n",
       " 'QH Probclick showposition 5',\n",
       " 'QH Probclick showposition 6',\n",
       " 'QH Probclick showposition 7',\n",
       " 'QH Probclick showposition 8',\n",
       " 'QH Probclick showposition 9',\n",
       " 'QH Probclick showposition 10',\n",
       " 'QD CTR',\n",
       " 'QD AVGtime',\n",
       " 'QD FirstCTR',\n",
       " 'QD LastCTR',\n",
       " 'QD AVG Position',\n",
       " 'QD AVG Position Click',\n",
       " 'QD AVG showPosition if was Click',\n",
       " 'QD Количество показов за пределами топ 10/на все показы',\n",
       " 'QD Количество кликов за пределами топ 10/на все клики',\n",
       " 'QD LastProb',\n",
       " 'QD AVG click before show doc',\n",
       " 'QD AVG click after show doc',\n",
       " 'QD CTR@5',\n",
       " 'QD Количество не первых кликов/на все клики',\n",
       " 'QD PBM',\n",
       " 'QD CM',\n",
       " 'QD log(1+shows)',\n",
       " 'QD log(1+clicks)',\n",
       " 'QD UpProb',\n",
       " 'QD DowbProb',\n",
       " 'QD CTR position 1',\n",
       " 'QD CTR position 2',\n",
       " 'QD CTR position 3',\n",
       " 'QD CTR position 4',\n",
       " 'QD CTR position 5',\n",
       " 'QD CTR position 6',\n",
       " 'QD CTR position 7',\n",
       " 'QD CTR position 8',\n",
       " 'QD CTR position 9',\n",
       " 'QD CTR position 10',\n",
       " 'QD ProbClick clickposition 1',\n",
       " 'QD ProbClick clickposition 2',\n",
       " 'QD ProbClick clickposition 3',\n",
       " 'QD ProbClick clickposition 4',\n",
       " 'QD ProbClick clickposition 5',\n",
       " 'QD ProbClick clickposition 6',\n",
       " 'QD ProbClick clickposition 7',\n",
       " 'QD ProbClick clickposition 8',\n",
       " 'QD ProbClick clickposition 9',\n",
       " 'QD ProbClick clickposition 10',\n",
       " 'QD Probclick showposition 1',\n",
       " 'QD Probclick showposition 2',\n",
       " 'QD Probclick showposition 3',\n",
       " 'QD Probclick showposition 4',\n",
       " 'QD Probclick showposition 5',\n",
       " 'QD Probclick showposition 6',\n",
       " 'QD Probclick showposition 7',\n",
       " 'QD Probclick showposition 8',\n",
       " 'QD Probclick showposition 9',\n",
       " 'QD Probclick showposition 10']"
      ]
     },
     "execution_count": 5,
     "metadata": {},
     "output_type": "execute_result"
    }
   ],
   "source": [
    "list(train_click_stat_df.columns)"
   ]
  },
  {
   "cell_type": "code",
   "execution_count": 7,
   "id": "dc183c62",
   "metadata": {},
   "outputs": [],
   "source": [
    "o_columns_h = []\n",
    "for c in train_click_stat_df.columns:\n",
    "    if c.startswith('H '):\n",
    "        o_columns_h.append(c)"
   ]
  },
  {
   "cell_type": "code",
   "execution_count": 14,
   "id": "102c86ce",
   "metadata": {},
   "outputs": [],
   "source": [
    "r_columns = ['CM', 'AVG click before show doc', \n",
    "             'AVG click after show doc', 'UpProb', 'DowbProb',\n",
    "             'Количество кликов за пределами топ 10/на все клики',\n",
    "             'CTR@5', 'Количество не первых кликов/на все клики',\n",
    "             ]\n",
    "rh_columns = []\n",
    "for c in r_columns:\n",
    "    rh_columns.append(\"H \" + c)"
   ]
  },
  {
   "cell_type": "code",
   "execution_count": 15,
   "id": "cfe4feae",
   "metadata": {},
   "outputs": [],
   "source": [
    "for r in rh_columns:\n",
    "    o_columns_h.remove(r)"
   ]
  },
  {
   "cell_type": "code",
   "execution_count": 44,
   "id": "f03a8c51",
   "metadata": {},
   "outputs": [],
   "source": [
    "columns_h_dict['H CTR'] = 'h_ctr'\n",
    "columns_h_dict['H AVGtime'] = 'h_avg_time'\n",
    "columns_h_dict['H FirstCTR'] = 'h_first_ctr'\n",
    "columns_h_dict['H LastCTR'] = 'h_last_ctr'\n",
    "columns_h_dict['H AVG Position'] = 'h_avg_pos'\n",
    "columns_h_dict['H AVG showPosition if was Click'] = 'h_avg_click_pos'\n",
    "columns_h_dict['H Количество показов за пределами топ 10/на все показы'] = 'h_out10_proba'\n",
    "columns_h_dict['H LastProb'] = 'h_last_click_prob'\n",
    "columns_h_dict['H PBM'] = 'h_pbm'\n",
    "columns_h_dict['H log(1+shows)'] = 'h_log(1+shows)'\n",
    "columns_h_dict['H log(1+clicks)'] = 'h_log(1+clicks)'"
   ]
  },
  {
   "cell_type": "code",
   "execution_count": 42,
   "id": "ae8a6c4f",
   "metadata": {},
   "outputs": [],
   "source": [
    "columns_h_dict = {}\n",
    "for c in o_columns_h:\n",
    "    prefix = 'H ProbClick clickposition '\n",
    "    if c.find(prefix) >=0:\n",
    "        columns_h_dict[c] = f\"h_{c[len(prefix):]}_click_pos_prob_click\"\n",
    "    prefix = 'H Probclick showposition '\n",
    "    if c.find(prefix) >=0:\n",
    "        columns_h_dict[c] = f\"h_{c[len(prefix):]}_show_pos_prob_click\"\n",
    "    prefix = 'H CTR position '\n",
    "    if c.find(prefix) >=0:\n",
    "        columns_h_dict[c] = f\"h_{c[len(prefix):]}_ctr\""
   ]
  },
  {
   "cell_type": "code",
   "execution_count": 48,
   "id": "e3de0266",
   "metadata": {},
   "outputs": [],
   "source": [
    "train_click_stat_df.rename(columns=columns_h_dict, inplace=True)"
   ]
  },
  {
   "cell_type": "code",
   "execution_count": 49,
   "id": "fdb28a48",
   "metadata": {},
   "outputs": [],
   "source": [
    "train_click_stat_df[['query_id', 'doc_id'] + list(columns_h_dict.values())].to_csv('train_h_cs_df.csv', index=False, sep='\\t')"
   ]
  },
  {
   "cell_type": "code",
   "execution_count": 35,
   "id": "ed5ebe06",
   "metadata": {},
   "outputs": [],
   "source": [
    "test_click_stat_df[['query_id', 'doc_id'] + list(columns_h_dict.values())].to_csv('test_h_cs_df.csv', index=False, sep='\\t')"
   ]
  },
  {
   "cell_type": "code",
   "execution_count": 50,
   "id": "8bd757a1",
   "metadata": {},
   "outputs": [],
   "source": [
    "test_click_stat_df.rename(columns=columns_h_dict, inplace=True)\n",
    "test_click_stat_df[['query_id', 'doc_id'] + list(columns_h_dict.values())].to_csv('test_h_cs_df.csv', index=False, sep='\\t')"
   ]
  },
  {
   "cell_type": "markdown",
   "id": "2612192c",
   "metadata": {},
   "source": [
    "### Test"
   ]
  },
  {
   "cell_type": "code",
   "execution_count": 63,
   "id": "3948df7c",
   "metadata": {},
   "outputs": [],
   "source": [
    "test_sphinx_df = pd.read_csv('test_sphinx_df.csv', sep='\\t')\n",
    "test_sphinx_df.sort_values(by=['query_id', 'doc_id'], inplace=True)"
   ]
  },
  {
   "cell_type": "code",
   "execution_count": 69,
   "id": "d1eadbe1",
   "metadata": {},
   "outputs": [
    {
     "data": {
      "application/vnd.jupyter.widget-view+json": {
       "model_id": "45f8b3c2dd8f40e2878b05164337d5b3",
       "version_major": 2,
       "version_minor": 0
      },
      "text/plain": [
       "HBox(children=(FloatProgress(value=0.0, max=399784.0), HTML(value='')))"
      ]
     },
     "metadata": {},
     "output_type": "display_data"
    },
    {
     "name": "stdout",
     "output_type": "stream",
     "text": [
      "\n"
     ]
    }
   ],
   "source": [
    "save_click_stat_df(test_sphinx_df, 'test_click_stat_df')"
   ]
  },
  {
   "cell_type": "code",
   "execution_count": 78,
   "id": "a30c10ea",
   "metadata": {},
   "outputs": [],
   "source": [
    "test_df = pd.read_csv('test_df.csv', sep='\\t')\n",
    "test_click_stat_df = pd.read_csv('test_click_stat_df.csv', sep='\\t')\n",
    "test_click_stat_df.drop(['query_id', 'doc_id'], axis=1, inplace=True)\n",
    "test_aux_df = pd.concat([test_df, test_click_stat_df], axis=1)\n",
    "test_aux_df.to_csv('test_aux_df.csv', index=False, sep='\\t')"
   ]
  }
 ],
 "metadata": {
  "kernelspec": {
   "display_name": "Python 3 (ipykernel)",
   "language": "python",
   "name": "python3"
  },
  "language_info": {
   "codemirror_mode": {
    "name": "ipython",
    "version": 3
   },
   "file_extension": ".py",
   "mimetype": "text/x-python",
   "name": "python",
   "nbconvert_exporter": "python",
   "pygments_lexer": "ipython3",
   "version": "3.8.5"
  }
 },
 "nbformat": 4,
 "nbformat_minor": 5
}
