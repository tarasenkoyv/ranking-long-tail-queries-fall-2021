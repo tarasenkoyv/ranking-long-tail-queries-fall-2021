{
 "cells": [
  {
   "cell_type": "code",
   "execution_count": 2,
   "id": "3615967d",
   "metadata": {},
   "outputs": [],
   "source": [
    "import bz2\n",
    "import os\n",
    "from tqdm.notebook import tqdm\n",
    "import numpy as np\n",
    "import pyodbc"
   ]
  },
  {
   "cell_type": "code",
   "execution_count": 3,
   "id": "1f46ef0c",
   "metadata": {},
   "outputs": [],
   "source": [
    "import helpers\n",
    "#import importlib\n",
    "#importlib.reload(helpers)"
   ]
  },
  {
   "cell_type": "markdown",
   "id": "2e0724c7",
   "metadata": {},
   "source": [
    "### Загрузка id сессий для каждого файла"
   ]
  },
  {
   "cell_type": "code",
   "execution_count": 11,
   "id": "387621eb",
   "metadata": {},
   "outputs": [
    {
     "data": {
      "application/vnd.jupyter.widget-view+json": {
       "model_id": "cfd59eff76a04bd99bee0924d328acc5",
       "version_major": 2,
       "version_minor": 0
      },
      "text/plain": [
       "HBox(children=(FloatProgress(value=0.0, max=1905.0), HTML(value='')))"
      ]
     },
     "metadata": {},
     "output_type": "display_data"
    },
    {
     "name": "stdout",
     "output_type": "stream",
     "text": [
      "\n"
     ]
    }
   ],
   "source": [
    "file_list = []\n",
    "for file in tqdm(os.listdir(\"2017\"), total=1905):\n",
    "    if file.endswith(\".bz2\"):\n",
    "        file_list.append(file)"
   ]
  },
  {
   "cell_type": "code",
   "execution_count": 279,
   "id": "f9116f60",
   "metadata": {},
   "outputs": [
    {
     "data": {
      "application/vnd.jupyter.widget-view+json": {
       "model_id": "8b4e8d2af8154d179f79eb0dbd127778",
       "version_major": 2,
       "version_minor": 0
      },
      "text/plain": [
       "HBox(children=(FloatProgress(value=0.0, max=1764.0), HTML(value='')))"
      ]
     },
     "metadata": {},
     "output_type": "display_data"
    },
    {
     "name": "stdout",
     "output_type": "stream",
     "text": [
      "\n"
     ]
    }
   ],
   "source": [
    "log_id = log_ids['part-m-00135.bz2'][1]\n",
    "file_list = file_list[len(log_ids):]\n",
    "for file in tqdm(file_list, total=len(file_list)):\n",
    "    if file.endswith(\".bz2\"):\n",
    "        filename = os.path.join(\"2017\", file)\n",
    "        with bz2.open(filename, \"rb\") as f:\n",
    "            lines = f.readlines()\n",
    "        log_ids[file] = (log_id, log_id + len(lines))\n",
    "        log_id = log_id + len(lines)"
   ]
  },
  {
   "cell_type": "code",
   "execution_count": 285,
   "id": "a98cb144",
   "metadata": {},
   "outputs": [],
   "source": [
    "helpers.save_obj(log_ids, 'log_ids')"
   ]
  },
  {
   "cell_type": "markdown",
   "id": "6c7f5736",
   "metadata": {},
   "source": [
    "### Загрузка queries из click data"
   ]
  },
  {
   "cell_type": "code",
   "execution_count": null,
   "id": "64b3b207",
   "metadata": {},
   "outputs": [],
   "source": [
    "def process_query_file(cnxn, filename, log_id):\n",
    "    prev_query = ''\n",
    "    cnt_query = 0\n",
    "    cursor = cnxn.cursor()\n",
    "    with bz2.open(os.path.join(\"2017\", filename), \"rb\") as f:\n",
    "        lines = f.readlines()\n",
    "    for line_ind, line in enumerate(tqdm(lines, total=len(lines))):\n",
    "        line = line.decode('utf-8').rstrip('\\n')\n",
    "        query = line.split(\"@\")[0]\n",
    "        if prev_query != query:\n",
    "            cnt_query = cnt_query + 1\n",
    "            cursor.execute(\"INSERT INTO dbo.log_query (query, filename, log_id_start) values(?,?,?)\", \n",
    "                           query, filename, log_id)\n",
    "            prev_query = query\n",
    "        log_id = log_id + 1\n",
    "        if cnt_query % 10_000:\n",
    "            cnxn.commit()\n",
    "    cnxn.commit()\n",
    "    cursor.close()\n",
    "    return log_id"
   ]
  },
  {
   "cell_type": "code",
   "execution_count": 976,
   "id": "9f1db0ce",
   "metadata": {},
   "outputs": [],
   "source": [
    "def process_query_file_thread(filename):\n",
    "    with helpers.get_sql_conn() as cnxn:\n",
    "        bz2\n",
    "        process_query_file(cnxn, filename, log_id)\n",
    "    # счетчик должен атомарно обновиться\n",
    "    with lock:\n",
    "        pbar.update(1)"
   ]
  },
  {
   "cell_type": "code",
   "execution_count": 179,
   "id": "abebcb70",
   "metadata": {},
   "outputs": [],
   "source": [
    "log_ids = helpers.load_obj('log_ids')"
   ]
  },
  {
   "cell_type": "code",
   "execution_count": 5,
   "id": "c1d2b768",
   "metadata": {},
   "outputs": [],
   "source": [
    "with helpers.get_sql_conn() as conn, conn.cursor() as cursor:\n",
    "    cursor.execute(\"SELECT [Filename] FROM [ir].[dbo].[log_query] group by [Filename]\")\n",
    "    rows = cursor.fetchall()"
   ]
  },
  {
   "cell_type": "code",
   "execution_count": 14,
   "id": "7debb2b1",
   "metadata": {},
   "outputs": [],
   "source": [
    "processed_files = {row[0]: 0 for row in rows}"
   ]
  },
  {
   "cell_type": "code",
   "execution_count": 33,
   "id": "0aba6ad4",
   "metadata": {},
   "outputs": [],
   "source": [
    "rest_files = []\n",
    "for file in file_list:\n",
    "    if file not in processed_files:\n",
    "        rest_files.append(file)"
   ]
  },
  {
   "cell_type": "code",
   "execution_count": 37,
   "id": "a9d39822",
   "metadata": {},
   "outputs": [
    {
     "data": {
      "application/vnd.jupyter.widget-view+json": {
       "model_id": "5f4eb1f524634e15bbbfdca67b602af6",
       "version_major": 2,
       "version_minor": 0
      },
      "text/plain": [
       "HBox(children=(FloatProgress(value=0.0, max=481.0), HTML(value='')))"
      ]
     },
     "metadata": {},
     "output_type": "display_data"
    },
    {
     "data": {
      "application/vnd.jupyter.widget-view+json": {
       "model_id": "db1eaf09fc344f65a74021d2bae3ebc8",
       "version_major": 2,
       "version_minor": 0
      },
      "text/plain": [
       "HBox(children=(FloatProgress(value=1.0, bar_style='info', max=1.0), HTML(value='')))"
      ]
     },
     "metadata": {},
     "output_type": "display_data"
    },
    {
     "name": "stdout",
     "output_type": "stream",
     "text": [
      "\n"
     ]
    },
    {
     "data": {
      "application/vnd.jupyter.widget-view+json": {
       "model_id": "5717c07302d343679b831ece00e2d183",
       "version_major": 2,
       "version_minor": 0
      },
      "text/plain": [
       "HBox(children=(FloatProgress(value=1.0, bar_style='info', max=1.0), HTML(value='')))"
      ]
     },
     "metadata": {},
     "output_type": "display_data"
    },
    {
     "name": "stdout",
     "output_type": "stream",
     "text": [
      "\n"
     ]
    },
    {
     "data": {
      "application/vnd.jupyter.widget-view+json": {
       "model_id": "ca5ace74dbfd4cb58e9008024ff4465d",
       "version_major": 2,
       "version_minor": 0
      },
      "text/plain": [
       "HBox(children=(FloatProgress(value=1.0, bar_style='info', max=1.0), HTML(value='')))"
      ]
     },
     "metadata": {},
     "output_type": "display_data"
    },
    {
     "name": "stdout",
     "output_type": "stream",
     "text": [
      "\n"
     ]
    },
    {
     "data": {
      "application/vnd.jupyter.widget-view+json": {
       "model_id": "574a958539734597803655780093d470",
       "version_major": 2,
       "version_minor": 0
      },
      "text/plain": [
       "HBox(children=(FloatProgress(value=0.0, max=55753.0), HTML(value='')))"
      ]
     },
     "metadata": {},
     "output_type": "display_data"
    },
    {
     "data": {
      "application/vnd.jupyter.widget-view+json": {
       "model_id": "b8182d2424f84ed2a22d5b3dc9e4daf1",
       "version_major": 2,
       "version_minor": 0
      },
      "text/plain": [
       "HBox(children=(FloatProgress(value=0.0, max=69083.0), HTML(value='')))"
      ]
     },
     "metadata": {},
     "output_type": "display_data"
    },
    {
     "data": {
      "application/vnd.jupyter.widget-view+json": {
       "model_id": "7ef01237be194f34b3a022ea5c9e9774",
       "version_major": 2,
       "version_minor": 0
      },
      "text/plain": [
       "HBox(children=(FloatProgress(value=0.0, max=82361.0), HTML(value='')))"
      ]
     },
     "metadata": {},
     "output_type": "display_data"
    },
    {
     "data": {
      "application/vnd.jupyter.widget-view+json": {
       "model_id": "d14acf978068416992db7ac437a359b0",
       "version_major": 2,
       "version_minor": 0
      },
      "text/plain": [
       "HBox(children=(FloatProgress(value=0.0, max=174631.0), HTML(value='')))"
      ]
     },
     "metadata": {},
     "output_type": "display_data"
    },
    {
     "data": {
      "application/vnd.jupyter.widget-view+json": {
       "model_id": "f6c55c71e48f4c5cb89a264a7d457f74",
       "version_major": 2,
       "version_minor": 0
      },
      "text/plain": [
       "HBox(children=(FloatProgress(value=0.0, max=168607.0), HTML(value='')))"
      ]
     },
     "metadata": {},
     "output_type": "display_data"
    },
    {
     "name": "stdout",
     "output_type": "stream",
     "text": [
      "\n"
     ]
    },
    {
     "data": {
      "application/vnd.jupyter.widget-view+json": {
       "model_id": "869a6d67fb2442b3853da4c2c2f4f6dc",
       "version_major": 2,
       "version_minor": 0
      },
      "text/plain": [
       "HBox(children=(FloatProgress(value=0.0, max=250016.0), HTML(value='')))"
      ]
     },
     "metadata": {},
     "output_type": "display_data"
    },
    {
     "data": {
      "application/vnd.jupyter.widget-view+json": {
       "model_id": "f81d70b71b754a39ac2056d019e02048",
       "version_major": 2,
       "version_minor": 0
      },
      "text/plain": [
       "HBox(children=(FloatProgress(value=0.0, max=135887.0), HTML(value='')))"
      ]
     },
     "metadata": {},
     "output_type": "display_data"
    },
    {
     "name": "stdout",
     "output_type": "stream",
     "text": [
      "\n",
      "\n"
     ]
    },
    {
     "data": {
      "application/vnd.jupyter.widget-view+json": {
       "model_id": "c9496c6a2d5b4b86b609e43b3e4caf51",
       "version_major": 2,
       "version_minor": 0
      },
      "text/plain": [
       "HBox(children=(FloatProgress(value=0.0, max=64986.0), HTML(value='')))"
      ]
     },
     "metadata": {},
     "output_type": "display_data"
    },
    {
     "name": "stdout",
     "output_type": "stream",
     "text": [
      "\n"
     ]
    },
    {
     "data": {
      "application/vnd.jupyter.widget-view+json": {
       "model_id": "0363263aee284772b2645fde9ec0d5c7",
       "version_major": 2,
       "version_minor": 0
      },
      "text/plain": [
       "HBox(children=(FloatProgress(value=0.0, max=185117.0), HTML(value='')))"
      ]
     },
     "metadata": {},
     "output_type": "display_data"
    },
    {
     "name": "stdout",
     "output_type": "stream",
     "text": [
      "\n"
     ]
    },
    {
     "data": {
      "application/vnd.jupyter.widget-view+json": {
       "model_id": "100bda0148b0457e8a826582ee8cd165",
       "version_major": 2,
       "version_minor": 0
      },
      "text/plain": [
       "HBox(children=(FloatProgress(value=0.0, max=1008526.0), HTML(value='')))"
      ]
     },
     "metadata": {},
     "output_type": "display_data"
    },
    {
     "name": "stdout",
     "output_type": "stream",
     "text": [
      "\n",
      "\n"
     ]
    },
    {
     "data": {
      "application/vnd.jupyter.widget-view+json": {
       "model_id": "f693481abe0c4a43a71013c6175de67a",
       "version_major": 2,
       "version_minor": 0
      },
      "text/plain": [
       "HBox(children=(FloatProgress(value=0.0, max=265065.0), HTML(value='')))"
      ]
     },
     "metadata": {},
     "output_type": "display_data"
    },
    {
     "data": {
      "application/vnd.jupyter.widget-view+json": {
       "model_id": "d0cc639007644103a2142f6009536dd4",
       "version_major": 2,
       "version_minor": 0
      },
      "text/plain": [
       "HBox(children=(FloatProgress(value=0.0, max=556905.0), HTML(value='')))"
      ]
     },
     "metadata": {},
     "output_type": "display_data"
    },
    {
     "data": {
      "application/vnd.jupyter.widget-view+json": {
       "model_id": "37b15053b0d24bef885af62ce1c1bb3c",
       "version_major": 2,
       "version_minor": 0
      },
      "text/plain": [
       "HBox(children=(FloatProgress(value=0.0, max=969060.0), HTML(value='')))"
      ]
     },
     "metadata": {},
     "output_type": "display_data"
    },
    {
     "data": {
      "application/vnd.jupyter.widget-view+json": {
       "model_id": "23120f29266d4885918fd4a4d2c03236",
       "version_major": 2,
       "version_minor": 0
      },
      "text/plain": [
       "HBox(children=(FloatProgress(value=0.0, max=160701.0), HTML(value='')))"
      ]
     },
     "metadata": {},
     "output_type": "display_data"
    },
    {
     "name": "stdout",
     "output_type": "stream",
     "text": [
      "\n"
     ]
    },
    {
     "data": {
      "application/vnd.jupyter.widget-view+json": {
       "model_id": "8f0f227c714e4a95a163bb58327ed94a",
       "version_major": 2,
       "version_minor": 0
      },
      "text/plain": [
       "HBox(children=(FloatProgress(value=0.0, max=318048.0), HTML(value='')))"
      ]
     },
     "metadata": {},
     "output_type": "display_data"
    },
    {
     "data": {
      "application/vnd.jupyter.widget-view+json": {
       "model_id": "22a177fa763c4728b84c398960808297",
       "version_major": 2,
       "version_minor": 0
      },
      "text/plain": [
       "HBox(children=(FloatProgress(value=0.0, max=169535.0), HTML(value='')))"
      ]
     },
     "metadata": {},
     "output_type": "display_data"
    },
    {
     "name": "stdout",
     "output_type": "stream",
     "text": [
      "\n",
      "\n",
      "\n",
      "\n"
     ]
    },
    {
     "data": {
      "application/vnd.jupyter.widget-view+json": {
       "model_id": "4b9b07000aa944b5a417fa0012a47bd4",
       "version_major": 2,
       "version_minor": 0
      },
      "text/plain": [
       "HBox(children=(FloatProgress(value=0.0, max=439051.0), HTML(value='')))"
      ]
     },
     "metadata": {},
     "output_type": "display_data"
    },
    {
     "data": {
      "application/vnd.jupyter.widget-view+json": {
       "model_id": "d22df383d85943368d77c68dc880f77d",
       "version_major": 2,
       "version_minor": 0
      },
      "text/plain": [
       "HBox(children=(FloatProgress(value=0.0, max=358781.0), HTML(value='')))"
      ]
     },
     "metadata": {},
     "output_type": "display_data"
    },
    {
     "data": {
      "application/vnd.jupyter.widget-view+json": {
       "model_id": "db79e6a1b0bf43dea4654465ca6e8a47",
       "version_major": 2,
       "version_minor": 0
      },
      "text/plain": [
       "HBox(children=(FloatProgress(value=0.0, max=132216.0), HTML(value='')))"
      ]
     },
     "metadata": {},
     "output_type": "display_data"
    },
    {
     "data": {
      "application/vnd.jupyter.widget-view+json": {
       "model_id": "9171130ec42b44f2aa439158f8af2139",
       "version_major": 2,
       "version_minor": 0
      },
      "text/plain": [
       "HBox(children=(FloatProgress(value=0.0, max=264400.0), HTML(value='')))"
      ]
     },
     "metadata": {},
     "output_type": "display_data"
    },
    {
     "name": "stdout",
     "output_type": "stream",
     "text": [
      "\n",
      "\n"
     ]
    },
    {
     "data": {
      "application/vnd.jupyter.widget-view+json": {
       "model_id": "bf5b244dc87b44e88bebbacef79c5a1c",
       "version_major": 2,
       "version_minor": 0
      },
      "text/plain": [
       "HBox(children=(FloatProgress(value=0.0, max=228767.0), HTML(value='')))"
      ]
     },
     "metadata": {},
     "output_type": "display_data"
    },
    {
     "name": "stdout",
     "output_type": "stream",
     "text": [
      "\n",
      "\n"
     ]
    },
    {
     "data": {
      "application/vnd.jupyter.widget-view+json": {
       "model_id": "56f3ce669d854ed6b76ac91e7b1704ce",
       "version_major": 2,
       "version_minor": 0
      },
      "text/plain": [
       "HBox(children=(FloatProgress(value=0.0, max=635673.0), HTML(value='')))"
      ]
     },
     "metadata": {},
     "output_type": "display_data"
    },
    {
     "data": {
      "application/vnd.jupyter.widget-view+json": {
       "model_id": "be887564a9e54300ac0c23085e0ab30f",
       "version_major": 2,
       "version_minor": 0
      },
      "text/plain": [
       "HBox(children=(FloatProgress(value=0.0, max=753042.0), HTML(value='')))"
      ]
     },
     "metadata": {},
     "output_type": "display_data"
    },
    {
     "name": "stdout",
     "output_type": "stream",
     "text": [
      "\n"
     ]
    },
    {
     "data": {
      "application/vnd.jupyter.widget-view+json": {
       "model_id": "0903d04a31f34625b3cd824d0cf7fbc3",
       "version_major": 2,
       "version_minor": 0
      },
      "text/plain": [
       "HBox(children=(FloatProgress(value=0.0, max=516685.0), HTML(value='')))"
      ]
     },
     "metadata": {},
     "output_type": "display_data"
    },
    {
     "name": "stdout",
     "output_type": "stream",
     "text": [
      "\n"
     ]
    },
    {
     "data": {
      "application/vnd.jupyter.widget-view+json": {
       "model_id": "29dfb624e7994ac7bb5ddc493229eaf2",
       "version_major": 2,
       "version_minor": 0
      },
      "text/plain": [
       "HBox(children=(FloatProgress(value=0.0, max=197877.0), HTML(value='')))"
      ]
     },
     "metadata": {},
     "output_type": "display_data"
    },
    {
     "name": "stdout",
     "output_type": "stream",
     "text": [
      "\n"
     ]
    },
    {
     "data": {
      "application/vnd.jupyter.widget-view+json": {
       "model_id": "6e55cc394de4491b8ec6e476b6d64459",
       "version_major": 2,
       "version_minor": 0
      },
      "text/plain": [
       "HBox(children=(FloatProgress(value=0.0, max=560693.0), HTML(value='')))"
      ]
     },
     "metadata": {},
     "output_type": "display_data"
    },
    {
     "data": {
      "application/vnd.jupyter.widget-view+json": {
       "model_id": "fae08b5631d94fdd85e5bd721a76252d",
       "version_major": 2,
       "version_minor": 0
      },
      "text/plain": [
       "HBox(children=(FloatProgress(value=0.0, max=311513.0), HTML(value='')))"
      ]
     },
     "metadata": {},
     "output_type": "display_data"
    },
    {
     "name": "stdout",
     "output_type": "stream",
     "text": [
      "\n",
      "\n"
     ]
    },
    {
     "data": {
      "application/vnd.jupyter.widget-view+json": {
       "model_id": "8867825a73eb4657bb9c414ba7bfb979",
       "version_major": 2,
       "version_minor": 0
      },
      "text/plain": [
       "HBox(children=(FloatProgress(value=0.0, max=321593.0), HTML(value='')))"
      ]
     },
     "metadata": {},
     "output_type": "display_data"
    },
    {
     "data": {
      "application/vnd.jupyter.widget-view+json": {
       "model_id": "28f85fa3a563400eafda2caf47acd5b1",
       "version_major": 2,
       "version_minor": 0
      },
      "text/plain": [
       "HBox(children=(FloatProgress(value=0.0, max=174802.0), HTML(value='')))"
      ]
     },
     "metadata": {},
     "output_type": "display_data"
    },
    {
     "name": "stdout",
     "output_type": "stream",
     "text": [
      "\n",
      "\n",
      "\n",
      "\n"
     ]
    },
    {
     "data": {
      "application/vnd.jupyter.widget-view+json": {
       "model_id": "22067e437325479c9b6488912e7d4b85",
       "version_major": 2,
       "version_minor": 0
      },
      "text/plain": [
       "HBox(children=(FloatProgress(value=0.0, max=207964.0), HTML(value='')))"
      ]
     },
     "metadata": {},
     "output_type": "display_data"
    },
    {
     "name": "stdout",
     "output_type": "stream",
     "text": [
      "\n"
     ]
    },
    {
     "data": {
      "application/vnd.jupyter.widget-view+json": {
       "model_id": "0fe4908062f041a3bf78d6ae62c3ac93",
       "version_major": 2,
       "version_minor": 0
      },
      "text/plain": [
       "HBox(children=(FloatProgress(value=0.0, max=468138.0), HTML(value='')))"
      ]
     },
     "metadata": {},
     "output_type": "display_data"
    },
    {
     "data": {
      "application/vnd.jupyter.widget-view+json": {
       "model_id": "ee7b85b9a4b348a8be458276ae84ceba",
       "version_major": 2,
       "version_minor": 0
      },
      "text/plain": [
       "HBox(children=(FloatProgress(value=0.0, max=164533.0), HTML(value='')))"
      ]
     },
     "metadata": {},
     "output_type": "display_data"
    },
    {
     "data": {
      "application/vnd.jupyter.widget-view+json": {
       "model_id": "2db6439cd65548adb775affdeb9e0ccd",
       "version_major": 2,
       "version_minor": 0
      },
      "text/plain": [
       "HBox(children=(FloatProgress(value=0.0, max=654774.0), HTML(value='')))"
      ]
     },
     "metadata": {},
     "output_type": "display_data"
    },
    {
     "name": "stdout",
     "output_type": "stream",
     "text": [
      "\n",
      "\n"
     ]
    },
    {
     "data": {
      "application/vnd.jupyter.widget-view+json": {
       "model_id": "3819addb95004c06ab4d7b52998664bd",
       "version_major": 2,
       "version_minor": 0
      },
      "text/plain": [
       "HBox(children=(FloatProgress(value=0.0, max=95017.0), HTML(value='')))"
      ]
     },
     "metadata": {},
     "output_type": "display_data"
    },
    {
     "name": "stdout",
     "output_type": "stream",
     "text": [
      "\n"
     ]
    },
    {
     "data": {
      "application/vnd.jupyter.widget-view+json": {
       "model_id": "d7afe07195a64a43bb0150bbeaa3784f",
       "version_major": 2,
       "version_minor": 0
      },
      "text/plain": [
       "HBox(children=(FloatProgress(value=0.0, max=749063.0), HTML(value='')))"
      ]
     },
     "metadata": {},
     "output_type": "display_data"
    },
    {
     "data": {
      "application/vnd.jupyter.widget-view+json": {
       "model_id": "b95a5440cdce4d8bbef4a5c172d9b325",
       "version_major": 2,
       "version_minor": 0
      },
      "text/plain": [
       "HBox(children=(FloatProgress(value=0.0, max=156595.0), HTML(value='')))"
      ]
     },
     "metadata": {},
     "output_type": "display_data"
    },
    {
     "name": "stdout",
     "output_type": "stream",
     "text": [
      "\n"
     ]
    },
    {
     "data": {
      "application/vnd.jupyter.widget-view+json": {
       "model_id": "2aec3c3e408849b381eac7be72a7d79c",
       "version_major": 2,
       "version_minor": 0
      },
      "text/plain": [
       "HBox(children=(FloatProgress(value=0.0, max=502002.0), HTML(value='')))"
      ]
     },
     "metadata": {},
     "output_type": "display_data"
    },
    {
     "name": "stdout",
     "output_type": "stream",
     "text": [
      "\n",
      "\n",
      "\n"
     ]
    },
    {
     "data": {
      "application/vnd.jupyter.widget-view+json": {
       "model_id": "c4593b2a805a47c0afd4eb38741cfbe6",
       "version_major": 2,
       "version_minor": 0
      },
      "text/plain": [
       "HBox(children=(FloatProgress(value=0.0, max=106328.0), HTML(value='')))"
      ]
     },
     "metadata": {},
     "output_type": "display_data"
    },
    {
     "data": {
      "application/vnd.jupyter.widget-view+json": {
       "model_id": "c23b8a1defab45059b1d8f4179719c68",
       "version_major": 2,
       "version_minor": 0
      },
      "text/plain": [
       "HBox(children=(FloatProgress(value=0.0, max=200163.0), HTML(value='')))"
      ]
     },
     "metadata": {},
     "output_type": "display_data"
    },
    {
     "data": {
      "application/vnd.jupyter.widget-view+json": {
       "model_id": "757a65beb0ea4d0388906ee2eb01ce3d",
       "version_major": 2,
       "version_minor": 0
      },
      "text/plain": [
       "HBox(children=(FloatProgress(value=0.0, max=146994.0), HTML(value='')))"
      ]
     },
     "metadata": {},
     "output_type": "display_data"
    },
    {
     "data": {
      "application/vnd.jupyter.widget-view+json": {
       "model_id": "54692cdddf724ca3a9e4821214c75228",
       "version_major": 2,
       "version_minor": 0
      },
      "text/plain": [
       "HBox(children=(FloatProgress(value=0.0, max=128992.0), HTML(value='')))"
      ]
     },
     "metadata": {},
     "output_type": "display_data"
    },
    {
     "name": "stdout",
     "output_type": "stream",
     "text": [
      "\n"
     ]
    },
    {
     "data": {
      "application/vnd.jupyter.widget-view+json": {
       "model_id": "79cf0c0b6afd4ab6b0e1f5d6fb271276",
       "version_major": 2,
       "version_minor": 0
      },
      "text/plain": [
       "HBox(children=(FloatProgress(value=0.0, max=153686.0), HTML(value='')))"
      ]
     },
     "metadata": {},
     "output_type": "display_data"
    },
    {
     "name": "stdout",
     "output_type": "stream",
     "text": [
      "\n",
      "\n"
     ]
    },
    {
     "data": {
      "application/vnd.jupyter.widget-view+json": {
       "model_id": "af11501c069645b7abc0dfb9d648eef6",
       "version_major": 2,
       "version_minor": 0
      },
      "text/plain": [
       "HBox(children=(FloatProgress(value=0.0, max=116752.0), HTML(value='')))"
      ]
     },
     "metadata": {},
     "output_type": "display_data"
    },
    {
     "name": "stdout",
     "output_type": "stream",
     "text": [
      "\n",
      "\n"
     ]
    },
    {
     "data": {
      "application/vnd.jupyter.widget-view+json": {
       "model_id": "f8c0f2cf52bc41e4b0b9c2af243f07d9",
       "version_major": 2,
       "version_minor": 0
      },
      "text/plain": [
       "HBox(children=(FloatProgress(value=0.0, max=76342.0), HTML(value='')))"
      ]
     },
     "metadata": {},
     "output_type": "display_data"
    },
    {
     "name": "stdout",
     "output_type": "stream",
     "text": [
      "\n"
     ]
    },
    {
     "data": {
      "application/vnd.jupyter.widget-view+json": {
       "model_id": "2c2cbd4dc78d40ac8312f8da7fb91978",
       "version_major": 2,
       "version_minor": 0
      },
      "text/plain": [
       "HBox(children=(FloatProgress(value=0.0, max=162718.0), HTML(value='')))"
      ]
     },
     "metadata": {},
     "output_type": "display_data"
    },
    {
     "data": {
      "application/vnd.jupyter.widget-view+json": {
       "model_id": "3b6255d4b8214d3c84480b96c6e519a0",
       "version_major": 2,
       "version_minor": 0
      },
      "text/plain": [
       "HBox(children=(FloatProgress(value=0.0, max=209305.0), HTML(value='')))"
      ]
     },
     "metadata": {},
     "output_type": "display_data"
    },
    {
     "data": {
      "application/vnd.jupyter.widget-view+json": {
       "model_id": "e1253e9dcd3f4d469cef3b7b527a089b",
       "version_major": 2,
       "version_minor": 0
      },
      "text/plain": [
       "HBox(children=(FloatProgress(value=0.0, max=802052.0), HTML(value='')))"
      ]
     },
     "metadata": {},
     "output_type": "display_data"
    },
    {
     "name": "stdout",
     "output_type": "stream",
     "text": [
      "\n",
      "\n"
     ]
    },
    {
     "data": {
      "application/vnd.jupyter.widget-view+json": {
       "model_id": "ad3a5112e9224fe89c31554e8a4db7d0",
       "version_major": 2,
       "version_minor": 0
      },
      "text/plain": [
       "HBox(children=(FloatProgress(value=0.0, max=126837.0), HTML(value='')))"
      ]
     },
     "metadata": {},
     "output_type": "display_data"
    },
    {
     "name": "stdout",
     "output_type": "stream",
     "text": [
      "\n",
      "\n",
      "\n"
     ]
    },
    {
     "data": {
      "application/vnd.jupyter.widget-view+json": {
       "model_id": "bd5cfa805078437c9ebe2405020a65e4",
       "version_major": 2,
       "version_minor": 0
      },
      "text/plain": [
       "HBox(children=(FloatProgress(value=0.0, max=248434.0), HTML(value='')))"
      ]
     },
     "metadata": {},
     "output_type": "display_data"
    },
    {
     "data": {
      "application/vnd.jupyter.widget-view+json": {
       "model_id": "4ab340fccc184e4886747d2b198ab26d",
       "version_major": 2,
       "version_minor": 0
      },
      "text/plain": [
       "HBox(children=(FloatProgress(value=0.0, max=122163.0), HTML(value='')))"
      ]
     },
     "metadata": {},
     "output_type": "display_data"
    },
    {
     "data": {
      "application/vnd.jupyter.widget-view+json": {
       "model_id": "a83538b8859848d3bbff46b916a80afe",
       "version_major": 2,
       "version_minor": 0
      },
      "text/plain": [
       "HBox(children=(FloatProgress(value=0.0, max=277471.0), HTML(value='')))"
      ]
     },
     "metadata": {},
     "output_type": "display_data"
    },
    {
     "name": "stdout",
     "output_type": "stream",
     "text": [
      "\n"
     ]
    },
    {
     "data": {
      "application/vnd.jupyter.widget-view+json": {
       "model_id": "3effb2ca0ab84fed855b7bef273bacf1",
       "version_major": 2,
       "version_minor": 0
      },
      "text/plain": [
       "HBox(children=(FloatProgress(value=0.0, max=77492.0), HTML(value='')))"
      ]
     },
     "metadata": {},
     "output_type": "display_data"
    },
    {
     "name": "stdout",
     "output_type": "stream",
     "text": [
      "\n"
     ]
    },
    {
     "data": {
      "application/vnd.jupyter.widget-view+json": {
       "model_id": "a9cd2d0504ec4e42b88ada0fc2170021",
       "version_major": 2,
       "version_minor": 0
      },
      "text/plain": [
       "HBox(children=(FloatProgress(value=0.0, max=45321.0), HTML(value='')))"
      ]
     },
     "metadata": {},
     "output_type": "display_data"
    },
    {
     "name": "stdout",
     "output_type": "stream",
     "text": [
      "\n",
      "\n"
     ]
    },
    {
     "data": {
      "application/vnd.jupyter.widget-view+json": {
       "model_id": "46cc3d3d18174676ad32c9980538f132",
       "version_major": 2,
       "version_minor": 0
      },
      "text/plain": [
       "HBox(children=(FloatProgress(value=0.0, max=43747.0), HTML(value='')))"
      ]
     },
     "metadata": {},
     "output_type": "display_data"
    },
    {
     "name": "stdout",
     "output_type": "stream",
     "text": [
      "\n",
      "\n",
      "\n"
     ]
    },
    {
     "data": {
      "application/vnd.jupyter.widget-view+json": {
       "model_id": "267a766b04ba4361bde7f0cfd6e9575d",
       "version_major": 2,
       "version_minor": 0
      },
      "text/plain": [
       "HBox(children=(FloatProgress(value=0.0, max=20619.0), HTML(value='')))"
      ]
     },
     "metadata": {},
     "output_type": "display_data"
    },
    {
     "data": {
      "application/vnd.jupyter.widget-view+json": {
       "model_id": "41019ec41a5e4b05ba35b28245ae3907",
       "version_major": 2,
       "version_minor": 0
      },
      "text/plain": [
       "HBox(children=(FloatProgress(value=0.0, max=376465.0), HTML(value='')))"
      ]
     },
     "metadata": {},
     "output_type": "display_data"
    },
    {
     "name": "stdout",
     "output_type": "stream",
     "text": [
      "\n",
      "\n"
     ]
    },
    {
     "data": {
      "application/vnd.jupyter.widget-view+json": {
       "model_id": "e9899476c7ad464e94f2840b5ff9e207",
       "version_major": 2,
       "version_minor": 0
      },
      "text/plain": [
       "HBox(children=(FloatProgress(value=0.0, max=155338.0), HTML(value='')))"
      ]
     },
     "metadata": {},
     "output_type": "display_data"
    },
    {
     "data": {
      "application/vnd.jupyter.widget-view+json": {
       "model_id": "9142a9f2f7fa437c98a3d19d5b309af0",
       "version_major": 2,
       "version_minor": 0
      },
      "text/plain": [
       "HBox(children=(FloatProgress(value=0.0, max=49472.0), HTML(value='')))"
      ]
     },
     "metadata": {},
     "output_type": "display_data"
    },
    {
     "data": {
      "application/vnd.jupyter.widget-view+json": {
       "model_id": "d96c3e7c87ad41c895e5d1b1ffbe11b0",
       "version_major": 2,
       "version_minor": 0
      },
      "text/plain": [
       "HBox(children=(FloatProgress(value=0.0, max=263571.0), HTML(value='')))"
      ]
     },
     "metadata": {},
     "output_type": "display_data"
    },
    {
     "name": "stdout",
     "output_type": "stream",
     "text": [
      "\n"
     ]
    },
    {
     "data": {
      "application/vnd.jupyter.widget-view+json": {
       "model_id": "8f82ff7f7a9b40dba5b2dc04760da3d2",
       "version_major": 2,
       "version_minor": 0
      },
      "text/plain": [
       "HBox(children=(FloatProgress(value=0.0, max=2066747.0), HTML(value='')))"
      ]
     },
     "metadata": {},
     "output_type": "display_data"
    },
    {
     "data": {
      "application/vnd.jupyter.widget-view+json": {
       "model_id": "24c344d63d2144a58ce359ab2a83a8a1",
       "version_major": 2,
       "version_minor": 0
      },
      "text/plain": [
       "HBox(children=(FloatProgress(value=0.0, max=249002.0), HTML(value='')))"
      ]
     },
     "metadata": {},
     "output_type": "display_data"
    },
    {
     "data": {
      "application/vnd.jupyter.widget-view+json": {
       "model_id": "10c2f861f35d446cbf8cfed39bf2edde",
       "version_major": 2,
       "version_minor": 0
      },
      "text/plain": [
       "HBox(children=(FloatProgress(value=0.0, max=107782.0), HTML(value='')))"
      ]
     },
     "metadata": {},
     "output_type": "display_data"
    },
    {
     "name": "stdout",
     "output_type": "stream",
     "text": [
      "\n",
      "\n"
     ]
    },
    {
     "data": {
      "application/vnd.jupyter.widget-view+json": {
       "model_id": "4a63ec96bb214dc193a58b0c2668dc9d",
       "version_major": 2,
       "version_minor": 0
      },
      "text/plain": [
       "HBox(children=(FloatProgress(value=0.0, max=61633.0), HTML(value='')))"
      ]
     },
     "metadata": {},
     "output_type": "display_data"
    },
    {
     "name": "stdout",
     "output_type": "stream",
     "text": [
      "\n",
      "\n"
     ]
    },
    {
     "data": {
      "application/vnd.jupyter.widget-view+json": {
       "model_id": "134ddb9b938043c9be685ef2d28e0481",
       "version_major": 2,
       "version_minor": 0
      },
      "text/plain": [
       "HBox(children=(FloatProgress(value=0.0, max=44065.0), HTML(value='')))"
      ]
     },
     "metadata": {},
     "output_type": "display_data"
    },
    {
     "data": {
      "application/vnd.jupyter.widget-view+json": {
       "model_id": "04854fb2046349f2906a5c7657371fdd",
       "version_major": 2,
       "version_minor": 0
      },
      "text/plain": [
       "HBox(children=(FloatProgress(value=0.0, max=63872.0), HTML(value='')))"
      ]
     },
     "metadata": {},
     "output_type": "display_data"
    },
    {
     "name": "stdout",
     "output_type": "stream",
     "text": [
      "\n",
      "\n",
      "\n",
      "\n"
     ]
    },
    {
     "data": {
      "application/vnd.jupyter.widget-view+json": {
       "model_id": "a2d31b4dbdda48e6970c5396490a855d",
       "version_major": 2,
       "version_minor": 0
      },
      "text/plain": [
       "HBox(children=(FloatProgress(value=0.0, max=139790.0), HTML(value='')))"
      ]
     },
     "metadata": {},
     "output_type": "display_data"
    },
    {
     "data": {
      "application/vnd.jupyter.widget-view+json": {
       "model_id": "526b34a9fde84c89ac1c4f58593d53e6",
       "version_major": 2,
       "version_minor": 0
      },
      "text/plain": [
       "HBox(children=(FloatProgress(value=0.0, max=852477.0), HTML(value='')))"
      ]
     },
     "metadata": {},
     "output_type": "display_data"
    },
    {
     "data": {
      "application/vnd.jupyter.widget-view+json": {
       "model_id": "19fbdb8567e040049b16a263ed5cf5d5",
       "version_major": 2,
       "version_minor": 0
      },
      "text/plain": [
       "HBox(children=(FloatProgress(value=0.0, max=503233.0), HTML(value='')))"
      ]
     },
     "metadata": {},
     "output_type": "display_data"
    },
    {
     "name": "stdout",
     "output_type": "stream",
     "text": [
      "\n",
      "\n"
     ]
    },
    {
     "data": {
      "application/vnd.jupyter.widget-view+json": {
       "model_id": "eaa84fdafb17466bbf8d0c143c5036f2",
       "version_major": 2,
       "version_minor": 0
      },
      "text/plain": [
       "HBox(children=(FloatProgress(value=0.0, max=356569.0), HTML(value='')))"
      ]
     },
     "metadata": {},
     "output_type": "display_data"
    },
    {
     "data": {
      "application/vnd.jupyter.widget-view+json": {
       "model_id": "8b005c9030444297b7002a23f1dea4b1",
       "version_major": 2,
       "version_minor": 0
      },
      "text/plain": [
       "HBox(children=(FloatProgress(value=0.0, max=132362.0), HTML(value='')))"
      ]
     },
     "metadata": {},
     "output_type": "display_data"
    },
    {
     "data": {
      "application/vnd.jupyter.widget-view+json": {
       "model_id": "be428e7e4fc14d1f8c422d9fca870cad",
       "version_major": 2,
       "version_minor": 0
      },
      "text/plain": [
       "HBox(children=(FloatProgress(value=0.0, max=362902.0), HTML(value='')))"
      ]
     },
     "metadata": {},
     "output_type": "display_data"
    },
    {
     "data": {
      "application/vnd.jupyter.widget-view+json": {
       "model_id": "2a96ab53f701487d8ecaaed7bbc6d570",
       "version_major": 2,
       "version_minor": 0
      },
      "text/plain": [
       "HBox(children=(FloatProgress(value=0.0, max=98142.0), HTML(value='')))"
      ]
     },
     "metadata": {},
     "output_type": "display_data"
    },
    {
     "name": "stdout",
     "output_type": "stream",
     "text": [
      "\n",
      "\n",
      "\n"
     ]
    },
    {
     "data": {
      "application/vnd.jupyter.widget-view+json": {
       "model_id": "0e078e12373f408480ab3ae0f78d7809",
       "version_major": 2,
       "version_minor": 0
      },
      "text/plain": [
       "HBox(children=(FloatProgress(value=0.0, max=245746.0), HTML(value='')))"
      ]
     },
     "metadata": {},
     "output_type": "display_data"
    },
    {
     "data": {
      "application/vnd.jupyter.widget-view+json": {
       "model_id": "3d632e0dfbe0464eb04fe57cde721da9",
       "version_major": 2,
       "version_minor": 0
      },
      "text/plain": [
       "HBox(children=(FloatProgress(value=0.0, max=167019.0), HTML(value='')))"
      ]
     },
     "metadata": {},
     "output_type": "display_data"
    },
    {
     "name": "stdout",
     "output_type": "stream",
     "text": [
      "\n"
     ]
    },
    {
     "data": {
      "application/vnd.jupyter.widget-view+json": {
       "model_id": "07aec67ab1194f3690c8b3fa6c7b5fd4",
       "version_major": 2,
       "version_minor": 0
      },
      "text/plain": [
       "HBox(children=(FloatProgress(value=0.0, max=154442.0), HTML(value='')))"
      ]
     },
     "metadata": {},
     "output_type": "display_data"
    },
    {
     "name": "stdout",
     "output_type": "stream",
     "text": [
      "\n"
     ]
    },
    {
     "data": {
      "application/vnd.jupyter.widget-view+json": {
       "model_id": "823543c73e1d4fc6b4606b2749281ca9",
       "version_major": 2,
       "version_minor": 0
      },
      "text/plain": [
       "HBox(children=(FloatProgress(value=0.0, max=639017.0), HTML(value='')))"
      ]
     },
     "metadata": {},
     "output_type": "display_data"
    },
    {
     "name": "stdout",
     "output_type": "stream",
     "text": [
      "\n"
     ]
    },
    {
     "data": {
      "application/vnd.jupyter.widget-view+json": {
       "model_id": "d4657f3f3d044e0684b2a4b55c88d6ff",
       "version_major": 2,
       "version_minor": 0
      },
      "text/plain": [
       "HBox(children=(FloatProgress(value=0.0, max=114720.0), HTML(value='')))"
      ]
     },
     "metadata": {},
     "output_type": "display_data"
    },
    {
     "name": "stdout",
     "output_type": "stream",
     "text": [
      "\n"
     ]
    },
    {
     "data": {
      "application/vnd.jupyter.widget-view+json": {
       "model_id": "96b82a640d7947c38570f346f8cda9b2",
       "version_major": 2,
       "version_minor": 0
      },
      "text/plain": [
       "HBox(children=(FloatProgress(value=0.0, max=848930.0), HTML(value='')))"
      ]
     },
     "metadata": {},
     "output_type": "display_data"
    },
    {
     "name": "stdout",
     "output_type": "stream",
     "text": [
      "\n"
     ]
    },
    {
     "data": {
      "application/vnd.jupyter.widget-view+json": {
       "model_id": "bfc0067d5a04447885c9db859b898f21",
       "version_major": 2,
       "version_minor": 0
      },
      "text/plain": [
       "HBox(children=(FloatProgress(value=0.0, max=297253.0), HTML(value='')))"
      ]
     },
     "metadata": {},
     "output_type": "display_data"
    },
    {
     "name": "stdout",
     "output_type": "stream",
     "text": [
      "\n",
      "\n"
     ]
    },
    {
     "data": {
      "application/vnd.jupyter.widget-view+json": {
       "model_id": "0ace9f6589594bf580e68d28012d3093",
       "version_major": 2,
       "version_minor": 0
      },
      "text/plain": [
       "HBox(children=(FloatProgress(value=0.0, max=166411.0), HTML(value='')))"
      ]
     },
     "metadata": {},
     "output_type": "display_data"
    },
    {
     "name": "stdout",
     "output_type": "stream",
     "text": [
      "\n"
     ]
    },
    {
     "data": {
      "application/vnd.jupyter.widget-view+json": {
       "model_id": "b45bd7a0c06f4bfd9e88d2f1ae9d6627",
       "version_major": 2,
       "version_minor": 0
      },
      "text/plain": [
       "HBox(children=(FloatProgress(value=0.0, max=304222.0), HTML(value='')))"
      ]
     },
     "metadata": {},
     "output_type": "display_data"
    },
    {
     "data": {
      "application/vnd.jupyter.widget-view+json": {
       "model_id": "01c35f16f0514378b97962177ffe1d33",
       "version_major": 2,
       "version_minor": 0
      },
      "text/plain": [
       "HBox(children=(FloatProgress(value=0.0, max=630165.0), HTML(value='')))"
      ]
     },
     "metadata": {},
     "output_type": "display_data"
    },
    {
     "data": {
      "application/vnd.jupyter.widget-view+json": {
       "model_id": "50ff64bb460e4fffa8f8a333440e5166",
       "version_major": 2,
       "version_minor": 0
      },
      "text/plain": [
       "HBox(children=(FloatProgress(value=0.0, max=274600.0), HTML(value='')))"
      ]
     },
     "metadata": {},
     "output_type": "display_data"
    },
    {
     "name": "stdout",
     "output_type": "stream",
     "text": [
      "\n"
     ]
    },
    {
     "data": {
      "application/vnd.jupyter.widget-view+json": {
       "model_id": "5f1de3f4e94d4e84ac110b790a47e52c",
       "version_major": 2,
       "version_minor": 0
      },
      "text/plain": [
       "HBox(children=(FloatProgress(value=0.0, max=168935.0), HTML(value='')))"
      ]
     },
     "metadata": {},
     "output_type": "display_data"
    },
    {
     "name": "stdout",
     "output_type": "stream",
     "text": [
      "\n"
     ]
    },
    {
     "data": {
      "application/vnd.jupyter.widget-view+json": {
       "model_id": "919055a290dc41359ac95e6a911a2cff",
       "version_major": 2,
       "version_minor": 0
      },
      "text/plain": [
       "HBox(children=(FloatProgress(value=0.0, max=11109.0), HTML(value='')))"
      ]
     },
     "metadata": {},
     "output_type": "display_data"
    },
    {
     "name": "stdout",
     "output_type": "stream",
     "text": [
      "\n"
     ]
    },
    {
     "data": {
      "application/vnd.jupyter.widget-view+json": {
       "model_id": "9f5a8a9eb5bf402690bcdea6acc72a9e",
       "version_major": 2,
       "version_minor": 0
      },
      "text/plain": [
       "HBox(children=(FloatProgress(value=0.0, max=72036.0), HTML(value='')))"
      ]
     },
     "metadata": {},
     "output_type": "display_data"
    },
    {
     "name": "stdout",
     "output_type": "stream",
     "text": [
      "\n",
      "\n",
      "\n",
      "\n",
      "\n"
     ]
    },
    {
     "data": {
      "application/vnd.jupyter.widget-view+json": {
       "model_id": "304b3bafa3624074a511813af75ea712",
       "version_major": 2,
       "version_minor": 0
      },
      "text/plain": [
       "HBox(children=(FloatProgress(value=0.0, max=218552.0), HTML(value='')))"
      ]
     },
     "metadata": {},
     "output_type": "display_data"
    },
    {
     "data": {
      "application/vnd.jupyter.widget-view+json": {
       "model_id": "f85c49822e9c46479c69a8a0438a7edf",
       "version_major": 2,
       "version_minor": 0
      },
      "text/plain": [
       "HBox(children=(FloatProgress(value=0.0, max=133103.0), HTML(value='')))"
      ]
     },
     "metadata": {},
     "output_type": "display_data"
    },
    {
     "name": "stdout",
     "output_type": "stream",
     "text": [
      "\n"
     ]
    },
    {
     "data": {
      "application/vnd.jupyter.widget-view+json": {
       "model_id": "e73ef623437f4b8d957ee9d9a655442b",
       "version_major": 2,
       "version_minor": 0
      },
      "text/plain": [
       "HBox(children=(FloatProgress(value=0.0, max=175306.0), HTML(value='')))"
      ]
     },
     "metadata": {},
     "output_type": "display_data"
    },
    {
     "name": "stdout",
     "output_type": "stream",
     "text": [
      "\n"
     ]
    },
    {
     "data": {
      "application/vnd.jupyter.widget-view+json": {
       "model_id": "8f2a868fe5a347b5ba9e2a4ebb4fccf6",
       "version_major": 2,
       "version_minor": 0
      },
      "text/plain": [
       "HBox(children=(FloatProgress(value=0.0, max=190837.0), HTML(value='')))"
      ]
     },
     "metadata": {},
     "output_type": "display_data"
    },
    {
     "data": {
      "application/vnd.jupyter.widget-view+json": {
       "model_id": "b74b8e5e7775478eb2b2163a59d370e3",
       "version_major": 2,
       "version_minor": 0
      },
      "text/plain": [
       "HBox(children=(FloatProgress(value=0.0, max=422668.0), HTML(value='')))"
      ]
     },
     "metadata": {},
     "output_type": "display_data"
    },
    {
     "name": "stdout",
     "output_type": "stream",
     "text": [
      "\n",
      "\n",
      "\n"
     ]
    },
    {
     "data": {
      "application/vnd.jupyter.widget-view+json": {
       "model_id": "c42a53332942473aa6e0bf0167d6e9d2",
       "version_major": 2,
       "version_minor": 0
      },
      "text/plain": [
       "HBox(children=(FloatProgress(value=0.0, max=347632.0), HTML(value='')))"
      ]
     },
     "metadata": {},
     "output_type": "display_data"
    },
    {
     "name": "stdout",
     "output_type": "stream",
     "text": [
      "\n"
     ]
    },
    {
     "data": {
      "application/vnd.jupyter.widget-view+json": {
       "model_id": "434b809d81434e03aac5fdc578a01dae",
       "version_major": 2,
       "version_minor": 0
      },
      "text/plain": [
       "HBox(children=(FloatProgress(value=0.0, max=148865.0), HTML(value='')))"
      ]
     },
     "metadata": {},
     "output_type": "display_data"
    },
    {
     "name": "stdout",
     "output_type": "stream",
     "text": [
      "\n"
     ]
    },
    {
     "data": {
      "application/vnd.jupyter.widget-view+json": {
       "model_id": "fe7d1fad92c546fd972dafd020a794e8",
       "version_major": 2,
       "version_minor": 0
      },
      "text/plain": [
       "HBox(children=(FloatProgress(value=0.0, max=2459827.0), HTML(value='')))"
      ]
     },
     "metadata": {},
     "output_type": "display_data"
    },
    {
     "data": {
      "application/vnd.jupyter.widget-view+json": {
       "model_id": "365832771bb840a1a4d1075d9cdc5e1f",
       "version_major": 2,
       "version_minor": 0
      },
      "text/plain": [
       "HBox(children=(FloatProgress(value=0.0, max=357254.0), HTML(value='')))"
      ]
     },
     "metadata": {},
     "output_type": "display_data"
    },
    {
     "name": "stdout",
     "output_type": "stream",
     "text": [
      "\n",
      "\n"
     ]
    },
    {
     "data": {
      "application/vnd.jupyter.widget-view+json": {
       "model_id": "135d96295c8c42cca65805bada60ad7f",
       "version_major": 2,
       "version_minor": 0
      },
      "text/plain": [
       "HBox(children=(FloatProgress(value=0.0, max=288673.0), HTML(value='')))"
      ]
     },
     "metadata": {},
     "output_type": "display_data"
    },
    {
     "data": {
      "application/vnd.jupyter.widget-view+json": {
       "model_id": "30e754918e9842b1a80aa0c3797f3c8b",
       "version_major": 2,
       "version_minor": 0
      },
      "text/plain": [
       "HBox(children=(FloatProgress(value=0.0, max=756916.0), HTML(value='')))"
      ]
     },
     "metadata": {},
     "output_type": "display_data"
    },
    {
     "name": "stdout",
     "output_type": "stream",
     "text": [
      "\n"
     ]
    },
    {
     "data": {
      "application/vnd.jupyter.widget-view+json": {
       "model_id": "e10808aa6aaa46f59ef8d359fa038749",
       "version_major": 2,
       "version_minor": 0
      },
      "text/plain": [
       "HBox(children=(FloatProgress(value=0.0, max=587912.0), HTML(value='')))"
      ]
     },
     "metadata": {},
     "output_type": "display_data"
    },
    {
     "data": {
      "application/vnd.jupyter.widget-view+json": {
       "model_id": "3ec4df741727456ea65de83e90f34683",
       "version_major": 2,
       "version_minor": 0
      },
      "text/plain": [
       "HBox(children=(FloatProgress(value=0.0, max=2093645.0), HTML(value='')))"
      ]
     },
     "metadata": {},
     "output_type": "display_data"
    },
    {
     "data": {
      "application/vnd.jupyter.widget-view+json": {
       "model_id": "dfd35d75d59b4db0b2ea3f3740ccc11c",
       "version_major": 2,
       "version_minor": 0
      },
      "text/plain": [
       "HBox(children=(FloatProgress(value=0.0, max=180519.0), HTML(value='')))"
      ]
     },
     "metadata": {},
     "output_type": "display_data"
    },
    {
     "data": {
      "application/vnd.jupyter.widget-view+json": {
       "model_id": "04620de1b3d14958ac75b2055dbed8af",
       "version_major": 2,
       "version_minor": 0
      },
      "text/plain": [
       "HBox(children=(FloatProgress(value=0.0, max=888190.0), HTML(value='')))"
      ]
     },
     "metadata": {},
     "output_type": "display_data"
    },
    {
     "name": "stdout",
     "output_type": "stream",
     "text": [
      "\n",
      "\n"
     ]
    },
    {
     "data": {
      "application/vnd.jupyter.widget-view+json": {
       "model_id": "49f9e245fefb4264b3cb98d09e8a9c9a",
       "version_major": 2,
       "version_minor": 0
      },
      "text/plain": [
       "HBox(children=(FloatProgress(value=0.0, max=111748.0), HTML(value='')))"
      ]
     },
     "metadata": {},
     "output_type": "display_data"
    },
    {
     "data": {
      "application/vnd.jupyter.widget-view+json": {
       "model_id": "95c01d3fb73d4d7eb21e83ca094211b8",
       "version_major": 2,
       "version_minor": 0
      },
      "text/plain": [
       "HBox(children=(FloatProgress(value=0.0, max=205140.0), HTML(value='')))"
      ]
     },
     "metadata": {},
     "output_type": "display_data"
    },
    {
     "name": "stdout",
     "output_type": "stream",
     "text": [
      "\n"
     ]
    },
    {
     "data": {
      "application/vnd.jupyter.widget-view+json": {
       "model_id": "8efd391f9624449195b08310f5574a2f",
       "version_major": 2,
       "version_minor": 0
      },
      "text/plain": [
       "HBox(children=(FloatProgress(value=0.0, max=132906.0), HTML(value='')))"
      ]
     },
     "metadata": {},
     "output_type": "display_data"
    },
    {
     "name": "stdout",
     "output_type": "stream",
     "text": [
      "\n",
      "\n"
     ]
    },
    {
     "data": {
      "application/vnd.jupyter.widget-view+json": {
       "model_id": "7b8e8a52dae84d04992407eca2948c1a",
       "version_major": 2,
       "version_minor": 0
      },
      "text/plain": [
       "HBox(children=(FloatProgress(value=0.0, max=119306.0), HTML(value='')))"
      ]
     },
     "metadata": {},
     "output_type": "display_data"
    },
    {
     "data": {
      "application/vnd.jupyter.widget-view+json": {
       "model_id": "0f111aa3203c422b85bd70634f9f854b",
       "version_major": 2,
       "version_minor": 0
      },
      "text/plain": [
       "HBox(children=(FloatProgress(value=0.0, max=294489.0), HTML(value='')))"
      ]
     },
     "metadata": {},
     "output_type": "display_data"
    },
    {
     "name": "stdout",
     "output_type": "stream",
     "text": [
      "\n",
      "\n"
     ]
    },
    {
     "data": {
      "application/vnd.jupyter.widget-view+json": {
       "model_id": "c4d121a8c5a54a32ba455f24de28d3fe",
       "version_major": 2,
       "version_minor": 0
      },
      "text/plain": [
       "HBox(children=(FloatProgress(value=0.0, max=127859.0), HTML(value='')))"
      ]
     },
     "metadata": {},
     "output_type": "display_data"
    },
    {
     "name": "stdout",
     "output_type": "stream",
     "text": [
      "\n"
     ]
    },
    {
     "data": {
      "application/vnd.jupyter.widget-view+json": {
       "model_id": "4c0f594d7526460699c8158e056f049e",
       "version_major": 2,
       "version_minor": 0
      },
      "text/plain": [
       "HBox(children=(FloatProgress(value=0.0, max=114282.0), HTML(value='')))"
      ]
     },
     "metadata": {},
     "output_type": "display_data"
    },
    {
     "name": "stdout",
     "output_type": "stream",
     "text": [
      "\n",
      "\n"
     ]
    },
    {
     "data": {
      "application/vnd.jupyter.widget-view+json": {
       "model_id": "4c095680af784e16b7fccc1f63343553",
       "version_major": 2,
       "version_minor": 0
      },
      "text/plain": [
       "HBox(children=(FloatProgress(value=0.0, max=103480.0), HTML(value='')))"
      ]
     },
     "metadata": {},
     "output_type": "display_data"
    },
    {
     "data": {
      "application/vnd.jupyter.widget-view+json": {
       "model_id": "01b5aec0e0d349f1bc72767268d46d30",
       "version_major": 2,
       "version_minor": 0
      },
      "text/plain": [
       "HBox(children=(FloatProgress(value=0.0, max=775656.0), HTML(value='')))"
      ]
     },
     "metadata": {},
     "output_type": "display_data"
    },
    {
     "name": "stdout",
     "output_type": "stream",
     "text": [
      "\n"
     ]
    },
    {
     "data": {
      "application/vnd.jupyter.widget-view+json": {
       "model_id": "7aa3a75122b047da8538e7347ce6e641",
       "version_major": 2,
       "version_minor": 0
      },
      "text/plain": [
       "HBox(children=(FloatProgress(value=0.0, max=22631.0), HTML(value='')))"
      ]
     },
     "metadata": {},
     "output_type": "display_data"
    },
    {
     "data": {
      "application/vnd.jupyter.widget-view+json": {
       "model_id": "463c56d66aa64eb385d78a540719a530",
       "version_major": 2,
       "version_minor": 0
      },
      "text/plain": [
       "HBox(children=(FloatProgress(value=0.0, max=1759183.0), HTML(value='')))"
      ]
     },
     "metadata": {},
     "output_type": "display_data"
    },
    {
     "name": "stdout",
     "output_type": "stream",
     "text": [
      "\n",
      "\n"
     ]
    },
    {
     "data": {
      "application/vnd.jupyter.widget-view+json": {
       "model_id": "05e926be308d4f21ad578bbdf4f30495",
       "version_major": 2,
       "version_minor": 0
      },
      "text/plain": [
       "HBox(children=(FloatProgress(value=0.0, max=80284.0), HTML(value='')))"
      ]
     },
     "metadata": {},
     "output_type": "display_data"
    },
    {
     "data": {
      "application/vnd.jupyter.widget-view+json": {
       "model_id": "f7790fad72704640b0af15f0d2f33b76",
       "version_major": 2,
       "version_minor": 0
      },
      "text/plain": [
       "HBox(children=(FloatProgress(value=0.0, max=100069.0), HTML(value='')))"
      ]
     },
     "metadata": {},
     "output_type": "display_data"
    },
    {
     "name": "stdout",
     "output_type": "stream",
     "text": [
      "\n",
      "\n",
      "\n"
     ]
    },
    {
     "data": {
      "application/vnd.jupyter.widget-view+json": {
       "model_id": "c7a7dff72e4a4d529993ef6fe7d7f347",
       "version_major": 2,
       "version_minor": 0
      },
      "text/plain": [
       "HBox(children=(FloatProgress(value=0.0, max=37043.0), HTML(value='')))"
      ]
     },
     "metadata": {},
     "output_type": "display_data"
    },
    {
     "name": "stdout",
     "output_type": "stream",
     "text": [
      "\n"
     ]
    },
    {
     "data": {
      "application/vnd.jupyter.widget-view+json": {
       "model_id": "5ef48d5ef4324ffca04c37d4bdc67b58",
       "version_major": 2,
       "version_minor": 0
      },
      "text/plain": [
       "HBox(children=(FloatProgress(value=0.0, max=364006.0), HTML(value='')))"
      ]
     },
     "metadata": {},
     "output_type": "display_data"
    },
    {
     "data": {
      "application/vnd.jupyter.widget-view+json": {
       "model_id": "1b27ffd6af954e2aa79bf9f828f7d3aa",
       "version_major": 2,
       "version_minor": 0
      },
      "text/plain": [
       "HBox(children=(FloatProgress(value=0.0, max=605024.0), HTML(value='')))"
      ]
     },
     "metadata": {},
     "output_type": "display_data"
    },
    {
     "name": "stdout",
     "output_type": "stream",
     "text": [
      "\n"
     ]
    },
    {
     "data": {
      "application/vnd.jupyter.widget-view+json": {
       "model_id": "149760246abb4b9a82474d88bbebde81",
       "version_major": 2,
       "version_minor": 0
      },
      "text/plain": [
       "HBox(children=(FloatProgress(value=0.0, max=571851.0), HTML(value='')))"
      ]
     },
     "metadata": {},
     "output_type": "display_data"
    },
    {
     "data": {
      "application/vnd.jupyter.widget-view+json": {
       "model_id": "2cb0a9038e904cb0afa38ac03653e1ac",
       "version_major": 2,
       "version_minor": 0
      },
      "text/plain": [
       "HBox(children=(FloatProgress(value=0.0, max=49836.0), HTML(value='')))"
      ]
     },
     "metadata": {},
     "output_type": "display_data"
    },
    {
     "name": "stdout",
     "output_type": "stream",
     "text": [
      "\n",
      "\n"
     ]
    },
    {
     "data": {
      "application/vnd.jupyter.widget-view+json": {
       "model_id": "cd890f211d2c4e6a8c23328eaa6e661a",
       "version_major": 2,
       "version_minor": 0
      },
      "text/plain": [
       "HBox(children=(FloatProgress(value=0.0, max=445706.0), HTML(value='')))"
      ]
     },
     "metadata": {},
     "output_type": "display_data"
    },
    {
     "data": {
      "application/vnd.jupyter.widget-view+json": {
       "model_id": "489e8263f978418991e1f1ab46ab426b",
       "version_major": 2,
       "version_minor": 0
      },
      "text/plain": [
       "HBox(children=(FloatProgress(value=0.0, max=121569.0), HTML(value='')))"
      ]
     },
     "metadata": {},
     "output_type": "display_data"
    },
    {
     "name": "stdout",
     "output_type": "stream",
     "text": [
      "\n",
      "\n"
     ]
    },
    {
     "data": {
      "application/vnd.jupyter.widget-view+json": {
       "model_id": "cbff0f049fa44a3cb1de40ae1177ccf5",
       "version_major": 2,
       "version_minor": 0
      },
      "text/plain": [
       "HBox(children=(FloatProgress(value=0.0, max=65000.0), HTML(value='')))"
      ]
     },
     "metadata": {},
     "output_type": "display_data"
    },
    {
     "name": "stdout",
     "output_type": "stream",
     "text": [
      "\n"
     ]
    },
    {
     "data": {
      "application/vnd.jupyter.widget-view+json": {
       "model_id": "bd94cf5c61054f429d5ad42111c02f1d",
       "version_major": 2,
       "version_minor": 0
      },
      "text/plain": [
       "HBox(children=(FloatProgress(value=0.0, max=163998.0), HTML(value='')))"
      ]
     },
     "metadata": {},
     "output_type": "display_data"
    },
    {
     "name": "stdout",
     "output_type": "stream",
     "text": [
      "\n"
     ]
    },
    {
     "data": {
      "application/vnd.jupyter.widget-view+json": {
       "model_id": "b7c16ab1aa5d478ba07d1fb855faa993",
       "version_major": 2,
       "version_minor": 0
      },
      "text/plain": [
       "HBox(children=(FloatProgress(value=0.0, max=860672.0), HTML(value='')))"
      ]
     },
     "metadata": {},
     "output_type": "display_data"
    },
    {
     "name": "stdout",
     "output_type": "stream",
     "text": [
      "\n",
      "\n"
     ]
    },
    {
     "data": {
      "application/vnd.jupyter.widget-view+json": {
       "model_id": "3bc5fb1652474c67b61a57ea42d5f97a",
       "version_major": 2,
       "version_minor": 0
      },
      "text/plain": [
       "HBox(children=(FloatProgress(value=0.0, max=57911.0), HTML(value='')))"
      ]
     },
     "metadata": {},
     "output_type": "display_data"
    },
    {
     "name": "stdout",
     "output_type": "stream",
     "text": [
      "\n"
     ]
    },
    {
     "data": {
      "application/vnd.jupyter.widget-view+json": {
       "model_id": "b1d726e228b04f809dad58b5cd8aa9cf",
       "version_major": 2,
       "version_minor": 0
      },
      "text/plain": [
       "HBox(children=(FloatProgress(value=0.0, max=238168.0), HTML(value='')))"
      ]
     },
     "metadata": {},
     "output_type": "display_data"
    },
    {
     "name": "stdout",
     "output_type": "stream",
     "text": [
      "\n",
      "\n"
     ]
    },
    {
     "data": {
      "application/vnd.jupyter.widget-view+json": {
       "model_id": "03c2512049274922a23c07165c6cf5e6",
       "version_major": 2,
       "version_minor": 0
      },
      "text/plain": [
       "HBox(children=(FloatProgress(value=0.0, max=117005.0), HTML(value='')))"
      ]
     },
     "metadata": {},
     "output_type": "display_data"
    },
    {
     "name": "stdout",
     "output_type": "stream",
     "text": [
      "\n"
     ]
    },
    {
     "data": {
      "application/vnd.jupyter.widget-view+json": {
       "model_id": "fa210060b78f43518e756f0dc199c511",
       "version_major": 2,
       "version_minor": 0
      },
      "text/plain": [
       "HBox(children=(FloatProgress(value=0.0, max=686475.0), HTML(value='')))"
      ]
     },
     "metadata": {},
     "output_type": "display_data"
    },
    {
     "data": {
      "application/vnd.jupyter.widget-view+json": {
       "model_id": "45addafac7e341598e354949c19db91d",
       "version_major": 2,
       "version_minor": 0
      },
      "text/plain": [
       "HBox(children=(FloatProgress(value=0.0, max=149610.0), HTML(value='')))"
      ]
     },
     "metadata": {},
     "output_type": "display_data"
    },
    {
     "name": "stdout",
     "output_type": "stream",
     "text": [
      "\n"
     ]
    },
    {
     "data": {
      "application/vnd.jupyter.widget-view+json": {
       "model_id": "e16acccb2a5a4b4d81b7908754d79cbc",
       "version_major": 2,
       "version_minor": 0
      },
      "text/plain": [
       "HBox(children=(FloatProgress(value=0.0, max=853659.0), HTML(value='')))"
      ]
     },
     "metadata": {},
     "output_type": "display_data"
    },
    {
     "name": "stdout",
     "output_type": "stream",
     "text": [
      "\n"
     ]
    },
    {
     "data": {
      "application/vnd.jupyter.widget-view+json": {
       "model_id": "15e3f04ae7c247d886310127dc8a27ae",
       "version_major": 2,
       "version_minor": 0
      },
      "text/plain": [
       "HBox(children=(FloatProgress(value=0.0, max=112306.0), HTML(value='')))"
      ]
     },
     "metadata": {},
     "output_type": "display_data"
    },
    {
     "data": {
      "application/vnd.jupyter.widget-view+json": {
       "model_id": "806b1463d2e74e0d9d012feb1c8979ac",
       "version_major": 2,
       "version_minor": 0
      },
      "text/plain": [
       "HBox(children=(FloatProgress(value=0.0, max=748865.0), HTML(value='')))"
      ]
     },
     "metadata": {},
     "output_type": "display_data"
    },
    {
     "name": "stdout",
     "output_type": "stream",
     "text": [
      "\n"
     ]
    },
    {
     "data": {
      "application/vnd.jupyter.widget-view+json": {
       "model_id": "a75ad4115f904d6fa405766a64e65706",
       "version_major": 2,
       "version_minor": 0
      },
      "text/plain": [
       "HBox(children=(FloatProgress(value=0.0, max=12111.0), HTML(value='')))"
      ]
     },
     "metadata": {},
     "output_type": "display_data"
    },
    {
     "name": "stdout",
     "output_type": "stream",
     "text": [
      "\n"
     ]
    },
    {
     "data": {
      "application/vnd.jupyter.widget-view+json": {
       "model_id": "afc8ab41ad014be1a773a32fd75ccb5b",
       "version_major": 2,
       "version_minor": 0
      },
      "text/plain": [
       "HBox(children=(FloatProgress(value=0.0, max=3561.0), HTML(value='')))"
      ]
     },
     "metadata": {},
     "output_type": "display_data"
    },
    {
     "name": "stdout",
     "output_type": "stream",
     "text": [
      "\n"
     ]
    },
    {
     "data": {
      "application/vnd.jupyter.widget-view+json": {
       "model_id": "4d6abfd40db54ec0a75aa28592554d8b",
       "version_major": 2,
       "version_minor": 0
      },
      "text/plain": [
       "HBox(children=(FloatProgress(value=0.0, max=13466.0), HTML(value='')))"
      ]
     },
     "metadata": {},
     "output_type": "display_data"
    },
    {
     "name": "stdout",
     "output_type": "stream",
     "text": [
      "\n"
     ]
    },
    {
     "data": {
      "application/vnd.jupyter.widget-view+json": {
       "model_id": "8e45f0355d914de59fc8e011735e9584",
       "version_major": 2,
       "version_minor": 0
      },
      "text/plain": [
       "HBox(children=(FloatProgress(value=0.0, max=5250.0), HTML(value='')))"
      ]
     },
     "metadata": {},
     "output_type": "display_data"
    },
    {
     "name": "stdout",
     "output_type": "stream",
     "text": [
      "\n"
     ]
    },
    {
     "data": {
      "application/vnd.jupyter.widget-view+json": {
       "model_id": "40a2748fb3e447e8ba6e1c309c067078",
       "version_major": 2,
       "version_minor": 0
      },
      "text/plain": [
       "HBox(children=(FloatProgress(value=0.0, max=861.0), HTML(value='')))"
      ]
     },
     "metadata": {},
     "output_type": "display_data"
    },
    {
     "name": "stdout",
     "output_type": "stream",
     "text": [
      "\n"
     ]
    },
    {
     "data": {
      "application/vnd.jupyter.widget-view+json": {
       "model_id": "30be0e782bba4e3e8a0013ed31c3d131",
       "version_major": 2,
       "version_minor": 0
      },
      "text/plain": [
       "HBox(children=(FloatProgress(value=0.0, max=21218.0), HTML(value='')))"
      ]
     },
     "metadata": {},
     "output_type": "display_data"
    },
    {
     "name": "stdout",
     "output_type": "stream",
     "text": [
      "\n"
     ]
    },
    {
     "data": {
      "application/vnd.jupyter.widget-view+json": {
       "model_id": "2c885565986d4cc1a03961748961b99c",
       "version_major": 2,
       "version_minor": 0
      },
      "text/plain": [
       "HBox(children=(FloatProgress(value=0.0, max=152655.0), HTML(value='')))"
      ]
     },
     "metadata": {},
     "output_type": "display_data"
    },
    {
     "name": "stdout",
     "output_type": "stream",
     "text": [
      "\n"
     ]
    },
    {
     "data": {
      "application/vnd.jupyter.widget-view+json": {
       "model_id": "49633baa5bbe43ec87ab6f10316ce73b",
       "version_major": 2,
       "version_minor": 0
      },
      "text/plain": [
       "HBox(children=(FloatProgress(value=0.0, max=80839.0), HTML(value='')))"
      ]
     },
     "metadata": {},
     "output_type": "display_data"
    },
    {
     "data": {
      "application/vnd.jupyter.widget-view+json": {
       "model_id": "89698b07ac854e56bebeb6e109749e42",
       "version_major": 2,
       "version_minor": 0
      },
      "text/plain": [
       "HBox(children=(FloatProgress(value=0.0, max=939062.0), HTML(value='')))"
      ]
     },
     "metadata": {},
     "output_type": "display_data"
    },
    {
     "name": "stdout",
     "output_type": "stream",
     "text": [
      "\n",
      "\n",
      "\n",
      "\n"
     ]
    },
    {
     "data": {
      "application/vnd.jupyter.widget-view+json": {
       "model_id": "f6e1dafaf49f4ba282635056373f9a48",
       "version_major": 2,
       "version_minor": 0
      },
      "text/plain": [
       "HBox(children=(FloatProgress(value=0.0, max=346127.0), HTML(value='')))"
      ]
     },
     "metadata": {},
     "output_type": "display_data"
    },
    {
     "data": {
      "application/vnd.jupyter.widget-view+json": {
       "model_id": "d278e1e3819e413aac8243144494e462",
       "version_major": 2,
       "version_minor": 0
      },
      "text/plain": [
       "HBox(children=(FloatProgress(value=0.0, max=375380.0), HTML(value='')))"
      ]
     },
     "metadata": {},
     "output_type": "display_data"
    },
    {
     "data": {
      "application/vnd.jupyter.widget-view+json": {
       "model_id": "43f8106c37984276b5c88102273facbd",
       "version_major": 2,
       "version_minor": 0
      },
      "text/plain": [
       "HBox(children=(FloatProgress(value=0.0, max=353053.0), HTML(value='')))"
      ]
     },
     "metadata": {},
     "output_type": "display_data"
    },
    {
     "name": "stdout",
     "output_type": "stream",
     "text": [
      "\n"
     ]
    },
    {
     "data": {
      "application/vnd.jupyter.widget-view+json": {
       "model_id": "60cb7078a5e74aae8782b44507e3a78f",
       "version_major": 2,
       "version_minor": 0
      },
      "text/plain": [
       "HBox(children=(FloatProgress(value=0.0, max=561055.0), HTML(value='')))"
      ]
     },
     "metadata": {},
     "output_type": "display_data"
    },
    {
     "name": "stdout",
     "output_type": "stream",
     "text": [
      "\n"
     ]
    },
    {
     "data": {
      "application/vnd.jupyter.widget-view+json": {
       "model_id": "c3c2275430454fe59474d4d75e33ab8b",
       "version_major": 2,
       "version_minor": 0
      },
      "text/plain": [
       "HBox(children=(FloatProgress(value=0.0, max=443978.0), HTML(value='')))"
      ]
     },
     "metadata": {},
     "output_type": "display_data"
    },
    {
     "data": {
      "application/vnd.jupyter.widget-view+json": {
       "model_id": "3b1dc004be6b45258602efb377b56383",
       "version_major": 2,
       "version_minor": 0
      },
      "text/plain": [
       "HBox(children=(FloatProgress(value=0.0, max=446030.0), HTML(value='')))"
      ]
     },
     "metadata": {},
     "output_type": "display_data"
    },
    {
     "name": "stdout",
     "output_type": "stream",
     "text": [
      "\n"
     ]
    },
    {
     "data": {
      "application/vnd.jupyter.widget-view+json": {
       "model_id": "edee7b90b29947f1b6fc9baa2836c5bf",
       "version_major": 2,
       "version_minor": 0
      },
      "text/plain": [
       "HBox(children=(FloatProgress(value=0.0, max=109125.0), HTML(value='')))"
      ]
     },
     "metadata": {},
     "output_type": "display_data"
    },
    {
     "name": "stdout",
     "output_type": "stream",
     "text": [
      "\n",
      "\n",
      "\n",
      "\n"
     ]
    },
    {
     "data": {
      "application/vnd.jupyter.widget-view+json": {
       "model_id": "80e423c95ba7474dbb9337edf2a67c46",
       "version_major": 2,
       "version_minor": 0
      },
      "text/plain": [
       "HBox(children=(FloatProgress(value=0.0, max=644371.0), HTML(value='')))"
      ]
     },
     "metadata": {},
     "output_type": "display_data"
    },
    {
     "data": {
      "application/vnd.jupyter.widget-view+json": {
       "model_id": "2ed4f2bcb65d4e5ba993229f22625dec",
       "version_major": 2,
       "version_minor": 0
      },
      "text/plain": [
       "HBox(children=(FloatProgress(value=0.0, max=328126.0), HTML(value='')))"
      ]
     },
     "metadata": {},
     "output_type": "display_data"
    },
    {
     "data": {
      "application/vnd.jupyter.widget-view+json": {
       "model_id": "225bef7e7be84a04861cebb5751bbd7b",
       "version_major": 2,
       "version_minor": 0
      },
      "text/plain": [
       "HBox(children=(FloatProgress(value=0.0, max=1023621.0), HTML(value='')))"
      ]
     },
     "metadata": {},
     "output_type": "display_data"
    },
    {
     "data": {
      "application/vnd.jupyter.widget-view+json": {
       "model_id": "c78e440c22c54f94a19948407a24eb67",
       "version_major": 2,
       "version_minor": 0
      },
      "text/plain": [
       "HBox(children=(FloatProgress(value=0.0, max=776682.0), HTML(value='')))"
      ]
     },
     "metadata": {},
     "output_type": "display_data"
    },
    {
     "name": "stdout",
     "output_type": "stream",
     "text": [
      "\n",
      "\n",
      "\n"
     ]
    },
    {
     "data": {
      "application/vnd.jupyter.widget-view+json": {
       "model_id": "a156e8f34e7f45279cf3b6ea657a8867",
       "version_major": 2,
       "version_minor": 0
      },
      "text/plain": [
       "HBox(children=(FloatProgress(value=0.0, max=95541.0), HTML(value='')))"
      ]
     },
     "metadata": {},
     "output_type": "display_data"
    },
    {
     "name": "stdout",
     "output_type": "stream",
     "text": [
      "\n"
     ]
    },
    {
     "data": {
      "application/vnd.jupyter.widget-view+json": {
       "model_id": "cc46be154a6d4704985cfe7866c048e6",
       "version_major": 2,
       "version_minor": 0
      },
      "text/plain": [
       "HBox(children=(FloatProgress(value=0.0, max=132375.0), HTML(value='')))"
      ]
     },
     "metadata": {},
     "output_type": "display_data"
    },
    {
     "data": {
      "application/vnd.jupyter.widget-view+json": {
       "model_id": "513f8a68d8d3474480d8f94ccf7b070e",
       "version_major": 2,
       "version_minor": 0
      },
      "text/plain": [
       "HBox(children=(FloatProgress(value=0.0, max=145737.0), HTML(value='')))"
      ]
     },
     "metadata": {},
     "output_type": "display_data"
    },
    {
     "data": {
      "application/vnd.jupyter.widget-view+json": {
       "model_id": "2ebdfb7f0a7c498eae08386b0e07b270",
       "version_major": 2,
       "version_minor": 0
      },
      "text/plain": [
       "HBox(children=(FloatProgress(value=0.0, max=649177.0), HTML(value='')))"
      ]
     },
     "metadata": {},
     "output_type": "display_data"
    },
    {
     "name": "stdout",
     "output_type": "stream",
     "text": [
      "\n"
     ]
    },
    {
     "data": {
      "application/vnd.jupyter.widget-view+json": {
       "model_id": "a3aa6230e8994109acffda3920681c17",
       "version_major": 2,
       "version_minor": 0
      },
      "text/plain": [
       "HBox(children=(FloatProgress(value=0.0, max=167659.0), HTML(value='')))"
      ]
     },
     "metadata": {},
     "output_type": "display_data"
    },
    {
     "name": "stdout",
     "output_type": "stream",
     "text": [
      "\n",
      "\n"
     ]
    },
    {
     "data": {
      "application/vnd.jupyter.widget-view+json": {
       "model_id": "1c44ca2c42ec4c509d5637e2368798f9",
       "version_major": 2,
       "version_minor": 0
      },
      "text/plain": [
       "HBox(children=(FloatProgress(value=0.0, max=121698.0), HTML(value='')))"
      ]
     },
     "metadata": {},
     "output_type": "display_data"
    },
    {
     "data": {
      "application/vnd.jupyter.widget-view+json": {
       "model_id": "f46efeaa81074b4a900fd8ee90714c68",
       "version_major": 2,
       "version_minor": 0
      },
      "text/plain": [
       "HBox(children=(FloatProgress(value=0.0, max=176587.0), HTML(value='')))"
      ]
     },
     "metadata": {},
     "output_type": "display_data"
    },
    {
     "name": "stdout",
     "output_type": "stream",
     "text": [
      "\n",
      "\n",
      "\n",
      "\n"
     ]
    },
    {
     "data": {
      "application/vnd.jupyter.widget-view+json": {
       "model_id": "65affe8febd04a42bbad5c1c65c64a6c",
       "version_major": 2,
       "version_minor": 0
      },
      "text/plain": [
       "HBox(children=(FloatProgress(value=0.0, max=203879.0), HTML(value='')))"
      ]
     },
     "metadata": {},
     "output_type": "display_data"
    },
    {
     "data": {
      "application/vnd.jupyter.widget-view+json": {
       "model_id": "b5171aa79dc84477a57d480597273740",
       "version_major": 2,
       "version_minor": 0
      },
      "text/plain": [
       "HBox(children=(FloatProgress(value=0.0, max=216735.0), HTML(value='')))"
      ]
     },
     "metadata": {},
     "output_type": "display_data"
    },
    {
     "data": {
      "application/vnd.jupyter.widget-view+json": {
       "model_id": "c9a8881bf7f5490586e3a1e7f1694e20",
       "version_major": 2,
       "version_minor": 0
      },
      "text/plain": [
       "HBox(children=(FloatProgress(value=0.0, max=475283.0), HTML(value='')))"
      ]
     },
     "metadata": {},
     "output_type": "display_data"
    },
    {
     "name": "stdout",
     "output_type": "stream",
     "text": [
      "\n"
     ]
    },
    {
     "data": {
      "application/vnd.jupyter.widget-view+json": {
       "model_id": "0e8decaa02394a1d97ab515a0be9a2e1",
       "version_major": 2,
       "version_minor": 0
      },
      "text/plain": [
       "HBox(children=(FloatProgress(value=0.0, max=982021.0), HTML(value='')))"
      ]
     },
     "metadata": {},
     "output_type": "display_data"
    },
    {
     "data": {
      "application/vnd.jupyter.widget-view+json": {
       "model_id": "e2a1795900964b878bde73ee77c2aaed",
       "version_major": 2,
       "version_minor": 0
      },
      "text/plain": [
       "HBox(children=(FloatProgress(value=0.0, max=228518.0), HTML(value='')))"
      ]
     },
     "metadata": {},
     "output_type": "display_data"
    },
    {
     "name": "stdout",
     "output_type": "stream",
     "text": [
      "\n",
      "\n",
      "\n"
     ]
    },
    {
     "data": {
      "application/vnd.jupyter.widget-view+json": {
       "model_id": "7991f4e0a86645139549752c008b8998",
       "version_major": 2,
       "version_minor": 0
      },
      "text/plain": [
       "HBox(children=(FloatProgress(value=0.0, max=250063.0), HTML(value='')))"
      ]
     },
     "metadata": {},
     "output_type": "display_data"
    },
    {
     "data": {
      "application/vnd.jupyter.widget-view+json": {
       "model_id": "afc68a9bdf8f4e718dab743204a9f9ab",
       "version_major": 2,
       "version_minor": 0
      },
      "text/plain": [
       "HBox(children=(FloatProgress(value=0.0, max=386289.0), HTML(value='')))"
      ]
     },
     "metadata": {},
     "output_type": "display_data"
    },
    {
     "name": "stdout",
     "output_type": "stream",
     "text": [
      "\n"
     ]
    },
    {
     "data": {
      "application/vnd.jupyter.widget-view+json": {
       "model_id": "e501935d746b423cb0c56d3ebdc3e4e5",
       "version_major": 2,
       "version_minor": 0
      },
      "text/plain": [
       "HBox(children=(FloatProgress(value=0.0, max=213692.0), HTML(value='')))"
      ]
     },
     "metadata": {},
     "output_type": "display_data"
    },
    {
     "data": {
      "application/vnd.jupyter.widget-view+json": {
       "model_id": "7f1a0f4f08434b058c517006564f347b",
       "version_major": 2,
       "version_minor": 0
      },
      "text/plain": [
       "HBox(children=(FloatProgress(value=0.0, max=517359.0), HTML(value='')))"
      ]
     },
     "metadata": {},
     "output_type": "display_data"
    },
    {
     "name": "stdout",
     "output_type": "stream",
     "text": [
      "\n"
     ]
    },
    {
     "data": {
      "application/vnd.jupyter.widget-view+json": {
       "model_id": "3a10626a906441abb7305b76dd6c39cd",
       "version_major": 2,
       "version_minor": 0
      },
      "text/plain": [
       "HBox(children=(FloatProgress(value=0.0, max=36247.0), HTML(value='')))"
      ]
     },
     "metadata": {},
     "output_type": "display_data"
    },
    {
     "name": "stdout",
     "output_type": "stream",
     "text": [
      "\n",
      "\n",
      "\n"
     ]
    },
    {
     "data": {
      "application/vnd.jupyter.widget-view+json": {
       "model_id": "5934ce8fc51b4cb18485c493d9085079",
       "version_major": 2,
       "version_minor": 0
      },
      "text/plain": [
       "HBox(children=(FloatProgress(value=0.0, max=82138.0), HTML(value='')))"
      ]
     },
     "metadata": {},
     "output_type": "display_data"
    },
    {
     "name": "stdout",
     "output_type": "stream",
     "text": [
      "\n"
     ]
    },
    {
     "data": {
      "application/vnd.jupyter.widget-view+json": {
       "model_id": "62fd16b392ac47c7be9ba0d74201ba1a",
       "version_major": 2,
       "version_minor": 0
      },
      "text/plain": [
       "HBox(children=(FloatProgress(value=0.0, max=51911.0), HTML(value='')))"
      ]
     },
     "metadata": {},
     "output_type": "display_data"
    },
    {
     "name": "stdout",
     "output_type": "stream",
     "text": [
      "\n"
     ]
    },
    {
     "data": {
      "application/vnd.jupyter.widget-view+json": {
       "model_id": "016e609f320549409a7e29647d5867c6",
       "version_major": 2,
       "version_minor": 0
      },
      "text/plain": [
       "HBox(children=(FloatProgress(value=0.0, max=277081.0), HTML(value='')))"
      ]
     },
     "metadata": {},
     "output_type": "display_data"
    },
    {
     "data": {
      "application/vnd.jupyter.widget-view+json": {
       "model_id": "fcf9076b58354ab2aff5e56de96c0a64",
       "version_major": 2,
       "version_minor": 0
      },
      "text/plain": [
       "HBox(children=(FloatProgress(value=0.0, max=309311.0), HTML(value='')))"
      ]
     },
     "metadata": {},
     "output_type": "display_data"
    },
    {
     "name": "stdout",
     "output_type": "stream",
     "text": [
      "\n"
     ]
    },
    {
     "data": {
      "application/vnd.jupyter.widget-view+json": {
       "model_id": "c2177d99099144989a61b2b8b0ce2c76",
       "version_major": 2,
       "version_minor": 0
      },
      "text/plain": [
       "HBox(children=(FloatProgress(value=0.0, max=24106.0), HTML(value='')))"
      ]
     },
     "metadata": {},
     "output_type": "display_data"
    },
    {
     "name": "stdout",
     "output_type": "stream",
     "text": [
      "\n"
     ]
    },
    {
     "data": {
      "application/vnd.jupyter.widget-view+json": {
       "model_id": "8bb03321680543dfaf632c26c9d99d3c",
       "version_major": 2,
       "version_minor": 0
      },
      "text/plain": [
       "HBox(children=(FloatProgress(value=0.0, max=24676.0), HTML(value='')))"
      ]
     },
     "metadata": {},
     "output_type": "display_data"
    },
    {
     "name": "stdout",
     "output_type": "stream",
     "text": [
      "\n",
      "\n"
     ]
    },
    {
     "data": {
      "application/vnd.jupyter.widget-view+json": {
       "model_id": "675f7980e3774372862444914011df98",
       "version_major": 2,
       "version_minor": 0
      },
      "text/plain": [
       "HBox(children=(FloatProgress(value=0.0, max=48447.0), HTML(value='')))"
      ]
     },
     "metadata": {},
     "output_type": "display_data"
    },
    {
     "name": "stdout",
     "output_type": "stream",
     "text": [
      "\n"
     ]
    },
    {
     "data": {
      "application/vnd.jupyter.widget-view+json": {
       "model_id": "642dba0ad2e647e0888d251075684386",
       "version_major": 2,
       "version_minor": 0
      },
      "text/plain": [
       "HBox(children=(FloatProgress(value=0.0, max=260357.0), HTML(value='')))"
      ]
     },
     "metadata": {},
     "output_type": "display_data"
    },
    {
     "data": {
      "application/vnd.jupyter.widget-view+json": {
       "model_id": "b04acadf58cc4f73b78b359dc5e7f54f",
       "version_major": 2,
       "version_minor": 0
      },
      "text/plain": [
       "HBox(children=(FloatProgress(value=0.0, max=97669.0), HTML(value='')))"
      ]
     },
     "metadata": {},
     "output_type": "display_data"
    },
    {
     "name": "stdout",
     "output_type": "stream",
     "text": [
      "\n"
     ]
    },
    {
     "data": {
      "application/vnd.jupyter.widget-view+json": {
       "model_id": "de08772f32e145088c09bf966935a5dc",
       "version_major": 2,
       "version_minor": 0
      },
      "text/plain": [
       "HBox(children=(FloatProgress(value=0.0, max=60014.0), HTML(value='')))"
      ]
     },
     "metadata": {},
     "output_type": "display_data"
    },
    {
     "name": "stdout",
     "output_type": "stream",
     "text": [
      "\n"
     ]
    },
    {
     "data": {
      "application/vnd.jupyter.widget-view+json": {
       "model_id": "c23955043bfc4a6b9475c73f7b2337d5",
       "version_major": 2,
       "version_minor": 0
      },
      "text/plain": [
       "HBox(children=(FloatProgress(value=0.0, max=726221.0), HTML(value='')))"
      ]
     },
     "metadata": {},
     "output_type": "display_data"
    },
    {
     "name": "stdout",
     "output_type": "stream",
     "text": [
      "\n",
      "\n"
     ]
    },
    {
     "data": {
      "application/vnd.jupyter.widget-view+json": {
       "model_id": "fba15c5d1c384d669acc9938ae5b386e",
       "version_major": 2,
       "version_minor": 0
      },
      "text/plain": [
       "HBox(children=(FloatProgress(value=0.0, max=200139.0), HTML(value='')))"
      ]
     },
     "metadata": {},
     "output_type": "display_data"
    },
    {
     "data": {
      "application/vnd.jupyter.widget-view+json": {
       "model_id": "f76f727fc996402b9ec805601f4bb35c",
       "version_major": 2,
       "version_minor": 0
      },
      "text/plain": [
       "HBox(children=(FloatProgress(value=0.0, max=47439.0), HTML(value='')))"
      ]
     },
     "metadata": {},
     "output_type": "display_data"
    },
    {
     "data": {
      "application/vnd.jupyter.widget-view+json": {
       "model_id": "4d79c3236e8b4553acd78bcdfe39654c",
       "version_major": 2,
       "version_minor": 0
      },
      "text/plain": [
       "HBox(children=(FloatProgress(value=0.0, max=193904.0), HTML(value='')))"
      ]
     },
     "metadata": {},
     "output_type": "display_data"
    },
    {
     "name": "stdout",
     "output_type": "stream",
     "text": [
      "\n",
      "\n",
      "\n"
     ]
    },
    {
     "data": {
      "application/vnd.jupyter.widget-view+json": {
       "model_id": "3cbb60d46c7547ed861082db1f89b809",
       "version_major": 2,
       "version_minor": 0
      },
      "text/plain": [
       "HBox(children=(FloatProgress(value=0.0, max=71081.0), HTML(value='')))"
      ]
     },
     "metadata": {},
     "output_type": "display_data"
    },
    {
     "data": {
      "application/vnd.jupyter.widget-view+json": {
       "model_id": "71e8d246026a4dc591e275fe8ac77e69",
       "version_major": 2,
       "version_minor": 0
      },
      "text/plain": [
       "HBox(children=(FloatProgress(value=0.0, max=46451.0), HTML(value='')))"
      ]
     },
     "metadata": {},
     "output_type": "display_data"
    },
    {
     "data": {
      "application/vnd.jupyter.widget-view+json": {
       "model_id": "a0985288a43b4c4c9d6c4c579999caf1",
       "version_major": 2,
       "version_minor": 0
      },
      "text/plain": [
       "HBox(children=(FloatProgress(value=0.0, max=174894.0), HTML(value='')))"
      ]
     },
     "metadata": {},
     "output_type": "display_data"
    },
    {
     "name": "stdout",
     "output_type": "stream",
     "text": [
      "\n"
     ]
    },
    {
     "data": {
      "application/vnd.jupyter.widget-view+json": {
       "model_id": "8121624e83084ab3952e08041b92e86f",
       "version_major": 2,
       "version_minor": 0
      },
      "text/plain": [
       "HBox(children=(FloatProgress(value=0.0, max=211916.0), HTML(value='')))"
      ]
     },
     "metadata": {},
     "output_type": "display_data"
    },
    {
     "name": "stdout",
     "output_type": "stream",
     "text": [
      "\n",
      "\n",
      "\n"
     ]
    },
    {
     "data": {
      "application/vnd.jupyter.widget-view+json": {
       "model_id": "616ba2e72b97441c80abb64c03b63b67",
       "version_major": 2,
       "version_minor": 0
      },
      "text/plain": [
       "HBox(children=(FloatProgress(value=0.0, max=182087.0), HTML(value='')))"
      ]
     },
     "metadata": {},
     "output_type": "display_data"
    },
    {
     "data": {
      "application/vnd.jupyter.widget-view+json": {
       "model_id": "3609efe72baa4e3d9b37513e19350053",
       "version_major": 2,
       "version_minor": 0
      },
      "text/plain": [
       "HBox(children=(FloatProgress(value=0.0, max=100816.0), HTML(value='')))"
      ]
     },
     "metadata": {},
     "output_type": "display_data"
    },
    {
     "name": "stdout",
     "output_type": "stream",
     "text": [
      "\n"
     ]
    },
    {
     "data": {
      "application/vnd.jupyter.widget-view+json": {
       "model_id": "2cfc1683b3a24f25a5d5669e7a5c88f8",
       "version_major": 2,
       "version_minor": 0
      },
      "text/plain": [
       "HBox(children=(FloatProgress(value=0.0, max=123996.0), HTML(value='')))"
      ]
     },
     "metadata": {},
     "output_type": "display_data"
    },
    {
     "name": "stdout",
     "output_type": "stream",
     "text": [
      "\n"
     ]
    },
    {
     "data": {
      "application/vnd.jupyter.widget-view+json": {
       "model_id": "d991fc521ecd432eae07f8ba31d1e463",
       "version_major": 2,
       "version_minor": 0
      },
      "text/plain": [
       "HBox(children=(FloatProgress(value=0.0, max=255115.0), HTML(value='')))"
      ]
     },
     "metadata": {},
     "output_type": "display_data"
    },
    {
     "data": {
      "application/vnd.jupyter.widget-view+json": {
       "model_id": "7f12200298f748b3a4fa947f8d077572",
       "version_major": 2,
       "version_minor": 0
      },
      "text/plain": [
       "HBox(children=(FloatProgress(value=0.0, max=51529.0), HTML(value='')))"
      ]
     },
     "metadata": {},
     "output_type": "display_data"
    },
    {
     "name": "stdout",
     "output_type": "stream",
     "text": [
      "\n"
     ]
    },
    {
     "data": {
      "application/vnd.jupyter.widget-view+json": {
       "model_id": "bec0107a49e5422c904f4849429c404c",
       "version_major": 2,
       "version_minor": 0
      },
      "text/plain": [
       "HBox(children=(FloatProgress(value=0.0, max=11931.0), HTML(value='')))"
      ]
     },
     "metadata": {},
     "output_type": "display_data"
    },
    {
     "name": "stdout",
     "output_type": "stream",
     "text": [
      "\n"
     ]
    },
    {
     "data": {
      "application/vnd.jupyter.widget-view+json": {
       "model_id": "56e52e08746942eb8e484e1eeac2cc04",
       "version_major": 2,
       "version_minor": 0
      },
      "text/plain": [
       "HBox(children=(FloatProgress(value=0.0, max=29781.0), HTML(value='')))"
      ]
     },
     "metadata": {},
     "output_type": "display_data"
    },
    {
     "name": "stdout",
     "output_type": "stream",
     "text": [
      "\n"
     ]
    },
    {
     "data": {
      "application/vnd.jupyter.widget-view+json": {
       "model_id": "1439b1e1277d42c99ee06b982b99acb4",
       "version_major": 2,
       "version_minor": 0
      },
      "text/plain": [
       "HBox(children=(FloatProgress(value=0.0, max=79742.0), HTML(value='')))"
      ]
     },
     "metadata": {},
     "output_type": "display_data"
    },
    {
     "name": "stdout",
     "output_type": "stream",
     "text": [
      "\n"
     ]
    },
    {
     "data": {
      "application/vnd.jupyter.widget-view+json": {
       "model_id": "6d33066cbeea4e398c60dba3073c539d",
       "version_major": 2,
       "version_minor": 0
      },
      "text/plain": [
       "HBox(children=(FloatProgress(value=0.0, max=93094.0), HTML(value='')))"
      ]
     },
     "metadata": {},
     "output_type": "display_data"
    },
    {
     "name": "stdout",
     "output_type": "stream",
     "text": [
      "\n",
      "\n",
      "\n"
     ]
    },
    {
     "data": {
      "application/vnd.jupyter.widget-view+json": {
       "model_id": "c36d590b591440c8b2d9b3a5776ae48d",
       "version_major": 2,
       "version_minor": 0
      },
      "text/plain": [
       "HBox(children=(FloatProgress(value=0.0, max=32228.0), HTML(value='')))"
      ]
     },
     "metadata": {},
     "output_type": "display_data"
    },
    {
     "data": {
      "application/vnd.jupyter.widget-view+json": {
       "model_id": "01e76d6811ea494c91cd873f2c9865ed",
       "version_major": 2,
       "version_minor": 0
      },
      "text/plain": [
       "HBox(children=(FloatProgress(value=0.0, max=111018.0), HTML(value='')))"
      ]
     },
     "metadata": {},
     "output_type": "display_data"
    },
    {
     "name": "stdout",
     "output_type": "stream",
     "text": [
      "\n"
     ]
    },
    {
     "data": {
      "application/vnd.jupyter.widget-view+json": {
       "model_id": "e0067629a27e4c35954900ab4ed410ff",
       "version_major": 2,
       "version_minor": 0
      },
      "text/plain": [
       "HBox(children=(FloatProgress(value=0.0, max=94972.0), HTML(value='')))"
      ]
     },
     "metadata": {},
     "output_type": "display_data"
    },
    {
     "name": "stdout",
     "output_type": "stream",
     "text": [
      "\n"
     ]
    },
    {
     "data": {
      "application/vnd.jupyter.widget-view+json": {
       "model_id": "6b236cf08935411faf4856ab2955282b",
       "version_major": 2,
       "version_minor": 0
      },
      "text/plain": [
       "HBox(children=(FloatProgress(value=0.0, max=74215.0), HTML(value='')))"
      ]
     },
     "metadata": {},
     "output_type": "display_data"
    },
    {
     "name": "stdout",
     "output_type": "stream",
     "text": [
      "\n"
     ]
    },
    {
     "data": {
      "application/vnd.jupyter.widget-view+json": {
       "model_id": "42fadd318ad243ffa57ac790b0d1b407",
       "version_major": 2,
       "version_minor": 0
      },
      "text/plain": [
       "HBox(children=(FloatProgress(value=0.0, max=348455.0), HTML(value='')))"
      ]
     },
     "metadata": {},
     "output_type": "display_data"
    },
    {
     "name": "stdout",
     "output_type": "stream",
     "text": [
      "\n"
     ]
    },
    {
     "data": {
      "application/vnd.jupyter.widget-view+json": {
       "model_id": "ce3a676f3411412da2660149fe586792",
       "version_major": 2,
       "version_minor": 0
      },
      "text/plain": [
       "HBox(children=(FloatProgress(value=0.0, max=316697.0), HTML(value='')))"
      ]
     },
     "metadata": {},
     "output_type": "display_data"
    },
    {
     "data": {
      "application/vnd.jupyter.widget-view+json": {
       "model_id": "a68bd947ea5b4e5e97a24650a97fd272",
       "version_major": 2,
       "version_minor": 0
      },
      "text/plain": [
       "HBox(children=(FloatProgress(value=0.0, max=42803.0), HTML(value='')))"
      ]
     },
     "metadata": {},
     "output_type": "display_data"
    },
    {
     "name": "stdout",
     "output_type": "stream",
     "text": [
      "\n",
      "\n"
     ]
    },
    {
     "data": {
      "application/vnd.jupyter.widget-view+json": {
       "model_id": "519fefa9fe6c46e19448fd357e62c4f8",
       "version_major": 2,
       "version_minor": 0
      },
      "text/plain": [
       "HBox(children=(FloatProgress(value=0.0, max=74937.0), HTML(value='')))"
      ]
     },
     "metadata": {},
     "output_type": "display_data"
    },
    {
     "data": {
      "application/vnd.jupyter.widget-view+json": {
       "model_id": "42dcf04531bd42bd8f1c6df6bb7d61b8",
       "version_major": 2,
       "version_minor": 0
      },
      "text/plain": [
       "HBox(children=(FloatProgress(value=0.0, max=250715.0), HTML(value='')))"
      ]
     },
     "metadata": {},
     "output_type": "display_data"
    },
    {
     "name": "stdout",
     "output_type": "stream",
     "text": [
      "\n",
      "\n"
     ]
    },
    {
     "data": {
      "application/vnd.jupyter.widget-view+json": {
       "model_id": "4c295686bdaa4aad8669ed49658ad596",
       "version_major": 2,
       "version_minor": 0
      },
      "text/plain": [
       "HBox(children=(FloatProgress(value=0.0, max=126158.0), HTML(value='')))"
      ]
     },
     "metadata": {},
     "output_type": "display_data"
    },
    {
     "name": "stdout",
     "output_type": "stream",
     "text": [
      "\n"
     ]
    },
    {
     "data": {
      "application/vnd.jupyter.widget-view+json": {
       "model_id": "2f9ac6eb60c340af90fa9748375a51b3",
       "version_major": 2,
       "version_minor": 0
      },
      "text/plain": [
       "HBox(children=(FloatProgress(value=0.0, max=246270.0), HTML(value='')))"
      ]
     },
     "metadata": {},
     "output_type": "display_data"
    },
    {
     "name": "stdout",
     "output_type": "stream",
     "text": [
      "\n",
      "\n"
     ]
    },
    {
     "data": {
      "application/vnd.jupyter.widget-view+json": {
       "model_id": "ff485c3e86fd45bab836f981ad6a0d57",
       "version_major": 2,
       "version_minor": 0
      },
      "text/plain": [
       "HBox(children=(FloatProgress(value=0.0, max=408630.0), HTML(value='')))"
      ]
     },
     "metadata": {},
     "output_type": "display_data"
    },
    {
     "data": {
      "application/vnd.jupyter.widget-view+json": {
       "model_id": "3417c62c77854967bda41979925ec0e3",
       "version_major": 2,
       "version_minor": 0
      },
      "text/plain": [
       "HBox(children=(FloatProgress(value=0.0, max=157799.0), HTML(value='')))"
      ]
     },
     "metadata": {},
     "output_type": "display_data"
    },
    {
     "data": {
      "application/vnd.jupyter.widget-view+json": {
       "model_id": "f10a31a4f62641f49d5cc16655f69823",
       "version_major": 2,
       "version_minor": 0
      },
      "text/plain": [
       "HBox(children=(FloatProgress(value=0.0, max=156883.0), HTML(value='')))"
      ]
     },
     "metadata": {},
     "output_type": "display_data"
    },
    {
     "name": "stdout",
     "output_type": "stream",
     "text": [
      "\n"
     ]
    },
    {
     "data": {
      "application/vnd.jupyter.widget-view+json": {
       "model_id": "a080b564390d427ea35077291c525972",
       "version_major": 2,
       "version_minor": 0
      },
      "text/plain": [
       "HBox(children=(FloatProgress(value=0.0, max=73600.0), HTML(value='')))"
      ]
     },
     "metadata": {},
     "output_type": "display_data"
    },
    {
     "name": "stdout",
     "output_type": "stream",
     "text": [
      "\n",
      "\n",
      "\n"
     ]
    },
    {
     "data": {
      "application/vnd.jupyter.widget-view+json": {
       "model_id": "cb5900e5ce5948aa8c859dfdce0d5751",
       "version_major": 2,
       "version_minor": 0
      },
      "text/plain": [
       "HBox(children=(FloatProgress(value=0.0, max=117969.0), HTML(value='')))"
      ]
     },
     "metadata": {},
     "output_type": "display_data"
    },
    {
     "data": {
      "application/vnd.jupyter.widget-view+json": {
       "model_id": "3e2bfdda62984a6c99859edc575b07c5",
       "version_major": 2,
       "version_minor": 0
      },
      "text/plain": [
       "HBox(children=(FloatProgress(value=0.0, max=162089.0), HTML(value='')))"
      ]
     },
     "metadata": {},
     "output_type": "display_data"
    },
    {
     "name": "stdout",
     "output_type": "stream",
     "text": [
      "\n",
      "\n"
     ]
    },
    {
     "data": {
      "application/vnd.jupyter.widget-view+json": {
       "model_id": "a3c1dc7027164f1bb65dcc10d0bc0e72",
       "version_major": 2,
       "version_minor": 0
      },
      "text/plain": [
       "HBox(children=(FloatProgress(value=0.0, max=453963.0), HTML(value='')))"
      ]
     },
     "metadata": {},
     "output_type": "display_data"
    },
    {
     "data": {
      "application/vnd.jupyter.widget-view+json": {
       "model_id": "b472d1ebaefe40f6a341187c6b6062eb",
       "version_major": 2,
       "version_minor": 0
      },
      "text/plain": [
       "HBox(children=(FloatProgress(value=0.0, max=227297.0), HTML(value='')))"
      ]
     },
     "metadata": {},
     "output_type": "display_data"
    },
    {
     "name": "stdout",
     "output_type": "stream",
     "text": [
      "\n"
     ]
    },
    {
     "data": {
      "application/vnd.jupyter.widget-view+json": {
       "model_id": "0aac88f13c7b4782855ca25db56b3fd2",
       "version_major": 2,
       "version_minor": 0
      },
      "text/plain": [
       "HBox(children=(FloatProgress(value=0.0, max=356681.0), HTML(value='')))"
      ]
     },
     "metadata": {},
     "output_type": "display_data"
    },
    {
     "data": {
      "application/vnd.jupyter.widget-view+json": {
       "model_id": "2ed5c4e4f38c45318f01b5d57eca46d3",
       "version_major": 2,
       "version_minor": 0
      },
      "text/plain": [
       "HBox(children=(FloatProgress(value=0.0, max=59694.0), HTML(value='')))"
      ]
     },
     "metadata": {},
     "output_type": "display_data"
    },
    {
     "name": "stdout",
     "output_type": "stream",
     "text": [
      "\n",
      "\n",
      "\n"
     ]
    },
    {
     "data": {
      "application/vnd.jupyter.widget-view+json": {
       "model_id": "3af5cd1714b040c180d3d323f3683780",
       "version_major": 2,
       "version_minor": 0
      },
      "text/plain": [
       "HBox(children=(FloatProgress(value=0.0, max=70061.0), HTML(value='')))"
      ]
     },
     "metadata": {},
     "output_type": "display_data"
    },
    {
     "data": {
      "application/vnd.jupyter.widget-view+json": {
       "model_id": "34b1999e04f345cf970dd6b35a7c083b",
       "version_major": 2,
       "version_minor": 0
      },
      "text/plain": [
       "HBox(children=(FloatProgress(value=0.0, max=232151.0), HTML(value='')))"
      ]
     },
     "metadata": {},
     "output_type": "display_data"
    },
    {
     "data": {
      "application/vnd.jupyter.widget-view+json": {
       "model_id": "067453b089ed40ee947515eb63284665",
       "version_major": 2,
       "version_minor": 0
      },
      "text/plain": [
       "HBox(children=(FloatProgress(value=0.0, max=245326.0), HTML(value='')))"
      ]
     },
     "metadata": {},
     "output_type": "display_data"
    },
    {
     "name": "stdout",
     "output_type": "stream",
     "text": [
      "\n",
      "\n",
      "\n",
      "\n",
      "\n"
     ]
    },
    {
     "data": {
      "application/vnd.jupyter.widget-view+json": {
       "model_id": "d7bed3e2924e485ebb3c45f42cce42b5",
       "version_major": 2,
       "version_minor": 0
      },
      "text/plain": [
       "HBox(children=(FloatProgress(value=0.0, max=313365.0), HTML(value='')))"
      ]
     },
     "metadata": {},
     "output_type": "display_data"
    },
    {
     "data": {
      "application/vnd.jupyter.widget-view+json": {
       "model_id": "f3bf59e4dbee432a8b7982b273999129",
       "version_major": 2,
       "version_minor": 0
      },
      "text/plain": [
       "HBox(children=(FloatProgress(value=0.0, max=135116.0), HTML(value='')))"
      ]
     },
     "metadata": {},
     "output_type": "display_data"
    },
    {
     "data": {
      "application/vnd.jupyter.widget-view+json": {
       "model_id": "029fd002e08f44b3813a328ac2a25663",
       "version_major": 2,
       "version_minor": 0
      },
      "text/plain": [
       "HBox(children=(FloatProgress(value=0.0, max=171827.0), HTML(value='')))"
      ]
     },
     "metadata": {},
     "output_type": "display_data"
    },
    {
     "name": "stdout",
     "output_type": "stream",
     "text": [
      "\n"
     ]
    },
    {
     "data": {
      "application/vnd.jupyter.widget-view+json": {
       "model_id": "bdc8b7778cd1448d86f66a0f787fe7c6",
       "version_major": 2,
       "version_minor": 0
      },
      "text/plain": [
       "HBox(children=(FloatProgress(value=1.0, bar_style='info', max=1.0), HTML(value='')))"
      ]
     },
     "metadata": {},
     "output_type": "display_data"
    },
    {
     "name": "stdout",
     "output_type": "stream",
     "text": [
      "\n"
     ]
    },
    {
     "data": {
      "application/vnd.jupyter.widget-view+json": {
       "model_id": "4089a50e1e164db3a47818653f072f5a",
       "version_major": 2,
       "version_minor": 0
      },
      "text/plain": [
       "HBox(children=(FloatProgress(value=1.0, bar_style='info', max=1.0), HTML(value='')))"
      ]
     },
     "metadata": {},
     "output_type": "display_data"
    },
    {
     "name": "stdout",
     "output_type": "stream",
     "text": [
      "\n"
     ]
    },
    {
     "data": {
      "application/vnd.jupyter.widget-view+json": {
       "model_id": "f5cd14a3b1134b77b78c0fe2f4caee0f",
       "version_major": 2,
       "version_minor": 0
      },
      "text/plain": [
       "HBox(children=(FloatProgress(value=1.0, bar_style='info', max=1.0), HTML(value='')))"
      ]
     },
     "metadata": {},
     "output_type": "display_data"
    },
    {
     "name": "stdout",
     "output_type": "stream",
     "text": [
      "\n"
     ]
    },
    {
     "data": {
      "application/vnd.jupyter.widget-view+json": {
       "model_id": "5455da44bf944b948c84a8f48b19ddee",
       "version_major": 2,
       "version_minor": 0
      },
      "text/plain": [
       "HBox(children=(FloatProgress(value=1.0, bar_style='info', max=1.0), HTML(value='')))"
      ]
     },
     "metadata": {},
     "output_type": "display_data"
    },
    {
     "name": "stdout",
     "output_type": "stream",
     "text": [
      "\n"
     ]
    },
    {
     "data": {
      "application/vnd.jupyter.widget-view+json": {
       "model_id": "25a2fb867028408aa3bc9f0d224b4896",
       "version_major": 2,
       "version_minor": 0
      },
      "text/plain": [
       "HBox(children=(FloatProgress(value=1.0, bar_style='info', max=1.0), HTML(value='')))"
      ]
     },
     "metadata": {},
     "output_type": "display_data"
    },
    {
     "name": "stdout",
     "output_type": "stream",
     "text": [
      "\n"
     ]
    },
    {
     "data": {
      "application/vnd.jupyter.widget-view+json": {
       "model_id": "9217db5aef7744a1b386bfe2b8e6861d",
       "version_major": 2,
       "version_minor": 0
      },
      "text/plain": [
       "HBox(children=(FloatProgress(value=1.0, bar_style='info', max=1.0), HTML(value='')))"
      ]
     },
     "metadata": {},
     "output_type": "display_data"
    },
    {
     "name": "stdout",
     "output_type": "stream",
     "text": [
      "\n"
     ]
    },
    {
     "data": {
      "application/vnd.jupyter.widget-view+json": {
       "model_id": "a7a1aec3fd334e44b5274258e8dd8867",
       "version_major": 2,
       "version_minor": 0
      },
      "text/plain": [
       "HBox(children=(FloatProgress(value=0.0, max=77.0), HTML(value='')))"
      ]
     },
     "metadata": {},
     "output_type": "display_data"
    },
    {
     "name": "stdout",
     "output_type": "stream",
     "text": [
      "\n"
     ]
    },
    {
     "data": {
      "application/vnd.jupyter.widget-view+json": {
       "model_id": "99a79421b5314ec4a5b2ed9617333fbc",
       "version_major": 2,
       "version_minor": 0
      },
      "text/plain": [
       "HBox(children=(FloatProgress(value=0.0, max=98.0), HTML(value='')))"
      ]
     },
     "metadata": {},
     "output_type": "display_data"
    },
    {
     "name": "stdout",
     "output_type": "stream",
     "text": [
      "\n"
     ]
    },
    {
     "data": {
      "application/vnd.jupyter.widget-view+json": {
       "model_id": "f187d9d6cc83418297d5ac30f6a88262",
       "version_major": 2,
       "version_minor": 0
      },
      "text/plain": [
       "HBox(children=(FloatProgress(value=0.0, max=377654.0), HTML(value='')))"
      ]
     },
     "metadata": {},
     "output_type": "display_data"
    },
    {
     "data": {
      "application/vnd.jupyter.widget-view+json": {
       "model_id": "cafd6657dc8542009f7d9c3047097a22",
       "version_major": 2,
       "version_minor": 0
      },
      "text/plain": [
       "HBox(children=(FloatProgress(value=0.0, max=174314.0), HTML(value='')))"
      ]
     },
     "metadata": {},
     "output_type": "display_data"
    },
    {
     "name": "stdout",
     "output_type": "stream",
     "text": [
      "\n"
     ]
    },
    {
     "data": {
      "application/vnd.jupyter.widget-view+json": {
       "model_id": "85623bd7095a4d5c855ad4cb8a9a6eb4",
       "version_major": 2,
       "version_minor": 0
      },
      "text/plain": [
       "HBox(children=(FloatProgress(value=0.0, max=805599.0), HTML(value='')))"
      ]
     },
     "metadata": {},
     "output_type": "display_data"
    },
    {
     "name": "stdout",
     "output_type": "stream",
     "text": [
      "\n",
      "\n"
     ]
    },
    {
     "data": {
      "application/vnd.jupyter.widget-view+json": {
       "model_id": "2185e06ecef84e988db54a72fe88a169",
       "version_major": 2,
       "version_minor": 0
      },
      "text/plain": [
       "HBox(children=(FloatProgress(value=0.0, max=212766.0), HTML(value='')))"
      ]
     },
     "metadata": {},
     "output_type": "display_data"
    },
    {
     "name": "stdout",
     "output_type": "stream",
     "text": [
      "\n"
     ]
    },
    {
     "data": {
      "application/vnd.jupyter.widget-view+json": {
       "model_id": "61e53292dd074538ae9c6b5275db36b2",
       "version_major": 2,
       "version_minor": 0
      },
      "text/plain": [
       "HBox(children=(FloatProgress(value=0.0, max=161579.0), HTML(value='')))"
      ]
     },
     "metadata": {},
     "output_type": "display_data"
    },
    {
     "data": {
      "application/vnd.jupyter.widget-view+json": {
       "model_id": "6bc982d0061b4357be014f405de5ca8d",
       "version_major": 2,
       "version_minor": 0
      },
      "text/plain": [
       "HBox(children=(FloatProgress(value=0.0, max=92193.0), HTML(value='')))"
      ]
     },
     "metadata": {},
     "output_type": "display_data"
    },
    {
     "data": {
      "application/vnd.jupyter.widget-view+json": {
       "model_id": "58d92d37596f4512ab9364180af8990a",
       "version_major": 2,
       "version_minor": 0
      },
      "text/plain": [
       "HBox(children=(FloatProgress(value=0.0, max=648709.0), HTML(value='')))"
      ]
     },
     "metadata": {},
     "output_type": "display_data"
    },
    {
     "name": "stdout",
     "output_type": "stream",
     "text": [
      "\n",
      "\n"
     ]
    },
    {
     "data": {
      "application/vnd.jupyter.widget-view+json": {
       "model_id": "db4a54a058e14fcdba2a7cca073a1b44",
       "version_major": 2,
       "version_minor": 0
      },
      "text/plain": [
       "HBox(children=(FloatProgress(value=0.0, max=79556.0), HTML(value='')))"
      ]
     },
     "metadata": {},
     "output_type": "display_data"
    },
    {
     "name": "stdout",
     "output_type": "stream",
     "text": [
      "\n"
     ]
    },
    {
     "data": {
      "application/vnd.jupyter.widget-view+json": {
       "model_id": "bb1fc50e614641cab021c204eb4230f7",
       "version_major": 2,
       "version_minor": 0
      },
      "text/plain": [
       "HBox(children=(FloatProgress(value=0.0, max=46759.0), HTML(value='')))"
      ]
     },
     "metadata": {},
     "output_type": "display_data"
    },
    {
     "data": {
      "application/vnd.jupyter.widget-view+json": {
       "model_id": "b6dfad5a5e26478aa62d09bdcc2ed9d9",
       "version_major": 2,
       "version_minor": 0
      },
      "text/plain": [
       "HBox(children=(FloatProgress(value=0.0, max=230436.0), HTML(value='')))"
      ]
     },
     "metadata": {},
     "output_type": "display_data"
    },
    {
     "name": "stdout",
     "output_type": "stream",
     "text": [
      "\n",
      "\n",
      "\n"
     ]
    },
    {
     "data": {
      "application/vnd.jupyter.widget-view+json": {
       "model_id": "59fa681ad45f4ae7b932fbd8edc7bfb1",
       "version_major": 2,
       "version_minor": 0
      },
      "text/plain": [
       "HBox(children=(FloatProgress(value=0.0, max=179090.0), HTML(value='')))"
      ]
     },
     "metadata": {},
     "output_type": "display_data"
    },
    {
     "data": {
      "application/vnd.jupyter.widget-view+json": {
       "model_id": "6a3c91a560c443ed991699dc671d766e",
       "version_major": 2,
       "version_minor": 0
      },
      "text/plain": [
       "HBox(children=(FloatProgress(value=0.0, max=118233.0), HTML(value='')))"
      ]
     },
     "metadata": {},
     "output_type": "display_data"
    },
    {
     "name": "stdout",
     "output_type": "stream",
     "text": [
      "\n"
     ]
    },
    {
     "data": {
      "application/vnd.jupyter.widget-view+json": {
       "model_id": "1bce09f997684b1db5aeb6e9bf08eee8",
       "version_major": 2,
       "version_minor": 0
      },
      "text/plain": [
       "HBox(children=(FloatProgress(value=0.0, max=99769.0), HTML(value='')))"
      ]
     },
     "metadata": {},
     "output_type": "display_data"
    },
    {
     "name": "stdout",
     "output_type": "stream",
     "text": [
      "\n"
     ]
    },
    {
     "data": {
      "application/vnd.jupyter.widget-view+json": {
       "model_id": "77668649fda4487997423dc1a1bdc185",
       "version_major": 2,
       "version_minor": 0
      },
      "text/plain": [
       "HBox(children=(FloatProgress(value=0.0, max=243177.0), HTML(value='')))"
      ]
     },
     "metadata": {},
     "output_type": "display_data"
    },
    {
     "name": "stdout",
     "output_type": "stream",
     "text": [
      "\n",
      "\n",
      "\n"
     ]
    },
    {
     "data": {
      "application/vnd.jupyter.widget-view+json": {
       "model_id": "a14d29f509c64f71a8cd322868109a60",
       "version_major": 2,
       "version_minor": 0
      },
      "text/plain": [
       "HBox(children=(FloatProgress(value=0.0, max=80861.0), HTML(value='')))"
      ]
     },
     "metadata": {},
     "output_type": "display_data"
    },
    {
     "data": {
      "application/vnd.jupyter.widget-view+json": {
       "model_id": "288e5f118db84169bd2b095d52d9b95b",
       "version_major": 2,
       "version_minor": 0
      },
      "text/plain": [
       "HBox(children=(FloatProgress(value=0.0, max=338447.0), HTML(value='')))"
      ]
     },
     "metadata": {},
     "output_type": "display_data"
    },
    {
     "data": {
      "application/vnd.jupyter.widget-view+json": {
       "model_id": "9166dbd2c87d4884a5f0c4dd011d50df",
       "version_major": 2,
       "version_minor": 0
      },
      "text/plain": [
       "HBox(children=(FloatProgress(value=0.0, max=117295.0), HTML(value='')))"
      ]
     },
     "metadata": {},
     "output_type": "display_data"
    },
    {
     "name": "stdout",
     "output_type": "stream",
     "text": [
      "\n",
      "\n"
     ]
    },
    {
     "data": {
      "application/vnd.jupyter.widget-view+json": {
       "model_id": "693a6c93f19645728133869918005f36",
       "version_major": 2,
       "version_minor": 0
      },
      "text/plain": [
       "HBox(children=(FloatProgress(value=0.0, max=41228.0), HTML(value='')))"
      ]
     },
     "metadata": {},
     "output_type": "display_data"
    },
    {
     "name": "stdout",
     "output_type": "stream",
     "text": [
      "\n"
     ]
    },
    {
     "data": {
      "application/vnd.jupyter.widget-view+json": {
       "model_id": "0461b8af0d9f41d199a13a4cc5b39f0e",
       "version_major": 2,
       "version_minor": 0
      },
      "text/plain": [
       "HBox(children=(FloatProgress(value=0.0, max=87315.0), HTML(value='')))"
      ]
     },
     "metadata": {},
     "output_type": "display_data"
    },
    {
     "data": {
      "application/vnd.jupyter.widget-view+json": {
       "model_id": "8e383534e9f648918bda47f60e6104d1",
       "version_major": 2,
       "version_minor": 0
      },
      "text/plain": [
       "HBox(children=(FloatProgress(value=0.0, max=739311.0), HTML(value='')))"
      ]
     },
     "metadata": {},
     "output_type": "display_data"
    },
    {
     "name": "stdout",
     "output_type": "stream",
     "text": [
      "\n"
     ]
    },
    {
     "data": {
      "application/vnd.jupyter.widget-view+json": {
       "model_id": "7b2bdcefabda4c92a3a38d0173f36192",
       "version_major": 2,
       "version_minor": 0
      },
      "text/plain": [
       "HBox(children=(FloatProgress(value=0.0, max=151230.0), HTML(value='')))"
      ]
     },
     "metadata": {},
     "output_type": "display_data"
    },
    {
     "data": {
      "application/vnd.jupyter.widget-view+json": {
       "model_id": "6ec11825cef04d60b53c7d8cd18a6468",
       "version_major": 2,
       "version_minor": 0
      },
      "text/plain": [
       "HBox(children=(FloatProgress(value=0.0, max=398897.0), HTML(value='')))"
      ]
     },
     "metadata": {},
     "output_type": "display_data"
    },
    {
     "name": "stdout",
     "output_type": "stream",
     "text": [
      "\n",
      "\n"
     ]
    },
    {
     "data": {
      "application/vnd.jupyter.widget-view+json": {
       "model_id": "f11d53a1fbd949ab8dfab231cf87811b",
       "version_major": 2,
       "version_minor": 0
      },
      "text/plain": [
       "HBox(children=(FloatProgress(value=0.0, max=36250.0), HTML(value='')))"
      ]
     },
     "metadata": {},
     "output_type": "display_data"
    },
    {
     "data": {
      "application/vnd.jupyter.widget-view+json": {
       "model_id": "27ca290aad844bf7a0bd1472bd859332",
       "version_major": 2,
       "version_minor": 0
      },
      "text/plain": [
       "HBox(children=(FloatProgress(value=0.0, max=140597.0), HTML(value='')))"
      ]
     },
     "metadata": {},
     "output_type": "display_data"
    },
    {
     "name": "stdout",
     "output_type": "stream",
     "text": [
      "\n",
      "\n"
     ]
    },
    {
     "data": {
      "application/vnd.jupyter.widget-view+json": {
       "model_id": "d2fd8f5d7e8546269ba2765db9122ad4",
       "version_major": 2,
       "version_minor": 0
      },
      "text/plain": [
       "HBox(children=(FloatProgress(value=0.0, max=22878.0), HTML(value='')))"
      ]
     },
     "metadata": {},
     "output_type": "display_data"
    },
    {
     "name": "stdout",
     "output_type": "stream",
     "text": [
      "\n",
      "\n"
     ]
    },
    {
     "data": {
      "application/vnd.jupyter.widget-view+json": {
       "model_id": "9609a830b97a4a01b37a9af85ac8a2d0",
       "version_major": 2,
       "version_minor": 0
      },
      "text/plain": [
       "HBox(children=(FloatProgress(value=0.0, max=516048.0), HTML(value='')))"
      ]
     },
     "metadata": {},
     "output_type": "display_data"
    },
    {
     "name": "stdout",
     "output_type": "stream",
     "text": [
      "\n"
     ]
    },
    {
     "data": {
      "application/vnd.jupyter.widget-view+json": {
       "model_id": "18f8a6fe460b4822a8633b4826d7af04",
       "version_major": 2,
       "version_minor": 0
      },
      "text/plain": [
       "HBox(children=(FloatProgress(value=0.0, max=260639.0), HTML(value='')))"
      ]
     },
     "metadata": {},
     "output_type": "display_data"
    },
    {
     "data": {
      "application/vnd.jupyter.widget-view+json": {
       "model_id": "01252d73ebe64d7a83aec47e1f98af30",
       "version_major": 2,
       "version_minor": 0
      },
      "text/plain": [
       "HBox(children=(FloatProgress(value=0.0, max=280948.0), HTML(value='')))"
      ]
     },
     "metadata": {},
     "output_type": "display_data"
    },
    {
     "data": {
      "application/vnd.jupyter.widget-view+json": {
       "model_id": "e3f8bb6ec85a41f29ca81ce412358c77",
       "version_major": 2,
       "version_minor": 0
      },
      "text/plain": [
       "HBox(children=(FloatProgress(value=0.0, max=214193.0), HTML(value='')))"
      ]
     },
     "metadata": {},
     "output_type": "display_data"
    },
    {
     "name": "stdout",
     "output_type": "stream",
     "text": [
      "\n",
      "\n"
     ]
    },
    {
     "data": {
      "application/vnd.jupyter.widget-view+json": {
       "model_id": "69440add945446ea9148009e24475efc",
       "version_major": 2,
       "version_minor": 0
      },
      "text/plain": [
       "HBox(children=(FloatProgress(value=0.0, max=54999.0), HTML(value='')))"
      ]
     },
     "metadata": {},
     "output_type": "display_data"
    },
    {
     "data": {
      "application/vnd.jupyter.widget-view+json": {
       "model_id": "1bcd66924221493b8c44d687f24921d1",
       "version_major": 2,
       "version_minor": 0
      },
      "text/plain": [
       "HBox(children=(FloatProgress(value=0.0, max=185832.0), HTML(value='')))"
      ]
     },
     "metadata": {},
     "output_type": "display_data"
    },
    {
     "name": "stdout",
     "output_type": "stream",
     "text": [
      "\n"
     ]
    },
    {
     "data": {
      "application/vnd.jupyter.widget-view+json": {
       "model_id": "ad219913442544959c6280644ffa86cb",
       "version_major": 2,
       "version_minor": 0
      },
      "text/plain": [
       "HBox(children=(FloatProgress(value=0.0, max=100833.0), HTML(value='')))"
      ]
     },
     "metadata": {},
     "output_type": "display_data"
    },
    {
     "name": "stdout",
     "output_type": "stream",
     "text": [
      "\n",
      "\n",
      "\n"
     ]
    },
    {
     "data": {
      "application/vnd.jupyter.widget-view+json": {
       "model_id": "c98bf41071c7422ebdb9da7716231d60",
       "version_major": 2,
       "version_minor": 0
      },
      "text/plain": [
       "HBox(children=(FloatProgress(value=0.0, max=158798.0), HTML(value='')))"
      ]
     },
     "metadata": {},
     "output_type": "display_data"
    },
    {
     "data": {
      "application/vnd.jupyter.widget-view+json": {
       "model_id": "61329644a5814253b96002ea13bb4e7d",
       "version_major": 2,
       "version_minor": 0
      },
      "text/plain": [
       "HBox(children=(FloatProgress(value=0.0, max=345526.0), HTML(value='')))"
      ]
     },
     "metadata": {},
     "output_type": "display_data"
    },
    {
     "name": "stdout",
     "output_type": "stream",
     "text": [
      "\n"
     ]
    },
    {
     "data": {
      "application/vnd.jupyter.widget-view+json": {
       "model_id": "0786fb156785488e810bb82c9eaaf4a3",
       "version_major": 2,
       "version_minor": 0
      },
      "text/plain": [
       "HBox(children=(FloatProgress(value=0.0, max=253928.0), HTML(value='')))"
      ]
     },
     "metadata": {},
     "output_type": "display_data"
    },
    {
     "data": {
      "application/vnd.jupyter.widget-view+json": {
       "model_id": "e2ff0d6f42404c4596e309f6d44c9f98",
       "version_major": 2,
       "version_minor": 0
      },
      "text/plain": [
       "HBox(children=(FloatProgress(value=0.0, max=282444.0), HTML(value='')))"
      ]
     },
     "metadata": {},
     "output_type": "display_data"
    },
    {
     "name": "stdout",
     "output_type": "stream",
     "text": [
      "\n"
     ]
    },
    {
     "data": {
      "application/vnd.jupyter.widget-view+json": {
       "model_id": "011368c2ffe1434c98a1d5dee52e230c",
       "version_major": 2,
       "version_minor": 0
      },
      "text/plain": [
       "HBox(children=(FloatProgress(value=0.0, max=92073.0), HTML(value='')))"
      ]
     },
     "metadata": {},
     "output_type": "display_data"
    },
    {
     "name": "stdout",
     "output_type": "stream",
     "text": [
      "\n",
      "\n"
     ]
    },
    {
     "data": {
      "application/vnd.jupyter.widget-view+json": {
       "model_id": "52a2a773f0734c7ab154926f64cf3830",
       "version_major": 2,
       "version_minor": 0
      },
      "text/plain": [
       "HBox(children=(FloatProgress(value=0.0, max=125350.0), HTML(value='')))"
      ]
     },
     "metadata": {},
     "output_type": "display_data"
    },
    {
     "name": "stdout",
     "output_type": "stream",
     "text": [
      "\n",
      "\n"
     ]
    },
    {
     "data": {
      "application/vnd.jupyter.widget-view+json": {
       "model_id": "183437ab84504d948031583a14d5900c",
       "version_major": 2,
       "version_minor": 0
      },
      "text/plain": [
       "HBox(children=(FloatProgress(value=0.0, max=381965.0), HTML(value='')))"
      ]
     },
     "metadata": {},
     "output_type": "display_data"
    },
    {
     "name": "stdout",
     "output_type": "stream",
     "text": [
      "\n"
     ]
    },
    {
     "data": {
      "application/vnd.jupyter.widget-view+json": {
       "model_id": "669ce9ad613e402c9df3f6a5fd895b23",
       "version_major": 2,
       "version_minor": 0
      },
      "text/plain": [
       "HBox(children=(FloatProgress(value=0.0, max=256684.0), HTML(value='')))"
      ]
     },
     "metadata": {},
     "output_type": "display_data"
    },
    {
     "data": {
      "application/vnd.jupyter.widget-view+json": {
       "model_id": "8c4e981019a14d9d9332d6ca0c474ee9",
       "version_major": 2,
       "version_minor": 0
      },
      "text/plain": [
       "HBox(children=(FloatProgress(value=0.0, max=59464.0), HTML(value='')))"
      ]
     },
     "metadata": {},
     "output_type": "display_data"
    },
    {
     "name": "stdout",
     "output_type": "stream",
     "text": [
      "\n",
      "\n"
     ]
    },
    {
     "data": {
      "application/vnd.jupyter.widget-view+json": {
       "model_id": "9397721c9945467690d449988f75ec27",
       "version_major": 2,
       "version_minor": 0
      },
      "text/plain": [
       "HBox(children=(FloatProgress(value=0.0, max=405146.0), HTML(value='')))"
      ]
     },
     "metadata": {},
     "output_type": "display_data"
    },
    {
     "data": {
      "application/vnd.jupyter.widget-view+json": {
       "model_id": "06e5f316cb424cf3b754076be3f2bd93",
       "version_major": 2,
       "version_minor": 0
      },
      "text/plain": [
       "HBox(children=(FloatProgress(value=0.0, max=240370.0), HTML(value='')))"
      ]
     },
     "metadata": {},
     "output_type": "display_data"
    },
    {
     "name": "stdout",
     "output_type": "stream",
     "text": [
      "\n"
     ]
    },
    {
     "data": {
      "application/vnd.jupyter.widget-view+json": {
       "model_id": "230d296a061a4d8b919a1429c9f79184",
       "version_major": 2,
       "version_minor": 0
      },
      "text/plain": [
       "HBox(children=(FloatProgress(value=0.0, max=91699.0), HTML(value='')))"
      ]
     },
     "metadata": {},
     "output_type": "display_data"
    },
    {
     "name": "stdout",
     "output_type": "stream",
     "text": [
      "\n"
     ]
    },
    {
     "data": {
      "application/vnd.jupyter.widget-view+json": {
       "model_id": "6341ee91bc164700b5813d363170e2eb",
       "version_major": 2,
       "version_minor": 0
      },
      "text/plain": [
       "HBox(children=(FloatProgress(value=0.0, max=784472.0), HTML(value='')))"
      ]
     },
     "metadata": {},
     "output_type": "display_data"
    },
    {
     "data": {
      "application/vnd.jupyter.widget-view+json": {
       "model_id": "56140643a0194e18a3ee4afd06f037b8",
       "version_major": 2,
       "version_minor": 0
      },
      "text/plain": [
       "HBox(children=(FloatProgress(value=0.0, max=150624.0), HTML(value='')))"
      ]
     },
     "metadata": {},
     "output_type": "display_data"
    },
    {
     "name": "stdout",
     "output_type": "stream",
     "text": [
      "\n"
     ]
    },
    {
     "data": {
      "application/vnd.jupyter.widget-view+json": {
       "model_id": "1c72dd13d977438e92e394dcd680e6fc",
       "version_major": 2,
       "version_minor": 0
      },
      "text/plain": [
       "HBox(children=(FloatProgress(value=0.0, max=58922.0), HTML(value='')))"
      ]
     },
     "metadata": {},
     "output_type": "display_data"
    },
    {
     "name": "stdout",
     "output_type": "stream",
     "text": [
      "\n"
     ]
    },
    {
     "data": {
      "application/vnd.jupyter.widget-view+json": {
       "model_id": "c02d7be0646c4dc9b90d41ae6d115cbc",
       "version_major": 2,
       "version_minor": 0
      },
      "text/plain": [
       "HBox(children=(FloatProgress(value=0.0, max=13083.0), HTML(value='')))"
      ]
     },
     "metadata": {},
     "output_type": "display_data"
    },
    {
     "name": "stdout",
     "output_type": "stream",
     "text": [
      "\n"
     ]
    },
    {
     "data": {
      "application/vnd.jupyter.widget-view+json": {
       "model_id": "f8b128d6b5584a4697b6de86942e93e0",
       "version_major": 2,
       "version_minor": 0
      },
      "text/plain": [
       "HBox(children=(FloatProgress(value=0.0, max=17263.0), HTML(value='')))"
      ]
     },
     "metadata": {},
     "output_type": "display_data"
    },
    {
     "name": "stdout",
     "output_type": "stream",
     "text": [
      "\n",
      "\n"
     ]
    },
    {
     "data": {
      "application/vnd.jupyter.widget-view+json": {
       "model_id": "3d769dc3353542e095b2229781809ed3",
       "version_major": 2,
       "version_minor": 0
      },
      "text/plain": [
       "HBox(children=(FloatProgress(value=0.0, max=64085.0), HTML(value='')))"
      ]
     },
     "metadata": {},
     "output_type": "display_data"
    },
    {
     "name": "stdout",
     "output_type": "stream",
     "text": [
      "\n",
      "\n"
     ]
    },
    {
     "data": {
      "application/vnd.jupyter.widget-view+json": {
       "model_id": "0c5ef56707414f0580edf85b562d2c20",
       "version_major": 2,
       "version_minor": 0
      },
      "text/plain": [
       "HBox(children=(FloatProgress(value=0.0, max=28186.0), HTML(value='')))"
      ]
     },
     "metadata": {},
     "output_type": "display_data"
    },
    {
     "data": {
      "application/vnd.jupyter.widget-view+json": {
       "model_id": "4ade758beea146979e2e92f8f35e53ad",
       "version_major": 2,
       "version_minor": 0
      },
      "text/plain": [
       "HBox(children=(FloatProgress(value=0.0, max=13092.0), HTML(value='')))"
      ]
     },
     "metadata": {},
     "output_type": "display_data"
    },
    {
     "data": {
      "application/vnd.jupyter.widget-view+json": {
       "model_id": "792efb6df2e744129a82741250fec584",
       "version_major": 2,
       "version_minor": 0
      },
      "text/plain": [
       "HBox(children=(FloatProgress(value=0.0, max=174112.0), HTML(value='')))"
      ]
     },
     "metadata": {},
     "output_type": "display_data"
    },
    {
     "name": "stdout",
     "output_type": "stream",
     "text": [
      "\n",
      "\n"
     ]
    },
    {
     "data": {
      "application/vnd.jupyter.widget-view+json": {
       "model_id": "b443881578d24fff859405d6fd231206",
       "version_major": 2,
       "version_minor": 0
      },
      "text/plain": [
       "HBox(children=(FloatProgress(value=0.0, max=60440.0), HTML(value='')))"
      ]
     },
     "metadata": {},
     "output_type": "display_data"
    },
    {
     "data": {
      "application/vnd.jupyter.widget-view+json": {
       "model_id": "b06c52071426420ab43b646e3af8fabc",
       "version_major": 2,
       "version_minor": 0
      },
      "text/plain": [
       "HBox(children=(FloatProgress(value=0.0, max=11211.0), HTML(value='')))"
      ]
     },
     "metadata": {},
     "output_type": "display_data"
    },
    {
     "name": "stdout",
     "output_type": "stream",
     "text": [
      "\n",
      "\n"
     ]
    },
    {
     "data": {
      "application/vnd.jupyter.widget-view+json": {
       "model_id": "0c17794d95434a1394cbf0db484f7612",
       "version_major": 2,
       "version_minor": 0
      },
      "text/plain": [
       "HBox(children=(FloatProgress(value=0.0, max=131006.0), HTML(value='')))"
      ]
     },
     "metadata": {},
     "output_type": "display_data"
    },
    {
     "data": {
      "application/vnd.jupyter.widget-view+json": {
       "model_id": "6420a0a606c1478997c611ea06108727",
       "version_major": 2,
       "version_minor": 0
      },
      "text/plain": [
       "HBox(children=(FloatProgress(value=0.0, max=70864.0), HTML(value='')))"
      ]
     },
     "metadata": {},
     "output_type": "display_data"
    },
    {
     "name": "stdout",
     "output_type": "stream",
     "text": [
      "\n"
     ]
    },
    {
     "data": {
      "application/vnd.jupyter.widget-view+json": {
       "model_id": "ddb0104761104f49af7e158872a12b20",
       "version_major": 2,
       "version_minor": 0
      },
      "text/plain": [
       "HBox(children=(FloatProgress(value=0.0, max=94758.0), HTML(value='')))"
      ]
     },
     "metadata": {},
     "output_type": "display_data"
    },
    {
     "name": "stdout",
     "output_type": "stream",
     "text": [
      "\n",
      "\n"
     ]
    },
    {
     "data": {
      "application/vnd.jupyter.widget-view+json": {
       "model_id": "b94676d389264cbcb1d00a7d7a064527",
       "version_major": 2,
       "version_minor": 0
      },
      "text/plain": [
       "HBox(children=(FloatProgress(value=0.0, max=29227.0), HTML(value='')))"
      ]
     },
     "metadata": {},
     "output_type": "display_data"
    },
    {
     "name": "stdout",
     "output_type": "stream",
     "text": [
      "\n"
     ]
    },
    {
     "data": {
      "application/vnd.jupyter.widget-view+json": {
       "model_id": "ef9e74b30275468ba340fbe301337256",
       "version_major": 2,
       "version_minor": 0
      },
      "text/plain": [
       "HBox(children=(FloatProgress(value=0.0, max=166749.0), HTML(value='')))"
      ]
     },
     "metadata": {},
     "output_type": "display_data"
    },
    {
     "name": "stdout",
     "output_type": "stream",
     "text": [
      "\n"
     ]
    },
    {
     "data": {
      "application/vnd.jupyter.widget-view+json": {
       "model_id": "813ab0d995f14903ae0947037bf4332d",
       "version_major": 2,
       "version_minor": 0
      },
      "text/plain": [
       "HBox(children=(FloatProgress(value=0.0, max=82257.0), HTML(value='')))"
      ]
     },
     "metadata": {},
     "output_type": "display_data"
    },
    {
     "name": "stdout",
     "output_type": "stream",
     "text": [
      "\n"
     ]
    },
    {
     "data": {
      "application/vnd.jupyter.widget-view+json": {
       "model_id": "0cf49f576a3441f1bf2e41ca695d24c8",
       "version_major": 2,
       "version_minor": 0
      },
      "text/plain": [
       "HBox(children=(FloatProgress(value=0.0, max=114903.0), HTML(value='')))"
      ]
     },
     "metadata": {},
     "output_type": "display_data"
    },
    {
     "name": "stdout",
     "output_type": "stream",
     "text": [
      "\n",
      "\n"
     ]
    },
    {
     "data": {
      "application/vnd.jupyter.widget-view+json": {
       "model_id": "03fc67fd4c0a419aa96c51b25f589c4d",
       "version_major": 2,
       "version_minor": 0
      },
      "text/plain": [
       "HBox(children=(FloatProgress(value=0.0, max=455160.0), HTML(value='')))"
      ]
     },
     "metadata": {},
     "output_type": "display_data"
    },
    {
     "data": {
      "application/vnd.jupyter.widget-view+json": {
       "model_id": "e54f231810ad470aa0c11f2437916c29",
       "version_major": 2,
       "version_minor": 0
      },
      "text/plain": [
       "HBox(children=(FloatProgress(value=0.0, max=153635.0), HTML(value='')))"
      ]
     },
     "metadata": {},
     "output_type": "display_data"
    },
    {
     "name": "stdout",
     "output_type": "stream",
     "text": [
      "\n",
      "\n",
      "\n"
     ]
    },
    {
     "data": {
      "application/vnd.jupyter.widget-view+json": {
       "model_id": "f2b69d684154497a82e91a7a5e9285e5",
       "version_major": 2,
       "version_minor": 0
      },
      "text/plain": [
       "HBox(children=(FloatProgress(value=0.0, max=109679.0), HTML(value='')))"
      ]
     },
     "metadata": {},
     "output_type": "display_data"
    },
    {
     "data": {
      "application/vnd.jupyter.widget-view+json": {
       "model_id": "c0c2a2ac616f485d9d5ae75ad6ec2d25",
       "version_major": 2,
       "version_minor": 0
      },
      "text/plain": [
       "HBox(children=(FloatProgress(value=0.0, max=122828.0), HTML(value='')))"
      ]
     },
     "metadata": {},
     "output_type": "display_data"
    },
    {
     "data": {
      "application/vnd.jupyter.widget-view+json": {
       "model_id": "336ea43382de4168901c38c97bbb31b0",
       "version_major": 2,
       "version_minor": 0
      },
      "text/plain": [
       "HBox(children=(FloatProgress(value=0.0, max=445543.0), HTML(value='')))"
      ]
     },
     "metadata": {},
     "output_type": "display_data"
    },
    {
     "name": "stdout",
     "output_type": "stream",
     "text": [
      "\n"
     ]
    },
    {
     "data": {
      "application/vnd.jupyter.widget-view+json": {
       "model_id": "36d47d2f090649c68f3e91922ae8dc52",
       "version_major": 2,
       "version_minor": 0
      },
      "text/plain": [
       "HBox(children=(FloatProgress(value=0.0, max=51148.0), HTML(value='')))"
      ]
     },
     "metadata": {},
     "output_type": "display_data"
    },
    {
     "name": "stdout",
     "output_type": "stream",
     "text": [
      "\n"
     ]
    },
    {
     "data": {
      "application/vnd.jupyter.widget-view+json": {
       "model_id": "6b9160de697b46e7a8bfaa774f0e6ef6",
       "version_major": 2,
       "version_minor": 0
      },
      "text/plain": [
       "HBox(children=(FloatProgress(value=0.0, max=46933.0), HTML(value='')))"
      ]
     },
     "metadata": {},
     "output_type": "display_data"
    },
    {
     "name": "stdout",
     "output_type": "stream",
     "text": [
      "\n",
      "\n",
      "\n"
     ]
    },
    {
     "data": {
      "application/vnd.jupyter.widget-view+json": {
       "model_id": "1a11ed797a324cfa8dc52e4e6356c357",
       "version_major": 2,
       "version_minor": 0
      },
      "text/plain": [
       "HBox(children=(FloatProgress(value=0.0, max=81099.0), HTML(value='')))"
      ]
     },
     "metadata": {},
     "output_type": "display_data"
    },
    {
     "data": {
      "application/vnd.jupyter.widget-view+json": {
       "model_id": "62dc6e162a3a4cfbac2ae7f217317570",
       "version_major": 2,
       "version_minor": 0
      },
      "text/plain": [
       "HBox(children=(FloatProgress(value=0.0, max=537053.0), HTML(value='')))"
      ]
     },
     "metadata": {},
     "output_type": "display_data"
    },
    {
     "name": "stdout",
     "output_type": "stream",
     "text": [
      "\n"
     ]
    },
    {
     "data": {
      "application/vnd.jupyter.widget-view+json": {
       "model_id": "26078fa0e4114cdc983b150eb1f2ca63",
       "version_major": 2,
       "version_minor": 0
      },
      "text/plain": [
       "HBox(children=(FloatProgress(value=0.0, max=236864.0), HTML(value='')))"
      ]
     },
     "metadata": {},
     "output_type": "display_data"
    },
    {
     "name": "stdout",
     "output_type": "stream",
     "text": [
      "\n"
     ]
    },
    {
     "data": {
      "application/vnd.jupyter.widget-view+json": {
       "model_id": "3c9a30042db0464c9ea75755354315c0",
       "version_major": 2,
       "version_minor": 0
      },
      "text/plain": [
       "HBox(children=(FloatProgress(value=0.0, max=77165.0), HTML(value='')))"
      ]
     },
     "metadata": {},
     "output_type": "display_data"
    },
    {
     "data": {
      "application/vnd.jupyter.widget-view+json": {
       "model_id": "f786ef80bb054a66a11e4b49084001cb",
       "version_major": 2,
       "version_minor": 0
      },
      "text/plain": [
       "HBox(children=(FloatProgress(value=0.0, max=299214.0), HTML(value='')))"
      ]
     },
     "metadata": {},
     "output_type": "display_data"
    },
    {
     "data": {
      "application/vnd.jupyter.widget-view+json": {
       "model_id": "fea64640880b46088a35c92f1d9f3423",
       "version_major": 2,
       "version_minor": 0
      },
      "text/plain": [
       "HBox(children=(FloatProgress(value=0.0, max=627610.0), HTML(value='')))"
      ]
     },
     "metadata": {},
     "output_type": "display_data"
    },
    {
     "name": "stdout",
     "output_type": "stream",
     "text": [
      "\n",
      "\n"
     ]
    },
    {
     "data": {
      "application/vnd.jupyter.widget-view+json": {
       "model_id": "d5cc37428775478eaef8accc559596e0",
       "version_major": 2,
       "version_minor": 0
      },
      "text/plain": [
       "HBox(children=(FloatProgress(value=0.0, max=82396.0), HTML(value='')))"
      ]
     },
     "metadata": {},
     "output_type": "display_data"
    },
    {
     "data": {
      "application/vnd.jupyter.widget-view+json": {
       "model_id": "1b195dc073cf43b5a0be9f06d0019c66",
       "version_major": 2,
       "version_minor": 0
      },
      "text/plain": [
       "HBox(children=(FloatProgress(value=0.0, max=70393.0), HTML(value='')))"
      ]
     },
     "metadata": {},
     "output_type": "display_data"
    },
    {
     "name": "stdout",
     "output_type": "stream",
     "text": [
      "\n"
     ]
    },
    {
     "data": {
      "application/vnd.jupyter.widget-view+json": {
       "model_id": "dd82df597fed4b4aa37979c962782c53",
       "version_major": 2,
       "version_minor": 0
      },
      "text/plain": [
       "HBox(children=(FloatProgress(value=0.0, max=71023.0), HTML(value='')))"
      ]
     },
     "metadata": {},
     "output_type": "display_data"
    },
    {
     "name": "stdout",
     "output_type": "stream",
     "text": [
      "\n",
      "\n"
     ]
    },
    {
     "data": {
      "application/vnd.jupyter.widget-view+json": {
       "model_id": "9a429e34727a4f279aab297b6bb336d5",
       "version_major": 2,
       "version_minor": 0
      },
      "text/plain": [
       "HBox(children=(FloatProgress(value=0.0, max=118102.0), HTML(value='')))"
      ]
     },
     "metadata": {},
     "output_type": "display_data"
    },
    {
     "name": "stdout",
     "output_type": "stream",
     "text": [
      "\n"
     ]
    },
    {
     "data": {
      "application/vnd.jupyter.widget-view+json": {
       "model_id": "3648034085044ee3ae0d305dd44cac69",
       "version_major": 2,
       "version_minor": 0
      },
      "text/plain": [
       "HBox(children=(FloatProgress(value=0.0, max=87666.0), HTML(value='')))"
      ]
     },
     "metadata": {},
     "output_type": "display_data"
    },
    {
     "name": "stdout",
     "output_type": "stream",
     "text": [
      "\n"
     ]
    },
    {
     "data": {
      "application/vnd.jupyter.widget-view+json": {
       "model_id": "df19183d73ea4aae986c871b043ce6f1",
       "version_major": 2,
       "version_minor": 0
      },
      "text/plain": [
       "HBox(children=(FloatProgress(value=0.0, max=48608.0), HTML(value='')))"
      ]
     },
     "metadata": {},
     "output_type": "display_data"
    },
    {
     "name": "stdout",
     "output_type": "stream",
     "text": [
      "\n",
      "\n"
     ]
    },
    {
     "data": {
      "application/vnd.jupyter.widget-view+json": {
       "model_id": "29b5c21375854c9ab79ea3d8d476caab",
       "version_major": 2,
       "version_minor": 0
      },
      "text/plain": [
       "HBox(children=(FloatProgress(value=0.0, max=96254.0), HTML(value='')))"
      ]
     },
     "metadata": {},
     "output_type": "display_data"
    },
    {
     "name": "stdout",
     "output_type": "stream",
     "text": [
      "\n"
     ]
    },
    {
     "data": {
      "application/vnd.jupyter.widget-view+json": {
       "model_id": "c55dadc47a574507a8bc26e43c57736d",
       "version_major": 2,
       "version_minor": 0
      },
      "text/plain": [
       "HBox(children=(FloatProgress(value=0.0, max=312946.0), HTML(value='')))"
      ]
     },
     "metadata": {},
     "output_type": "display_data"
    },
    {
     "name": "stdout",
     "output_type": "stream",
     "text": [
      "\n"
     ]
    },
    {
     "data": {
      "application/vnd.jupyter.widget-view+json": {
       "model_id": "546e19b868154fe28db93d4d21330429",
       "version_major": 2,
       "version_minor": 0
      },
      "text/plain": [
       "HBox(children=(FloatProgress(value=0.0, max=31191.0), HTML(value='')))"
      ]
     },
     "metadata": {},
     "output_type": "display_data"
    },
    {
     "data": {
      "application/vnd.jupyter.widget-view+json": {
       "model_id": "1d5eedd9f838422991f9313188f75ff9",
       "version_major": 2,
       "version_minor": 0
      },
      "text/plain": [
       "HBox(children=(FloatProgress(value=0.0, max=1692103.0), HTML(value='')))"
      ]
     },
     "metadata": {},
     "output_type": "display_data"
    },
    {
     "name": "stdout",
     "output_type": "stream",
     "text": [
      "\n"
     ]
    },
    {
     "data": {
      "application/vnd.jupyter.widget-view+json": {
       "model_id": "404cd4c0fdc242a6af638981c5e6f0ef",
       "version_major": 2,
       "version_minor": 0
      },
      "text/plain": [
       "HBox(children=(FloatProgress(value=0.0, max=623858.0), HTML(value='')))"
      ]
     },
     "metadata": {},
     "output_type": "display_data"
    },
    {
     "data": {
      "application/vnd.jupyter.widget-view+json": {
       "model_id": "5eacfbd2fec84e7ea6c1289bd4f2f895",
       "version_major": 2,
       "version_minor": 0
      },
      "text/plain": [
       "HBox(children=(FloatProgress(value=0.0, max=70572.0), HTML(value='')))"
      ]
     },
     "metadata": {},
     "output_type": "display_data"
    },
    {
     "name": "stdout",
     "output_type": "stream",
     "text": [
      "\n"
     ]
    },
    {
     "data": {
      "application/vnd.jupyter.widget-view+json": {
       "model_id": "764e0447b45143baac43dbfa832e3304",
       "version_major": 2,
       "version_minor": 0
      },
      "text/plain": [
       "HBox(children=(FloatProgress(value=0.0, max=118556.0), HTML(value='')))"
      ]
     },
     "metadata": {},
     "output_type": "display_data"
    },
    {
     "name": "stdout",
     "output_type": "stream",
     "text": [
      "\n",
      "\n"
     ]
    },
    {
     "data": {
      "application/vnd.jupyter.widget-view+json": {
       "model_id": "3926350fbfa94e4e90a2073bd835a77a",
       "version_major": 2,
       "version_minor": 0
      },
      "text/plain": [
       "HBox(children=(FloatProgress(value=0.0, max=140694.0), HTML(value='')))"
      ]
     },
     "metadata": {},
     "output_type": "display_data"
    },
    {
     "name": "stdout",
     "output_type": "stream",
     "text": [
      "\n"
     ]
    },
    {
     "data": {
      "application/vnd.jupyter.widget-view+json": {
       "model_id": "9fc875d2025243c0a61ce2b391e381be",
       "version_major": 2,
       "version_minor": 0
      },
      "text/plain": [
       "HBox(children=(FloatProgress(value=0.0, max=261132.0), HTML(value='')))"
      ]
     },
     "metadata": {},
     "output_type": "display_data"
    },
    {
     "name": "stdout",
     "output_type": "stream",
     "text": [
      "\n",
      "\n"
     ]
    },
    {
     "data": {
      "application/vnd.jupyter.widget-view+json": {
       "model_id": "b53183939fa74c099fd7d44083bf15d6",
       "version_major": 2,
       "version_minor": 0
      },
      "text/plain": [
       "HBox(children=(FloatProgress(value=0.0, max=79327.0), HTML(value='')))"
      ]
     },
     "metadata": {},
     "output_type": "display_data"
    },
    {
     "data": {
      "application/vnd.jupyter.widget-view+json": {
       "model_id": "f00faef0dec94b018e7df14dd030ff41",
       "version_major": 2,
       "version_minor": 0
      },
      "text/plain": [
       "HBox(children=(FloatProgress(value=0.0, max=77834.0), HTML(value='')))"
      ]
     },
     "metadata": {},
     "output_type": "display_data"
    },
    {
     "name": "stdout",
     "output_type": "stream",
     "text": [
      "\n"
     ]
    },
    {
     "data": {
      "application/vnd.jupyter.widget-view+json": {
       "model_id": "e343341ab8ec460fb52594194e18b158",
       "version_major": 2,
       "version_minor": 0
      },
      "text/plain": [
       "HBox(children=(FloatProgress(value=0.0, max=44300.0), HTML(value='')))"
      ]
     },
     "metadata": {},
     "output_type": "display_data"
    },
    {
     "name": "stdout",
     "output_type": "stream",
     "text": [
      "\n",
      "\n"
     ]
    },
    {
     "data": {
      "application/vnd.jupyter.widget-view+json": {
       "model_id": "f437b011d9464e0fa0cbb1bee86c0e51",
       "version_major": 2,
       "version_minor": 0
      },
      "text/plain": [
       "HBox(children=(FloatProgress(value=0.0, max=101338.0), HTML(value='')))"
      ]
     },
     "metadata": {},
     "output_type": "display_data"
    },
    {
     "data": {
      "application/vnd.jupyter.widget-view+json": {
       "model_id": "017f7c15578648f3ad336c97001e750b",
       "version_major": 2,
       "version_minor": 0
      },
      "text/plain": [
       "HBox(children=(FloatProgress(value=0.0, max=75735.0), HTML(value='')))"
      ]
     },
     "metadata": {},
     "output_type": "display_data"
    },
    {
     "name": "stdout",
     "output_type": "stream",
     "text": [
      "\n"
     ]
    },
    {
     "data": {
      "application/vnd.jupyter.widget-view+json": {
       "model_id": "be060027368d43aeaa9c2adde9ef744b",
       "version_major": 2,
       "version_minor": 0
      },
      "text/plain": [
       "HBox(children=(FloatProgress(value=0.0, max=29749.0), HTML(value='')))"
      ]
     },
     "metadata": {},
     "output_type": "display_data"
    },
    {
     "name": "stdout",
     "output_type": "stream",
     "text": [
      "\n",
      "\n",
      "\n"
     ]
    },
    {
     "data": {
      "application/vnd.jupyter.widget-view+json": {
       "model_id": "620f54a32b0a4529a80185ced78dde0c",
       "version_major": 2,
       "version_minor": 0
      },
      "text/plain": [
       "HBox(children=(FloatProgress(value=0.0, max=899208.0), HTML(value='')))"
      ]
     },
     "metadata": {},
     "output_type": "display_data"
    },
    {
     "data": {
      "application/vnd.jupyter.widget-view+json": {
       "model_id": "281c91932aa94b629dd5db233073d512",
       "version_major": 2,
       "version_minor": 0
      },
      "text/plain": [
       "HBox(children=(FloatProgress(value=0.0, max=88005.0), HTML(value='')))"
      ]
     },
     "metadata": {},
     "output_type": "display_data"
    },
    {
     "name": "stdout",
     "output_type": "stream",
     "text": [
      "\n"
     ]
    },
    {
     "data": {
      "application/vnd.jupyter.widget-view+json": {
       "model_id": "1baa205f66a74444b86762f80c8182ff",
       "version_major": 2,
       "version_minor": 0
      },
      "text/plain": [
       "HBox(children=(FloatProgress(value=0.0, max=107269.0), HTML(value='')))"
      ]
     },
     "metadata": {},
     "output_type": "display_data"
    },
    {
     "data": {
      "application/vnd.jupyter.widget-view+json": {
       "model_id": "e3ade84682674da588248a329a31f2d0",
       "version_major": 2,
       "version_minor": 0
      },
      "text/plain": [
       "HBox(children=(FloatProgress(value=0.0, max=497794.0), HTML(value='')))"
      ]
     },
     "metadata": {},
     "output_type": "display_data"
    },
    {
     "data": {
      "application/vnd.jupyter.widget-view+json": {
       "model_id": "388490bae6ac43b69010856e4e82971c",
       "version_major": 2,
       "version_minor": 0
      },
      "text/plain": [
       "HBox(children=(FloatProgress(value=0.0, max=193269.0), HTML(value='')))"
      ]
     },
     "metadata": {},
     "output_type": "display_data"
    },
    {
     "name": "stdout",
     "output_type": "stream",
     "text": [
      "\n"
     ]
    },
    {
     "data": {
      "application/vnd.jupyter.widget-view+json": {
       "model_id": "1556697d47d241ac904f99ffbba09a6e",
       "version_major": 2,
       "version_minor": 0
      },
      "text/plain": [
       "HBox(children=(FloatProgress(value=0.0, max=46055.0), HTML(value='')))"
      ]
     },
     "metadata": {},
     "output_type": "display_data"
    },
    {
     "name": "stdout",
     "output_type": "stream",
     "text": [
      "\n",
      "\n"
     ]
    },
    {
     "data": {
      "application/vnd.jupyter.widget-view+json": {
       "model_id": "3fef80803efc43acaaf15d04a02d2ef7",
       "version_major": 2,
       "version_minor": 0
      },
      "text/plain": [
       "HBox(children=(FloatProgress(value=0.0, max=82328.0), HTML(value='')))"
      ]
     },
     "metadata": {},
     "output_type": "display_data"
    },
    {
     "name": "stdout",
     "output_type": "stream",
     "text": [
      "\n"
     ]
    },
    {
     "data": {
      "application/vnd.jupyter.widget-view+json": {
       "model_id": "51764887d0ed4d98bc1d4614f5e38264",
       "version_major": 2,
       "version_minor": 0
      },
      "text/plain": [
       "HBox(children=(FloatProgress(value=0.0, max=269738.0), HTML(value='')))"
      ]
     },
     "metadata": {},
     "output_type": "display_data"
    },
    {
     "data": {
      "application/vnd.jupyter.widget-view+json": {
       "model_id": "15e34d3fced343d0aa722d1b9c49a3bc",
       "version_major": 2,
       "version_minor": 0
      },
      "text/plain": [
       "HBox(children=(FloatProgress(value=0.0, max=460238.0), HTML(value='')))"
      ]
     },
     "metadata": {},
     "output_type": "display_data"
    },
    {
     "name": "stdout",
     "output_type": "stream",
     "text": [
      "\n",
      "\n"
     ]
    },
    {
     "data": {
      "application/vnd.jupyter.widget-view+json": {
       "model_id": "259ba787de9d4ad487a6502ea4e05499",
       "version_major": 2,
       "version_minor": 0
      },
      "text/plain": [
       "HBox(children=(FloatProgress(value=0.0, max=36950.0), HTML(value='')))"
      ]
     },
     "metadata": {},
     "output_type": "display_data"
    },
    {
     "data": {
      "application/vnd.jupyter.widget-view+json": {
       "model_id": "64e32aa1500f4d04b3d2d338fe5bc2ae",
       "version_major": 2,
       "version_minor": 0
      },
      "text/plain": [
       "HBox(children=(FloatProgress(value=0.0, max=131848.0), HTML(value='')))"
      ]
     },
     "metadata": {},
     "output_type": "display_data"
    },
    {
     "name": "stdout",
     "output_type": "stream",
     "text": [
      "\n",
      "\n"
     ]
    },
    {
     "data": {
      "application/vnd.jupyter.widget-view+json": {
       "model_id": "1cdad35afa144a51b11a2fc37ac433bb",
       "version_major": 2,
       "version_minor": 0
      },
      "text/plain": [
       "HBox(children=(FloatProgress(value=0.0, max=686660.0), HTML(value='')))"
      ]
     },
     "metadata": {},
     "output_type": "display_data"
    },
    {
     "name": "stdout",
     "output_type": "stream",
     "text": [
      "\n",
      "\n"
     ]
    },
    {
     "data": {
      "application/vnd.jupyter.widget-view+json": {
       "model_id": "16b88384f8634b49b673035e297a6d4a",
       "version_major": 2,
       "version_minor": 0
      },
      "text/plain": [
       "HBox(children=(FloatProgress(value=0.0, max=111645.0), HTML(value='')))"
      ]
     },
     "metadata": {},
     "output_type": "display_data"
    },
    {
     "name": "stdout",
     "output_type": "stream",
     "text": [
      "\n",
      "\n"
     ]
    },
    {
     "data": {
      "application/vnd.jupyter.widget-view+json": {
       "model_id": "5aa2797b76594d08a3cff2e0bdd61fc9",
       "version_major": 2,
       "version_minor": 0
      },
      "text/plain": [
       "HBox(children=(FloatProgress(value=0.0, max=470408.0), HTML(value='')))"
      ]
     },
     "metadata": {},
     "output_type": "display_data"
    },
    {
     "data": {
      "application/vnd.jupyter.widget-view+json": {
       "model_id": "ab21ba35621747bd8b7aa49623db105c",
       "version_major": 2,
       "version_minor": 0
      },
      "text/plain": [
       "HBox(children=(FloatProgress(value=0.0, max=177757.0), HTML(value='')))"
      ]
     },
     "metadata": {},
     "output_type": "display_data"
    },
    {
     "data": {
      "application/vnd.jupyter.widget-view+json": {
       "model_id": "c166d116de434944bef3d5bdb561f831",
       "version_major": 2,
       "version_minor": 0
      },
      "text/plain": [
       "HBox(children=(FloatProgress(value=0.0, max=60493.0), HTML(value='')))"
      ]
     },
     "metadata": {},
     "output_type": "display_data"
    },
    {
     "data": {
      "application/vnd.jupyter.widget-view+json": {
       "model_id": "20802b1d36a94d0e892b66e0410d8f7f",
       "version_major": 2,
       "version_minor": 0
      },
      "text/plain": [
       "HBox(children=(FloatProgress(value=0.0, max=527116.0), HTML(value='')))"
      ]
     },
     "metadata": {},
     "output_type": "display_data"
    },
    {
     "name": "stdout",
     "output_type": "stream",
     "text": [
      "\n"
     ]
    },
    {
     "data": {
      "application/vnd.jupyter.widget-view+json": {
       "model_id": "c586b6e9533448ff9e51f836569019c4",
       "version_major": 2,
       "version_minor": 0
      },
      "text/plain": [
       "HBox(children=(FloatProgress(value=0.0, max=38059.0), HTML(value='')))"
      ]
     },
     "metadata": {},
     "output_type": "display_data"
    },
    {
     "name": "stdout",
     "output_type": "stream",
     "text": [
      "\n",
      "\n"
     ]
    },
    {
     "data": {
      "application/vnd.jupyter.widget-view+json": {
       "model_id": "ab48a46237104948908ce311d2efaa5d",
       "version_major": 2,
       "version_minor": 0
      },
      "text/plain": [
       "HBox(children=(FloatProgress(value=0.0, max=223892.0), HTML(value='')))"
      ]
     },
     "metadata": {},
     "output_type": "display_data"
    },
    {
     "name": "stdout",
     "output_type": "stream",
     "text": [
      "\n",
      "\n"
     ]
    },
    {
     "data": {
      "application/vnd.jupyter.widget-view+json": {
       "model_id": "abc8cfc6f6444347a8765ae6ace45030",
       "version_major": 2,
       "version_minor": 0
      },
      "text/plain": [
       "HBox(children=(FloatProgress(value=0.0, max=95972.0), HTML(value='')))"
      ]
     },
     "metadata": {},
     "output_type": "display_data"
    },
    {
     "data": {
      "application/vnd.jupyter.widget-view+json": {
       "model_id": "d148d216b1fa48c291126c16815edf7d",
       "version_major": 2,
       "version_minor": 0
      },
      "text/plain": [
       "HBox(children=(FloatProgress(value=0.0, max=434223.0), HTML(value='')))"
      ]
     },
     "metadata": {},
     "output_type": "display_data"
    },
    {
     "name": "stdout",
     "output_type": "stream",
     "text": [
      "\n"
     ]
    },
    {
     "data": {
      "application/vnd.jupyter.widget-view+json": {
       "model_id": "3c0726cda0964b8bba2c02fa534ed9b5",
       "version_major": 2,
       "version_minor": 0
      },
      "text/plain": [
       "HBox(children=(FloatProgress(value=0.0, max=62728.0), HTML(value='')))"
      ]
     },
     "metadata": {},
     "output_type": "display_data"
    },
    {
     "name": "stdout",
     "output_type": "stream",
     "text": [
      "\n"
     ]
    },
    {
     "data": {
      "application/vnd.jupyter.widget-view+json": {
       "model_id": "7ef2a46ac8a14c06b524ef527c309482",
       "version_major": 2,
       "version_minor": 0
      },
      "text/plain": [
       "HBox(children=(FloatProgress(value=0.0, max=166281.0), HTML(value='')))"
      ]
     },
     "metadata": {},
     "output_type": "display_data"
    },
    {
     "name": "stdout",
     "output_type": "stream",
     "text": [
      "\n"
     ]
    },
    {
     "data": {
      "application/vnd.jupyter.widget-view+json": {
       "model_id": "7d18d96a9f0144f6b7604c71e82ab9a8",
       "version_major": 2,
       "version_minor": 0
      },
      "text/plain": [
       "HBox(children=(FloatProgress(value=0.0, max=766506.0), HTML(value='')))"
      ]
     },
     "metadata": {},
     "output_type": "display_data"
    },
    {
     "name": "stdout",
     "output_type": "stream",
     "text": [
      "\n"
     ]
    },
    {
     "data": {
      "application/vnd.jupyter.widget-view+json": {
       "model_id": "dcb43a34fb274ed183fe44df81f49665",
       "version_major": 2,
       "version_minor": 0
      },
      "text/plain": [
       "HBox(children=(FloatProgress(value=0.0, max=150135.0), HTML(value='')))"
      ]
     },
     "metadata": {},
     "output_type": "display_data"
    },
    {
     "data": {
      "application/vnd.jupyter.widget-view+json": {
       "model_id": "23bf58376d564274b4d7b2aadf63fe2c",
       "version_major": 2,
       "version_minor": 0
      },
      "text/plain": [
       "HBox(children=(FloatProgress(value=0.0, max=292559.0), HTML(value='')))"
      ]
     },
     "metadata": {},
     "output_type": "display_data"
    },
    {
     "name": "stdout",
     "output_type": "stream",
     "text": [
      "\n",
      "\n"
     ]
    },
    {
     "data": {
      "application/vnd.jupyter.widget-view+json": {
       "model_id": "360cb240c47547a6ba0bf62aaf403f7a",
       "version_major": 2,
       "version_minor": 0
      },
      "text/plain": [
       "HBox(children=(FloatProgress(value=0.0, max=57830.0), HTML(value='')))"
      ]
     },
     "metadata": {},
     "output_type": "display_data"
    },
    {
     "data": {
      "application/vnd.jupyter.widget-view+json": {
       "model_id": "e9088bcfb2c14b6d9a3b23d51ddf95b4",
       "version_major": 2,
       "version_minor": 0
      },
      "text/plain": [
       "HBox(children=(FloatProgress(value=0.0, max=41118.0), HTML(value='')))"
      ]
     },
     "metadata": {},
     "output_type": "display_data"
    },
    {
     "name": "stdout",
     "output_type": "stream",
     "text": [
      "\n"
     ]
    },
    {
     "data": {
      "application/vnd.jupyter.widget-view+json": {
       "model_id": "64b4bb279af543f5850035baa74c4434",
       "version_major": 2,
       "version_minor": 0
      },
      "text/plain": [
       "HBox(children=(FloatProgress(value=0.0, max=47553.0), HTML(value='')))"
      ]
     },
     "metadata": {},
     "output_type": "display_data"
    },
    {
     "name": "stdout",
     "output_type": "stream",
     "text": [
      "\n",
      "\n",
      "\n"
     ]
    },
    {
     "data": {
      "application/vnd.jupyter.widget-view+json": {
       "model_id": "79884b2cf51346f3bb5d66097aa581af",
       "version_major": 2,
       "version_minor": 0
      },
      "text/plain": [
       "HBox(children=(FloatProgress(value=0.0, max=303011.0), HTML(value='')))"
      ]
     },
     "metadata": {},
     "output_type": "display_data"
    },
    {
     "data": {
      "application/vnd.jupyter.widget-view+json": {
       "model_id": "d672059cbf084db483db02ec7c6bab95",
       "version_major": 2,
       "version_minor": 0
      },
      "text/plain": [
       "HBox(children=(FloatProgress(value=0.0, max=302830.0), HTML(value='')))"
      ]
     },
     "metadata": {},
     "output_type": "display_data"
    },
    {
     "data": {
      "application/vnd.jupyter.widget-view+json": {
       "model_id": "b3ab2af121f14f6792d5660212c742ff",
       "version_major": 2,
       "version_minor": 0
      },
      "text/plain": [
       "HBox(children=(FloatProgress(value=0.0, max=43288.0), HTML(value='')))"
      ]
     },
     "metadata": {},
     "output_type": "display_data"
    },
    {
     "name": "stdout",
     "output_type": "stream",
     "text": [
      "\n"
     ]
    },
    {
     "data": {
      "application/vnd.jupyter.widget-view+json": {
       "model_id": "6b58c3fb69a9401bb4fbfaf256841798",
       "version_major": 2,
       "version_minor": 0
      },
      "text/plain": [
       "HBox(children=(FloatProgress(value=0.0, max=84976.0), HTML(value='')))"
      ]
     },
     "metadata": {},
     "output_type": "display_data"
    },
    {
     "name": "stdout",
     "output_type": "stream",
     "text": [
      "\n"
     ]
    },
    {
     "data": {
      "application/vnd.jupyter.widget-view+json": {
       "model_id": "af56958b671d41d7a6436e941a905767",
       "version_major": 2,
       "version_minor": 0
      },
      "text/plain": [
       "HBox(children=(FloatProgress(value=0.0, max=50061.0), HTML(value='')))"
      ]
     },
     "metadata": {},
     "output_type": "display_data"
    },
    {
     "name": "stdout",
     "output_type": "stream",
     "text": [
      "\n"
     ]
    },
    {
     "data": {
      "application/vnd.jupyter.widget-view+json": {
       "model_id": "b662fd78a0ab4428b031cca834e37160",
       "version_major": 2,
       "version_minor": 0
      },
      "text/plain": [
       "HBox(children=(FloatProgress(value=0.0, max=63614.0), HTML(value='')))"
      ]
     },
     "metadata": {},
     "output_type": "display_data"
    },
    {
     "name": "stdout",
     "output_type": "stream",
     "text": [
      "\n",
      "\n",
      "\n",
      "\n"
     ]
    },
    {
     "data": {
      "application/vnd.jupyter.widget-view+json": {
       "model_id": "418bec5f2bde42f3b652ccca5d5bbca5",
       "version_major": 2,
       "version_minor": 0
      },
      "text/plain": [
       "HBox(children=(FloatProgress(value=0.0, max=59618.0), HTML(value='')))"
      ]
     },
     "metadata": {},
     "output_type": "display_data"
    },
    {
     "data": {
      "application/vnd.jupyter.widget-view+json": {
       "model_id": "284c72a633164fec8eeb26b2213fdea6",
       "version_major": 2,
       "version_minor": 0
      },
      "text/plain": [
       "HBox(children=(FloatProgress(value=0.0, max=91616.0), HTML(value='')))"
      ]
     },
     "metadata": {},
     "output_type": "display_data"
    },
    {
     "data": {
      "application/vnd.jupyter.widget-view+json": {
       "model_id": "6440285a5c4546f3b40327162a4b4e0e",
       "version_major": 2,
       "version_minor": 0
      },
      "text/plain": [
       "HBox(children=(FloatProgress(value=0.0, max=136790.0), HTML(value='')))"
      ]
     },
     "metadata": {},
     "output_type": "display_data"
    },
    {
     "name": "stdout",
     "output_type": "stream",
     "text": [
      "\n",
      "\n"
     ]
    },
    {
     "data": {
      "application/vnd.jupyter.widget-view+json": {
       "model_id": "7b7f8e5a417240deadaf563e3c375fcd",
       "version_major": 2,
       "version_minor": 0
      },
      "text/plain": [
       "HBox(children=(FloatProgress(value=0.0, max=17742.0), HTML(value='')))"
      ]
     },
     "metadata": {},
     "output_type": "display_data"
    },
    {
     "data": {
      "application/vnd.jupyter.widget-view+json": {
       "model_id": "68f97e83782d461a9f766e8dadaf7f11",
       "version_major": 2,
       "version_minor": 0
      },
      "text/plain": [
       "HBox(children=(FloatProgress(value=0.0, max=44740.0), HTML(value='')))"
      ]
     },
     "metadata": {},
     "output_type": "display_data"
    },
    {
     "name": "stdout",
     "output_type": "stream",
     "text": [
      "\n",
      "\n"
     ]
    },
    {
     "data": {
      "application/vnd.jupyter.widget-view+json": {
       "model_id": "94b52aea248341fdb9aea87b5dc23af1",
       "version_major": 2,
       "version_minor": 0
      },
      "text/plain": [
       "HBox(children=(FloatProgress(value=0.0, max=663433.0), HTML(value='')))"
      ]
     },
     "metadata": {},
     "output_type": "display_data"
    },
    {
     "data": {
      "application/vnd.jupyter.widget-view+json": {
       "model_id": "3b2f763fae8e47bfb42c0b2402ba03d0",
       "version_major": 2,
       "version_minor": 0
      },
      "text/plain": [
       "HBox(children=(FloatProgress(value=0.0, max=185752.0), HTML(value='')))"
      ]
     },
     "metadata": {},
     "output_type": "display_data"
    },
    {
     "name": "stdout",
     "output_type": "stream",
     "text": [
      "\n"
     ]
    },
    {
     "data": {
      "application/vnd.jupyter.widget-view+json": {
       "model_id": "be0ea4c6b8374281b970690932ac8b2a",
       "version_major": 2,
       "version_minor": 0
      },
      "text/plain": [
       "HBox(children=(FloatProgress(value=0.0, max=313617.0), HTML(value='')))"
      ]
     },
     "metadata": {},
     "output_type": "display_data"
    },
    {
     "data": {
      "application/vnd.jupyter.widget-view+json": {
       "model_id": "730c45a4ed9c400cab21d5add1c62cdc",
       "version_major": 2,
       "version_minor": 0
      },
      "text/plain": [
       "HBox(children=(FloatProgress(value=0.0, max=61851.0), HTML(value='')))"
      ]
     },
     "metadata": {},
     "output_type": "display_data"
    },
    {
     "name": "stdout",
     "output_type": "stream",
     "text": [
      "\n"
     ]
    },
    {
     "data": {
      "application/vnd.jupyter.widget-view+json": {
       "model_id": "c1267d1417be4769baa94fd284b80834",
       "version_major": 2,
       "version_minor": 0
      },
      "text/plain": [
       "HBox(children=(FloatProgress(value=0.0, max=18236.0), HTML(value='')))"
      ]
     },
     "metadata": {},
     "output_type": "display_data"
    },
    {
     "name": "stdout",
     "output_type": "stream",
     "text": [
      "\n",
      "\n",
      "\n"
     ]
    },
    {
     "data": {
      "application/vnd.jupyter.widget-view+json": {
       "model_id": "bc54e51f9abe4b27a5bc399809d93fdc",
       "version_major": 2,
       "version_minor": 0
      },
      "text/plain": [
       "HBox(children=(FloatProgress(value=0.0, max=82900.0), HTML(value='')))"
      ]
     },
     "metadata": {},
     "output_type": "display_data"
    },
    {
     "data": {
      "application/vnd.jupyter.widget-view+json": {
       "model_id": "241919479f654aaeb7a11df3158f4628",
       "version_major": 2,
       "version_minor": 0
      },
      "text/plain": [
       "HBox(children=(FloatProgress(value=0.0, max=69348.0), HTML(value='')))"
      ]
     },
     "metadata": {},
     "output_type": "display_data"
    },
    {
     "data": {
      "application/vnd.jupyter.widget-view+json": {
       "model_id": "8e376c4dd6db44fba3a56dedc1d68379",
       "version_major": 2,
       "version_minor": 0
      },
      "text/plain": [
       "HBox(children=(FloatProgress(value=0.0, max=199164.0), HTML(value='')))"
      ]
     },
     "metadata": {},
     "output_type": "display_data"
    },
    {
     "name": "stdout",
     "output_type": "stream",
     "text": [
      "\n",
      "\n"
     ]
    },
    {
     "data": {
      "application/vnd.jupyter.widget-view+json": {
       "model_id": "b38a7a7f1ee740e7a06601f6550294cb",
       "version_major": 2,
       "version_minor": 0
      },
      "text/plain": [
       "HBox(children=(FloatProgress(value=0.0, max=38091.0), HTML(value='')))"
      ]
     },
     "metadata": {},
     "output_type": "display_data"
    },
    {
     "data": {
      "application/vnd.jupyter.widget-view+json": {
       "model_id": "5dc12f75148e4613b398e866a29a53ba",
       "version_major": 2,
       "version_minor": 0
      },
      "text/plain": [
       "HBox(children=(FloatProgress(value=0.0, max=154175.0), HTML(value='')))"
      ]
     },
     "metadata": {},
     "output_type": "display_data"
    },
    {
     "name": "stdout",
     "output_type": "stream",
     "text": [
      "\n",
      "\n"
     ]
    },
    {
     "data": {
      "application/vnd.jupyter.widget-view+json": {
       "model_id": "53e1b52ce93048d0b90d35185b9f6e40",
       "version_major": 2,
       "version_minor": 0
      },
      "text/plain": [
       "HBox(children=(FloatProgress(value=0.0, max=70111.0), HTML(value='')))"
      ]
     },
     "metadata": {},
     "output_type": "display_data"
    },
    {
     "data": {
      "application/vnd.jupyter.widget-view+json": {
       "model_id": "ae9c5ecd7153471ba58491f5e1a24430",
       "version_major": 2,
       "version_minor": 0
      },
      "text/plain": [
       "HBox(children=(FloatProgress(value=0.0, max=467768.0), HTML(value='')))"
      ]
     },
     "metadata": {},
     "output_type": "display_data"
    },
    {
     "name": "stdout",
     "output_type": "stream",
     "text": [
      "\n",
      "\n"
     ]
    },
    {
     "data": {
      "application/vnd.jupyter.widget-view+json": {
       "model_id": "883579e2359642a9b1e24d5db8bc66b1",
       "version_major": 2,
       "version_minor": 0
      },
      "text/plain": [
       "HBox(children=(FloatProgress(value=0.0, max=35607.0), HTML(value='')))"
      ]
     },
     "metadata": {},
     "output_type": "display_data"
    },
    {
     "data": {
      "application/vnd.jupyter.widget-view+json": {
       "model_id": "e1a0f8378828404eb5a9923cf2d97b1f",
       "version_major": 2,
       "version_minor": 0
      },
      "text/plain": [
       "HBox(children=(FloatProgress(value=0.0, max=94614.0), HTML(value='')))"
      ]
     },
     "metadata": {},
     "output_type": "display_data"
    },
    {
     "name": "stdout",
     "output_type": "stream",
     "text": [
      "\n"
     ]
    },
    {
     "data": {
      "application/vnd.jupyter.widget-view+json": {
       "model_id": "9a75622ccbdf49f0aee1a2f6aa18449f",
       "version_major": 2,
       "version_minor": 0
      },
      "text/plain": [
       "HBox(children=(FloatProgress(value=0.0, max=85288.0), HTML(value='')))"
      ]
     },
     "metadata": {},
     "output_type": "display_data"
    },
    {
     "name": "stdout",
     "output_type": "stream",
     "text": [
      "\n"
     ]
    },
    {
     "data": {
      "application/vnd.jupyter.widget-view+json": {
       "model_id": "0aaa26a981f94112babd8ee6ce92584d",
       "version_major": 2,
       "version_minor": 0
      },
      "text/plain": [
       "HBox(children=(FloatProgress(value=0.0, max=85118.0), HTML(value='')))"
      ]
     },
     "metadata": {},
     "output_type": "display_data"
    },
    {
     "name": "stdout",
     "output_type": "stream",
     "text": [
      "\n"
     ]
    },
    {
     "data": {
      "application/vnd.jupyter.widget-view+json": {
       "model_id": "28b02f29814b4006ba8bd0cc235bdc80",
       "version_major": 2,
       "version_minor": 0
      },
      "text/plain": [
       "HBox(children=(FloatProgress(value=0.0, max=79010.0), HTML(value='')))"
      ]
     },
     "metadata": {},
     "output_type": "display_data"
    },
    {
     "name": "stdout",
     "output_type": "stream",
     "text": [
      "\n"
     ]
    },
    {
     "data": {
      "application/vnd.jupyter.widget-view+json": {
       "model_id": "bc3c057314eb482ca2dc943daf070168",
       "version_major": 2,
       "version_minor": 0
      },
      "text/plain": [
       "HBox(children=(FloatProgress(value=0.0, max=58570.0), HTML(value='')))"
      ]
     },
     "metadata": {},
     "output_type": "display_data"
    },
    {
     "name": "stdout",
     "output_type": "stream",
     "text": [
      "\n"
     ]
    },
    {
     "data": {
      "application/vnd.jupyter.widget-view+json": {
       "model_id": "de1db9c48aae4d4a802695b75a4945be",
       "version_major": 2,
       "version_minor": 0
      },
      "text/plain": [
       "HBox(children=(FloatProgress(value=0.0, max=106281.0), HTML(value='')))"
      ]
     },
     "metadata": {},
     "output_type": "display_data"
    },
    {
     "name": "stdout",
     "output_type": "stream",
     "text": [
      "\n"
     ]
    },
    {
     "data": {
      "application/vnd.jupyter.widget-view+json": {
       "model_id": "2bee4d705c334d7988d0a15bab4a0eeb",
       "version_major": 2,
       "version_minor": 0
      },
      "text/plain": [
       "HBox(children=(FloatProgress(value=0.0, max=166454.0), HTML(value='')))"
      ]
     },
     "metadata": {},
     "output_type": "display_data"
    },
    {
     "name": "stdout",
     "output_type": "stream",
     "text": [
      "\n",
      "\n",
      "\n"
     ]
    },
    {
     "data": {
      "application/vnd.jupyter.widget-view+json": {
       "model_id": "cfe8e8ed108f45cca18eee2c53d62e26",
       "version_major": 2,
       "version_minor": 0
      },
      "text/plain": [
       "HBox(children=(FloatProgress(value=0.0, max=243630.0), HTML(value='')))"
      ]
     },
     "metadata": {},
     "output_type": "display_data"
    },
    {
     "name": "stdout",
     "output_type": "stream",
     "text": [
      "\n"
     ]
    },
    {
     "data": {
      "application/vnd.jupyter.widget-view+json": {
       "model_id": "1a3e7d23e4d448e3aca39abadb11c3a5",
       "version_major": 2,
       "version_minor": 0
      },
      "text/plain": [
       "HBox(children=(FloatProgress(value=0.0, max=44471.0), HTML(value='')))"
      ]
     },
     "metadata": {},
     "output_type": "display_data"
    },
    {
     "data": {
      "application/vnd.jupyter.widget-view+json": {
       "model_id": "51ce64e6909240b4a8173251c37691dc",
       "version_major": 2,
       "version_minor": 0
      },
      "text/plain": [
       "HBox(children=(FloatProgress(value=0.0, max=551099.0), HTML(value='')))"
      ]
     },
     "metadata": {},
     "output_type": "display_data"
    },
    {
     "data": {
      "application/vnd.jupyter.widget-view+json": {
       "model_id": "3c744e79fa4f484eb9fbec96133a3c16",
       "version_major": 2,
       "version_minor": 0
      },
      "text/plain": [
       "HBox(children=(FloatProgress(value=0.0, max=531968.0), HTML(value='')))"
      ]
     },
     "metadata": {},
     "output_type": "display_data"
    },
    {
     "name": "stdout",
     "output_type": "stream",
     "text": [
      "\n",
      "\n"
     ]
    },
    {
     "data": {
      "application/vnd.jupyter.widget-view+json": {
       "model_id": "56f6ac401c7744188ce9cdc79e315327",
       "version_major": 2,
       "version_minor": 0
      },
      "text/plain": [
       "HBox(children=(FloatProgress(value=0.0, max=264084.0), HTML(value='')))"
      ]
     },
     "metadata": {},
     "output_type": "display_data"
    },
    {
     "data": {
      "application/vnd.jupyter.widget-view+json": {
       "model_id": "7f9a31dc47fd45a09b80bb20841fc106",
       "version_major": 2,
       "version_minor": 0
      },
      "text/plain": [
       "HBox(children=(FloatProgress(value=0.0, max=433950.0), HTML(value='')))"
      ]
     },
     "metadata": {},
     "output_type": "display_data"
    },
    {
     "name": "stdout",
     "output_type": "stream",
     "text": [
      "\n"
     ]
    },
    {
     "data": {
      "application/vnd.jupyter.widget-view+json": {
       "model_id": "5d4860047f73461390c7ad18ace5fc7c",
       "version_major": 2,
       "version_minor": 0
      },
      "text/plain": [
       "HBox(children=(FloatProgress(value=0.0, max=476050.0), HTML(value='')))"
      ]
     },
     "metadata": {},
     "output_type": "display_data"
    },
    {
     "name": "stdout",
     "output_type": "stream",
     "text": [
      "\n"
     ]
    },
    {
     "data": {
      "application/vnd.jupyter.widget-view+json": {
       "model_id": "8fa0e7d5640542db8e3ebee0b6daaec9",
       "version_major": 2,
       "version_minor": 0
      },
      "text/plain": [
       "HBox(children=(FloatProgress(value=0.0, max=122456.0), HTML(value='')))"
      ]
     },
     "metadata": {},
     "output_type": "display_data"
    },
    {
     "name": "stdout",
     "output_type": "stream",
     "text": [
      "\n"
     ]
    },
    {
     "data": {
      "application/vnd.jupyter.widget-view+json": {
       "model_id": "a6eb21a2ae914b0598fa9bb746b65861",
       "version_major": 2,
       "version_minor": 0
      },
      "text/plain": [
       "HBox(children=(FloatProgress(value=0.0, max=108221.0), HTML(value='')))"
      ]
     },
     "metadata": {},
     "output_type": "display_data"
    },
    {
     "name": "stdout",
     "output_type": "stream",
     "text": [
      "\n",
      "\n",
      "\n"
     ]
    },
    {
     "data": {
      "application/vnd.jupyter.widget-view+json": {
       "model_id": "a2ae62294c9e4a3c9c0d998126dc8941",
       "version_major": 2,
       "version_minor": 0
      },
      "text/plain": [
       "HBox(children=(FloatProgress(value=0.0, max=243870.0), HTML(value='')))"
      ]
     },
     "metadata": {},
     "output_type": "display_data"
    },
    {
     "data": {
      "application/vnd.jupyter.widget-view+json": {
       "model_id": "f7dfc1b9a2d04f44b1e1deb0b569d8a6",
       "version_major": 2,
       "version_minor": 0
      },
      "text/plain": [
       "HBox(children=(FloatProgress(value=0.0, max=25441.0), HTML(value='')))"
      ]
     },
     "metadata": {},
     "output_type": "display_data"
    },
    {
     "data": {
      "application/vnd.jupyter.widget-view+json": {
       "model_id": "a1e7610d4ce54da5a59c8874f51eeeb0",
       "version_major": 2,
       "version_minor": 0
      },
      "text/plain": [
       "HBox(children=(FloatProgress(value=0.0, max=64423.0), HTML(value='')))"
      ]
     },
     "metadata": {},
     "output_type": "display_data"
    },
    {
     "name": "stdout",
     "output_type": "stream",
     "text": [
      "\n",
      "\n"
     ]
    },
    {
     "data": {
      "application/vnd.jupyter.widget-view+json": {
       "model_id": "0db80422cd524280a51dd73049b98d7e",
       "version_major": 2,
       "version_minor": 0
      },
      "text/plain": [
       "HBox(children=(FloatProgress(value=0.0, max=45186.0), HTML(value='')))"
      ]
     },
     "metadata": {},
     "output_type": "display_data"
    },
    {
     "data": {
      "application/vnd.jupyter.widget-view+json": {
       "model_id": "518184307c5b4743b88cc9b5980705a2",
       "version_major": 2,
       "version_minor": 0
      },
      "text/plain": [
       "HBox(children=(FloatProgress(value=0.0, max=52052.0), HTML(value='')))"
      ]
     },
     "metadata": {},
     "output_type": "display_data"
    },
    {
     "name": "stdout",
     "output_type": "stream",
     "text": [
      "\n",
      "\n",
      "\n"
     ]
    },
    {
     "data": {
      "application/vnd.jupyter.widget-view+json": {
       "model_id": "83eb0e902a7e495e9c920f7c9e3d0be8",
       "version_major": 2,
       "version_minor": 0
      },
      "text/plain": [
       "HBox(children=(FloatProgress(value=0.0, max=63026.0), HTML(value='')))"
      ]
     },
     "metadata": {},
     "output_type": "display_data"
    },
    {
     "data": {
      "application/vnd.jupyter.widget-view+json": {
       "model_id": "be7be993b622440d819f627f727b52e9",
       "version_major": 2,
       "version_minor": 0
      },
      "text/plain": [
       "HBox(children=(FloatProgress(value=0.0, max=148214.0), HTML(value='')))"
      ]
     },
     "metadata": {},
     "output_type": "display_data"
    },
    {
     "name": "stdout",
     "output_type": "stream",
     "text": [
      "\n",
      "\n",
      "\n"
     ]
    },
    {
     "data": {
      "application/vnd.jupyter.widget-view+json": {
       "model_id": "11fd3ac3c27f4cc0b0ccc16c843e4cfb",
       "version_major": 2,
       "version_minor": 0
      },
      "text/plain": [
       "HBox(children=(FloatProgress(value=0.0, max=275146.0), HTML(value='')))"
      ]
     },
     "metadata": {},
     "output_type": "display_data"
    },
    {
     "data": {
      "application/vnd.jupyter.widget-view+json": {
       "model_id": "793cce7cb1ed47ac8e98492918c6797d",
       "version_major": 2,
       "version_minor": 0
      },
      "text/plain": [
       "HBox(children=(FloatProgress(value=0.0, max=43471.0), HTML(value='')))"
      ]
     },
     "metadata": {},
     "output_type": "display_data"
    },
    {
     "data": {
      "application/vnd.jupyter.widget-view+json": {
       "model_id": "5d229d1d2d4c44a290858a7cd5fe311b",
       "version_major": 2,
       "version_minor": 0
      },
      "text/plain": [
       "HBox(children=(FloatProgress(value=0.0, max=190028.0), HTML(value='')))"
      ]
     },
     "metadata": {},
     "output_type": "display_data"
    },
    {
     "name": "stdout",
     "output_type": "stream",
     "text": [
      "\n",
      "\n"
     ]
    },
    {
     "data": {
      "application/vnd.jupyter.widget-view+json": {
       "model_id": "c94e255622f54a33ba8a9adb446d4af4",
       "version_major": 2,
       "version_minor": 0
      },
      "text/plain": [
       "HBox(children=(FloatProgress(value=0.0, max=37753.0), HTML(value='')))"
      ]
     },
     "metadata": {},
     "output_type": "display_data"
    },
    {
     "name": "stdout",
     "output_type": "stream",
     "text": [
      "\n"
     ]
    },
    {
     "data": {
      "application/vnd.jupyter.widget-view+json": {
       "model_id": "d3693d33199c48ec87b98e1f8de3420a",
       "version_major": 2,
       "version_minor": 0
      },
      "text/plain": [
       "HBox(children=(FloatProgress(value=0.0, max=273228.0), HTML(value='')))"
      ]
     },
     "metadata": {},
     "output_type": "display_data"
    },
    {
     "name": "stdout",
     "output_type": "stream",
     "text": [
      "\n"
     ]
    },
    {
     "data": {
      "application/vnd.jupyter.widget-view+json": {
       "model_id": "c69f18ec8d8d4cfaa545435bf38604eb",
       "version_major": 2,
       "version_minor": 0
      },
      "text/plain": [
       "HBox(children=(FloatProgress(value=0.0, max=65074.0), HTML(value='')))"
      ]
     },
     "metadata": {},
     "output_type": "display_data"
    },
    {
     "data": {
      "application/vnd.jupyter.widget-view+json": {
       "model_id": "7799af0cab244ceba61fce28dabdb457",
       "version_major": 2,
       "version_minor": 0
      },
      "text/plain": [
       "HBox(children=(FloatProgress(value=0.0, max=320589.0), HTML(value='')))"
      ]
     },
     "metadata": {},
     "output_type": "display_data"
    },
    {
     "name": "stdout",
     "output_type": "stream",
     "text": [
      "\n",
      "\n",
      "\n"
     ]
    },
    {
     "data": {
      "application/vnd.jupyter.widget-view+json": {
       "model_id": "134eb0fe882c47d6a52010778d235399",
       "version_major": 2,
       "version_minor": 0
      },
      "text/plain": [
       "HBox(children=(FloatProgress(value=0.0, max=34163.0), HTML(value='')))"
      ]
     },
     "metadata": {},
     "output_type": "display_data"
    },
    {
     "data": {
      "application/vnd.jupyter.widget-view+json": {
       "model_id": "b4195be9327b4f5692fa884aba15e6fd",
       "version_major": 2,
       "version_minor": 0
      },
      "text/plain": [
       "HBox(children=(FloatProgress(value=0.0, max=184004.0), HTML(value='')))"
      ]
     },
     "metadata": {},
     "output_type": "display_data"
    },
    {
     "data": {
      "application/vnd.jupyter.widget-view+json": {
       "model_id": "1ee41bc0f454409281ccc13a8e74bb25",
       "version_major": 2,
       "version_minor": 0
      },
      "text/plain": [
       "HBox(children=(FloatProgress(value=0.0, max=455434.0), HTML(value='')))"
      ]
     },
     "metadata": {},
     "output_type": "display_data"
    },
    {
     "name": "stdout",
     "output_type": "stream",
     "text": [
      "\n"
     ]
    },
    {
     "data": {
      "application/vnd.jupyter.widget-view+json": {
       "model_id": "e006ffe6071b4e4999089a21bb511ddd",
       "version_major": 2,
       "version_minor": 0
      },
      "text/plain": [
       "HBox(children=(FloatProgress(value=0.0, max=141106.0), HTML(value='')))"
      ]
     },
     "metadata": {},
     "output_type": "display_data"
    },
    {
     "name": "stdout",
     "output_type": "stream",
     "text": [
      "\n",
      "\n"
     ]
    },
    {
     "data": {
      "application/vnd.jupyter.widget-view+json": {
       "model_id": "6c27f0445eb54bda9e2a5e84c264d292",
       "version_major": 2,
       "version_minor": 0
      },
      "text/plain": [
       "HBox(children=(FloatProgress(value=0.0, max=1113524.0), HTML(value='')))"
      ]
     },
     "metadata": {},
     "output_type": "display_data"
    },
    {
     "name": "stdout",
     "output_type": "stream",
     "text": [
      "\n"
     ]
    },
    {
     "data": {
      "application/vnd.jupyter.widget-view+json": {
       "model_id": "a698d2aedfc147bda29624b4b42ae160",
       "version_major": 2,
       "version_minor": 0
      },
      "text/plain": [
       "HBox(children=(FloatProgress(value=0.0, max=439673.0), HTML(value='')))"
      ]
     },
     "metadata": {},
     "output_type": "display_data"
    },
    {
     "name": "stdout",
     "output_type": "stream",
     "text": [
      "\n"
     ]
    },
    {
     "data": {
      "application/vnd.jupyter.widget-view+json": {
       "model_id": "9a3799dac75b4d89ac06289e7a0085b0",
       "version_major": 2,
       "version_minor": 0
      },
      "text/plain": [
       "HBox(children=(FloatProgress(value=0.0, max=100661.0), HTML(value='')))"
      ]
     },
     "metadata": {},
     "output_type": "display_data"
    },
    {
     "data": {
      "application/vnd.jupyter.widget-view+json": {
       "model_id": "24b4dc11d80d4f6b8d029f3108a2ed8c",
       "version_major": 2,
       "version_minor": 0
      },
      "text/plain": [
       "HBox(children=(FloatProgress(value=0.0, max=113319.0), HTML(value='')))"
      ]
     },
     "metadata": {},
     "output_type": "display_data"
    },
    {
     "name": "stdout",
     "output_type": "stream",
     "text": [
      "\n"
     ]
    },
    {
     "data": {
      "application/vnd.jupyter.widget-view+json": {
       "model_id": "e0afe24f471a41bdb1477fe088778ab6",
       "version_major": 2,
       "version_minor": 0
      },
      "text/plain": [
       "HBox(children=(FloatProgress(value=0.0, max=555177.0), HTML(value='')))"
      ]
     },
     "metadata": {},
     "output_type": "display_data"
    },
    {
     "name": "stdout",
     "output_type": "stream",
     "text": [
      "\n"
     ]
    },
    {
     "data": {
      "application/vnd.jupyter.widget-view+json": {
       "model_id": "5e42eadc0c6f452db9a24ff6688c9917",
       "version_major": 2,
       "version_minor": 0
      },
      "text/plain": [
       "HBox(children=(FloatProgress(value=0.0, max=135327.0), HTML(value='')))"
      ]
     },
     "metadata": {},
     "output_type": "display_data"
    },
    {
     "data": {
      "application/vnd.jupyter.widget-view+json": {
       "model_id": "56d189202cad47cbb6251d186f61ce1b",
       "version_major": 2,
       "version_minor": 0
      },
      "text/plain": [
       "HBox(children=(FloatProgress(value=0.0, max=351226.0), HTML(value='')))"
      ]
     },
     "metadata": {},
     "output_type": "display_data"
    },
    {
     "name": "stdout",
     "output_type": "stream",
     "text": [
      "\n",
      "\n"
     ]
    },
    {
     "data": {
      "application/vnd.jupyter.widget-view+json": {
       "model_id": "a2efc22b8b854cccafa509737f15e0f5",
       "version_major": 2,
       "version_minor": 0
      },
      "text/plain": [
       "HBox(children=(FloatProgress(value=0.0, max=157142.0), HTML(value='')))"
      ]
     },
     "metadata": {},
     "output_type": "display_data"
    },
    {
     "name": "stdout",
     "output_type": "stream",
     "text": [
      "\n",
      "\n"
     ]
    },
    {
     "data": {
      "application/vnd.jupyter.widget-view+json": {
       "model_id": "9a06d8d190014a9c9b011d6309d99547",
       "version_major": 2,
       "version_minor": 0
      },
      "text/plain": [
       "HBox(children=(FloatProgress(value=0.0, max=219808.0), HTML(value='')))"
      ]
     },
     "metadata": {},
     "output_type": "display_data"
    },
    {
     "data": {
      "application/vnd.jupyter.widget-view+json": {
       "model_id": "83f9d2f60a0c42d59a58143455569454",
       "version_major": 2,
       "version_minor": 0
      },
      "text/plain": [
       "HBox(children=(FloatProgress(value=0.0, max=213663.0), HTML(value='')))"
      ]
     },
     "metadata": {},
     "output_type": "display_data"
    },
    {
     "name": "stdout",
     "output_type": "stream",
     "text": [
      "\n",
      "\n"
     ]
    },
    {
     "data": {
      "application/vnd.jupyter.widget-view+json": {
       "model_id": "635563d84d124f9ea5a9a355fac568aa",
       "version_major": 2,
       "version_minor": 0
      },
      "text/plain": [
       "HBox(children=(FloatProgress(value=0.0, max=72800.0), HTML(value='')))"
      ]
     },
     "metadata": {},
     "output_type": "display_data"
    },
    {
     "data": {
      "application/vnd.jupyter.widget-view+json": {
       "model_id": "dc4e95a53c7042948d353c4883ac16b6",
       "version_major": 2,
       "version_minor": 0
      },
      "text/plain": [
       "HBox(children=(FloatProgress(value=0.0, max=554918.0), HTML(value='')))"
      ]
     },
     "metadata": {},
     "output_type": "display_data"
    },
    {
     "data": {
      "application/vnd.jupyter.widget-view+json": {
       "model_id": "171926003f8c40f682fd991124f45589",
       "version_major": 2,
       "version_minor": 0
      },
      "text/plain": [
       "HBox(children=(FloatProgress(value=0.0, max=606797.0), HTML(value='')))"
      ]
     },
     "metadata": {},
     "output_type": "display_data"
    },
    {
     "name": "stdout",
     "output_type": "stream",
     "text": [
      "\n"
     ]
    },
    {
     "data": {
      "application/vnd.jupyter.widget-view+json": {
       "model_id": "9d71d95a8be0422fb5b757045f74316a",
       "version_major": 2,
       "version_minor": 0
      },
      "text/plain": [
       "HBox(children=(FloatProgress(value=0.0, max=265616.0), HTML(value='')))"
      ]
     },
     "metadata": {},
     "output_type": "display_data"
    },
    {
     "name": "stdout",
     "output_type": "stream",
     "text": [
      "\n",
      "\n",
      "\n"
     ]
    },
    {
     "data": {
      "application/vnd.jupyter.widget-view+json": {
       "model_id": "c41702f6ea854e5b83769a0e92dd392d",
       "version_major": 2,
       "version_minor": 0
      },
      "text/plain": [
       "HBox(children=(FloatProgress(value=0.0, max=505096.0), HTML(value='')))"
      ]
     },
     "metadata": {},
     "output_type": "display_data"
    },
    {
     "name": "stdout",
     "output_type": "stream",
     "text": [
      "\n"
     ]
    },
    {
     "data": {
      "application/vnd.jupyter.widget-view+json": {
       "model_id": "75e2410bb79a43518f3509b398ac842f",
       "version_major": 2,
       "version_minor": 0
      },
      "text/plain": [
       "HBox(children=(FloatProgress(value=0.0, max=111739.0), HTML(value='')))"
      ]
     },
     "metadata": {},
     "output_type": "display_data"
    },
    {
     "name": "stdout",
     "output_type": "stream",
     "text": [
      "\n",
      "\n"
     ]
    },
    {
     "data": {
      "application/vnd.jupyter.widget-view+json": {
       "model_id": "b43a9ff0dd5941d8a628873dd8e6a6aa",
       "version_major": 2,
       "version_minor": 0
      },
      "text/plain": [
       "HBox(children=(FloatProgress(value=0.0, max=166690.0), HTML(value='')))"
      ]
     },
     "metadata": {},
     "output_type": "display_data"
    },
    {
     "name": "stdout",
     "output_type": "stream",
     "text": [
      "\n",
      "\n"
     ]
    },
    {
     "data": {
      "application/vnd.jupyter.widget-view+json": {
       "model_id": "d02a0ea539834c4cac357af9a518f9e3",
       "version_major": 2,
       "version_minor": 0
      },
      "text/plain": [
       "HBox(children=(FloatProgress(value=0.0, max=39701.0), HTML(value='')))"
      ]
     },
     "metadata": {},
     "output_type": "display_data"
    },
    {
     "data": {
      "application/vnd.jupyter.widget-view+json": {
       "model_id": "3d8a001d13af4ed4a8342877d893407f",
       "version_major": 2,
       "version_minor": 0
      },
      "text/plain": [
       "HBox(children=(FloatProgress(value=0.0, max=590229.0), HTML(value='')))"
      ]
     },
     "metadata": {},
     "output_type": "display_data"
    },
    {
     "name": "stdout",
     "output_type": "stream",
     "text": [
      "\n",
      "\n"
     ]
    },
    {
     "data": {
      "application/vnd.jupyter.widget-view+json": {
       "model_id": "5a232cf99ef24c818f48b90f57308172",
       "version_major": 2,
       "version_minor": 0
      },
      "text/plain": [
       "HBox(children=(FloatProgress(value=0.0, max=50009.0), HTML(value='')))"
      ]
     },
     "metadata": {},
     "output_type": "display_data"
    },
    {
     "data": {
      "application/vnd.jupyter.widget-view+json": {
       "model_id": "eb1c2b19c08e44d195bf38ee2377cd54",
       "version_major": 2,
       "version_minor": 0
      },
      "text/plain": [
       "HBox(children=(FloatProgress(value=0.0, max=181753.0), HTML(value='')))"
      ]
     },
     "metadata": {},
     "output_type": "display_data"
    },
    {
     "name": "stdout",
     "output_type": "stream",
     "text": [
      "\n"
     ]
    },
    {
     "data": {
      "application/vnd.jupyter.widget-view+json": {
       "model_id": "b0d0206d9ecf4af287e826739565001e",
       "version_major": 2,
       "version_minor": 0
      },
      "text/plain": [
       "HBox(children=(FloatProgress(value=0.0, max=37335.0), HTML(value='')))"
      ]
     },
     "metadata": {},
     "output_type": "display_data"
    },
    {
     "data": {
      "application/vnd.jupyter.widget-view+json": {
       "model_id": "2599a6ee3a90441982a47b55c5e4802f",
       "version_major": 2,
       "version_minor": 0
      },
      "text/plain": [
       "HBox(children=(FloatProgress(value=0.0, max=793712.0), HTML(value='')))"
      ]
     },
     "metadata": {},
     "output_type": "display_data"
    },
    {
     "name": "stdout",
     "output_type": "stream",
     "text": [
      "\n",
      "\n"
     ]
    },
    {
     "data": {
      "application/vnd.jupyter.widget-view+json": {
       "model_id": "6ee3bb18900e4d51b43accb95c8146fb",
       "version_major": 2,
       "version_minor": 0
      },
      "text/plain": [
       "HBox(children=(FloatProgress(value=0.0, max=266742.0), HTML(value='')))"
      ]
     },
     "metadata": {},
     "output_type": "display_data"
    },
    {
     "data": {
      "application/vnd.jupyter.widget-view+json": {
       "model_id": "2366e88f4cc843179ed123360db910f0",
       "version_major": 2,
       "version_minor": 0
      },
      "text/plain": [
       "HBox(children=(FloatProgress(value=0.0, max=216935.0), HTML(value='')))"
      ]
     },
     "metadata": {},
     "output_type": "display_data"
    },
    {
     "name": "stdout",
     "output_type": "stream",
     "text": [
      "\n"
     ]
    },
    {
     "data": {
      "application/vnd.jupyter.widget-view+json": {
       "model_id": "35fe5ff072de42adb231952f61b576c2",
       "version_major": 2,
       "version_minor": 0
      },
      "text/plain": [
       "HBox(children=(FloatProgress(value=0.0, max=40436.0), HTML(value='')))"
      ]
     },
     "metadata": {},
     "output_type": "display_data"
    },
    {
     "name": "stdout",
     "output_type": "stream",
     "text": [
      "\n"
     ]
    },
    {
     "data": {
      "application/vnd.jupyter.widget-view+json": {
       "model_id": "61a618922580407d8d921a566f4ee5bd",
       "version_major": 2,
       "version_minor": 0
      },
      "text/plain": [
       "HBox(children=(FloatProgress(value=0.0, max=237814.0), HTML(value='')))"
      ]
     },
     "metadata": {},
     "output_type": "display_data"
    },
    {
     "name": "stdout",
     "output_type": "stream",
     "text": [
      "\n",
      "\n",
      "\n",
      "\n"
     ]
    },
    {
     "data": {
      "application/vnd.jupyter.widget-view+json": {
       "model_id": "39bb6452f87c44b1bd18faf8975b64b5",
       "version_major": 2,
       "version_minor": 0
      },
      "text/plain": [
       "HBox(children=(FloatProgress(value=0.0, max=385170.0), HTML(value='')))"
      ]
     },
     "metadata": {},
     "output_type": "display_data"
    },
    {
     "data": {
      "application/vnd.jupyter.widget-view+json": {
       "model_id": "817f23b56d214cf099e58d3fadd810c1",
       "version_major": 2,
       "version_minor": 0
      },
      "text/plain": [
       "HBox(children=(FloatProgress(value=0.0, max=262445.0), HTML(value='')))"
      ]
     },
     "metadata": {},
     "output_type": "display_data"
    },
    {
     "data": {
      "application/vnd.jupyter.widget-view+json": {
       "model_id": "5a0156072b6c4325a12398b849cf0725",
       "version_major": 2,
       "version_minor": 0
      },
      "text/plain": [
       "HBox(children=(FloatProgress(value=0.0, max=474073.0), HTML(value='')))"
      ]
     },
     "metadata": {},
     "output_type": "display_data"
    },
    {
     "data": {
      "application/vnd.jupyter.widget-view+json": {
       "model_id": "21ec5dea7044424fb1fac2336680bdec",
       "version_major": 2,
       "version_minor": 0
      },
      "text/plain": [
       "HBox(children=(FloatProgress(value=0.0, max=2240136.0), HTML(value='')))"
      ]
     },
     "metadata": {},
     "output_type": "display_data"
    },
    {
     "name": "stdout",
     "output_type": "stream",
     "text": [
      "\n",
      "\n"
     ]
    },
    {
     "data": {
      "application/vnd.jupyter.widget-view+json": {
       "model_id": "bfd453837ca54c6dbd2da357e85e3d75",
       "version_major": 2,
       "version_minor": 0
      },
      "text/plain": [
       "HBox(children=(FloatProgress(value=0.0, max=433684.0), HTML(value='')))"
      ]
     },
     "metadata": {},
     "output_type": "display_data"
    },
    {
     "data": {
      "application/vnd.jupyter.widget-view+json": {
       "model_id": "e1c7ebd31b4f4ffca14291db0bcbc79c",
       "version_major": 2,
       "version_minor": 0
      },
      "text/plain": [
       "HBox(children=(FloatProgress(value=0.0, max=355461.0), HTML(value='')))"
      ]
     },
     "metadata": {},
     "output_type": "display_data"
    },
    {
     "name": "stdout",
     "output_type": "stream",
     "text": [
      "\n",
      "\n"
     ]
    },
    {
     "data": {
      "application/vnd.jupyter.widget-view+json": {
       "model_id": "79bff62bef4442ba8b1b2be1b2c77fdc",
       "version_major": 2,
       "version_minor": 0
      },
      "text/plain": [
       "HBox(children=(FloatProgress(value=0.0, max=208651.0), HTML(value='')))"
      ]
     },
     "metadata": {},
     "output_type": "display_data"
    },
    {
     "name": "stdout",
     "output_type": "stream",
     "text": [
      "\n",
      "\n",
      "\n",
      "\n"
     ]
    },
    {
     "data": {
      "application/vnd.jupyter.widget-view+json": {
       "model_id": "701f413a448441a0a335220b7dd08414",
       "version_major": 2,
       "version_minor": 0
      },
      "text/plain": [
       "HBox(children=(FloatProgress(value=0.0, max=119523.0), HTML(value='')))"
      ]
     },
     "metadata": {},
     "output_type": "display_data"
    },
    {
     "data": {
      "application/vnd.jupyter.widget-view+json": {
       "model_id": "eb19c9c4f6f34b4c8c9c013487a5cacb",
       "version_major": 2,
       "version_minor": 0
      },
      "text/plain": [
       "HBox(children=(FloatProgress(value=0.0, max=542115.0), HTML(value='')))"
      ]
     },
     "metadata": {},
     "output_type": "display_data"
    },
    {
     "data": {
      "application/vnd.jupyter.widget-view+json": {
       "model_id": "34edd081a2794f5cb978c12ec92cc90b",
       "version_major": 2,
       "version_minor": 0
      },
      "text/plain": [
       "HBox(children=(FloatProgress(value=0.0, max=317720.0), HTML(value='')))"
      ]
     },
     "metadata": {},
     "output_type": "display_data"
    },
    {
     "name": "stdout",
     "output_type": "stream",
     "text": [
      "\n"
     ]
    },
    {
     "data": {
      "application/vnd.jupyter.widget-view+json": {
       "model_id": "09433e077c6647ccb5e6eb031264a5d7",
       "version_major": 2,
       "version_minor": 0
      },
      "text/plain": [
       "HBox(children=(FloatProgress(value=0.0, max=66281.0), HTML(value='')))"
      ]
     },
     "metadata": {},
     "output_type": "display_data"
    },
    {
     "name": "stdout",
     "output_type": "stream",
     "text": [
      "\n"
     ]
    },
    {
     "data": {
      "application/vnd.jupyter.widget-view+json": {
       "model_id": "777f5eba879d45f1b355dca2c263637a",
       "version_major": 2,
       "version_minor": 0
      },
      "text/plain": [
       "HBox(children=(FloatProgress(value=0.0, max=552647.0), HTML(value='')))"
      ]
     },
     "metadata": {},
     "output_type": "display_data"
    },
    {
     "name": "stdout",
     "output_type": "stream",
     "text": [
      "\n"
     ]
    },
    {
     "data": {
      "application/vnd.jupyter.widget-view+json": {
       "model_id": "4b3410b0621f4543bd3afe13b004cf7c",
       "version_major": 2,
       "version_minor": 0
      },
      "text/plain": [
       "HBox(children=(FloatProgress(value=0.0, max=190293.0), HTML(value='')))"
      ]
     },
     "metadata": {},
     "output_type": "display_data"
    },
    {
     "name": "stdout",
     "output_type": "stream",
     "text": [
      "\n"
     ]
    },
    {
     "data": {
      "application/vnd.jupyter.widget-view+json": {
       "model_id": "81dcd83f5b124a45a6fe05f269a1b51d",
       "version_major": 2,
       "version_minor": 0
      },
      "text/plain": [
       "HBox(children=(FloatProgress(value=0.0, max=107285.0), HTML(value='')))"
      ]
     },
     "metadata": {},
     "output_type": "display_data"
    },
    {
     "name": "stdout",
     "output_type": "stream",
     "text": [
      "\n"
     ]
    },
    {
     "data": {
      "application/vnd.jupyter.widget-view+json": {
       "model_id": "45fc7457c3e64127ad5674db6970a247",
       "version_major": 2,
       "version_minor": 0
      },
      "text/plain": [
       "HBox(children=(FloatProgress(value=0.0, max=355778.0), HTML(value='')))"
      ]
     },
     "metadata": {},
     "output_type": "display_data"
    },
    {
     "name": "stdout",
     "output_type": "stream",
     "text": [
      "\n"
     ]
    },
    {
     "data": {
      "application/vnd.jupyter.widget-view+json": {
       "model_id": "e06f54b51c1f4547b432108b8188b327",
       "version_major": 2,
       "version_minor": 0
      },
      "text/plain": [
       "HBox(children=(FloatProgress(value=0.0, max=191446.0), HTML(value='')))"
      ]
     },
     "metadata": {},
     "output_type": "display_data"
    },
    {
     "name": "stdout",
     "output_type": "stream",
     "text": [
      "\n"
     ]
    },
    {
     "data": {
      "application/vnd.jupyter.widget-view+json": {
       "model_id": "fdfe20ef89c944889362ca0ca8622a17",
       "version_major": 2,
       "version_minor": 0
      },
      "text/plain": [
       "HBox(children=(FloatProgress(value=0.0, max=89773.0), HTML(value='')))"
      ]
     },
     "metadata": {},
     "output_type": "display_data"
    },
    {
     "name": "stdout",
     "output_type": "stream",
     "text": [
      "\n",
      "\n",
      "\n"
     ]
    },
    {
     "data": {
      "application/vnd.jupyter.widget-view+json": {
       "model_id": "11184f4553af4782ba2d017214c68cc4",
       "version_major": 2,
       "version_minor": 0
      },
      "text/plain": [
       "HBox(children=(FloatProgress(value=0.0, max=228906.0), HTML(value='')))"
      ]
     },
     "metadata": {},
     "output_type": "display_data"
    },
    {
     "data": {
      "application/vnd.jupyter.widget-view+json": {
       "model_id": "2046218673fc434695fc628a36f38a89",
       "version_major": 2,
       "version_minor": 0
      },
      "text/plain": [
       "HBox(children=(FloatProgress(value=0.0, max=193958.0), HTML(value='')))"
      ]
     },
     "metadata": {},
     "output_type": "display_data"
    },
    {
     "name": "stdout",
     "output_type": "stream",
     "text": [
      "\n"
     ]
    },
    {
     "data": {
      "application/vnd.jupyter.widget-view+json": {
       "model_id": "ee5270a918224cd0a3e2a5243c53ccb0",
       "version_major": 2,
       "version_minor": 0
      },
      "text/plain": [
       "HBox(children=(FloatProgress(value=0.0, max=139097.0), HTML(value='')))"
      ]
     },
     "metadata": {},
     "output_type": "display_data"
    },
    {
     "name": "stdout",
     "output_type": "stream",
     "text": [
      "\n",
      "\n"
     ]
    },
    {
     "data": {
      "application/vnd.jupyter.widget-view+json": {
       "model_id": "77050a24f3494bc49c6047df24e08048",
       "version_major": 2,
       "version_minor": 0
      },
      "text/plain": [
       "HBox(children=(FloatProgress(value=0.0, max=100452.0), HTML(value='')))"
      ]
     },
     "metadata": {},
     "output_type": "display_data"
    },
    {
     "data": {
      "application/vnd.jupyter.widget-view+json": {
       "model_id": "d7894e5dd1c34075af1ad6e914f66bb1",
       "version_major": 2,
       "version_minor": 0
      },
      "text/plain": [
       "HBox(children=(FloatProgress(value=0.0, max=718647.0), HTML(value='')))"
      ]
     },
     "metadata": {},
     "output_type": "display_data"
    },
    {
     "name": "stdout",
     "output_type": "stream",
     "text": [
      "\n",
      "\n"
     ]
    },
    {
     "data": {
      "application/vnd.jupyter.widget-view+json": {
       "model_id": "9a7bd54aaeec43f39854af3695dcefc3",
       "version_major": 2,
       "version_minor": 0
      },
      "text/plain": [
       "HBox(children=(FloatProgress(value=0.0, max=637629.0), HTML(value='')))"
      ]
     },
     "metadata": {},
     "output_type": "display_data"
    },
    {
     "name": "stdout",
     "output_type": "stream",
     "text": [
      "\n",
      "\n"
     ]
    },
    {
     "data": {
      "application/vnd.jupyter.widget-view+json": {
       "model_id": "446e06de8a4d467f9f36fa2c12bcb59f",
       "version_major": 2,
       "version_minor": 0
      },
      "text/plain": [
       "HBox(children=(FloatProgress(value=0.0, max=601465.0), HTML(value='')))"
      ]
     },
     "metadata": {},
     "output_type": "display_data"
    },
    {
     "data": {
      "application/vnd.jupyter.widget-view+json": {
       "model_id": "c9a5ee9027be40b99de5508e5be2139b",
       "version_major": 2,
       "version_minor": 0
      },
      "text/plain": [
       "HBox(children=(FloatProgress(value=0.0, max=506695.0), HTML(value='')))"
      ]
     },
     "metadata": {},
     "output_type": "display_data"
    },
    {
     "name": "stdout",
     "output_type": "stream",
     "text": [
      "\n",
      "\n"
     ]
    },
    {
     "data": {
      "application/vnd.jupyter.widget-view+json": {
       "model_id": "ecad154abc454cdeaec6e299a98699b8",
       "version_major": 2,
       "version_minor": 0
      },
      "text/plain": [
       "HBox(children=(FloatProgress(value=0.0, max=314262.0), HTML(value='')))"
      ]
     },
     "metadata": {},
     "output_type": "display_data"
    },
    {
     "data": {
      "application/vnd.jupyter.widget-view+json": {
       "model_id": "86121c6043cf48ceb2c7829ccaa20735",
       "version_major": 2,
       "version_minor": 0
      },
      "text/plain": [
       "HBox(children=(FloatProgress(value=0.0, max=373145.0), HTML(value='')))"
      ]
     },
     "metadata": {},
     "output_type": "display_data"
    },
    {
     "name": "stdout",
     "output_type": "stream",
     "text": [
      "\n",
      "\n"
     ]
    },
    {
     "data": {
      "application/vnd.jupyter.widget-view+json": {
       "model_id": "d08ce0d1a47448fd9aae37b6474460cc",
       "version_major": 2,
       "version_minor": 0
      },
      "text/plain": [
       "HBox(children=(FloatProgress(value=0.0, max=265598.0), HTML(value='')))"
      ]
     },
     "metadata": {},
     "output_type": "display_data"
    },
    {
     "data": {
      "application/vnd.jupyter.widget-view+json": {
       "model_id": "48af44b416414a318a31ca3f4e4e8d1d",
       "version_major": 2,
       "version_minor": 0
      },
      "text/plain": [
       "HBox(children=(FloatProgress(value=0.0, max=804638.0), HTML(value='')))"
      ]
     },
     "metadata": {},
     "output_type": "display_data"
    },
    {
     "name": "stdout",
     "output_type": "stream",
     "text": [
      "\n",
      "\n"
     ]
    },
    {
     "data": {
      "application/vnd.jupyter.widget-view+json": {
       "model_id": "edc20b3262e141a280e454478e326b90",
       "version_major": 2,
       "version_minor": 0
      },
      "text/plain": [
       "HBox(children=(FloatProgress(value=0.0, max=540530.0), HTML(value='')))"
      ]
     },
     "metadata": {},
     "output_type": "display_data"
    },
    {
     "data": {
      "application/vnd.jupyter.widget-view+json": {
       "model_id": "c60cdfc05c4f4e83af9d33495a20232e",
       "version_major": 2,
       "version_minor": 0
      },
      "text/plain": [
       "HBox(children=(FloatProgress(value=0.0, max=989887.0), HTML(value='')))"
      ]
     },
     "metadata": {},
     "output_type": "display_data"
    },
    {
     "name": "stdout",
     "output_type": "stream",
     "text": [
      "\n"
     ]
    },
    {
     "data": {
      "application/vnd.jupyter.widget-view+json": {
       "model_id": "2f5000d780f745fca6d70b592069d9a2",
       "version_major": 2,
       "version_minor": 0
      },
      "text/plain": [
       "HBox(children=(FloatProgress(value=0.0, max=225767.0), HTML(value='')))"
      ]
     },
     "metadata": {},
     "output_type": "display_data"
    },
    {
     "name": "stdout",
     "output_type": "stream",
     "text": [
      "\n",
      "\n"
     ]
    },
    {
     "data": {
      "application/vnd.jupyter.widget-view+json": {
       "model_id": "075fdefedb1c48b4a3fd284405e9ef54",
       "version_major": 2,
       "version_minor": 0
      },
      "text/plain": [
       "HBox(children=(FloatProgress(value=0.0, max=93255.0), HTML(value='')))"
      ]
     },
     "metadata": {},
     "output_type": "display_data"
    },
    {
     "data": {
      "application/vnd.jupyter.widget-view+json": {
       "model_id": "87568d58735044c58994d3a816aa8668",
       "version_major": 2,
       "version_minor": 0
      },
      "text/plain": [
       "HBox(children=(FloatProgress(value=0.0, max=327382.0), HTML(value='')))"
      ]
     },
     "metadata": {},
     "output_type": "display_data"
    },
    {
     "name": "stdout",
     "output_type": "stream",
     "text": [
      "\n",
      "\n"
     ]
    },
    {
     "data": {
      "application/vnd.jupyter.widget-view+json": {
       "model_id": "b86c5fd1e72d44db9e09253e79fb890c",
       "version_major": 2,
       "version_minor": 0
      },
      "text/plain": [
       "HBox(children=(FloatProgress(value=0.0, max=170689.0), HTML(value='')))"
      ]
     },
     "metadata": {},
     "output_type": "display_data"
    },
    {
     "name": "stdout",
     "output_type": "stream",
     "text": [
      "\n"
     ]
    },
    {
     "data": {
      "application/vnd.jupyter.widget-view+json": {
       "model_id": "571226785fa346b3bba1d2f043b146ec",
       "version_major": 2,
       "version_minor": 0
      },
      "text/plain": [
       "HBox(children=(FloatProgress(value=0.0, max=397243.0), HTML(value='')))"
      ]
     },
     "metadata": {},
     "output_type": "display_data"
    },
    {
     "data": {
      "application/vnd.jupyter.widget-view+json": {
       "model_id": "bd6a2971465d4c88be24b5920c7ea556",
       "version_major": 2,
       "version_minor": 0
      },
      "text/plain": [
       "HBox(children=(FloatProgress(value=0.0, max=87256.0), HTML(value='')))"
      ]
     },
     "metadata": {},
     "output_type": "display_data"
    },
    {
     "name": "stdout",
     "output_type": "stream",
     "text": [
      "\n",
      "\n",
      "\n"
     ]
    }
   ],
   "source": [
    "from multiprocessing.dummy import Pool, Lock, Queue\n",
    "with Pool(processes=8) as pool, tqdm(total=len(rest_files)) as pbar:\n",
    "    lock = pbar.get_lock()\n",
    "    pool.map(process_query_file_thread, rest_files)"
   ]
  },
  {
   "cell_type": "markdown",
   "id": "d230dffe",
   "metadata": {},
   "source": [
    "### Загрузка сессий, где есть url'и из url.data "
   ]
  },
  {
   "cell_type": "markdown",
   "id": "6e89b239",
   "metadata": {},
   "source": [
    "USE ir;  \n",
    "GO  \n",
    "IF EXISTS (SELECT name FROM sys.indexes  \n",
    "            WHERE name = N'ix_log_query_log_id_start')   \n",
    "    DROP INDEX ix_log_query_log_id_start ON dbo.log_query;   \n",
    "GO  \n",
    "CREATE NONCLUSTERED INDEX ix_log_query_log_id_start   \n",
    "    ON dbo.log_query (log_id_start);   \n",
    "GO  "
   ]
  },
  {
   "cell_type": "code",
   "execution_count": 4,
   "id": "f1533bf0",
   "metadata": {},
   "outputs": [],
   "source": [
    "import pandas as pd\n",
    "import numpy as np\n",
    "from tqdm.notebook import tqdm"
   ]
  },
  {
   "cell_type": "code",
   "execution_count": 5,
   "id": "903fa56e",
   "metadata": {},
   "outputs": [],
   "source": [
    "def get_url_wo_scheme(url):\n",
    "    prefix_scheme_list = ['http://', 'https://', 'ftp://']\n",
    "    for prefix_scheme in prefix_scheme_list:\n",
    "        if url.find(prefix_scheme) == 0:\n",
    "            url = url[len(prefix_scheme):]\n",
    "            break\n",
    "    return url"
   ]
  },
  {
   "cell_type": "code",
   "execution_count": 6,
   "id": "afd1c27b",
   "metadata": {},
   "outputs": [],
   "source": [
    "def get_url_wo_www(url):\n",
    "    prefix_www = 'www.'\n",
    "    if url.find(prefix_www) == 0:\n",
    "        url = url[len(prefix_www):]\n",
    "    return url"
   ]
  },
  {
   "cell_type": "code",
   "execution_count": 7,
   "id": "6a8f6646",
   "metadata": {},
   "outputs": [],
   "source": [
    "def get_clear_url(url):\n",
    "    url = get_url_wo_scheme(url)\n",
    "    url = get_url_wo_www(url)\n",
    "    return url"
   ]
  },
  {
   "cell_type": "code",
   "execution_count": 8,
   "id": "b361ad5e",
   "metadata": {},
   "outputs": [],
   "source": [
    "from urllib.parse import urlparse\n",
    "def get_host(url, wo_www=True):\n",
    "    if wo_www:\n",
    "        url = get_url_wo_www(url)\n",
    "    return urlparse(f\"http://{url}\").hostname.lower()"
   ]
  },
  {
   "cell_type": "code",
   "execution_count": 8,
   "id": "3e69a113",
   "metadata": {},
   "outputs": [],
   "source": [
    "url_data_df = pd.read_csv('url.data', header=None, sep='\\t')\n",
    "url_data_df.rename(columns={0: \"doc_id\", 1: \"doc_url\"}, inplace=True)"
   ]
  },
  {
   "cell_type": "code",
   "execution_count": 12,
   "id": "15a31eda",
   "metadata": {},
   "outputs": [],
   "source": [
    "tqdm.pandas()"
   ]
  },
  {
   "cell_type": "code",
   "execution_count": 13,
   "id": "e6e46aba",
   "metadata": {},
   "outputs": [
    {
     "data": {
      "application/vnd.jupyter.widget-view+json": {
       "model_id": "b2974aa8fc9447fab565c7210185d266",
       "version_major": 2,
       "version_minor": 0
      },
      "text/plain": [
       "HBox(children=(FloatProgress(value=0.0, max=582167.0), HTML(value='')))"
      ]
     },
     "metadata": {},
     "output_type": "display_data"
    },
    {
     "name": "stdout",
     "output_type": "stream",
     "text": [
      "\n"
     ]
    }
   ],
   "source": [
    "url_data_df['doc_url_corrected'] = url_data_df.progress_apply(lambda row: get_clear_url(row.doc_url), axis=1)"
   ]
  },
  {
   "cell_type": "code",
   "execution_count": 14,
   "id": "b141ef0c",
   "metadata": {},
   "outputs": [
    {
     "data": {
      "application/vnd.jupyter.widget-view+json": {
       "model_id": "88e84381d51d4ca8b1fea9811bcec0b3",
       "version_major": 2,
       "version_minor": 0
      },
      "text/plain": [
       "HBox(children=(FloatProgress(value=0.0, max=582167.0), HTML(value='')))"
      ]
     },
     "metadata": {},
     "output_type": "display_data"
    },
    {
     "name": "stdout",
     "output_type": "stream",
     "text": [
      "\n"
     ]
    }
   ],
   "source": [
    "url_data_df['host'] = url_data_df.progress_apply(lambda row: urlparse(f\"http://{row.doc_url_corrected}\").hostname, axis=1)"
   ]
  },
  {
   "cell_type": "code",
   "execution_count": 15,
   "id": "df40bcda",
   "metadata": {},
   "outputs": [],
   "source": [
    "hosts_unique = np.unique(url_data_df['host'], return_counts=False)"
   ]
  },
  {
   "cell_type": "code",
   "execution_count": 70,
   "id": "69ae4839",
   "metadata": {},
   "outputs": [],
   "source": [
    "with open('host.data', 'w') as fout:\n",
    "    fout.write('host_id,host\\n')\n",
    "    for host_id, host in enumerate(hosts_unique):\n",
    "        fout.write('{0},{1}\\n'.format(host_id + 1, host))"
   ]
  },
  {
   "cell_type": "markdown",
   "id": "6a29eab9",
   "metadata": {},
   "source": [
    "USE ir;  \n",
    "GO  \n",
    "ALTER TABLE dbo.host_data  \n",
    "ADD CONSTRAINT PK_host_data_host_id PRIMARY KEY CLUSTERED (host_id);  "
   ]
  },
  {
   "cell_type": "markdown",
   "id": "4052f049",
   "metadata": {},
   "source": [
    "USE ir;  \n",
    "GO  \n",
    "IF EXISTS (SELECT name FROM sys.indexes  \n",
    "\t\t   WHERE name = N'ix_host_data_host')  \n",
    "\t\t   DROP INDEX ix_host_data_host ON dbo.host_data;  \n",
    "GO  \n",
    "CREATE NONCLUSTERED INDEX ix_host_data_host ON dbo.host_data(host);  \n",
    "GO"
   ]
  },
  {
   "cell_type": "code",
   "execution_count": 16,
   "id": "6fc29da3",
   "metadata": {},
   "outputs": [],
   "source": [
    "host_map = {host: host_id + 1 for host_id, host in enumerate(hosts_unique)}"
   ]
  },
  {
   "cell_type": "code",
   "execution_count": 17,
   "id": "0d796649",
   "metadata": {},
   "outputs": [],
   "source": [
    "host_set = set(host_map.keys())"
   ]
  },
  {
   "cell_type": "code",
   "execution_count": 18,
   "id": "287c68f4",
   "metadata": {},
   "outputs": [
    {
     "data": {
      "application/vnd.jupyter.widget-view+json": {
       "model_id": "7667bab50f98416e8c1ec3b5184d85c5",
       "version_major": 2,
       "version_minor": 0
      },
      "text/plain": [
       "HBox(children=(FloatProgress(value=0.0, max=582167.0), HTML(value='')))"
      ]
     },
     "metadata": {},
     "output_type": "display_data"
    },
    {
     "name": "stdout",
     "output_type": "stream",
     "text": [
      "\n"
     ]
    }
   ],
   "source": [
    "url_data_df['host_id'] = url_data_df.progress_apply(lambda row: host_map[row.host], axis=1)"
   ]
  },
  {
   "cell_type": "code",
   "execution_count": 93,
   "id": "026e9557",
   "metadata": {},
   "outputs": [],
   "source": [
    "url_data_df[['doc_id', 'doc_url', 'doc_url_corrected', 'host_id']].to_csv('url_data_corrected.csv', index=False, sep='\\t')"
   ]
  },
  {
   "cell_type": "markdown",
   "id": "654547a2",
   "metadata": {},
   "source": [
    "ALTER TABLE dbo.url_data  \n",
    "ADD CONSTRAINT FK_url_host FOREIGN KEY ([host_id])  \n",
    "REFERENCES dbo.host_data ([host_id]);  "
   ]
  },
  {
   "cell_type": "code",
   "execution_count": 19,
   "id": "546a7dd3",
   "metadata": {},
   "outputs": [],
   "source": [
    "url_map = {row.doc_url: row.doc_id for _, row in url_data_df.iterrows()}"
   ]
  },
  {
   "cell_type": "code",
   "execution_count": 20,
   "id": "7e6924b2",
   "metadata": {},
   "outputs": [],
   "source": [
    "url_set = set(url_map.keys())"
   ]
  },
  {
   "cell_type": "markdown",
   "id": "e68d04b7",
   "metadata": {},
   "source": [
    "**Замечание по поводу данных:**  \n",
    "Документы 11177 (www.bluestacks.com/RU/index.html) и  \n",
    "11179 (www.bluestacks.com/ru/index.html) идентичны по тексту, отличаются лишь регистр в пути url.    \n",
    "При этом в файле с ассесорскими оценками: 6051\t11177\t4, 6051\t11179\t3"
   ]
  },
  {
   "cell_type": "code",
   "execution_count": 22,
   "id": "5d6feeb9",
   "metadata": {},
   "outputs": [],
   "source": [
    "url_data_df.to_csv('url_data_df.csv', index=False, sep='\\t')"
   ]
  },
  {
   "cell_type": "markdown",
   "id": "043eda70",
   "metadata": {},
   "source": [
    "#### Загрузка"
   ]
  },
  {
   "cell_type": "code",
   "execution_count": 9,
   "id": "f3a2ec62",
   "metadata": {},
   "outputs": [],
   "source": [
    "#подмесы\n",
    "url_ext_list = ['health_consultations', 'images', 'video', 'weather', 'answer', 'news', \n",
    "                'spritze.horoscope-common', 'map', 'recipes', 'osmino', 'app',\n",
    "                'music', 'youla_web', 'person', 'afisha', 'newstext', 'howtos',\n",
    "                'drugs', 'NONE', 'spritze.symptoms', 'torgs', 'facts']\n",
    "url_ext_list = [(s, len(f',{s}')) for s in url_ext_list]"
   ]
  },
  {
   "cell_type": "code",
   "execution_count": 10,
   "id": "8394dbfa",
   "metadata": {},
   "outputs": [],
   "source": [
    "click_data_df = pd.read_csv('click_data_df.csv', sep='\\t')\n",
    "click_data_df.sort_values(by=['query_id', 'filename', 'log_id_start'], inplace=True)"
   ]
  },
  {
   "cell_type": "code",
   "execution_count": 11,
   "id": "898ad97b",
   "metadata": {},
   "outputs": [],
   "source": [
    "train_df = pd.read_csv('train_sphinx_df.csv', sep='\\t')[['doc_id', 'query_id']]\n",
    "test_df = pd.read_csv('test_sphinx_df.csv', sep='\\t')[['doc_id', 'query_id']]"
   ]
  },
  {
   "cell_type": "code",
   "execution_count": 12,
   "id": "d61094e8",
   "metadata": {},
   "outputs": [],
   "source": [
    "import bz2\n",
    "import os\n",
    "from tqdm.notebook import tqdm\n",
    "import numpy as np\n",
    "import pandas as pd"
   ]
  },
  {
   "cell_type": "code",
   "execution_count": 19,
   "id": "59f9b0c8",
   "metadata": {},
   "outputs": [],
   "source": [
    "import helpers\n",
    "#import importlib\n",
    "#importlib.reload(helpers)"
   ]
  },
  {
   "cell_type": "code",
   "execution_count": 13,
   "id": "351a072b",
   "metadata": {},
   "outputs": [],
   "source": [
    "log_ids = helpers.load_obj('log_ids')"
   ]
  },
  {
   "cell_type": "code",
   "execution_count": 14,
   "id": "0c2ba8cf",
   "metadata": {},
   "outputs": [],
   "source": [
    "url_data_df = pd.read_csv('url_data_df.csv', sep='\\t')"
   ]
  },
  {
   "cell_type": "code",
   "execution_count": 15,
   "id": "3c5ab763",
   "metadata": {},
   "outputs": [],
   "source": [
    "hosts_unique = np.unique(url_data_df['host'], return_counts=False)\n",
    "host_map = {host: host_id + 1 for host_id, host in enumerate(hosts_unique)}\n",
    "host_set = set(host_map.keys())\n",
    "url_map = {row.doc_url: row.doc_id for _, row in url_data_df.iterrows()}\n",
    "url_set = set(url_map.keys())"
   ]
  },
  {
   "cell_type": "code",
   "execution_count": 16,
   "id": "49cad0ed",
   "metadata": {},
   "outputs": [],
   "source": [
    "def get_ext_url(url, url_ext_list):\n",
    "    pos_list = np.array(list(map(lambda url_ext: url.rfind(f',{url_ext[0]}'), url_ext_list)))\n",
    "    indices = np.argwhere(pos_list >= 0)\n",
    "    url_len = len(url)\n",
    "    if len(indices) > 0:\n",
    "        for i in indices:\n",
    "            i = i[0]\n",
    "            pos = pos_list[i]\n",
    "            suffix_len = url_ext_list[i][1]\n",
    "            url_ext = url_ext_list[i][0]\n",
    "            if pos >= 0 and pos + suffix_len == url_len:\n",
    "                return url[:pos], url_ext\n",
    "            else:\n",
    "                continue\n",
    "    return url, None\n",
    "\n",
    "def get_url_ext_list(url_str, url_ext_list=url_ext_list):\n",
    "    url_str = url_str.replace(',https://', ',http://')\n",
    "    url_str = url_str.replace(',ftp://', ',http://')\n",
    "    url_list = url_str.split(',http://')\n",
    "    ext_list = []\n",
    "    for url in url_list:\n",
    "        found_url_ext_list = []\n",
    "        cleared_url = url\n",
    "        for _ in url_ext_list:\n",
    "            cleared_url, url_ext = get_ext_url(cleared_url, url_ext_list)\n",
    "            if url_ext:\n",
    "                found_url_ext_list.append(url_ext)\n",
    "            else:\n",
    "                break\n",
    "        ext_list.append(cleared_url)\n",
    "        ext_list.extend(found_url_ext_list[::-1])\n",
    "    ext_list[0] = get_url_wo_scheme(ext_list[0])\n",
    "    return ext_list"
   ]
  },
  {
   "cell_type": "code",
   "execution_count": 17,
   "id": "ea1f8b7a",
   "metadata": {},
   "outputs": [],
   "source": [
    "def parse_log_line(line, url_set=None, host_set=None):\n",
    "    query = line.split(\"@\")[0]\n",
    "    line = line[len(query) + 1:]\n",
    "    data = line.split('\\t')\n",
    "    geoId = data[0]\n",
    "    show_list = get_url_ext_list(data[1])\n",
    "    show_host_list = list(map(lambda x: get_host(x), show_list))\n",
    "    if url_set:\n",
    "        if not set(show_list) & url_set:\n",
    "            if host_set:\n",
    "                if not set(show_host_list) & host_set:\n",
    "                    return False, None\n",
    "            else:\n",
    "                return False, None\n",
    "        \n",
    "    click_list = get_url_ext_list(data[2])\n",
    "    if len(click_list) == 0:\n",
    "        return False, None\n",
    "    time_list = list(map(int, data[3].split(',')))\n",
    "    ordered_click_dict = {click_list[i]: time_list[i] for i in np.array(time_list).argsort()}\n",
    "    ordered_click_list = list(ordered_click_dict.keys())\n",
    "    ordered_click_time_list = list(ordered_click_dict.values())\n",
    "    \n",
    "    show_dict = {}\n",
    "    for i, url in enumerate(show_list):\n",
    "        is_click = 0\n",
    "        url_id = None\n",
    "        host_id = None\n",
    "        if url in url_map:\n",
    "            url_id = url_map[url]\n",
    "        host = show_host_list[i]\n",
    "        if host in host_map:\n",
    "            host_id = host_map[host]\n",
    "        if url in ordered_click_dict:\n",
    "            is_click = 1\n",
    "        show_dict[url] = (i + 1, url_id, host_id, is_click)\n",
    "        \n",
    "    fclick_pos = show_dict[ordered_click_list[0]][0]\n",
    "    lclick_pos = show_dict[ordered_click_list[-1]][0]\n",
    "    \n",
    "    click_dict = {}\n",
    "    for i, (url, t) in enumerate(ordered_click_dict.items()):\n",
    "        url_id = None\n",
    "        host_id = None\n",
    "        if url in url_map:\n",
    "            url_id = url_map[url]\n",
    "        host = get_host(url)\n",
    "        if host in host_map:\n",
    "            host_id = host_map[host]\n",
    "        t_start = int(t / 1000)\n",
    "        if i < len(ordered_click_dict) - 1:\n",
    "            t_end = int(ordered_click_time_list[i + 1] / 1000)\n",
    "        else:\n",
    "            t_end = None\n",
    "        click_dict[url] = (i + 1, url_id, host_id, t_start, t_end)\n",
    "    \n",
    "    t_start_session = int(ordered_click_time_list[0] / 1000)\n",
    "    t_end_session = int(ordered_click_time_list[-1] / 1000)\n",
    "    return True, query, geoId, show_dict, click_dict, \\\n",
    "           fclick_pos, lclick_pos, \\\n",
    "           t_start_session, t_end_session"
   ]
  },
  {
   "cell_type": "code",
   "execution_count": 18,
   "id": "a45ab656",
   "metadata": {},
   "outputs": [],
   "source": [
    "def process_log_line(cursor, log_id, query_id, line,\n",
    "                     url_set=None,\n",
    "                     host_set=None,\n",
    "                     session_tbl='dbo.log_session_tmp', \n",
    "                     show_tbl='dbo.log_show_tmp',\n",
    "                     click_tbl='dbo.log_click_tmp', \n",
    "                     check_session_tbl=True):\n",
    "    if check_session_tbl:\n",
    "        cursor.execute(f\"select top 1 [id] FROM [ir].[dbo].[log_session] where [id] = {log_id}\")\n",
    "        row = cursor.fetchone()\n",
    "        if row:\n",
    "            return False\n",
    "        \n",
    "    res, *data = parse_log_line(line, url_set=url_set, host_set=host_set)\n",
    "    if not res:\n",
    "        return False\n",
    "\n",
    "    query = data[0]\n",
    "    geo_id = data[1]\n",
    "    show_dict = data[2]\n",
    "    click_dict = data[3]\n",
    "    fclick_pos = data[4]\n",
    "    lclick_pos = data[5]\n",
    "    t_start_session = data[6]\n",
    "    t_end_session = data[7]\n",
    "\n",
    "    cursor.execute(f\"insert into {session_tbl} \\\n",
    "                     (id, geo_id, filename, query_id, t_start, t_end, fclick_pos, lclick_pos) \\\n",
    "                     values(?,?,?,?,?,?,?,?)\", \n",
    "                     log_id, geo_id, filename, \n",
    "                     query_id, t_start_session, t_end_session,\n",
    "                     fclick_pos, lclick_pos)\n",
    "    for url, (pos, url_id, host_id, is_click) in show_dict.items():\n",
    "        cursor.execute(f\"insert into {show_tbl} (session_id, pos, url_id, is_click,\\\n",
    "                         host_id) values(?,?,?,?,?)\", \n",
    "                         log_id, pos, url_id, is_click, host_id)\n",
    "    for url, (pos, url_id, host_id, t_start, t_end) in click_dict.items():\n",
    "        cursor.execute(f\"insert into {click_tbl} (session_id, pos, url_id, host_id, t_start, t_end) \\\n",
    "                         values(?,?,?,?,?,?)\", \n",
    "                         log_id, pos, url_id, host_id, t_start, t_end)\n",
    "    return True"
   ]
  },
  {
   "cell_type": "code",
   "execution_count": 47,
   "id": "bf81e4ca",
   "metadata": {},
   "outputs": [],
   "source": [
    "def process_file_by_query_thread(filename, \n",
    "                                 session_tbl='dbo.log_session_tmp', \n",
    "                                 show_tbl='dbo.log_show_tmp',\n",
    "                                 click_tbl='dbo.log_click_tmp',\n",
    "                                 check_session_tbl=True):\n",
    "    try:\n",
    "        process_file_by_query(filename, file_filter_dict[filename], \n",
    "                              session_tbl=session_tbl, \n",
    "                              show_tbl=show_tbl,\n",
    "                              click_tbl=click_tbl,\n",
    "                              check_session_tbl=check_session_tbl)\n",
    "    except:\n",
    "        print(filename)\n",
    "    # счетчик должен атомарно обновиться\n",
    "    with lock:\n",
    "        pbar.update(1)"
   ]
  },
  {
   "cell_type": "code",
   "execution_count": 48,
   "id": "f9133079",
   "metadata": {},
   "outputs": [],
   "source": [
    "def process_file_by_query(filename, log_id_start_dict, \n",
    "                          session_tbl='dbo.log_session_tmp', \n",
    "                          show_tbl='dbo.log_show_tmp',\n",
    "                          click_tbl='dbo.log_click_tmp', \n",
    "                          check_session_tbl=True, debug=False):\n",
    "    if file_dict[filename]:\n",
    "        return\n",
    "    log_id_file = log_ids[filename][0]\n",
    "    with bz2.open(os.path.join(\"2017\", filename), \"rb\") as f:\n",
    "        lines = f.readlines()\n",
    "    \n",
    "    log_id = log_id_file\n",
    "    prev_query = ''\n",
    "    log_id_start_list = sorted(log_id_start_dict.keys())\n",
    "    log_id_start_idx = 0\n",
    "    log_id_q = log_id_start_list[log_id_start_idx]\n",
    "    q_dict = log_id_start_dict[log_id_q]\n",
    "    with helpers.get_sql_conn() as conn, conn.cursor() as cursor:\n",
    "        for line_ind, line in enumerate(lines):\n",
    "            if log_id < log_id_q:\n",
    "                log_id = log_id + 1\n",
    "                continue\n",
    "            try:\n",
    "                line = line.decode('utf-8').rstrip('\\n')\n",
    "                query = line.split(\"@\")[0]\n",
    "                if q_dict['search_query'] != query:\n",
    "                    if log_id_start_idx + 1 < len(log_id_start_list):\n",
    "                        log_id_start_idx = log_id_start_idx + 1\n",
    "                        log_id_q = log_id_start_list[log_id_start_idx]\n",
    "                        if log_id == log_id_q:\n",
    "                            q_dict = log_id_start_dict[log_id_q]\n",
    "                            #host_list = list(map(lambda x: get_host(x), search_urls))\n",
    "                            #search_host_set = set(host_list)\n",
    "                        else:\n",
    "                            log_id = log_id + 1\n",
    "                            continue\n",
    "                    else:\n",
    "                        break\n",
    "                    \n",
    "                process_log_line(cursor, log_id, q_dict['search_query_id'], line, \n",
    "                                 url_set=set(q_dict['urls']), host_set=None,\n",
    "                                 session_tbl=session_tbl, \n",
    "                                 show_tbl=show_tbl,\n",
    "                                 click_tbl=click_tbl, \n",
    "                                 check_session_tbl=check_session_tbl)\n",
    "                \n",
    "                if line_ind % 10_000 == 0:\n",
    "                    conn.commit()\n",
    "            except:\n",
    "                print(filename, log_id, q_dict['search_query_id'])\n",
    "                if debug:\n",
    "                    return line, log_id, q_dict['search_query_id']\n",
    "            log_id = log_id + 1\n",
    "        conn.commit()\n",
    "    file_dict[filename] = True"
   ]
  },
  {
   "cell_type": "markdown",
   "id": "ef0e9695",
   "metadata": {},
   "source": [
    "SET ANSI_NULLS ON  \n",
    "GO  \n",
    "\n",
    "SET QUOTED_IDENTIFIER ON  \n",
    "GO  \n",
    "\n",
    "CREATE TABLE [dbo].[log_session_tmp](  \n",
    "\t[id] [int] NOT NULL,  \n",
    "\t[query] [nvarchar](max) NULL,  \n",
    "\t[geo_id] [int] NOT NULL,  \n",
    "\t[query_id] [int] NULL,  \n",
    "\t[t_start] [bigint] NULL,  \n",
    "\t[t_end] [bigint] NULL,  \n",
    "\t[fclick_pos] [tinyint] NULL,  \n",
    "\t[lclick_pos] [tinyint] NULL,  \n",
    "\t[filename] [varchar](200) NULL,  \n",
    ") ON [PRIMARY] TEXTIMAGE_ON [PRIMARY]  \n",
    "GO  \n",
    "\n",
    "CREATE TABLE [dbo].[log_show_tmp](  \n",
    "\t[session_id] [int] NOT NULL,  \n",
    "\t[pos] [tinyint] NOT NULL,  \n",
    "\t[url_id] [int] NULL,  \n",
    "\t[is_click] [bit] NULL,  \n",
    "\t[host_id] [int] NULL,  \n",
    "\t[cm_is_skip] [bit] NULL,  \n",
    "\t[cm_is_not_seen] [bit] NULL  \n",
    ") ON [PRIMARY]  \n",
    "GO  \n",
    "\n",
    "CREATE TABLE [dbo].[log_click_tmp](  \n",
    "\t[session_id] [int] NOT NULL,  \n",
    "\t[pos] [tinyint] NOT NULL,  \n",
    "\t[url_id] [int] NULL,  \n",
    "\t[t_start] [bigint] NULL,  \n",
    "\t[t_end] [bigint] NULL,  \n",
    "\t[host_id] [int] NULL  \n",
    ") ON [PRIMARY]  \n",
    "GO  "
   ]
  },
  {
   "cell_type": "code",
   "execution_count": 43,
   "id": "a7810a1f",
   "metadata": {},
   "outputs": [],
   "source": [
    "def process_file_by_url_thread(filename):\n",
    "    try:\n",
    "        process_file_by_url(filename)\n",
    "    except:\n",
    "        print(filename)\n",
    "    # счетчик должен атомарно обновиться\n",
    "    with lock:\n",
    "        pbar.update(1)"
   ]
  },
  {
   "cell_type": "code",
   "execution_count": 42,
   "id": "575cbe9a",
   "metadata": {},
   "outputs": [],
   "source": [
    "def process_file_by_url(filename, log_id_start=0,\n",
    "                        session_tbl='dbo.log_session_tmp', \n",
    "                        show_tbl='dbo.log_show_tmp',\n",
    "                        click_tbl='dbo.log_click_tmp', \n",
    "                        check_session_tbl=True, debug=False):\n",
    "    if file_dict[filename]:\n",
    "        return\n",
    "    log_id_file = log_ids[filename][0]\n",
    "    with bz2.open(os.path.join(\"2017\", filename), \"rb\") as f:\n",
    "        lines = f.readlines()\n",
    "    \n",
    "    log_id = log_id_file + log_id_start\n",
    "    prev_query = ''\n",
    "    with helpers.get_sql_conn() as conn, conn.cursor() as cursor:\n",
    "        for line_ind, line in tqdm(enumerate(lines[log_id_start:]), total=len(lines[log_id_start:])):\n",
    "            try:\n",
    "                line = line.decode('utf-8').rstrip('\\n')\n",
    "                query = line.split(\"@\")[0]\n",
    "                if prev_query != query:\n",
    "                    cursor.execute(f\"select top 1 [id] FROM [ir].[dbo].[log_query] where [log_id_start] = {log_id}\")\n",
    "                    row = cursor.fetchone()\n",
    "                    query_id = row[0]\n",
    "                    prev_query = query\n",
    "                    \n",
    "                process_log_line(log_id, query_id, line, \n",
    "                                 url_set=url_set, host_set=None,\n",
    "                                 session_tbl=session_tbl, \n",
    "                                 show_tbl=show_tbl,\n",
    "                                 click_tbl=click_tbl, \n",
    "                                 check_session_tbl=check_session_tbl)\n",
    "\n",
    "                if line_ind % 10_000 == 0:\n",
    "                    conn.commit()\n",
    "            except:\n",
    "                print(filename, log_id, query_id)\n",
    "                if debug:\n",
    "                    return line, log_id, query_id\n",
    "            log_id = log_id + 1\n",
    "        conn.commit()\n",
    "    file_dict[filename] = True"
   ]
  },
  {
   "cell_type": "code",
   "execution_count": 21,
   "id": "8b1fff19",
   "metadata": {},
   "outputs": [
    {
     "data": {
      "text/plain": [
       "(54539, 7)"
      ]
     },
     "execution_count": 21,
     "metadata": {},
     "output_type": "execute_result"
    }
   ],
   "source": [
    "click_data_df[click_data_df.sim_q >= 0.5].shape"
   ]
  },
  {
   "cell_type": "code",
   "execution_count": 22,
   "id": "acfacdf8",
   "metadata": {},
   "outputs": [],
   "source": [
    "click_data_sim_q_df = click_data_df[click_data_df.sim_q >= 0.3]"
   ]
  },
  {
   "cell_type": "code",
   "execution_count": 23,
   "id": "50277f02",
   "metadata": {},
   "outputs": [],
   "source": [
    "files_unique = np.unique(click_data_sim_q_df['filename'], return_counts=False)\n",
    "from collections import defaultdict\n",
    "file_filter_dict = defaultdict(dict)"
   ]
  },
  {
   "cell_type": "code",
   "execution_count": 24,
   "id": "976a67a5",
   "metadata": {},
   "outputs": [
    {
     "data": {
      "application/vnd.jupyter.widget-view+json": {
       "model_id": "324d1c3883a243aebc2b6a2d27c18462",
       "version_major": 2,
       "version_minor": 0
      },
      "text/plain": [
       "HBox(children=(FloatProgress(value=0.0, max=2111.0), HTML(value='')))"
      ]
     },
     "metadata": {},
     "output_type": "display_data"
    },
    {
     "name": "stdout",
     "output_type": "stream",
     "text": [
      "\n"
     ]
    }
   ],
   "source": [
    "qids_unique = np.unique(train_df['query_id'], return_counts=False)\n",
    "for qid in tqdm(qids_unique, total=len(qids_unique)):\n",
    "    dids = train_df[train_df.query_id == qid].doc_id.values\n",
    "    urls = url_data_df.loc[url_data_df['doc_id'].isin(dids)].doc_url.values\n",
    "    click_data_q_df = click_data_sim_q_df[click_data_sim_q_df.query_id == qid]\n",
    "    for _, row in click_data_q_df.iterrows():\n",
    "        file_filter_dict[row.filename][row.log_id_start] = {'session_query_id': row.query_id, \n",
    "                                                            'search_query_id': row.c_query_id,\n",
    "                                                            'search_query'  : row.c_query, \n",
    "                                                            'urls': urls}"
   ]
  },
  {
   "cell_type": "code",
   "execution_count": 25,
   "id": "72a9cf48",
   "metadata": {},
   "outputs": [
    {
     "data": {
      "application/vnd.jupyter.widget-view+json": {
       "model_id": "c84b0837814a4fa8b218f4793d9d4d36",
       "version_major": 2,
       "version_minor": 0
      },
      "text/plain": [
       "HBox(children=(FloatProgress(value=0.0, max=4200.0), HTML(value='')))"
      ]
     },
     "metadata": {},
     "output_type": "display_data"
    },
    {
     "name": "stdout",
     "output_type": "stream",
     "text": [
      "\n"
     ]
    }
   ],
   "source": [
    "qids_unique = np.unique(test_df['query_id'], return_counts=False)\n",
    "for qid in tqdm(qids_unique, total=len(qids_unique)):\n",
    "    dids = test_df[test_df.query_id == qid].doc_id.values\n",
    "    urls = url_data_df.loc[url_data_df['doc_id'].isin(dids)].doc_url.values\n",
    "    click_data_q_df = click_data_sim_q_df[click_data_sim_q_df.query_id == qid]\n",
    "    for _, row in click_data_q_df.iterrows():\n",
    "        file_filter_dict[row.filename][row.log_id_start] = {'session_query_id': row.query_id, \n",
    "                                                            'search_query_id': row.c_query_id,\n",
    "                                                            'search_query'  : row.c_query, \n",
    "                                                            'urls': urls}"
   ]
  },
  {
   "cell_type": "code",
   "execution_count": 26,
   "id": "a94ed5c4",
   "metadata": {},
   "outputs": [],
   "source": [
    "file_filter_dict = {k: v for k, v in file_filter_dict.items()}\n",
    "file_dict = {k: False for k in file_filter_dict.keys()}\n",
    "file_list = list(file_filter_dict.keys())"
   ]
  },
  {
   "cell_type": "code",
   "execution_count": 55,
   "id": "8143d76a",
   "metadata": {},
   "outputs": [],
   "source": [
    "with open('file_errors.txt', 'r') as fin:\n",
    "    file_errors = fin.readlines()\n",
    "file_errors = list(set(file_errors))\n",
    "file_errors = [f.rstrip('\\n') for f in file_errors]"
   ]
  },
  {
   "cell_type": "markdown",
   "id": "7f2ea7d9",
   "metadata": {},
   "source": [
    "USE [ir]  \n",
    "GO  \n",
    "\n",
    "SET ANSI_NULLS ON  \n",
    "GO  \n",
    "\n",
    "SET QUOTED_IDENTIFIER ON  \n",
    "GO  \n",
    "\n",
    "CREATE TABLE [log].[session](  \n",
    "\t[id] [int] NOT NULL,  \n",
    "\t[query] [nvarchar](max) NULL,  \n",
    "\t[geo_id] [int] NOT NULL,  \n",
    "\t[query_id] [int] NULL,  \n",
    "\t[t_start] [bigint] NULL,  \n",
    "\t[t_end] [bigint] NULL,  \n",
    "\t[fclick_pos] [tinyint] NULL,  \n",
    "\t[lclick_pos] [tinyint] NULL,  \n",
    "\t[filename] [varchar](200) NULL  \n",
    ") ON [PRIMARY] TEXTIMAGE_ON [PRIMARY]  \n",
    "GO  \n",
    "\n",
    "CREATE TABLE [log].[show](  \n",
    "\t[session_id] [int] NOT NULL,  \n",
    "\t[pos] [tinyint] NOT NULL,  \n",
    "\t[url_id] [int] NULL,  \n",
    "\t[is_click] [bit] NULL,  \n",
    "\t[host_id] [int] NULL,  \n",
    "\t[cm_is_skip] [bit] NULL,  \n",
    "\t[cm_is_not_seen] [bit] NULL  \n",
    ") ON [PRIMARY]  \n",
    "GO  \n",
    "\n",
    "CREATE TABLE [log].[click](  \n",
    "\t[session_id] [int] NOT NULL,  \n",
    "\t[pos] [tinyint] NOT NULL,  \n",
    "\t[url_id] [int] NULL,  \n",
    "\t[t_start] [bigint] NULL,  \n",
    "\t[t_end] [bigint] NULL,  \n",
    "\t[host_id] [int] NULL  \n",
    ") ON [PRIMARY]  \n",
    "GO  "
   ]
  },
  {
   "cell_type": "code",
   "execution_count": 27,
   "id": "b67bd61f",
   "metadata": {},
   "outputs": [
    {
     "data": {
      "application/vnd.jupyter.widget-view+json": {
       "model_id": "3936d66f183243c3a30cc8fa68244b7c",
       "version_major": 2,
       "version_minor": 0
      },
      "text/plain": [
       "HBox(children=(FloatProgress(value=0.0, max=1419.0), HTML(value='')))"
      ]
     },
     "metadata": {},
     "output_type": "display_data"
    },
    {
     "name": "stdout",
     "output_type": "stream",
     "text": [
      "part-m-00525.bz2 145094446 26675480\n",
      "part-m-00525.bz2 145094449 26675480\n",
      "part-m-00752.bz2 207686876 35419716\n",
      "part-m-00752.bz2 207686877 35419716\n",
      "part-m-00752.bz2 207686878 35419716\n",
      "part-m-00752.bz2 207686880 35419716\n",
      "part-m-00752.bz2 207686881 35419716\n",
      "part-m-00752.bz2 207686882 35419716\n",
      "part-m-01010.bz2 310171520 39074073\n",
      "part-m-01010.bz2 310171522 39074073\n",
      "part-m-01010.bz2 310309503 39402974\n",
      "part-m-01010.bz2 310309506 39402974\n",
      "part-m-00526.bz2 145549000 27305935\n",
      "part-m-00526.bz2 145549002 27305935\n",
      "part-m-00526.bz2 145745658 27680617\n",
      "part-m-00526.bz2 145745660 27680617\n",
      "part-m-00527.bz2 146006106 28180752\n",
      "part-m-00527.bz2 146006108 28180752\n",
      "part-m-00527.bz2 146093015 28391761\n",
      "part-m-00527.bz2 146093016 28391761\n",
      "part-m-00527.bz2 146093018 28391761\n",
      "part-m-00527.bz2 146093019 28391761\n",
      "part-m-00527.bz2 146098227 28405015\n",
      "part-m-00527.bz2 146098228 28405015\n",
      "part-m-00527.bz2 146098229 28405015\n",
      "part-m-00527.bz2 146098230 28405015\n",
      "part-m-00527.bz2 146098231 28405015\n",
      "part-m-00527.bz2 146098232 28405015\n",
      "part-m-00527.bz2 146098233 28405015\n",
      "part-m-00527.bz2 146098234 28405015\n",
      "part-m-00527.bz2 146098235 28405015\n",
      "part-m-00527.bz2 146098236 28405015\n",
      "part-m-00527.bz2 146098237 28405015\n",
      "part-m-00527.bz2 146098238 28405015\n",
      "part-m-00527.bz2 146098239 28405015\n",
      "part-m-00527.bz2 146098240 28405015\n",
      "part-m-00527.bz2 146098241 28405015\n",
      "part-m-00527.bz2 146098242 28405015\n",
      "part-m-00527.bz2 146098243 28405015\n",
      "part-m-00527.bz2 146098244 28405015\n",
      "part-m-00527.bz2 146098245 28405015\n",
      "part-m-00444.bz2 119026945 586676\n",
      "part-m-00444.bz2 119026949 586676\n",
      "part-m-00528.bz2 146116754 28526850\n",
      "part-m-00528.bz2 146116756 28526850\n",
      "part-m-01548.bz2 480394315 60603872\n",
      "part-m-01548.bz2 480394317 60603872\n",
      "part-m-00779.bz2 230820117 69804851\n",
      "part-m-00779.bz2 230820119 69804851\n",
      "part-m-00779.bz2 230820121 69804851\n",
      "part-m-00779.bz2 231100947 70120747\n",
      "part-m-00748.bz2 204393940 27733729\n",
      "part-m-00748.bz2 204393941 27733729\n",
      "part-m-01565.bz2 487393378 63896525\n",
      "part-m-00797.bz2 244606124 39608213\n",
      "part-m-00797.bz2 244606127 39608213\n",
      "part-m-00797.bz2 244610856 39616378\n",
      "part-m-00797.bz2 244610857 39616378\n",
      "part-m-00797.bz2 244610858 39616378\n",
      "part-m-00797.bz2 244610860 39616378\n",
      "part-m-00797.bz2 244610861 39616378\n",
      "part-m-00797.bz2 244610862 39616378\n",
      "part-m-00797.bz2 244610863 39616378\n",
      "part-m-00797.bz2 244610864 39616378\n",
      "part-m-00797.bz2 244610865 39616378\n",
      "part-m-00797.bz2 244610866 39616378\n",
      "part-m-00797.bz2 244610867 39616378\n",
      "part-m-00797.bz2 244610868 39616378\n",
      "part-m-00797.bz2 244610869 39616378\n",
      "part-m-00797.bz2 244610870 39616378\n",
      "part-m-00797.bz2 244610871 39616378\n",
      "part-m-00797.bz2 244802752 39877183\n",
      "part-m-00797.bz2 244802755 39877183\n",
      "part-m-00797.bz2 244802758 39877183\n",
      "part-m-00635.bz2 174180411 25808989\n",
      "part-m-00635.bz2 174180412 25808989\n",
      "part-m-00635.bz2 174180414 25808989\n",
      "part-m-00635.bz2 174180415 25808989\n",
      "part-m-00635.bz2 174180417 25808989\n",
      "part-m-00635.bz2 174180418 25808989\n",
      "part-m-00635.bz2 174180419 25808989\n",
      "part-m-00635.bz2 174180420 25808989\n",
      "part-m-00635.bz2 174203274 25879094\n",
      "part-m-00635.bz2 174203276 25879094\n",
      "part-m-00530.bz2 146937212 30951934\n",
      "part-m-00530.bz2 146937213 30951934\n",
      "part-m-00530.bz2 146937214 30951934\n",
      "part-m-00530.bz2 146937215 30951934\n",
      "part-m-00530.bz2 146937216 30951934\n",
      "part-m-00530.bz2 146937217 30951934\n",
      "part-m-00530.bz2 146937218 30951934\n",
      "part-m-00530.bz2 146937221 30951934\n",
      "part-m-00530.bz2 146937222 30951934\n",
      "part-m-00530.bz2 146937226 30951934\n",
      "part-m-00530.bz2 146937227 30951934\n",
      "part-m-00530.bz2 146937228 30951934\n",
      "part-m-00530.bz2 146937230 30951934\n",
      "part-m-01337.bz2 425116680 52611235\n",
      "part-m-01337.bz2 425116681 52611235\n",
      "part-m-00797.bz2 245576616 40347152\n",
      "part-m-00797.bz2 245576618 40347152\n",
      "part-m-00797.bz2 245612463 40382030\n",
      "part-m-00797.bz2 245612465 40382030\n",
      "part-m-00791.bz2 239836099 32551118\n",
      "part-m-00908.bz2 279278049 25643233\n",
      "part-m-00908.bz2 279278050 25643233\n",
      "part-m-00440.bz2 116475964 13079348\n",
      "part-m-00440.bz2 116475965 13079348\n",
      "part-m-00440.bz2 116475967 13079348\n",
      "part-m-00490.bz2 134538535 15505391\n",
      "part-m-00490.bz2 134538537 15505391\n",
      "part-m-00792.bz2 241094557 34377389\n",
      "part-m-00792.bz2 241094560 34377389\n",
      "part-m-00757.bz2 212106116 44247548\n",
      "part-m-00757.bz2 212106117 44247548\n",
      "part-m-00757.bz2 212106118 44247548\n",
      "part-m-00757.bz2 212106119 44247548\n",
      "part-m-00749.bz2 204723063 28673414\n",
      "part-m-00749.bz2 204723064 28673414\n",
      "part-m-00749.bz2 204723066 28673414\n",
      "part-m-00749.bz2 204723067 28673414\n",
      "part-m-00767.bz2 222284880 56860891\n",
      "part-m-00767.bz2 222284881 56860891\n",
      "part-m-00767.bz2 222284883 56860891\n",
      "part-m-00767.bz2 222284884 56860891\n",
      "part-m-00767.bz2 222540542 57045841\n",
      "part-m-00767.bz2 222540544 57045841\n",
      "part-m-00767.bz2 222540556 57045841\n",
      "part-m-00767.bz2 222540557 57045841\n",
      "part-m-00767.bz2 222540558 57045841\n",
      "part-m-00767.bz2 222540560 57045841\n",
      "part-m-00767.bz2 222540561 57045841\n",
      "part-m-00767.bz2 222540563 57045841\n",
      "part-m-00767.bz2 222540564 57045841\n",
      "part-m-00767.bz2 222540571 57045841\n",
      "part-m-00507.bz2 140240174 21231455\n",
      "part-m-00507.bz2 140240176 21231455\n",
      "part-m-00770.bz2 224493271 59654272\n",
      "part-m-00749.bz2 205515843 30291803\n",
      "part-m-00749.bz2 205515846 30291803\n",
      "part-m-00529.bz2 146640962 30079560\n",
      "part-m-00529.bz2 146640964 30079560\n",
      "part-m-00801.bz2 248326871 44820020\n",
      "part-m-00801.bz2 248326873 44820020\n",
      "part-m-01162.bz2 358152533 39834658\n",
      "part-m-01162.bz2 358152534 39834658\n",
      "part-m-01162.bz2 358152535 39834658\n",
      "part-m-01162.bz2 358152536 39834658\n",
      "part-m-01162.bz2 358152537 39834658\n",
      "part-m-01162.bz2 358152538 39834658\n",
      "part-m-01162.bz2 358152539 39834658\n",
      "part-m-01162.bz2 358152540 39834658\n",
      "part-m-01162.bz2 358152541 39834658\n",
      "part-m-01162.bz2 358152542 39834658\n",
      "part-m-01162.bz2 358152543 39834658\n",
      "part-m-01162.bz2 358152544 39834658\n",
      "part-m-01162.bz2 358152547 39834660\n",
      "part-m-01162.bz2 358152548 39834660\n",
      "part-m-01162.bz2 358152571 39834689\n",
      "part-m-01162.bz2 358152572 39834689\n",
      "part-m-00795.bz2 243422379 37576925\n",
      "part-m-00795.bz2 243422380 37576925\n",
      "part-m-00795.bz2 243422383 37576925\n",
      "part-m-00795.bz2 243422384 37576925\n",
      "part-m-00795.bz2 243422385 37576925\n",
      "part-m-00801.bz2 249281907 45846589\n",
      "part-m-00801.bz2 249281920 45846589\n",
      "part-m-00801.bz2 249281921 45846589\n",
      "part-m-00801.bz2 249281922 45846589\n",
      "part-m-00801.bz2 249281923 45846589\n",
      "part-m-00801.bz2 249281924 45846589\n",
      "part-m-00801.bz2 249282017 45846589\n",
      "part-m-00801.bz2 249282018 45846589\n",
      "part-m-00750.bz2 206184195 31851512\n",
      "part-m-00750.bz2 206184197 31851512\n",
      "part-m-00747.bz2 203863829 26343141\n",
      "part-m-00747.bz2 203863830 26343141\n",
      "part-m-00747.bz2 203863831 26343141\n",
      "part-m-00747.bz2 203863832 26343141\n",
      "part-m-00747.bz2 203863833 26343141\n",
      "part-m-00747.bz2 203863834 26343141\n",
      "part-m-00747.bz2 203863835 26343141\n",
      "part-m-00747.bz2 203863836 26343141\n",
      "part-m-00747.bz2 203863837 26343141\n",
      "part-m-00747.bz2 203863838 26343141\n",
      "part-m-00747.bz2 203863839 26343141\n",
      "part-m-00747.bz2 203863840 26343141\n",
      "part-m-00747.bz2 203863841 26343141\n",
      "part-m-00747.bz2 203863842 26343141\n",
      "part-m-00747.bz2 203863843 26343141\n",
      "part-m-00747.bz2 203863844 26343141\n",
      "part-m-00747.bz2 203863845 26343141\n",
      "part-m-00747.bz2 203863847 26343141\n",
      "part-m-00747.bz2 203863848 26343141\n",
      "part-m-00747.bz2 203863849 26343141\n",
      "part-m-00747.bz2 203863850 26343141\n",
      "part-m-00747.bz2 203863851 26343141\n",
      "part-m-00747.bz2 203863852 26343141\n",
      "part-m-00747.bz2 203863853 26343141\n",
      "part-m-00747.bz2 203863854 26343141\n",
      "part-m-00747.bz2 203863855 26343141\n",
      "part-m-00747.bz2 203863856 26343141\n",
      "part-m-00747.bz2 203863857 26343141\n",
      "part-m-00747.bz2 203863858 26343141\n",
      "part-m-00747.bz2 203863859 26343141\n",
      "part-m-00747.bz2 203863860 26343141\n",
      "part-m-00747.bz2 203863861 26343141\n",
      "part-m-00747.bz2 203863862 26343141\n",
      "part-m-00747.bz2 203863863 26343141\n",
      "part-m-00747.bz2 203863864 26343141\n",
      "part-m-00747.bz2 203863865 26343141\n",
      "part-m-00747.bz2 203863866 26343141\n",
      "part-m-00747.bz2 203863867 26343141\n",
      "part-m-00747.bz2 203863868 26343141\n",
      "part-m-00747.bz2 203863869 26343141\n",
      "part-m-00787.bz2 236860512 26466945\n",
      "part-m-00787.bz2 236860514 26466945\n",
      "part-m-00787.bz2 236860515 26466945\n",
      "part-m-00787.bz2 236860516 26466945\n",
      "part-m-00787.bz2 236860517 26466945\n",
      "part-m-00787.bz2 236860518 26466945\n",
      "part-m-00787.bz2 236860519 26466945\n",
      "part-m-01850.bz2 538757496 70388330\n",
      "part-m-01850.bz2 538757557 70388330\n",
      "part-m-00768.bz2 222944936 56682722\n",
      "part-m-00768.bz2 222944937 56682722\n",
      "part-m-00768.bz2 222944938 56682722\n",
      "part-m-00768.bz2 222944940 56682722\n",
      "part-m-00768.bz2 222944941 56682722\n",
      "part-m-00768.bz2 222944942 56682722\n"
     ]
    },
    {
     "name": "stdout",
     "output_type": "stream",
     "text": [
      "part-m-00768.bz2 223202187 56903575\n",
      "part-m-00768.bz2 223202188 56903575\n",
      "part-m-00778.bz2 229607387 68055482\n",
      "part-m-00778.bz2 229607388 68055482\n",
      "part-m-00569.bz2 158357597 18276095\n",
      "part-m-00569.bz2 158357599 18276095\n",
      "part-m-00604.bz2 164184636 29118606\n",
      "part-m-00604.bz2 164184637 29118606\n",
      "part-m-00604.bz2 164184638 29118606\n",
      "part-m-00604.bz2 164184639 29118606\n",
      "part-m-00604.bz2 164184640 29118606\n",
      "part-m-00604.bz2 164184641 29118606\n",
      "part-m-00604.bz2 164184642 29118606\n",
      "part-m-00604.bz2 164184643 29118606\n",
      "part-m-00604.bz2 164184644 29118606\n",
      "part-m-00604.bz2 164184645 29118606\n",
      "part-m-00604.bz2 164184647 29118606\n",
      "part-m-00604.bz2 164184648 29118606\n",
      "part-m-00604.bz2 164184649 29118606\n",
      "part-m-00604.bz2 164184650 29118606\n",
      "part-m-00604.bz2 164184651 29118606\n",
      "part-m-00604.bz2 164184652 29118606\n",
      "part-m-00604.bz2 164184653 29118606\n",
      "part-m-00604.bz2 164184654 29118606\n",
      "part-m-00604.bz2 164184655 29118606\n",
      "part-m-00604.bz2 164184656 29118606\n",
      "part-m-00604.bz2 164184657 29118606\n",
      "part-m-00604.bz2 164184658 29118606\n",
      "part-m-00604.bz2 164184659 29118606\n",
      "part-m-00604.bz2 164184660 29118606\n",
      "part-m-00604.bz2 164184661 29118606\n",
      "part-m-00604.bz2 164184662 29118606\n",
      "part-m-00604.bz2 164184663 29118606\n",
      "part-m-00604.bz2 164184664 29118606\n",
      "part-m-00604.bz2 164184665 29118606\n",
      "part-m-00604.bz2 164184666 29118606\n",
      "part-m-00604.bz2 164184667 29118606\n",
      "part-m-00604.bz2 164184668 29118606\n",
      "part-m-00604.bz2 164184669 29118606\n",
      "part-m-00604.bz2 164184670 29118606\n",
      "part-m-00604.bz2 164184671 29118606\n",
      "part-m-00604.bz2 164184672 29118606\n",
      "part-m-00604.bz2 164184673 29118606\n",
      "part-m-00604.bz2 164184674 29118606\n",
      "part-m-00604.bz2 164184675 29118606\n",
      "part-m-00604.bz2 164184677 29118606\n",
      "part-m-00604.bz2 164184678 29118606\n",
      "part-m-00604.bz2 164184680 29118606\n",
      "part-m-00756.bz2 210392323 41630747\n",
      "part-m-00756.bz2 210392324 41630747\n",
      "part-m-00756.bz2 210392325 41630747\n",
      "part-m-00756.bz2 210392326 41630747\n",
      "part-m-00756.bz2 210392327 41630747\n",
      "part-m-00756.bz2 210392328 41630747\n",
      "part-m-00756.bz2 210392330 41630747\n",
      "part-m-00756.bz2 210392331 41630747\n",
      "part-m-00756.bz2 210392332 41630747\n",
      "part-m-00756.bz2 210392334 41630747\n",
      "part-m-00756.bz2 210392335 41630747\n",
      "part-m-00756.bz2 210392336 41630747\n",
      "part-m-00756.bz2 210392337 41630747\n",
      "part-m-00756.bz2 210392338 41630747\n",
      "part-m-00756.bz2 210392339 41630747\n",
      "part-m-00756.bz2 210392340 41630747\n",
      "part-m-00756.bz2 210392341 41630747\n",
      "part-m-00756.bz2 210392342 41630747\n",
      "part-m-00756.bz2 210392343 41630747\n",
      "part-m-00756.bz2 210573154 41849323\n",
      "part-m-00756.bz2 210573155 41849323\n",
      "part-m-00763.bz2 218195563 54139474\n",
      "part-m-00763.bz2 218195565 54139474\n",
      "part-m-00760.bz2 214442725 48068482\n",
      "part-m-00760.bz2 214442726 48068482\n",
      "part-m-00763.bz2 218497820 54523244\n",
      "part-m-00763.bz2 218497822 54523244\n",
      "part-m-00760.bz2 215242446 49157827\n",
      "part-m-00760.bz2 215242458 49157827\n",
      "part-m-00782.bz2 233071967 20617578\n",
      "part-m-00782.bz2 233071968 20617578\n",
      "part-m-00782.bz2 233071969 20617578\n",
      "part-m-00782.bz2 233071975 20617578\n",
      "part-m-00782.bz2 233071976 20617578\n",
      "part-m-00782.bz2 233071979 20617578\n",
      "part-m-00782.bz2 233183063 20837216\n",
      "part-m-00782.bz2 233183065 20837216\n",
      "part-m-00784.bz2 235374114 23964101\n",
      "part-m-00784.bz2 235374134 23964101\n",
      "part-m-00784.bz2 235374135 23964101\n",
      "part-m-00784.bz2 235374162 23964101\n",
      "part-m-00784.bz2 235374180 23965133\n",
      "part-m-00784.bz2 235374188 23965133\n",
      "part-m-00800.bz2 247281124 43335239\n",
      "part-m-00800.bz2 248145331 44386145\n",
      "part-m-00800.bz2 248145333 44386145\n",
      "part-m-00800.bz2 248236442 44457329\n",
      "part-m-00783.bz2 234556658 22866665\n",
      "part-m-00783.bz2 234556660 22866665\n",
      "part-m-00751.bz2 206643349 33020216\n",
      "part-m-00751.bz2 206643350 33020216\n",
      "part-m-00751.bz2 207091635 33886613\n",
      "part-m-00751.bz2 207091636 33886613\n",
      "part-m-00751.bz2 207091638 33886614\n",
      "part-m-00751.bz2 207091639 33886614\n",
      "part-m-00751.bz2 207091640 33886614\n",
      "part-m-00751.bz2 207091641 33886614\n",
      "part-m-00754.bz2 209073271 38998009\n",
      "part-m-00754.bz2 209073273 38998009\n",
      "part-m-00754.bz2 209443334 39726301\n",
      "part-m-00754.bz2 209443337 39726301\n",
      "part-m-00434.bz2 114424273 9935736\n",
      "part-m-00761.bz2 215604619 49973705\n",
      "part-m-00761.bz2 215604622 49973705\n",
      "part-m-00761.bz2 215604624 49973705\n",
      "part-m-00761.bz2 215604627 49973705\n",
      "part-m-00761.bz2 215670824 50055227\n",
      "part-m-00761.bz2 215670826 50055227\n",
      "part-m-01209.bz2 371582593 43215001\n",
      "part-m-01209.bz2 371582595 43215001\n",
      "part-m-01209.bz2 371582597 43215001\n",
      "part-m-00758.bz2 212685760 45195057\n",
      "part-m-00758.bz2 212685761 45195057\n",
      "part-m-00758.bz2 212685763 45195057\n",
      "part-m-00758.bz2 213133022 45826924\n",
      "part-m-00758.bz2 213133150 45826924\n",
      "part-m-00758.bz2 213133151 45826924\n",
      "part-m-00758.bz2 213238352 45972175\n",
      "part-m-00758.bz2 213238353 45972175\n",
      "part-m-00753.bz2 208364890 37113694\n",
      "part-m-00753.bz2 208566079 37562740\n",
      "part-m-00753.bz2 208566082 37562740\n",
      "part-m-00753.bz2 208697561 37842901\n",
      "part-m-00753.bz2 208697562 37842901\n",
      "part-m-00753.bz2 208697565 37842901\n",
      "part-m-00753.bz2 208697566 37842901\n",
      "part-m-00753.bz2 208697569 37842901\n",
      "part-m-01564.bz2 486977761 62842688\n",
      "part-m-01564.bz2 487066032 62986587\n",
      "part-m-01564.bz2 487066033 62986587\n",
      "part-m-00775.bz2 228164039 65341401\n",
      "part-m-00775.bz2 228164040 65341401\n",
      "part-m-00775.bz2 228164041 65341401\n",
      "part-m-00775.bz2 228164042 65341401\n",
      "part-m-00780.bz2 231444440 18205268\n",
      "part-m-00780.bz2 231444442 18205268\n",
      "part-m-00789.bz2 238549448 30349938\n",
      "part-m-00789.bz2 238549452 30349938\n",
      "part-m-00789.bz2 238551325 30354136\n",
      "part-m-00789.bz2 238551326 30354136\n",
      "part-m-00803.bz2 250877682 48079138\n",
      "part-m-00803.bz2 250877684 48079138\n",
      "part-m-01550.bz2 481554112 62444420\n",
      "part-m-01550.bz2 481554113 62444420\n",
      "part-m-01550.bz2 481554114 62444420\n",
      "part-m-01550.bz2 481554115 62444420\n",
      "part-m-00773.bz2 226736677 63030976\n",
      "part-m-00773.bz2 226736678 63030976\n",
      "part-m-00773.bz2 226736679 63030976\n",
      "part-m-00773.bz2 226736680 63030976\n",
      "part-m-01562.bz2 484903131 67140458\n",
      "part-m-01562.bz2 484903134 67140458\n",
      "part-m-01562.bz2 484953186 67198696\n",
      "part-m-01562.bz2 484953189 67198696\n",
      "part-m-01562.bz2 484953190 67198696\n",
      "part-m-01562.bz2 484953192 67198696\n",
      "part-m-01562.bz2 484953193 67198696\n",
      "part-m-01562.bz2 484953195 67198696\n",
      "part-m-01562.bz2 484953196 67198696\n",
      "part-m-01562.bz2 484953197 67198696\n",
      "part-m-01562.bz2 484953198 67198696\n",
      "part-m-00794.bz2 242506816 36312734\n",
      "part-m-00794.bz2 242506818 36312734\n",
      "part-m-00799.bz2 247096382 42881069\n",
      "part-m-00799.bz2 247096384 42881069\n",
      "part-m-00878.bz2 273907581 33090251\n",
      "part-m-00878.bz2 273907591 33090251\n",
      "part-m-00878.bz2 273907773 33090251\n",
      "part-m-00878.bz2 273907783 33090251\n",
      "part-m-00930.bz2 285698239 32569146\n",
      "part-m-00930.bz2 285698241 32569146\n",
      "part-m-00930.bz2 285698243 32569146\n",
      "part-m-00930.bz2 285731307 32642792\n",
      "part-m-00930.bz2 285731309 32642792\n",
      "part-m-00930.bz2 285976476 33203322\n",
      "part-m-00930.bz2 285976477 33203322\n",
      "part-m-00930.bz2 285976478 33203322\n",
      "part-m-00930.bz2 285976479 33203322\n",
      "part-m-00930.bz2 286071897 33386652\n",
      "part-m-00930.bz2 286071899 33386652\n",
      "part-m-00930.bz2 286071901 33386652\n",
      "part-m-00930.bz2 286071902 33386652\n",
      "part-m-01148.bz2 354508176 35747287\n",
      "part-m-01148.bz2 354508178 35747287\n",
      "part-m-00119.bz2 30979424 17513319\n",
      "part-m-00119.bz2 30979426 17513319\n",
      "part-m-00119.bz2 30979428 17513319\n",
      "part-m-00634.bz2 173910568 25084917\n",
      "part-m-00634.bz2 173910569 25084917\n",
      "part-m-00634.bz2 173910570 25084917\n",
      "part-m-00764.bz2 218985010 55365758\n",
      "part-m-00764.bz2 218985011 55365758\n",
      "part-m-00764.bz2 218985012 55365758\n",
      "part-m-00764.bz2 218985013 55365758\n",
      "part-m-00764.bz2 218985014 55365758\n",
      "part-m-00764.bz2 218985015 55365758\n",
      "part-m-00764.bz2 218985016 55365758\n",
      "part-m-00764.bz2 218985017 55365758\n",
      "part-m-00764.bz2 218985018 55365758\n",
      "part-m-00764.bz2 218985019 55365758\n",
      "part-m-00764.bz2 218985020 55365758\n",
      "part-m-00764.bz2 218985021 55365758\n",
      "part-m-00764.bz2 218985022 55365758\n",
      "part-m-00764.bz2 218985023 55365758\n",
      "part-m-00764.bz2 218985024 55365758\n",
      "part-m-00764.bz2 218985025 55365758\n",
      "part-m-00764.bz2 218985026 55365758\n",
      "part-m-00764.bz2 218985027 55365758\n",
      "part-m-00764.bz2 218985028 55365758\n",
      "part-m-00764.bz2 218985029 55365758\n",
      "part-m-00764.bz2 218985030 55365758\n",
      "part-m-00764.bz2 218985031 55365758\n",
      "part-m-00764.bz2 218985033 55365758\n",
      "part-m-00764.bz2 218985034 55365758\n",
      "part-m-00764.bz2 218985035 55365758\n",
      "part-m-00764.bz2 218985036 55365758\n",
      "part-m-00764.bz2 218985037 55365758\n",
      "part-m-00764.bz2 218985038 55365758\n",
      "part-m-00764.bz2 218985039 55365758\n",
      "part-m-00764.bz2 218985040 55365758\n",
      "part-m-00764.bz2 218985041 55365758\n",
      "part-m-00764.bz2 218985042 55365758\n",
      "part-m-00764.bz2 218985043 55365758\n"
     ]
    },
    {
     "name": "stdout",
     "output_type": "stream",
     "text": [
      "part-m-00764.bz2 218985044 55365758\n",
      "part-m-00764.bz2 218985045 55365758\n",
      "part-m-00764.bz2 218985046 55365758\n",
      "part-m-00764.bz2 218985047 55365758\n",
      "part-m-00764.bz2 218985048 55365758\n",
      "part-m-00764.bz2 218985049 55365758\n",
      "part-m-00764.bz2 218985050 55365758\n",
      "part-m-00764.bz2 218985051 55365758\n",
      "part-m-00764.bz2 218985052 55365758\n",
      "part-m-00764.bz2 218985054 55365758\n",
      "part-m-00764.bz2 218985055 55365758\n",
      "part-m-00764.bz2 218985056 55365758\n",
      "part-m-00764.bz2 218985057 55365758\n",
      "part-m-00764.bz2 218985058 55365758\n",
      "part-m-00764.bz2 218985059 55365758\n",
      "part-m-00764.bz2 218985060 55365758\n",
      "part-m-00764.bz2 218985061 55365758\n",
      "part-m-00764.bz2 218985062 55365758\n",
      "part-m-00764.bz2 218985063 55365758\n",
      "part-m-00764.bz2 218985064 55365758\n",
      "part-m-00764.bz2 218985065 55365758\n",
      "part-m-00764.bz2 218985066 55365758\n",
      "part-m-00764.bz2 218985067 55365758\n",
      "part-m-00764.bz2 218985068 55365758\n",
      "part-m-00764.bz2 218985069 55365758\n",
      "part-m-00764.bz2 218985070 55365758\n",
      "part-m-00764.bz2 218985071 55365758\n",
      "part-m-00764.bz2 218985072 55365758\n",
      "part-m-00764.bz2 218985073 55365758\n",
      "part-m-00764.bz2 218985074 55365758\n",
      "part-m-00764.bz2 218985075 55365758\n",
      "part-m-00764.bz2 218985076 55365758\n",
      "part-m-00764.bz2 218985077 55365758\n",
      "part-m-00764.bz2 218985078 55365758\n",
      "part-m-00764.bz2 218985079 55365758\n",
      "part-m-00764.bz2 218985080 55365758\n",
      "part-m-00764.bz2 218985081 55365758\n",
      "part-m-00764.bz2 218985082 55365758\n",
      "part-m-00764.bz2 218985083 55365758\n",
      "part-m-00764.bz2 218985084 55365758\n",
      "part-m-00764.bz2 218985085 55365758\n",
      "part-m-00764.bz2 218985086 55365758\n",
      "part-m-00764.bz2 218985087 55365758\n",
      "part-m-00764.bz2 218985088 55365758\n",
      "part-m-00764.bz2 218985089 55365758\n",
      "part-m-00764.bz2 218985091 55365758\n",
      "part-m-00764.bz2 218985092 55365758\n",
      "part-m-00764.bz2 218985093 55365758\n",
      "part-m-00764.bz2 218985094 55365758\n",
      "part-m-00764.bz2 218985095 55365758\n",
      "part-m-00764.bz2 218985096 55365758\n",
      "part-m-00764.bz2 218985097 55365758\n",
      "part-m-00764.bz2 218985098 55365758\n",
      "part-m-00764.bz2 218985099 55365758\n",
      "part-m-00764.bz2 218985100 55365758\n",
      "part-m-00764.bz2 218985101 55365758\n",
      "part-m-00764.bz2 218985102 55365758\n",
      "part-m-00764.bz2 218985103 55365758\n",
      "part-m-00764.bz2 218985104 55365758\n",
      "part-m-00764.bz2 218985105 55365758\n",
      "part-m-00764.bz2 218985106 55365758\n",
      "part-m-00764.bz2 218985107 55365758\n",
      "part-m-00764.bz2 218985108 55365758\n",
      "part-m-00764.bz2 218985109 55365758\n",
      "part-m-00764.bz2 218985110 55365758\n",
      "part-m-00764.bz2 218985111 55365758\n",
      "part-m-00764.bz2 218985112 55365758\n",
      "part-m-00764.bz2 218985113 55365758\n",
      "part-m-00764.bz2 218985114 55365758\n",
      "part-m-00764.bz2 218985115 55365758\n",
      "part-m-00764.bz2 218985116 55365758\n",
      "part-m-00764.bz2 218985117 55365758\n",
      "part-m-00764.bz2 218985118 55365758\n",
      "part-m-00764.bz2 218985119 55365758\n",
      "part-m-00764.bz2 218985120 55365758\n",
      "part-m-00764.bz2 218985121 55365758\n",
      "part-m-00764.bz2 218985122 55365758\n",
      "part-m-00764.bz2 218985123 55365758\n",
      "part-m-00764.bz2 218985124 55365758\n",
      "part-m-00764.bz2 218985125 55365758\n",
      "part-m-00764.bz2 218985126 55365758\n",
      "part-m-00764.bz2 218985127 55365758\n",
      "part-m-00764.bz2 218985128 55365758\n",
      "part-m-00764.bz2 218985129 55365758\n",
      "part-m-00764.bz2 218985130 55365758\n",
      "part-m-00764.bz2 218985131 55365758\n",
      "part-m-00764.bz2 218985132 55365758\n",
      "part-m-00764.bz2 218985133 55365758\n",
      "part-m-00764.bz2 218985134 55365758\n",
      "part-m-00764.bz2 218985135 55365758\n",
      "part-m-00764.bz2 218985136 55365758\n",
      "part-m-00764.bz2 218985137 55365758\n",
      "part-m-00764.bz2 218985138 55365758\n",
      "part-m-00764.bz2 218985139 55365758\n",
      "part-m-00764.bz2 218985140 55365758\n",
      "part-m-00764.bz2 218985141 55365758\n",
      "part-m-00764.bz2 218985142 55365758\n",
      "part-m-00764.bz2 218985143 55365758\n",
      "part-m-00764.bz2 218985144 55365758\n",
      "part-m-00764.bz2 218985145 55365758\n",
      "part-m-00764.bz2 218985146 55365758\n",
      "part-m-00764.bz2 218985147 55365758\n",
      "part-m-00764.bz2 218985148 55365758\n",
      "part-m-00764.bz2 218985149 55365758\n",
      "part-m-00764.bz2 218985150 55365758\n",
      "part-m-00764.bz2 218985151 55365758\n",
      "part-m-00764.bz2 218985152 55365758\n",
      "part-m-00764.bz2 218985153 55365758\n",
      "part-m-00764.bz2 218985154 55365758\n",
      "part-m-00764.bz2 218985155 55365758\n",
      "part-m-00764.bz2 218985156 55365758\n",
      "part-m-00764.bz2 218985157 55365758\n",
      "part-m-00764.bz2 218985158 55365758\n",
      "part-m-00764.bz2 218985159 55365758\n",
      "part-m-00764.bz2 219008558 55392643\n",
      "part-m-00764.bz2 219008559 55392643\n",
      "part-m-00764.bz2 219193364 55670904\n",
      "part-m-00764.bz2 219193367 55670904\n",
      "part-m-00764.bz2 219193373 55670904\n",
      "part-m-00764.bz2 219193376 55670904\n",
      "part-m-00764.bz2 219374920 56002959\n",
      "part-m-00764.bz2 219625148 56413479\n",
      "part-m-00764.bz2 219625149 56413479\n",
      "part-m-00764.bz2 219625151 56413479\n",
      "part-m-00764.bz2 219625152 56413479\n",
      "part-m-00929.bz2 285603489 32333874\n",
      "part-m-00929.bz2 285603491 32333874\n",
      "part-m-00929.bz2 285639182 32386394\n",
      "part-m-01566.bz2 487673035 64648856\n",
      "part-m-01566.bz2 487833273 64903147\n",
      "part-m-01566.bz2 487833275 64903147\n",
      "part-m-00765.bz2 220027873 57626204\n",
      "part-m-00765.bz2 220027874 57626204\n",
      "part-m-00765.bz2 220027876 57626204\n",
      "part-m-00765.bz2 220027877 57626204\n",
      "part-m-01563.bz2 485488179 60152981\n",
      "part-m-01563.bz2 485488181 60152981\n",
      "part-m-01563.bz2 485488183 60152981\n",
      "part-m-00771.bz2 225647351 61270329\n",
      "part-m-00771.bz2 225647354 61270329\n",
      "part-m-00771.bz2 225656022 61276803\n",
      "part-m-00771.bz2 225656024 61276803\n",
      "part-m-00771.bz2 225656027 61276803\n",
      "part-m-00771.bz2 225656029 61276803\n",
      "part-m-01561.bz2 484472013 66071606\n",
      "part-m-01561.bz2 484472015 66071606\n",
      "part-m-01563.bz2 485790121 60289491\n",
      "part-m-01569.bz2 489266349 67804325\n",
      "part-m-01569.bz2 489266351 67804325\n",
      "part-m-00380.bz2 103503836 10977162\n",
      "part-m-00380.bz2 103503838 10977162\n",
      "part-m-00552.bz2 153299772 7086765\n",
      "part-m-00552.bz2 153299774 7086765\n",
      "part-m-00292.bz2 84103933 16508227\n",
      "part-m-00035.bz2 6600215 30990\n",
      "part-m-00035.bz2 6600262 30990\n",
      "part-m-00035.bz2 6600263 30990\n",
      "part-m-00035.bz2 6600264 30990\n",
      "part-m-00035.bz2 6600265 30990\n",
      "part-m-00035.bz2 6600266 30990\n",
      "part-m-00035.bz2 6600267 30990\n",
      "part-m-00035.bz2 6600268 30990\n",
      "part-m-00035.bz2 6600269 30990\n",
      "part-m-00035.bz2 6600270 30990\n",
      "part-m-00035.bz2 6600275 30990\n",
      "part-m-00035.bz2 6600283 30990\n",
      "part-m-00035.bz2 6600288 30990\n",
      "part-m-00035.bz2 6600289 30990\n",
      "part-m-00035.bz2 6600291 30990\n",
      "part-m-00035.bz2 6600292 30990\n",
      "part-m-00035.bz2 6600301 30990\n",
      "part-m-00035.bz2 6600304 30990\n",
      "part-m-00035.bz2 6600321 30990\n",
      "part-m-00035.bz2 6600322 30990\n",
      "part-m-00035.bz2 6600323 30990\n",
      "part-m-00035.bz2 6600328 30990\n",
      "part-m-00035.bz2 6600785 31697\n",
      "part-m-00035.bz2 6600786 31697\n",
      "part-m-00035.bz2 6606063 43219\n",
      "part-m-00035.bz2 6606064 43219\n",
      "part-m-01012.bz2 311254734 42253858\n",
      "part-m-01012.bz2 311254735 42253858\n",
      "part-m-00846.bz2 261356169 22980370\n",
      "part-m-00846.bz2 261356171 22980370\n",
      "part-m-00846.bz2 261356173 22980370\n",
      "part-m-01567.bz2 488304982 65783652\n",
      "part-m-01567.bz2 488304983 65783652\n",
      "part-m-01567.bz2 488304984 65783652\n",
      "part-m-01567.bz2 488304987 65783652\n",
      "part-m-01567.bz2 488304988 65783652\n",
      "part-m-01567.bz2 488304989 65783652\n",
      "part-m-01567.bz2 488417832 65947926\n",
      "part-m-01567.bz2 488417833 65947926\n",
      "part-m-01567.bz2 488417834 65947926\n",
      "part-m-01567.bz2 488417835 65947926\n",
      "part-m-01567.bz2 488417837 65947926\n",
      "part-m-01567.bz2 488417838 65947926\n",
      "part-m-01567.bz2 488417839 65947926\n",
      "part-m-01567.bz2 488417840 65947926\n",
      "part-m-01567.bz2 488417841 65947926\n",
      "part-m-01567.bz2 488417842 65947926\n",
      "part-m-01567.bz2 488592944 66241809\n",
      "part-m-01567.bz2 488592945 66241809\n",
      "part-m-01567.bz2 488592946 66241809\n",
      "part-m-00880.bz2 275706001 36112514\n",
      "part-m-00880.bz2 275706004 36112514\n",
      "part-m-00880.bz2 275706013 36112520\n",
      "part-m-00880.bz2 275706014 36112520\n",
      "part-m-00880.bz2 275706015 36112520\n",
      "part-m-00880.bz2 275706016 36112520\n",
      "part-m-00880.bz2 275706017 36112520\n",
      "part-m-00880.bz2 275706018 36112520\n",
      "part-m-00880.bz2 275706026 36112520\n",
      "part-m-00880.bz2 275706147 36112526\n",
      "part-m-00880.bz2 275706149 36112526\n",
      "part-m-00880.bz2 275706151 36112526\n",
      "part-m-01108.bz2 341453224 39979053\n",
      "part-m-00762.bz2 217517247 52799259\n",
      "part-m-00762.bz2 217517248 52799259\n",
      "part-m-00762.bz2 217517249 52799259\n",
      "part-m-00762.bz2 217517250 52799259\n",
      "part-m-00762.bz2 217517251 52799259\n",
      "part-m-00762.bz2 217517252 52799259\n",
      "part-m-00762.bz2 217517253 52799259\n",
      "part-m-00762.bz2 217517254 52799259\n",
      "part-m-00762.bz2 217517255 52799259\n",
      "part-m-00762.bz2 217517256 52799259\n",
      "part-m-00762.bz2 217517257 52799259\n",
      "part-m-00762.bz2 217517258 52799259\n",
      "part-m-00762.bz2 217517259 52799259\n",
      "part-m-00762.bz2 217517260 52799259\n",
      "part-m-00762.bz2 217517261 52799259\n",
      "part-m-00762.bz2 217517262 52799259\n",
      "part-m-00762.bz2 217517263 52799259\n",
      "part-m-00762.bz2 217517264 52799259\n",
      "part-m-00762.bz2 217517265 52799259\n",
      "part-m-00762.bz2 217517266 52799259\n",
      "part-m-00762.bz2 217517267 52799259\n",
      "part-m-00762.bz2 217517268 52799259\n",
      "part-m-00762.bz2 217517269 52799259\n",
      "part-m-00762.bz2 217517270 52799259\n",
      "part-m-00762.bz2 217517271 52799259\n",
      "part-m-00762.bz2 217517272 52799259\n",
      "part-m-00762.bz2 217517273 52799259\n",
      "part-m-00762.bz2 217517274 52799259\n",
      "part-m-00762.bz2 217517275 52799259\n"
     ]
    },
    {
     "name": "stdout",
     "output_type": "stream",
     "text": [
      "part-m-00762.bz2 217517276 52799259\n",
      "part-m-00762.bz2 217517277 52799259\n",
      "part-m-00762.bz2 217517278 52799259\n",
      "part-m-00762.bz2 217517279 52799259\n",
      "part-m-00762.bz2 217517280 52799259\n",
      "part-m-00762.bz2 217517281 52799259\n",
      "part-m-00762.bz2 217517282 52799259\n",
      "part-m-00762.bz2 217517283 52799259\n",
      "part-m-00762.bz2 217517284 52799259\n",
      "part-m-00762.bz2 217517285 52799259\n",
      "part-m-00762.bz2 217517286 52799259\n",
      "part-m-00762.bz2 217517287 52799259\n",
      "part-m-00762.bz2 217517288 52799259\n",
      "part-m-00762.bz2 217517289 52799259\n",
      "part-m-00762.bz2 217517290 52799259\n",
      "part-m-00762.bz2 217517291 52799259\n",
      "part-m-00762.bz2 217517292 52799259\n",
      "part-m-00762.bz2 217517293 52799259\n",
      "part-m-00762.bz2 217517294 52799259\n",
      "part-m-00762.bz2 217517295 52799259\n",
      "part-m-00762.bz2 217517296 52799259\n",
      "part-m-00762.bz2 217517297 52799259\n",
      "part-m-00762.bz2 217517298 52799259\n",
      "part-m-00762.bz2 217517299 52799259\n",
      "part-m-00762.bz2 217517300 52799259\n",
      "part-m-00762.bz2 217517301 52799259\n",
      "part-m-00762.bz2 217517302 52799259\n",
      "part-m-00762.bz2 217517303 52799259\n",
      "part-m-00762.bz2 217517304 52799259\n",
      "part-m-00762.bz2 217517305 52799259\n",
      "part-m-00762.bz2 217517306 52799259\n",
      "part-m-00762.bz2 217517307 52799259\n",
      "part-m-00762.bz2 217517308 52799259\n",
      "part-m-00762.bz2 217517309 52799259\n",
      "part-m-00762.bz2 217517310 52799259\n",
      "part-m-00762.bz2 217517311 52799259\n",
      "part-m-00762.bz2 217517312 52799259\n",
      "part-m-00762.bz2 217517313 52799259\n",
      "part-m-00762.bz2 217517314 52799259\n",
      "part-m-00762.bz2 217517315 52799259\n",
      "part-m-00762.bz2 217517316 52799259\n",
      "part-m-00762.bz2 217517317 52799259\n",
      "part-m-00762.bz2 217517318 52799259\n",
      "part-m-00762.bz2 217517319 52799259\n",
      "part-m-00762.bz2 217517320 52799259\n",
      "part-m-00762.bz2 217517321 52799259\n",
      "part-m-00762.bz2 217517322 52799259\n",
      "part-m-00762.bz2 217517323 52799259\n",
      "part-m-00762.bz2 217517324 52799259\n",
      "part-m-00762.bz2 217517325 52799259\n",
      "part-m-00762.bz2 217517326 52799259\n",
      "part-m-00762.bz2 217517327 52799259\n",
      "part-m-00762.bz2 217517328 52799259\n",
      "part-m-00762.bz2 217517329 52799259\n",
      "part-m-00762.bz2 217517330 52799259\n",
      "part-m-00762.bz2 217517331 52799259\n",
      "part-m-00762.bz2 217517332 52799259\n",
      "part-m-00762.bz2 217517333 52799259\n",
      "part-m-00762.bz2 217517334 52799259\n",
      "part-m-00762.bz2 217517335 52799259\n",
      "part-m-00762.bz2 217517336 52799259\n",
      "part-m-00762.bz2 217517337 52799259\n",
      "part-m-00762.bz2 217517338 52799259\n",
      "part-m-00762.bz2 217517339 52799259\n",
      "part-m-00762.bz2 217517340 52799259\n",
      "part-m-00762.bz2 217517341 52799259\n",
      "part-m-00762.bz2 217517342 52799259\n",
      "part-m-00762.bz2 217517343 52799259\n",
      "part-m-00762.bz2 217517344 52799259\n",
      "part-m-00762.bz2 217517345 52799259\n",
      "part-m-00762.bz2 217517346 52799259\n",
      "part-m-00762.bz2 217517347 52799259\n",
      "part-m-00762.bz2 217517348 52799259\n",
      "part-m-00762.bz2 217517349 52799259\n",
      "part-m-00762.bz2 217517351 52799259\n",
      "part-m-00762.bz2 217517353 52799259\n",
      "part-m-00762.bz2 217517354 52799259\n",
      "part-m-00762.bz2 217517355 52799259\n",
      "part-m-00762.bz2 217517356 52799259\n",
      "part-m-00762.bz2 217517357 52799259\n",
      "part-m-00762.bz2 217517358 52799259\n",
      "part-m-00762.bz2 217517359 52799259\n",
      "part-m-00762.bz2 217517360 52799259\n",
      "part-m-00762.bz2 217517361 52799259\n",
      "part-m-00762.bz2 217517363 52799259\n",
      "part-m-00762.bz2 217517364 52799259\n",
      "part-m-00762.bz2 217517365 52799259\n",
      "part-m-00762.bz2 217517366 52799259\n",
      "part-m-00762.bz2 217517367 52799259\n",
      "part-m-00762.bz2 217517368 52799259\n",
      "part-m-00762.bz2 217517369 52799259\n",
      "part-m-00762.bz2 217517370 52799259\n",
      "part-m-00762.bz2 217517371 52799259\n",
      "part-m-00762.bz2 217517372 52799259\n",
      "part-m-00762.bz2 217517373 52799259\n",
      "part-m-00762.bz2 217517374 52799259\n",
      "part-m-00762.bz2 217517375 52799259\n",
      "part-m-00762.bz2 217517376 52799259\n",
      "part-m-00762.bz2 217517377 52799259\n",
      "part-m-00762.bz2 217517378 52799259\n",
      "part-m-00762.bz2 217517379 52799259\n",
      "part-m-00762.bz2 217517380 52799259\n",
      "part-m-00762.bz2 217517381 52799259\n",
      "part-m-00762.bz2 217517382 52799259\n",
      "part-m-00762.bz2 217517383 52799259\n",
      "part-m-00762.bz2 217517384 52799259\n",
      "part-m-00762.bz2 217517385 52799259\n",
      "part-m-00762.bz2 217517386 52799259\n",
      "part-m-00762.bz2 217517387 52799259\n",
      "part-m-00762.bz2 217517388 52799259\n",
      "part-m-00762.bz2 217517389 52799259\n",
      "part-m-00762.bz2 217517390 52799259\n",
      "part-m-00762.bz2 217517391 52799259\n",
      "part-m-00762.bz2 217517392 52799259\n",
      "part-m-00762.bz2 217517393 52799259\n",
      "part-m-00762.bz2 217517394 52799259\n",
      "part-m-00762.bz2 217517395 52799259\n",
      "part-m-00762.bz2 217517396 52799259\n",
      "part-m-00762.bz2 217517397 52799259\n",
      "part-m-00762.bz2 217517398 52799259\n",
      "part-m-00762.bz2 217517399 52799259\n",
      "part-m-00762.bz2 217517400 52799259\n",
      "part-m-00762.bz2 217517401 52799259\n",
      "part-m-00762.bz2 217517402 52799259\n",
      "part-m-00762.bz2 217517403 52799259\n",
      "part-m-00762.bz2 217517404 52799259\n",
      "part-m-00762.bz2 217517405 52799259\n",
      "part-m-00762.bz2 217517406 52799259\n",
      "part-m-00762.bz2 217517407 52799259\n",
      "part-m-00762.bz2 217517408 52799259\n",
      "part-m-00762.bz2 217517409 52799259\n",
      "part-m-00762.bz2 217517410 52799259\n",
      "part-m-00762.bz2 217517411 52799259\n",
      "part-m-00762.bz2 217517413 52799259\n",
      "part-m-00762.bz2 217517414 52799259\n",
      "part-m-00762.bz2 217517415 52799259\n",
      "part-m-00762.bz2 217517416 52799259\n",
      "part-m-00762.bz2 217517417 52799259\n",
      "part-m-00762.bz2 217517418 52799259\n",
      "part-m-00762.bz2 217517419 52799259\n",
      "part-m-00762.bz2 217517420 52799259\n",
      "part-m-00762.bz2 217517421 52799259\n",
      "part-m-00762.bz2 217517422 52799259\n",
      "part-m-00762.bz2 217517423 52799259\n",
      "part-m-00762.bz2 217517424 52799259\n",
      "part-m-00762.bz2 217517425 52799259\n",
      "part-m-00762.bz2 217517427 52799259\n",
      "part-m-00762.bz2 217517428 52799259\n",
      "part-m-00762.bz2 217517429 52799259\n",
      "part-m-00762.bz2 217517430 52799259\n",
      "part-m-00762.bz2 217517431 52799259\n",
      "part-m-00762.bz2 217517432 52799259\n",
      "part-m-00762.bz2 217517433 52799259\n",
      "part-m-00762.bz2 217517434 52799259\n",
      "part-m-00762.bz2 217517435 52799259\n",
      "part-m-00762.bz2 217517436 52799259\n",
      "part-m-00762.bz2 217517437 52799259\n",
      "part-m-00762.bz2 217517438 52799259\n",
      "part-m-00762.bz2 217517439 52799259\n",
      "part-m-00762.bz2 217517440 52799259\n",
      "part-m-00762.bz2 217517441 52799259\n",
      "part-m-00762.bz2 217517442 52799259\n",
      "part-m-00762.bz2 217517443 52799259\n",
      "part-m-00762.bz2 217517444 52799259\n",
      "part-m-00762.bz2 217517445 52799259\n",
      "part-m-00762.bz2 217517446 52799259\n",
      "part-m-00762.bz2 217517447 52799259\n",
      "part-m-00762.bz2 217517448 52799259\n",
      "part-m-00762.bz2 217517449 52799259\n",
      "part-m-00762.bz2 217517450 52799259\n",
      "part-m-00762.bz2 217517451 52799259\n",
      "part-m-00762.bz2 217517452 52799259\n",
      "part-m-00762.bz2 217517453 52799259\n",
      "part-m-00762.bz2 217517454 52799259\n",
      "part-m-00762.bz2 217517455 52799259\n",
      "part-m-00762.bz2 217517456 52799259\n",
      "part-m-00762.bz2 217517457 52799259\n",
      "part-m-00762.bz2 217517458 52799259\n",
      "part-m-00762.bz2 217517459 52799259\n",
      "part-m-00762.bz2 217517460 52799259\n",
      "part-m-00762.bz2 217517461 52799259\n",
      "part-m-00762.bz2 217517462 52799259\n",
      "part-m-00762.bz2 217517463 52799259\n",
      "part-m-00762.bz2 217517464 52799259\n",
      "part-m-00762.bz2 217517465 52799259\n",
      "part-m-00762.bz2 217517466 52799259\n",
      "part-m-00762.bz2 217517467 52799259\n",
      "part-m-00762.bz2 217517468 52799259\n",
      "part-m-00762.bz2 217517469 52799259\n",
      "part-m-00762.bz2 217517470 52799259\n",
      "part-m-00762.bz2 217517471 52799259\n",
      "part-m-00762.bz2 217517472 52799259\n",
      "part-m-00762.bz2 217517473 52799259\n",
      "part-m-00762.bz2 217517474 52799259\n",
      "part-m-00762.bz2 217517475 52799259\n",
      "part-m-00762.bz2 217517476 52799259\n",
      "part-m-00762.bz2 217517477 52799259\n",
      "part-m-00762.bz2 217517478 52799259\n",
      "part-m-00762.bz2 217517479 52799259\n",
      "part-m-00762.bz2 217517480 52799259\n",
      "part-m-00762.bz2 217517481 52799259\n",
      "part-m-00762.bz2 217517483 52799259\n",
      "part-m-00762.bz2 217517484 52799259\n",
      "part-m-00762.bz2 217517485 52799259\n",
      "part-m-00762.bz2 217517486 52799259\n",
      "part-m-00762.bz2 217517487 52799259\n",
      "part-m-00762.bz2 217517488 52799259\n",
      "part-m-00762.bz2 217517489 52799259\n",
      "part-m-00762.bz2 217517490 52799259\n",
      "part-m-00762.bz2 217517491 52799259\n",
      "part-m-00762.bz2 217517492 52799259\n",
      "part-m-00762.bz2 217517493 52799259\n",
      "part-m-00762.bz2 217517494 52799259\n",
      "part-m-00762.bz2 217517495 52799259\n",
      "part-m-00762.bz2 217517496 52799259\n",
      "part-m-00762.bz2 217517497 52799259\n",
      "part-m-00762.bz2 217517498 52799259\n",
      "part-m-00762.bz2 217517499 52799259\n",
      "part-m-00762.bz2 217517500 52799259\n",
      "part-m-00762.bz2 217517501 52799259\n",
      "part-m-00762.bz2 217517502 52799259\n",
      "part-m-00762.bz2 217517503 52799259\n",
      "part-m-00762.bz2 217517504 52799259\n",
      "part-m-00762.bz2 217517505 52799259\n",
      "part-m-00762.bz2 217517506 52799259\n",
      "part-m-00762.bz2 217517507 52799259\n",
      "part-m-00762.bz2 217517508 52799259\n",
      "part-m-00762.bz2 217517509 52799259\n",
      "part-m-00762.bz2 217517510 52799259\n",
      "part-m-00762.bz2 217517511 52799259\n",
      "part-m-00762.bz2 217517512 52799259\n",
      "part-m-00762.bz2 217517513 52799259\n",
      "part-m-00762.bz2 217517514 52799259\n",
      "part-m-00762.bz2 217517515 52799259\n",
      "part-m-00762.bz2 217517516 52799259\n",
      "part-m-00762.bz2 217517517 52799259\n",
      "part-m-00762.bz2 217517518 52799259\n",
      "part-m-00762.bz2 217517519 52799259\n",
      "part-m-00762.bz2 217517520 52799259\n",
      "part-m-00762.bz2 217517521 52799259\n",
      "part-m-00762.bz2 217517522 52799259\n",
      "part-m-00762.bz2 217517523 52799259\n",
      "part-m-00762.bz2 217517524 52799259\n",
      "part-m-00762.bz2 217517525 52799259\n",
      "part-m-00762.bz2 217517526 52799259\n"
     ]
    },
    {
     "name": "stdout",
     "output_type": "stream",
     "text": [
      "part-m-00762.bz2 217517527 52799259\n",
      "part-m-00762.bz2 217517528 52799259\n",
      "part-m-00762.bz2 217517529 52799259\n",
      "part-m-00762.bz2 217517530 52799259\n",
      "part-m-00762.bz2 217517531 52799259\n",
      "part-m-00762.bz2 217517532 52799259\n",
      "part-m-00762.bz2 217517533 52799259\n",
      "part-m-00762.bz2 217517534 52799259\n",
      "part-m-00762.bz2 217517535 52799259\n",
      "part-m-00762.bz2 217517536 52799259\n",
      "part-m-00762.bz2 217517537 52799259\n",
      "part-m-00762.bz2 217517538 52799259\n",
      "part-m-00762.bz2 217517539 52799259\n",
      "part-m-00762.bz2 217517540 52799259\n",
      "part-m-00762.bz2 217517541 52799259\n",
      "part-m-00762.bz2 217517542 52799259\n",
      "part-m-00762.bz2 217517543 52799259\n",
      "part-m-00762.bz2 217517544 52799259\n",
      "part-m-00762.bz2 217517545 52799259\n",
      "part-m-00762.bz2 217517546 52799259\n",
      "part-m-00762.bz2 217517547 52799259\n",
      "part-m-00762.bz2 217517548 52799259\n",
      "part-m-00762.bz2 217517549 52799259\n",
      "part-m-00762.bz2 217517550 52799259\n",
      "part-m-00762.bz2 217517551 52799259\n",
      "part-m-00762.bz2 217517552 52799259\n",
      "part-m-00762.bz2 217517553 52799259\n",
      "part-m-00762.bz2 217517554 52799259\n",
      "part-m-00762.bz2 217517555 52799259\n",
      "part-m-00762.bz2 217517556 52799259\n",
      "part-m-00762.bz2 217517557 52799259\n",
      "part-m-00762.bz2 217517558 52799259\n",
      "part-m-00762.bz2 217517559 52799259\n",
      "part-m-00762.bz2 217517560 52799259\n",
      "part-m-00762.bz2 217517561 52799259\n",
      "part-m-00762.bz2 217517562 52799259\n",
      "part-m-00762.bz2 217517563 52799259\n",
      "part-m-00762.bz2 217517564 52799259\n",
      "part-m-00762.bz2 217517565 52799259\n",
      "part-m-00762.bz2 217517566 52799259\n",
      "part-m-00762.bz2 217517567 52799259\n",
      "part-m-00762.bz2 217517568 52799259\n",
      "part-m-00762.bz2 217517569 52799259\n",
      "part-m-00762.bz2 217517570 52799259\n",
      "part-m-00762.bz2 217517571 52799259\n",
      "part-m-00762.bz2 217517572 52799259\n",
      "part-m-00762.bz2 217517573 52799259\n",
      "part-m-00762.bz2 217517574 52799259\n",
      "part-m-00762.bz2 217517575 52799259\n",
      "part-m-00762.bz2 217517576 52799259\n",
      "part-m-00762.bz2 217517577 52799259\n",
      "part-m-00762.bz2 217517578 52799259\n",
      "part-m-00762.bz2 217517579 52799259\n",
      "part-m-00762.bz2 217517580 52799259\n",
      "part-m-00762.bz2 217517581 52799259\n",
      "part-m-00762.bz2 217517582 52799259\n",
      "part-m-00762.bz2 217517583 52799259\n",
      "part-m-00762.bz2 217517584 52799259\n",
      "part-m-00762.bz2 217517585 52799259\n",
      "part-m-00762.bz2 217517586 52799259\n",
      "part-m-00762.bz2 217517587 52799259\n",
      "part-m-00762.bz2 217517588 52799259\n",
      "part-m-00762.bz2 217517589 52799259\n",
      "part-m-00762.bz2 217517590 52799259\n",
      "part-m-00762.bz2 217517591 52799259\n",
      "part-m-00762.bz2 217517592 52799259\n",
      "part-m-00762.bz2 217517594 52799259\n",
      "part-m-00762.bz2 217517595 52799259\n",
      "part-m-00762.bz2 217517596 52799259\n",
      "part-m-00762.bz2 217517597 52799259\n",
      "part-m-00762.bz2 217517598 52799259\n",
      "part-m-00762.bz2 217517599 52799259\n",
      "part-m-00762.bz2 217517600 52799259\n",
      "part-m-00762.bz2 217517601 52799259\n",
      "part-m-00762.bz2 217517602 52799259\n",
      "part-m-00762.bz2 217517603 52799259\n",
      "part-m-00762.bz2 217517604 52799259\n",
      "part-m-00762.bz2 217517605 52799259\n",
      "part-m-00762.bz2 217517606 52799259\n",
      "part-m-00762.bz2 217517607 52799259\n",
      "part-m-00762.bz2 217517608 52799259\n",
      "part-m-00762.bz2 217517609 52799259\n",
      "part-m-00762.bz2 217517610 52799259\n",
      "part-m-00762.bz2 217517611 52799259\n",
      "part-m-00762.bz2 217517612 52799259\n",
      "part-m-00762.bz2 217517613 52799259\n",
      "part-m-00762.bz2 217517614 52799259\n",
      "part-m-00762.bz2 217517615 52799259\n",
      "part-m-00762.bz2 217517616 52799259\n",
      "part-m-00762.bz2 217517617 52799259\n",
      "part-m-00762.bz2 217517618 52799259\n",
      "part-m-00762.bz2 217517619 52799259\n",
      "part-m-00762.bz2 217517620 52799259\n",
      "part-m-00762.bz2 217517621 52799259\n",
      "part-m-00762.bz2 217517622 52799259\n",
      "part-m-00762.bz2 217517623 52799259\n",
      "part-m-00762.bz2 217517624 52799259\n",
      "part-m-00762.bz2 217517625 52799259\n",
      "part-m-00762.bz2 217517626 52799259\n",
      "part-m-00762.bz2 217517627 52799259\n",
      "part-m-00762.bz2 217517628 52799259\n",
      "part-m-00762.bz2 217517629 52799259\n",
      "part-m-01622.bz2 500556565 64713209\n",
      "part-m-01622.bz2 500556568 64713209\n",
      "part-m-00425.bz2 113083771 7822569\n",
      "part-m-00425.bz2 113083773 7822569\n",
      "part-m-00425.bz2 113136293 7908799\n",
      "part-m-00425.bz2 113136298 7908799\n",
      "part-m-00425.bz2 113136299 7908799\n",
      "part-m-00425.bz2 113136300 7908799\n",
      "part-m-00425.bz2 113136301 7908799\n",
      "part-m-00425.bz2 113136304 7908799\n",
      "part-m-00425.bz2 113136308 7908799\n",
      "part-m-00425.bz2 113136309 7908799\n",
      "part-m-00425.bz2 113136310 7908799\n",
      "part-m-00425.bz2 113136311 7908799\n",
      "part-m-00425.bz2 113136318 7908799\n",
      "part-m-00425.bz2 113136319 7908799\n",
      "part-m-00425.bz2 113136320 7908799\n",
      "part-m-00425.bz2 113136354 7908799\n",
      "part-m-00425.bz2 113136378 7908799\n",
      "part-m-00425.bz2 113136382 7908799\n",
      "part-m-00425.bz2 113136383 7908799\n",
      "part-m-00425.bz2 113136384 7908799\n",
      "part-m-00425.bz2 113136385 7908799\n",
      "part-m-00425.bz2 113136386 7908799\n",
      "part-m-00425.bz2 113136387 7908799\n",
      "part-m-00425.bz2 113136388 7908799\n",
      "part-m-00425.bz2 113136389 7908799\n",
      "part-m-00425.bz2 113136390 7908799\n",
      "part-m-00425.bz2 113136391 7908799\n",
      "part-m-00425.bz2 113136392 7908799\n",
      "part-m-00425.bz2 113136393 7908799\n",
      "part-m-00425.bz2 113136394 7908799\n",
      "part-m-00425.bz2 113136395 7908799\n",
      "part-m-00425.bz2 113136396 7908799\n",
      "part-m-00425.bz2 113136397 7908799\n",
      "part-m-00425.bz2 113136398 7908799\n",
      "part-m-00425.bz2 113136399 7908799\n",
      "part-m-00425.bz2 113136400 7908799\n",
      "part-m-00425.bz2 113136401 7908799\n",
      "part-m-00425.bz2 113136403 7908799\n",
      "part-m-00425.bz2 113136404 7908799\n",
      "part-m-00425.bz2 113136405 7908799\n",
      "part-m-00425.bz2 113136406 7908799\n",
      "part-m-00425.bz2 113136407 7908799\n",
      "part-m-00425.bz2 113136408 7908799\n",
      "part-m-00425.bz2 113136409 7908799\n",
      "part-m-00425.bz2 113136410 7908799\n",
      "part-m-00425.bz2 113136411 7908799\n",
      "part-m-00425.bz2 113136412 7908799\n",
      "part-m-00425.bz2 113136413 7908799\n",
      "part-m-00425.bz2 113136414 7908799\n",
      "part-m-00425.bz2 113136415 7908799\n",
      "part-m-00425.bz2 113136416 7908799\n",
      "part-m-00425.bz2 113136417 7908799\n",
      "part-m-00425.bz2 113136418 7908799\n",
      "part-m-00425.bz2 113136419 7908799\n",
      "part-m-00425.bz2 113136420 7908799\n",
      "part-m-00425.bz2 113136421 7908799\n",
      "part-m-00425.bz2 113136422 7908799\n",
      "part-m-00425.bz2 113136423 7908799\n",
      "part-m-00425.bz2 113136424 7908799\n",
      "part-m-00425.bz2 113136428 7908799\n",
      "part-m-00425.bz2 113136432 7908799\n",
      "part-m-00425.bz2 113136435 7908799\n",
      "part-m-00425.bz2 113136436 7908799\n",
      "part-m-00425.bz2 113136437 7908799\n",
      "part-m-00425.bz2 113136440 7908799\n",
      "part-m-00425.bz2 113136441 7908799\n",
      "part-m-00425.bz2 113136449 7908799\n",
      "part-m-00425.bz2 113136451 7908799\n",
      "part-m-00425.bz2 113136454 7908799\n",
      "part-m-00425.bz2 113136458 7908799\n",
      "part-m-00425.bz2 113136459 7908799\n",
      "part-m-00425.bz2 113136460 7908799\n",
      "part-m-00425.bz2 113136461 7908799\n",
      "part-m-00425.bz2 113136462 7908799\n",
      "part-m-00425.bz2 113136463 7908799\n",
      "part-m-00425.bz2 113136466 7908799\n",
      "part-m-00425.bz2 113136467 7908799\n",
      "part-m-00425.bz2 113136468 7908799\n",
      "part-m-00425.bz2 113136472 7908799\n",
      "part-m-00425.bz2 113136473 7908799\n",
      "part-m-00425.bz2 113136476 7908799\n",
      "part-m-00425.bz2 113136477 7908799\n",
      "part-m-00425.bz2 113136478 7908799\n",
      "part-m-00425.bz2 113136479 7908799\n",
      "part-m-00425.bz2 113136480 7908799\n",
      "part-m-00425.bz2 113136482 7908799\n",
      "part-m-00425.bz2 113136483 7908799\n",
      "part-m-00425.bz2 113136489 7908799\n",
      "part-m-00425.bz2 113136492 7908799\n",
      "part-m-00425.bz2 113136494 7908799\n",
      "part-m-00425.bz2 113136497 7908799\n",
      "part-m-00425.bz2 113136500 7908799\n",
      "part-m-00425.bz2 113136501 7908799\n",
      "part-m-00425.bz2 113136502 7908799\n",
      "part-m-00425.bz2 113136506 7908799\n",
      "part-m-00425.bz2 113136508 7908799\n",
      "part-m-00425.bz2 113136509 7908799\n",
      "part-m-00425.bz2 113136517 7908799\n",
      "part-m-00425.bz2 113136525 7908799\n",
      "part-m-00425.bz2 113136526 7908799\n",
      "part-m-00425.bz2 113136527 7908799\n",
      "part-m-00425.bz2 113136528 7908799\n",
      "part-m-00425.bz2 113136529 7908799\n",
      "part-m-00425.bz2 113136530 7908799\n",
      "part-m-00425.bz2 113136531 7908799\n",
      "part-m-00425.bz2 113136532 7908799\n",
      "part-m-00425.bz2 113136533 7908799\n",
      "part-m-00425.bz2 113136534 7908799\n",
      "part-m-00425.bz2 113136535 7908799\n",
      "part-m-00425.bz2 113136540 7908799\n",
      "part-m-00425.bz2 113136544 7908799\n",
      "part-m-00425.bz2 113136545 7908799\n",
      "part-m-00425.bz2 113136550 7908799\n",
      "part-m-00425.bz2 113136553 7908799\n",
      "part-m-00425.bz2 113138247 7910265\n",
      "part-m-00425.bz2 113138260 7910265\n",
      "part-m-00425.bz2 113138261 7910265\n",
      "part-m-00425.bz2 113138262 7910265\n",
      "part-m-00425.bz2 113138263 7910265\n",
      "part-m-00425.bz2 113138265 7910265\n",
      "part-m-00425.bz2 113138266 7910265\n",
      "part-m-00425.bz2 113138267 7910265\n",
      "part-m-00425.bz2 113138270 7910265\n",
      "part-m-00425.bz2 113138271 7910265\n",
      "part-m-00425.bz2 113138652 7910898\n",
      "part-m-00425.bz2 113138653 7910898\n",
      "part-m-00425.bz2 113138663 7910898\n",
      "part-m-00425.bz2 113138664 7910898\n",
      "part-m-00425.bz2 113138666 7910898\n",
      "part-m-00425.bz2 113138976 7911541\n",
      "part-m-00425.bz2 113138978 7911541\n"
     ]
    },
    {
     "name": "stdout",
     "output_type": "stream",
     "text": [
      "part-m-00425.bz2 113168983 7961257\n",
      "part-m-00425.bz2 113168984 7961257\n",
      "part-m-00425.bz2 113168989 7961257\n",
      "part-m-00425.bz2 113168990 7961257\n",
      "part-m-00788.bz2 238075493 29469232\n",
      "part-m-00788.bz2 238075494 29469232\n",
      "part-m-00953.bz2 294268958 40853236\n",
      "part-m-00953.bz2 294268959 40853236\n",
      "part-m-00953.bz2 294268960 40853236\n",
      "part-m-00953.bz2 294268961 40853236\n",
      "part-m-00769.bz2 223955814 58808632\n",
      "part-m-00769.bz2 223955815 58808632\n",
      "part-m-00755.bz2 209529563 40048015\n",
      "part-m-00755.bz2 209529565 40048015\n",
      "part-m-01573.bz2 491507422 70256423\n",
      "part-m-01573.bz2 491507424 70256423\n",
      "part-m-01573.bz2 491570764 70290068\n",
      "part-m-01573.bz2 491570766 70290068\n",
      "part-m-01572.bz2 491474724 70185960\n",
      "part-m-01572.bz2 491474725 70185960\n",
      "part-m-00353.bz2 98785477 3152364\n",
      "part-m-00353.bz2 98785478 3152364\n",
      "part-m-00353.bz2 98785480 3152364\n",
      "part-m-00353.bz2 98785482 3152364\n",
      "part-m-00954.bz2 295243287 41321038\n",
      "part-m-00954.bz2 295243288 41321038\n",
      "part-m-00954.bz2 295243289 41321038\n",
      "part-m-00954.bz2 295243294 41321038\n",
      "part-m-00954.bz2 295243295 41321038\n",
      "part-m-00954.bz2 295243297 41321038\n",
      "part-m-00954.bz2 295243298 41321038\n",
      "part-m-00954.bz2 295243299 41321038\n",
      "part-m-00954.bz2 295243300 41321038\n",
      "part-m-00954.bz2 295243301 41321038\n",
      "part-m-00954.bz2 295243308 41321038\n",
      "part-m-00954.bz2 295243310 41321038\n",
      "part-m-00954.bz2 295243311 41321038\n",
      "part-m-00954.bz2 295243316 41321038\n",
      "part-m-00954.bz2 295243317 41321038\n",
      "part-m-00954.bz2 295243322 41321038\n",
      "part-m-00954.bz2 295243324 41321038\n",
      "part-m-00954.bz2 295243325 41321038\n",
      "part-m-00954.bz2 295243326 41321038\n",
      "part-m-00954.bz2 295243327 41321038\n",
      "part-m-00954.bz2 295243336 41321038\n",
      "part-m-00954.bz2 295243337 41321038\n",
      "part-m-00954.bz2 295243338 41321038\n",
      "part-m-00954.bz2 295243339 41321038\n",
      "part-m-00954.bz2 295243340 41321038\n",
      "part-m-00954.bz2 295243341 41321038\n",
      "part-m-00954.bz2 295243342 41321038\n",
      "part-m-00954.bz2 295243344 41321038\n",
      "part-m-00954.bz2 295243345 41321038\n",
      "part-m-00954.bz2 295243346 41321038\n",
      "part-m-00954.bz2 295243347 41321038\n",
      "part-m-00954.bz2 295243355 41321038\n",
      "part-m-00954.bz2 295243356 41321038\n",
      "part-m-00954.bz2 295243357 41321038\n",
      "part-m-00954.bz2 295243358 41321038\n",
      "part-m-00954.bz2 295243359 41321038\n",
      "part-m-00954.bz2 295243364 41321038\n",
      "part-m-00954.bz2 295243385 41321038\n",
      "part-m-00954.bz2 295243386 41321038\n",
      "part-m-00954.bz2 295243387 41321038\n",
      "part-m-00954.bz2 295243389 41321038\n",
      "part-m-00954.bz2 295243408 41321038\n",
      "part-m-00954.bz2 295243411 41321038\n",
      "part-m-00954.bz2 295243412 41321038\n",
      "part-m-00954.bz2 295243415 41321038\n",
      "part-m-00954.bz2 295243417 41321038\n",
      "part-m-00954.bz2 295243418 41321038\n",
      "part-m-00954.bz2 295243419 41321038\n",
      "part-m-00954.bz2 295243420 41321038\n",
      "part-m-00954.bz2 295243421 41321038\n",
      "part-m-00954.bz2 295243422 41321038\n",
      "part-m-00954.bz2 295243423 41321038\n",
      "part-m-00954.bz2 295243424 41321038\n",
      "part-m-00954.bz2 295243426 41321038\n",
      "part-m-00954.bz2 295243427 41321038\n",
      "part-m-00954.bz2 295243428 41321038\n",
      "part-m-00954.bz2 295243429 41321038\n",
      "part-m-00954.bz2 295243431 41321038\n",
      "part-m-00954.bz2 295243432 41321038\n",
      "part-m-00954.bz2 295243435 41321038\n",
      "part-m-00954.bz2 295243436 41321038\n",
      "part-m-00954.bz2 295243438 41321038\n",
      "part-m-00954.bz2 295243455 41321038\n",
      "part-m-00954.bz2 295243457 41321038\n",
      "part-m-00954.bz2 295243458 41321038\n",
      "part-m-00954.bz2 295243459 41321038\n",
      "part-m-00954.bz2 295243461 41321038\n",
      "part-m-00954.bz2 295243462 41321038\n",
      "part-m-00954.bz2 295243463 41321038\n",
      "part-m-00954.bz2 295243464 41321038\n",
      "part-m-00954.bz2 295243465 41321038\n",
      "part-m-00954.bz2 295243466 41321038\n",
      "part-m-00954.bz2 295243467 41321038\n",
      "part-m-00954.bz2 295243468 41321038\n",
      "part-m-00954.bz2 295243469 41321038\n",
      "part-m-00954.bz2 295243472 41321038\n",
      "part-m-00954.bz2 295243473 41321038\n",
      "part-m-00954.bz2 295243474 41321038\n",
      "part-m-00954.bz2 295243475 41321038\n",
      "part-m-00954.bz2 295243480 41321038\n",
      "part-m-00954.bz2 295243498 41321038\n",
      "part-m-00954.bz2 295243501 41321038\n",
      "part-m-00954.bz2 295243504 41321038\n",
      "part-m-00954.bz2 295243506 41321038\n",
      "part-m-00954.bz2 295243507 41321038\n",
      "part-m-00954.bz2 295243511 41321038\n",
      "part-m-00954.bz2 295243512 41321038\n",
      "part-m-00954.bz2 295243520 41321038\n",
      "part-m-00954.bz2 295243521 41321038\n",
      "part-m-00954.bz2 295243522 41321038\n",
      "part-m-00954.bz2 295243523 41321038\n",
      "part-m-00954.bz2 295243524 41321038\n",
      "part-m-00954.bz2 295243525 41321038\n",
      "part-m-00520.bz2 143333149 25635850\n",
      "part-m-00520.bz2 143333150 25635850\n",
      "part-m-00520.bz2 143333151 25635850\n",
      "part-m-00520.bz2 143333152 25635850\n",
      "part-m-00520.bz2 143333153 25635850\n",
      "part-m-00520.bz2 143333154 25635850\n",
      "part-m-00520.bz2 143333155 25635850\n",
      "part-m-00520.bz2 143333156 25635850\n",
      "part-m-00520.bz2 143333157 25635850\n",
      "part-m-00520.bz2 143333158 25635850\n",
      "part-m-00520.bz2 143333159 25635850\n",
      "part-m-00520.bz2 143333160 25635850\n",
      "part-m-00520.bz2 143333161 25635850\n",
      "part-m-00520.bz2 143333162 25635850\n",
      "part-m-00520.bz2 143333163 25635850\n",
      "part-m-00520.bz2 143333164 25635850\n",
      "part-m-00520.bz2 143333165 25635850\n",
      "part-m-00520.bz2 143333166 25635850\n",
      "part-m-00520.bz2 143333167 25635850\n",
      "part-m-00520.bz2 143333168 25635850\n",
      "part-m-00520.bz2 143333169 25635850\n",
      "part-m-00520.bz2 143333170 25635850\n",
      "part-m-00520.bz2 143333171 25635850\n",
      "part-m-00520.bz2 143333172 25635850\n",
      "part-m-00520.bz2 143333174 25635850\n",
      "part-m-00520.bz2 143333175 25635850\n",
      "part-m-00520.bz2 143333176 25635850\n",
      "part-m-00520.bz2 143333178 25635850\n",
      "part-m-00520.bz2 143333179 25635850\n",
      "part-m-00520.bz2 143333180 25635850\n",
      "part-m-00520.bz2 143333181 25635850\n",
      "part-m-00520.bz2 143333182 25635850\n",
      "part-m-00520.bz2 143333183 25635850\n",
      "part-m-00520.bz2 143333184 25635850\n",
      "part-m-00520.bz2 143333186 25635850\n",
      "part-m-00520.bz2 143333187 25635850\n",
      "part-m-00520.bz2 143333188 25635850\n",
      "part-m-00520.bz2 143333189 25635850\n",
      "part-m-00520.bz2 143333190 25635850\n",
      "part-m-00520.bz2 143333191 25635850\n",
      "part-m-00520.bz2 143333192 25635850\n",
      "part-m-00520.bz2 143333193 25635850\n",
      "part-m-00520.bz2 143333194 25635850\n",
      "part-m-00520.bz2 143333195 25635850\n",
      "part-m-00520.bz2 143333196 25635850\n",
      "part-m-00520.bz2 143333197 25635850\n",
      "part-m-00520.bz2 143333198 25635850\n",
      "part-m-00520.bz2 143333199 25635850\n",
      "part-m-01208.bz2 371327584 42395261\n",
      "part-m-01208.bz2 371327589 42395261\n",
      "part-m-01208.bz2 371327592 42395261\n",
      "part-m-01208.bz2 371327597 42395261\n",
      "part-m-01594.bz2 494814538 62692840\n",
      "part-m-00470.bz2 124094270 4952761\n",
      "part-m-00470.bz2 124094271 4952761\n",
      "part-m-01248.bz2 387097156 59529157\n",
      "part-m-01248.bz2 387097157 59529157\n",
      "part-m-01248.bz2 387097161 59529157\n",
      "part-m-01248.bz2 387097162 59529157\n",
      "part-m-01248.bz2 387097166 59529157\n",
      "part-m-01248.bz2 387097171 59529157\n",
      "part-m-01248.bz2 387097172 59529157\n",
      "part-m-01248.bz2 387097174 59529157\n",
      "part-m-01248.bz2 387097177 59529157\n",
      "part-m-01248.bz2 387097178 59529157\n",
      "part-m-01248.bz2 387097179 59529157\n",
      "part-m-01248.bz2 387097180 59529157\n",
      "part-m-01248.bz2 387097181 59529157\n",
      "part-m-01248.bz2 387097182 59529157\n",
      "part-m-01248.bz2 387097183 59529157\n",
      "part-m-01248.bz2 387097185 59529157\n",
      "part-m-01248.bz2 387097187 59529157\n",
      "part-m-01248.bz2 387097188 59529157\n",
      "part-m-01248.bz2 387097190 59529157\n",
      "part-m-01248.bz2 387097191 59529157\n",
      "part-m-01248.bz2 387097192 59529157\n",
      "part-m-01248.bz2 387097193 59529157\n",
      "part-m-01248.bz2 387097194 59529157\n",
      "part-m-01248.bz2 387097196 59529157\n",
      "part-m-01248.bz2 387097197 59529157\n",
      "part-m-01350.bz2 428019577 61065216\n",
      "part-m-01350.bz2 428019578 61065216\n",
      "part-m-01350.bz2 428019579 61065216\n",
      "part-m-01350.bz2 428019580 61065216\n",
      "part-m-00685.bz2 184155994 21026562\n",
      "part-m-00685.bz2 184155997 21026562\n",
      "part-m-01426.bz2 446295002 55874668\n",
      "part-m-01426.bz2 446295003 55874668\n",
      "part-m-01426.bz2 446295004 55874668\n",
      "part-m-01426.bz2 446295005 55874668\n",
      "\n"
     ]
    }
   ],
   "source": [
    "from multiprocessing.dummy import Pool, Lock, Queue\n",
    "with Pool(processes=4) as pool, tqdm(total=len(file_list)) as pbar:\n",
    "    lock = pbar.get_lock()\n",
    "    pool.map(process_file_by_query_thread, file_list)"
   ]
  },
  {
   "cell_type": "markdown",
   "id": "b25f2f5f",
   "metadata": {},
   "source": [
    "USE ir;  \n",
    "GO  \n",
    "ALTER TABLE dbo.log_session  \n",
    "ADD CONSTRAINT PK_log_session_id PRIMARY KEY CLUSTERED (id);  "
   ]
  },
  {
   "cell_type": "markdown",
   "id": "b3988d92",
   "metadata": {},
   "source": [
    "ALTER TABLE dbo.log_session  \n",
    "ADD CONSTRAINT FK_session_query FOREIGN KEY ([query_id])    \n",
    "REFERENCES dbo.log_query ([id]);  "
   ]
  },
  {
   "cell_type": "markdown",
   "id": "7866dd6e",
   "metadata": {},
   "source": [
    "USE ir;  \n",
    "GO\n",
    "IF EXISTS (SELECT name FROM sys.indexes  \n",
    "            WHERE name = N'ix_log_session_query_id')   \n",
    "    DROP INDEX ix_log_session_query_id ON dbo.log_session;   \n",
    "GO \n",
    "CREATE NONCLUSTERED INDEX ix_log_session_query_id   \n",
    "    ON dbo.log_session (query_id);   \n",
    "GO  "
   ]
  },
  {
   "cell_type": "markdown",
   "id": "f079f168",
   "metadata": {},
   "source": [
    "USE ir;  \n",
    "GO  \n",
    "IF EXISTS (SELECT name FROM sys.indexes  \n",
    "WHERE name = N'ix_log_session_filename')  \n",
    "DROP INDEX ix_log_session_filename ON dbo.log_session;  \n",
    "GO  \n",
    "CREATE NONCLUSTERED INDEX ix_log_session_filename  \n",
    "ON dbo.log_session ([filename]);  \n",
    "GO  "
   ]
  },
  {
   "cell_type": "markdown",
   "id": "75f8a7a8",
   "metadata": {},
   "source": [
    "**log_click**"
   ]
  },
  {
   "cell_type": "markdown",
   "id": "57301311",
   "metadata": {},
   "source": [
    "ALTER TABLE dbo.log_click  \n",
    "ADD CONSTRAINT FK_click_session FOREIGN KEY ([session_id])  \n",
    "REFERENCES dbo.log_session ([id]);  \n",
    "\n",
    "USE ir;  \n",
    "GO  \n",
    "IF EXISTS (SELECT name FROM sys.indexes  \n",
    "\t\t   WHERE name = N'ix_log_click_url_id')  \n",
    "DROP INDEX ix_log_click_url_id ON dbo.log_click;  \n",
    "GO  \n",
    "CREATE NONCLUSTERED INDEX ix_log_click_url_id  \n",
    "ON dbo.log_click (url_id);  \n",
    "GO  \n",
    "\n",
    "USE ir; \n",
    "GO  \n",
    "IF EXISTS (SELECT name FROM sys.indexes  \n",
    "\t\t   WHERE name = N'ix_log_click_host_id')  \n",
    "DROP INDEX ix_log_click_host_id ON dbo.log_click;  \n",
    "GO  \n",
    "CREATE NONCLUSTERED INDEX ix_log_click_host_id  \n",
    "ON dbo.log_click ([host_id]);\n",
    "GO  \n",
    "\n",
    "USE ir;  \n",
    "GO  \n",
    "IF EXISTS (SELECT name FROM sys.indexes  \n",
    "\t\t   WHERE name = N'ix_log_click_session_id')  \n",
    "DROP INDEX ix_log_click_session_id ON dbo.log_click;  \n",
    "GO  \n",
    "CREATE NONCLUSTERED INDEX ix_log_click_session_id  \n",
    "ON dbo.log_click(session_id);  \n",
    "GO  "
   ]
  },
  {
   "cell_type": "markdown",
   "id": "ad2bdf48",
   "metadata": {},
   "source": [
    "**log_show**"
   ]
  },
  {
   "cell_type": "markdown",
   "id": "97223c6f",
   "metadata": {},
   "source": [
    "ALTER TABLE dbo.log_show  \n",
    "ADD CONSTRAINT FK_show_session FOREIGN KEY ([session_id])  \n",
    "REFERENCES dbo.log_session ([id]);  \n",
    "\n",
    "USE ir;  \n",
    "GO  \n",
    "IF EXISTS (SELECT name FROM sys.indexes  \n",
    "\t\t   WHERE name = N'ix_log_show_url_id')  \n",
    "DROP INDEX ix_log_show_url_id ON dbo.log_show;  \n",
    "GO  \n",
    "CREATE NONCLUSTERED INDEX ix_log_show_url_id  \n",
    "ON dbo.log_show (url_id);  \n",
    "GO  \n",
    "\n",
    "USE ir; \n",
    "GO  \n",
    "IF EXISTS (SELECT name FROM sys.indexes  \n",
    "\t\t   WHERE name = N'ix_log_show_host_id')  \n",
    "DROP INDEX ix_log_show_host_id ON dbo.log_show;  \n",
    "GO  \n",
    "CREATE NONCLUSTERED INDEX ix_log_show_host_id  \n",
    "ON dbo.log_show ([host_id]);  \n",
    "GO  \n",
    "\n",
    "USE ir;  \n",
    "GO  \n",
    "IF EXISTS (SELECT name FROM sys.indexes  \n",
    "\t\t   WHERE name = N'ix_log_show_session_id')  \n",
    "DROP INDEX ix_log_show_session_id ON dbo.log_show;  \n",
    "GO  \n",
    "CREATE NONCLUSTERED INDEX ix_log_show_session_id  \n",
    "ON dbo.log_show (session_id);  \n",
    "GO  "
   ]
  },
  {
   "cell_type": "code",
   "execution_count": 99,
   "id": "0e039475",
   "metadata": {},
   "outputs": [],
   "source": [
    "file_sizes = {filename: os.path.getsize(os.path.join(\"2017\", filename)) / 1024 for filename in file_filter_dict.keys()}\n",
    "file_sizes = dict(sorted(file_sizes.items(), key=lambda item: item[1]))"
   ]
  },
  {
   "cell_type": "code",
   "execution_count": 110,
   "id": "69e66971",
   "metadata": {},
   "outputs": [
    {
     "data": {
      "text/plain": [
       "7653.2255859375"
      ]
     },
     "execution_count": 110,
     "metadata": {},
     "output_type": "execute_result"
    }
   ],
   "source": [
    "file_sizes[file_errors[9]]"
   ]
  },
  {
   "cell_type": "code",
   "execution_count": 57,
   "id": "d56841af",
   "metadata": {},
   "outputs": [],
   "source": [
    "filename = 'part-m-00930.bz2'\n",
    "file_dict[filename] = False\n",
    "process_file_by_query(filename, file_filter_dict[filename], \n",
    "                      session_tbl='dbo.log_session_tmp', \n",
    "                      show_tbl='dbo.log_show_tmp',\n",
    "                      click_tbl='dbo.log_click_tmp', \n",
    "                      check_session_tbl=True, debug=True)"
   ]
  },
  {
   "cell_type": "code",
   "execution_count": 43,
   "id": "2405e0fd",
   "metadata": {},
   "outputs": [],
   "source": [
    "log_id = 145094446\n",
    "search_query_id = 26675480"
   ]
  },
  {
   "cell_type": "code",
   "execution_count": 44,
   "id": "63da7679",
   "metadata": {},
   "outputs": [],
   "source": [
    "with helpers.get_sql_conn() as conn, conn.cursor() as cursor:\n",
    "    process_log_line(cursor, log_id, search_query_id, line,\n",
    "                     url_set=None,\n",
    "                     host_set=None,\n",
    "                     session_tbl='dbo.log_session_tmp', \n",
    "                     show_tbl='dbo.log_show_tmp',\n",
    "                     click_tbl='dbo.log_click_tmp', \n",
    "                     check_session_tbl=True)\n",
    "    conn.commit()"
   ]
  },
  {
   "cell_type": "code",
   "execution_count": 45,
   "id": "a6f62aec",
   "metadata": {},
   "outputs": [
    {
     "data": {
      "text/plain": [
       "(True,\n",
       " 'где оплатить налог на имущество в казани',\n",
       " '188',\n",
       " {'sovetclub.ru/kak-oplatit-nalog-na-imushhestvo': (1, 472538, 107111, 1),\n",
       "  'bolshoyvopros.ru/questions/1222729-kakim-obrazom-i-gde-mozhno-oplatit-nalogi-bez-komissii.html': (2,\n",
       "   None,\n",
       "   16317,\n",
       "   0),\n",
       "  'rg.ru/2013/10/15/umushestvo.html': (3, None, 94510, 0),\n",
       "  'avto-flot.ru/blog/gde-oplatit-transportnyiy-nalog-byistro-i-bez-komissii.html': (4,\n",
       "   None,\n",
       "   11163,\n",
       "   0),\n",
       "  'buhonline24.ru/nalogi/na-imushhestvo/oplata-naloga-cherez-internet.html': (5,\n",
       "   183777,\n",
       "   17390,\n",
       "   1),\n",
       "  'kzn.ru/news/55916-kazantsy-dolzhny-oplatit-imuschestvennye-nalogi-do-1-dekabrya': (6,\n",
       "   None,\n",
       "   59029,\n",
       "   0),\n",
       "  'oplatagosuslug.ru/read/important/nalogi-online': (7, None, 81304, 0),\n",
       "  'service.nalog.ru/payment/tax-fl.html': (8, None, 101929, 0),\n",
       "  'decoxl.ru/6154': (9, None, None, 1),\n",
       "  'a-3.ru/pay_taxes': (10, None, 2781, 0)},\n",
       " {'sovetclub.ru/kak-oplatit-nalog-na-imushhestvo': (1,\n",
       "   472538,\n",
       "   107111,\n",
       "   1509343534,\n",
       "   1509343587),\n",
       "  'buhonline24.ru/nalogi/na-imushhestvo/oplata-naloga-cherez-internet.html': (2,\n",
       "   183777,\n",
       "   17390,\n",
       "   1509343587,\n",
       "   1509343626),\n",
       "  'decoxl.ru/6154': (3, None, None, 1509343626, None)},\n",
       " 1,\n",
       " 9,\n",
       " 1509343534,\n",
       " 1509343626)"
      ]
     },
     "execution_count": 45,
     "metadata": {},
     "output_type": "execute_result"
    }
   ],
   "source": [
    "parse_log_line(line)"
   ]
  },
  {
   "cell_type": "markdown",
   "id": "13abcb18",
   "metadata": {},
   "source": [
    "insert into [ir].[dbo].[log_session]  \n",
    "([id] ,[query] ,[geo_id] ,[query_id] ,[t_start] ,[t_end] ,[fclick_pos] ,[lclick_pos] ,[filename])  \n",
    "select [id]  \n",
    "      ,[query]  \n",
    "      ,[geo_id]  \n",
    "      ,[query_id]  \n",
    "      ,[t_start]  \n",
    "      ,[t_end]  \n",
    "      ,[fclick_pos]  \n",
    "      ,[lclick_pos]  \n",
    "      ,[filename]  \n",
    "  FROM [ir].[dbo].[log_session_tmp]  \n",
    "  \n",
    "insert into [ir].[dbo].[log_click]  \n",
    "([session_id] ,[pos] ,[url_id] ,[t_start] ,[t_end] ,[host_id])  \n",
    "select [session_id] ,[pos] ,[url_id] ,[t_start] ,[t_end] ,[host_id]  \n",
    "FROM [ir].[dbo].[log_click_tmp]  \n",
    "\n",
    "insert into [ir].[dbo].[log_show]  \n",
    "([session_id] ,[pos] ,[url_id],[is_click] ,[host_id] ,[cm_is_skip] ,[cm_is_not_seen])  \n",
    "select [session_id] ,[pos] ,[url_id],[is_click] ,[host_id] ,[cm_is_skip] ,[cm_is_not_seen]  \n",
    "FROM [ir].[dbo].[log_show_tmp]  "
   ]
  },
  {
   "cell_type": "markdown",
   "id": "f5bb698b",
   "metadata": {},
   "source": [
    "USE ir  \n",
    "ALTER DATABASE ir SET RECOVERY SIMPLE  \n",
    "go   \n",
    "DBCC SHRINKFILE (ir_log, 1);  "
   ]
  },
  {
   "cell_type": "markdown",
   "id": "b786aaa4",
   "metadata": {},
   "source": [
    "truncate table dbo.log_session_tmp  \n",
    "truncate table dbo.log_click_tmp  \n",
    "truncate table dbo.log_show_tmp  "
   ]
  },
  {
   "cell_type": "markdown",
   "id": "cd83eb11",
   "metadata": {},
   "source": [
    "### Расчет поведенческих факторов"
   ]
  },
  {
   "cell_type": "code",
   "execution_count": 86,
   "id": "4cab44db",
   "metadata": {},
   "outputs": [],
   "source": [
    "limit = 10\n",
    "ranker = 'sph04'\n",
    "fileds = ['id', 'query', 'filename', 'log_id_start']\n",
    "index = 'log_query'\n",
    "query = helpers.cut_query('а не спеть ли мне песню о любви')\n",
    "rows = helpers.select_from_sphinx_wrapper(query, index, fileds, limit, ranker)"
   ]
  },
  {
   "cell_type": "code",
   "execution_count": 82,
   "id": "4a247b33",
   "metadata": {},
   "outputs": [
    {
     "data": {
      "text/plain": [
       "[90077298,\n",
       " 90078344,\n",
       " 90078342,\n",
       " 6789519,\n",
       " 6864512,\n",
       " 6870702,\n",
       " 6893074,\n",
       " 90078555,\n",
       " 90078976,\n",
       " 6516270]"
      ]
     },
     "execution_count": 82,
     "metadata": {},
     "output_type": "execute_result"
    }
   ],
   "source": [
    "[row[3] for row in rows]"
   ]
  },
  {
   "cell_type": "markdown",
   "id": "ad468a46",
   "metadata": {},
   "source": [
    "### Отбор файлов"
   ]
  },
  {
   "cell_type": "code",
   "execution_count": 79,
   "id": "f4b3932b",
   "metadata": {},
   "outputs": [],
   "source": [
    "import pandas as pd"
   ]
  },
  {
   "cell_type": "code",
   "execution_count": 80,
   "id": "8e50ed76",
   "metadata": {},
   "outputs": [],
   "source": [
    "queries_df = pd.read_csv('corrected_queries.tsv', sep='\\t')"
   ]
  },
  {
   "cell_type": "code",
   "execution_count": 88,
   "id": "35be353f",
   "metadata": {},
   "outputs": [
    {
     "data": {
      "application/vnd.jupyter.widget-view+json": {
       "model_id": "5c9235f534484d35a07bd61ed6f9eed8",
       "version_major": 2,
       "version_minor": 0
      },
      "text/plain": [
       "HBox(children=(FloatProgress(value=0.0, max=6311.0), HTML(value='')))"
      ]
     },
     "metadata": {},
     "output_type": "display_data"
    },
    {
     "name": "stdout",
     "output_type": "stream",
     "text": [
      "\n"
     ]
    }
   ],
   "source": [
    "limit = 10\n",
    "ranker = 'sph04'\n",
    "fileds = ['id', 'query', 'filename', 'log_id_start', 'weight()']\n",
    "index = 'log_query'\n",
    "\n",
    "qid_list = []\n",
    "c_qid_list = []\n",
    "c_query_list = []\n",
    "c_filename_list = []\n",
    "c_log_id_start_list = []\n",
    "c_query_weight_list = []\n",
    "\n",
    "with helpers.get_sphinx_conn() as sphinx_conn:\n",
    "    for _, row in tqdm(queries_df.iterrows(), total=len(queries_df)):\n",
    "        query = helpers.cut_query(row.corrected_query)\n",
    "        docs = helpers.select_from_sphinx(sphinx_conn, query, index, fileds, limit, ranker)\n",
    "        for doc in docs:\n",
    "            qid_list.append(row.id)\n",
    "            c_qid_list.append(doc[0])\n",
    "            c_query_list.append(doc[1])\n",
    "            c_filename_list.append(doc[2])\n",
    "            c_log_id_start_list.append(doc[3])\n",
    "            c_query_weight_list.append(doc[4])"
   ]
  },
  {
   "cell_type": "code",
   "execution_count": 89,
   "id": "d0a8ff7e",
   "metadata": {},
   "outputs": [],
   "source": [
    "click_data_dict = {'query_id': qid_list, 'c_query_id': c_qid_list, \n",
    "                   'c_query': c_query_list, 'filename': c_filename_list, \n",
    "                   'log_id_start': c_log_id_start_list, 'c_query_weight': c_query_weight_list}\n",
    "click_data_df = pd.DataFrame(data = click_data_dict)"
   ]
  },
  {
   "cell_type": "code",
   "execution_count": 91,
   "id": "e4532677",
   "metadata": {},
   "outputs": [],
   "source": [
    "helpers.save_obj(click_data_df, 'click_data_df')"
   ]
  },
  {
   "cell_type": "code",
   "execution_count": 83,
   "id": "1af2f695",
   "metadata": {},
   "outputs": [],
   "source": [
    "click_data_df.to_csv('click_data_df.csv', index=False, sep='\\t')"
   ]
  },
  {
   "cell_type": "markdown",
   "id": "7f06a2fb",
   "metadata": {},
   "source": [
    "### Парсинг файлов для расчета click models"
   ]
  },
  {
   "cell_type": "code",
   "execution_count": 49,
   "id": "c3218400",
   "metadata": {},
   "outputs": [],
   "source": [
    "class ClickDataParser:\n",
    "    @staticmethod\n",
    "    def parse_filter(sessions_filename, log_id_start_dict, sessions_max=None):\n",
    "        \"\"\"\n",
    "        Parses search sessions, formatted according to:\n",
    "        Query Text @ Query Geo <tab> List of shown urls <tab> List of clicked urls <tab>\n",
    "        :param sessions_filename: The name of the file with search sessions.\n",
    "        :param sessions_max: The maximum number of search sessions to return.\n",
    "        If not set, all search sessions are parsed and returned.\n",
    "        :returns: A list of parsed search sessions, wrapped into SearchSession objects.\n",
    "        \"\"\"\n",
    "        log_id_file = log_ids[sessions_filename][0]\n",
    "        with bz2.open(os.path.join(\"2017\", sessions_filename), \"rb\") as f:\n",
    "            lines = f.readlines()\n",
    "\n",
    "        sessions = []\n",
    "\n",
    "        log_id = log_id_file\n",
    "        log_id_start_list = sorted(log_id_start_dict.keys())\n",
    "        log_id_idx = 0\n",
    "        log_id_q = log_id_start_list[log_id_idx]\n",
    "        for line in lines:\n",
    "            if log_id < log_id_q:\n",
    "                log_id = log_id + 1\n",
    "                continue\n",
    "            if sessions_max and len(sessions) >= sessions_max:\n",
    "                break\n",
    "            if log_id == log_id_q:\n",
    "                q_dict = log_id_start_dict[log_id_q]\n",
    "\n",
    "            line = line.decode('utf-8').rstrip('\\n')\n",
    "            query = line.split(\"@\")[0]\n",
    "\n",
    "            if q_dict['search_query'] != query:\n",
    "                if log_id_start_idx + 1 < len(log_id_start_list):\n",
    "                    log_id_idx = log_id_idx + 1\n",
    "                    log_id_q = log_id_start_list[log_id_idx]\n",
    "                    if log_id == log_id_q:\n",
    "                        q_dict = log_id_start_dict[log_id_q]\n",
    "                    else:\n",
    "                        log_id = log_id + 1\n",
    "                        continue\n",
    "                else:\n",
    "                    break\n",
    "\n",
    "            line = line[len(query) + 1:]\n",
    "            data = line.split('\\t')\n",
    "\n",
    "            task = log_id + log_id_file\n",
    "            results = dict(map(lambda x: (x.split(\"://\")[-1], None) if x.find('://') > 0 else (x, None), \n",
    "                               data[1].split(',')))\n",
    "\n",
    "            if not (set(q_dict['urls']) & set(results)):\n",
    "                log_id = log_id + 1\n",
    "                continue\n",
    "\n",
    "            click_results = dict(map(lambda x: (x.split(\"://\")[-1], None) if x.find('://') > 0 else (x, None), \n",
    "                                     data[2].split(',')))\n",
    "\n",
    "            session = TaskCentricSearchSession(task, q_dict['session_query_id'])\n",
    "\n",
    "            for result in results:\n",
    "                click = 1 if result in click_results else 0\n",
    "                result = SearchResult(result, click)\n",
    "                session.web_results.append(result)\n",
    "\n",
    "            sessions.append(session)\n",
    "            log_id = log_id + 1            \n",
    "        return sessions"
   ]
  },
  {
   "cell_type": "code",
   "execution_count": 64,
   "id": "0775b3b6",
   "metadata": {},
   "outputs": [],
   "source": [
    "click_data_df = click_data_df.sort_values(by=['query_id', 'filename', 'log_id_start'])"
   ]
  },
  {
   "cell_type": "code",
   "execution_count": 92,
   "id": "bb81004f",
   "metadata": {},
   "outputs": [],
   "source": [
    "files_unique = np.unique(click_data_df['filename'], return_counts=False)"
   ]
  },
  {
   "cell_type": "code",
   "execution_count": 93,
   "id": "f6c07901",
   "metadata": {},
   "outputs": [
    {
     "data": {
      "text/plain": [
       "1452"
      ]
     },
     "execution_count": 93,
     "metadata": {},
     "output_type": "execute_result"
    }
   ],
   "source": [
    "len(files_unique)"
   ]
  },
  {
   "cell_type": "code",
   "execution_count": 95,
   "id": "a5e3a06e",
   "metadata": {},
   "outputs": [],
   "source": [
    "url_data_df = pd.read_csv('url.data', header=None, sep='\\t')\n",
    "url_data_df.rename(columns={0: \"doc_id\", 1: \"url_id\"}, inplace=True)"
   ]
  },
  {
   "cell_type": "code",
   "execution_count": 97,
   "id": "95ebfc9b",
   "metadata": {},
   "outputs": [],
   "source": [
    "train_df = pd.read_csv('mark_data_df_use_qa.csv', sep='\\t')\n",
    "test_df = pd.read_csv('sample_data_df_use_qa.csv', sep='\\t')"
   ]
  },
  {
   "cell_type": "code",
   "execution_count": 103,
   "id": "42b04d9e",
   "metadata": {},
   "outputs": [],
   "source": [
    "from collections import defaultdict"
   ]
  },
  {
   "cell_type": "code",
   "execution_count": 179,
   "id": "c89720a4",
   "metadata": {},
   "outputs": [],
   "source": [
    "file_filter_dict = defaultdict(dict)"
   ]
  },
  {
   "cell_type": "code",
   "execution_count": 180,
   "id": "e4a00e27",
   "metadata": {},
   "outputs": [
    {
     "data": {
      "application/vnd.jupyter.widget-view+json": {
       "model_id": "cc6baa849fcc4df09761f7b4c14c588b",
       "version_major": 2,
       "version_minor": 0
      },
      "text/plain": [
       "HBox(children=(FloatProgress(value=0.0, max=2111.0), HTML(value='')))"
      ]
     },
     "metadata": {},
     "output_type": "display_data"
    },
    {
     "name": "stdout",
     "output_type": "stream",
     "text": [
      "\n"
     ]
    }
   ],
   "source": [
    "qids_unique = np.unique(train_df['query_id'], return_counts=False)\n",
    "for qid in tqdm(qids_unique, total=len(qids_unique)):\n",
    "    dids = train_df[train_df.query_id == qid].doc_id.values\n",
    "    urls = url_data_df.loc[url_data_df['doc_id'].isin(dids)].url_id.values\n",
    "    click_data_q_df = click_data_df[click_data_df.query_id == qid]\n",
    "    for _, row in click_data_q_df.iterrows():\n",
    "        file_filter_dict[row.filename][row.log_id_start] = {'session_query_id': row.query_id, \n",
    "                                                            'search_query_id': row.c_query_id,\n",
    "                                                            'search_query'  : row.c_query, \n",
    "                                                            'urls': urls}"
   ]
  },
  {
   "cell_type": "code",
   "execution_count": 181,
   "id": "fdddafe8",
   "metadata": {},
   "outputs": [
    {
     "data": {
      "application/vnd.jupyter.widget-view+json": {
       "model_id": "1451fe9eca0141459da9ff964dcddb8c",
       "version_major": 2,
       "version_minor": 0
      },
      "text/plain": [
       "HBox(children=(FloatProgress(value=0.0, max=4200.0), HTML(value='')))"
      ]
     },
     "metadata": {},
     "output_type": "display_data"
    },
    {
     "name": "stdout",
     "output_type": "stream",
     "text": [
      "\n"
     ]
    }
   ],
   "source": [
    "qids_unique = np.unique(test_df['query_id'], return_counts=False)\n",
    "for qid in tqdm(qids_unique, total=len(qids_unique)):\n",
    "    dids = test_df[test_df.query_id == qid].doc_id.values\n",
    "    urls = url_data_df.loc[url_data_df['doc_id'].isin(dids)].url_id.values\n",
    "    click_data_q_df = click_data_df[click_data_df.query_id == qid]\n",
    "    for _, row in click_data_q_df.iterrows():\n",
    "        file_filter_dict[row.filename][row.log_id_start] = {'session_query_id': row.query_id, \n",
    "                                                            'search_query_id': row.c_query_id,\n",
    "                                                            'search_query'  : row.c_query, \n",
    "                                                            'urls': urls}"
   ]
  },
  {
   "cell_type": "code",
   "execution_count": 109,
   "id": "203cecbe",
   "metadata": {},
   "outputs": [],
   "source": [
    "from pyclick.click_models.task_centric.TaskCentricSearchSession import TaskCentricSearchSession\n",
    "from pyclick.search_session.SearchResult import SearchResult"
   ]
  },
  {
   "cell_type": "code",
   "execution_count": 182,
   "id": "16477f63",
   "metadata": {},
   "outputs": [],
   "source": [
    "search_sessions_path = files_unique[0]"
   ]
  },
  {
   "cell_type": "code",
   "execution_count": 183,
   "id": "47d3db5e",
   "metadata": {},
   "outputs": [],
   "source": [
    "f_search_sessions = ClickDataParser().parse_filter(search_sessions_path, file_filter_dict[search_sessions_path])"
   ]
  },
  {
   "cell_type": "code",
   "execution_count": 185,
   "id": "f820bae0",
   "metadata": {},
   "outputs": [
    {
     "data": {
      "application/vnd.jupyter.widget-view+json": {
       "model_id": "1da761ff90484a02bf295acb1b7e1a1a",
       "version_major": 2,
       "version_minor": 0
      },
      "text/plain": [
       "HBox(children=(FloatProgress(value=0.0, max=1452.0), HTML(value='')))"
      ]
     },
     "metadata": {},
     "output_type": "display_data"
    },
    {
     "name": "stdout",
     "output_type": "stream",
     "text": [
      "\n"
     ]
    }
   ],
   "source": [
    "search_sessions = []\n",
    "for search_sessions_path in tqdm(files_unique):\n",
    "    f_search_sessions = ClickDataParser().parse_filter(search_sessions_path, file_filter_dict[search_sessions_path])\n",
    "    search_sessions.extend(f_search_sessions)"
   ]
  },
  {
   "cell_type": "code",
   "execution_count": 186,
   "id": "0372d997",
   "metadata": {},
   "outputs": [
    {
     "data": {
      "text/plain": [
       "3542389"
      ]
     },
     "execution_count": 186,
     "metadata": {},
     "output_type": "execute_result"
    }
   ],
   "source": [
    "len(search_sessions)"
   ]
  },
  {
   "cell_type": "code",
   "execution_count": 187,
   "id": "e977f33a",
   "metadata": {},
   "outputs": [],
   "source": [
    "helpers.save_obj(search_sessions, 'search_sessions')"
   ]
  },
  {
   "cell_type": "code",
   "execution_count": 110,
   "id": "f633f5f0",
   "metadata": {},
   "outputs": [],
   "source": [
    "from __future__ import print_function\n",
    "\n",
    "import sys\n",
    "\n",
    "import time\n",
    "\n",
    "from pyclick.click_models.Evaluation import LogLikelihood, Perplexity\n",
    "from pyclick.click_models.UBM import UBM\n",
    "from pyclick.click_models.DBN import DBN\n",
    "from pyclick.click_models.SDBN import SDBN\n",
    "from pyclick.click_models.DCM import DCM\n",
    "from pyclick.click_models.CCM import CCM\n",
    "from pyclick.click_models.CTR import DCTR, RCTR, GCTR\n",
    "from pyclick.click_models.CM import CM\n",
    "from pyclick.click_models.PBM import PBM\n",
    "from pyclick.utils.Utils import Utils"
   ]
  },
  {
   "cell_type": "code",
   "execution_count": 146,
   "id": "273843ed",
   "metadata": {},
   "outputs": [],
   "source": [
    "def predict_relevance(click_model, query, search_result):\n",
    "    return click_model.params[click_model.param_names.attr].get(query, search_result).value()"
   ]
  },
  {
   "cell_type": "code",
   "execution_count": 283,
   "id": "d80a34e2",
   "metadata": {},
   "outputs": [],
   "source": [
    "def cut_session_to_10(search_sessions):\n",
    "    search_sessions_cut = []\n",
    "    for s in tqdm(search_sessions, total=len(search_sessions)):\n",
    "        s_cut = TaskCentricSearchSession(s.task, s.query)\n",
    "        s_cut.web_results = s.web_results[:10]\n",
    "        search_sessions_cut.append(s_cut)\n",
    "    return search_sessions_cut"
   ]
  },
  {
   "cell_type": "code",
   "execution_count": 145,
   "id": "102276cc",
   "metadata": {},
   "outputs": [],
   "source": [
    "def get_rels(df, click_model, predict='custom'):\n",
    "    rels = []\n",
    "    for _, row in tqdm(df.iterrows(), total=len(df)):\n",
    "        if predict == 'custom':\n",
    "            rel = predict_relevance(click_model, row.query_id, row.doc_url)\n",
    "        else:\n",
    "            rel = click_model.predict_relevance(row.query_id, row.doc_url)\n",
    "        rels.append(rel)\n",
    "    return rels"
   ]
  },
  {
   "cell_type": "code",
   "execution_count": 270,
   "id": "816d30f1",
   "metadata": {},
   "outputs": [],
   "source": [
    "def get_urls(df):\n",
    "    urls = []\n",
    "    for _, row in tqdm(df.iterrows(), total=len(df)):\n",
    "        url = url_data_df[url_data_df.doc_id == row.doc_id].url_id.values[0]\n",
    "        urls.append(url)\n",
    "    return urls"
   ]
  },
  {
   "cell_type": "code",
   "execution_count": 271,
   "id": "9183002f",
   "metadata": {},
   "outputs": [
    {
     "data": {
      "application/vnd.jupyter.widget-view+json": {
       "model_id": "15dc9cbb199e4492b7261330bdb1ba5b",
       "version_major": 2,
       "version_minor": 0
      },
      "text/plain": [
       "HBox(children=(FloatProgress(value=0.0, max=199886.0), HTML(value='')))"
      ]
     },
     "metadata": {},
     "output_type": "display_data"
    },
    {
     "name": "stdout",
     "output_type": "stream",
     "text": [
      "\n"
     ]
    }
   ],
   "source": [
    "train_urls = get_urls(train_df)\n",
    "train_df['doc_url'] = train_urls"
   ]
  },
  {
   "cell_type": "code",
   "execution_count": 272,
   "id": "1647c2d9",
   "metadata": {},
   "outputs": [
    {
     "data": {
      "application/vnd.jupyter.widget-view+json": {
       "model_id": "e21f2de77f1441c0b9e5efd75e572034",
       "version_major": 2,
       "version_minor": 0
      },
      "text/plain": [
       "HBox(children=(FloatProgress(value=0.0, max=399784.0), HTML(value='')))"
      ]
     },
     "metadata": {},
     "output_type": "display_data"
    },
    {
     "name": "stdout",
     "output_type": "stream",
     "text": [
      "\n"
     ]
    }
   ],
   "source": [
    "test_urls = get_urls(test_df)\n",
    "test_df['doc_url'] = test_urls"
   ]
  },
  {
   "cell_type": "markdown",
   "id": "4a1602a3",
   "metadata": {},
   "source": [
    "### Расчет статистики по кликовым данным"
   ]
  },
  {
   "cell_type": "code",
   "execution_count": 122,
   "id": "f3bcd579",
   "metadata": {},
   "outputs": [],
   "source": [
    "import math\n",
    "from pyclick.search_session.SearchSession import SearchSession"
   ]
  },
  {
   "cell_type": "code",
   "execution_count": 81,
   "id": "f56e08ee",
   "metadata": {},
   "outputs": [],
   "source": [
    "alpha = np.array([0.41, 0.16, 0.105, 0.08, 0.06, 0.05, 0.35, 0.3, 0.25, 0.2])"
   ]
  },
  {
   "cell_type": "code",
   "execution_count": 571,
   "id": "48b534ed",
   "metadata": {},
   "outputs": [],
   "source": [
    "def get_session_by_qid(qid, conn):\n",
    "    with conn.cursor() as cursor:\n",
    "        cursor.execute(f'select s.[id], sh.[pos], sh.[url_id], sh.[is_click] \\\n",
    "                        from [ir].[dbo].[log_session] s inner join [ir].[dbo].[log_show] sh on s.id = sh.session_id \\\n",
    "                        where s.query_id = {qid} \\\n",
    "                        order by s.id, sh.pos')\n",
    "        rows = cursor.fetchall()\n",
    "    return pd.DataFrame.from_records(rows, columns=['session_id', 'pos', 'url_id', 'is_click'])"
   ]
  },
  {
   "cell_type": "code",
   "execution_count": 343,
   "id": "e277b16d",
   "metadata": {},
   "outputs": [],
   "source": [
    "from pyclick.click_models.Inference import EMInference, MLEInference\n",
    "click_models = {'cm_rel': (CM(), False, True), \n",
    "                'sdbn_rel': (SDBN(), False, False), \n",
    "                'dctr_rel': (DCTR(), False, False),\n",
    "                #'ubm_rel': (UBM(EMInference(iter_num=1)), True, False),\n",
    "                #'dbn_rel': (DBN(EMInference(iter_num=1)), False, False)\n",
    "               }"
   ]
  },
  {
   "cell_type": "code",
   "execution_count": 574,
   "id": "15dc3f38",
   "metadata": {},
   "outputs": [],
   "source": [
    "def get_search_sessions(q_df, c_query_id, qid, smooth=True):\n",
    "    s_ids, cnt_arr = np.unique(q_df.session_id, return_counts=True)\n",
    "    search_sessions = []\n",
    "    search_sessions_cut = []\n",
    "    start_id = 0\n",
    "    for i, s_id in enumerate(s_ids):\n",
    "        end_id = start_id + cnt_arr[i]\n",
    "        q_s_df = q_df.iloc[start_id:end_id]\n",
    "        q_s_df.url_id = q_s_df.url_id.fillna(-1).values\n",
    "        if smooth:\n",
    "            s_cut = SearchSession(c_query_id)\n",
    "            s = SearchSession(c_query_id)\n",
    "        else:\n",
    "            s_cut = SearchSession(qid)\n",
    "            s = SearchSession(qid)\n",
    "        for _, row in q_s_df.iterrows():\n",
    "            result = SearchResult(int(row.url_id) if row.url_id != -1 else None, row.is_click)\n",
    "            s.web_results.append(result)\n",
    "        s_cut.web_results = s.web_results[:10]\n",
    "        \n",
    "        search_sessions.append(s)\n",
    "        search_sessions_cut.append(s_cut)\n",
    "        \n",
    "        start_id = end_id\n",
    "    return search_sessions, search_sessions_cut"
   ]
  },
  {
   "cell_type": "code",
   "execution_count": 575,
   "id": "8064d1ef",
   "metadata": {},
   "outputs": [],
   "source": [
    "def train_and_get_cm_by_qid(search_sessions, search_sessions_cut):\n",
    "    models = {'cm_rel': (CM(), False, True), \n",
    "              'sdbn_rel': (SDBN(), False, False), \n",
    "              'dctr_rel': (DCTR(), False, False),\n",
    "              #'ubm_rel': (UBM(EMInference(iter_num=1)), True, False),\n",
    "              #'dbn_rel': (DBN(EMInference(iter_num=1)), False, False)\n",
    "             }\n",
    "    for k, v in models.items():\n",
    "        model = v[0]\n",
    "        need_cut = v[1]\n",
    "        model.train(search_sessions) if not need_cut else model.train(search_sessions_cut)\n",
    "    return models"
   ]
  },
  {
   "cell_type": "code",
   "execution_count": 581,
   "id": "3afcdb4b",
   "metadata": {},
   "outputs": [],
   "source": [
    "def get_cm_stat_by_q(conn, qid, qids_aux, sim_aux, dids):\n",
    "    if len(sim_aux) == 0:\n",
    "        return {k: [0] * len(dids) for k in click_models.keys()}\n",
    "    \n",
    "    click_features_dict = {}\n",
    "    search_sessions = [] \n",
    "    search_sessions_cut = []\n",
    "    for c_query_id in qids_aux:\n",
    "        q_df = get_session_by_qid(c_query_id, conn)\n",
    "        s, s_cut = get_search_sessions(q_df, c_query_id, qid, smooth=False)\n",
    "        search_sessions.extend(s)\n",
    "        search_sessions_cut.extend(s_cut)\n",
    "    models = train_and_get_cm_by_qid(search_sessions, search_sessions_cut)\n",
    "    for k, v in models.items():\n",
    "        model = v[0]\n",
    "        predict_relevance_custom = v[2]\n",
    "        rel_list = list(map(lambda did: get_rel(model, qid, did, predict_relevance_custom),\n",
    "                            dids))\n",
    "        click_features_dict[k] = rel_list\n",
    "    return click_features_dict"
   ]
  },
  {
   "cell_type": "code",
   "execution_count": 590,
   "id": "9059c9b5",
   "metadata": {},
   "outputs": [],
   "source": [
    "def get_cm_stat_by_q_smooth(conn, qid, qids_aux, sim_aux, dids):\n",
    "    if len(sim_aux) == 0:\n",
    "        return {k: [0] * len(dids) for k in click_models.keys()}\n",
    "    \n",
    "    click_features_dict = {k: [] for k in click_models.keys()}\n",
    "    for c_query_id in qids_aux:\n",
    "        q_df = get_session_by_qid(c_query_id, conn)\n",
    "        if q_df.shape[0] > 0:\n",
    "            search_sessions, search_sessions_cut = get_search_sessions(q_df, c_query_id, qid, smooth=True)\n",
    "            models = train_and_get_cm_by_qid(search_sessions, search_sessions_cut)\n",
    "\n",
    "            for k, v in models.items():\n",
    "                model = v[0]\n",
    "                predict_relevance_custom = v[2]\n",
    "                rel_list = list(map(lambda did: get_rel(model, c_query_id, did, predict_relevance_custom), \n",
    "                                    dids))\n",
    "                click_features_dict[k].append(rel_list)\n",
    "        else:\n",
    "            for k in click_models.keys():\n",
    "                click_features_dict[k].append([0] * len(dids))\n",
    "\n",
    "    click_features_smooth_dict = {}\n",
    "    for k in click_models.keys():\n",
    "        cf_smooth = np.mean(np.array(click_features_dict[k]) * sim_aux[:,np.newaxis], axis=0)\n",
    "        click_features_smooth_dict[k] = cf_smooth\n",
    "    return click_features_smooth_dict"
   ]
  },
  {
   "cell_type": "code",
   "execution_count": 578,
   "id": "bfe40963",
   "metadata": {},
   "outputs": [],
   "source": [
    "def get_rel(click_model, qid, did, predict_relevance_custom=False):\n",
    "    if predict_relevance_custom:\n",
    "        return predict_relevance(click_model, qid, did)\n",
    "    else:\n",
    "        return click_model.predict_relevance(qid, did)"
   ]
  },
  {
   "cell_type": "code",
   "execution_count": 416,
   "id": "eb7aa0db",
   "metadata": {},
   "outputs": [
    {
     "data": {
      "text/plain": [
       "5540"
      ]
     },
     "execution_count": 416,
     "metadata": {},
     "output_type": "execute_result"
    }
   ],
   "source": [
    "len(np.unique(click_data_df[click_data_df.sim_q >= 0.8].query_id, return_counts=False))"
   ]
  },
  {
   "cell_type": "code",
   "execution_count": 66,
   "id": "76dadc5c",
   "metadata": {},
   "outputs": [],
   "source": [
    "click_data_sim_q_df = click_data_df[click_data_df.sim_q >= 0.3]"
   ]
  },
  {
   "cell_type": "code",
   "execution_count": 591,
   "id": "60e8f261",
   "metadata": {},
   "outputs": [
    {
     "data": {
      "application/vnd.jupyter.widget-view+json": {
       "model_id": "4b30c73630244c9c82702eb8a49856dd",
       "version_major": 2,
       "version_minor": 0
      },
      "text/plain": [
       "HBox(children=(FloatProgress(value=0.0, max=2111.0), HTML(value='')))"
      ]
     },
     "metadata": {},
     "output_type": "display_data"
    },
    {
     "name": "stdout",
     "output_type": "stream",
     "text": [
      "\n"
     ]
    }
   ],
   "source": [
    "qids_unique = np.unique(train_df['query_id'], return_counts=False)\n",
    "click_features_dict = {k: [] for k in click_models.keys()}\n",
    "all_dids = []\n",
    "with helpers.get_sql_conn() as conn:\n",
    "    for qid in tqdm(qids_unique):\n",
    "        dids = train_df[train_df.query_id == qid].doc_id.values\n",
    "        all_dids.extend(dids)\n",
    "        aux_df = click_data_sim_q_df[click_data_sim_q_df.query_id == qid][['c_query_id', 'sim_q']]\n",
    "        qids_aux = aux_df.c_query_id.values\n",
    "        sim_aux = aux_df.sim_q.values\n",
    "        \n",
    "        cf_q = get_cm_stat_by_q_smooth(conn, qid, qids_aux, sim_aux, dids)\n",
    "        for k in click_models.keys():\n",
    "            click_features_dict[k].extend(cf_q[k])"
   ]
  },
  {
   "cell_type": "code",
   "execution_count": 592,
   "id": "8dd174d9",
   "metadata": {},
   "outputs": [],
   "source": [
    "data_dict = {'doc_id': all_dids}\n",
    "data_dict.update(click_features_dict)\n",
    "data_df = pd.DataFrame(data = data_dict)\n",
    "data_df['query_id'] = train_df.query_id.values"
   ]
  },
  {
   "cell_type": "code",
   "execution_count": null,
   "id": "708854c8",
   "metadata": {},
   "outputs": [],
   "source": [
    "data_df.to_csv('train_cm_smooth.csv', index=False, sep='\\t')"
   ]
  },
  {
   "cell_type": "code",
   "execution_count": 613,
   "id": "7446619a",
   "metadata": {},
   "outputs": [
    {
     "data": {
      "application/vnd.jupyter.widget-view+json": {
       "model_id": "608e1c82f0a34ef684d406b41299023b",
       "version_major": 2,
       "version_minor": 0
      },
      "text/plain": [
       "HBox(children=(FloatProgress(value=0.0, max=4200.0), HTML(value='')))"
      ]
     },
     "metadata": {},
     "output_type": "display_data"
    },
    {
     "name": "stdout",
     "output_type": "stream",
     "text": [
      "\n"
     ]
    }
   ],
   "source": [
    "qids_unique = np.unique(test_df['query_id'], return_counts=False)\n",
    "click_features_dict = {k: [] for k in click_models.keys()}\n",
    "all_dids = []\n",
    "with helpers.get_sql_conn() as conn:\n",
    "    for qid in tqdm(qids_unique):\n",
    "        dids = test_df[test_df.query_id == qid].doc_id.values\n",
    "        all_dids.extend(dids)\n",
    "        aux_df = click_data_sim_q_df[click_data_sim_q_df.query_id == qid][['c_query_id', 'sim_q']]\n",
    "        qids_aux = aux_df.c_query_id.values\n",
    "        sim_aux = aux_df.sim_q.values\n",
    "        \n",
    "        cf_q = get_cm_stat_by_q_smooth(conn, qid, qids_aux, sim_aux, dids)\n",
    "        for k in click_models.keys():\n",
    "            click_features_dict[k].extend(cf_q[k])"
   ]
  },
  {
   "cell_type": "code",
   "execution_count": 614,
   "id": "804bc224",
   "metadata": {},
   "outputs": [],
   "source": [
    "data_dict = {'doc_id': all_dids}\n",
    "data_dict.update(click_features_dict)\n",
    "data_df = pd.DataFrame(data = data_dict)\n",
    "data_df['query_id'] = test_df.query_id.values"
   ]
  },
  {
   "cell_type": "code",
   "execution_count": 615,
   "id": "3767ff49",
   "metadata": {},
   "outputs": [],
   "source": [
    "data_df.to_csv('test_cm_smooth.csv', index=False, sep='\\t')"
   ]
  },
  {
   "cell_type": "code",
   "execution_count": 401,
   "id": "074594e7",
   "metadata": {},
   "outputs": [],
   "source": [
    "train_cm_df = pd.read_csv('train_cm_df.csv', sep='\\t')"
   ]
  },
  {
   "cell_type": "code",
   "execution_count": 410,
   "id": "f7a6242d",
   "metadata": {},
   "outputs": [],
   "source": [
    "train_cm_df.sort_values(by=['query_id', 'doc_id'], inplace=True)"
   ]
  },
  {
   "cell_type": "code",
   "execution_count": 606,
   "id": "1c6ad625",
   "metadata": {},
   "outputs": [
    {
     "data": {
      "text/html": [
       "<div>\n",
       "<style scoped>\n",
       "    .dataframe tbody tr th:only-of-type {\n",
       "        vertical-align: middle;\n",
       "    }\n",
       "\n",
       "    .dataframe tbody tr th {\n",
       "        vertical-align: top;\n",
       "    }\n",
       "\n",
       "    .dataframe thead th {\n",
       "        text-align: right;\n",
       "    }\n",
       "</style>\n",
       "<table border=\"1\" class=\"dataframe\">\n",
       "  <thead>\n",
       "    <tr style=\"text-align: right;\">\n",
       "      <th></th>\n",
       "      <th>query_id</th>\n",
       "      <th>doc_id</th>\n",
       "      <th>cm_rel</th>\n",
       "      <th>dctr_rel</th>\n",
       "      <th>gctr_rel</th>\n",
       "      <th>sdbn_rel</th>\n",
       "      <th>dcm_rel</th>\n",
       "      <th>ubm_rel</th>\n",
       "      <th>dbn_rel</th>\n",
       "    </tr>\n",
       "  </thead>\n",
       "  <tbody>\n",
       "    <tr>\n",
       "      <th>168254</th>\n",
       "      <td>5344</td>\n",
       "      <td>4515</td>\n",
       "      <td>0.908571</td>\n",
       "      <td>0.787129</td>\n",
       "      <td>0.134955</td>\n",
       "      <td>0.75525</td>\n",
       "      <td>0.908571</td>\n",
       "      <td>0.856436</td>\n",
       "      <td>0.425592</td>\n",
       "    </tr>\n",
       "  </tbody>\n",
       "</table>\n",
       "</div>"
      ],
      "text/plain": [
       "        query_id  doc_id    cm_rel  dctr_rel  gctr_rel  sdbn_rel   dcm_rel  \\\n",
       "168254      5344    4515  0.908571  0.787129  0.134955   0.75525  0.908571   \n",
       "\n",
       "         ubm_rel   dbn_rel  \n",
       "168254  0.856436  0.425592  "
      ]
     },
     "execution_count": 606,
     "metadata": {},
     "output_type": "execute_result"
    }
   ],
   "source": [
    "train_cm_df[train_cm_df.doc_id == 4515]"
   ]
  },
  {
   "cell_type": "code",
   "execution_count": 611,
   "id": "0e4c683e",
   "metadata": {},
   "outputs": [
    {
     "data": {
      "text/plain": [
       "((199886, 5), (199886, 9))"
      ]
     },
     "execution_count": 611,
     "metadata": {},
     "output_type": "execute_result"
    }
   ],
   "source": [
    "data_df.shape, train_cm_df.shape"
   ]
  },
  {
   "cell_type": "markdown",
   "id": "3da11330",
   "metadata": {},
   "source": [
    "update [log_show] set cm_is_not_seen = 1  \n",
    "FROM [log_show] sh  \n",
    "inner join [log_session] s on sh.session_id = s.id  \n",
    "and is_click = 0 and pos > s.fclick_pos and pos > s.lclick_pos  \n",
    "and url_id is not null  "
   ]
  },
  {
   "cell_type": "markdown",
   "id": "bfb92a12",
   "metadata": {},
   "source": [
    "update [log_show] set cm_is_skip = 1  \n",
    "FROM [log_show] sh  \n",
    "inner join [log_session] s on sh.session_id = s.id  \n",
    "and is_click = 0 and (pos < s.fclick_pos or pos < s.lclick_pos)  \n",
    "and url_id is not null  "
   ]
  },
  {
   "cell_type": "code",
   "execution_count": null,
   "id": "e77d48d8",
   "metadata": {},
   "outputs": [],
   "source": [
    "click_data_df[['query_id', 'c_query_id', 'sim_q']].to_csv('sim_q.csv', index=False, sep='\\t')"
   ]
  },
  {
   "cell_type": "markdown",
   "id": "5f7147f9",
   "metadata": {},
   "source": [
    "USE ir;  \n",
    "GO  \n",
    "IF EXISTS (SELECT name FROM sys.indexes  \n",
    "            WHERE name = N'ix_sim_q_query_id')   \n",
    "    DROP INDEX ix_sim_q_query_id ON dbo.sim_q;   \n",
    "GO  \n",
    "CREATE NONCLUSTERED INDEX ix_sim_q_query_id   \n",
    "    ON dbo.sim_q(query_id);   \n",
    "GO  \n",
    "\n",
    "IF EXISTS (SELECT name FROM sys.indexes  \n",
    "            WHERE name = N'ix_sim_q_log_query_id')   \n",
    "    DROP INDEX ix_sim_q_log_query_id ON dbo.sim_q;   \n",
    "GO  \n",
    "CREATE NONCLUSTERED INDEX ix_sim_q_log_query_id   \n",
    "    ON dbo.sim_q(log_query_id);   \n",
    "GO  "
   ]
  },
  {
   "cell_type": "code",
   "execution_count": 933,
   "id": "fee9d88d",
   "metadata": {},
   "outputs": [],
   "source": [
    "def get_click_show_stat(by, field):\n",
    "    with helpers.get_sql_conn() as conn, conn.cursor() as cursor:\n",
    "        cursor.execute(f\"select {','.join(by)}, count([session_id]) as 'shows',\\\n",
    "                         avg([pos]) as 'avg_pos',sum(cast(is_click as int)) as 'clicks', \\\n",
    "                         sum(cast([cm_is_skip] as int)) as 'skips',\\\n",
    "                         sum(cast([cm_is_not_seen] as int)) as 'not_seens' \\\n",
    "                         from [ir].[dbo].[log_show] sh \\\n",
    "                         where {field} is not null \\\n",
    "                         group by {','.join(by)}\")\n",
    "        rows = cursor.fetchall()\n",
    "    return pd.DataFrame.from_records(rows, columns=by+['shows', 'avg_pos', 'clicks', 'skips', 'not_seens'])"
   ]
  },
  {
   "cell_type": "code",
   "execution_count": 946,
   "id": "1af5e609",
   "metadata": {},
   "outputs": [
    {
     "name": "stdout",
     "output_type": "stream",
     "text": [
      "\n"
     ]
    }
   ],
   "source": [
    "def get_click_stat(by, field):\n",
    "    with helpers.get_sql_conn() as conn, conn.cursor() as cursor:\n",
    "        cursor.execute(f\"select {','.join(by)}, \\\n",
    "                         avg(isnull(c.[t_end], c.[t_start] + 5*60)  - c.[t_start]) as 'avg_time' \\\n",
    "                         from [ir].[dbo].[log_click] c \\\n",
    "                         where {field} is not null \\\n",
    "                         group by {','.join(by)}\")\n",
    "        rows1 = cursor.fetchall()\n",
    "        \n",
    "        cursor.execute(f\"select {','.join(by)},pos, \\\n",
    "                         count(c.[session_id]) as 'pos_clicks' \\\n",
    "                         from [ir].[dbo].[log_click] c \\\n",
    "                         where {field} is not null \\\n",
    "                         group by {','.join(by)}, pos\")\n",
    "        rows2 = cursor.fetchall()\n",
    "        \n",
    "        cursor.execute(f\"select {','.join(by)},count([session_id]) as 'f_clicks' \\\n",
    "                         from [log_show] sh \\\n",
    "                         inner join [log_session] s on sh.session_id = s.id \\\n",
    "                         where {field} is not null \\\n",
    "                         and pos = s.fclick_pos \\\n",
    "                         group by {','.join(by)}\")\n",
    "        rows3 = cursor.fetchall()\n",
    "        \n",
    "        cursor.execute(f\"select {','.join(by)},count([session_id]) as 'l_clicks' \\\n",
    "                         from [log_show] sh \\\n",
    "                         inner join [log_session] s on sh.session_id = s.id \\\n",
    "                         where {field} is not null \\\n",
    "                         and pos = s.lclick_pos \\\n",
    "                         group by {','.join(by)}\")\n",
    "        rows4 = cursor.fetchall()\n",
    "    return pd.DataFrame.from_records(rows1, columns=by+['avg_time']), \\\n",
    "           pd.DataFrame.from_records(rows2, columns=by+['pos', 'pos_clicks']), \\\n",
    "           pd.DataFrame.from_records(rows3, columns=by+['f_clicks']), \\\n",
    "           pd.DataFrame.from_records(rows4, columns=by+['l_clicks'])"
   ]
  },
  {
   "cell_type": "code",
   "execution_count": 948,
   "id": "8154bb8c",
   "metadata": {},
   "outputs": [],
   "source": [
    "def get_out10_stat(by, field):\n",
    "    with helpers.get_sql_conn() as conn, conn.cursor() as cursor:\n",
    "        cursor.execute(f\"select {','.join(by)}, count([session_id]) as 'shows' \\\n",
    "                         from [ir].[dbo].[log_show] sh \\\n",
    "                         where {field} is not null and pos > 10 \\\n",
    "                         group by {','.join(by)}\")\n",
    "        rows = cursor.fetchall()\n",
    "    return pd.DataFrame.from_records(rows, columns=by+['out_top10_shows'])"
   ]
  },
  {
   "cell_type": "code",
   "execution_count": 950,
   "id": "f501061f",
   "metadata": {},
   "outputs": [],
   "source": [
    "def get_pos_click_stat(by, field):\n",
    "    with helpers.get_sql_conn() as conn, conn.cursor() as cursor:\n",
    "        q = f\"select {','.join(by)}, pos, sum(cast(is_click as int)) as 'pos_clicks', \\\n",
    "              count([session_id]) as 'pos_shows' \\\n",
    "              from [ir].[dbo].[log_show] sh \\\n",
    "              where {field} is not null \\\n",
    "              and pos <= 10 \\\n",
    "              group by {','.join(by)}, pos\"\n",
    "        cursor.execute(q)\n",
    "        rows1 = cursor.fetchall()\n",
    "        \n",
    "        q = f\"select {','.join(by)}, avg([pos]) as 'avg_click_pos' \\\n",
    "              from [ir].[dbo].[log_show] sh \\\n",
    "              where {field} is not null \\\n",
    "              and sh.is_click = 1 \\\n",
    "              group by {','.join(by)}\"\n",
    "        cursor.execute(q)\n",
    "        rows2 = cursor.fetchall()\n",
    "    return pd.DataFrame.from_records(rows1, columns=by+['pos', 'pos_clicks', 'pos_shows']), \\\n",
    "           pd.DataFrame.from_records(rows2, columns=by+['avg_click_pos'])"
   ]
  },
  {
   "cell_type": "code",
   "execution_count": 951,
   "id": "6d752fa5",
   "metadata": {},
   "outputs": [],
   "source": [
    "def get_stat_dict_by_url(field, field_name_df):\n",
    "    click_stat_dict = {}\n",
    "    click_show_stat = get_click_show_stat([field], field)\n",
    "    click_avg_stat, click_pos_click_stat, f_click_stat, l_click_stat = get_click_stat([field], field)\n",
    "    out10_stat = get_out10_stat([field], field)\n",
    "    show_pos_click_stat, avg_click_pos_stat = get_pos_click_stat([field], field)\n",
    "    \n",
    "    avg_click_pos_dict = {row[field]: row['avg_click_pos'] for _, row in avg_click_pos_stat.iterrows()}\n",
    "    \n",
    "    f_click_dict = {row[field]: row['f_clicks'] for _, row in f_click_stat.iterrows()}\n",
    "    l_click_dict = {row[field]: row['l_clicks'] for _, row in l_click_stat.iterrows()}\n",
    "    \n",
    "    show_pos_click_dict = {(row[field], row['pos']): {c: row[c] for c in show_pos_click_stat.columns[2:]} \n",
    "                           for _, row in show_pos_click_stat.iterrows()}\n",
    "    \n",
    "    click_pos_click_dict = {(row[field], row['pos']): {c: row[c] for c in click_pos_click_stat.columns[2:]} \n",
    "                            for _, row in click_pos_click_stat.iterrows()}\n",
    "    \n",
    "    click_show_dict = {row[field]: {c: row[c] for c in click_show_stat.columns[1:]} \n",
    "                       for _, row in click_show_stat.iterrows()}\n",
    "    \n",
    "    click_avg_dict = {row[field]: {c: row[c] for c in click_avg_stat.columns[1:]} \n",
    "                      for _, row in click_avg_stat.iterrows()}\n",
    "    \n",
    "    out10_dict = {row[field]: {c: row[c] for c in out10_stat.columns[1:]} \n",
    "                  for _, row in out10_stat.iterrows()}\n",
    "    \n",
    "    \n",
    "    def_click_show = {c: 0 for c in click_show_stat.columns[1:]}\n",
    "    def_click_avg = {c: 0 for c in click_avg_stat.columns[1:]}\n",
    "    def_out10_stat = {c: 0 for c in out10_stat.columns[1:]}\n",
    "    \n",
    "    for _, row in tqdm(qdh_df.iterrows(), total=len(qdh_df)):\n",
    "        key = row[field_name_df]\n",
    "        if not key in click_stat_dict:\n",
    "            click_stat_dict[key] = {}\n",
    "        else:\n",
    "            continue\n",
    "        click_show_by_f = click_show_dict[key] if key in click_show_dict else def_click_show\n",
    "        click_avg_by_f = click_avg_dict[key] if key in click_avg_dict else def_click_avg\n",
    "        out10_stat_by_f = out10_dict[key] if key in out10_dict else def_out10_stat\n",
    "\n",
    "        click_stat_dict[key]['avg_click_pos'] = avg_click_pos_dict[key] if key in avg_click_pos_dict else 0\n",
    "        click_stat_dict[key]['avg_time'] = click_avg_by_f['avg_time']\n",
    "        click_stat_dict[key]['avg_pos'] = click_show_by_f['avg_pos']\n",
    "        \n",
    "        out_top10_shows = out10_stat_by_f['out_top10_shows']\n",
    "        clicks = click_show_by_f['clicks']\n",
    "        avg_pos = int(click_stat_dict[key]['avg_pos'])\n",
    "        skips = click_show_by_f['skips']\n",
    "        not_seens = click_show_by_f['not_seens']\n",
    "        shows = click_show_by_f['shows']\n",
    "        f_clicks = f_click_dict[key] if key in f_click_dict else 0\n",
    "        l_clicks = l_click_dict[key] if key in l_click_dict else 0\n",
    "        \n",
    "        for i in range(10):\n",
    "            key_pos = (key, i + 1)\n",
    "            show_pos_clicks = show_pos_click_dict[key_pos]['pos_clicks'] \\\n",
    "                              if key_pos in show_pos_click_dict \\\n",
    "                              else 0\n",
    "            click_pos_clicks = click_pos_click_dict[key_pos]['pos_clicks'] \\\n",
    "                               if key_pos in click_pos_click_dict \\\n",
    "                               else 0\n",
    "            pos_shows = show_pos_click_dict[key_pos]['pos_shows'] \\\n",
    "                        if key_pos in show_pos_click_dict \\\n",
    "                        else 0\n",
    "            \n",
    "            click_stat_dict[key][f\"{i + 1}_show_pos_prob_click\"] = show_pos_clicks / clicks if clicks > 0 else 0\n",
    "            click_stat_dict[key][f\"{i + 1}_click_pos_prob_click\"] = click_pos_clicks / clicks if clicks > 0 else 0\n",
    "            click_stat_dict[key][f\"{i + 1}_ctr\"] = show_pos_clicks / pos_shows if pos_shows > 0 else 0\n",
    "        \n",
    "        click_stat_dict[key]['first_click_prob'] = f_clicks / clicks if clicks > 0 else 0\n",
    "        click_stat_dict[key]['last_click_prob'] = l_clicks / clicks if clicks > 0 else 0\n",
    "        \n",
    "        click_stat_dict[key]['first_ctr'] = f_clicks / shows if shows > 0 else 0\n",
    "        click_stat_dict[key]['last_ctr'] = l_clicks / shows if shows > 0 else 0\n",
    "        \n",
    "        click_stat_dict[key]['ctr'] = clicks / shows if shows > 0 else 0\n",
    "        click_stat_dict[key]['skip_proba'] = skips / shows if shows > 0 else 0\n",
    "        click_stat_dict[key]['not_seen_proba'] = not_seens / shows if shows > 0 else 0\n",
    "\n",
    "        a = alpha[avg_pos - 1] if avg_pos <= 10 else 0\n",
    "        click_stat_dict[key]['pbm'] = clicks / (shows * a) if (shows * a) > 0 else 0\n",
    "\n",
    "        click_stat_dict[key]['out10_proba'] = out_top10_shows / shows if shows > 0 else 0\n",
    "\n",
    "        click_stat_dict[key]['log(1+clicks)'] = np.log(1 + clicks)\n",
    "        click_stat_dict[key]['log(1+shows)'] = np.log(1 + shows)\n",
    "    return click_stat_dict"
   ]
  },
  {
   "cell_type": "code",
   "execution_count": 813,
   "id": "087937e6",
   "metadata": {},
   "outputs": [],
   "source": [
    "tqdm.pandas()"
   ]
  },
  {
   "cell_type": "code",
   "execution_count": 675,
   "id": "6c387f3a",
   "metadata": {},
   "outputs": [],
   "source": [
    "qdh_df = pd.concat([train_df[['query_id', 'doc_id']], test_df[['query_id', 'doc_id']]], axis=0)"
   ]
  },
  {
   "cell_type": "code",
   "execution_count": null,
   "id": "932f2628",
   "metadata": {},
   "outputs": [],
   "source": [
    "tqdm.pandas()\n",
    "qdh_df['host_id'] = qdh_df.progress_apply(lambda row: dh_map[row.doc_id], axis=1)"
   ]
  },
  {
   "cell_type": "code",
   "execution_count": 952,
   "id": "a75d5ba8",
   "metadata": {},
   "outputs": [
    {
     "data": {
      "application/vnd.jupyter.widget-view+json": {
       "model_id": "20afaa87a3704420bb5831d44ef874eb",
       "version_major": 2,
       "version_minor": 0
      },
      "text/plain": [
       "HBox(children=(FloatProgress(value=0.0, max=599670.0), HTML(value='')))"
      ]
     },
     "metadata": {},
     "output_type": "display_data"
    },
    {
     "name": "stdout",
     "output_type": "stream",
     "text": [
      "\n"
     ]
    }
   ],
   "source": [
    "click_stat_h = get_stat_dict_by_url('host_id', 'host_id')"
   ]
  },
  {
   "cell_type": "code",
   "execution_count": 953,
   "id": "14b03699",
   "metadata": {},
   "outputs": [
    {
     "data": {
      "application/vnd.jupyter.widget-view+json": {
       "model_id": "259059a5ee1742c99a31c0641e7817be",
       "version_major": 2,
       "version_minor": 0
      },
      "text/plain": [
       "HBox(children=(FloatProgress(value=0.0, max=599670.0), HTML(value='')))"
      ]
     },
     "metadata": {},
     "output_type": "display_data"
    },
    {
     "name": "stdout",
     "output_type": "stream",
     "text": [
      "\n"
     ]
    }
   ],
   "source": [
    "click_stat_d = get_stat_dict_by_url('url_id', 'doc_id')"
   ]
  },
  {
   "cell_type": "code",
   "execution_count": 847,
   "id": "5c840671",
   "metadata": {},
   "outputs": [],
   "source": [
    "def get_click_show_stat_by_q(field):\n",
    "    with helpers.get_sql_conn() as conn, conn.cursor() as cursor:\n",
    "        cursor.execute(f\"select sim.query_id,{field},count([session_id]) as 'shows',\\\n",
    "                        avg([pos]) as 'avg_pos',sum(cast(is_click as int)) as 'clicks' \\\n",
    "                        ,sum(cast([cm_is_skip] as int)) as 'skips',\\\n",
    "                        sum(cast([cm_is_not_seen] as int)) as 'not_seens' \\\n",
    "                        from [ir].[dbo].[log_show] sh \\\n",
    "                        inner join log_session s on sh.session_id = s.id \\\n",
    "                        inner join sim_q sim on sim.log_query_id = s.query_id \\\n",
    "                        where {field} is not null \\\n",
    "                        and sim.sim_q >= 0 \\\n",
    "                        group by sim.query_id, {field}\")\n",
    "        rows = cursor.fetchall()\n",
    "    return pd.DataFrame.from_records(rows, columns=['query_id', field, 'shows', 'avg_pos',\n",
    "                                                    'clicks', 'skips', 'not_seens'])"
   ]
  },
  {
   "cell_type": "code",
   "execution_count": 961,
   "id": "06d9a1f6",
   "metadata": {},
   "outputs": [],
   "source": [
    "def get_click_stat_by_q(field):\n",
    "    with helpers.get_sql_conn() as conn, conn.cursor() as cursor:\n",
    "        cursor.execute(f\"select sim.query_id,{field},\\\n",
    "                         avg(isnull(c.[t_end], c.[t_start] + 5*60)  - c.[t_start]) as 'avg_time' \\\n",
    "                         from [ir].[dbo].[log_click] c \\\n",
    "                         inner join log_session s on c.session_id = s.id \\\n",
    "                         inner join sim_q sim on sim.log_query_id = s.query_id \\\n",
    "                         where {field} is not null \\\n",
    "                         and sim.sim_q >= 0 \\\n",
    "                         group by sim.query_id, {field}\")\n",
    "        rows1 = cursor.fetchall()\n",
    "        \n",
    "        cursor.execute(f\"select sim.query_id,{field},pos, \\\n",
    "                         count(c.[session_id]) as 'pos_clicks' \\\n",
    "                         from [ir].[dbo].[log_click] c \\\n",
    "                         inner join log_session s on c.session_id = s.id \\\n",
    "                         inner join sim_q sim on sim.log_query_id = s.query_id \\\n",
    "                         where {field} is not null \\\n",
    "                         and sim.sim_q >= 0 \\\n",
    "                         group by sim.query_id, {field}, pos\")\n",
    "        rows2 = cursor.fetchall()\n",
    "        \n",
    "        cursor.execute(f\"select sim.query_id,{field},count([session_id]) as 'f_clicks' \\\n",
    "                         from [log_show] sh \\\n",
    "                         inner join [log_session] s on sh.session_id = s.id \\\n",
    "                         inner join sim_q sim on sim.log_query_id = s.query_id \\\n",
    "                         where {field} is not null \\\n",
    "                         and sim.sim_q >= 0 \\\n",
    "                         and pos = s.fclick_pos \\\n",
    "                         group by sim.query_id, {field}\")\n",
    "        rows3 = cursor.fetchall()\n",
    "        \n",
    "        cursor.execute(f\"select sim.query_id,{field},count([session_id]) as 'l_clicks' \\\n",
    "                         from [log_show] sh \\\n",
    "                         inner join [log_session] s on sh.session_id = s.id \\\n",
    "                         inner join sim_q sim on sim.log_query_id = s.query_id \\\n",
    "                         where {field} is not null \\\n",
    "                         and sim.sim_q >= 0 \\\n",
    "                         and pos = s.lclick_pos \\\n",
    "                         group by sim.query_id, {field}\")\n",
    "        rows4 = cursor.fetchall()\n",
    "    return pd.DataFrame.from_records(rows1, columns=['query_id', field, 'avg_time']), \\\n",
    "           pd.DataFrame.from_records(rows2, columns=['query_id', field, 'pos', 'pos_clicks']), \\\n",
    "           pd.DataFrame.from_records(rows3, columns=['query_id', field, 'f_clicks']), \\\n",
    "           pd.DataFrame.from_records(rows4, columns=['query_id', field, 'l_clicks'])"
   ]
  },
  {
   "cell_type": "code",
   "execution_count": 849,
   "id": "5e0b0b02",
   "metadata": {},
   "outputs": [],
   "source": [
    "def get_out10_stat_by_q(field):\n",
    "    with helpers.get_sql_conn() as conn, conn.cursor() as cursor:\n",
    "        cursor.execute(f\"select sim.query_id,{field}, count([session_id]) as 'shows' \\\n",
    "                         from [ir].[dbo].[log_show] sh \\\n",
    "                         inner join log_session s on sh.session_id = s.id \\\n",
    "                         inner join sim_q sim on sim.log_query_id = s.query_id \\\n",
    "                         where {field} is not null and pos > 10 \\\n",
    "                         and sim.sim_q >= 0 \\\n",
    "                         group by sim.query_id, {field}\")\n",
    "        rows = cursor.fetchall()\n",
    "    return pd.DataFrame.from_records(rows, columns=['query_id', field, 'out_top10_shows'])"
   ]
  },
  {
   "cell_type": "code",
   "execution_count": 962,
   "id": "7e7decd2",
   "metadata": {},
   "outputs": [],
   "source": [
    "def get_pos_click_stat_by_q(field):\n",
    "    with helpers.get_sql_conn() as conn, conn.cursor() as cursor:\n",
    "        q = f\"select sim.query_id,{field}, pos, sum(cast(is_click as int)) as 'pos_clicks', \\\n",
    "              count([session_id]) as 'pos_shows' \\\n",
    "              from [ir].[dbo].[log_show] sh \\\n",
    "              inner join log_session s on sh.session_id = s.id \\\n",
    "              inner join sim_q sim on sim.log_query_id = s.query_id \\\n",
    "              where {field} is not null \\\n",
    "              and sim.sim_q >= 0.0 \\\n",
    "              and pos <= 10 \\\n",
    "              group by sim.query_id, {field}, pos\"\n",
    "        cursor.execute(q)\n",
    "        rows1 = cursor.fetchall()\n",
    "        \n",
    "        q = f\"select sim.query_id,{field}, avg([pos]) as 'avg_click_pos' \\\n",
    "              from [ir].[dbo].[log_show] sh \\\n",
    "              inner join log_session s on sh.session_id = s.id \\\n",
    "              inner join sim_q sim on sim.log_query_id = s.query_id \\\n",
    "              where {field} is not null \\\n",
    "              and sh.is_click = 1 \\\n",
    "              and sim.sim_q >= 0.0 \\\n",
    "              group by sim.query_id, {field}\"\n",
    "        cursor.execute(q)\n",
    "        rows2 = cursor.fetchall()\n",
    "    return pd.DataFrame.from_records(rows1, columns=['query_id', field, 'pos', 'pos_clicks', 'pos_shows']), \\\n",
    "           pd.DataFrame.from_records(rows2, columns=['query_id', field, 'avg_click_pos'])"
   ]
  },
  {
   "cell_type": "code",
   "execution_count": 964,
   "id": "f0cfc70d",
   "metadata": {},
   "outputs": [],
   "source": [
    "def get_stat_dict_by_q(field, field_name_df):\n",
    "    click_stat_dict = {}\n",
    "    click_show_stat = get_click_show_stat_by_q(field)\n",
    "    click_avg_stat, click_pos_click_stat, f_click_stat, l_click_stat = get_click_stat_by_q(field)\n",
    "    out10_stat = get_out10_stat_by_q(field)\n",
    "    show_pos_click_stat, avg_click_pos_stat = get_pos_click_stat_by_q(field)\n",
    "    \n",
    "    avg_click_pos_dict = {(row['query_id'], row[field]): row['avg_click_pos'] for _, row in avg_click_pos_stat.iterrows()}\n",
    "    \n",
    "    f_click_dict = {(row['query_id'], row[field]): row['f_clicks'] for _, row in f_click_stat.iterrows()}\n",
    "    l_click_dict = {(row['query_id'], row[field]): row['l_clicks'] for _, row in l_click_stat.iterrows()}\n",
    "    \n",
    "    show_pos_click_dict = {(row['query_id'], row[field], row['pos']): {c: row[c] for c in show_pos_click_stat.columns[3:]} \n",
    "                           for _, row in show_pos_click_stat.iterrows()}\n",
    "    \n",
    "    click_pos_click_dict = {(row['query_id'], row[field], row['pos']): \n",
    "                            {c: row[c] for c in click_pos_click_stat.columns[3:]} \n",
    "                            for _, row in click_pos_click_stat.iterrows()}\n",
    "    \n",
    "    click_show_dict = {(row['query_id'], row[field]): {c: row[c] for c in click_show_stat.columns[2:]} \n",
    "                       for _, row in click_show_stat.iterrows()}\n",
    "    \n",
    "    click_avg_dict = {(row['query_id'], row[field]): {c: row[c] for c in click_avg_stat.columns[2:]} \n",
    "                      for _, row in click_avg_stat.iterrows()}\n",
    "    \n",
    "    out10_dict = {(row['query_id'], row[field]): {c: row[c] for c in out10_stat.columns[2:]} \n",
    "                  for _, row in out10_stat.iterrows()}\n",
    "    \n",
    "    def_click_show = {c: 0 for c in click_show_stat.columns[2:]}\n",
    "    def_click_avg = {c: 0 for c in click_avg_stat.columns[2:]}\n",
    "    def_out10_stat = {c: 0 for c in out10_stat.columns[2:]}\n",
    "    for _, row in tqdm(qdh_df.iterrows(), total=len(qdh_df)):\n",
    "        key = (row.query_id, row[field_name_df])\n",
    "        if not key in click_stat_dict:\n",
    "            click_stat_dict[key] = {}\n",
    "        else:\n",
    "            continue\n",
    "        click_show_by_qf = click_show_dict[key] if key in click_show_dict else def_click_show\n",
    "        click_avg_by_qf = click_avg_dict[key] if key in click_avg_dict else def_click_avg\n",
    "        out10_stat_by_qf = out10_dict[key] if key in out10_dict else def_out10_stat\n",
    "\n",
    "        clicks = click_show_by_qf['clicks']\n",
    "        shows = click_show_by_qf['shows']\n",
    "        skips = click_show_by_qf['skips']\n",
    "        not_seens = click_show_by_qf['not_seens']\n",
    "        out_top10_shows = out10_stat_by_qf['out_top10_shows']\n",
    "        f_clicks = f_click_dict[key] if key in f_click_dict else 0\n",
    "        l_clicks = l_click_dict[key] if key in l_click_dict else 0\n",
    "                     \n",
    "        click_stat_dict[key]['avg_click_pos'] = avg_click_pos_dict[key] if key in avg_click_pos_dict else 0             \n",
    "        click_stat_dict[key]['avg_time'] = click_avg_by_qf['avg_time']\n",
    "        click_stat_dict[key]['avg_pos'] = click_show_by_qf['avg_pos']\n",
    "        avg_pos = int(click_stat_dict[key]['avg_pos'])\n",
    "        \n",
    "        for i in range(10):\n",
    "            key_pos = (row.query_id, row[field_name_df], i + 1)\n",
    "            show_pos_clicks = pos_click_dict[key_pos]['pos_clicks'] \\\n",
    "                              if key_pos in pos_click_dict \\\n",
    "                              else 0\n",
    "                     \n",
    "            click_pos_clicks = click_pos_click_dict[key_pos]['pos_clicks'] \\\n",
    "                               if key_pos in click_pos_click_dict \\\n",
    "                               else 0\n",
    "            \n",
    "            pos_shows = pos_click_dict[key_pos]['pos_shows'] \\\n",
    "                        if key_pos in pos_click_dict \\\n",
    "                        else 0\n",
    "            click_stat_dict[key][f\"{i + 1}_show_pos_prob_click\"] = show_pos_clicks / clicks if clicks > 0 else 0\n",
    "            click_stat_dict[key][f\"{i + 1}_click_pos_prob_click\"] = click_pos_clicks / clicks if clicks > 0 else 0\n",
    "            click_stat_dict[key][f\"{i + 1}_ctr\"] = show_pos_clicks / pos_shows if pos_shows > 0 else 0\n",
    "        \n",
    "        click_stat_dict[key]['first_click_prob'] = f_clicks / clicks if clicks > 0 else 0\n",
    "        click_stat_dict[key]['last_click_prob'] = l_clicks / clicks if clicks > 0 else 0\n",
    "        \n",
    "        click_stat_dict[key]['first_ctr'] = f_clicks / shows if shows > 0 else 0\n",
    "        click_stat_dict[key]['last_ctr'] = l_clicks / shows if shows > 0 else 0\n",
    "                     \n",
    "        click_stat_dict[key]['ctr'] = clicks / shows if shows > 0 else 0\n",
    "        click_stat_dict[key]['skip_proba'] = skips / shows if shows > 0 else 0\n",
    "        click_stat_dict[key]['not_seen_proba'] = not_seens / shows if shows > 0 else 0\n",
    "\n",
    "        a = alpha[avg_pos - 1] if avg_pos <= 10 else 0\n",
    "        click_stat_dict[key]['pbm'] = clicks / (shows * a) if (shows * a) > 0 else 0\n",
    "\n",
    "        click_stat_dict[key]['out10_proba'] = out_top10_shows / shows if shows > 0 else 0\n",
    "\n",
    "        click_stat_dict[key]['log(1+clicks)'] = np.log(1 + clicks)\n",
    "        click_stat_dict[key]['log(1+shows)'] = np.log(1 + shows)\n",
    "    return click_stat_dict"
   ]
  },
  {
   "cell_type": "code",
   "execution_count": 966,
   "id": "cad1051c",
   "metadata": {},
   "outputs": [
    {
     "data": {
      "application/vnd.jupyter.widget-view+json": {
       "model_id": "46b24519d59d4d43976f7f18937db4f3",
       "version_major": 2,
       "version_minor": 0
      },
      "text/plain": [
       "HBox(children=(FloatProgress(value=0.0, max=599670.0), HTML(value='')))"
      ]
     },
     "metadata": {},
     "output_type": "display_data"
    },
    {
     "name": "stdout",
     "output_type": "stream",
     "text": [
      "\n"
     ]
    }
   ],
   "source": [
    "click_stat_dq = get_stat_dict_by_q('url_id', 'doc_id')"
   ]
  },
  {
   "cell_type": "code",
   "execution_count": 705,
   "id": "bb21aa2e",
   "metadata": {},
   "outputs": [],
   "source": [
    "dh_map = {row.doc_id: row.host_id for _, row in url_data_df.iterrows()}"
   ]
  },
  {
   "cell_type": "code",
   "execution_count": 967,
   "id": "2e860482",
   "metadata": {},
   "outputs": [],
   "source": [
    "f_columns = list(click_stat_d[0].keys())\n",
    "f_columns_q = list(click_stat_dq[(2, 19489)].keys())\n",
    "default_dict = {c: 0 for c in f_columns}\n",
    "default_q_dict = {c: 0 for c in f_columns_q}"
   ]
  },
  {
   "cell_type": "code",
   "execution_count": 968,
   "id": "1688e0ca",
   "metadata": {},
   "outputs": [
    {
     "data": {
      "application/vnd.jupyter.widget-view+json": {
       "model_id": "46c7c155017b4f89a18d1d73981b5b74",
       "version_major": 2,
       "version_minor": 0
      },
      "text/plain": [
       "HBox(children=(FloatProgress(value=0.0, max=199886.0), HTML(value='')))"
      ]
     },
     "metadata": {},
     "output_type": "display_data"
    },
    {
     "name": "stdout",
     "output_type": "stream",
     "text": [
      "\n"
     ]
    }
   ],
   "source": [
    "from collections import defaultdict\n",
    "features_dict = defaultdict(list)\n",
    "for _, row in tqdm(train_df[['query_id', 'doc_id']].iterrows(), total=len(train_df)):\n",
    "    host_id = dh_map[row.doc_id]\n",
    "    f_h = click_stat_h[host_id] if host_id in click_stat_h else default_dict\n",
    "    f_d = click_stat_d[row.doc_id] if row.doc_id in click_stat_d else default_dict\n",
    "    key_hq = (row.query_id, host_id)\n",
    "    f_hq = click_stat_hq[key_hq] if key_hq in click_stat_hq else default_q_dict\n",
    "    key_hd = (row.query_id, row.doc_id)\n",
    "    f_hd = click_stat_dq[key_hd] if key_hd in click_stat_dq else default_q_dict\n",
    "    for c in f_columns:\n",
    "        features_dict['h_' + c].append(f_h[c])\n",
    "        features_dict['d_' + c].append(f_d[c])\n",
    "    for c in f_columns_q:\n",
    "        features_dict['dq_' + c].append(f_hd[c])"
   ]
  },
  {
   "cell_type": "code",
   "execution_count": 969,
   "id": "db1ef048",
   "metadata": {},
   "outputs": [],
   "source": [
    "train_cs_data = {'query_id': train_df.query_id.values, 'doc_id': train_df.doc_id.values}\n",
    "train_cs_data.update(features_dict)\n",
    "train_cs_df = pd.DataFrame(data = train_cs_data)"
   ]
  },
  {
   "cell_type": "code",
   "execution_count": 970,
   "id": "2a5a88e0",
   "metadata": {},
   "outputs": [],
   "source": [
    "train_cs_df.to_csv('train_cs_df.csv', index=False, sep='\\t')"
   ]
  },
  {
   "cell_type": "code",
   "execution_count": 971,
   "id": "41cab000",
   "metadata": {},
   "outputs": [],
   "source": [
    "train_df = pd.read_csv('train_df.csv', sep='\\t')\n",
    "train_cs_df = pd.read_csv('train_cs_df.csv', sep='\\t')\n",
    "train_cm_smooth = pd.read_csv('train_cm_smooth.csv', sep='\\t')\n",
    "\n",
    "train_df.sort_values(by=['query_id', 'doc_id'], inplace=True)\n",
    "train_cs_df.sort_values(by=['query_id', 'doc_id'], inplace=True)\n",
    "train_cm_smooth.sort_values(by=['query_id', 'doc_id'], inplace=True)"
   ]
  },
  {
   "cell_type": "code",
   "execution_count": 972,
   "id": "f17cb66c",
   "metadata": {},
   "outputs": [],
   "source": [
    "train_cm_smooth.rename(columns={'cm_rel': \"smooth_cm_rel\", \n",
    "                                'sdbn_rel': \"smooth_sdbn_rel\", \n",
    "                                'dctr_rel': \"smooth_dctr_rel\"}, inplace=True)"
   ]
  },
  {
   "cell_type": "code",
   "execution_count": 973,
   "id": "db605f86",
   "metadata": {},
   "outputs": [],
   "source": [
    "train_cs_df.drop(['query_id', 'doc_id'], axis=1, inplace=True)\n",
    "train_cm_smooth.drop(['query_id', 'doc_id'], axis=1, inplace=True)\n",
    "train_df.drop(['query_id+doc_id'], axis=1, inplace=True)"
   ]
  },
  {
   "cell_type": "code",
   "execution_count": 974,
   "id": "29ca7234",
   "metadata": {},
   "outputs": [],
   "source": [
    "train_aux_df = pd.concat([train_df, train_cs_df, train_cm_smooth], axis=1)\n",
    "train_aux_df.to_csv('train_aux_2_df.csv', index=False, sep='\\t')"
   ]
  },
  {
   "cell_type": "markdown",
   "id": "1504136b",
   "metadata": {},
   "source": [
    "#### Test"
   ]
  },
  {
   "cell_type": "code",
   "execution_count": 977,
   "id": "8a0f8c71",
   "metadata": {},
   "outputs": [
    {
     "data": {
      "application/vnd.jupyter.widget-view+json": {
       "model_id": "29f8d5c707d44093b82e6f30df8120ee",
       "version_major": 2,
       "version_minor": 0
      },
      "text/plain": [
       "HBox(children=(FloatProgress(value=0.0, max=399784.0), HTML(value='')))"
      ]
     },
     "metadata": {},
     "output_type": "display_data"
    },
    {
     "name": "stdout",
     "output_type": "stream",
     "text": [
      "\n"
     ]
    }
   ],
   "source": [
    "test_cs_data = {'query_id': test_df.query_id.values, 'doc_id': test_df.doc_id.values}\n",
    "test_cs_df = pd.DataFrame(data = test_cs_data)\n",
    "\n",
    "from collections import defaultdict\n",
    "features_dict = defaultdict(list)\n",
    "for _, row in tqdm(test_df[['query_id', 'doc_id']].iterrows(), total=len(test_df)):\n",
    "    host_id = dh_map[row.doc_id]\n",
    "    f_h = click_stat_h[host_id] if host_id in click_stat_h else default_dict\n",
    "    f_d = click_stat_d[row.doc_id] if row.doc_id in click_stat_d else default_dict\n",
    "    key_hq = (row.query_id, host_id)\n",
    "    f_hq = click_stat_hq[key_hq] if key_hq in click_stat_hq else default_q_dict\n",
    "    key_hd = (row.query_id, row.doc_id)\n",
    "    f_hd = click_stat_dq[key_hd] if key_hd in click_stat_dq else default_q_dict\n",
    "    for c in f_columns:\n",
    "        features_dict['h_' + c].append(f_h[c])\n",
    "        features_dict['d_' + c].append(f_d[c])\n",
    "    for c in f_columns_q:\n",
    "        #features_dict['hq_' + c].append(f_hq[c])\n",
    "        features_dict['dq_' + c].append(f_hd[c])\n",
    "\n",
    "test_cs_data.update(features_dict)\n",
    "test_cs_df = pd.DataFrame(data = test_cs_data)\n",
    "\n",
    "test_cs_df.to_csv('test_cs_df.csv', index=False, sep='\\t')"
   ]
  },
  {
   "cell_type": "code",
   "execution_count": 978,
   "id": "0a3a80a1",
   "metadata": {},
   "outputs": [],
   "source": [
    "test_df = pd.read_csv('test_df.csv', sep='\\t')\n",
    "test_cs_df = pd.read_csv('test_cs_df.csv', sep='\\t')\n",
    "test_cm_smooth = pd.read_csv('test_cm_smooth.csv', sep='\\t')\n",
    "\n",
    "test_df.sort_values(by=['query_id', 'doc_id'], inplace=True)\n",
    "test_cs_df.sort_values(by=['query_id', 'doc_id'], inplace=True)\n",
    "test_cm_smooth.sort_values(by=['query_id', 'doc_id'], inplace=True)\n",
    "\n",
    "test_cm_smooth.rename(columns={'cm_rel': \"smooth_cm_rel\", \n",
    "                               'sdbn_rel': \"smooth_sdbn_rel\", \n",
    "                               'dctr_rel': \"smooth_dctr_rel\"}, inplace=True)\n",
    "\n",
    "test_cs_df.drop(['query_id', 'doc_id'], axis=1, inplace=True)\n",
    "test_cm_smooth.drop(['query_id', 'doc_id'], axis=1, inplace=True)\n",
    "\n",
    "test_aux_df = pd.concat([test_df, test_cs_df, test_cm_smooth], axis=1)\n",
    "test_aux_df.to_csv('test_aux_2_df.csv', index=False, sep='\\t')"
   ]
  },
  {
   "cell_type": "markdown",
   "id": "625340d8",
   "metadata": {},
   "source": [
    "**CM**"
   ]
  },
  {
   "cell_type": "code",
   "execution_count": 257,
   "id": "47b8fe46",
   "metadata": {},
   "outputs": [
    {
     "name": "stdout",
     "output_type": "stream",
     "text": [
      "\tTrained CM click model in 188 secs\n"
     ]
    }
   ],
   "source": [
    "click_model = CM()\n",
    "start = time.time()\n",
    "click_model.train(search_sessions)\n",
    "end = time.time()\n",
    "print(\"\\tTrained %s click model in %i secs\" % (click_model.__class__.__name__, end - start))"
   ]
  },
  {
   "cell_type": "code",
   "execution_count": 261,
   "id": "9f092209",
   "metadata": {},
   "outputs": [
    {
     "data": {
      "application/vnd.jupyter.widget-view+json": {
       "model_id": "eeb887efb1ba4493b0afe442bd64a614",
       "version_major": 2,
       "version_minor": 0
      },
      "text/plain": [
       "HBox(children=(FloatProgress(value=0.0, max=199886.0), HTML(value='')))"
      ]
     },
     "metadata": {},
     "output_type": "display_data"
    },
    {
     "name": "stdout",
     "output_type": "stream",
     "text": [
      "\n"
     ]
    }
   ],
   "source": [
    "rels = get_rels(train_df, click_model, predict='custom')\n",
    "train_df['cm_rel'] = rels"
   ]
  },
  {
   "cell_type": "code",
   "execution_count": 262,
   "id": "08662d28",
   "metadata": {},
   "outputs": [
    {
     "data": {
      "application/vnd.jupyter.widget-view+json": {
       "model_id": "842ca6e6dc334fab8af81a22efe65603",
       "version_major": 2,
       "version_minor": 0
      },
      "text/plain": [
       "HBox(children=(FloatProgress(value=0.0, max=399784.0), HTML(value='')))"
      ]
     },
     "metadata": {},
     "output_type": "display_data"
    },
    {
     "name": "stdout",
     "output_type": "stream",
     "text": [
      "\n"
     ]
    }
   ],
   "source": [
    "rels = get_rels(test_df, click_model, predict='custom')\n",
    "test_df['cm_rel'] = rels"
   ]
  },
  {
   "cell_type": "code",
   "execution_count": 296,
   "id": "388f84a8",
   "metadata": {},
   "outputs": [],
   "source": [
    "from pyclick.click_models.Inference import EMInference, MLEInference"
   ]
  },
  {
   "cell_type": "markdown",
   "id": "276de9d2",
   "metadata": {},
   "source": [
    "**CCM (EM)**"
   ]
  },
  {
   "cell_type": "code",
   "execution_count": null,
   "id": "dceefd2d",
   "metadata": {},
   "outputs": [],
   "source": [
    "click_model = CCM(EMInference(iter_num=1))\n",
    "start = time.time()\n",
    "click_model.train(search_sessions)\n",
    "end = time.time()\n",
    "print(\"\\tTrained %s click model in %i secs\" % (click_model.__class__.__name__, end - start))"
   ]
  },
  {
   "cell_type": "code",
   "execution_count": null,
   "id": "b6fab1ed",
   "metadata": {},
   "outputs": [],
   "source": [
    "rels = get_rels(train_df, click_model, predict='orig')\n",
    "train_df['ccm_rel'] = rels"
   ]
  },
  {
   "cell_type": "code",
   "execution_count": null,
   "id": "5e6c6025",
   "metadata": {},
   "outputs": [],
   "source": [
    "rels = get_rels(test_df, click_model, predict='orig')\n",
    "test_df['ccm_rel'] = rels"
   ]
  },
  {
   "cell_type": "markdown",
   "id": "6aa2d0d5",
   "metadata": {},
   "source": [
    "**DCTR (MLE)**"
   ]
  },
  {
   "cell_type": "code",
   "execution_count": 275,
   "id": "54efd67b",
   "metadata": {},
   "outputs": [
    {
     "name": "stdout",
     "output_type": "stream",
     "text": [
      "\tTrained DCTR click model in 129 secs\n"
     ]
    }
   ],
   "source": [
    "click_model = DCTR()\n",
    "start = time.time()\n",
    "click_model.train(search_sessions)\n",
    "end = time.time()\n",
    "print(\"\\tTrained %s click model in %i secs\" % (click_model.__class__.__name__, end - start))"
   ]
  },
  {
   "cell_type": "code",
   "execution_count": 276,
   "id": "9730b04d",
   "metadata": {},
   "outputs": [
    {
     "data": {
      "application/vnd.jupyter.widget-view+json": {
       "model_id": "23c2bb7317ae4a319ffafe09d94a2e88",
       "version_major": 2,
       "version_minor": 0
      },
      "text/plain": [
       "HBox(children=(FloatProgress(value=0.0, max=199886.0), HTML(value='')))"
      ]
     },
     "metadata": {},
     "output_type": "display_data"
    },
    {
     "name": "stdout",
     "output_type": "stream",
     "text": [
      "\n"
     ]
    },
    {
     "data": {
      "application/vnd.jupyter.widget-view+json": {
       "model_id": "046f63a8001b412b8a1a90e1c22ffc64",
       "version_major": 2,
       "version_minor": 0
      },
      "text/plain": [
       "HBox(children=(FloatProgress(value=0.0, max=399784.0), HTML(value='')))"
      ]
     },
     "metadata": {},
     "output_type": "display_data"
    },
    {
     "name": "stdout",
     "output_type": "stream",
     "text": [
      "\n"
     ]
    }
   ],
   "source": [
    "rels = get_rels(train_df, click_model, predict='orig')\n",
    "train_df['dctr_rel'] = rels\n",
    "rels = get_rels(test_df, click_model, predict='orig')\n",
    "test_df['dctr_rel'] = rels"
   ]
  },
  {
   "cell_type": "markdown",
   "id": "6bb578ce",
   "metadata": {},
   "source": [
    "**GCTR (MLE)**"
   ]
  },
  {
   "cell_type": "code",
   "execution_count": 277,
   "id": "849bc137",
   "metadata": {},
   "outputs": [
    {
     "name": "stdout",
     "output_type": "stream",
     "text": [
      "\tTrained GCTR click model in 109 secs\n"
     ]
    }
   ],
   "source": [
    "click_model = GCTR()\n",
    "start = time.time()\n",
    "click_model.train(search_sessions)\n",
    "end = time.time()\n",
    "print(\"\\tTrained %s click model in %i secs\" % (click_model.__class__.__name__, end - start))"
   ]
  },
  {
   "cell_type": "code",
   "execution_count": 278,
   "id": "9170bd7a",
   "metadata": {},
   "outputs": [
    {
     "data": {
      "application/vnd.jupyter.widget-view+json": {
       "model_id": "6c115740892248e0b6634c6bb22b82e9",
       "version_major": 2,
       "version_minor": 0
      },
      "text/plain": [
       "HBox(children=(FloatProgress(value=0.0, max=199886.0), HTML(value='')))"
      ]
     },
     "metadata": {},
     "output_type": "display_data"
    },
    {
     "name": "stdout",
     "output_type": "stream",
     "text": [
      "\n"
     ]
    },
    {
     "data": {
      "application/vnd.jupyter.widget-view+json": {
       "model_id": "eaa699e915314269a8d4c89e490d354a",
       "version_major": 2,
       "version_minor": 0
      },
      "text/plain": [
       "HBox(children=(FloatProgress(value=0.0, max=399784.0), HTML(value='')))"
      ]
     },
     "metadata": {},
     "output_type": "display_data"
    },
    {
     "name": "stdout",
     "output_type": "stream",
     "text": [
      "\n"
     ]
    }
   ],
   "source": [
    "rels = get_rels(train_df, click_model, predict='orig')\n",
    "train_df['gctr_rel'] = rels\n",
    "rels = get_rels(test_df, click_model, predict='orig')\n",
    "test_df['gctr_rel'] = rels"
   ]
  },
  {
   "cell_type": "markdown",
   "id": "d7c16103",
   "metadata": {},
   "source": [
    "**SDBN (MLE)**"
   ]
  },
  {
   "cell_type": "code",
   "execution_count": 279,
   "id": "2793b41b",
   "metadata": {},
   "outputs": [
    {
     "name": "stdout",
     "output_type": "stream",
     "text": [
      "\tTrained SDBN click model in 298 secs\n"
     ]
    }
   ],
   "source": [
    "click_model = SDBN()\n",
    "start = time.time()\n",
    "click_model.train(search_sessions)\n",
    "end = time.time()\n",
    "print(\"\\tTrained %s click model in %i secs\" % (click_model.__class__.__name__, end - start))"
   ]
  },
  {
   "cell_type": "code",
   "execution_count": 280,
   "id": "184b8e9d",
   "metadata": {},
   "outputs": [
    {
     "data": {
      "application/vnd.jupyter.widget-view+json": {
       "model_id": "a33a07f09d0a4c5f8ad0116891b36a7d",
       "version_major": 2,
       "version_minor": 0
      },
      "text/plain": [
       "HBox(children=(FloatProgress(value=0.0, max=199886.0), HTML(value='')))"
      ]
     },
     "metadata": {},
     "output_type": "display_data"
    },
    {
     "name": "stdout",
     "output_type": "stream",
     "text": [
      "\n"
     ]
    },
    {
     "data": {
      "application/vnd.jupyter.widget-view+json": {
       "model_id": "3f7a43168be04ef299dff663450a728a",
       "version_major": 2,
       "version_minor": 0
      },
      "text/plain": [
       "HBox(children=(FloatProgress(value=0.0, max=399784.0), HTML(value='')))"
      ]
     },
     "metadata": {},
     "output_type": "display_data"
    },
    {
     "name": "stdout",
     "output_type": "stream",
     "text": [
      "\n"
     ]
    }
   ],
   "source": [
    "rels = get_rels(train_df, click_model, predict='orig')\n",
    "train_df['sdbn_rel'] = rels\n",
    "rels = get_rels(test_df, click_model, predict='orig')\n",
    "test_df['sdbn_rel'] = rels"
   ]
  },
  {
   "cell_type": "markdown",
   "id": "747b16b4",
   "metadata": {},
   "source": [
    "**DBN (EM)**"
   ]
  },
  {
   "cell_type": "code",
   "execution_count": 304,
   "id": "78aa1546",
   "metadata": {},
   "outputs": [
    {
     "name": "stdout",
     "output_type": "stream",
     "text": [
      "\tTrained DBN click model in 26187 secs\n"
     ]
    }
   ],
   "source": [
    "click_model = DBN(EMInference(iter_num=1))\n",
    "start = time.time()\n",
    "click_model.train(search_sessions)\n",
    "end = time.time()\n",
    "print(\"\\tTrained %s click model in %i secs\" % (click_model.__class__.__name__, end - start))"
   ]
  },
  {
   "cell_type": "code",
   "execution_count": 305,
   "id": "f064b452",
   "metadata": {},
   "outputs": [
    {
     "data": {
      "application/vnd.jupyter.widget-view+json": {
       "model_id": "8b0cbf722314432bad3b8b86009f5970",
       "version_major": 2,
       "version_minor": 0
      },
      "text/plain": [
       "HBox(children=(FloatProgress(value=0.0, max=199886.0), HTML(value='')))"
      ]
     },
     "metadata": {},
     "output_type": "display_data"
    },
    {
     "name": "stdout",
     "output_type": "stream",
     "text": [
      "\n"
     ]
    },
    {
     "data": {
      "application/vnd.jupyter.widget-view+json": {
       "model_id": "8e2562859fae45a2a969a7b01393c5fc",
       "version_major": 2,
       "version_minor": 0
      },
      "text/plain": [
       "HBox(children=(FloatProgress(value=0.0, max=399784.0), HTML(value='')))"
      ]
     },
     "metadata": {},
     "output_type": "display_data"
    },
    {
     "name": "stdout",
     "output_type": "stream",
     "text": [
      "\n"
     ]
    }
   ],
   "source": [
    "rels = get_rels(train_df, click_model, predict='orig')\n",
    "train_df['dbn_rel'] = rels\n",
    "rels = get_rels(test_df, click_model, predict='orig')\n",
    "test_df['dbn_rel'] = rels"
   ]
  },
  {
   "cell_type": "code",
   "execution_count": 310,
   "id": "cae5be9c",
   "metadata": {},
   "outputs": [],
   "source": [
    "DBN_click_model = click_model"
   ]
  },
  {
   "cell_type": "markdown",
   "id": "883d7f68",
   "metadata": {},
   "source": [
    "### Click models that depend on rank"
   ]
  },
  {
   "cell_type": "code",
   "execution_count": 285,
   "id": "5d73eb12",
   "metadata": {},
   "outputs": [
    {
     "data": {
      "application/vnd.jupyter.widget-view+json": {
       "model_id": "4d4740f934c7441e8c4faf6386900402",
       "version_major": 2,
       "version_minor": 0
      },
      "text/plain": [
       "HBox(children=(FloatProgress(value=0.0, max=3542389.0), HTML(value='')))"
      ]
     },
     "metadata": {},
     "output_type": "display_data"
    },
    {
     "name": "stdout",
     "output_type": "stream",
     "text": [
      "\n"
     ]
    }
   ],
   "source": [
    "search_sessions_cut = []\n",
    "for s in tqdm(search_sessions, total=len(search_sessions)):\n",
    "    s_cut = TaskCentricSearchSession(s.task, s.query)\n",
    "    s_cut.web_results = s.web_results[:10]\n",
    "    search_sessions_cut.append(s_cut)"
   ]
  },
  {
   "cell_type": "markdown",
   "id": "97c08892",
   "metadata": {},
   "source": [
    "**DCM (MLE)**"
   ]
  },
  {
   "cell_type": "code",
   "execution_count": 286,
   "id": "17ea906a",
   "metadata": {},
   "outputs": [
    {
     "name": "stdout",
     "output_type": "stream",
     "text": [
      "\tTrained DCM click model in 275 secs\n"
     ]
    }
   ],
   "source": [
    "click_model = DCM()\n",
    "start = time.time()\n",
    "click_model.train(search_sessions_cut)\n",
    "end = time.time()\n",
    "print(\"\\tTrained %s click model in %i secs\" % (click_model.__class__.__name__, end - start))"
   ]
  },
  {
   "cell_type": "code",
   "execution_count": 287,
   "id": "f87a0df5",
   "metadata": {},
   "outputs": [
    {
     "data": {
      "application/vnd.jupyter.widget-view+json": {
       "model_id": "12a69f7f501d4ae08e025de7d9108d4e",
       "version_major": 2,
       "version_minor": 0
      },
      "text/plain": [
       "HBox(children=(FloatProgress(value=0.0, max=199886.0), HTML(value='')))"
      ]
     },
     "metadata": {},
     "output_type": "display_data"
    },
    {
     "name": "stdout",
     "output_type": "stream",
     "text": [
      "\n"
     ]
    },
    {
     "data": {
      "application/vnd.jupyter.widget-view+json": {
       "model_id": "1025a94bcc204017b3971f6a2b35cb8f",
       "version_major": 2,
       "version_minor": 0
      },
      "text/plain": [
       "HBox(children=(FloatProgress(value=0.0, max=399784.0), HTML(value='')))"
      ]
     },
     "metadata": {},
     "output_type": "display_data"
    },
    {
     "name": "stdout",
     "output_type": "stream",
     "text": [
      "\n"
     ]
    }
   ],
   "source": [
    "rels = get_rels(train_df, click_model, predict='orig')\n",
    "train_df['dcm_rel'] = rels\n",
    "rels = get_rels(test_df, click_model, predict='orig')\n",
    "test_df['dcm_rel'] = rels"
   ]
  },
  {
   "cell_type": "markdown",
   "id": "0fce8304",
   "metadata": {},
   "source": [
    "**UBM (EM)**"
   ]
  },
  {
   "cell_type": "code",
   "execution_count": 299,
   "id": "eb780a90",
   "metadata": {},
   "outputs": [
    {
     "name": "stdout",
     "output_type": "stream",
     "text": [
      "\tTrained UBM click model in 677 secs\n"
     ]
    }
   ],
   "source": [
    "click_model = UBM(EMInference(iter_num=1))\n",
    "start = time.time()\n",
    "click_model.train(search_sessions_cut)\n",
    "end = time.time()\n",
    "print(\"\\tTrained %s click model in %i secs\" % (click_model.__class__.__name__, end - start))"
   ]
  },
  {
   "cell_type": "code",
   "execution_count": 300,
   "id": "9872a91b",
   "metadata": {},
   "outputs": [
    {
     "data": {
      "application/vnd.jupyter.widget-view+json": {
       "model_id": "c6c2fabcf0754a83b88070260ff469f4",
       "version_major": 2,
       "version_minor": 0
      },
      "text/plain": [
       "HBox(children=(FloatProgress(value=0.0, max=199886.0), HTML(value='')))"
      ]
     },
     "metadata": {},
     "output_type": "display_data"
    },
    {
     "name": "stdout",
     "output_type": "stream",
     "text": [
      "\n"
     ]
    },
    {
     "data": {
      "application/vnd.jupyter.widget-view+json": {
       "model_id": "4ff6f177ecb24b8e90881a491b0d1dd2",
       "version_major": 2,
       "version_minor": 0
      },
      "text/plain": [
       "HBox(children=(FloatProgress(value=0.0, max=399784.0), HTML(value='')))"
      ]
     },
     "metadata": {},
     "output_type": "display_data"
    },
    {
     "name": "stdout",
     "output_type": "stream",
     "text": [
      "\n"
     ]
    }
   ],
   "source": [
    "rels = get_rels(train_df, click_model, predict='orig')\n",
    "train_df['ubm_rel'] = rels\n",
    "rels = get_rels(test_df, click_model, predict='orig')\n",
    "test_df['ubm_rel'] = rels"
   ]
  },
  {
   "cell_type": "markdown",
   "id": "dcaa5a92",
   "metadata": {},
   "source": [
    "### Сохранение результатов"
   ]
  },
  {
   "cell_type": "code",
   "execution_count": 306,
   "id": "0102b17b",
   "metadata": {},
   "outputs": [],
   "source": [
    "columns = ['query_id', 'doc_id', 'cm_rel', 'dctr_rel', 'gctr_rel', 'sdbn_rel', 'dcm_rel', 'ubm_rel', 'dbn_rel']"
   ]
  },
  {
   "cell_type": "code",
   "execution_count": 307,
   "id": "8d6ef34c",
   "metadata": {},
   "outputs": [],
   "source": [
    "train_df[columns].to_csv('train_cm_df.csv', index=False, sep='\\t')"
   ]
  },
  {
   "cell_type": "code",
   "execution_count": 308,
   "id": "55f5a90f",
   "metadata": {},
   "outputs": [],
   "source": [
    "test_df[columns].to_csv('test_cm_df.csv', index=False, sep='\\t')"
   ]
  }
 ],
 "metadata": {
  "kernelspec": {
   "display_name": "Python 3 (ipykernel)",
   "language": "python",
   "name": "python3"
  },
  "language_info": {
   "codemirror_mode": {
    "name": "ipython",
    "version": 3
   },
   "file_extension": ".py",
   "mimetype": "text/x-python",
   "name": "python",
   "nbconvert_exporter": "python",
   "pygments_lexer": "ipython3",
   "version": "3.8.5"
  }
 },
 "nbformat": 4,
 "nbformat_minor": 5
}
