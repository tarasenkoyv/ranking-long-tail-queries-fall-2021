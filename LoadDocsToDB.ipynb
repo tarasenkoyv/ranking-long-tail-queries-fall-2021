{
 "cells": [
  {
   "cell_type": "code",
   "execution_count": 136,
   "id": "41ca10d8",
   "metadata": {},
   "outputs": [],
   "source": [
    "import nltk\n",
    "from nltk.corpus import stopwords\n",
    "\n",
    "import helpers\n",
    "\n",
    "import pandas as pd\n",
    "import pyodbc\n",
    "import tqdm"
   ]
  },
  {
   "cell_type": "code",
   "execution_count": null,
   "id": "d160d8e6",
   "metadata": {},
   "outputs": [],
   "source": [
    "russian_stopwords = stopwords.words(\"russian\")"
   ]
  },
  {
   "cell_type": "markdown",
   "id": "a27c30c1",
   "metadata": {},
   "source": [
    "### Вставка документов в MS SQL"
   ]
  },
  {
   "cell_type": "code",
   "execution_count": 114,
   "id": "90e4ef8a",
   "metadata": {},
   "outputs": [],
   "source": [
    "cnt_docs = 582_167\n",
    "batch_size = 5_000\n",
    "cnt_inserted_docs = 1"
   ]
  },
  {
   "cell_type": "code",
   "execution_count": 584,
   "id": "e806f1a6",
   "metadata": {},
   "outputs": [],
   "source": [
    "def insert_docs(sphinx_conn):\n",
    "    with sphinx_conn.cursor() as cursor:\n",
    "        cnt_inserted_docs = 0\n",
    "        for i in tqdm.tqdm(range(batch_size)):\n",
    "            line = docs.readline()\n",
    "            if not line:\n",
    "                break\n",
    "            line = line.split('\\t')\n",
    "            DocId = int(line[0])\n",
    "            DocTitle = line[1].lower()\n",
    "            DocContent = line[2].lower()\n",
    "            cursor.execute(\"INSERT INTO dbo.docs (DocId,DocTitle,DocContent) values(?,?,?)\", DocId, DocTitle, DocContent)\n",
    "            cnt_inserted_docs = cnt_inserted_docs + 1\n",
    "\n",
    "        sphinx_conn.commit()\n",
    "    return cnt_inserted_docs"
   ]
  },
  {
   "cell_type": "code",
   "execution_count": null,
   "id": "8294bff1",
   "metadata": {},
   "outputs": [],
   "source": [
    "with open('docs.tsv/docs.tsv', 'r', encoding='utf-8') as docs, helpers.get_sphinx_conn() as sphinx_conn:\n",
    "    while cnt_inserted_docs:\n",
    "        cnt_inserted_docs = insert_docs(sphinx_conn)"
   ]
  },
  {
   "cell_type": "markdown",
   "id": "add80971",
   "metadata": {},
   "source": [
    "### Sphinx"
   ]
  },
  {
   "cell_type": "markdown",
   "id": "d4e9465d",
   "metadata": {},
   "source": [
    "Установка инастройка:  \n",
    "https://oxozle.com/2014/02/05/rukovodstvo-ustanovka-i-nastrojki-sphinx-na-windows-ms-sql/  \n",
    "http://chakrygin.ru/2013/03/sphinx-install.html  \n",
    "https://www.sqlshack.com/getting-started-with-sphinx-search-engine/\n",
    "Найстройка поиска:  \n",
    "http://chakrygin.ru/2013/07/sphinx-search.html  \n",
    "Построение индекса:  \n",
    "http://chakrygin.ru/2013/04/sphinx-db-indexing-and-delta-indexes.html  \n",
    "Ранжирование в Sphinx:  \n",
    "https://yapro.ru/article/6498  \n",
    "http://sphinxsearch.com/blog/2010/08/17/how-sphinx-relevance-ranking-works/  \n",
    "Formula expressions for all the built-in rankers:  \n",
    "http://sphinxsearch.com/docs/current.html#formulas-for-builtin-rankers  "
   ]
  },
  {
   "cell_type": "markdown",
   "id": "600a0ab0",
   "metadata": {},
   "source": [
    "> c:\\sphinx-3.4.1\\bin\\indexer docs1 --config c:\\sphinx-3.4.1\\etc\\sphinx.conf --rotate --print-queries"
   ]
  },
  {
   "cell_type": "markdown",
   "id": "59c89512",
   "metadata": {},
   "source": [
    "### Ресурсы"
   ]
  },
  {
   "cell_type": "markdown",
   "id": "39bee9ad",
   "metadata": {},
   "source": [
    "sphinx dicts:  \n",
    "http://sphinxsearch.com/downloads/dicts/"
   ]
  }
 ],
 "metadata": {
  "kernelspec": {
   "display_name": "Python 3 (ipykernel)",
   "language": "python",
   "name": "python3"
  },
  "language_info": {
   "codemirror_mode": {
    "name": "ipython",
    "version": 3
   },
   "file_extension": ".py",
   "mimetype": "text/x-python",
   "name": "python",
   "nbconvert_exporter": "python",
   "pygments_lexer": "ipython3",
   "version": "3.8.5"
  }
 },
 "nbformat": 4,
 "nbformat_minor": 5
}
