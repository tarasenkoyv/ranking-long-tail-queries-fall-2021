{
  "cells": [
    {
      "cell_type": "code",
      "source": [
        "import pandas as pd\n",
        "import numpy as np\n",
        "\n",
        "import xgboost as xgb\n",
        "import os\n",
        "\n",
        "from tqdm.notebook import tqdm"
      ],
      "metadata": {
        "id": "QfrDFGNYNMyC"
      },
      "id": "QfrDFGNYNMyC",
      "execution_count": 5,
      "outputs": []
    },
    {
      "cell_type": "code",
      "source": [
        "from google.colab import drive\n",
        "drive.mount('/content/drive')\n",
        "\n",
        "base_path = '/content/drive/My Drive/ir/final'\n",
        "os.chdir(base_path)"
      ],
      "metadata": {
        "colab": {
          "base_uri": "https://localhost:8080/"
        },
        "id": "9PLdVotMNW5T",
        "outputId": "c21e8b85-eaad-4bb9-c1d8-c6459e269823"
      },
      "id": "9PLdVotMNW5T",
      "execution_count": 6,
      "outputs": [
        {
          "output_type": "stream",
          "name": "stdout",
          "text": [
            "Mounted at /content/drive\n"
          ]
        }
      ]
    },
    {
      "cell_type": "code",
      "source": [
        "!pip3 uninstall numpy\n",
        "!pip3 install numpy==1.20"
      ],
      "metadata": {
        "colab": {
          "base_uri": "https://localhost:8080/",
          "height": 485
        },
        "id": "Emi3-IsyIljy",
        "outputId": "fc91ab7b-0151-4787-f533-805ffd60f6ae"
      },
      "id": "Emi3-IsyIljy",
      "execution_count": 2,
      "outputs": [
        {
          "output_type": "stream",
          "name": "stdout",
          "text": [
            "Found existing installation: numpy 1.21.5\n",
            "Uninstalling numpy-1.21.5:\n",
            "  Would remove:\n",
            "    /usr/local/bin/f2py\n",
            "    /usr/local/bin/f2py3\n",
            "    /usr/local/bin/f2py3.7\n",
            "    /usr/local/lib/python3.7/dist-packages/numpy-1.21.5.dist-info/*\n",
            "    /usr/local/lib/python3.7/dist-packages/numpy.libs/libgfortran-2e0d59d6.so.5.0.0\n",
            "    /usr/local/lib/python3.7/dist-packages/numpy.libs/libopenblasp-r0-2d23e62b.3.17.so\n",
            "    /usr/local/lib/python3.7/dist-packages/numpy.libs/libquadmath-2d0c479f.so.0.0.0\n",
            "    /usr/local/lib/python3.7/dist-packages/numpy/*\n",
            "Proceed (y/n)? y\n",
            "  Successfully uninstalled numpy-1.21.5\n",
            "Collecting numpy==1.20\n",
            "  Downloading numpy-1.20.0-cp37-cp37m-manylinux2010_x86_64.whl (15.3 MB)\n",
            "\u001b[K     |████████████████████████████████| 15.3 MB 14.3 MB/s \n",
            "\u001b[?25hInstalling collected packages: numpy\n",
            "\u001b[31mERROR: pip's dependency resolver does not currently take into account all the packages that are installed. This behaviour is the source of the following dependency conflicts.\n",
            "yellowbrick 1.3.post1 requires numpy<1.20,>=1.16.0, but you have numpy 1.20.0 which is incompatible.\n",
            "datascience 0.10.6 requires folium==0.2.1, but you have folium 0.8.3 which is incompatible.\n",
            "albumentations 0.1.12 requires imgaug<0.2.7,>=0.2.5, but you have imgaug 0.2.9 which is incompatible.\u001b[0m\n",
            "Successfully installed numpy-1.20.0\n"
          ]
        },
        {
          "output_type": "display_data",
          "data": {
            "application/vnd.colab-display-data+json": {
              "pip_warning": {
                "packages": [
                  "numpy"
                ]
              }
            }
          },
          "metadata": {}
        }
      ]
    },
    {
      "cell_type": "code",
      "source": [
        "!pip3 uninstall folium\n",
        "!pip3 install folium==0.2.1"
      ],
      "metadata": {
        "colab": {
          "base_uri": "https://localhost:8080/"
        },
        "id": "veOJ-FAWI2WY",
        "outputId": "3f681374-e1c9-4795-95fe-cee10b10007f"
      },
      "id": "veOJ-FAWI2WY",
      "execution_count": 3,
      "outputs": [
        {
          "output_type": "stream",
          "name": "stdout",
          "text": [
            "Found existing installation: folium 0.8.3\n",
            "Uninstalling folium-0.8.3:\n",
            "  Would remove:\n",
            "    /usr/local/lib/python3.7/dist-packages/folium-0.8.3.dist-info/*\n",
            "    /usr/local/lib/python3.7/dist-packages/folium/*\n",
            "Proceed (y/n)? y\n",
            "  Successfully uninstalled folium-0.8.3\n",
            "Collecting folium==0.2.1\n",
            "  Downloading folium-0.2.1.tar.gz (69 kB)\n",
            "\u001b[K     |████████████████████████████████| 69 kB 6.2 MB/s \n",
            "\u001b[?25hRequirement already satisfied: Jinja2 in /usr/local/lib/python3.7/dist-packages (from folium==0.2.1) (2.11.3)\n",
            "Requirement already satisfied: MarkupSafe>=0.23 in /usr/local/lib/python3.7/dist-packages (from Jinja2->folium==0.2.1) (2.0.1)\n",
            "Building wheels for collected packages: folium\n",
            "  Building wheel for folium (setup.py) ... \u001b[?25l\u001b[?25hdone\n",
            "  Created wheel for folium: filename=folium-0.2.1-py3-none-any.whl size=79808 sha256=54c641a7a4f38d755c9d1e1e967018bf8b758a9eb24facdbfdfd126355f32f62\n",
            "  Stored in directory: /root/.cache/pip/wheels/9a/f0/3a/3f79a6914ff5affaf50cabad60c9f4d565283283c97f0bdccf\n",
            "Successfully built folium\n",
            "Installing collected packages: folium\n",
            "Successfully installed folium-0.2.1\n"
          ]
        }
      ]
    },
    {
      "cell_type": "code",
      "source": [
        "!pip3 uninstall imgaug\n",
        "!pip3 install imgaug==0.2.5"
      ],
      "metadata": {
        "colab": {
          "base_uri": "https://localhost:8080/"
        },
        "id": "8SZ0SZgQI-SC",
        "outputId": "b844efc9-e33b-4321-883e-6b536ac8b70c"
      },
      "id": "8SZ0SZgQI-SC",
      "execution_count": 5,
      "outputs": [
        {
          "output_type": "stream",
          "name": "stdout",
          "text": [
            "Found existing installation: imgaug 0.2.7\n",
            "Uninstalling imgaug-0.2.7:\n",
            "  Would remove:\n",
            "    /usr/local/lib/python3.7/dist-packages/imgaug-0.2.7.dist-info/*\n",
            "    /usr/local/lib/python3.7/dist-packages/imgaug/*\n",
            "Proceed (y/n)? y\n",
            "  Successfully uninstalled imgaug-0.2.7\n",
            "Collecting imgaug==0.2.5\n",
            "  Downloading imgaug-0.2.5.tar.gz (562 kB)\n",
            "\u001b[K     |████████████████████████████████| 562 kB 13.8 MB/s \n",
            "\u001b[?25hRequirement already satisfied: scipy in /usr/local/lib/python3.7/dist-packages (from imgaug==0.2.5) (1.4.1)\n",
            "Requirement already satisfied: scikit-image>=0.11.0 in /usr/local/lib/python3.7/dist-packages (from imgaug==0.2.5) (0.18.3)\n",
            "Requirement already satisfied: numpy>=1.7.0 in /usr/local/lib/python3.7/dist-packages (from imgaug==0.2.5) (1.20.0)\n",
            "Requirement already satisfied: six in /usr/local/lib/python3.7/dist-packages (from imgaug==0.2.5) (1.15.0)\n",
            "Requirement already satisfied: pillow!=7.1.0,!=7.1.1,>=4.3.0 in /usr/local/lib/python3.7/dist-packages (from scikit-image>=0.11.0->imgaug==0.2.5) (7.1.2)\n",
            "Requirement already satisfied: imageio>=2.3.0 in /usr/local/lib/python3.7/dist-packages (from scikit-image>=0.11.0->imgaug==0.2.5) (2.4.1)\n",
            "Requirement already satisfied: matplotlib!=3.0.0,>=2.0.0 in /usr/local/lib/python3.7/dist-packages (from scikit-image>=0.11.0->imgaug==0.2.5) (3.2.2)\n",
            "Requirement already satisfied: networkx>=2.0 in /usr/local/lib/python3.7/dist-packages (from scikit-image>=0.11.0->imgaug==0.2.5) (2.6.3)\n",
            "Requirement already satisfied: PyWavelets>=1.1.1 in /usr/local/lib/python3.7/dist-packages (from scikit-image>=0.11.0->imgaug==0.2.5) (1.2.0)\n",
            "Requirement already satisfied: tifffile>=2019.7.26 in /usr/local/lib/python3.7/dist-packages (from scikit-image>=0.11.0->imgaug==0.2.5) (2021.11.2)\n",
            "Requirement already satisfied: cycler>=0.10 in /usr/local/lib/python3.7/dist-packages (from matplotlib!=3.0.0,>=2.0.0->scikit-image>=0.11.0->imgaug==0.2.5) (0.11.0)\n",
            "Requirement already satisfied: kiwisolver>=1.0.1 in /usr/local/lib/python3.7/dist-packages (from matplotlib!=3.0.0,>=2.0.0->scikit-image>=0.11.0->imgaug==0.2.5) (1.3.2)\n",
            "Requirement already satisfied: pyparsing!=2.0.4,!=2.1.2,!=2.1.6,>=2.0.1 in /usr/local/lib/python3.7/dist-packages (from matplotlib!=3.0.0,>=2.0.0->scikit-image>=0.11.0->imgaug==0.2.5) (3.0.7)\n",
            "Requirement already satisfied: python-dateutil>=2.1 in /usr/local/lib/python3.7/dist-packages (from matplotlib!=3.0.0,>=2.0.0->scikit-image>=0.11.0->imgaug==0.2.5) (2.8.2)\n",
            "Building wheels for collected packages: imgaug\n",
            "  Building wheel for imgaug (setup.py) ... \u001b[?25l\u001b[?25hdone\n",
            "  Created wheel for imgaug: filename=imgaug-0.2.5-py3-none-any.whl size=561438 sha256=e9bb811aa432cd5b5900e24ebdc773399c11a5b154baa61ac16d4e389e352224\n",
            "  Stored in directory: /root/.cache/pip/wheels/60/dd/38/d1dc2cad2b6a66dc0249261004990bccb0f27985c74ba26e49\n",
            "Successfully built imgaug\n",
            "Installing collected packages: imgaug\n",
            "Successfully installed imgaug-0.2.5\n"
          ]
        }
      ]
    },
    {
      "cell_type": "code",
      "source": [
        "!pip3 install tensorflow_text>=2.0.0rc0"
      ],
      "metadata": {
        "id": "PmZ-6PIROUk7"
      },
      "id": "PmZ-6PIROUk7",
      "execution_count": 37,
      "outputs": []
    },
    {
      "cell_type": "code",
      "source": [
        "import tensorflow as tf"
      ],
      "metadata": {
        "id": "Yok3A_AXNg2K"
      },
      "id": "Yok3A_AXNg2K",
      "execution_count": 36,
      "outputs": []
    },
    {
      "cell_type": "code",
      "source": [
        "import tensorflow_hub as hub\n",
        "import numpy as np\n",
        "import tensorflow_text"
      ],
      "metadata": {
        "id": "u8B24HCoHkL6"
      },
      "id": "u8B24HCoHkL6",
      "execution_count": 1,
      "outputs": []
    },
    {
      "cell_type": "code",
      "source": [
        "embed = hub.load(\"https://tfhub.dev/google/universal-sentence-encoder-multilingual/3\")\n",
        "embed_qa = hub.load(\"https://tfhub.dev/google/universal-sentence-encoder-multilingual-qa/3\")"
      ],
      "metadata": {
        "id": "Kct0f9lqOZUa"
      },
      "id": "Kct0f9lqOZUa",
      "execution_count": 2,
      "outputs": []
    },
    {
      "cell_type": "code",
      "source": [
        "from helpers_sem import cut_query"
      ],
      "metadata": {
        "id": "861HZDp6Cdp8"
      },
      "id": "861HZDp6Cdp8",
      "execution_count": null,
      "outputs": []
    },
    {
      "cell_type": "code",
      "source": [
        "query = ['в какую государственную структуру входит служба по экономическим расследованиям казахстан']\n",
        "titles = ['как называется служба по экономическим расследования', 'в каких государственных структурах лучше работать в казахстане']"
      ],
      "metadata": {
        "id": "lSQ23TSy2exO"
      },
      "id": "lSQ23TSy2exO",
      "execution_count": 12,
      "outputs": []
    },
    {
      "cell_type": "code",
      "source": [
        "query_result = embed(query)\n",
        "titles_result = embed(titles)\n",
        "sim_matrix = np.inner(query_result, titles_result)\n",
        "sim_matrix"
      ],
      "metadata": {
        "colab": {
          "base_uri": "https://localhost:8080/"
        },
        "id": "t1M2HyP025_I",
        "outputId": "3c44014e-fe21-4d2a-f5f5-27fd723645b4"
      },
      "id": "t1M2HyP025_I",
      "execution_count": 13,
      "outputs": [
        {
          "output_type": "execute_result",
          "data": {
            "text/plain": [
              "array([[0.59951204, 0.59767425]], dtype=float32)"
            ]
          },
          "metadata": {},
          "execution_count": 13
        }
      ]
    },
    {
      "cell_type": "markdown",
      "source": [
        "### Вспомогательные функции"
      ],
      "metadata": {
        "id": "XpJQlLELRrW_"
      },
      "id": "XpJQlLELRrW_"
    },
    {
      "cell_type": "code",
      "source": [
        "def get_sim_qa(data_df, f_input_name, f_query_name, f_context_name=None, need_cut=False):\n",
        "  data_df[f_input_name].fillna('', inplace=True)\n",
        "  if f_context_name:\n",
        "    data_df[f_context_name].fillna('', inplace=True)\n",
        "  sim_use_qa_list = []\n",
        "  qids = np.unique(data_df['query_id'], return_counts=False)\n",
        "  for qid in tqdm(qids, total=len(qids)):\n",
        "    query = queries_df[queries_df.id == qid][f_query_name].values[0]\n",
        "    inputs = data_df[data_df.query_id == qid][f_input_name].values\n",
        "    if f_context_name:\n",
        "      contexts = data_df[data_df.query_id == qid][f_context_name].values\n",
        "    else:\n",
        "      contexts = inputs\n",
        "    if need_cut:\n",
        "      inputs = list(map(lambda x: cut_query(x), inputs))\n",
        "    query_result = embed_qa.signatures['question_encoder'](tf.constant(query))\n",
        "    inputs_result = embed_qa.signatures['response_encoder'](input=tf.constant(inputs), context=tf.constant(contexts))\n",
        "    sim_matrix = np.inner(query_result['outputs'], inputs_result['outputs'])\n",
        "    sim_use_qa_list.extend(list(sim_matrix[0]))\n",
        "  return sim_use_qa_list\n",
        "  \n",
        "def get_sim(data_df, f_input_name, f_query_name, need_cut=False):\n",
        "  data_df[f_input_name].fillna('', inplace=True)\n",
        "  sim_use_list = []\n",
        "  qids = np.unique(data_df['query_id'], return_counts=False)\n",
        "  for qid in tqdm(qids, total=len(qids)):\n",
        "    query = queries_df[queries_df.id == qid][f_query_name].values[0]\n",
        "    inputs = data_df[data_df.query_id == qid][f_input_name].values\n",
        "    if need_cut:\n",
        "      inputs = list(map(lambda x: cut_query(x), inputs))\n",
        "    query_result = embed(query)\n",
        "    inputs_result = embed(inputs)\n",
        "    sim_matrix = np.inner(query_result, inputs_result)\n",
        "    sim_use_list.extend(list(sim_matrix[0]))\n",
        "  return sim_use_list"
      ],
      "metadata": {
        "id": "v0kQedQ-Rvvu"
      },
      "id": "v0kQedQ-Rvvu",
      "execution_count": 3,
      "outputs": []
    },
    {
      "cell_type": "markdown",
      "source": [
        "### Загрузка данных"
      ],
      "metadata": {
        "id": "NrjFRJBZoUr8"
      },
      "id": "NrjFRJBZoUr8"
    },
    {
      "cell_type": "code",
      "source": [
        "queries_df = pd.read_csv('corrected_queries.tsv', sep='\\t')"
      ],
      "metadata": {
        "id": "umsuCEmHk6mo"
      },
      "id": "umsuCEmHk6mo",
      "execution_count": 7,
      "outputs": []
    },
    {
      "cell_type": "markdown",
      "source": [
        "### Расчеты для запросов"
      ],
      "metadata": {
        "id": "LEjrezOOD63S"
      },
      "id": "LEjrezOOD63S"
    },
    {
      "cell_type": "code",
      "source": [
        "click_data_df = pd.read_csv('click_data_df.csv', sep='\\t')\n",
        "click_data_df.sort_values(by=['query_id', 'c_query_id'], inplace=True)"
      ],
      "metadata": {
        "id": "bFHVkGlzECCR"
      },
      "id": "bFHVkGlzECCR",
      "execution_count": 8,
      "outputs": []
    },
    {
      "cell_type": "code",
      "source": [
        "click_data_df['sim_q'] = get_sim(click_data_df, 'c_query', 'corrected_query')"
      ],
      "metadata": {
        "colab": {
          "base_uri": "https://localhost:8080/",
          "height": 49,
          "referenced_widgets": [
            "85b157a8f77a446ab650d372086c0aa2",
            "71583f3ae52f49d38b16c61fb96ca547",
            "9933cfa4abf4403c8defb4c8846aef03",
            "f11b5e84e5c94641a818607cd93276ae",
            "96275aac6b664a6a94f2a092c3960b4c",
            "48e15ac786c24087a1fc0805e7a9a30e",
            "9d47e326cdec412f911875db95f021db",
            "6de9fe28079945c4b98fac6eb62b150d",
            "88ef281688bb43858f13598ddfc07be5",
            "4e150591657741c29bca15380c920b0d",
            "f5de0d768ddf4715be8e8dbf7fb91cc9"
          ]
        },
        "id": "SwRZq__IF21i",
        "outputId": "5bd61a6c-f258-4420-aa89-7a80330328a1"
      },
      "id": "SwRZq__IF21i",
      "execution_count": 9,
      "outputs": [
        {
          "output_type": "display_data",
          "data": {
            "application/vnd.jupyter.widget-view+json": {
              "model_id": "85b157a8f77a446ab650d372086c0aa2",
              "version_minor": 0,
              "version_major": 2
            },
            "text/plain": [
              "  0%|          | 0/6311 [00:00<?, ?it/s]"
            ]
          },
          "metadata": {}
        }
      ]
    },
    {
      "cell_type": "code",
      "source": [
        "click_data_df[click_data_df.query_id == 14]"
      ],
      "metadata": {
        "colab": {
          "base_uri": "https://localhost:8080/",
          "height": 363
        },
        "id": "jfI1lElNLQji",
        "outputId": "d87f8374-170c-4f29-ab05-ada8072f825e"
      },
      "id": "jfI1lElNLQji",
      "execution_count": 32,
      "outputs": [
        {
          "output_type": "execute_result",
          "data": {
            "text/html": [
              "\n",
              "  <div id=\"df-efe6a2b8-c1d1-48f6-ac61-86f8309a4ae8\">\n",
              "    <div class=\"colab-df-container\">\n",
              "      <div>\n",
              "<style scoped>\n",
              "    .dataframe tbody tr th:only-of-type {\n",
              "        vertical-align: middle;\n",
              "    }\n",
              "\n",
              "    .dataframe tbody tr th {\n",
              "        vertical-align: top;\n",
              "    }\n",
              "\n",
              "    .dataframe thead th {\n",
              "        text-align: right;\n",
              "    }\n",
              "</style>\n",
              "<table border=\"1\" class=\"dataframe\">\n",
              "  <thead>\n",
              "    <tr style=\"text-align: right;\">\n",
              "      <th></th>\n",
              "      <th>query_id</th>\n",
              "      <th>c_query_id</th>\n",
              "      <th>c_query</th>\n",
              "      <th>filename</th>\n",
              "      <th>log_id_start</th>\n",
              "      <th>c_query_weight</th>\n",
              "      <th>sim_q</th>\n",
              "    </tr>\n",
              "  </thead>\n",
              "  <tbody>\n",
              "    <tr>\n",
              "      <th>140</th>\n",
              "      <td>14</td>\n",
              "      <td>4365549</td>\n",
              "      <td>по достижении какого возраста можно без опекун...</td>\n",
              "      <td>part-m-00056.bz2</td>\n",
              "      <td>10164069</td>\n",
              "      <td>191549.11</td>\n",
              "      <td>0.277628</td>\n",
              "    </tr>\n",
              "    <tr>\n",
              "      <th>141</th>\n",
              "      <td>14</td>\n",
              "      <td>22768907</td>\n",
              "      <td>при ипотеке в сбербланке можно ли выбирать стр...</td>\n",
              "      <td>part-m-00177.bz2</td>\n",
              "      <td>49357396</td>\n",
              "      <td>212685.83</td>\n",
              "      <td>0.285210</td>\n",
              "    </tr>\n",
              "    <tr>\n",
              "      <th>142</th>\n",
              "      <td>14</td>\n",
              "      <td>38842644</td>\n",
              "      <td>можно ли изменить фамилию мужчине по своему ус...</td>\n",
              "      <td>part-m-01010.bz2</td>\n",
              "      <td>310087109</td>\n",
              "      <td>232685.83</td>\n",
              "      <td>0.536504</td>\n",
              "    </tr>\n",
              "    <tr>\n",
              "      <th>143</th>\n",
              "      <td>14</td>\n",
              "      <td>38844330</td>\n",
              "      <td>можно ли изменять виды работ по 44 фз при закл...</td>\n",
              "      <td>part-m-01010.bz2</td>\n",
              "      <td>310087747</td>\n",
              "      <td>189113.77</td>\n",
              "      <td>0.579486</td>\n",
              "    </tr>\n",
              "    <tr>\n",
              "      <th>144</th>\n",
              "      <td>14</td>\n",
              "      <td>38844419</td>\n",
              "      <td>можно ли изменять состав работ по 44 фз</td>\n",
              "      <td>part-m-01010.bz2</td>\n",
              "      <td>310087863</td>\n",
              "      <td>188615.75</td>\n",
              "      <td>0.605263</td>\n",
              "    </tr>\n",
              "    <tr>\n",
              "      <th>145</th>\n",
              "      <td>14</td>\n",
              "      <td>38844427</td>\n",
              "      <td>можно ли изменять существенные условия по 223 фз</td>\n",
              "      <td>part-m-01010.bz2</td>\n",
              "      <td>310087873</td>\n",
              "      <td>188615.75</td>\n",
              "      <td>0.552105</td>\n",
              "    </tr>\n",
              "    <tr>\n",
              "      <th>146</th>\n",
              "      <td>14</td>\n",
              "      <td>38844498</td>\n",
              "      <td>можно ли изменять типовой контракт по 44 фз</td>\n",
              "      <td>part-m-01010.bz2</td>\n",
              "      <td>310087892</td>\n",
              "      <td>188615.75</td>\n",
              "      <td>0.577861</td>\n",
              "    </tr>\n",
              "    <tr>\n",
              "      <th>147</th>\n",
              "      <td>14</td>\n",
              "      <td>38844874</td>\n",
              "      <td>можно ли изменять цену договора по аукциону по...</td>\n",
              "      <td>part-m-01010.bz2</td>\n",
              "      <td>310087925</td>\n",
              "      <td>189113.77</td>\n",
              "      <td>0.529294</td>\n",
              "    </tr>\n",
              "    <tr>\n",
              "      <th>148</th>\n",
              "      <td>14</td>\n",
              "      <td>64056286</td>\n",
              "      <td>31 можно ли изменить оформление списков по сво...</td>\n",
              "      <td>part-m-01619.bz2</td>\n",
              "      <td>500221046</td>\n",
              "      <td>371597.28</td>\n",
              "      <td>0.956654</td>\n",
              "    </tr>\n",
              "    <tr>\n",
              "      <th>149</th>\n",
              "      <td>14</td>\n",
              "      <td>64056288</td>\n",
              "      <td>31 можно ли изменять оформление списков по сво...</td>\n",
              "      <td>part-m-01619.bz2</td>\n",
              "      <td>500221049</td>\n",
              "      <td>415570.25</td>\n",
              "      <td>1.000000</td>\n",
              "    </tr>\n",
              "  </tbody>\n",
              "</table>\n",
              "</div>\n",
              "      <button class=\"colab-df-convert\" onclick=\"convertToInteractive('df-efe6a2b8-c1d1-48f6-ac61-86f8309a4ae8')\"\n",
              "              title=\"Convert this dataframe to an interactive table.\"\n",
              "              style=\"display:none;\">\n",
              "        \n",
              "  <svg xmlns=\"http://www.w3.org/2000/svg\" height=\"24px\"viewBox=\"0 0 24 24\"\n",
              "       width=\"24px\">\n",
              "    <path d=\"M0 0h24v24H0V0z\" fill=\"none\"/>\n",
              "    <path d=\"M18.56 5.44l.94 2.06.94-2.06 2.06-.94-2.06-.94-.94-2.06-.94 2.06-2.06.94zm-11 1L8.5 8.5l.94-2.06 2.06-.94-2.06-.94L8.5 2.5l-.94 2.06-2.06.94zm10 10l.94 2.06.94-2.06 2.06-.94-2.06-.94-.94-2.06-.94 2.06-2.06.94z\"/><path d=\"M17.41 7.96l-1.37-1.37c-.4-.4-.92-.59-1.43-.59-.52 0-1.04.2-1.43.59L10.3 9.45l-7.72 7.72c-.78.78-.78 2.05 0 2.83L4 21.41c.39.39.9.59 1.41.59.51 0 1.02-.2 1.41-.59l7.78-7.78 2.81-2.81c.8-.78.8-2.07 0-2.86zM5.41 20L4 18.59l7.72-7.72 1.47 1.35L5.41 20z\"/>\n",
              "  </svg>\n",
              "      </button>\n",
              "      \n",
              "  <style>\n",
              "    .colab-df-container {\n",
              "      display:flex;\n",
              "      flex-wrap:wrap;\n",
              "      gap: 12px;\n",
              "    }\n",
              "\n",
              "    .colab-df-convert {\n",
              "      background-color: #E8F0FE;\n",
              "      border: none;\n",
              "      border-radius: 50%;\n",
              "      cursor: pointer;\n",
              "      display: none;\n",
              "      fill: #1967D2;\n",
              "      height: 32px;\n",
              "      padding: 0 0 0 0;\n",
              "      width: 32px;\n",
              "    }\n",
              "\n",
              "    .colab-df-convert:hover {\n",
              "      background-color: #E2EBFA;\n",
              "      box-shadow: 0px 1px 2px rgba(60, 64, 67, 0.3), 0px 1px 3px 1px rgba(60, 64, 67, 0.15);\n",
              "      fill: #174EA6;\n",
              "    }\n",
              "\n",
              "    [theme=dark] .colab-df-convert {\n",
              "      background-color: #3B4455;\n",
              "      fill: #D2E3FC;\n",
              "    }\n",
              "\n",
              "    [theme=dark] .colab-df-convert:hover {\n",
              "      background-color: #434B5C;\n",
              "      box-shadow: 0px 1px 3px 1px rgba(0, 0, 0, 0.15);\n",
              "      filter: drop-shadow(0px 1px 2px rgba(0, 0, 0, 0.3));\n",
              "      fill: #FFFFFF;\n",
              "    }\n",
              "  </style>\n",
              "\n",
              "      <script>\n",
              "        const buttonEl =\n",
              "          document.querySelector('#df-efe6a2b8-c1d1-48f6-ac61-86f8309a4ae8 button.colab-df-convert');\n",
              "        buttonEl.style.display =\n",
              "          google.colab.kernel.accessAllowed ? 'block' : 'none';\n",
              "\n",
              "        async function convertToInteractive(key) {\n",
              "          const element = document.querySelector('#df-efe6a2b8-c1d1-48f6-ac61-86f8309a4ae8');\n",
              "          const dataTable =\n",
              "            await google.colab.kernel.invokeFunction('convertToInteractive',\n",
              "                                                     [key], {});\n",
              "          if (!dataTable) return;\n",
              "\n",
              "          const docLinkHtml = 'Like what you see? Visit the ' +\n",
              "            '<a target=\"_blank\" href=https://colab.research.google.com/notebooks/data_table.ipynb>data table notebook</a>'\n",
              "            + ' to learn more about interactive tables.';\n",
              "          element.innerHTML = '';\n",
              "          dataTable['output_type'] = 'display_data';\n",
              "          await google.colab.output.renderOutput(dataTable, element);\n",
              "          const docLink = document.createElement('div');\n",
              "          docLink.innerHTML = docLinkHtml;\n",
              "          element.appendChild(docLink);\n",
              "        }\n",
              "      </script>\n",
              "    </div>\n",
              "  </div>\n",
              "  "
            ],
            "text/plain": [
              "     query_id  c_query_id  ... c_query_weight     sim_q\n",
              "140        14     4365549  ...      191549.11  0.277628\n",
              "141        14    22768907  ...      212685.83  0.285210\n",
              "142        14    38842644  ...      232685.83  0.536504\n",
              "143        14    38844330  ...      189113.77  0.579486\n",
              "144        14    38844419  ...      188615.75  0.605263\n",
              "145        14    38844427  ...      188615.75  0.552105\n",
              "146        14    38844498  ...      188615.75  0.577861\n",
              "147        14    38844874  ...      189113.77  0.529294\n",
              "148        14    64056286  ...      371597.28  0.956654\n",
              "149        14    64056288  ...      415570.25  1.000000\n",
              "\n",
              "[10 rows x 7 columns]"
            ]
          },
          "metadata": {},
          "execution_count": 32
        }
      ]
    },
    {
      "cell_type": "code",
      "source": [
        "len(np.unique(click_data_df[click_data_df.sim_q >= 0.3].query_id, return_counts=False))"
      ],
      "metadata": {
        "colab": {
          "base_uri": "https://localhost:8080/"
        },
        "id": "tysJEbZ6J81S",
        "outputId": "5a466487-8a25-400e-dcce-68545e2431a6"
      },
      "id": "tysJEbZ6J81S",
      "execution_count": 34,
      "outputs": [
        {
          "output_type": "execute_result",
          "data": {
            "text/plain": [
              "6282"
            ]
          },
          "metadata": {},
          "execution_count": 34
        }
      ]
    },
    {
      "cell_type": "code",
      "source": [
        "click_data_df.to_csv('click_data_df.csv', index=False, sep='\\t')"
      ],
      "metadata": {
        "id": "9NBcvxKqMqCa"
      },
      "id": "9NBcvxKqMqCa",
      "execution_count": 35,
      "outputs": []
    },
    {
      "cell_type": "markdown",
      "source": [
        "### Расчеты для train"
      ],
      "metadata": {
        "id": "6EuVADRYomgF"
      },
      "id": "6EuVADRYomgF"
    },
    {
      "cell_type": "code",
      "source": [
        "train_use_df = pd.read_csv('train_use_df.csv', sep='\\t')\n",
        "train_use_df.sort_values(by=['query_id', 'doc_id'], inplace=True)"
      ],
      "metadata": {
        "id": "xLuHmH2motZ6"
      },
      "id": "xLuHmH2motZ6",
      "execution_count": null,
      "outputs": []
    },
    {
      "cell_type": "code",
      "source": [
        "train_use_df['sim_use_qt'] = get_sim(train_use_df, 'doc_title_norm', 'query_norm')\n",
        "train_use_df['sim_use_qt_un'] = get_sim(train_use_df, 'doc_title', 'corrected_query')\n",
        "train_use_df['sim_use_qa_qtt_un'] = get_sim_qa(train_use_df, 'doc_title', 'corrected_query')\n",
        "train_use_df['sim_use_qs_512_un'] = get_sim(train_use_df, 'doc_snippet_512', 'corrected_query')\n",
        "train_use_df['sim_use_qs_1024_un'] = get_sim(train_use_df, 'doc_snippet_1024', 'corrected_query')\n",
        "train_use_df['sim_use_qa_qts_512_un'] = get_sim_qa(train_use_df, 'doc_title', 'corrected_query', f_context_name='doc_snippet_512')\n",
        "train_use_df['sim_use_qa_qts_1024_un'] = get_sim_qa(train_use_df, 'doc_title', 'corrected_query', f_context_name='doc_snippet_1024')\n",
        "train_use_df['sim_use_qa_qss_512_un'] = get_sim_qa(train_use_df, 'doc_snippet_512', 'corrected_query')\n",
        "train_use_df['sim_use_qa_qss_1024_un'] = get_sim_qa(train_use_df, 'doc_snippet_1024', 'corrected_query')"
      ],
      "metadata": {
        "colab": {
          "base_uri": "https://localhost:8080/",
          "height": 49,
          "referenced_widgets": [
            "0e9d3de60c3b4be08d66288a306e66a6",
            "482bbaa975f444d7b08d962f8275c331",
            "5fd90e04cfd9494694643b9347bb56a3",
            "ba9a5cb023b34cc790e1028e00cb1a18",
            "11aba029a062444b88b189328ceccb24",
            "0d1f605a99d24a07b3d63b81e8816764",
            "d23efb221a934023b4df55306b2adec7",
            "033183d74bec47f08c36c75dadd288ed",
            "df3bc1466d5e4c738c165d7138ba9015",
            "c7905342e1494948a3bc4593ca6332eb",
            "d17d18da43b14c80ae2e8f0c4170ad40"
          ]
        },
        "id": "zZQSx89CmkLZ",
        "outputId": "ff822294-a80a-490f-f80d-5b343902d69e"
      },
      "id": "zZQSx89CmkLZ",
      "execution_count": null,
      "outputs": [
        {
          "output_type": "display_data",
          "data": {
            "application/vnd.jupyter.widget-view+json": {
              "model_id": "0e9d3de60c3b4be08d66288a306e66a6",
              "version_minor": 0,
              "version_major": 2
            },
            "text/plain": [
              "  0%|          | 0/2111 [00:00<?, ?it/s]"
            ]
          },
          "metadata": {}
        }
      ]
    },
    {
      "cell_type": "code",
      "source": [
        "train_use_df.to_csv('train_use_df.csv', index=False, sep='\\t')"
      ],
      "metadata": {
        "id": "yhjOsNkrh4rn"
      },
      "id": "yhjOsNkrh4rn",
      "execution_count": null,
      "outputs": []
    },
    {
      "cell_type": "markdown",
      "source": [
        "### Расчет для test"
      ],
      "metadata": {
        "id": "pA4AeeZkDyNS"
      },
      "id": "pA4AeeZkDyNS"
    },
    {
      "cell_type": "code",
      "source": [
        "test_use_df = pd.read_csv('test_use_df.csv', sep='\\t')\n",
        "test_use_df.sort_values(by=['query_id', 'doc_id'], inplace=True)"
      ],
      "metadata": {
        "id": "Xd-gyneID2pR"
      },
      "id": "Xd-gyneID2pR",
      "execution_count": null,
      "outputs": []
    },
    {
      "cell_type": "code",
      "source": [
        "test_use_df['sim_use_qt'] = get_sim(test_use_df, 'doc_title_norm', 'query_norm')\n",
        "test_use_df['sim_use_qt_un'] = get_sim(test_use_df, 'doc_title', 'corrected_query', need_cut=True)\n",
        "test_use_df['sim_use_qa_qtt_un'] = get_sim_qa(test_use_df, 'doc_title', 'corrected_query', need_cut=True)\n",
        "test_use_df['sim_use_qs_512_un'] = get_sim(test_use_df, 'doc_snippet_512', 'corrected_query')\n",
        "test_use_df['sim_use_qs_1024_un'] = get_sim(test_use_df, 'doc_snippet_1024', 'corrected_query')\n",
        "test_use_df['sim_use_qa_qts_512_un'] = get_sim_qa(test_use_df, 'doc_title', 'corrected_query', f_context_name='doc_snippet_512', need_cut=True)\n",
        "test_use_df['sim_use_qa_qts_1024_un'] = get_sim_qa(test_use_df, 'doc_title', 'corrected_query', f_context_name='doc_snippet_1024', need_cut=True)\n",
        "test_use_df['sim_use_qa_qss_512_un'] = get_sim_qa(test_use_df, 'doc_snippet_512', 'corrected_query')\n",
        "test_use_df['sim_use_qa_qss_1024_un'] = get_sim_qa(test_use_df, 'doc_snippet_1024', 'corrected_query')"
      ],
      "metadata": {
        "id": "p_zlRYAKa0jD"
      },
      "id": "p_zlRYAKa0jD",
      "execution_count": null,
      "outputs": []
    },
    {
      "cell_type": "code",
      "source": [
        "test_use_df.to_csv('test_use_df.csv', index=False, sep='\\t')"
      ],
      "metadata": {
        "id": "VdqGV8RTlkot"
      },
      "id": "VdqGV8RTlkot",
      "execution_count": null,
      "outputs": []
    }
  ],
  "metadata": {
    "kernelspec": {
      "display_name": "Python 3 (ipykernel)",
      "language": "python",
      "name": "python3"
    },
    "language_info": {
      "codemirror_mode": {
        "name": "ipython",
        "version": 3
      },
      "file_extension": ".py",
      "mimetype": "text/x-python",
      "name": "python",
      "nbconvert_exporter": "python",
      "pygments_lexer": "ipython3",
      "version": "3.8.5"
    },
    "colab": {
      "name": "Semantic_factors.ipynb",
      "provenance": [],
      "collapsed_sections": [],
      "machine_shape": "hm"
    },
    "accelerator": "GPU",
    "widgets": {
      "application/vnd.jupyter.widget-state+json": {
        "0e9d3de60c3b4be08d66288a306e66a6": {
          "model_module": "@jupyter-widgets/controls",
          "model_name": "HBoxModel",
          "model_module_version": "1.5.0",
          "state": {
            "_view_name": "HBoxView",
            "_dom_classes": [],
            "_model_name": "HBoxModel",
            "_view_module": "@jupyter-widgets/controls",
            "_model_module_version": "1.5.0",
            "_view_count": null,
            "_view_module_version": "1.5.0",
            "box_style": "",
            "layout": "IPY_MODEL_482bbaa975f444d7b08d962f8275c331",
            "_model_module": "@jupyter-widgets/controls",
            "children": [
              "IPY_MODEL_5fd90e04cfd9494694643b9347bb56a3",
              "IPY_MODEL_ba9a5cb023b34cc790e1028e00cb1a18",
              "IPY_MODEL_11aba029a062444b88b189328ceccb24"
            ]
          }
        },
        "482bbaa975f444d7b08d962f8275c331": {
          "model_module": "@jupyter-widgets/base",
          "model_name": "LayoutModel",
          "model_module_version": "1.2.0",
          "state": {
            "_view_name": "LayoutView",
            "grid_template_rows": null,
            "right": null,
            "justify_content": null,
            "_view_module": "@jupyter-widgets/base",
            "overflow": null,
            "_model_module_version": "1.2.0",
            "_view_count": null,
            "flex_flow": null,
            "width": null,
            "min_width": null,
            "border": null,
            "align_items": null,
            "bottom": null,
            "_model_module": "@jupyter-widgets/base",
            "top": null,
            "grid_column": null,
            "overflow_y": null,
            "overflow_x": null,
            "grid_auto_flow": null,
            "grid_area": null,
            "grid_template_columns": null,
            "flex": null,
            "_model_name": "LayoutModel",
            "justify_items": null,
            "grid_row": null,
            "max_height": null,
            "align_content": null,
            "visibility": null,
            "align_self": null,
            "height": null,
            "min_height": null,
            "padding": null,
            "grid_auto_rows": null,
            "grid_gap": null,
            "max_width": null,
            "order": null,
            "_view_module_version": "1.2.0",
            "grid_template_areas": null,
            "object_position": null,
            "object_fit": null,
            "grid_auto_columns": null,
            "margin": null,
            "display": null,
            "left": null
          }
        },
        "5fd90e04cfd9494694643b9347bb56a3": {
          "model_module": "@jupyter-widgets/controls",
          "model_name": "HTMLModel",
          "model_module_version": "1.5.0",
          "state": {
            "_view_name": "HTMLView",
            "style": "IPY_MODEL_0d1f605a99d24a07b3d63b81e8816764",
            "_dom_classes": [],
            "description": "",
            "_model_name": "HTMLModel",
            "placeholder": "​",
            "_view_module": "@jupyter-widgets/controls",
            "_model_module_version": "1.5.0",
            "value": "100%",
            "_view_count": null,
            "_view_module_version": "1.5.0",
            "description_tooltip": null,
            "_model_module": "@jupyter-widgets/controls",
            "layout": "IPY_MODEL_d23efb221a934023b4df55306b2adec7"
          }
        },
        "ba9a5cb023b34cc790e1028e00cb1a18": {
          "model_module": "@jupyter-widgets/controls",
          "model_name": "FloatProgressModel",
          "model_module_version": "1.5.0",
          "state": {
            "_view_name": "ProgressView",
            "style": "IPY_MODEL_033183d74bec47f08c36c75dadd288ed",
            "_dom_classes": [],
            "description": "",
            "_model_name": "FloatProgressModel",
            "bar_style": "success",
            "max": 2111,
            "_view_module": "@jupyter-widgets/controls",
            "_model_module_version": "1.5.0",
            "value": 2111,
            "_view_count": null,
            "_view_module_version": "1.5.0",
            "orientation": "horizontal",
            "min": 0,
            "description_tooltip": null,
            "_model_module": "@jupyter-widgets/controls",
            "layout": "IPY_MODEL_df3bc1466d5e4c738c165d7138ba9015"
          }
        },
        "11aba029a062444b88b189328ceccb24": {
          "model_module": "@jupyter-widgets/controls",
          "model_name": "HTMLModel",
          "model_module_version": "1.5.0",
          "state": {
            "_view_name": "HTMLView",
            "style": "IPY_MODEL_c7905342e1494948a3bc4593ca6332eb",
            "_dom_classes": [],
            "description": "",
            "_model_name": "HTMLModel",
            "placeholder": "​",
            "_view_module": "@jupyter-widgets/controls",
            "_model_module_version": "1.5.0",
            "value": " 2111/2111 [01:07&lt;00:00, 32.08it/s]",
            "_view_count": null,
            "_view_module_version": "1.5.0",
            "description_tooltip": null,
            "_model_module": "@jupyter-widgets/controls",
            "layout": "IPY_MODEL_d17d18da43b14c80ae2e8f0c4170ad40"
          }
        },
        "0d1f605a99d24a07b3d63b81e8816764": {
          "model_module": "@jupyter-widgets/controls",
          "model_name": "DescriptionStyleModel",
          "model_module_version": "1.5.0",
          "state": {
            "_view_name": "StyleView",
            "_model_name": "DescriptionStyleModel",
            "description_width": "",
            "_view_module": "@jupyter-widgets/base",
            "_model_module_version": "1.5.0",
            "_view_count": null,
            "_view_module_version": "1.2.0",
            "_model_module": "@jupyter-widgets/controls"
          }
        },
        "d23efb221a934023b4df55306b2adec7": {
          "model_module": "@jupyter-widgets/base",
          "model_name": "LayoutModel",
          "model_module_version": "1.2.0",
          "state": {
            "_view_name": "LayoutView",
            "grid_template_rows": null,
            "right": null,
            "justify_content": null,
            "_view_module": "@jupyter-widgets/base",
            "overflow": null,
            "_model_module_version": "1.2.0",
            "_view_count": null,
            "flex_flow": null,
            "width": null,
            "min_width": null,
            "border": null,
            "align_items": null,
            "bottom": null,
            "_model_module": "@jupyter-widgets/base",
            "top": null,
            "grid_column": null,
            "overflow_y": null,
            "overflow_x": null,
            "grid_auto_flow": null,
            "grid_area": null,
            "grid_template_columns": null,
            "flex": null,
            "_model_name": "LayoutModel",
            "justify_items": null,
            "grid_row": null,
            "max_height": null,
            "align_content": null,
            "visibility": null,
            "align_self": null,
            "height": null,
            "min_height": null,
            "padding": null,
            "grid_auto_rows": null,
            "grid_gap": null,
            "max_width": null,
            "order": null,
            "_view_module_version": "1.2.0",
            "grid_template_areas": null,
            "object_position": null,
            "object_fit": null,
            "grid_auto_columns": null,
            "margin": null,
            "display": null,
            "left": null
          }
        },
        "033183d74bec47f08c36c75dadd288ed": {
          "model_module": "@jupyter-widgets/controls",
          "model_name": "ProgressStyleModel",
          "model_module_version": "1.5.0",
          "state": {
            "_view_name": "StyleView",
            "_model_name": "ProgressStyleModel",
            "description_width": "",
            "_view_module": "@jupyter-widgets/base",
            "_model_module_version": "1.5.0",
            "_view_count": null,
            "_view_module_version": "1.2.0",
            "bar_color": null,
            "_model_module": "@jupyter-widgets/controls"
          }
        },
        "df3bc1466d5e4c738c165d7138ba9015": {
          "model_module": "@jupyter-widgets/base",
          "model_name": "LayoutModel",
          "model_module_version": "1.2.0",
          "state": {
            "_view_name": "LayoutView",
            "grid_template_rows": null,
            "right": null,
            "justify_content": null,
            "_view_module": "@jupyter-widgets/base",
            "overflow": null,
            "_model_module_version": "1.2.0",
            "_view_count": null,
            "flex_flow": null,
            "width": null,
            "min_width": null,
            "border": null,
            "align_items": null,
            "bottom": null,
            "_model_module": "@jupyter-widgets/base",
            "top": null,
            "grid_column": null,
            "overflow_y": null,
            "overflow_x": null,
            "grid_auto_flow": null,
            "grid_area": null,
            "grid_template_columns": null,
            "flex": null,
            "_model_name": "LayoutModel",
            "justify_items": null,
            "grid_row": null,
            "max_height": null,
            "align_content": null,
            "visibility": null,
            "align_self": null,
            "height": null,
            "min_height": null,
            "padding": null,
            "grid_auto_rows": null,
            "grid_gap": null,
            "max_width": null,
            "order": null,
            "_view_module_version": "1.2.0",
            "grid_template_areas": null,
            "object_position": null,
            "object_fit": null,
            "grid_auto_columns": null,
            "margin": null,
            "display": null,
            "left": null
          }
        },
        "c7905342e1494948a3bc4593ca6332eb": {
          "model_module": "@jupyter-widgets/controls",
          "model_name": "DescriptionStyleModel",
          "model_module_version": "1.5.0",
          "state": {
            "_view_name": "StyleView",
            "_model_name": "DescriptionStyleModel",
            "description_width": "",
            "_view_module": "@jupyter-widgets/base",
            "_model_module_version": "1.5.0",
            "_view_count": null,
            "_view_module_version": "1.2.0",
            "_model_module": "@jupyter-widgets/controls"
          }
        },
        "d17d18da43b14c80ae2e8f0c4170ad40": {
          "model_module": "@jupyter-widgets/base",
          "model_name": "LayoutModel",
          "model_module_version": "1.2.0",
          "state": {
            "_view_name": "LayoutView",
            "grid_template_rows": null,
            "right": null,
            "justify_content": null,
            "_view_module": "@jupyter-widgets/base",
            "overflow": null,
            "_model_module_version": "1.2.0",
            "_view_count": null,
            "flex_flow": null,
            "width": null,
            "min_width": null,
            "border": null,
            "align_items": null,
            "bottom": null,
            "_model_module": "@jupyter-widgets/base",
            "top": null,
            "grid_column": null,
            "overflow_y": null,
            "overflow_x": null,
            "grid_auto_flow": null,
            "grid_area": null,
            "grid_template_columns": null,
            "flex": null,
            "_model_name": "LayoutModel",
            "justify_items": null,
            "grid_row": null,
            "max_height": null,
            "align_content": null,
            "visibility": null,
            "align_self": null,
            "height": null,
            "min_height": null,
            "padding": null,
            "grid_auto_rows": null,
            "grid_gap": null,
            "max_width": null,
            "order": null,
            "_view_module_version": "1.2.0",
            "grid_template_areas": null,
            "object_position": null,
            "object_fit": null,
            "grid_auto_columns": null,
            "margin": null,
            "display": null,
            "left": null
          }
        },
        "85b157a8f77a446ab650d372086c0aa2": {
          "model_module": "@jupyter-widgets/controls",
          "model_name": "HBoxModel",
          "model_module_version": "1.5.0",
          "state": {
            "_view_name": "HBoxView",
            "_dom_classes": [],
            "_model_name": "HBoxModel",
            "_view_module": "@jupyter-widgets/controls",
            "_model_module_version": "1.5.0",
            "_view_count": null,
            "_view_module_version": "1.5.0",
            "box_style": "",
            "layout": "IPY_MODEL_71583f3ae52f49d38b16c61fb96ca547",
            "_model_module": "@jupyter-widgets/controls",
            "children": [
              "IPY_MODEL_9933cfa4abf4403c8defb4c8846aef03",
              "IPY_MODEL_f11b5e84e5c94641a818607cd93276ae",
              "IPY_MODEL_96275aac6b664a6a94f2a092c3960b4c"
            ]
          }
        },
        "71583f3ae52f49d38b16c61fb96ca547": {
          "model_module": "@jupyter-widgets/base",
          "model_name": "LayoutModel",
          "model_module_version": "1.2.0",
          "state": {
            "_view_name": "LayoutView",
            "grid_template_rows": null,
            "right": null,
            "justify_content": null,
            "_view_module": "@jupyter-widgets/base",
            "overflow": null,
            "_model_module_version": "1.2.0",
            "_view_count": null,
            "flex_flow": null,
            "width": null,
            "min_width": null,
            "border": null,
            "align_items": null,
            "bottom": null,
            "_model_module": "@jupyter-widgets/base",
            "top": null,
            "grid_column": null,
            "overflow_y": null,
            "overflow_x": null,
            "grid_auto_flow": null,
            "grid_area": null,
            "grid_template_columns": null,
            "flex": null,
            "_model_name": "LayoutModel",
            "justify_items": null,
            "grid_row": null,
            "max_height": null,
            "align_content": null,
            "visibility": null,
            "align_self": null,
            "height": null,
            "min_height": null,
            "padding": null,
            "grid_auto_rows": null,
            "grid_gap": null,
            "max_width": null,
            "order": null,
            "_view_module_version": "1.2.0",
            "grid_template_areas": null,
            "object_position": null,
            "object_fit": null,
            "grid_auto_columns": null,
            "margin": null,
            "display": null,
            "left": null
          }
        },
        "9933cfa4abf4403c8defb4c8846aef03": {
          "model_module": "@jupyter-widgets/controls",
          "model_name": "HTMLModel",
          "model_module_version": "1.5.0",
          "state": {
            "_view_name": "HTMLView",
            "style": "IPY_MODEL_48e15ac786c24087a1fc0805e7a9a30e",
            "_dom_classes": [],
            "description": "",
            "_model_name": "HTMLModel",
            "placeholder": "​",
            "_view_module": "@jupyter-widgets/controls",
            "_model_module_version": "1.5.0",
            "value": "100%",
            "_view_count": null,
            "_view_module_version": "1.5.0",
            "description_tooltip": null,
            "_model_module": "@jupyter-widgets/controls",
            "layout": "IPY_MODEL_9d47e326cdec412f911875db95f021db"
          }
        },
        "f11b5e84e5c94641a818607cd93276ae": {
          "model_module": "@jupyter-widgets/controls",
          "model_name": "FloatProgressModel",
          "model_module_version": "1.5.0",
          "state": {
            "_view_name": "ProgressView",
            "style": "IPY_MODEL_6de9fe28079945c4b98fac6eb62b150d",
            "_dom_classes": [],
            "description": "",
            "_model_name": "FloatProgressModel",
            "bar_style": "success",
            "max": 6311,
            "_view_module": "@jupyter-widgets/controls",
            "_model_module_version": "1.5.0",
            "value": 6311,
            "_view_count": null,
            "_view_module_version": "1.5.0",
            "orientation": "horizontal",
            "min": 0,
            "description_tooltip": null,
            "_model_module": "@jupyter-widgets/controls",
            "layout": "IPY_MODEL_88ef281688bb43858f13598ddfc07be5"
          }
        },
        "96275aac6b664a6a94f2a092c3960b4c": {
          "model_module": "@jupyter-widgets/controls",
          "model_name": "HTMLModel",
          "model_module_version": "1.5.0",
          "state": {
            "_view_name": "HTMLView",
            "style": "IPY_MODEL_4e150591657741c29bca15380c920b0d",
            "_dom_classes": [],
            "description": "",
            "_model_name": "HTMLModel",
            "placeholder": "​",
            "_view_module": "@jupyter-widgets/controls",
            "_model_module_version": "1.5.0",
            "value": " 6311/6311 [01:44&lt;00:00, 58.21it/s]",
            "_view_count": null,
            "_view_module_version": "1.5.0",
            "description_tooltip": null,
            "_model_module": "@jupyter-widgets/controls",
            "layout": "IPY_MODEL_f5de0d768ddf4715be8e8dbf7fb91cc9"
          }
        },
        "48e15ac786c24087a1fc0805e7a9a30e": {
          "model_module": "@jupyter-widgets/controls",
          "model_name": "DescriptionStyleModel",
          "model_module_version": "1.5.0",
          "state": {
            "_view_name": "StyleView",
            "_model_name": "DescriptionStyleModel",
            "description_width": "",
            "_view_module": "@jupyter-widgets/base",
            "_model_module_version": "1.5.0",
            "_view_count": null,
            "_view_module_version": "1.2.0",
            "_model_module": "@jupyter-widgets/controls"
          }
        },
        "9d47e326cdec412f911875db95f021db": {
          "model_module": "@jupyter-widgets/base",
          "model_name": "LayoutModel",
          "model_module_version": "1.2.0",
          "state": {
            "_view_name": "LayoutView",
            "grid_template_rows": null,
            "right": null,
            "justify_content": null,
            "_view_module": "@jupyter-widgets/base",
            "overflow": null,
            "_model_module_version": "1.2.0",
            "_view_count": null,
            "flex_flow": null,
            "width": null,
            "min_width": null,
            "border": null,
            "align_items": null,
            "bottom": null,
            "_model_module": "@jupyter-widgets/base",
            "top": null,
            "grid_column": null,
            "overflow_y": null,
            "overflow_x": null,
            "grid_auto_flow": null,
            "grid_area": null,
            "grid_template_columns": null,
            "flex": null,
            "_model_name": "LayoutModel",
            "justify_items": null,
            "grid_row": null,
            "max_height": null,
            "align_content": null,
            "visibility": null,
            "align_self": null,
            "height": null,
            "min_height": null,
            "padding": null,
            "grid_auto_rows": null,
            "grid_gap": null,
            "max_width": null,
            "order": null,
            "_view_module_version": "1.2.0",
            "grid_template_areas": null,
            "object_position": null,
            "object_fit": null,
            "grid_auto_columns": null,
            "margin": null,
            "display": null,
            "left": null
          }
        },
        "6de9fe28079945c4b98fac6eb62b150d": {
          "model_module": "@jupyter-widgets/controls",
          "model_name": "ProgressStyleModel",
          "model_module_version": "1.5.0",
          "state": {
            "_view_name": "StyleView",
            "_model_name": "ProgressStyleModel",
            "description_width": "",
            "_view_module": "@jupyter-widgets/base",
            "_model_module_version": "1.5.0",
            "_view_count": null,
            "_view_module_version": "1.2.0",
            "bar_color": null,
            "_model_module": "@jupyter-widgets/controls"
          }
        },
        "88ef281688bb43858f13598ddfc07be5": {
          "model_module": "@jupyter-widgets/base",
          "model_name": "LayoutModel",
          "model_module_version": "1.2.0",
          "state": {
            "_view_name": "LayoutView",
            "grid_template_rows": null,
            "right": null,
            "justify_content": null,
            "_view_module": "@jupyter-widgets/base",
            "overflow": null,
            "_model_module_version": "1.2.0",
            "_view_count": null,
            "flex_flow": null,
            "width": null,
            "min_width": null,
            "border": null,
            "align_items": null,
            "bottom": null,
            "_model_module": "@jupyter-widgets/base",
            "top": null,
            "grid_column": null,
            "overflow_y": null,
            "overflow_x": null,
            "grid_auto_flow": null,
            "grid_area": null,
            "grid_template_columns": null,
            "flex": null,
            "_model_name": "LayoutModel",
            "justify_items": null,
            "grid_row": null,
            "max_height": null,
            "align_content": null,
            "visibility": null,
            "align_self": null,
            "height": null,
            "min_height": null,
            "padding": null,
            "grid_auto_rows": null,
            "grid_gap": null,
            "max_width": null,
            "order": null,
            "_view_module_version": "1.2.0",
            "grid_template_areas": null,
            "object_position": null,
            "object_fit": null,
            "grid_auto_columns": null,
            "margin": null,
            "display": null,
            "left": null
          }
        },
        "4e150591657741c29bca15380c920b0d": {
          "model_module": "@jupyter-widgets/controls",
          "model_name": "DescriptionStyleModel",
          "model_module_version": "1.5.0",
          "state": {
            "_view_name": "StyleView",
            "_model_name": "DescriptionStyleModel",
            "description_width": "",
            "_view_module": "@jupyter-widgets/base",
            "_model_module_version": "1.5.0",
            "_view_count": null,
            "_view_module_version": "1.2.0",
            "_model_module": "@jupyter-widgets/controls"
          }
        },
        "f5de0d768ddf4715be8e8dbf7fb91cc9": {
          "model_module": "@jupyter-widgets/base",
          "model_name": "LayoutModel",
          "model_module_version": "1.2.0",
          "state": {
            "_view_name": "LayoutView",
            "grid_template_rows": null,
            "right": null,
            "justify_content": null,
            "_view_module": "@jupyter-widgets/base",
            "overflow": null,
            "_model_module_version": "1.2.0",
            "_view_count": null,
            "flex_flow": null,
            "width": null,
            "min_width": null,
            "border": null,
            "align_items": null,
            "bottom": null,
            "_model_module": "@jupyter-widgets/base",
            "top": null,
            "grid_column": null,
            "overflow_y": null,
            "overflow_x": null,
            "grid_auto_flow": null,
            "grid_area": null,
            "grid_template_columns": null,
            "flex": null,
            "_model_name": "LayoutModel",
            "justify_items": null,
            "grid_row": null,
            "max_height": null,
            "align_content": null,
            "visibility": null,
            "align_self": null,
            "height": null,
            "min_height": null,
            "padding": null,
            "grid_auto_rows": null,
            "grid_gap": null,
            "max_width": null,
            "order": null,
            "_view_module_version": "1.2.0",
            "grid_template_areas": null,
            "object_position": null,
            "object_fit": null,
            "grid_auto_columns": null,
            "margin": null,
            "display": null,
            "left": null
          }
        }
      }
    }
  },
  "nbformat": 4,
  "nbformat_minor": 5
}