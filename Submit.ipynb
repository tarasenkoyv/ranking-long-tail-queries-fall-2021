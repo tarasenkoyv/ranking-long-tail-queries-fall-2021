{
 "cells": [
  {
   "cell_type": "code",
   "execution_count": 1,
   "metadata": {
    "colab": {
     "base_uri": "https://localhost:8080/"
    },
    "id": "ZYkXlzX8qt8F",
    "outputId": "3d63a379-da77-4f22-ad0a-20601ba9ac39"
   },
   "outputs": [
    {
     "name": "stdout",
     "output_type": "stream",
     "text": [
      "Collecting catboost\n",
      "  Downloading catboost-1.0.4-cp37-none-manylinux1_x86_64.whl (76.1 MB)\n",
      "\u001b[K     |████████████████████████████████| 76.1 MB 1.1 MB/s \n",
      "\u001b[?25hRequirement already satisfied: numpy>=1.16.0 in /usr/local/lib/python3.7/dist-packages (from catboost) (1.19.5)\n",
      "Requirement already satisfied: graphviz in /usr/local/lib/python3.7/dist-packages (from catboost) (0.10.1)\n",
      "Requirement already satisfied: scipy in /usr/local/lib/python3.7/dist-packages (from catboost) (1.4.1)\n",
      "Requirement already satisfied: plotly in /usr/local/lib/python3.7/dist-packages (from catboost) (5.5.0)\n",
      "Requirement already satisfied: six in /usr/local/lib/python3.7/dist-packages (from catboost) (1.15.0)\n",
      "Requirement already satisfied: matplotlib in /usr/local/lib/python3.7/dist-packages (from catboost) (3.2.2)\n",
      "Requirement already satisfied: pandas>=0.24.0 in /usr/local/lib/python3.7/dist-packages (from catboost) (1.3.5)\n",
      "Requirement already satisfied: pytz>=2017.3 in /usr/local/lib/python3.7/dist-packages (from pandas>=0.24.0->catboost) (2018.9)\n",
      "Requirement already satisfied: python-dateutil>=2.7.3 in /usr/local/lib/python3.7/dist-packages (from pandas>=0.24.0->catboost) (2.8.2)\n",
      "Requirement already satisfied: cycler>=0.10 in /usr/local/lib/python3.7/dist-packages (from matplotlib->catboost) (0.11.0)\n",
      "Requirement already satisfied: pyparsing!=2.0.4,!=2.1.2,!=2.1.6,>=2.0.1 in /usr/local/lib/python3.7/dist-packages (from matplotlib->catboost) (3.0.7)\n",
      "Requirement already satisfied: kiwisolver>=1.0.1 in /usr/local/lib/python3.7/dist-packages (from matplotlib->catboost) (1.3.2)\n",
      "Requirement already satisfied: tenacity>=6.2.0 in /usr/local/lib/python3.7/dist-packages (from plotly->catboost) (8.0.1)\n",
      "Installing collected packages: catboost\n",
      "Successfully installed catboost-1.0.4\n"
     ]
    }
   ],
   "source": [
    "!pip install catboost\n",
    "#!pip install hyperopt"
   ]
  },
  {
   "cell_type": "code",
   "execution_count": 2,
   "metadata": {
    "id": "O5VcthB7tLIu"
   },
   "outputs": [],
   "source": [
    "from catboost import CatBoostRanker, Pool, MetricVisualizer\n",
    "from copy import deepcopy\n",
    "import numpy as np\n",
    "import os\n",
    "import pandas as pd\n",
    "from tqdm.notebook import tqdm"
   ]
  },
  {
   "cell_type": "code",
   "execution_count": 3,
   "metadata": {
    "colab": {
     "base_uri": "https://localhost:8080/"
    },
    "id": "cFIMZuFsxVTH",
    "outputId": "5a16d7b7-a30f-4e4a-ad7a-336f9ad5fba3"
   },
   "outputs": [
    {
     "name": "stdout",
     "output_type": "stream",
     "text": [
      "Mounted at /content/drive\n"
     ]
    }
   ],
   "source": [
    "from google.colab import drive\n",
    "drive.mount('/content/drive')\n",
    "\n",
    "base_path = '/content/drive/My Drive/ir/final'\n",
    "os.chdir(base_path)"
   ]
  },
  {
   "cell_type": "code",
   "execution_count": 4,
   "metadata": {
    "id": "hu1GwP4RDsft"
   },
   "outputs": [],
   "source": [
    "import pickle"
   ]
  },
  {
   "cell_type": "markdown",
   "metadata": {
    "id": "t8O7ljYgEG2Z"
   },
   "source": [
    "### Вспомогательные функции"
   ]
  },
  {
   "cell_type": "code",
   "execution_count": 5,
   "metadata": {
    "id": "ByvayhdQD21j"
   },
   "outputs": [],
   "source": [
    "def save_obj(obj, name):                                                       \n",
    "    with open(name + '.pkl', 'wb') as f:                                        \n",
    "        pickle.dump(obj, f, pickle.HIGHEST_PROTOCOL)                            \n",
    "                                                                                \n",
    "def load_obj(name):                                                            \n",
    "    with open(name + '.pkl', 'rb') as f:                                        \n",
    "        return pickle.load(f) "
   ]
  },
  {
   "cell_type": "code",
   "execution_count": 6,
   "metadata": {
    "id": "GJlPG2D8EF9S"
   },
   "outputs": [],
   "source": [
    "def get_t_val_indices(qid_data, grp_val_indices):\n",
    "    df = pd.DataFrame(data = {'group_id': qid_data})\n",
    "    grp_t_indices = []\n",
    "    for group_id in qid_data:\n",
    "        if group_id not in set(grp_val_indices):\n",
    "            grp_t_indices.append(group_id)\n",
    "        \n",
    "    df_grouped = df.groupby('group_id')\n",
    "\n",
    "    val_indices = []\n",
    "    t_indices = []\n",
    "    for grp_id, grp_indices in df_grouped.groups.items():\n",
    "        if grp_id in set(grp_val_indices):\n",
    "            val_indices.extend(grp_indices)\n",
    "        if grp_id in set(grp_t_indices):\n",
    "            t_indices.extend(grp_indices)\n",
    "    return t_indices, val_indices"
   ]
  },
  {
   "cell_type": "markdown",
   "metadata": {
    "id": "meABbMlAsmGl"
   },
   "source": [
    "### Загрузка данных"
   ]
  },
  {
   "cell_type": "code",
   "execution_count": 267,
   "metadata": {
    "id": "Rtx8u--bV5BT"
   },
   "outputs": [],
   "source": [
    "click_stat_columns = load_obj('click_stat_columns')\n",
    "cs_columns_h = []\n",
    "cs_columns_d = []\n",
    "cs_columns_qh = []\n",
    "cs_columns_qd = []\n",
    "for c in click_stat_columns:\n",
    "  cs_columns_h.append(\"h_\" + c)\n",
    "  cs_columns_d.append(\"d_\" + c)\n",
    "  cs_columns_qh.append(\"hq_\" + c)\n",
    "  cs_columns_qd.append(\"dq_\" + c)\n",
    "cs_columns_qh.remove('hq_ctr')\n",
    "cs_columns_h.remove('h_first_click_prob')\n",
    "cs_columns_h.remove('h_skip_proba')\n",
    "cs_columns_h.remove('h_not_seen_proba')"
   ]
  },
  {
   "cell_type": "code",
   "execution_count": 7,
   "metadata": {
    "id": "CgYrI5oeu9Wf"
   },
   "outputs": [],
   "source": [
    "marks_df = pd.read_csv('train.marks.tsv', sep='\\t', header=None)\n",
    "marks_df.rename(columns={0: \"query_id\", 1: \"doc_id\", 2: \"mark\"}, inplace=True)"
   ]
  },
  {
   "cell_type": "code",
   "execution_count": 261,
   "metadata": {
    "id": "ncMQl6pDw8Pb"
   },
   "outputs": [],
   "source": [
    "train_wo_click_stat_df = pd.read_csv('train_df.csv', sep='\\t')\n",
    "train_wo_click_stat_df.sort_values(by=['query_id', 'doc_id'], inplace=True)"
   ]
  },
  {
   "cell_type": "code",
   "execution_count": 266,
   "metadata": {
    "id": "XBiSEBxAVL44"
   },
   "outputs": [],
   "source": [
    "train_h_cs_df = pd.read_csv('train_h_cs_df.csv', sep='\\t')\n",
    "train_h_cs_df.sort_values(by=['query_id', 'doc_id'], inplace=True)"
   ]
  },
  {
   "cell_type": "code",
   "execution_count": 111,
   "metadata": {
    "id": "uXLQR_4FxNKy"
   },
   "outputs": [],
   "source": [
    "train_cs_df = pd.read_csv('train_cs_df.csv', sep='\\t')\n",
    "train_cs_df.sort_values(by=['query_id', 'doc_id'], inplace=True)"
   ]
  },
  {
   "cell_type": "code",
   "execution_count": 312,
   "metadata": {
    "id": "IW5Hm7iBkq9f"
   },
   "outputs": [],
   "source": [
    "train_cm_smooth_df = pd.read_csv('train_cm_smooth.csv', sep='\\t')\n",
    "train_cm_smooth_df.sort_values(by=['query_id', 'doc_id'], inplace=True)\n",
    "train_cm_smooth_df.rename(columns={'cm_rel': \"smooth_cm_rel\", \n",
    "                                   'sdbn_rel': \"smooth_sdbn_rel\", \n",
    "                                   'dctr_rel': \"smooth_dctr_rel\"}, inplace=True)\n",
    "train_cm_smooth_df.drop(['query_id', 'doc_id'], axis=1, inplace=True)"
   ]
  },
  {
   "cell_type": "code",
   "execution_count": 9,
   "metadata": {
    "id": "Jq2ggngcvCRf"
   },
   "outputs": [],
   "source": [
    "tqdm.pandas()"
   ]
  },
  {
   "cell_type": "code",
   "execution_count": 108,
   "metadata": {
    "colab": {
     "base_uri": "https://localhost:8080/",
     "height": 81,
     "referenced_widgets": [
      "4703cac06adf4cd2bd1c8e1485c3d620",
      "c880164b68244f69b505e7f844bbd401",
      "0f0321f4dae24ed7983b182d3ca0fcb9",
      "91891827a25746fd94a9c170b549ca55",
      "66575c86232f4d81968b80c025c22d9e",
      "67367d812377440194dfa9bfea088b5e",
      "78c958f62d484239ac80482d46e7526a",
      "8bbe75ff08fb489b919bbefc919adabc",
      "c86f6976d809438ea1cca38d09f77d70",
      "916b743e8eee401dbf445d6177cac782",
      "95761be2daaf4955bc21bdfdba6fbaf2",
      "c751e12256d34da7baee78f852db7f36",
      "a58c1a725cdd480d9012e42d472d1125",
      "60e24cf8ed2e4bb6a4634ad6390eab4b",
      "75b27348c8fa4e7ebab502d5483fb419",
      "ac64e782780e4a13a5552815c325125a",
      "57f6cad562e848d78639df0d45e73c29",
      "8bfb5e19051f48f6bfcc6198bb8f7acd",
      "62b23481d7554d6490b5b3b8f4a01ca7",
      "bdbe2075c49d4c16bf77777744298874",
      "6163d524080b405e841ad520b8362fa6",
      "5cd4fd3c90e940abaf824736f607191b"
     ]
    },
    "id": "L5roY9mSvBjg",
    "outputId": "cdc69a59-9ee1-4b32-862b-39945e9217d7"
   },
   "outputs": [
    {
     "data": {
      "application/vnd.jupyter.widget-view+json": {
       "model_id": "4703cac06adf4cd2bd1c8e1485c3d620",
       "version_major": 2,
       "version_minor": 0
      },
      "text/plain": [
       "  0%|          | 0/199886 [00:00<?, ?it/s]"
      ]
     },
     "metadata": {},
     "output_type": "display_data"
    },
    {
     "data": {
      "application/vnd.jupyter.widget-view+json": {
       "model_id": "c751e12256d34da7baee78f852db7f36",
       "version_major": 2,
       "version_minor": 0
      },
      "text/plain": [
       "  0%|          | 0/202079 [00:00<?, ?it/s]"
      ]
     },
     "metadata": {},
     "output_type": "display_data"
    }
   ],
   "source": [
    "train_wo_click_stat_df['query_id+doc_id'] = train_wo_click_stat_df.progress_apply(lambda row: str(row['query_id']) + '-' + str(row['doc_id']), axis=1)\n",
    "marks_df['query_id+doc_id'] = marks_df.progress_apply(lambda row: str(row['query_id']) + '-' + str(row['doc_id']), axis=1)"
   ]
  },
  {
   "cell_type": "code",
   "execution_count": 109,
   "metadata": {
    "colab": {
     "base_uri": "https://localhost:8080/"
    },
    "id": "hfITVUVBvQKG",
    "outputId": "7d5a6f0c-efcf-4e9a-981a-6184a1722ee6"
   },
   "outputs": [
    {
     "name": "stderr",
     "output_type": "stream",
     "text": [
      "/usr/local/lib/python3.7/dist-packages/pandas/util/_decorators.py:311: SettingWithCopyWarning: \n",
      "A value is trying to be set on a copy of a slice from a DataFrame\n",
      "\n",
      "See the caveats in the documentation: https://pandas.pydata.org/pandas-docs/stable/user_guide/indexing.html#returning-a-view-versus-a-copy\n",
      "  return func(*args, **kwargs)\n"
     ]
    }
   ],
   "source": [
    "exist_marks_df = marks_df.loc[marks_df['query_id+doc_id'].isin(train_wo_click_stat_df['query_id+doc_id'].values)]\n",
    "exist_marks_df.sort_values(by=['query_id', 'doc_id'], inplace=True)\n",
    "train_wo_click_stat_df.sort_values(by=['query_id', 'doc_id'], inplace=True)\n",
    "y_train = exist_marks_df['mark'].values"
   ]
  },
  {
   "cell_type": "code",
   "execution_count": 54,
   "metadata": {
    "id": "SOKHv6d4vR29"
   },
   "outputs": [],
   "source": [
    "drop_columns = ['doc_id', 'query_id', 'query_id+doc_id', 'doc_url']"
   ]
  },
  {
   "cell_type": "code",
   "execution_count": 313,
   "metadata": {
    "id": "xSNCjCP4WdSx"
   },
   "outputs": [],
   "source": [
    "train_df = pd.concat([train_wo_click_stat_df, \n",
    "                      train_cs_df.drop(['query_id', 'doc_id'] + cs_columns_h + cs_columns_qh, axis=1),\n",
    "                      train_h_cs_df[cs_columns_h],\n",
    "                      train_cm_smooth_df], axis=1)"
   ]
  },
  {
   "cell_type": "code",
   "execution_count": 314,
   "metadata": {
    "id": "NwdFw1e6WbHO"
   },
   "outputs": [],
   "source": [
    "train_df = train_df[sorted(train_df.columns)]"
   ]
  },
  {
   "cell_type": "code",
   "execution_count": 121,
   "metadata": {
    "id": "h5k8C7PWvoU_"
   },
   "outputs": [],
   "source": [
    "qids_unique = np.unique(train_df['query_id'], return_counts=False)\n",
    "grp_val_indices = np.random.choice(qids_unique, 300, replace=False)\n",
    "t_indices, val_indices = get_t_val_indices(train_df['query_id'].values, grp_val_indices)"
   ]
  },
  {
   "cell_type": "code",
   "execution_count": 315,
   "metadata": {
    "id": "gBhk0aUhv9Ov"
   },
   "outputs": [],
   "source": [
    "y_train = exist_marks_df['mark'].values\n",
    "y_val = y_train[val_indices]\n",
    "y_t = y_train[t_indices]\n",
    "\n",
    "val_df = train_df.iloc[val_indices].drop(drop_columns, axis=1)\n",
    "t_df = train_df.iloc[t_indices].drop(drop_columns, axis=1)"
   ]
  },
  {
   "cell_type": "code",
   "execution_count": 308,
   "metadata": {
    "id": "WgAxqccOEJIy"
   },
   "outputs": [],
   "source": [
    "selected_features_names = load_obj('selected_features_names')"
   ]
  },
  {
   "cell_type": "code",
   "execution_count": 309,
   "metadata": {
    "colab": {
     "base_uri": "https://localhost:8080/"
    },
    "id": "CFg04u5DEN5S",
    "outputId": "92f56342-1fcc-4522-9391-b60930fb38be"
   },
   "outputs": [
    {
     "data": {
      "text/plain": [
       "(100, 215)"
      ]
     },
     "execution_count": 309,
     "metadata": {},
     "output_type": "execute_result"
    }
   ],
   "source": [
    "len(selected_features_names), len(train_df.drop(drop_columns, axis=1).columns)"
   ]
  },
  {
   "cell_type": "markdown",
   "metadata": {
    "id": "2An1ojfyEbov"
   },
   "source": [
    "### CatBoost"
   ]
  },
  {
   "cell_type": "code",
   "execution_count": 17,
   "metadata": {
    "id": "qgl6HFZZJW2q"
   },
   "outputs": [],
   "source": [
    "import catboost\n",
    "from catboost.utils import eval_metric"
   ]
  },
  {
   "cell_type": "code",
   "execution_count": 125,
   "metadata": {
    "id": "FTESglflwn5G"
   },
   "outputs": [],
   "source": [
    "queries_t = train_df['query_id'].values[t_indices]\n",
    "queries_val = train_df['query_id'].values[val_indices]\n",
    "queries_train = train_df['query_id'].values"
   ]
  },
  {
   "cell_type": "code",
   "execution_count": 316,
   "metadata": {
    "id": "RDhUfAdVfOnM"
   },
   "outputs": [],
   "source": [
    "t = Pool(\n",
    "    data=t_df,\n",
    "    label=y_t,\n",
    "    group_id=queries_t\n",
    ")\n",
    "val = Pool(\n",
    "    data = val_df,\n",
    "    label=y_val,\n",
    "    group_id=queries_val\n",
    ")"
   ]
  },
  {
   "cell_type": "code",
   "execution_count": 20,
   "metadata": {
    "id": "_cTn4I_brlVk"
   },
   "outputs": [],
   "source": [
    "default_parameters = {\n",
    "    'iterations': 50,\n",
    "    #'custom_metric': ['NDCG:top=5;type=Exp'],\n",
    "    'verbose': True,\n",
    "    'random_seed': 0,\n",
    "    'task_type': 'GPU'\n",
    "}"
   ]
  },
  {
   "cell_type": "code",
   "execution_count": 116,
   "metadata": {
    "id": "MfO9Rc-4FMa0"
   },
   "outputs": [],
   "source": [
    "def get_model(loss_function, additional_params=None):\n",
    "  parameters = deepcopy(default_parameters)\n",
    "  parameters['loss_function'] = loss_function\n",
    "  parameters['train_dir'] = loss_function\n",
    "  \n",
    "  if additional_params is not None:\n",
    "      parameters.update(additional_params)\n",
    "      \n",
    "  model = CatBoostRanker(**parameters)\n",
    "  \n",
    "  return model"
   ]
  },
  {
   "cell_type": "code",
   "execution_count": 117,
   "metadata": {
    "id": "Dsu6dZ0JskOl"
   },
   "outputs": [],
   "source": [
    "def fit_model(train_pool, test_pool, loss_function, additional_params=None):\n",
    "    parameters = deepcopy(default_parameters)\n",
    "    parameters['loss_function'] = loss_function\n",
    "    parameters['train_dir'] = loss_function\n",
    "    \n",
    "    if additional_params is not None:\n",
    "        parameters.update(additional_params)\n",
    "        \n",
    "    model = CatBoostRanker(**parameters)\n",
    "    model.fit(train_pool, eval_set=test_pool, plot=False)\n",
    "    \n",
    "    return model"
   ]
  },
  {
   "cell_type": "code",
   "execution_count": 317,
   "metadata": {
    "colab": {
     "base_uri": "https://localhost:8080/"
    },
    "id": "feyTEc0gzl1J",
    "outputId": "0f8cc2c9-c8ab-43a9-8d86-6b4b9a931b7d"
   },
   "outputs": [
    {
     "name": "stderr",
     "output_type": "stream",
     "text": [
      "Metric NDCG:type=Base is not implemented on GPU. Will use CPU for metric computation, this could significantly affect learning time\n",
      "Metric NDCG:top=5;type=Exp is not implemented on GPU. Will use CPU for metric computation, this could significantly affect learning time\n"
     ]
    }
   ],
   "source": [
    "cb_model_t = fit_model(t, val, \n",
    "                       'YetiRankPairwise', {'train_dir': 'YetiRank-lr-0.3', \n",
    "                                            'verbose': False, 'eval_metric' : 'NDCG:top=5;type=Exp',\n",
    "                                            'task_type': 'GPU', 'learning_rate': 0.3, 'metric_period': 1,\n",
    "                                            'iterations': 1_500,\n",
    "                                            \"use_best_model\":True})"
   ]
  },
  {
   "cell_type": "code",
   "execution_count": 318,
   "metadata": {
    "colab": {
     "base_uri": "https://localhost:8080/"
    },
    "id": "s2mGK6uojClB",
    "outputId": "c5aca60e-f530-4198-c3d0-4ae10026920a"
   },
   "outputs": [
    {
     "data": {
      "text/plain": [
       "([0.7790770995215103], 1497)"
      ]
     },
     "execution_count": 318,
     "metadata": {},
     "output_type": "execute_result"
    }
   ],
   "source": [
    "eval_metric(y_val, cb_model_t.predict(val_df), 'NDCG:top=5;type=Exp', weight=None, group_id=queries_val), cb_model_t.get_best_iteration()"
   ]
  },
  {
   "cell_type": "code",
   "execution_count": 319,
   "metadata": {
    "colab": {
     "base_uri": "https://localhost:8080/"
    },
    "id": "1kYi6xSPjFXj",
    "outputId": "5b649b52-1daa-49c1-868a-e76b52795b21"
   },
   "outputs": [
    {
     "data": {
      "text/plain": [
       "(0.77907709952151, 1497)"
      ]
     },
     "execution_count": 319,
     "metadata": {},
     "output_type": "execute_result"
    }
   ],
   "source": [
    "best_iter = cb_model_t.get_best_iteration()\n",
    "cb_model_t.get_evals_result()['validation']['NDCG:top=5;type=Exp'][best_iter], best_iter"
   ]
  },
  {
   "cell_type": "code",
   "execution_count": 320,
   "metadata": {
    "colab": {
     "base_uri": "https://localhost:8080/",
     "height": 363
    },
    "id": "T_nZDxfijKDh",
    "outputId": "7c908690-1586-4289-e066-53da042dbaa8"
   },
   "outputs": [
    {
     "data": {
      "text/html": [
       "\n",
       "  <div id=\"df-a2f8711a-4092-4284-a6fc-8555fdca7196\">\n",
       "    <div class=\"colab-df-container\">\n",
       "      <div>\n",
       "<style scoped>\n",
       "    .dataframe tbody tr th:only-of-type {\n",
       "        vertical-align: middle;\n",
       "    }\n",
       "\n",
       "    .dataframe tbody tr th {\n",
       "        vertical-align: top;\n",
       "    }\n",
       "\n",
       "    .dataframe thead th {\n",
       "        text-align: right;\n",
       "    }\n",
       "</style>\n",
       "<table border=\"1\" class=\"dataframe\">\n",
       "  <thead>\n",
       "    <tr style=\"text-align: right;\">\n",
       "      <th></th>\n",
       "      <th>Feature Id</th>\n",
       "      <th>Importances</th>\n",
       "    </tr>\n",
       "  </thead>\n",
       "  <tbody>\n",
       "    <tr>\n",
       "      <th>0</th>\n",
       "      <td>h_avg_time</td>\n",
       "      <td>0.003218</td>\n",
       "    </tr>\n",
       "    <tr>\n",
       "      <th>1</th>\n",
       "      <td>sim_use_qa_qss_1024_un</td>\n",
       "      <td>0.000561</td>\n",
       "    </tr>\n",
       "    <tr>\n",
       "      <th>2</th>\n",
       "      <td>sim_use_qa_qts_1024_un</td>\n",
       "      <td>0.000349</td>\n",
       "    </tr>\n",
       "    <tr>\n",
       "      <th>3</th>\n",
       "      <td>1_hit_count</td>\n",
       "      <td>0.000334</td>\n",
       "    </tr>\n",
       "    <tr>\n",
       "      <th>4</th>\n",
       "      <td>sim_use_qs_1024_un</td>\n",
       "      <td>0.000250</td>\n",
       "    </tr>\n",
       "    <tr>\n",
       "      <th>5</th>\n",
       "      <td>1_phrase_decay10</td>\n",
       "      <td>0.000229</td>\n",
       "    </tr>\n",
       "    <tr>\n",
       "      <th>6</th>\n",
       "      <td>document_bm25a</td>\n",
       "      <td>0.000219</td>\n",
       "    </tr>\n",
       "    <tr>\n",
       "      <th>7</th>\n",
       "      <td>0_atc</td>\n",
       "      <td>0.000217</td>\n",
       "    </tr>\n",
       "    <tr>\n",
       "      <th>8</th>\n",
       "      <td>0_min_idf</td>\n",
       "      <td>0.000196</td>\n",
       "    </tr>\n",
       "    <tr>\n",
       "      <th>9</th>\n",
       "      <td>document_bm15</td>\n",
       "      <td>0.000185</td>\n",
       "    </tr>\n",
       "  </tbody>\n",
       "</table>\n",
       "</div>\n",
       "      <button class=\"colab-df-convert\" onclick=\"convertToInteractive('df-a2f8711a-4092-4284-a6fc-8555fdca7196')\"\n",
       "              title=\"Convert this dataframe to an interactive table.\"\n",
       "              style=\"display:none;\">\n",
       "        \n",
       "  <svg xmlns=\"http://www.w3.org/2000/svg\" height=\"24px\"viewBox=\"0 0 24 24\"\n",
       "       width=\"24px\">\n",
       "    <path d=\"M0 0h24v24H0V0z\" fill=\"none\"/>\n",
       "    <path d=\"M18.56 5.44l.94 2.06.94-2.06 2.06-.94-2.06-.94-.94-2.06-.94 2.06-2.06.94zm-11 1L8.5 8.5l.94-2.06 2.06-.94-2.06-.94L8.5 2.5l-.94 2.06-2.06.94zm10 10l.94 2.06.94-2.06 2.06-.94-2.06-.94-.94-2.06-.94 2.06-2.06.94z\"/><path d=\"M17.41 7.96l-1.37-1.37c-.4-.4-.92-.59-1.43-.59-.52 0-1.04.2-1.43.59L10.3 9.45l-7.72 7.72c-.78.78-.78 2.05 0 2.83L4 21.41c.39.39.9.59 1.41.59.51 0 1.02-.2 1.41-.59l7.78-7.78 2.81-2.81c.8-.78.8-2.07 0-2.86zM5.41 20L4 18.59l7.72-7.72 1.47 1.35L5.41 20z\"/>\n",
       "  </svg>\n",
       "      </button>\n",
       "      \n",
       "  <style>\n",
       "    .colab-df-container {\n",
       "      display:flex;\n",
       "      flex-wrap:wrap;\n",
       "      gap: 12px;\n",
       "    }\n",
       "\n",
       "    .colab-df-convert {\n",
       "      background-color: #E8F0FE;\n",
       "      border: none;\n",
       "      border-radius: 50%;\n",
       "      cursor: pointer;\n",
       "      display: none;\n",
       "      fill: #1967D2;\n",
       "      height: 32px;\n",
       "      padding: 0 0 0 0;\n",
       "      width: 32px;\n",
       "    }\n",
       "\n",
       "    .colab-df-convert:hover {\n",
       "      background-color: #E2EBFA;\n",
       "      box-shadow: 0px 1px 2px rgba(60, 64, 67, 0.3), 0px 1px 3px 1px rgba(60, 64, 67, 0.15);\n",
       "      fill: #174EA6;\n",
       "    }\n",
       "\n",
       "    [theme=dark] .colab-df-convert {\n",
       "      background-color: #3B4455;\n",
       "      fill: #D2E3FC;\n",
       "    }\n",
       "\n",
       "    [theme=dark] .colab-df-convert:hover {\n",
       "      background-color: #434B5C;\n",
       "      box-shadow: 0px 1px 3px 1px rgba(0, 0, 0, 0.15);\n",
       "      filter: drop-shadow(0px 1px 2px rgba(0, 0, 0, 0.3));\n",
       "      fill: #FFFFFF;\n",
       "    }\n",
       "  </style>\n",
       "\n",
       "      <script>\n",
       "        const buttonEl =\n",
       "          document.querySelector('#df-a2f8711a-4092-4284-a6fc-8555fdca7196 button.colab-df-convert');\n",
       "        buttonEl.style.display =\n",
       "          google.colab.kernel.accessAllowed ? 'block' : 'none';\n",
       "\n",
       "        async function convertToInteractive(key) {\n",
       "          const element = document.querySelector('#df-a2f8711a-4092-4284-a6fc-8555fdca7196');\n",
       "          const dataTable =\n",
       "            await google.colab.kernel.invokeFunction('convertToInteractive',\n",
       "                                                     [key], {});\n",
       "          if (!dataTable) return;\n",
       "\n",
       "          const docLinkHtml = 'Like what you see? Visit the ' +\n",
       "            '<a target=\"_blank\" href=https://colab.research.google.com/notebooks/data_table.ipynb>data table notebook</a>'\n",
       "            + ' to learn more about interactive tables.';\n",
       "          element.innerHTML = '';\n",
       "          dataTable['output_type'] = 'display_data';\n",
       "          await google.colab.output.renderOutput(dataTable, element);\n",
       "          const docLink = document.createElement('div');\n",
       "          docLink.innerHTML = docLinkHtml;\n",
       "          element.appendChild(docLink);\n",
       "        }\n",
       "      </script>\n",
       "    </div>\n",
       "  </div>\n",
       "  "
      ],
      "text/plain": [
       "               Feature Id  Importances\n",
       "0              h_avg_time     0.003218\n",
       "1  sim_use_qa_qss_1024_un     0.000561\n",
       "2  sim_use_qa_qts_1024_un     0.000349\n",
       "3             1_hit_count     0.000334\n",
       "4      sim_use_qs_1024_un     0.000250\n",
       "5        1_phrase_decay10     0.000229\n",
       "6          document_bm25a     0.000219\n",
       "7                   0_atc     0.000217\n",
       "8               0_min_idf     0.000196\n",
       "9           document_bm15     0.000185"
      ]
     },
     "metadata": {},
     "output_type": "display_data"
    }
   ],
   "source": [
    "display(cb_model_t.get_feature_importance(data=Pool(data=t_df, label=y_t, group_id=queries_t), \n",
    "                                          prettified=True).head(10))"
   ]
  },
  {
   "cell_type": "code",
   "execution_count": 349,
   "metadata": {
    "colab": {
     "base_uri": "https://localhost:8080/"
    },
    "id": "ZkelfkBALiNT",
    "outputId": "4d12b10e-c588-4294-ea63-62581f7b428b"
   },
   "outputs": [
    {
     "data": {
      "text/plain": [
       "218"
      ]
     },
     "execution_count": 349,
     "metadata": {},
     "output_type": "execute_result"
    }
   ],
   "source": [
    "len(val_df.columns)"
   ]
  },
  {
   "cell_type": "code",
   "execution_count": 322,
   "metadata": {
    "colab": {
     "base_uri": "https://localhost:8080/"
    },
    "id": "MNVzZmH7A_rl",
    "outputId": "e3a3bbd1-e11b-456d-ae3e-63869f22a1da"
   },
   "outputs": [
    {
     "name": "stdout",
     "output_type": "stream",
     "text": [
      "Step #1 out of 1\n"
     ]
    },
    {
     "name": "stderr",
     "output_type": "stream",
     "text": [
      "Metric NDCG:type=Base is not implemented on GPU. Will use CPU for metric computation, this could significantly affect learning time\n",
      "Metric NDCG:top=5;type=Exp is not implemented on GPU. Will use CPU for metric computation, this could significantly affect learning time\n"
     ]
    },
    {
     "name": "stdout",
     "output_type": "stream",
     "text": [
      "bestTest = 0.7763810963\n",
      "bestIteration = 1320\n",
      "Shrink model to first 1321 iterations.\n",
      "Feature #133 eliminated\n",
      "Feature #24 eliminated\n",
      "Feature #72 eliminated\n",
      "Feature #7 eliminated\n",
      "Feature #38 eliminated\n",
      "Feature #130 eliminated\n",
      "Feature #80 eliminated\n",
      "Feature #75 eliminated\n",
      "Feature #78 eliminated\n",
      "Feature #101 eliminated\n",
      "Feature #121 eliminated\n",
      "Feature #68 eliminated\n",
      "Feature #51 eliminated\n",
      "Feature #13 eliminated\n",
      "Feature #26 eliminated\n",
      "Feature #27 eliminated\n",
      "Feature #29 eliminated\n",
      "Feature #103 eliminated\n",
      "Feature #104 eliminated\n",
      "Feature #105 eliminated\n",
      "Feature #107 eliminated\n",
      "Feature #108 eliminated\n",
      "Feature #110 eliminated\n",
      "Feature #111 eliminated\n",
      "Feature #113 eliminated\n",
      "Feature #114 eliminated\n",
      "Feature #116 eliminated\n",
      "Feature #117 eliminated\n",
      "Feature #119 eliminated\n",
      "Feature #120 eliminated\n",
      "Feature #122 eliminated\n",
      "Feature #123 eliminated\n",
      "Feature #125 eliminated\n",
      "Feature #126 eliminated\n",
      "Feature #128 eliminated\n",
      "Feature #129 eliminated\n",
      "Feature #131 eliminated\n",
      "Feature #132 eliminated\n",
      "Feature #146 eliminated\n",
      "Feature #192 eliminated\n",
      "Feature #1 eliminated\n",
      "Feature #87 eliminated\n",
      "Feature #3 eliminated\n",
      "Feature #127 eliminated\n",
      "Feature #193 eliminated\n",
      "Feature #2 eliminated\n",
      "Feature #145 eliminated\n",
      "Feature #200 eliminated\n",
      "Feature #85 eliminated\n",
      "Feature #57 eliminated\n",
      "Feature #88 eliminated\n",
      "Feature #166 eliminated\n",
      "Feature #79 eliminated\n",
      "Feature #70 eliminated\n",
      "Feature #180 eliminated\n",
      "Feature #139 eliminated\n",
      "Feature #189 eliminated\n",
      "Feature #46 eliminated\n",
      "Feature #95 eliminated\n",
      "Feature #150 eliminated\n",
      "Feature #175 eliminated\n",
      "Feature #66 eliminated\n",
      "Feature #136 eliminated\n",
      "Feature #59 eliminated\n",
      "Feature #21 eliminated\n",
      "Feature #53 eliminated\n",
      "Feature #172 eliminated\n",
      "Feature #69 eliminated\n",
      "Feature #97 eliminated\n",
      "Feature #73 eliminated\n",
      "Feature #74 eliminated\n",
      "Feature #115 eliminated\n",
      "Feature #61 eliminated\n",
      "Feature #93 eliminated\n",
      "Feature #195 eliminated\n",
      "Feature #96 eliminated\n",
      "Feature #142 eliminated\n",
      "Feature #112 eliminated\n",
      "Feature #55 eliminated\n",
      "Feature #6 eliminated\n",
      "Feature #22 eliminated\n",
      "Feature #17 eliminated\n",
      "Feature #210 eliminated\n",
      "Feature #214 eliminated\n",
      "Feature #49 eliminated\n",
      "Feature #124 eliminated\n",
      "Feature #32 eliminated\n",
      "Feature #64 eliminated\n",
      "Feature #50 eliminated\n",
      "Feature #77 eliminated\n",
      "Feature #76 eliminated\n",
      "Feature #63 eliminated\n",
      "Feature #148 eliminated\n",
      "Feature #34 eliminated\n",
      "Feature #54 eliminated\n",
      "Feature #89 eliminated\n",
      "Feature #5 eliminated\n",
      "Feature #92 eliminated\n",
      "Feature #67 eliminated\n",
      "Feature #86 eliminated\n",
      "Feature #156 eliminated\n",
      "Feature #194 eliminated\n",
      "Feature #138 eliminated\n",
      "Feature #169 eliminated\n",
      "Feature #84 eliminated\n",
      "Feature #4 eliminated\n",
      "Feature #160 eliminated\n",
      "Feature #157 eliminated\n",
      "Feature #52 eliminated\n",
      "Feature #151 eliminated\n",
      "Feature #94 eliminated\n",
      "Feature #37 eliminated\n",
      "Feature #199 eliminated\n",
      "Feature #178 eliminated\n",
      "Feature #100 eliminated\n",
      "Feature #82 eliminated\n",
      "Feature #60 eliminated\n",
      "Feature #9 eliminated\n",
      "Train final model\n"
     ]
    },
    {
     "name": "stderr",
     "output_type": "stream",
     "text": [
      "Metric NDCG:type=Base is not implemented on GPU. Will use CPU for metric computation, this could significantly affect learning time\n",
      "Metric NDCG:top=5;type=Exp is not implemented on GPU. Will use CPU for metric computation, this could significantly affect learning time\n"
     ]
    },
    {
     "name": "stdout",
     "output_type": "stream",
     "text": [
      "bestTest = 0.7753974467\n",
      "bestIteration = 1071\n",
      "Shrink model to first 1072 iterations.\n"
     ]
    }
   ],
   "source": [
    "cb_model_select = get_model('YetiRankPairwise', {'train_dir': 'YetiRank-lr-0.3', \n",
    "                                                 'verbose': True, 'eval_metric' : 'NDCG:top=5;type=Exp',\n",
    "                                                 'task_type': 'GPU', 'learning_rate': 0.3, 'metric_period': 1,\n",
    "                                                 'iterations': 1_500,\n",
    "                                                 \"use_best_model\":True})\n",
    "res = cb_model_select.select_features(\n",
    "  t,\n",
    "  eval_set=val,\n",
    "  features_for_select=list(val_df.columns),\n",
    "  num_features_to_select=100,\n",
    "  steps=None,\n",
    "  shap_calc_type=None,\n",
    "  train_final_model=True,\n",
    "  verbose=False,\n",
    "  logging_level=None,\n",
    "  plot=False)"
   ]
  },
  {
   "cell_type": "code",
   "execution_count": 323,
   "metadata": {
    "colab": {
     "base_uri": "https://localhost:8080/"
    },
    "id": "BeuBl3QDqBi0",
    "outputId": "f72ba91e-6ca0-4ed6-f0d3-19c035f8ff1a"
   },
   "outputs": [
    {
     "data": {
      "text/plain": [
       "([0.7753974466594115], 1071)"
      ]
     },
     "execution_count": 323,
     "metadata": {},
     "output_type": "execute_result"
    }
   ],
   "source": [
    "eval_metric(y_val, cb_model_select.predict(val_df[res['selected_features_names']]), \n",
    "            'NDCG:top=5;type=Exp', weight=None, group_id=queries_val),  cb_model_select.get_best_iteration()"
   ]
  },
  {
   "cell_type": "code",
   "execution_count": 324,
   "metadata": {
    "colab": {
     "base_uri": "https://localhost:8080/"
    },
    "id": "oO4JY9diqE60",
    "outputId": "76aa62e7-c9a4-416b-ea91-ba6d3c4af107"
   },
   "outputs": [
    {
     "data": {
      "text/plain": [
       "(0.7753974466594118, 1071)"
      ]
     },
     "execution_count": 324,
     "metadata": {},
     "output_type": "execute_result"
    }
   ],
   "source": [
    "best_iter = cb_model_select.get_best_iteration()\n",
    "cb_model_select.get_evals_result()['validation']['NDCG:top=5;type=Exp'][best_iter], best_iter"
   ]
  },
  {
   "cell_type": "code",
   "execution_count": 325,
   "metadata": {
    "id": "B-Jx2rtuDkoy"
   },
   "outputs": [],
   "source": [
    "save_obj(res['selected_features_names'], 'selected_features_names')\n",
    "save_obj(res['eliminated_features_names'], 'eliminated_features_names')"
   ]
  },
  {
   "cell_type": "code",
   "execution_count": 326,
   "metadata": {
    "id": "rS7rLTCnqCwn"
   },
   "outputs": [],
   "source": [
    "cb_model_select.get_feature_importance(data=Pool(data=t_df[res['selected_features_names']], label=y_t, group_id=queries_t), \n",
    "                                       prettified=True).to_csv('feature_importance_100.csv', index=False, sep='\\t')"
   ]
  },
  {
   "cell_type": "code",
   "execution_count": null,
   "metadata": {
    "id": "utraTA3Uw_Dy"
   },
   "outputs": [],
   "source": [
    "res['eliminated_features_names']"
   ]
  },
  {
   "cell_type": "code",
   "execution_count": 327,
   "metadata": {
    "colab": {
     "base_uri": "https://localhost:8080/",
     "height": 363
    },
    "id": "mtkIMaDQqQ4m",
    "outputId": "7bd77b7a-6bea-4a3c-901a-a0c5b8fd446b"
   },
   "outputs": [
    {
     "data": {
      "text/html": [
       "\n",
       "  <div id=\"df-4e5adffb-22c4-4dff-8aa2-76ba537284fc\">\n",
       "    <div class=\"colab-df-container\">\n",
       "      <div>\n",
       "<style scoped>\n",
       "    .dataframe tbody tr th:only-of-type {\n",
       "        vertical-align: middle;\n",
       "    }\n",
       "\n",
       "    .dataframe tbody tr th {\n",
       "        vertical-align: top;\n",
       "    }\n",
       "\n",
       "    .dataframe thead th {\n",
       "        text-align: right;\n",
       "    }\n",
       "</style>\n",
       "<table border=\"1\" class=\"dataframe\">\n",
       "  <thead>\n",
       "    <tr style=\"text-align: right;\">\n",
       "      <th></th>\n",
       "      <th>Feature Id</th>\n",
       "      <th>Importances</th>\n",
       "    </tr>\n",
       "  </thead>\n",
       "  <tbody>\n",
       "    <tr>\n",
       "      <th>0</th>\n",
       "      <td>h_avg_time</td>\n",
       "      <td>0.003124</td>\n",
       "    </tr>\n",
       "    <tr>\n",
       "      <th>1</th>\n",
       "      <td>sim_use_qa_qss_1024_un</td>\n",
       "      <td>0.000713</td>\n",
       "    </tr>\n",
       "    <tr>\n",
       "      <th>2</th>\n",
       "      <td>sim_use_qa_qts_1024_un</td>\n",
       "      <td>0.000531</td>\n",
       "    </tr>\n",
       "    <tr>\n",
       "      <th>3</th>\n",
       "      <td>1_hit_count</td>\n",
       "      <td>0.000350</td>\n",
       "    </tr>\n",
       "    <tr>\n",
       "      <th>4</th>\n",
       "      <td>document_bm15</td>\n",
       "      <td>0.000334</td>\n",
       "    </tr>\n",
       "    <tr>\n",
       "      <th>5</th>\n",
       "      <td>h_2_show_pos_prob_click</td>\n",
       "      <td>0.000286</td>\n",
       "    </tr>\n",
       "    <tr>\n",
       "      <th>6</th>\n",
       "      <td>h_4_click_pos_prob_click</td>\n",
       "      <td>0.000285</td>\n",
       "    </tr>\n",
       "    <tr>\n",
       "      <th>7</th>\n",
       "      <td>1_min_gaps</td>\n",
       "      <td>0.000257</td>\n",
       "    </tr>\n",
       "    <tr>\n",
       "      <th>8</th>\n",
       "      <td>proba_spam</td>\n",
       "      <td>0.000253</td>\n",
       "    </tr>\n",
       "    <tr>\n",
       "      <th>9</th>\n",
       "      <td>h_not_seen_proba</td>\n",
       "      <td>0.000252</td>\n",
       "    </tr>\n",
       "  </tbody>\n",
       "</table>\n",
       "</div>\n",
       "      <button class=\"colab-df-convert\" onclick=\"convertToInteractive('df-4e5adffb-22c4-4dff-8aa2-76ba537284fc')\"\n",
       "              title=\"Convert this dataframe to an interactive table.\"\n",
       "              style=\"display:none;\">\n",
       "        \n",
       "  <svg xmlns=\"http://www.w3.org/2000/svg\" height=\"24px\"viewBox=\"0 0 24 24\"\n",
       "       width=\"24px\">\n",
       "    <path d=\"M0 0h24v24H0V0z\" fill=\"none\"/>\n",
       "    <path d=\"M18.56 5.44l.94 2.06.94-2.06 2.06-.94-2.06-.94-.94-2.06-.94 2.06-2.06.94zm-11 1L8.5 8.5l.94-2.06 2.06-.94-2.06-.94L8.5 2.5l-.94 2.06-2.06.94zm10 10l.94 2.06.94-2.06 2.06-.94-2.06-.94-.94-2.06-.94 2.06-2.06.94z\"/><path d=\"M17.41 7.96l-1.37-1.37c-.4-.4-.92-.59-1.43-.59-.52 0-1.04.2-1.43.59L10.3 9.45l-7.72 7.72c-.78.78-.78 2.05 0 2.83L4 21.41c.39.39.9.59 1.41.59.51 0 1.02-.2 1.41-.59l7.78-7.78 2.81-2.81c.8-.78.8-2.07 0-2.86zM5.41 20L4 18.59l7.72-7.72 1.47 1.35L5.41 20z\"/>\n",
       "  </svg>\n",
       "      </button>\n",
       "      \n",
       "  <style>\n",
       "    .colab-df-container {\n",
       "      display:flex;\n",
       "      flex-wrap:wrap;\n",
       "      gap: 12px;\n",
       "    }\n",
       "\n",
       "    .colab-df-convert {\n",
       "      background-color: #E8F0FE;\n",
       "      border: none;\n",
       "      border-radius: 50%;\n",
       "      cursor: pointer;\n",
       "      display: none;\n",
       "      fill: #1967D2;\n",
       "      height: 32px;\n",
       "      padding: 0 0 0 0;\n",
       "      width: 32px;\n",
       "    }\n",
       "\n",
       "    .colab-df-convert:hover {\n",
       "      background-color: #E2EBFA;\n",
       "      box-shadow: 0px 1px 2px rgba(60, 64, 67, 0.3), 0px 1px 3px 1px rgba(60, 64, 67, 0.15);\n",
       "      fill: #174EA6;\n",
       "    }\n",
       "\n",
       "    [theme=dark] .colab-df-convert {\n",
       "      background-color: #3B4455;\n",
       "      fill: #D2E3FC;\n",
       "    }\n",
       "\n",
       "    [theme=dark] .colab-df-convert:hover {\n",
       "      background-color: #434B5C;\n",
       "      box-shadow: 0px 1px 3px 1px rgba(0, 0, 0, 0.15);\n",
       "      filter: drop-shadow(0px 1px 2px rgba(0, 0, 0, 0.3));\n",
       "      fill: #FFFFFF;\n",
       "    }\n",
       "  </style>\n",
       "\n",
       "      <script>\n",
       "        const buttonEl =\n",
       "          document.querySelector('#df-4e5adffb-22c4-4dff-8aa2-76ba537284fc button.colab-df-convert');\n",
       "        buttonEl.style.display =\n",
       "          google.colab.kernel.accessAllowed ? 'block' : 'none';\n",
       "\n",
       "        async function convertToInteractive(key) {\n",
       "          const element = document.querySelector('#df-4e5adffb-22c4-4dff-8aa2-76ba537284fc');\n",
       "          const dataTable =\n",
       "            await google.colab.kernel.invokeFunction('convertToInteractive',\n",
       "                                                     [key], {});\n",
       "          if (!dataTable) return;\n",
       "\n",
       "          const docLinkHtml = 'Like what you see? Visit the ' +\n",
       "            '<a target=\"_blank\" href=https://colab.research.google.com/notebooks/data_table.ipynb>data table notebook</a>'\n",
       "            + ' to learn more about interactive tables.';\n",
       "          element.innerHTML = '';\n",
       "          dataTable['output_type'] = 'display_data';\n",
       "          await google.colab.output.renderOutput(dataTable, element);\n",
       "          const docLink = document.createElement('div');\n",
       "          docLink.innerHTML = docLinkHtml;\n",
       "          element.appendChild(docLink);\n",
       "        }\n",
       "      </script>\n",
       "    </div>\n",
       "  </div>\n",
       "  "
      ],
      "text/plain": [
       "                 Feature Id  Importances\n",
       "0                h_avg_time     0.003124\n",
       "1    sim_use_qa_qss_1024_un     0.000713\n",
       "2    sim_use_qa_qts_1024_un     0.000531\n",
       "3               1_hit_count     0.000350\n",
       "4             document_bm15     0.000334\n",
       "5   h_2_show_pos_prob_click     0.000286\n",
       "6  h_4_click_pos_prob_click     0.000285\n",
       "7                1_min_gaps     0.000257\n",
       "8                proba_spam     0.000253\n",
       "9          h_not_seen_proba     0.000252"
      ]
     },
     "execution_count": 327,
     "metadata": {},
     "output_type": "execute_result"
    }
   ],
   "source": [
    "cb_model_select.get_feature_importance(data=Pool(data=t_df[res['selected_features_names']], label=y_t, group_id=queries_t), \n",
    "                                       prettified=True).head(10)"
   ]
  },
  {
   "cell_type": "code",
   "execution_count": null,
   "metadata": {
    "id": "5aP_EJdv-m8a"
   },
   "outputs": [],
   "source": [
    "default_parameters = {\n",
    "    'iterations': 50,\n",
    "    #'custom_metric': ['NDCG:top=5;type=Exp'],\n",
    "    'verbose': True,\n",
    "    'random_seed': 0,\n",
    "    'task_type': 'GPU'\n",
    "}"
   ]
  },
  {
   "cell_type": "code",
   "execution_count": null,
   "metadata": {
    "id": "GrdG72NVq91X"
   },
   "outputs": [],
   "source": [
    "from hyperopt import hp, fmin, tpe, Trials\n",
    "import numpy as np\n",
    "\n",
    "def hyperopt_objective(params):\n",
    "    cb_params = deepcopy(default_parameters)\n",
    "    print(params)\n",
    "    cb_params['loss_function'] = 'YetiRank' #YetiRankPairwise'\n",
    "    cb_params.update(params)\n",
    "    #cb_params['custom_metric'] = ['NDCG:top=5;type=Exp']\n",
    "    cb_params['depth'] = int(cb_params['depth'])\n",
    "    cb_params['verbose'] = False\n",
    "    cb_params['use_best_model'] = True\n",
    "    cb_params['iterations'] = 2_000\n",
    "    cb_params['eval_metric'] = 'NDCG:top=5;type=Exp'\n",
    "    model = CatBoostRanker(**cb_params)\n",
    "    model.fit(t, verbose=0, eval_set=val)\n",
    "    best_iter = model.get_best_iteration()\n",
    "    print(best_iter)\n",
    "    #return -model.get_evals_result()['validation']['NDCG:top=5;type=Exp'][best_iter]\n",
    "    return -eval_metric(y_val, model.predict(X_val), 'NDCG:top=5;type=Exp', weight=None, group_id=queries_val)[0]\n",
    "\n",
    "params_space  = {\n",
    "    'learning_rate': hp.uniform('learning_rate', 0.001, 0.3),\n",
    "    'depth': hp.uniform('depth', 3, 16),\n",
    "    'l2_leaf_reg': hp.uniform('l2_leaf_reg', 1, 10),\n",
    "}\n",
    "\n",
    "trials = Trials()\n",
    "\n",
    "best = fmin(hyperopt_objective,\n",
    "    space=params_space ,\n",
    "    trials=trials,\n",
    "    algo=tpe.suggest,\n",
    "    max_evals=20,\n",
    "    rstate=np.random.RandomState(123))"
   ]
  },
  {
   "cell_type": "code",
   "execution_count": null,
   "metadata": {
    "colab": {
     "base_uri": "https://localhost:8080/"
    },
    "id": "f-zzbBHLufl2",
    "outputId": "246821d2-af45-4875-af9c-264e0590f94a"
   },
   "outputs": [
    {
     "data": {
      "text/plain": [
       "{'learning_rate': 0.09932662966595064}"
      ]
     },
     "execution_count": 138,
     "metadata": {},
     "output_type": "execute_result"
    }
   ],
   "source": [
    "best"
   ]
  },
  {
   "cell_type": "code",
   "execution_count": 328,
   "metadata": {
    "id": "kckeM0C01wbY"
   },
   "outputs": [],
   "source": [
    "y_train = exist_marks_df['mark'].values\n",
    "train= Pool(\n",
    "    data=train_df[res['selected_features_names']],\n",
    "    label=y_train,\n",
    "    group_id=queries_train\n",
    ")"
   ]
  },
  {
   "cell_type": "code",
   "execution_count": 285,
   "metadata": {
    "id": "H6I91U51UH4A"
   },
   "outputs": [],
   "source": [
    "def fit_model_train(loss_function, additional_params=None, train_pool=train):\n",
    "    parameters = deepcopy(default_parameters)\n",
    "    parameters['loss_function'] = loss_function\n",
    "    parameters['train_dir'] = loss_function\n",
    "    \n",
    "    if additional_params is not None:\n",
    "        parameters.update(additional_params)\n",
    "        \n",
    "    model = CatBoostRanker(**parameters)\n",
    "    model.fit(train_pool, plot=True)\n",
    "    \n",
    "    return model"
   ]
  },
  {
   "cell_type": "code",
   "execution_count": 329,
   "metadata": {
    "colab": {
     "base_uri": "https://localhost:8080/",
     "height": 52,
     "referenced_widgets": [
      "9f920fa10aa04887a49ec5deba04164f"
     ]
    },
    "id": "_dnDYzD9sy-e",
    "outputId": "07bd1289-093b-4887-e81d-cef0a9dce01b"
   },
   "outputs": [
    {
     "data": {
      "application/vnd.jupyter.widget-view+json": {
       "model_id": "9f920fa10aa04887a49ec5deba04164f",
       "version_major": 2,
       "version_minor": 0
      },
      "text/plain": [
       "MetricVisualizer(layout=Layout(align_self='stretch', height='500px'))"
      ]
     },
     "metadata": {},
     "output_type": "display_data"
    },
    {
     "name": "stderr",
     "output_type": "stream",
     "text": [
      "Metric NDCG:type=Base is not implemented on GPU. Will use CPU for metric computation, this could significantly affect learning time\n",
      "Metric NDCG:type=Base is not implemented on GPU. Will use CPU for metric computation, this could significantly affect learning time\n"
     ]
    }
   ],
   "source": [
    "cb_model = fit_model_train('YetiRankPairwise', {'train_dir': 'YetiRank-lr-0.3', \n",
    "                           'verbose': False,\n",
    "                           'task_type': 'GPU', 'learning_rate': 0.3,\n",
    "                           'iterations': best_iter},\n",
    "                            train_pool=train)"
   ]
  },
  {
   "cell_type": "code",
   "execution_count": 330,
   "metadata": {
    "colab": {
     "base_uri": "https://localhost:8080/",
     "height": 363
    },
    "id": "Zl87OWww28gg",
    "outputId": "f8e705d7-ae2d-428b-9519-21b0dd430fb5"
   },
   "outputs": [
    {
     "data": {
      "text/html": [
       "\n",
       "  <div id=\"df-9b01aa77-4008-42a7-aded-19eff9cb9821\">\n",
       "    <div class=\"colab-df-container\">\n",
       "      <div>\n",
       "<style scoped>\n",
       "    .dataframe tbody tr th:only-of-type {\n",
       "        vertical-align: middle;\n",
       "    }\n",
       "\n",
       "    .dataframe tbody tr th {\n",
       "        vertical-align: top;\n",
       "    }\n",
       "\n",
       "    .dataframe thead th {\n",
       "        text-align: right;\n",
       "    }\n",
       "</style>\n",
       "<table border=\"1\" class=\"dataframe\">\n",
       "  <thead>\n",
       "    <tr style=\"text-align: right;\">\n",
       "      <th></th>\n",
       "      <th>Feature Id</th>\n",
       "      <th>Importances</th>\n",
       "    </tr>\n",
       "  </thead>\n",
       "  <tbody>\n",
       "    <tr>\n",
       "      <th>0</th>\n",
       "      <td>h_avg_time</td>\n",
       "      <td>0.003392</td>\n",
       "    </tr>\n",
       "    <tr>\n",
       "      <th>1</th>\n",
       "      <td>sim_use_qa_qts_1024_un</td>\n",
       "      <td>0.000816</td>\n",
       "    </tr>\n",
       "    <tr>\n",
       "      <th>2</th>\n",
       "      <td>sim_use_qa_qss_1024_un</td>\n",
       "      <td>0.000292</td>\n",
       "    </tr>\n",
       "    <tr>\n",
       "      <th>3</th>\n",
       "      <td>h_last_click_prob</td>\n",
       "      <td>0.000191</td>\n",
       "    </tr>\n",
       "    <tr>\n",
       "      <th>4</th>\n",
       "      <td>query_max_idf</td>\n",
       "      <td>0.000140</td>\n",
       "    </tr>\n",
       "    <tr>\n",
       "      <th>5</th>\n",
       "      <td>1_min_hit_pos</td>\n",
       "      <td>0.000139</td>\n",
       "    </tr>\n",
       "    <tr>\n",
       "      <th>6</th>\n",
       "      <td>h_5_click_pos_prob_click</td>\n",
       "      <td>0.000130</td>\n",
       "    </tr>\n",
       "    <tr>\n",
       "      <th>7</th>\n",
       "      <td>smooth_cm_rel</td>\n",
       "      <td>0.000129</td>\n",
       "    </tr>\n",
       "    <tr>\n",
       "      <th>8</th>\n",
       "      <td>h_2_show_pos_prob_click</td>\n",
       "      <td>0.000128</td>\n",
       "    </tr>\n",
       "    <tr>\n",
       "      <th>9</th>\n",
       "      <td>0_phrase_decay30</td>\n",
       "      <td>0.000126</td>\n",
       "    </tr>\n",
       "  </tbody>\n",
       "</table>\n",
       "</div>\n",
       "      <button class=\"colab-df-convert\" onclick=\"convertToInteractive('df-9b01aa77-4008-42a7-aded-19eff9cb9821')\"\n",
       "              title=\"Convert this dataframe to an interactive table.\"\n",
       "              style=\"display:none;\">\n",
       "        \n",
       "  <svg xmlns=\"http://www.w3.org/2000/svg\" height=\"24px\"viewBox=\"0 0 24 24\"\n",
       "       width=\"24px\">\n",
       "    <path d=\"M0 0h24v24H0V0z\" fill=\"none\"/>\n",
       "    <path d=\"M18.56 5.44l.94 2.06.94-2.06 2.06-.94-2.06-.94-.94-2.06-.94 2.06-2.06.94zm-11 1L8.5 8.5l.94-2.06 2.06-.94-2.06-.94L8.5 2.5l-.94 2.06-2.06.94zm10 10l.94 2.06.94-2.06 2.06-.94-2.06-.94-.94-2.06-.94 2.06-2.06.94z\"/><path d=\"M17.41 7.96l-1.37-1.37c-.4-.4-.92-.59-1.43-.59-.52 0-1.04.2-1.43.59L10.3 9.45l-7.72 7.72c-.78.78-.78 2.05 0 2.83L4 21.41c.39.39.9.59 1.41.59.51 0 1.02-.2 1.41-.59l7.78-7.78 2.81-2.81c.8-.78.8-2.07 0-2.86zM5.41 20L4 18.59l7.72-7.72 1.47 1.35L5.41 20z\"/>\n",
       "  </svg>\n",
       "      </button>\n",
       "      \n",
       "  <style>\n",
       "    .colab-df-container {\n",
       "      display:flex;\n",
       "      flex-wrap:wrap;\n",
       "      gap: 12px;\n",
       "    }\n",
       "\n",
       "    .colab-df-convert {\n",
       "      background-color: #E8F0FE;\n",
       "      border: none;\n",
       "      border-radius: 50%;\n",
       "      cursor: pointer;\n",
       "      display: none;\n",
       "      fill: #1967D2;\n",
       "      height: 32px;\n",
       "      padding: 0 0 0 0;\n",
       "      width: 32px;\n",
       "    }\n",
       "\n",
       "    .colab-df-convert:hover {\n",
       "      background-color: #E2EBFA;\n",
       "      box-shadow: 0px 1px 2px rgba(60, 64, 67, 0.3), 0px 1px 3px 1px rgba(60, 64, 67, 0.15);\n",
       "      fill: #174EA6;\n",
       "    }\n",
       "\n",
       "    [theme=dark] .colab-df-convert {\n",
       "      background-color: #3B4455;\n",
       "      fill: #D2E3FC;\n",
       "    }\n",
       "\n",
       "    [theme=dark] .colab-df-convert:hover {\n",
       "      background-color: #434B5C;\n",
       "      box-shadow: 0px 1px 3px 1px rgba(0, 0, 0, 0.15);\n",
       "      filter: drop-shadow(0px 1px 2px rgba(0, 0, 0, 0.3));\n",
       "      fill: #FFFFFF;\n",
       "    }\n",
       "  </style>\n",
       "\n",
       "      <script>\n",
       "        const buttonEl =\n",
       "          document.querySelector('#df-9b01aa77-4008-42a7-aded-19eff9cb9821 button.colab-df-convert');\n",
       "        buttonEl.style.display =\n",
       "          google.colab.kernel.accessAllowed ? 'block' : 'none';\n",
       "\n",
       "        async function convertToInteractive(key) {\n",
       "          const element = document.querySelector('#df-9b01aa77-4008-42a7-aded-19eff9cb9821');\n",
       "          const dataTable =\n",
       "            await google.colab.kernel.invokeFunction('convertToInteractive',\n",
       "                                                     [key], {});\n",
       "          if (!dataTable) return;\n",
       "\n",
       "          const docLinkHtml = 'Like what you see? Visit the ' +\n",
       "            '<a target=\"_blank\" href=https://colab.research.google.com/notebooks/data_table.ipynb>data table notebook</a>'\n",
       "            + ' to learn more about interactive tables.';\n",
       "          element.innerHTML = '';\n",
       "          dataTable['output_type'] = 'display_data';\n",
       "          await google.colab.output.renderOutput(dataTable, element);\n",
       "          const docLink = document.createElement('div');\n",
       "          docLink.innerHTML = docLinkHtml;\n",
       "          element.appendChild(docLink);\n",
       "        }\n",
       "      </script>\n",
       "    </div>\n",
       "  </div>\n",
       "  "
      ],
      "text/plain": [
       "                 Feature Id  Importances\n",
       "0                h_avg_time     0.003392\n",
       "1    sim_use_qa_qts_1024_un     0.000816\n",
       "2    sim_use_qa_qss_1024_un     0.000292\n",
       "3         h_last_click_prob     0.000191\n",
       "4             query_max_idf     0.000140\n",
       "5             1_min_hit_pos     0.000139\n",
       "6  h_5_click_pos_prob_click     0.000130\n",
       "7             smooth_cm_rel     0.000129\n",
       "8   h_2_show_pos_prob_click     0.000128\n",
       "9          0_phrase_decay30     0.000126"
      ]
     },
     "metadata": {},
     "output_type": "display_data"
    }
   ],
   "source": [
    "display(cb_model.get_feature_importance(data=train, prettified=True).head(10))"
   ]
  },
  {
   "cell_type": "markdown",
   "metadata": {
    "id": "TNmeTDI9EqeD"
   },
   "source": [
    "### XGBoost"
   ]
  },
  {
   "cell_type": "code",
   "execution_count": 291,
   "metadata": {
    "id": "DE-1iiQuEuvZ"
   },
   "outputs": [],
   "source": [
    "import xgboost as xgb"
   ]
  },
  {
   "cell_type": "code",
   "execution_count": 331,
   "metadata": {
    "id": "BtaKw3D7E-zx"
   },
   "outputs": [],
   "source": [
    "X_train = train_df.drop(drop_columns, axis=1)\n",
    "X_train = X_train.to_numpy()"
   ]
  },
  {
   "cell_type": "code",
   "execution_count": 332,
   "metadata": {
    "id": "zB3QRsKU6sS5"
   },
   "outputs": [],
   "source": [
    "y_train = exist_marks_df['mark'].values\n",
    "y_val = y_train[val_indices]\n",
    "y_t = y_train[t_indices]"
   ]
  },
  {
   "cell_type": "code",
   "execution_count": 333,
   "metadata": {
    "id": "QKWRNQxtZiDu"
   },
   "outputs": [],
   "source": [
    "X_t = t_df[res['selected_features_names']].to_numpy()\n",
    "X_val = val_df[res['selected_features_names']].to_numpy()"
   ]
  },
  {
   "cell_type": "code",
   "execution_count": 334,
   "metadata": {
    "id": "z7B8PMsJGbdt"
   },
   "outputs": [],
   "source": [
    "X_t = t_df.to_numpy()\n",
    "X_val = val_df.to_numpy()"
   ]
  },
  {
   "cell_type": "code",
   "execution_count": 335,
   "metadata": {
    "id": "7o2_qRmBFZr0"
   },
   "outputs": [],
   "source": [
    "dt = xgb.DMatrix(data = X_t, label = y_t)\n",
    "dt.set_group(np.unique(train_df['query_id'].values[t_indices], return_counts=True)[1])\n",
    "dval = xgb.DMatrix(data = X_val, label = y_val)\n",
    "dval.set_group(np.unique(train_df['query_id'].values[val_indices], return_counts=True)[1])"
   ]
  },
  {
   "cell_type": "code",
   "execution_count": null,
   "metadata": {
    "id": "WnCKsjeQFcfp"
   },
   "outputs": [],
   "source": [
    "params = {'tree_method': 'gpu_hist',\n",
    "          'eta': 0.3,  \n",
    "          'max_depth': 8, \n",
    "          'eval_metric': 'ndcg@5',\n",
    "          'objective': 'rank:ndcg',\n",
    "          'subsample': 1, 'num_parallel_tree': 6}"
   ]
  },
  {
   "cell_type": "code",
   "execution_count": 297,
   "metadata": {
    "id": "MsV2YBQ1FrQV"
   },
   "outputs": [],
   "source": [
    "params = {'tree_method': 'gpu_hist',\n",
    "          'objective': 'rank:ndcg', 'eta': 0.1,\n",
    "          'max_depth': 10,\n",
    "          'eval_metric': 'ndcg@5'}"
   ]
  },
  {
   "cell_type": "code",
   "execution_count": 336,
   "metadata": {
    "id": "JR3xY4DfFvCB"
   },
   "outputs": [],
   "source": [
    "xgb_model_t = xgb.train(params, dt, num_boost_round=1_000, evals=[(dval, 'dval')], verbose_eval=False, early_stopping_rounds = 100)"
   ]
  },
  {
   "cell_type": "code",
   "execution_count": 337,
   "metadata": {
    "colab": {
     "base_uri": "https://localhost:8080/"
    },
    "id": "vMlYIRtbkh_U",
    "outputId": "b86ba2bc-3c21-492e-97f3-45d4b8b4df2d"
   },
   "outputs": [
    {
     "data": {
      "text/plain": [
       "([0.7602520112784037], 222)"
      ]
     },
     "execution_count": 337,
     "metadata": {},
     "output_type": "execute_result"
    }
   ],
   "source": [
    "eval_metric(y_val, xgb_model_t.predict(dval), 'NDCG:top=5;type=Exp', weight=None, group_id=queries_val), xgb_model_t.best_iteration"
   ]
  },
  {
   "cell_type": "code",
   "execution_count": 338,
   "metadata": {
    "id": "wQLipDJpGBn8"
   },
   "outputs": [],
   "source": [
    "X_train = train_df.drop(drop_columns, axis=1)[res['selected_features_names']]"
   ]
  },
  {
   "cell_type": "code",
   "execution_count": 339,
   "metadata": {
    "id": "BoafjMTCGEBC"
   },
   "outputs": [],
   "source": [
    "dtrain = xgb.DMatrix(data = X_train, label = y_train)\n",
    "dtrain.set_group(np.unique(train_df['query_id'], return_counts=True)[1])"
   ]
  },
  {
   "cell_type": "code",
   "execution_count": 340,
   "metadata": {
    "id": "UORiL_b3GFe4"
   },
   "outputs": [],
   "source": [
    "xgb_model = xgb.train(params, dtrain, num_boost_round=xgb_model_t.best_iteration)"
   ]
  },
  {
   "cell_type": "code",
   "execution_count": 341,
   "metadata": {
    "colab": {
     "base_uri": "https://localhost:8080/"
    },
    "id": "3Aj0rCjvGcT1",
    "outputId": "d5957553-dbc6-4d7d-edf9-804b8f3c6faf"
   },
   "outputs": [
    {
     "name": "stdout",
     "output_type": "stream",
     "text": [
      "                    feature  importance\n",
      "8               h_avg_time        1136\n",
      "40         smooth_dctr_rel        1043\n",
      "3            smooth_cm_rel        1032\n",
      "18              1_min_gaps         777\n",
      "22           h_out10_proba         686\n",
      "9               proba_spam         673\n",
      "0   sim_use_qa_qts_1024_un         630\n",
      "35           sim_use_qt_un         629\n",
      "24        1_phrase_decay30         625\n",
      "20             1_hit_count         607\n"
     ]
    }
   ],
   "source": [
    "xgb_fea_imp = pd.DataFrame(list(xgb_model.get_fscore().items()),\n",
    "                           columns=['feature','importance']).sort_values('importance', ascending=False)\n",
    "print('', xgb_fea_imp[:10])"
   ]
  },
  {
   "cell_type": "markdown",
   "metadata": {
    "id": "7wZ3xDLoSni0"
   },
   "source": [
    "### Submit"
   ]
  },
  {
   "cell_type": "code",
   "execution_count": 343,
   "metadata": {
    "id": "kyNf6YP4jAST"
   },
   "outputs": [],
   "source": [
    "test_wo_click_stat_df = pd.read_csv('test_df.csv', sep='\\t')\n",
    "test_wo_click_stat_df.sort_values(by=['query_id', 'doc_id'], inplace=True)\n",
    "\n",
    "test_h_cs_df = pd.read_csv('test_h_cs_df.csv', sep='\\t')\n",
    "test_h_cs_df.sort_values(by=['query_id', 'doc_id'], inplace=True)\n",
    "\n",
    "test_cs_df = pd.read_csv('test_cs_df.csv', sep='\\t')\n",
    "test_cs_df.sort_values(by=['query_id', 'doc_id'], inplace=True)\n",
    "\n",
    "test_cm_smooth_df = pd.read_csv('test_cm_smooth.csv', sep='\\t')\n",
    "test_cm_smooth_df.sort_values(by=['query_id', 'doc_id'], inplace=True)\n",
    "test_cm_smooth_df.rename(columns={'cm_rel': \"smooth_cm_rel\", \n",
    "                                  'sdbn_rel': \"smooth_sdbn_rel\", \n",
    "                                  'dctr_rel': \"smooth_dctr_rel\"}, inplace=True)\n",
    "test_cm_smooth_df.drop(['query_id', 'doc_id'], axis=1, inplace=True)\n",
    "\n",
    "test_df = pd.concat([test_wo_click_stat_df, \n",
    "                     test_cs_df.drop(['query_id', 'doc_id'] + cs_columns_h, axis=1),\n",
    "                     test_h_cs_df[cs_columns_h],\n",
    "                     test_cm_smooth_df], axis=1)\n",
    "\t\t\t\t\t  \n",
    "test_df = test_df[sorted(test_df.columns)]"
   ]
  },
  {
   "cell_type": "code",
   "execution_count": 344,
   "metadata": {
    "id": "uXc7bd2eSzBz"
   },
   "outputs": [],
   "source": [
    "drop_columns_submit = drop_columns.copy()\n",
    "drop_columns_submit.remove('query_id+doc_id')"
   ]
  },
  {
   "cell_type": "code",
   "execution_count": 345,
   "metadata": {
    "id": "gjhyNCrLS8AO"
   },
   "outputs": [],
   "source": [
    "X_test = test_df.drop(drop_columns_submit, axis=1)"
   ]
  },
  {
   "cell_type": "code",
   "execution_count": 346,
   "metadata": {
    "id": "If5PY1u1I9kb"
   },
   "outputs": [],
   "source": [
    "X_test = test_df[res['selected_features_names']]"
   ]
  },
  {
   "cell_type": "code",
   "execution_count": 347,
   "metadata": {
    "id": "BKrq0PBFTGou"
   },
   "outputs": [],
   "source": [
    "def save_submission(data_test_df, preds, filename):\n",
    "    data_test_df['pred'] = 0\n",
    "    data_test_df.loc[:, ['pred']] = preds\n",
    "    with open(filename, 'w') as fout:\n",
    "        fout.write('QueryId,DocumentId\\n')\n",
    "        for qid in np.unique(data_test_df['query_id'].values):\n",
    "            q_doc_idxs = data_test_df[data_test_df.query_id == qid]['doc_id'].values.ravel()\n",
    "            q_doc_scores = data_test_df[data_test_df.query_id == qid]['pred'].values.ravel()\n",
    "            sorted_doc_ids = q_doc_idxs[np.argsort(q_doc_scores)[::-1]]\n",
    "            for did in sorted_doc_ids[:5]:\n",
    "                fout.write('{0},{1}\\n'.format(qid, did))"
   ]
  },
  {
   "cell_type": "code",
   "execution_count": null,
   "metadata": {
    "id": "tJJytm6uTLqw"
   },
   "outputs": [],
   "source": [
    "dtest = xgb.DMatrix(data = X_test)\n",
    "dtest.set_group(np.unique(test_df['query_id'].values, return_counts=True)[1])"
   ]
  },
  {
   "cell_type": "code",
   "execution_count": null,
   "metadata": {
    "id": "N1EVeKZMTQA8"
   },
   "outputs": [],
   "source": [
    "xgb_preds = xgb_model.predict(dtest)\n",
    "save_submission(test_df, xgb_preds, 'all_xgb_1000_ltr.csv')"
   ]
  },
  {
   "cell_type": "code",
   "execution_count": 348,
   "metadata": {
    "id": "pJ1tuPsPTUEc"
   },
   "outputs": [],
   "source": [
    "cb_preds = cb_model.predict(X_test)\n",
    "save_submission(test_df, cb_preds, 'cb_yp_select_100_1250_0.3_ltr.csv')"
   ]
  }
 ],
 "metadata": {
  "accelerator": "GPU",
  "colab": {
   "collapsed_sections": [],
   "machine_shape": "hm",
   "name": "Submit.ipynb",
   "provenance": []
  },
  "kernelspec": {
   "display_name": "Python 3 (ipykernel)",
   "language": "python",
   "name": "python3"
  },
  "language_info": {
   "codemirror_mode": {
    "name": "ipython",
    "version": 3
   },
   "file_extension": ".py",
   "mimetype": "text/x-python",
   "name": "python",
   "nbconvert_exporter": "python",
   "pygments_lexer": "ipython3",
   "version": "3.8.13"
  },
  "widgets": {
   "application/vnd.jupyter.widget-state+json": {
    "0f0321f4dae24ed7983b182d3ca0fcb9": {
     "model_module": "@jupyter-widgets/controls",
     "model_module_version": "1.5.0",
     "model_name": "HTMLModel",
     "state": {
      "_dom_classes": [],
      "_model_module": "@jupyter-widgets/controls",
      "_model_module_version": "1.5.0",
      "_model_name": "HTMLModel",
      "_view_count": null,
      "_view_module": "@jupyter-widgets/controls",
      "_view_module_version": "1.5.0",
      "_view_name": "HTMLView",
      "description": "",
      "description_tooltip": null,
      "layout": "IPY_MODEL_78c958f62d484239ac80482d46e7526a",
      "placeholder": "​",
      "style": "IPY_MODEL_67367d812377440194dfa9bfea088b5e",
      "value": "100%"
     }
    },
    "4703cac06adf4cd2bd1c8e1485c3d620": {
     "model_module": "@jupyter-widgets/controls",
     "model_module_version": "1.5.0",
     "model_name": "HBoxModel",
     "state": {
      "_dom_classes": [],
      "_model_module": "@jupyter-widgets/controls",
      "_model_module_version": "1.5.0",
      "_model_name": "HBoxModel",
      "_view_count": null,
      "_view_module": "@jupyter-widgets/controls",
      "_view_module_version": "1.5.0",
      "_view_name": "HBoxView",
      "box_style": "",
      "children": [
       "IPY_MODEL_0f0321f4dae24ed7983b182d3ca0fcb9",
       "IPY_MODEL_91891827a25746fd94a9c170b549ca55",
       "IPY_MODEL_66575c86232f4d81968b80c025c22d9e"
      ],
      "layout": "IPY_MODEL_c880164b68244f69b505e7f844bbd401"
     }
    },
    "57f6cad562e848d78639df0d45e73c29": {
     "model_module": "@jupyter-widgets/controls",
     "model_module_version": "1.5.0",
     "model_name": "DescriptionStyleModel",
     "state": {
      "_model_module": "@jupyter-widgets/controls",
      "_model_module_version": "1.5.0",
      "_model_name": "DescriptionStyleModel",
      "_view_count": null,
      "_view_module": "@jupyter-widgets/base",
      "_view_module_version": "1.2.0",
      "_view_name": "StyleView",
      "description_width": ""
     }
    },
    "5cd4fd3c90e940abaf824736f607191b": {
     "model_module": "@jupyter-widgets/base",
     "model_module_version": "1.2.0",
     "model_name": "LayoutModel",
     "state": {
      "_model_module": "@jupyter-widgets/base",
      "_model_module_version": "1.2.0",
      "_model_name": "LayoutModel",
      "_view_count": null,
      "_view_module": "@jupyter-widgets/base",
      "_view_module_version": "1.2.0",
      "_view_name": "LayoutView",
      "align_content": null,
      "align_items": null,
      "align_self": null,
      "border": null,
      "bottom": null,
      "display": null,
      "flex": null,
      "flex_flow": null,
      "grid_area": null,
      "grid_auto_columns": null,
      "grid_auto_flow": null,
      "grid_auto_rows": null,
      "grid_column": null,
      "grid_gap": null,
      "grid_row": null,
      "grid_template_areas": null,
      "grid_template_columns": null,
      "grid_template_rows": null,
      "height": null,
      "justify_content": null,
      "justify_items": null,
      "left": null,
      "margin": null,
      "max_height": null,
      "max_width": null,
      "min_height": null,
      "min_width": null,
      "object_fit": null,
      "object_position": null,
      "order": null,
      "overflow": null,
      "overflow_x": null,
      "overflow_y": null,
      "padding": null,
      "right": null,
      "top": null,
      "visibility": null,
      "width": null
     }
    },
    "60e24cf8ed2e4bb6a4634ad6390eab4b": {
     "model_module": "@jupyter-widgets/controls",
     "model_module_version": "1.5.0",
     "model_name": "HTMLModel",
     "state": {
      "_dom_classes": [],
      "_model_module": "@jupyter-widgets/controls",
      "_model_module_version": "1.5.0",
      "_model_name": "HTMLModel",
      "_view_count": null,
      "_view_module": "@jupyter-widgets/controls",
      "_view_module_version": "1.5.0",
      "_view_name": "HTMLView",
      "description": "",
      "description_tooltip": null,
      "layout": "IPY_MODEL_8bfb5e19051f48f6bfcc6198bb8f7acd",
      "placeholder": "​",
      "style": "IPY_MODEL_57f6cad562e848d78639df0d45e73c29",
      "value": "100%"
     }
    },
    "6163d524080b405e841ad520b8362fa6": {
     "model_module": "@jupyter-widgets/controls",
     "model_module_version": "1.5.0",
     "model_name": "DescriptionStyleModel",
     "state": {
      "_model_module": "@jupyter-widgets/controls",
      "_model_module_version": "1.5.0",
      "_model_name": "DescriptionStyleModel",
      "_view_count": null,
      "_view_module": "@jupyter-widgets/base",
      "_view_module_version": "1.2.0",
      "_view_name": "StyleView",
      "description_width": ""
     }
    },
    "62b23481d7554d6490b5b3b8f4a01ca7": {
     "model_module": "@jupyter-widgets/controls",
     "model_module_version": "1.5.0",
     "model_name": "ProgressStyleModel",
     "state": {
      "_model_module": "@jupyter-widgets/controls",
      "_model_module_version": "1.5.0",
      "_model_name": "ProgressStyleModel",
      "_view_count": null,
      "_view_module": "@jupyter-widgets/base",
      "_view_module_version": "1.2.0",
      "_view_name": "StyleView",
      "bar_color": null,
      "description_width": ""
     }
    },
    "66575c86232f4d81968b80c025c22d9e": {
     "model_module": "@jupyter-widgets/controls",
     "model_module_version": "1.5.0",
     "model_name": "HTMLModel",
     "state": {
      "_dom_classes": [],
      "_model_module": "@jupyter-widgets/controls",
      "_model_module_version": "1.5.0",
      "_model_name": "HTMLModel",
      "_view_count": null,
      "_view_module": "@jupyter-widgets/controls",
      "_view_module_version": "1.5.0",
      "_view_name": "HTMLView",
      "description": "",
      "description_tooltip": null,
      "layout": "IPY_MODEL_95761be2daaf4955bc21bdfdba6fbaf2",
      "placeholder": "​",
      "style": "IPY_MODEL_916b743e8eee401dbf445d6177cac782",
      "value": " 199886/199886 [00:03&lt;00:00, 66323.83it/s]"
     }
    },
    "67367d812377440194dfa9bfea088b5e": {
     "model_module": "@jupyter-widgets/controls",
     "model_module_version": "1.5.0",
     "model_name": "DescriptionStyleModel",
     "state": {
      "_model_module": "@jupyter-widgets/controls",
      "_model_module_version": "1.5.0",
      "_model_name": "DescriptionStyleModel",
      "_view_count": null,
      "_view_module": "@jupyter-widgets/base",
      "_view_module_version": "1.2.0",
      "_view_name": "StyleView",
      "description_width": ""
     }
    },
    "75b27348c8fa4e7ebab502d5483fb419": {
     "model_module": "@jupyter-widgets/controls",
     "model_module_version": "1.5.0",
     "model_name": "FloatProgressModel",
     "state": {
      "_dom_classes": [],
      "_model_module": "@jupyter-widgets/controls",
      "_model_module_version": "1.5.0",
      "_model_name": "FloatProgressModel",
      "_view_count": null,
      "_view_module": "@jupyter-widgets/controls",
      "_view_module_version": "1.5.0",
      "_view_name": "ProgressView",
      "bar_style": "success",
      "description": "",
      "description_tooltip": null,
      "layout": "IPY_MODEL_bdbe2075c49d4c16bf77777744298874",
      "max": 202079,
      "min": 0,
      "orientation": "horizontal",
      "style": "IPY_MODEL_62b23481d7554d6490b5b3b8f4a01ca7",
      "value": 202079
     }
    },
    "78c958f62d484239ac80482d46e7526a": {
     "model_module": "@jupyter-widgets/base",
     "model_module_version": "1.2.0",
     "model_name": "LayoutModel",
     "state": {
      "_model_module": "@jupyter-widgets/base",
      "_model_module_version": "1.2.0",
      "_model_name": "LayoutModel",
      "_view_count": null,
      "_view_module": "@jupyter-widgets/base",
      "_view_module_version": "1.2.0",
      "_view_name": "LayoutView",
      "align_content": null,
      "align_items": null,
      "align_self": null,
      "border": null,
      "bottom": null,
      "display": null,
      "flex": null,
      "flex_flow": null,
      "grid_area": null,
      "grid_auto_columns": null,
      "grid_auto_flow": null,
      "grid_auto_rows": null,
      "grid_column": null,
      "grid_gap": null,
      "grid_row": null,
      "grid_template_areas": null,
      "grid_template_columns": null,
      "grid_template_rows": null,
      "height": null,
      "justify_content": null,
      "justify_items": null,
      "left": null,
      "margin": null,
      "max_height": null,
      "max_width": null,
      "min_height": null,
      "min_width": null,
      "object_fit": null,
      "object_position": null,
      "order": null,
      "overflow": null,
      "overflow_x": null,
      "overflow_y": null,
      "padding": null,
      "right": null,
      "top": null,
      "visibility": null,
      "width": null
     }
    },
    "8bbe75ff08fb489b919bbefc919adabc": {
     "model_module": "@jupyter-widgets/controls",
     "model_module_version": "1.5.0",
     "model_name": "ProgressStyleModel",
     "state": {
      "_model_module": "@jupyter-widgets/controls",
      "_model_module_version": "1.5.0",
      "_model_name": "ProgressStyleModel",
      "_view_count": null,
      "_view_module": "@jupyter-widgets/base",
      "_view_module_version": "1.2.0",
      "_view_name": "StyleView",
      "bar_color": null,
      "description_width": ""
     }
    },
    "8bfb5e19051f48f6bfcc6198bb8f7acd": {
     "model_module": "@jupyter-widgets/base",
     "model_module_version": "1.2.0",
     "model_name": "LayoutModel",
     "state": {
      "_model_module": "@jupyter-widgets/base",
      "_model_module_version": "1.2.0",
      "_model_name": "LayoutModel",
      "_view_count": null,
      "_view_module": "@jupyter-widgets/base",
      "_view_module_version": "1.2.0",
      "_view_name": "LayoutView",
      "align_content": null,
      "align_items": null,
      "align_self": null,
      "border": null,
      "bottom": null,
      "display": null,
      "flex": null,
      "flex_flow": null,
      "grid_area": null,
      "grid_auto_columns": null,
      "grid_auto_flow": null,
      "grid_auto_rows": null,
      "grid_column": null,
      "grid_gap": null,
      "grid_row": null,
      "grid_template_areas": null,
      "grid_template_columns": null,
      "grid_template_rows": null,
      "height": null,
      "justify_content": null,
      "justify_items": null,
      "left": null,
      "margin": null,
      "max_height": null,
      "max_width": null,
      "min_height": null,
      "min_width": null,
      "object_fit": null,
      "object_position": null,
      "order": null,
      "overflow": null,
      "overflow_x": null,
      "overflow_y": null,
      "padding": null,
      "right": null,
      "top": null,
      "visibility": null,
      "width": null
     }
    },
    "916b743e8eee401dbf445d6177cac782": {
     "model_module": "@jupyter-widgets/controls",
     "model_module_version": "1.5.0",
     "model_name": "DescriptionStyleModel",
     "state": {
      "_model_module": "@jupyter-widgets/controls",
      "_model_module_version": "1.5.0",
      "_model_name": "DescriptionStyleModel",
      "_view_count": null,
      "_view_module": "@jupyter-widgets/base",
      "_view_module_version": "1.2.0",
      "_view_name": "StyleView",
      "description_width": ""
     }
    },
    "91891827a25746fd94a9c170b549ca55": {
     "model_module": "@jupyter-widgets/controls",
     "model_module_version": "1.5.0",
     "model_name": "FloatProgressModel",
     "state": {
      "_dom_classes": [],
      "_model_module": "@jupyter-widgets/controls",
      "_model_module_version": "1.5.0",
      "_model_name": "FloatProgressModel",
      "_view_count": null,
      "_view_module": "@jupyter-widgets/controls",
      "_view_module_version": "1.5.0",
      "_view_name": "ProgressView",
      "bar_style": "success",
      "description": "",
      "description_tooltip": null,
      "layout": "IPY_MODEL_c86f6976d809438ea1cca38d09f77d70",
      "max": 199886,
      "min": 0,
      "orientation": "horizontal",
      "style": "IPY_MODEL_8bbe75ff08fb489b919bbefc919adabc",
      "value": 199886
     }
    },
    "95761be2daaf4955bc21bdfdba6fbaf2": {
     "model_module": "@jupyter-widgets/base",
     "model_module_version": "1.2.0",
     "model_name": "LayoutModel",
     "state": {
      "_model_module": "@jupyter-widgets/base",
      "_model_module_version": "1.2.0",
      "_model_name": "LayoutModel",
      "_view_count": null,
      "_view_module": "@jupyter-widgets/base",
      "_view_module_version": "1.2.0",
      "_view_name": "LayoutView",
      "align_content": null,
      "align_items": null,
      "align_self": null,
      "border": null,
      "bottom": null,
      "display": null,
      "flex": null,
      "flex_flow": null,
      "grid_area": null,
      "grid_auto_columns": null,
      "grid_auto_flow": null,
      "grid_auto_rows": null,
      "grid_column": null,
      "grid_gap": null,
      "grid_row": null,
      "grid_template_areas": null,
      "grid_template_columns": null,
      "grid_template_rows": null,
      "height": null,
      "justify_content": null,
      "justify_items": null,
      "left": null,
      "margin": null,
      "max_height": null,
      "max_width": null,
      "min_height": null,
      "min_width": null,
      "object_fit": null,
      "object_position": null,
      "order": null,
      "overflow": null,
      "overflow_x": null,
      "overflow_y": null,
      "padding": null,
      "right": null,
      "top": null,
      "visibility": null,
      "width": null
     }
    },
    "9f920fa10aa04887a49ec5deba04164f": {
     "model_module": "catboost-widget",
     "model_module_version": "^1.0.0",
     "model_name": "CatboostWidgetModel",
     "state": {
      "_dom_classes": [],
      "_model_module": "catboost-widget",
      "_model_module_version": "^1.0.0",
      "_model_name": "CatboostWidgetModel",
      "_view_count": null,
      "_view_module": "catboost-widget",
      "_view_module_version": "^1.0.0",
      "_view_name": "CatboostWidgetView",
      "data": {
       "YetiRank-lr-0.3": {
        "content": {
         "data": {
          "iterations": [
           {
            "iteration": 0,
            "passed_time": 0.01754369309,
            "remaining_time": 18.7717516
           },
           {
            "iteration": 1,
            "passed_time": 0.03387225498,
            "remaining_time": 18.10472029
           },
           {
            "iteration": 2,
            "passed_time": 0.05079691794,
            "remaining_time": 18.08370279
           },
           {
            "iteration": 3,
            "passed_time": 0.06736306093,
            "remaining_time": 17.9690965
           },
           {
            "iteration": 4,
            "passed_time": 0.08364833545,
            "remaining_time": 17.83382512
           },
           {
            "iteration": 5,
            "passed_time": 0.1001235911,
            "remaining_time": 17.77193741
           },
           {
            "iteration": 6,
            "passed_time": 0.1160025896,
            "remaining_time": 17.63239362
           },
           {
            "iteration": 7,
            "passed_time": 0.1324070632,
            "remaining_time": 17.59358852
           },
           {
            "iteration": 8,
            "passed_time": 0.1488356827,
            "remaining_time": 17.56261056
           },
           {
            "iteration": 9,
            "passed_time": 0.1652260204,
            "remaining_time": 17.53048076
           },
           {
            "iteration": 10,
            "passed_time": 0.1815454361,
            "remaining_time": 17.49437838
           },
           {
            "iteration": 11,
            "passed_time": 0.1976653374,
            "remaining_time": 17.44396603
           },
           {
            "iteration": 12,
            "passed_time": 0.2145784994,
            "remaining_time": 17.46338864
           },
           {
            "iteration": 13,
            "passed_time": 0.230743052,
            "remaining_time": 17.42110043
           },
           {
            "iteration": 14,
            "passed_time": 0.2475636437,
            "remaining_time": 17.42848051
           },
           {
            "iteration": 15,
            "passed_time": 0.26243054,
            "remaining_time": 17.30401373
           },
           {
            "iteration": 16,
            "passed_time": 0.2773101683,
            "remaining_time": 17.19323044
           },
           {
            "iteration": 17,
            "passed_time": 0.2928783529,
            "remaining_time": 17.13338365
           },
           {
            "iteration": 18,
            "passed_time": 0.3086494055,
            "remaining_time": 17.08943024
           },
           {
            "iteration": 19,
            "passed_time": 0.3233753657,
            "remaining_time": 16.99337547
           },
           {
            "iteration": 20,
            "passed_time": 0.3389099821,
            "remaining_time": 16.94549911
           },
           {
            "iteration": 21,
            "passed_time": 0.3540561541,
            "remaining_time": 16.88204117
           },
           {
            "iteration": 22,
            "passed_time": 0.3690825011,
            "remaining_time": 16.8173244
           },
           {
            "iteration": 23,
            "passed_time": 0.3846625347,
            "remaining_time": 16.78090308
           },
           {
            "iteration": 24,
            "passed_time": 0.4001114143,
            "remaining_time": 16.74066157
           },
           {
            "iteration": 25,
            "passed_time": 0.4155098401,
            "remaining_time": 16.70029934
           },
           {
            "iteration": 26,
            "passed_time": 0.4308397237,
            "remaining_time": 16.65913598
           },
           {
            "iteration": 27,
            "passed_time": 0.446424232,
            "remaining_time": 16.62930264
           },
           {
            "iteration": 28,
            "passed_time": 0.4610903021,
            "remaining_time": 16.56745155
           },
           {
            "iteration": 29,
            "passed_time": 0.4765739498,
            "remaining_time": 16.53711606
           },
           {
            "iteration": 30,
            "passed_time": 0.4921721419,
            "remaining_time": 16.51158154
           },
           {
            "iteration": 31,
            "passed_time": 0.5072609827,
            "remaining_time": 16.47013003
           },
           {
            "iteration": 32,
            "passed_time": 0.5228505815,
            "remaining_time": 16.44602738
           },
           {
            "iteration": 33,
            "passed_time": 0.5377216075,
            "remaining_time": 16.40050903
           },
           {
            "iteration": 34,
            "passed_time": 0.5528947422,
            "remaining_time": 16.36568437
           },
           {
            "iteration": 35,
            "passed_time": 0.5687825601,
            "remaining_time": 16.3524986
           },
           {
            "iteration": 36,
            "passed_time": 0.583535337,
            "remaining_time": 16.30744698
           },
           {
            "iteration": 37,
            "passed_time": 0.5989165902,
            "remaining_time": 16.28107468
           },
           {
            "iteration": 38,
            "passed_time": 0.613874188,
            "remaining_time": 16.24405544
           },
           {
            "iteration": 39,
            "passed_time": 0.6296259772,
            "remaining_time": 16.22860956
           },
           {
            "iteration": 40,
            "passed_time": 0.6446919029,
            "remaining_time": 16.19591854
           },
           {
            "iteration": 41,
            "passed_time": 0.6602531341,
            "remaining_time": 16.17620179
           },
           {
            "iteration": 42,
            "passed_time": 0.6750706276,
            "remaining_time": 16.1388978
           },
           {
            "iteration": 43,
            "passed_time": 0.6900626725,
            "remaining_time": 16.10669011
           },
           {
            "iteration": 44,
            "passed_time": 0.7052219294,
            "remaining_time": 16.07905999
           },
           {
            "iteration": 45,
            "passed_time": 0.7199235596,
            "remaining_time": 16.04177497
           },
           {
            "iteration": 46,
            "passed_time": 0.7353161779,
            "remaining_time": 16.02050566
           },
           {
            "iteration": 47,
            "passed_time": 0.7500927718,
            "remaining_time": 15.9863522
           },
           {
            "iteration": 48,
            "passed_time": 0.7647330122,
            "remaining_time": 15.95014568
           },
           {
            "iteration": 49,
            "passed_time": 0.779641788,
            "remaining_time": 15.92028531
           },
           {
            "iteration": 50,
            "passed_time": 0.7939990921,
            "remaining_time": 15.87998184
           },
           {
            "iteration": 51,
            "passed_time": 0.8091397485,
            "remaining_time": 15.85602699
           },
           {
            "iteration": 52,
            "passed_time": 0.8240467405,
            "remaining_time": 15.82791664
           },
           {
            "iteration": 53,
            "passed_time": 0.8393581946,
            "remaining_time": 15.80791267
           },
           {
            "iteration": 54,
            "passed_time": 0.8545078673,
            "remaining_time": 15.78509079
           },
           {
            "iteration": 55,
            "passed_time": 0.8700949323,
            "remaining_time": 15.77047065
           },
           {
            "iteration": 56,
            "passed_time": 0.8850734163,
            "remaining_time": 15.74499025
           },
           {
            "iteration": 57,
            "passed_time": 0.9004192106,
            "remaining_time": 15.72628725
           },
           {
            "iteration": 58,
            "passed_time": 0.9161242707,
            "remaining_time": 15.71386037
           },
           {
            "iteration": 59,
            "passed_time": 0.9312607375,
            "remaining_time": 15.69174343
           },
           {
            "iteration": 60,
            "passed_time": 0.946162337,
            "remaining_time": 15.66596656
           },
           {
            "iteration": 61,
            "passed_time": 0.9612020858,
            "remaining_time": 15.64278878
           },
           {
            "iteration": 62,
            "passed_time": 0.9765913404,
            "remaining_time": 15.62546145
           },
           {
            "iteration": 63,
            "passed_time": 0.9916807392,
            "remaining_time": 15.60347663
           },
           {
            "iteration": 64,
            "passed_time": 1.006790182,
            "remaining_time": 15.5820142
           },
           {
            "iteration": 65,
            "passed_time": 1.022159315,
            "remaining_time": 15.56469867
           },
           {
            "iteration": 66,
            "passed_time": 1.037420576,
            "remaining_time": 15.54582475
           },
           {
            "iteration": 67,
            "passed_time": 1.053168052,
            "remaining_time": 15.53422877
           },
           {
            "iteration": 68,
            "passed_time": 1.068295174,
            "remaining_time": 15.51350383
           },
           {
            "iteration": 69,
            "passed_time": 1.084149956,
            "remaining_time": 15.50334436
           },
           {
            "iteration": 70,
            "passed_time": 1.099002053,
            "remaining_time": 15.47890216
           },
           {
            "iteration": 71,
            "passed_time": 1.114269434,
            "remaining_time": 15.4604884
           },
           {
            "iteration": 72,
            "passed_time": 1.128960732,
            "remaining_time": 15.43428508
           },
           {
            "iteration": 73,
            "passed_time": 1.14339558,
            "remaining_time": 15.40493774
           },
           {
            "iteration": 74,
            "passed_time": 1.15816674,
            "remaining_time": 15.38045431
           },
           {
            "iteration": 75,
            "passed_time": 1.173243724,
            "remaining_time": 15.36023033
           },
           {
            "iteration": 76,
            "passed_time": 1.188283251,
            "remaining_time": 15.33965651
           },
           {
            "iteration": 77,
            "passed_time": 1.203036759,
            "remaining_time": 15.31558335
           },
           {
            "iteration": 78,
            "passed_time": 1.217368192,
            "remaining_time": 15.28644615
           },
           {
            "iteration": 79,
            "passed_time": 1.232443054,
            "remaining_time": 15.26688833
           },
           {
            "iteration": 80,
            "passed_time": 1.247503463,
            "remaining_time": 15.24726455
           },
           {
            "iteration": 81,
            "passed_time": 1.263014375,
            "remaining_time": 15.23318557
           },
           {
            "iteration": 82,
            "passed_time": 1.277875343,
            "remaining_time": 15.21133541
           },
           {
            "iteration": 83,
            "passed_time": 1.292748532,
            "remaining_time": 15.18979525
           },
           {
            "iteration": 84,
            "passed_time": 1.307528437,
            "remaining_time": 15.16732986
           },
           {
            "iteration": 85,
            "passed_time": 1.321957282,
            "remaining_time": 15.14102235
           },
           {
            "iteration": 86,
            "passed_time": 1.33702662,
            "remaining_time": 15.12223212
           },
           {
            "iteration": 87,
            "passed_time": 1.351834787,
            "remaining_time": 15.10060904
           },
           {
            "iteration": 88,
            "passed_time": 1.366998509,
            "remaining_time": 15.0830622
           },
           {
            "iteration": 89,
            "passed_time": 1.38168773,
            "remaining_time": 15.06039626
           },
           {
            "iteration": 90,
            "passed_time": 1.396378512,
            "remaining_time": 15.03792244
           },
           {
            "iteration": 91,
            "passed_time": 1.411789195,
            "remaining_time": 15.0232785
           },
           {
            "iteration": 92,
            "passed_time": 1.426381229,
            "remaining_time": 15.00000906
           },
           {
            "iteration": 93,
            "passed_time": 1.440890592,
            "remaining_time": 14.97606498
           },
           {
            "iteration": 94,
            "passed_time": 1.455492755,
            "remaining_time": 14.95327294
           },
           {
            "iteration": 95,
            "passed_time": 1.470759355,
            "remaining_time": 14.9373997
           },
           {
            "iteration": 96,
            "passed_time": 1.485241674,
            "remaining_time": 14.91366382
           },
           {
            "iteration": 97,
            "passed_time": 1.50064227,
            "remaining_time": 14.89923397
           },
           {
            "iteration": 98,
            "passed_time": 1.515332252,
            "remaining_time": 14.87780756
           },
           {
            "iteration": 99,
            "passed_time": 1.52980502,
            "remaining_time": 14.85440674
           },
           {
            "iteration": 100,
            "passed_time": 1.544557615,
            "remaining_time": 14.83387016
           },
           {
            "iteration": 101,
            "passed_time": 1.559271614,
            "remaining_time": 14.81308033
           },
           {
            "iteration": 102,
            "passed_time": 1.574193125,
            "remaining_time": 14.79435869
           },
           {
            "iteration": 103,
            "passed_time": 1.58940713,
            "remaining_time": 14.77842976
           },
           {
            "iteration": 104,
            "passed_time": 1.604682625,
            "remaining_time": 14.76308015
           },
           {
            "iteration": 105,
            "passed_time": 1.619711518,
            "remaining_time": 14.74548693
           },
           {
            "iteration": 106,
            "passed_time": 1.634636754,
            "remaining_time": 14.72700776
           },
           {
            "iteration": 107,
            "passed_time": 1.649868928,
            "remaining_time": 14.71133128
           },
           {
            "iteration": 108,
            "passed_time": 1.665550217,
            "remaining_time": 14.69962669
           },
           {
            "iteration": 109,
            "passed_time": 1.680806317,
            "remaining_time": 14.68413519
           },
           {
            "iteration": 110,
            "passed_time": 1.696019428,
            "remaining_time": 14.66827613
           },
           {
            "iteration": 111,
            "passed_time": 1.710776259,
            "remaining_time": 14.64852172
           },
           {
            "iteration": 112,
            "passed_time": 1.725267813,
            "remaining_time": 14.62660677
           },
           {
            "iteration": 113,
            "passed_time": 1.740177774,
            "remaining_time": 14.60833447
           },
           {
            "iteration": 114,
            "passed_time": 1.754785708,
            "remaining_time": 14.58760988
           },
           {
            "iteration": 115,
            "passed_time": 1.770313654,
            "remaining_time": 14.57456499
           },
           {
            "iteration": 116,
            "passed_time": 1.785661097,
            "remaining_time": 14.56000587
           },
           {
            "iteration": 117,
            "passed_time": 1.800923137,
            "remaining_time": 14.54474364
           },
           {
            "iteration": 118,
            "passed_time": 1.815997441,
            "remaining_time": 14.52797953
           },
           {
            "iteration": 119,
            "passed_time": 1.831391136,
            "remaining_time": 14.51377476
           },
           {
            "iteration": 120,
            "passed_time": 1.846635103,
            "remaining_time": 14.49837478
           },
           {
            "iteration": 121,
            "passed_time": 1.861430511,
            "remaining_time": 14.47948816
           },
           {
            "iteration": 122,
            "passed_time": 1.877473351,
            "remaining_time": 14.47028241
           },
           {
            "iteration": 123,
            "passed_time": 1.892881991,
            "remaining_time": 14.45612295
           },
           {
            "iteration": 124,
            "passed_time": 1.908277164,
            "remaining_time": 14.44184158
           },
           {
            "iteration": 125,
            "passed_time": 1.924110942,
            "remaining_time": 14.43083206
           },
           {
            "iteration": 126,
            "passed_time": 1.938925774,
            "remaining_time": 14.41217269
           },
           {
            "iteration": 127,
            "passed_time": 1.95352218,
            "remaining_time": 14.39196419
           },
           {
            "iteration": 128,
            "passed_time": 1.968295189,
            "remaining_time": 14.37313231
           },
           {
            "iteration": 129,
            "passed_time": 1.98384654,
            "remaining_time": 14.35999688
           },
           {
            "iteration": 130,
            "passed_time": 1.999352506,
            "remaining_time": 14.3464989
           },
           {
            "iteration": 131,
            "passed_time": 2.014076194,
            "remaining_time": 14.32740565
           },
           {
            "iteration": 132,
            "passed_time": 2.02888872,
            "remaining_time": 14.30900466
           },
           {
            "iteration": 133,
            "passed_time": 2.04375522,
            "remaining_time": 14.29103464
           },
           {
            "iteration": 134,
            "passed_time": 2.058498958,
            "remaining_time": 14.27225944
           },
           {
            "iteration": 135,
            "passed_time": 2.073649251,
            "remaining_time": 14.2563386
           },
           {
            "iteration": 136,
            "passed_time": 2.088297986,
            "remaining_time": 14.23700963
           },
           {
            "iteration": 137,
            "passed_time": 2.104019512,
            "remaining_time": 14.22500148
           },
           {
            "iteration": 138,
            "passed_time": 2.119145711,
            "remaining_time": 14.20894822
           },
           {
            "iteration": 139,
            "passed_time": 2.134442744,
            "remaining_time": 14.19404425
           },
           {
            "iteration": 140,
            "passed_time": 2.14922948,
            "remaining_time": 14.17576891
           },
           {
            "iteration": 141,
            "passed_time": 2.164499354,
            "remaining_time": 14.16070352
           },
           {
            "iteration": 142,
            "passed_time": 2.17929237,
            "remaining_time": 14.1425407
           },
           {
            "iteration": 143,
            "passed_time": 2.193725137,
            "remaining_time": 14.12210557
           },
           {
            "iteration": 144,
            "passed_time": 2.208170616,
            "remaining_time": 14.10183442
           },
           {
            "iteration": 145,
            "passed_time": 2.222991927,
            "remaining_time": 14.08402419
           },
           {
            "iteration": 146,
            "passed_time": 2.238232457,
            "remaining_time": 14.06888973
           },
           {
            "iteration": 147,
            "passed_time": 2.253217632,
            "remaining_time": 14.05216131
           },
           {
            "iteration": 148,
            "passed_time": 2.267861105,
            "remaining_time": 14.03334187
           },
           {
            "iteration": 149,
            "passed_time": 2.282406689,
            "remaining_time": 14.01397707
           },
           {
            "iteration": 150,
            "passed_time": 2.297373846,
            "remaining_time": 13.99724462
           },
           {
            "iteration": 151,
            "passed_time": 2.312527552,
            "remaining_time": 13.98166329
           },
           {
            "iteration": 152,
            "passed_time": 2.327647057,
            "remaining_time": 13.96588234
           },
           {
            "iteration": 153,
            "passed_time": 2.341490493,
            "remaining_time": 13.94251157
           },
           {
            "iteration": 154,
            "passed_time": 2.356251524,
            "remaining_time": 13.92468643
           },
           {
            "iteration": 155,
            "passed_time": 2.371027482,
            "remaining_time": 13.90698812
           },
           {
            "iteration": 156,
            "passed_time": 2.385615459,
            "remaining_time": 13.88823267
           },
           {
            "iteration": 157,
            "passed_time": 2.40119806,
            "remaining_time": 13.87527739
           },
           {
            "iteration": 158,
            "passed_time": 2.416376899,
            "remaining_time": 13.85997316
           },
           {
            "iteration": 159,
            "passed_time": 2.431172593,
            "remaining_time": 13.84248895
           },
           {
            "iteration": 160,
            "passed_time": 2.445752082,
            "remaining_time": 13.82381611
           },
           {
            "iteration": 161,
            "passed_time": 2.460857975,
            "remaining_time": 13.80814753
           },
           {
            "iteration": 162,
            "passed_time": 2.474653652,
            "remaining_time": 13.78518721
           },
           {
            "iteration": 163,
            "passed_time": 2.489857882,
            "remaining_time": 13.77012865
           },
           {
            "iteration": 164,
            "passed_time": 2.504716585,
            "remaining_time": 13.75317107
           },
           {
            "iteration": 165,
            "passed_time": 2.519015083,
            "remaining_time": 13.73318464
           },
           {
            "iteration": 166,
            "passed_time": 2.533975241,
            "remaining_time": 13.71684801
           },
           {
            "iteration": 167,
            "passed_time": 2.549067092,
            "remaining_time": 13.70123562
           },
           {
            "iteration": 168,
            "passed_time": 2.563515097,
            "remaining_time": 13.682193
           },
           {
            "iteration": 169,
            "passed_time": 2.578528393,
            "remaining_time": 13.66620048
           },
           {
            "iteration": 170,
            "passed_time": 2.592992641,
            "remaining_time": 13.64732969
           },
           {
            "iteration": 171,
            "passed_time": 2.607463271,
            "remaining_time": 13.62854349
           },
           {
            "iteration": 172,
            "passed_time": 2.622832345,
            "remaining_time": 13.61447078
           },
           {
            "iteration": 173,
            "passed_time": 2.638132339,
            "remaining_time": 13.60002706
           },
           {
            "iteration": 174,
            "passed_time": 2.652376637,
            "remaining_time": 13.58016838
           },
           {
            "iteration": 175,
            "passed_time": 2.66712746,
            "remaining_time": 13.5629493
           },
           {
            "iteration": 176,
            "passed_time": 2.68302267,
            "remaining_time": 13.55153823
           },
           {
            "iteration": 177,
            "passed_time": 2.697656134,
            "remaining_time": 13.53374678
           },
           {
            "iteration": 178,
            "passed_time": 2.712513235,
            "remaining_time": 13.51710506
           },
           {
            "iteration": 179,
            "passed_time": 2.727887043,
            "remaining_time": 13.50304086
           },
           {
            "iteration": 180,
            "passed_time": 2.743112387,
            "remaining_time": 13.48823218
           },
           {
            "iteration": 181,
            "passed_time": 2.757468249,
            "remaining_time": 13.46917183
           },
           {
            "iteration": 182,
            "passed_time": 2.772361414,
            "remaining_time": 13.45277014
           },
           {
            "iteration": 183,
            "passed_time": 2.787550198,
            "remaining_time": 13.43780992
           },
           {
            "iteration": 184,
            "passed_time": 2.803124602,
            "remaining_time": 13.42469404
           },
           {
            "iteration": 185,
            "passed_time": 2.818007153,
            "remaining_time": 13.40825984
           },
           {
            "iteration": 186,
            "passed_time": 2.833602437,
            "remaining_time": 13.39521152
           },
           {
            "iteration": 187,
            "passed_time": 2.848942156,
            "remaining_time": 13.38093576
           },
           {
            "iteration": 188,
            "passed_time": 2.863925023,
            "remaining_time": 13.36498344
           },
           {
            "iteration": 189,
            "passed_time": 2.878533913,
            "remaining_time": 13.34730725
           },
           {
            "iteration": 190,
            "passed_time": 2.893610266,
            "remaining_time": 13.33181693
           },
           {
            "iteration": 191,
            "passed_time": 2.90747234,
            "remaining_time": 13.31077181
           },
           {
            "iteration": 192,
            "passed_time": 2.923528555,
            "remaining_time": 13.29978275
           },
           {
            "iteration": 193,
            "passed_time": 2.938288961,
            "remaining_time": 13.2828836
           },
           {
            "iteration": 194,
            "passed_time": 2.953249883,
            "remaining_time": 13.26690717
           },
           {
            "iteration": 195,
            "passed_time": 2.96813636,
            "remaining_time": 13.25060875
           },
           {
            "iteration": 196,
            "passed_time": 2.983764065,
            "remaining_time": 13.23761316
           },
           {
            "iteration": 197,
            "passed_time": 2.9992259,
            "remaining_time": 13.22385965
           },
           {
            "iteration": 198,
            "passed_time": 3.014352397,
            "remaining_time": 13.20861955
           },
           {
            "iteration": 199,
            "passed_time": 3.029186343,
            "remaining_time": 13.19210652
           },
           {
            "iteration": 200,
            "passed_time": 3.044250597,
            "remaining_time": 13.17660706
           },
           {
            "iteration": 201,
            "passed_time": 3.05890848,
            "remaining_time": 13.15936371
           },
           {
            "iteration": 202,
            "passed_time": 3.074584148,
            "remaining_time": 13.14649774
           },
           {
            "iteration": 203,
            "passed_time": 3.088876009,
            "remaining_time": 13.12772304
           },
           {
            "iteration": 204,
            "passed_time": 3.104249313,
            "remaining_time": 13.11356051
           },
           {
            "iteration": 205,
            "passed_time": 3.119023462,
            "remaining_time": 13.09687036
           },
           {
            "iteration": 206,
            "passed_time": 3.134104057,
            "remaining_time": 13.0814778
           },
           {
            "iteration": 207,
            "passed_time": 3.149655829,
            "remaining_time": 13.06804318
           },
           {
            "iteration": 208,
            "passed_time": 3.164840008,
            "remaining_time": 13.05307219
           },
           {
            "iteration": 209,
            "passed_time": 3.179352747,
            "remaining_time": 13.03534626
           },
           {
            "iteration": 210,
            "passed_time": 3.194488119,
            "remaining_time": 13.02018854
           },
           {
            "iteration": 211,
            "passed_time": 3.210064359,
            "remaining_time": 13.00681738
           },
           {
            "iteration": 212,
            "passed_time": 3.224595454,
            "remaining_time": 12.98921549
           },
           {
            "iteration": 213,
            "passed_time": 3.239219881,
            "remaining_time": 12.97201607
           },
           {
            "iteration": 214,
            "passed_time": 3.252998691,
            "remaining_time": 12.95147386
           },
           {
            "iteration": 215,
            "passed_time": 3.268381919,
            "remaining_time": 12.9373451
           },
           {
            "iteration": 216,
            "passed_time": 3.283692159,
            "remaining_time": 12.92291753
           },
           {
            "iteration": 217,
            "passed_time": 3.299000606,
            "remaining_time": 12.90847485
           },
           {
            "iteration": 218,
            "passed_time": 3.314001855,
            "remaining_time": 12.89282914
           },
           {
            "iteration": 219,
            "passed_time": 3.329033013,
            "remaining_time": 12.87730497
           },
           {
            "iteration": 220,
            "passed_time": 3.343770893,
            "remaining_time": 12.86065728
           },
           {
            "iteration": 221,
            "passed_time": 3.358264672,
            "remaining_time": 12.84309327
           },
           {
            "iteration": 222,
            "passed_time": 3.372376509,
            "remaining_time": 12.82410439
           },
           {
            "iteration": 223,
            "passed_time": 3.387660374,
            "remaining_time": 12.80959079
           },
           {
            "iteration": 224,
            "passed_time": 3.401185464,
            "remaining_time": 12.78845734
           },
           {
            "iteration": 225,
            "passed_time": 3.416402596,
            "remaining_time": 12.77371767
           },
           {
            "iteration": 226,
            "passed_time": 3.431034011,
            "remaining_time": 12.75679606
           },
           {
            "iteration": 227,
            "passed_time": 3.446800337,
            "remaining_time": 12.74409072
           },
           {
            "iteration": 228,
            "passed_time": 3.461565955,
            "remaining_time": 12.72767919
           },
           {
            "iteration": 229,
            "passed_time": 3.47623985,
            "remaining_time": 12.71094658
           },
           {
            "iteration": 230,
            "passed_time": 3.490407856,
            "remaining_time": 12.6923922
           },
           {
            "iteration": 231,
            "passed_time": 3.50580174,
            "remaining_time": 12.67830888
           },
           {
            "iteration": 232,
            "passed_time": 3.521398731,
            "remaining_time": 12.66494479
           },
           {
            "iteration": 233,
            "passed_time": 3.536589008,
            "remaining_time": 12.65010684
           },
           {
            "iteration": 234,
            "passed_time": 3.551610744,
            "remaining_time": 12.63466631
           },
           {
            "iteration": 235,
            "passed_time": 3.566790858,
            "remaining_time": 12.61978969
           },
           {
            "iteration": 236,
            "passed_time": 3.582267562,
            "remaining_time": 12.6059542
           },
           {
            "iteration": 237,
            "passed_time": 3.597313272,
            "remaining_time": 12.59059645
           },
           {
            "iteration": 238,
            "passed_time": 3.611891969,
            "remaining_time": 12.57361556
           },
           {
            "iteration": 239,
            "passed_time": 3.626460114,
            "remaining_time": 12.55661814
           },
           {
            "iteration": 240,
            "passed_time": 3.641658398,
            "remaining_time": 12.54181108
           },
           {
            "iteration": 241,
            "passed_time": 3.656517179,
            "remaining_time": 12.52583778
           },
           {
            "iteration": 242,
            "passed_time": 3.67127936,
            "remaining_time": 12.50954448
           },
           {
            "iteration": 243,
            "passed_time": 3.685989236,
            "remaining_time": 12.49308647
           },
           {
            "iteration": 244,
            "passed_time": 3.701460857,
            "remaining_time": 12.47921089
           },
           {
            "iteration": 245,
            "passed_time": 3.716263008,
            "remaining_time": 12.46307716
           },
           {
            "iteration": 246,
            "passed_time": 3.731734928,
            "remaining_time": 12.44918859
           },
           {
            "iteration": 247,
            "passed_time": 3.746805501,
            "remaining_time": 12.43395535
           },
           {
            "iteration": 248,
            "passed_time": 3.761415627,
            "remaining_time": 12.4172034
           },
           {
            "iteration": 249,
            "passed_time": 3.776336461,
            "remaining_time": 12.40148894
           },
           {
            "iteration": 250,
            "passed_time": 3.790853354,
            "remaining_time": 12.38446116
           },
           {
            "iteration": 251,
            "passed_time": 3.805836435,
            "remaining_time": 12.36896841
           },
           {
            "iteration": 252,
            "passed_time": 3.821202116,
            "remaining_time": 12.35471672
           },
           {
            "iteration": 253,
            "passed_time": 3.835725208,
            "remaining_time": 12.33774604
           },
           {
            "iteration": 254,
            "passed_time": 3.849471597,
            "remaining_time": 12.31830911
           },
           {
            "iteration": 255,
            "passed_time": 3.863196171,
            "remaining_time": 12.29884718
           },
           {
            "iteration": 256,
            "passed_time": 3.878207158,
            "remaining_time": 12.28350438
           },
           {
            "iteration": 257,
            "passed_time": 3.892020929,
            "remaining_time": 12.26439153
           },
           {
            "iteration": 258,
            "passed_time": 3.907190263,
            "remaining_time": 12.24956947
           },
           {
            "iteration": 259,
            "passed_time": 3.92256967,
            "remaining_time": 12.23540001
           },
           {
            "iteration": 260,
            "passed_time": 3.936633867,
            "remaining_time": 12.21713959
           },
           {
            "iteration": 261,
            "passed_time": 3.951342276,
            "remaining_time": 12.20090039
           },
           {
            "iteration": 262,
            "passed_time": 3.965986408,
            "remaining_time": 12.18447535
           },
           {
            "iteration": 263,
            "passed_time": 3.98112501,
            "remaining_time": 12.16957531
           },
           {
            "iteration": 264,
            "passed_time": 3.995371916,
            "remaining_time": 12.15196138
           },
           {
            "iteration": 265,
            "passed_time": 4.010401275,
            "remaining_time": 12.1367407
           },
           {
            "iteration": 266,
            "passed_time": 4.02565969,
            "remaining_time": 12.1222112
           },
           {
            "iteration": 267,
            "passed_time": 4.041274809,
            "remaining_time": 12.10874504
           },
           {
            "iteration": 268,
            "passed_time": 4.056176443,
            "remaining_time": 12.09313571
           },
           {
            "iteration": 269,
            "passed_time": 4.071920774,
            "remaining_time": 12.08003163
           },
           {
            "iteration": 270,
            "passed_time": 4.086475835,
            "remaining_time": 12.0633973
           },
           {
            "iteration": 271,
            "passed_time": 4.10104473,
            "remaining_time": 12.0468189
           },
           {
            "iteration": 272,
            "passed_time": 4.115703188,
            "remaining_time": 12.03051701
           },
           {
            "iteration": 273,
            "passed_time": 4.130096226,
            "remaining_time": 12.01345508
           },
           {
            "iteration": 274,
            "passed_time": 4.144748377,
            "remaining_time": 11.99716257
           },
           {
            "iteration": 275,
            "passed_time": 4.158969682,
            "remaining_time": 11.97964093
           },
           {
            "iteration": 276,
            "passed_time": 4.17422876,
            "remaining_time": 11.96511782
           },
           {
            "iteration": 277,
            "passed_time": 4.1894695,
            "remaining_time": 11.9505371
           },
           {
            "iteration": 278,
            "passed_time": 4.204355822,
            "remaining_time": 11.93494556
           },
           {
            "iteration": 279,
            "passed_time": 4.219691764,
            "remaining_time": 11.92062923
           },
           {
            "iteration": 280,
            "passed_time": 4.234522007,
            "remaining_time": 11.90488393
           },
           {
            "iteration": 281,
            "passed_time": 4.249102604,
            "remaining_time": 11.88844665
           },
           {
            "iteration": 282,
            "passed_time": 4.263362014,
            "remaining_time": 11.87112815
           },
           {
            "iteration": 283,
            "passed_time": 4.278352451,
            "remaining_time": 11.85585697
           },
           {
            "iteration": 284,
            "passed_time": 4.293683216,
            "remaining_time": 11.84152634
           },
           {
            "iteration": 285,
            "passed_time": 4.308319426,
            "remaining_time": 11.82528234
           },
           {
            "iteration": 286,
            "passed_time": 4.322397972,
            "remaining_time": 11.80752617
           },
           {
            "iteration": 287,
            "passed_time": 4.338117218,
            "remaining_time": 11.79425619
           },
           {
            "iteration": 288,
            "passed_time": 4.353103866,
            "remaining_time": 11.77898693
           },
           {
            "iteration": 289,
            "passed_time": 4.366535369,
            "remaining_time": 11.75953146
           },
           {
            "iteration": 290,
            "passed_time": 4.38032085,
            "remaining_time": 11.7410662
           },
           {
            "iteration": 291,
            "passed_time": 4.394757717,
            "remaining_time": 11.72437076
           },
           {
            "iteration": 292,
            "passed_time": 4.408370988,
            "remaining_time": 11.70550385
           },
           {
            "iteration": 293,
            "passed_time": 4.423107071,
            "remaining_time": 11.68964012
           },
           {
            "iteration": 294,
            "passed_time": 4.437733773,
            "remaining_time": 11.6734963
           },
           {
            "iteration": 295,
            "passed_time": 4.453085479,
            "remaining_time": 11.65926097
           },
           {
            "iteration": 296,
            "passed_time": 4.468225647,
            "remaining_time": 11.64446684
           },
           {
            "iteration": 297,
            "passed_time": 4.483647532,
            "remaining_time": 11.63040115
           },
           {
            "iteration": 298,
            "passed_time": 4.498587682,
            "remaining_time": 11.61508258
           },
           {
            "iteration": 299,
            "passed_time": 4.513695093,
            "remaining_time": 11.60019639
           },
           {
            "iteration": 300,
            "passed_time": 4.528475375,
            "remaining_time": 11.58447189
           },
           {
            "iteration": 301,
            "passed_time": 4.543607225,
            "remaining_time": 11.56964886
           },
           {
            "iteration": 302,
            "passed_time": 4.558547583,
            "remaining_time": 11.55433843
           },
           {
            "iteration": 303,
            "passed_time": 4.573516604,
            "remaining_time": 11.53910275
           },
           {
            "iteration": 304,
            "passed_time": 4.588612349,
            "remaining_time": 11.52418708
           },
           {
            "iteration": 305,
            "passed_time": 4.603439726,
            "remaining_time": 11.50859931
           },
           {
            "iteration": 306,
            "passed_time": 4.618985031,
            "remaining_time": 11.49480314
           },
           {
            "iteration": 307,
            "passed_time": 4.632649213,
            "remaining_time": 11.47633555
           },
           {
            "iteration": 308,
            "passed_time": 4.647247084,
            "remaining_time": 11.46020155
           },
           {
            "iteration": 309,
            "passed_time": 4.662020053,
            "remaining_time": 11.44450729
           },
           {
            "iteration": 310,
            "passed_time": 4.676813073,
            "remaining_time": 11.42886796
           },
           {
            "iteration": 311,
            "passed_time": 4.690639313,
            "remaining_time": 11.41088217
           },
           {
            "iteration": 312,
            "passed_time": 4.705682383,
            "remaining_time": 11.3958698
           },
           {
            "iteration": 313,
            "passed_time": 4.720348878,
            "remaining_time": 11.37994937
           },
           {
            "iteration": 314,
            "passed_time": 4.735319931,
            "remaining_time": 11.36476783
           },
           {
            "iteration": 315,
            "passed_time": 4.749992834,
            "remaining_time": 11.34887528
           },
           {
            "iteration": 316,
            "passed_time": 4.765129582,
            "remaining_time": 11.33409371
           },
           {
            "iteration": 317,
            "passed_time": 4.779268553,
            "remaining_time": 11.31694723
           },
           {
            "iteration": 318,
            "passed_time": 4.793188466,
            "remaining_time": 11.29930322
           },
           {
            "iteration": 319,
            "passed_time": 4.807840542,
            "remaining_time": 11.28340077
           },
           {
            "iteration": 320,
            "passed_time": 4.822061502,
            "remaining_time": 11.26649884
           },
           {
            "iteration": 321,
            "passed_time": 4.836859178,
            "remaining_time": 11.25095505
           },
           {
            "iteration": 322,
            "passed_time": 4.851944202,
            "remaining_time": 11.23608131
           },
           {
            "iteration": 323,
            "passed_time": 4.866924146,
            "remaining_time": 11.220964
           },
           {
            "iteration": 324,
            "passed_time": 4.881684237,
            "remaining_time": 11.20534289
           },
           {
            "iteration": 325,
            "passed_time": 4.896482216,
            "remaining_time": 11.18981365
           },
           {
            "iteration": 326,
            "passed_time": 4.911386904,
            "remaining_time": 11.17453167
           },
           {
            "iteration": 327,
            "passed_time": 4.925294131,
            "remaining_time": 11.1569925
           },
           {
            "iteration": 328,
            "passed_time": 4.940142611,
            "remaining_time": 11.14159823
           },
           {
            "iteration": 329,
            "passed_time": 4.955500871,
            "remaining_time": 11.12735196
           },
           {
            "iteration": 330,
            "passed_time": 4.969419142,
            "remaining_time": 11.10987965
           },
           {
            "iteration": 331,
            "passed_time": 4.985881018,
            "remaining_time": 11.09809058
           },
           {
            "iteration": 332,
            "passed_time": 5.002003139,
            "remaining_time": 11.08552047
           },
           {
            "iteration": 333,
            "passed_time": 5.01687365,
            "remaining_time": 11.07016731
           },
           {
            "iteration": 334,
            "passed_time": 5.031261377,
            "remaining_time": 11.05375634
           },
           {
            "iteration": 335,
            "passed_time": 5.046098991,
            "remaining_time": 11.03834154
           },
           {
            "iteration": 336,
            "passed_time": 5.06063143,
            "remaining_time": 11.02226549
           },
           {
            "iteration": 337,
            "passed_time": 5.076026607,
            "remaining_time": 11.00806953
           },
           {
            "iteration": 338,
            "passed_time": 5.09139906,
            "remaining_time": 10.99381744
           },
           {
            "iteration": 339,
            "passed_time": 5.106323264,
            "remaining_time": 10.97859502
           },
           {
            "iteration": 340,
            "passed_time": 5.121014048,
            "remaining_time": 10.96287465
           },
           {
            "iteration": 341,
            "passed_time": 5.135451333,
            "remaining_time": 10.94661995
           },
           {
            "iteration": 342,
            "passed_time": 5.150635491,
            "remaining_time": 10.93196104
           },
           {
            "iteration": 343,
            "passed_time": 5.164978133,
            "remaining_time": 10.91552065
           },
           {
            "iteration": 344,
            "passed_time": 5.180434536,
            "remaining_time": 10.90143615
           },
           {
            "iteration": 345,
            "passed_time": 5.194766775,
            "remaining_time": 10.88498818
           },
           {
            "iteration": 346,
            "passed_time": 5.209682179,
            "remaining_time": 10.86976916
           },
           {
            "iteration": 347,
            "passed_time": 5.22524593,
            "remaining_time": 10.85589887
           },
           {
            "iteration": 348,
            "passed_time": 5.240115916,
            "remaining_time": 10.84058364
           },
           {
            "iteration": 349,
            "passed_time": 5.25505885,
            "remaining_time": 10.82542123
           },
           {
            "iteration": 350,
            "passed_time": 5.270453471,
            "remaining_time": 10.81118661
           },
           {
            "iteration": 351,
            "passed_time": 5.285398926,
            "remaining_time": 10.79602792
           },
           {
            "iteration": 352,
            "passed_time": 5.300169065,
            "remaining_time": 10.78051385
           },
           {
            "iteration": 353,
            "passed_time": 5.315611061,
            "remaining_time": 10.76636478
           },
           {
            "iteration": 354,
            "passed_time": 5.330069926,
            "remaining_time": 10.75022554
           },
           {
            "iteration": 355,
            "passed_time": 5.345050481,
            "remaining_time": 10.73514352
           },
           {
            "iteration": 356,
            "passed_time": 5.359698491,
            "remaining_time": 10.71939698
           },
           {
            "iteration": 357,
            "passed_time": 5.374324271,
            "remaining_time": 10.7036123
           },
           {
            "iteration": 358,
            "passed_time": 5.38936801,
            "remaining_time": 10.68866302
           },
           {
            "iteration": 359,
            "passed_time": 5.403058632,
            "remaining_time": 10.6710408
           },
           {
            "iteration": 360,
            "passed_time": 5.41774195,
            "remaining_time": 10.65539275
           },
           {
            "iteration": 361,
            "passed_time": 5.431632748,
            "remaining_time": 10.63819784
           },
           {
            "iteration": 362,
            "passed_time": 5.445766648,
            "remaining_time": 10.62149528
           },
           {
            "iteration": 363,
            "passed_time": 5.461039638,
            "remaining_time": 10.6070193
           },
           {
            "iteration": 364,
            "passed_time": 5.475644691,
            "remaining_time": 10.59124699
           },
           {
            "iteration": 365,
            "passed_time": 5.49116363,
            "remaining_time": 10.57724142
           },
           {
            "iteration": 366,
            "passed_time": 5.505468896,
            "remaining_time": 10.56089946
           },
           {
            "iteration": 367,
            "passed_time": 5.520064081,
            "remaining_time": 10.54512241
           },
           {
            "iteration": 368,
            "passed_time": 5.534824197,
            "remaining_time": 10.52966555
           },
           {
            "iteration": 369,
            "passed_time": 5.550244522,
            "remaining_time": 10.51546327
           },
           {
            "iteration": 370,
            "passed_time": 5.565036445,
            "remaining_time": 10.50006876
           },
           {
            "iteration": 371,
            "passed_time": 5.580096097,
            "remaining_time": 10.48518057
           },
           {
            "iteration": 372,
            "passed_time": 5.594441458,
            "remaining_time": 10.46895479
           },
           {
            "iteration": 373,
            "passed_time": 5.609475291,
            "remaining_time": 10.45402213
           },
           {
            "iteration": 374,
            "passed_time": 5.623703079,
            "remaining_time": 10.43759291
           },
           {
            "iteration": 375,
            "passed_time": 5.638776256,
            "remaining_time": 10.42273803
           },
           {
            "iteration": 376,
            "passed_time": 5.653418654,
            "remaining_time": 10.40708898
           },
           {
            "iteration": 377,
            "passed_time": 5.667724674,
            "remaining_time": 10.39082857
           },
           {
            "iteration": 378,
            "passed_time": 5.682542245,
            "remaining_time": 10.37551249
           },
           {
            "iteration": 379,
            "passed_time": 5.698345241,
            "remaining_time": 10.36199095
           },
           {
            "iteration": 380,
            "passed_time": 5.712789095,
            "remaining_time": 10.345996
           },
           {
            "iteration": 381,
            "passed_time": 5.727364833,
            "remaining_time": 10.33024704
           },
           {
            "iteration": 382,
            "passed_time": 5.740931698,
            "remaining_time": 10.31269193
           },
           {
            "iteration": 383,
            "passed_time": 5.756355444,
            "remaining_time": 10.29847966
           },
           {
            "iteration": 384,
            "passed_time": 5.771388492,
            "remaining_time": 10.28356495
           },
           {
            "iteration": 385,
            "passed_time": 5.785858227,
            "remaining_time": 10.26764996
           },
           {
            "iteration": 386,
            "passed_time": 5.800315998,
            "remaining_time": 10.2517213
           },
           {
            "iteration": 387,
            "passed_time": 5.815592294,
            "remaining_time": 10.23724108
           },
           {
            "iteration": 388,
            "passed_time": 5.829774251,
            "remaining_time": 10.22083815
           },
           {
            "iteration": 389,
            "passed_time": 5.843892765,
            "remaining_time": 10.20433583
           },
           {
            "iteration": 390,
            "passed_time": 5.858670366,
            "remaining_time": 10.18899194
           },
           {
            "iteration": 391,
            "passed_time": 5.873112564,
            "remaining_time": 10.17306998
           },
           {
            "iteration": 392,
            "passed_time": 5.886854505,
            "remaining_time": 10.15594747
           },
           {
            "iteration": 393,
            "passed_time": 5.90160421,
            "remaining_time": 10.14057373
           },
           {
            "iteration": 394,
            "passed_time": 5.916083865,
            "remaining_time": 10.12474099
           },
           {
            "iteration": 395,
            "passed_time": 5.930555114,
            "remaining_time": 10.10890076
           },
           {
            "iteration": 396,
            "passed_time": 5.94499325,
            "remaining_time": 10.09301121
           },
           {
            "iteration": 397,
            "passed_time": 5.960428861,
            "remaining_time": 10.07881564
           },
           {
            "iteration": 398,
            "passed_time": 5.975759509,
            "remaining_time": 10.06443707
           },
           {
            "iteration": 399,
            "passed_time": 5.990440567,
            "remaining_time": 10.04896405
           },
           {
            "iteration": 400,
            "passed_time": 6.004911082,
            "remaining_time": 10.0331432
           },
           {
            "iteration": 401,
            "passed_time": 6.020165554,
            "remaining_time": 10.01863372
           },
           {
            "iteration": 402,
            "passed_time": 6.035338865,
            "remaining_time": 10.00398601
           },
           {
            "iteration": 403,
            "passed_time": 6.049226672,
            "remaining_time": 9.987213342
           },
           {
            "iteration": 404,
            "passed_time": 6.063402943,
            "remaining_time": 9.970929285
           },
           {
            "iteration": 405,
            "passed_time": 6.077496554,
            "remaining_time": 9.954520217
           },
           {
            "iteration": 406,
            "passed_time": 6.092644229,
            "remaining_time": 9.939842183
           },
           {
            "iteration": 407,
            "passed_time": 6.106612038,
            "remaining_time": 9.923244562
           },
           {
            "iteration": 408,
            "passed_time": 6.120467285,
            "remaining_time": 9.906477611
           },
           {
            "iteration": 409,
            "passed_time": 6.135309525,
            "remaining_time": 9.891316087
           },
           {
            "iteration": 410,
            "passed_time": 6.1507754,
            "remaining_time": 9.877157576
           },
           {
            "iteration": 411,
            "passed_time": 6.166111423,
            "remaining_time": 9.862785019
           },
           {
            "iteration": 412,
            "passed_time": 6.181357508,
            "remaining_time": 9.848264504
           },
           {
            "iteration": 413,
            "passed_time": 6.196187996,
            "remaining_time": 9.83308095
           },
           {
            "iteration": 414,
            "passed_time": 6.210063437,
            "remaining_time": 9.816389434
           },
           {
            "iteration": 415,
            "passed_time": 6.2256955,
            "remaining_time": 9.802477289
           },
           {
            "iteration": 416,
            "passed_time": 6.240197483,
            "remaining_time": 9.786784541
           },
           {
            "iteration": 417,
            "passed_time": 6.254924054,
            "remaining_time": 9.771448342
           },
           {
            "iteration": 418,
            "passed_time": 6.270489012,
            "remaining_time": 9.757419655
           },
           {
            "iteration": 419,
            "passed_time": 6.28488795,
            "remaining_time": 9.741576323
           },
           {
            "iteration": 420,
            "passed_time": 6.299501106,
            "remaining_time": 9.726070591
           },
           {
            "iteration": 421,
            "passed_time": 6.314362572,
            "remaining_time": 9.710950969
           },
           {
            "iteration": 422,
            "passed_time": 6.328188184,
            "remaining_time": 9.694245729
           },
           {
            "iteration": 423,
            "passed_time": 6.341770424,
            "remaining_time": 9.677182699
           },
           {
            "iteration": 424,
            "passed_time": 6.356610047,
            "remaining_time": 9.662047271
           },
           {
            "iteration": 425,
            "passed_time": 6.371284281,
            "remaining_time": 9.64666282
           },
           {
            "iteration": 426,
            "passed_time": 6.385497594,
            "remaining_time": 9.630586536
           },
           {
            "iteration": 427,
            "passed_time": 6.400530047,
            "remaining_time": 9.61574958
           },
           {
            "iteration": 428,
            "passed_time": 6.414571222,
            "remaining_time": 9.599428262
           },
           {
            "iteration": 429,
            "passed_time": 6.428594198,
            "remaining_time": 9.58309042
           },
           {
            "iteration": 430,
            "passed_time": 6.442746221,
            "remaining_time": 9.566954945
           },
           {
            "iteration": 431,
            "passed_time": 6.457677209,
            "remaining_time": 9.551980871
           },
           {
            "iteration": 432,
            "passed_time": 6.473869835,
            "remaining_time": 9.538865946
           },
           {
            "iteration": 433,
            "passed_time": 6.488584854,
            "remaining_time": 9.523568092
           },
           {
            "iteration": 434,
            "passed_time": 6.502892564,
            "remaining_time": 9.507677405
           },
           {
            "iteration": 435,
            "passed_time": 6.517622562,
            "remaining_time": 9.492409007
           },
           {
            "iteration": 436,
            "passed_time": 6.532710717,
            "remaining_time": 9.477662688
           },
           {
            "iteration": 437,
            "passed_time": 6.547702608,
            "remaining_time": 9.462775687
           },
           {
            "iteration": 438,
            "passed_time": 6.562837758,
            "remaining_time": 9.448094449
           },
           {
            "iteration": 439,
            "passed_time": 6.577482237,
            "remaining_time": 9.432707481
           },
           {
            "iteration": 440,
            "passed_time": 6.591892021,
            "remaining_time": 9.416988601
           },
           {
            "iteration": 441,
            "passed_time": 6.607240168,
            "remaining_time": 9.402611008
           },
           {
            "iteration": 442,
            "passed_time": 6.622411548,
            "remaining_time": 9.387978448
           },
           {
            "iteration": 443,
            "passed_time": 6.636965707,
            "remaining_time": 9.372471843
           },
           {
            "iteration": 444,
            "passed_time": 6.65097728,
            "remaining_time": 9.356206241
           },
           {
            "iteration": 445,
            "passed_time": 6.665801023,
            "remaining_time": 9.341088878
           },
           {
            "iteration": 446,
            "passed_time": 6.680526728,
            "remaining_time": 9.32583597
           },
           {
            "iteration": 447,
            "passed_time": 6.695120837,
            "remaining_time": 9.310402415
           },
           {
            "iteration": 448,
            "passed_time": 6.709799863,
            "remaining_time": 9.295090233
           },
           {
            "iteration": 449,
            "passed_time": 6.724345392,
            "remaining_time": 9.279596641
           },
           {
            "iteration": 450,
            "passed_time": 6.73896409,
            "remaining_time": 9.26420784
           },
           {
            "iteration": 451,
            "passed_time": 6.752843084,
            "remaining_time": 9.247809445
           },
           {
            "iteration": 452,
            "passed_time": 6.767339714,
            "remaining_time": 9.232264776
           },
           {
            "iteration": 453,
            "passed_time": 6.782383474,
            "remaining_time": 9.21746829
           },
           {
            "iteration": 454,
            "passed_time": 6.798072117,
            "remaining_time": 9.203543789
           },
           {
            "iteration": 455,
            "passed_time": 6.81250925,
            "remaining_time": 9.187923659
           },
           {
            "iteration": 456,
            "passed_time": 6.827252971,
            "remaining_time": 9.172720621
           },
           {
            "iteration": 457,
            "passed_time": 6.841384618,
            "remaining_time": 9.156700372
           },
           {
            "iteration": 458,
            "passed_time": 6.85617647,
            "remaining_time": 9.141568627
           },
           {
            "iteration": 459,
            "passed_time": 6.86995092,
            "remaining_time": 9.125086983
           },
           {
            "iteration": 460,
            "passed_time": 6.884805143,
            "remaining_time": 9.11004585
           },
           {
            "iteration": 461,
            "passed_time": 6.898235913,
            "remaining_time": 9.093129158
           },
           {
            "iteration": 462,
            "passed_time": 6.913449632,
            "remaining_time": 9.078568847
           },
           {
            "iteration": 463,
            "passed_time": 6.928382333,
            "remaining_time": 9.063638096
           },
           {
            "iteration": 464,
            "passed_time": 6.943249753,
            "remaining_time": 9.048622258
           },
           {
            "iteration": 465,
            "passed_time": 6.957340135,
            "remaining_time": 9.032598244
           },
           {
            "iteration": 466,
            "passed_time": 6.972271722,
            "remaining_time": 9.017670493
           },
           {
            "iteration": 467,
            "passed_time": 6.986449717,
            "remaining_time": 9.001771751
           },
           {
            "iteration": 468,
            "passed_time": 7.000869075,
            "remaining_time": 8.986190156
           },
           {
            "iteration": 469,
            "passed_time": 7.015224861,
            "remaining_time": 8.970532216
           },
           {
            "iteration": 470,
            "passed_time": 7.030731733,
            "remaining_time": 8.956346157
           },
           {
            "iteration": 471,
            "passed_time": 7.046272854,
            "remaining_time": 8.942197965
           },
           {
            "iteration": 472,
            "passed_time": 7.060703291,
            "remaining_time": 8.926639678
           },
           {
            "iteration": 473,
            "passed_time": 7.074621525,
            "remaining_time": 8.910441034
           },
           {
            "iteration": 474,
            "passed_time": 7.089817025,
            "remaining_time": 8.895854626
           },
           {
            "iteration": 475,
            "passed_time": 7.105483494,
            "remaining_time": 8.881854367
           },
           {
            "iteration": 476,
            "passed_time": 7.120487775,
            "remaining_time": 8.867022512
           },
           {
            "iteration": 477,
            "passed_time": 7.135163442,
            "remaining_time": 8.851782262
           },
           {
            "iteration": 478,
            "passed_time": 7.149497154,
            "remaining_time": 8.836121744
           },
           {
            "iteration": 479,
            "passed_time": 7.164553821,
            "remaining_time": 8.821356892
           },
           {
            "iteration": 480,
            "passed_time": 7.179813194,
            "remaining_time": 8.806839469
           },
           {
            "iteration": 481,
            "passed_time": 7.194874344,
            "remaining_time": 8.79207674
           },
           {
            "iteration": 482,
            "passed_time": 7.20997593,
            "remaining_time": 8.777362002
           },
           {
            "iteration": 483,
            "passed_time": 7.224059674,
            "remaining_time": 8.761411216
           },
           {
            "iteration": 484,
            "passed_time": 7.238316894,
            "remaining_time": 8.745677732
           },
           {
            "iteration": 485,
            "passed_time": 7.253626545,
            "remaining_time": 8.731217137
           },
           {
            "iteration": 486,
            "passed_time": 7.268315928,
            "remaining_time": 8.716009244
           },
           {
            "iteration": 487,
            "passed_time": 7.283148766,
            "remaining_time": 8.700974858
           },
           {
            "iteration": 488,
            "passed_time": 7.298586143,
            "remaining_time": 8.686660808
           },
           {
            "iteration": 489,
            "passed_time": 7.313881907,
            "remaining_time": 8.672174261
           },
           {
            "iteration": 490,
            "passed_time": 7.329008581,
            "remaining_time": 8.657484678
           },
           {
            "iteration": 491,
            "passed_time": 7.344397189,
            "remaining_time": 8.64310157
           },
           {
            "iteration": 492,
            "passed_time": 7.359327901,
            "remaining_time": 8.628177539
           },
           {
            "iteration": 493,
            "passed_time": 7.374676965,
            "remaining_time": 8.613742123
           },
           {
            "iteration": 494,
            "passed_time": 7.389705675,
            "remaining_time": 8.59893024
           },
           {
            "iteration": 495,
            "passed_time": 7.404776153,
            "remaining_time": 8.584165904
           },
           {
            "iteration": 496,
            "passed_time": 7.420070968,
            "remaining_time": 8.569659428
           },
           {
            "iteration": 497,
            "passed_time": 7.435157939,
            "remaining_time": 8.55491064
           },
           {
            "iteration": 498,
            "passed_time": 7.449319609,
            "remaining_time": 8.539099833
           },
           {
            "iteration": 499,
            "passed_time": 7.46393327,
            "remaining_time": 8.523811794
           },
           {
            "iteration": 500,
            "passed_time": 7.479389237,
            "remaining_time": 8.50948476
           },
           {
            "iteration": 501,
            "passed_time": 7.494004767,
            "remaining_time": 8.494200623
           },
           {
            "iteration": 502,
            "passed_time": 7.508334706,
            "remaining_time": 8.478596646
           },
           {
            "iteration": 503,
            "passed_time": 7.522519755,
            "remaining_time": 8.462834724
           },
           {
            "iteration": 504,
            "passed_time": 7.53738435,
            "remaining_time": 8.447840677
           },
           {
            "iteration": 505,
            "passed_time": 7.55184151,
            "remaining_time": 8.4323922
           },
           {
            "iteration": 506,
            "passed_time": 7.565766533,
            "remaining_time": 8.416355669
           },
           {
            "iteration": 507,
            "passed_time": 7.579983567,
            "remaining_time": 8.40065108
           },
           {
            "iteration": 508,
            "passed_time": 7.595067283,
            "remaining_time": 8.385909259
           },
           {
            "iteration": 509,
            "passed_time": 7.610778487,
            "remaining_time": 8.371856336
           },
           {
            "iteration": 510,
            "passed_time": 7.624924014,
            "remaining_time": 8.356081111
           },
           {
            "iteration": 511,
            "passed_time": 7.640132458,
            "remaining_time": 8.341472742
           },
           {
            "iteration": 512,
            "passed_time": 7.655300227,
            "remaining_time": 8.326817791
           },
           {
            "iteration": 513,
            "passed_time": 7.670361402,
            "remaining_time": 8.312045333
           },
           {
            "iteration": 514,
            "passed_time": 7.686129273,
            "remaining_time": 8.29803471
           },
           {
            "iteration": 515,
            "passed_time": 7.701337228,
            "remaining_time": 8.283415041
           },
           {
            "iteration": 516,
            "passed_time": 7.716077113,
            "remaining_time": 8.268291529
           },
           {
            "iteration": 517,
            "passed_time": 7.730468323,
            "remaining_time": 8.252797264
           },
           {
            "iteration": 518,
            "passed_time": 7.746203965,
            "remaining_time": 8.238737166
           },
           {
            "iteration": 519,
            "passed_time": 7.760737331,
            "remaining_time": 8.223396672
           },
           {
            "iteration": 520,
            "passed_time": 7.776104218,
            "remaining_time": 8.208939194
           },
           {
            "iteration": 521,
            "passed_time": 7.791133938,
            "remaining_time": 8.194123624
           },
           {
            "iteration": 522,
            "passed_time": 7.806056416,
            "remaining_time": 8.179194868
           },
           {
            "iteration": 523,
            "passed_time": 7.820451774,
            "remaining_time": 8.163715878
           },
           {
            "iteration": 524,
            "passed_time": 7.835677352,
            "remaining_time": 8.149104446
           },
           {
            "iteration": 525,
            "passed_time": 7.851066895,
            "remaining_time": 8.134660567
           },
           {
            "iteration": 526,
            "passed_time": 7.865916239,
            "remaining_time": 8.119655473
           },
           {
            "iteration": 527,
            "passed_time": 7.880770856,
            "remaining_time": 8.104656391
           },
           {
            "iteration": 528,
            "passed_time": 7.89584428,
            "remaining_time": 8.089882041
           },
           {
            "iteration": 529,
            "passed_time": 7.910882614,
            "remaining_time": 8.075070743
           },
           {
            "iteration": 530,
            "passed_time": 7.925871137,
            "remaining_time": 8.060207936
           },
           {
            "iteration": 531,
            "passed_time": 7.941134663,
            "remaining_time": 8.045623277
           },
           {
            "iteration": 532,
            "passed_time": 7.955507655,
            "remaining_time": 8.030137183
           },
           {
            "iteration": 533,
            "passed_time": 7.970127243,
            "remaining_time": 8.014903239
           },
           {
            "iteration": 534,
            "passed_time": 7.984735053,
            "remaining_time": 7.999659791
           },
           {
            "iteration": 535,
            "passed_time": 7.998969078,
            "remaining_time": 7.984045629
           },
           {
            "iteration": 536,
            "passed_time": 8.013426763,
            "remaining_time": 7.968659016
           },
           {
            "iteration": 537,
            "passed_time": 8.028188095,
            "remaining_time": 7.953576682
           },
           {
            "iteration": 538,
            "passed_time": 8.043175919,
            "remaining_time": 7.938719089
           },
           {
            "iteration": 539,
            "passed_time": 8.057264561,
            "remaining_time": 7.922976818
           },
           {
            "iteration": 540,
            "passed_time": 8.071071175,
            "remaining_time": 7.906964368
           },
           {
            "iteration": 541,
            "passed_time": 8.085964068,
            "remaining_time": 7.892020281
           },
           {
            "iteration": 542,
            "passed_time": 8.101400904,
            "remaining_time": 7.877605299
           },
           {
            "iteration": 543,
            "passed_time": 8.11628388,
            "remaining_time": 7.862650009
           },
           {
            "iteration": 544,
            "passed_time": 8.130364607,
            "remaining_time": 7.846920704
           },
           {
            "iteration": 545,
            "passed_time": 8.144681377,
            "remaining_time": 7.831424401
           },
           {
            "iteration": 546,
            "passed_time": 8.15972721,
            "remaining_time": 7.816630819
           },
           {
            "iteration": 547,
            "passed_time": 8.175362137,
            "remaining_time": 7.802398536
           },
           {
            "iteration": 548,
            "passed_time": 8.189505541,
            "remaining_time": 7.786742973
           },
           {
            "iteration": 549,
            "passed_time": 8.203517036,
            "remaining_time": 7.770967956
           },
           {
            "iteration": 550,
            "passed_time": 8.218157167,
            "remaining_time": 7.755792608
           },
           {
            "iteration": 551,
            "passed_time": 8.233547096,
            "remaining_time": 7.741324172
           },
           {
            "iteration": 552,
            "passed_time": 8.248079659,
            "remaining_time": 7.726049301
           },
           {
            "iteration": 553,
            "passed_time": 8.261647149,
            "remaining_time": 7.709876491
           },
           {
            "iteration": 554,
            "passed_time": 8.275941897,
            "remaining_time": 7.694389223
           },
           {
            "iteration": 555,
            "passed_time": 8.290505085,
            "remaining_time": 7.67915489
           },
           {
            "iteration": 556,
            "passed_time": 8.304523016,
            "remaining_time": 7.663419803
           },
           {
            "iteration": 557,
            "passed_time": 8.319968839,
            "remaining_time": 7.64900361
           },
           {
            "iteration": 558,
            "passed_time": 8.335247749,
            "remaining_time": 7.634430854
           },
           {
            "iteration": 559,
            "passed_time": 8.34930618,
            "remaining_time": 7.618741889
           },
           {
            "iteration": 560,
            "passed_time": 8.364242458,
            "remaining_time": 7.60385678
           },
           {
            "iteration": 561,
            "passed_time": 8.378689974,
            "remaining_time": 7.58852882
           },
           {
            "iteration": 562,
            "passed_time": 8.392998779,
            "remaining_time": 7.573078827
           },
           {
            "iteration": 563,
            "passed_time": 8.407291749,
            "remaining_time": 7.557618646
           },
           {
            "iteration": 564,
            "passed_time": 8.4212103,
            "remaining_time": 7.541827278
           },
           {
            "iteration": 565,
            "passed_time": 8.435998678,
            "remaining_time": 7.526818609
           },
           {
            "iteration": 566,
            "passed_time": 8.450847273,
            "remaining_time": 7.511864243
           },
           {
            "iteration": 567,
            "passed_time": 8.465191809,
            "remaining_time": 7.496463874
           },
           {
            "iteration": 568,
            "passed_time": 8.480709096,
            "remaining_time": 7.482101874
           },
           {
            "iteration": 569,
            "passed_time": 8.494946084,
            "remaining_time": 7.466610506
           },
           {
            "iteration": 570,
            "passed_time": 8.50915248,
            "remaining_time": 7.451096743
           },
           {
            "iteration": 571,
            "passed_time": 8.52427105,
            "remaining_time": 7.436383311
           },
           {
            "iteration": 572,
            "passed_time": 8.539237723,
            "remaining_time": 7.421536451
           },
           {
            "iteration": 573,
            "passed_time": 8.554474894,
            "remaining_time": 7.406923384
           },
           {
            "iteration": 574,
            "passed_time": 8.569181115,
            "remaining_time": 7.391850144
           },
           {
            "iteration": 575,
            "passed_time": 8.583784225,
            "remaining_time": 7.376689568
           },
           {
            "iteration": 576,
            "passed_time": 8.597917095,
            "remaining_time": 7.361128327
           },
           {
            "iteration": 577,
            "passed_time": 8.612925775,
            "remaining_time": 7.346319044
           },
           {
            "iteration": 578,
            "passed_time": 8.62764047,
            "remaining_time": 7.331259259
           },
           {
            "iteration": 579,
            "passed_time": 8.642585849,
            "remaining_time": 7.316395952
           },
           {
            "iteration": 580,
            "passed_time": 8.657347883,
            "remaining_time": 7.301377733
           },
           {
            "iteration": 581,
            "passed_time": 8.671909813,
            "remaining_time": 7.286192266
           },
           {
            "iteration": 582,
            "passed_time": 8.687294899,
            "remaining_time": 7.27169796
           },
           {
            "iteration": 583,
            "passed_time": 8.701530352,
            "remaining_time": 7.25624192
           },
           {
            "iteration": 584,
            "passed_time": 8.715825702,
            "remaining_time": 7.240839814
           },
           {
            "iteration": 585,
            "passed_time": 8.731337195,
            "remaining_time": 7.22644802
           },
           {
            "iteration": 586,
            "passed_time": 8.746574911,
            "remaining_time": 7.211826672
           },
           {
            "iteration": 587,
            "passed_time": 8.761927566,
            "remaining_time": 7.197297644
           },
           {
            "iteration": 588,
            "passed_time": 8.776899964,
            "remaining_time": 7.182454639
           },
           {
            "iteration": 589,
            "passed_time": 8.791833314,
            "remaining_time": 7.167579362
           },
           {
            "iteration": 590,
            "passed_time": 8.806769139,
            "remaining_time": 7.1527059
           },
           {
            "iteration": 591,
            "passed_time": 8.820647368,
            "remaining_time": 7.136976502
           },
           {
            "iteration": 592,
            "passed_time": 8.836027371,
            "remaining_time": 7.122463884
           },
           {
            "iteration": 593,
            "passed_time": 8.851631684,
            "remaining_time": 7.108128474
           },
           {
            "iteration": 594,
            "passed_time": 8.866349121,
            "remaining_time": 7.093079297
           },
           {
            "iteration": 595,
            "passed_time": 8.882185651,
            "remaining_time": 7.078923128
           },
           {
            "iteration": 596,
            "passed_time": 8.897386861,
            "remaining_time": 7.064256904
           },
           {
            "iteration": 597,
            "passed_time": 8.912598596,
            "remaining_time": 7.049597217
           },
           {
            "iteration": 598,
            "passed_time": 8.927707829,
            "remaining_time": 7.034854917
           },
           {
            "iteration": 599,
            "passed_time": 8.942540507,
            "remaining_time": 7.019894298
           },
           {
            "iteration": 600,
            "passed_time": 8.957849135,
            "remaining_time": 7.005306312
           },
           {
            "iteration": 601,
            "passed_time": 8.972784213,
            "remaining_time": 6.99042491
           },
           {
            "iteration": 602,
            "passed_time": 8.987523286,
            "remaining_time": 6.975391207
           },
           {
            "iteration": 603,
            "passed_time": 9.002687559,
            "remaining_time": 6.960687235
           },
           {
            "iteration": 604,
            "passed_time": 9.017263965,
            "remaining_time": 6.945528938
           },
           {
            "iteration": 605,
            "passed_time": 9.031912158,
            "remaining_time": 6.930427646
           },
           {
            "iteration": 606,
            "passed_time": 9.047006159,
            "remaining_time": 6.915668629
           },
           {
            "iteration": 607,
            "passed_time": 9.062383938,
            "remaining_time": 6.901124611
           },
           {
            "iteration": 608,
            "passed_time": 9.076865291,
            "remaining_time": 6.885897807
           },
           {
            "iteration": 609,
            "passed_time": 9.091177158,
            "remaining_time": 6.87054536
           },
           {
            "iteration": 610,
            "passed_time": 9.105411304,
            "remaining_time": 6.855137807
           },
           {
            "iteration": 611,
            "passed_time": 9.119470436,
            "remaining_time": 6.839602827
           },
           {
            "iteration": 612,
            "passed_time": 9.133795619,
            "remaining_time": 6.824271441
           },
           {
            "iteration": 613,
            "passed_time": 9.148278228,
            "remaining_time": 6.809060506
           },
           {
            "iteration": 614,
            "passed_time": 9.163491918,
            "remaining_time": 6.794394007
           },
           {
            "iteration": 615,
            "passed_time": 9.177641182,
            "remaining_time": 6.77893951
           },
           {
            "iteration": 616,
            "passed_time": 9.191917187,
            "remaining_time": 6.763582501
           },
           {
            "iteration": 617,
            "passed_time": 9.206977486,
            "remaining_time": 6.748803886
           },
           {
            "iteration": 618,
            "passed_time": 9.22203994,
            "remaining_time": 6.734025934
           },
           {
            "iteration": 619,
            "passed_time": 9.236569674,
            "remaining_time": 6.718859553
           },
           {
            "iteration": 620,
            "passed_time": 9.251049888,
            "remaining_time": 6.703659339
           },
           {
            "iteration": 621,
            "passed_time": 9.266816263,
            "remaining_time": 6.689389874
           },
           {
            "iteration": 622,
            "passed_time": 9.281484184,
            "remaining_time": 6.674325705
           },
           {
            "iteration": 623,
            "passed_time": 9.296167446,
            "remaining_time": 6.659273796
           },
           {
            "iteration": 624,
            "passed_time": 9.311106549,
            "remaining_time": 6.644405633
           },
           {
            "iteration": 625,
            "passed_time": 9.325705087,
            "remaining_time": 6.629295149
           },
           {
            "iteration": 626,
            "passed_time": 9.339897735,
            "remaining_time": 6.613898875
           },
           {
            "iteration": 627,
            "passed_time": 9.354692968,
            "remaining_time": 6.598931504
           },
           {
            "iteration": 628,
            "passed_time": 9.369833705,
            "remaining_time": 6.584207469
           },
           {
            "iteration": 629,
            "passed_time": 9.384991737,
            "remaining_time": 6.569494216
           },
           {
            "iteration": 630,
            "passed_time": 9.398681645,
            "remaining_time": 6.553755822
           },
           {
            "iteration": 631,
            "passed_time": 9.413800707,
            "remaining_time": 6.539016631
           },
           {
            "iteration": 632,
            "passed_time": 9.428419692,
            "remaining_time": 6.523930213
           },
           {
            "iteration": 633,
            "passed_time": 9.443568841,
            "remaining_time": 6.5092107
           },
           {
            "iteration": 634,
            "passed_time": 9.458374561,
            "remaining_time": 6.494254029
           },
           {
            "iteration": 635,
            "passed_time": 9.473608703,
            "remaining_time": 6.479590858
           },
           {
            "iteration": 636,
            "passed_time": 9.489076294,
            "remaining_time": 6.465084948
           },
           {
            "iteration": 637,
            "passed_time": 9.504863488,
            "remaining_time": 6.450792931
           },
           {
            "iteration": 638,
            "passed_time": 9.519124505,
            "remaining_time": 6.435464454
           },
           {
            "iteration": 639,
            "passed_time": 9.534260358,
            "remaining_time": 6.42072846
           },
           {
            "iteration": 640,
            "passed_time": 9.548962076,
            "remaining_time": 6.405699988
           },
           {
            "iteration": 641,
            "passed_time": 9.564574997,
            "remaining_time": 6.391281423
           },
           {
            "iteration": 642,
            "passed_time": 9.579223328,
            "remaining_time": 6.376217083
           },
           {
            "iteration": 643,
            "passed_time": 9.594248751,
            "remaining_time": 6.361404063
           },
           {
            "iteration": 644,
            "passed_time": 9.609610308,
            "remaining_time": 6.34681239
           },
           {
            "iteration": 645,
            "passed_time": 9.624396009,
            "remaining_time": 6.331839479
           },
           {
            "iteration": 646,
            "passed_time": 9.639442057,
            "remaining_time": 6.317037762
           },
           {
            "iteration": 647,
            "passed_time": 9.653487508,
            "remaining_time": 6.301582123
           },
           {
            "iteration": 648,
            "passed_time": 9.668315358,
            "remaining_time": 6.28663957
           },
           {
            "iteration": 649,
            "passed_time": 9.683551798,
            "remaining_time": 6.271962011
           },
           {
            "iteration": 650,
            "passed_time": 9.698352379,
            "remaining_time": 6.257001535
           },
           {
            "iteration": 651,
            "passed_time": 9.712195081,
            "remaining_time": 6.24142598
           },
           {
            "iteration": 652,
            "passed_time": 9.726231065,
            "remaining_time": 6.225979457
           },
           {
            "iteration": 653,
            "passed_time": 9.741695028,
            "remaining_time": 6.211447747
           },
           {
            "iteration": 654,
            "passed_time": 9.755571087,
            "remaining_time": 6.19590469
           },
           {
            "iteration": 655,
            "passed_time": 9.769894892,
            "remaining_time": 6.18064997
           },
           {
            "iteration": 656,
            "passed_time": 9.783749573,
            "remaining_time": 6.165102471
           },
           {
            "iteration": 657,
            "passed_time": 9.79826311,
            "remaining_time": 6.149973654
           },
           {
            "iteration": 658,
            "passed_time": 9.812919889,
            "remaining_time": 6.134936258
           },
           {
            "iteration": 659,
            "passed_time": 9.826933234,
            "remaining_time": 6.119499332
           },
           {
            "iteration": 660,
            "passed_time": 9.841246882,
            "remaining_time": 6.104252983
           },
           {
            "iteration": 661,
            "passed_time": 9.856448946,
            "remaining_time": 6.089558337
           },
           {
            "iteration": 662,
            "passed_time": 9.871640704,
            "remaining_time": 6.074855818
           },
           {
            "iteration": 663,
            "passed_time": 9.886298984,
            "remaining_time": 6.059824829
           },
           {
            "iteration": 664,
            "passed_time": 9.901336664,
            "remaining_time": 6.045026595
           },
           {
            "iteration": 665,
            "passed_time": 9.915939542,
            "remaining_time": 6.029963235
           },
           {
            "iteration": 666,
            "passed_time": 9.931107911,
            "remaining_time": 6.015243772
           },
           {
            "iteration": 667,
            "passed_time": 9.945197805,
            "remaining_time": 5.999872328
           },
           {
            "iteration": 668,
            "passed_time": 9.959771695,
            "remaining_time": 5.984795548
           },
           {
            "iteration": 669,
            "passed_time": 9.975091083,
            "remaining_time": 5.970166454
           },
           {
            "iteration": 670,
            "passed_time": 9.990472441,
            "remaining_time": 5.955572245
           },
           {
            "iteration": 671,
            "passed_time": 10.00462639,
            "remaining_time": 5.940246917
           },
           {
            "iteration": 672,
            "passed_time": 10.01912645,
            "remaining_time": 5.92512976
           },
           {
            "iteration": 673,
            "passed_time": 10.03411501,
            "remaining_time": 5.910302164
           },
           {
            "iteration": 674,
            "passed_time": 10.04938492,
            "remaining_time": 5.89563915
           },
           {
            "iteration": 675,
            "passed_time": 10.06349441,
            "remaining_time": 5.880296291
           },
           {
            "iteration": 676,
            "passed_time": 10.07868529,
            "remaining_time": 5.865586417
           },
           {
            "iteration": 677,
            "passed_time": 10.09311084,
            "remaining_time": 5.850431504
           },
           {
            "iteration": 678,
            "passed_time": 10.10751648,
            "remaining_time": 5.835267246
           },
           {
            "iteration": 679,
            "passed_time": 10.12305861,
            "remaining_time": 5.820758702
           },
           {
            "iteration": 680,
            "passed_time": 10.13803916,
            "remaining_time": 5.805925509
           },
           {
            "iteration": 681,
            "passed_time": 10.15333951,
            "remaining_time": 5.791274293
           },
           {
            "iteration": 682,
            "passed_time": 10.16866223,
            "remaining_time": 5.776633886
           },
           {
            "iteration": 683,
            "passed_time": 10.18366474,
            "remaining_time": 5.761810314
           },
           {
            "iteration": 684,
            "passed_time": 10.1984785,
            "remaining_time": 5.746879856
           },
           {
            "iteration": 685,
            "passed_time": 10.2127621,
            "remaining_time": 5.731652199
           },
           {
            "iteration": 686,
            "passed_time": 10.22826754,
            "remaining_time": 5.717110242
           },
           {
            "iteration": 687,
            "passed_time": 10.24287521,
            "remaining_time": 5.702065703
           },
           {
            "iteration": 688,
            "passed_time": 10.2584513,
            "remaining_time": 5.687559357
           },
           {
            "iteration": 689,
            "passed_time": 10.27336506,
            "remaining_time": 5.672684183
           },
           {
            "iteration": 690,
            "passed_time": 10.28807843,
            "remaining_time": 5.657698703
           },
           {
            "iteration": 691,
            "passed_time": 10.30315377,
            "remaining_time": 5.642912252
           },
           {
            "iteration": 692,
            "passed_time": 10.31798256,
            "remaining_time": 5.627990488
           },
           {
            "iteration": 693,
            "passed_time": 10.33323507,
            "remaining_time": 5.613299166
           },
           {
            "iteration": 694,
            "passed_time": 10.34768077,
            "remaining_time": 5.598169741
           },
           {
            "iteration": 695,
            "passed_time": 10.36317993,
            "remaining_time": 5.583609874
           },
           {
            "iteration": 696,
            "passed_time": 10.37748854,
            "remaining_time": 5.568408484
           },
           {
            "iteration": 697,
            "passed_time": 10.39233434,
            "remaining_time": 5.553496719
           },
           {
            "iteration": 698,
            "passed_time": 10.40699957,
            "remaining_time": 5.538489042
           },
           {
            "iteration": 699,
            "passed_time": 10.42219338,
            "remaining_time": 5.523762494
           },
           {
            "iteration": 700,
            "passed_time": 10.43759197,
            "remaining_time": 5.509142694
           },
           {
            "iteration": 701,
            "passed_time": 10.45155781,
            "remaining_time": 5.493767567
           },
           {
            "iteration": 702,
            "passed_time": 10.46606384,
            "remaining_time": 5.478679223
           },
           {
            "iteration": 703,
            "passed_time": 10.48082459,
            "remaining_time": 5.46372532
           },
           {
            "iteration": 704,
            "passed_time": 10.49617279,
            "remaining_time": 5.449076936
           },
           {
            "iteration": 705,
            "passed_time": 10.51115321,
            "remaining_time": 5.434236435
           },
           {
            "iteration": 706,
            "passed_time": 10.52612312,
            "remaining_time": 5.41939012
           },
           {
            "iteration": 707,
            "passed_time": 10.54178551,
            "remaining_time": 5.404898504
           },
           {
            "iteration": 708,
            "passed_time": 10.55676842,
            "remaining_time": 5.390056653
           },
           {
            "iteration": 709,
            "passed_time": 10.57160185,
            "remaining_time": 5.375138403
           },
           {
            "iteration": 710,
            "passed_time": 10.58717022,
            "remaining_time": 5.360592516
           },
           {
            "iteration": 711,
            "passed_time": 10.60230333,
            "remaining_time": 5.345824294
           },
           {
            "iteration": 712,
            "passed_time": 10.61772918,
            "remaining_time": 5.33120203
           },
           {
            "iteration": 713,
            "passed_time": 10.63345164,
            "remaining_time": 5.316725819
           },
           {
            "iteration": 714,
            "passed_time": 10.64843946,
            "remaining_time": 5.301880346
           },
           {
            "iteration": 715,
            "passed_time": 10.66425549,
            "remaining_time": 5.287445108
           },
           {
            "iteration": 716,
            "passed_time": 10.67917072,
            "remaining_time": 5.272561276
           },
           {
            "iteration": 717,
            "passed_time": 10.69412425,
            "remaining_time": 5.257696186
           },
           {
            "iteration": 718,
            "passed_time": 10.70930397,
            "remaining_time": 5.242941584
           },
           {
            "iteration": 719,
            "passed_time": 10.72445381,
            "remaining_time": 5.228171231
           },
           {
            "iteration": 720,
            "passed_time": 10.74005419,
            "remaining_time": 5.213618537
           },
           {
            "iteration": 721,
            "passed_time": 10.75540395,
            "remaining_time": 5.1989418
           },
           {
            "iteration": 722,
            "passed_time": 10.77117332,
            "remaining_time": 5.184465166
           },
           {
            "iteration": 723,
            "passed_time": 10.78665882,
            "remaining_time": 5.16984891
           },
           {
            "iteration": 724,
            "passed_time": 10.80184044,
            "remaining_time": 5.15508523
           },
           {
            "iteration": 725,
            "passed_time": 10.81583355,
            "remaining_time": 5.139755612
           },
           {
            "iteration": 726,
            "passed_time": 10.83114397,
            "remaining_time": 5.125052993
           },
           {
            "iteration": 727,
            "passed_time": 10.84619183,
            "remaining_time": 5.110224998
           },
           {
            "iteration": 728,
            "passed_time": 10.86109088,
            "remaining_time": 5.095326588
           },
           {
            "iteration": 729,
            "passed_time": 10.87596571,
            "remaining_time": 5.08041686
           },
           {
            "iteration": 730,
            "passed_time": 10.89093536,
            "remaining_time": 5.065551332
           },
           {
            "iteration": 731,
            "passed_time": 10.9052538,
            "remaining_time": 5.050383933
           },
           {
            "iteration": 732,
            "passed_time": 10.91929974,
            "remaining_time": 5.035093195
           },
           {
            "iteration": 733,
            "passed_time": 10.93430647,
            "remaining_time": 5.020246974
           },
           {
            "iteration": 734,
            "passed_time": 10.94918332,
            "remaining_time": 5.005340947
           },
           {
            "iteration": 735,
            "passed_time": 10.96370762,
            "remaining_time": 4.99027453
           },
           {
            "iteration": 736,
            "passed_time": 10.97806798,
            "remaining_time": 4.975135286
           },
           {
            "iteration": 737,
            "passed_time": 10.99306592,
            "remaining_time": 4.960285844
           },
           {
            "iteration": 738,
            "passed_time": 11.00726957,
            "remaining_time": 4.945079157
           },
           {
            "iteration": 739,
            "passed_time": 11.02195734,
            "remaining_time": 4.930091729
           },
           {
            "iteration": 740,
            "passed_time": 11.03745725,
            "remaining_time": 4.91546679
           },
           {
            "iteration": 741,
            "passed_time": 11.05262341,
            "remaining_time": 4.90069151
           },
           {
            "iteration": 742,
            "passed_time": 11.06756382,
            "remaining_time": 4.885815521
           },
           {
            "iteration": 743,
            "passed_time": 11.08276021,
            "remaining_time": 4.871051868
           },
           {
            "iteration": 744,
            "passed_time": 11.09730845,
            "remaining_time": 4.856003429
           },
           {
            "iteration": 745,
            "passed_time": 11.11238753,
            "remaining_time": 4.841187598
           },
           {
            "iteration": 746,
            "passed_time": 11.12727431,
            "remaining_time": 4.826287652
           },
           {
            "iteration": 747,
            "passed_time": 11.14189606,
            "remaining_time": 4.811273298
           },
           {
            "iteration": 748,
            "passed_time": 11.1566875,
            "remaining_time": 4.796332943
           },
           {
            "iteration": 749,
            "passed_time": 11.17220933,
            "remaining_time": 4.781705594
           },
           {
            "iteration": 750,
            "passed_time": 11.18645172,
            "remaining_time": 4.766530693
           },
           {
            "iteration": 751,
            "passed_time": 11.20110349,
            "remaining_time": 4.751531932
           },
           {
            "iteration": 752,
            "passed_time": 11.21575568,
            "remaining_time": 4.736534272
           },
           {
            "iteration": 753,
            "passed_time": 11.23019162,
            "remaining_time": 4.72144661
           },
           {
            "iteration": 754,
            "passed_time": 11.24480764,
            "remaining_time": 4.706436045
           },
           {
            "iteration": 755,
            "passed_time": 11.25955713,
            "remaining_time": 4.691482138
           },
           {
            "iteration": 756,
            "passed_time": 11.27433709,
            "remaining_time": 4.67654141
           },
           {
            "iteration": 757,
            "passed_time": 11.28824092,
            "remaining_time": 4.661239326
           },
           {
            "iteration": 758,
            "passed_time": 11.30261042,
            "remaining_time": 4.646132346
           },
           {
            "iteration": 759,
            "passed_time": 11.31718327,
            "remaining_time": 4.631110521
           },
           {
            "iteration": 760,
            "passed_time": 11.33223835,
            "remaining_time": 4.616286318
           },
           {
            "iteration": 761,
            "passed_time": 11.34754103,
            "remaining_time": 4.601561913
           },
           {
            "iteration": 762,
            "passed_time": 11.36268254,
            "remaining_time": 4.586770935
           },
           {
            "iteration": 763,
            "passed_time": 11.37790733,
            "remaining_time": 4.572012499
           },
           {
            "iteration": 764,
            "passed_time": 11.39317238,
            "remaining_time": 4.557268952
           },
           {
            "iteration": 765,
            "passed_time": 11.40883758,
            "remaining_time": 4.542683369
           },
           {
            "iteration": 766,
            "passed_time": 11.42358024,
            "remaining_time": 4.527729326
           },
           {
            "iteration": 767,
            "passed_time": 11.43854971,
            "remaining_time": 4.512865314
           },
           {
            "iteration": 768,
            "passed_time": 11.45249385,
            "remaining_time": 4.497598365
           },
           {
            "iteration": 769,
            "passed_time": 11.46762675,
            "remaining_time": 4.482799548
           },
           {
            "iteration": 770,
            "passed_time": 11.48229865,
            "remaining_time": 4.467820487
           },
           {
            "iteration": 771,
            "passed_time": 11.49615375,
            "remaining_time": 4.452525869
           },
           {
            "iteration": 772,
            "passed_time": 11.51125219,
            "remaining_time": 4.437714297
           },
           {
            "iteration": 773,
            "passed_time": 11.52547366,
            "remaining_time": 4.422565475
           },
           {
            "iteration": 774,
            "passed_time": 11.54048894,
            "remaining_time": 4.407722226
           },
           {
            "iteration": 775,
            "passed_time": 11.55567184,
            "remaining_time": 4.392942259
           },
           {
            "iteration": 776,
            "passed_time": 11.57050733,
            "remaining_time": 4.378029802
           },
           {
            "iteration": 777,
            "passed_time": 11.5846106,
            "remaining_time": 4.36284178
           },
           {
            "iteration": 778,
            "passed_time": 11.60024593,
            "remaining_time": 4.348230823
           },
           {
            "iteration": 779,
            "passed_time": 11.6152888,
            "remaining_time": 4.333396206
           },
           {
            "iteration": 780,
            "passed_time": 11.63017584,
            "remaining_time": 4.318503193
           },
           {
            "iteration": 781,
            "passed_time": 11.64431546,
            "remaining_time": 4.303333974
           },
           {
            "iteration": 782,
            "passed_time": 11.65882871,
            "remaining_time": 4.288304812
           },
           {
            "iteration": 783,
            "passed_time": 11.67315023,
            "remaining_time": 4.273206782
           },
           {
            "iteration": 784,
            "passed_time": 11.68831268,
            "remaining_time": 4.258417103
           },
           {
            "iteration": 785,
            "passed_time": 11.70349746,
            "remaining_time": 4.243634575
           },
           {
            "iteration": 786,
            "passed_time": 11.71889439,
            "remaining_time": 4.228927582
           },
           {
            "iteration": 787,
            "passed_time": 11.73303962,
            "remaining_time": 4.213769305
           },
           {
            "iteration": 788,
            "passed_time": 11.74796892,
            "remaining_time": 4.198893835
           },
           {
            "iteration": 789,
            "passed_time": 11.76275268,
            "remaining_time": 4.18396646
           },
           {
            "iteration": 790,
            "passed_time": 11.77752813,
            "remaining_time": 4.169036507
           },
           {
            "iteration": 791,
            "passed_time": 11.79289974,
            "remaining_time": 4.154316954
           },
           {
            "iteration": 792,
            "passed_time": 11.80776575,
            "remaining_time": 4.139418512
           },
           {
            "iteration": 793,
            "passed_time": 11.82324763,
            "remaining_time": 4.124735003
           },
           {
            "iteration": 794,
            "passed_time": 11.83862227,
            "remaining_time": 4.110012261
           },
           {
            "iteration": 795,
            "passed_time": 11.85301387,
            "remaining_time": 4.094948258
           },
           {
            "iteration": 796,
            "passed_time": 11.86846209,
            "remaining_time": 4.080249199
           },
           {
            "iteration": 797,
            "passed_time": 11.88328675,
            "remaining_time": 4.065334939
           },
           {
            "iteration": 798,
            "passed_time": 11.89710069,
            "remaining_time": 4.050076831
           },
           {
            "iteration": 799,
            "passed_time": 11.91208966,
            "remaining_time": 4.035220371
           },
           {
            "iteration": 800,
            "passed_time": 11.92697322,
            "remaining_time": 4.020328052
           },
           {
            "iteration": 801,
            "passed_time": 11.94239205,
            "remaining_time": 4.005615288
           },
           {
            "iteration": 802,
            "passed_time": 11.95715867,
            "remaining_time": 3.990683092
           },
           {
            "iteration": 803,
            "passed_time": 11.97178878,
            "remaining_time": 3.975705975
           },
           {
            "iteration": 804,
            "passed_time": 11.98623902,
            "remaining_time": 3.960670285
           },
           {
            "iteration": 805,
            "passed_time": 12.00162575,
            "remaining_time": 3.945943949
           },
           {
            "iteration": 806,
            "passed_time": 12.01639177,
            "remaining_time": 3.931012922
           },
           {
            "iteration": 807,
            "passed_time": 12.03014246,
            "remaining_time": 3.915751816
           },
           {
            "iteration": 808,
            "passed_time": 12.04500319,
            "remaining_time": 3.900853937
           },
           {
            "iteration": 809,
            "passed_time": 12.05900851,
            "remaining_time": 3.885680519
           },
           {
            "iteration": 810,
            "passed_time": 12.07433074,
            "remaining_time": 3.870932174
           },
           {
            "iteration": 811,
            "passed_time": 12.08882303,
            "remaining_time": 3.855917691
           },
           {
            "iteration": 812,
            "passed_time": 12.10363575,
            "remaining_time": 3.84100618
           },
           {
            "iteration": 813,
            "passed_time": 12.11813927,
            "remaining_time": 3.825997287
           },
           {
            "iteration": 814,
            "passed_time": 12.1327873,
            "remaining_time": 3.811035028
           },
           {
            "iteration": 815,
            "passed_time": 12.14758549,
            "remaining_time": 3.796120466
           },
           {
            "iteration": 816,
            "passed_time": 12.16174026,
            "remaining_time": 3.781006152
           },
           {
            "iteration": 817,
            "passed_time": 12.17686526,
            "remaining_time": 3.766194267
           },
           {
            "iteration": 818,
            "passed_time": 12.19095476,
            "remaining_time": 3.751063004
           },
           {
            "iteration": 819,
            "passed_time": 12.20457991,
            "remaining_time": 3.735792144
           },
           {
            "iteration": 820,
            "passed_time": 12.21899849,
            "remaining_time": 3.720766896
           },
           {
            "iteration": 821,
            "passed_time": 12.2342107,
            "remaining_time": 3.705983534
           },
           {
            "iteration": 822,
            "passed_time": 12.24963121,
            "remaining_time": 3.691261896
           },
           {
            "iteration": 823,
            "passed_time": 12.26414407,
            "remaining_time": 3.676266488
           },
           {
            "iteration": 824,
            "passed_time": 12.2784906,
            "remaining_time": 3.661222651
           },
           {
            "iteration": 825,
            "passed_time": 12.29348389,
            "remaining_time": 3.64637234
           },
           {
            "iteration": 826,
            "passed_time": 12.30772999,
            "remaining_time": 3.631301231
           },
           {
            "iteration": 827,
            "passed_time": 12.3224308,
            "remaining_time": 3.616365559
           },
           {
            "iteration": 828,
            "passed_time": 12.33761349,
            "remaining_time": 3.601571127
           },
           {
            "iteration": 829,
            "passed_time": 12.35142727,
            "remaining_time": 3.58637828
           },
           {
            "iteration": 830,
            "passed_time": 12.36645644,
            "remaining_time": 3.571539767
           },
           {
            "iteration": 831,
            "passed_time": 12.38076077,
            "remaining_time": 3.556492578
           },
           {
            "iteration": 832,
            "passed_time": 12.39535872,
            "remaining_time": 3.541531064
           },
           {
            "iteration": 833,
            "passed_time": 12.40993552,
            "remaining_time": 3.526564409
           },
           {
            "iteration": 834,
            "passed_time": 12.42414105,
            "remaining_time": 3.511493759
           },
           {
            "iteration": 835,
            "passed_time": 12.43867857,
            "remaining_time": 3.496518497
           },
           {
            "iteration": 836,
            "passed_time": 12.45446368,
            "remaining_time": 3.481893073
           },
           {
            "iteration": 837,
            "passed_time": 12.46867297,
            "remaining_time": 3.466826732
           },
           {
            "iteration": 838,
            "passed_time": 12.483585,
            "remaining_time": 3.451956757
           },
           {
            "iteration": 839,
            "passed_time": 12.49802357,
            "remaining_time": 3.43695648
           },
           {
            "iteration": 840,
            "passed_time": 12.51263538,
            "remaining_time": 3.422004919
           },
           {
            "iteration": 841,
            "passed_time": 12.52794726,
            "remaining_time": 3.407244564
           },
           {
            "iteration": 842,
            "passed_time": 12.54299363,
            "remaining_time": 3.39241109
           },
           {
            "iteration": 843,
            "passed_time": 12.55902114,
            "remaining_time": 3.377840994
           },
           {
            "iteration": 844,
            "passed_time": 12.57356366,
            "remaining_time": 3.362870281
           },
           {
            "iteration": 845,
            "passed_time": 12.5887634,
            "remaining_time": 3.348075373
           },
           {
            "iteration": 846,
            "passed_time": 12.60321119,
            "remaining_time": 3.333080647
           },
           {
            "iteration": 847,
            "passed_time": 12.61783618,
            "remaining_time": 3.318133807
           },
           {
            "iteration": 848,
            "passed_time": 12.63346321,
            "remaining_time": 3.303449743
           },
           {
            "iteration": 849,
            "passed_time": 12.64895308,
            "remaining_time": 3.288727801
           },
           {
            "iteration": 850,
            "passed_time": 12.66346278,
            "remaining_time": 3.273750661
           },
           {
            "iteration": 851,
            "passed_time": 12.67796733,
            "remaining_time": 3.258773292
           },
           {
            "iteration": 852,
            "passed_time": 12.69214786,
            "remaining_time": 3.243714224
           },
           {
            "iteration": 853,
            "passed_time": 12.70697102,
            "remaining_time": 3.228820505
           },
           {
            "iteration": 854,
            "passed_time": 12.72167938,
            "remaining_time": 3.213897948
           },
           {
            "iteration": 855,
            "passed_time": 12.73607214,
            "remaining_time": 3.198896623
           },
           {
            "iteration": 856,
            "passed_time": 12.75052891,
            "remaining_time": 3.183912704
           },
           {
            "iteration": 857,
            "passed_time": 12.76536198,
            "remaining_time": 3.169023428
           },
           {
            "iteration": 858,
            "passed_time": 12.78052512,
            "remaining_time": 3.154215746
           },
           {
            "iteration": 859,
            "passed_time": 12.79542921,
            "remaining_time": 3.139343678
           },
           {
            "iteration": 860,
            "passed_time": 12.81066108,
            "remaining_time": 3.124551483
           },
           {
            "iteration": 861,
            "passed_time": 12.82523405,
            "remaining_time": 3.109598512
           },
           {
            "iteration": 862,
            "passed_time": 12.84015633,
            "remaining_time": 3.094730609
           },
           {
            "iteration": 863,
            "passed_time": 12.85496279,
            "remaining_time": 3.079834835
           },
           {
            "iteration": 864,
            "passed_time": 12.87004813,
            "remaining_time": 3.065005682
           },
           {
            "iteration": 865,
            "passed_time": 12.88428868,
            "remaining_time": 3.049975958
           },
           {
            "iteration": 866,
            "passed_time": 12.89927203,
            "remaining_time": 3.035122829
           },
           {
            "iteration": 867,
            "passed_time": 12.91399646,
            "remaining_time": 3.020208849
           },
           {
            "iteration": 868,
            "passed_time": 12.92910924,
            "remaining_time": 3.005385576
           },
           {
            "iteration": 869,
            "passed_time": 12.94381276,
            "remaining_time": 2.990467086
           },
           {
            "iteration": 870,
            "passed_time": 12.95911726,
            "remaining_time": 2.975687086
           },
           {
            "iteration": 871,
            "passed_time": 12.97433203,
            "remaining_time": 2.960885405
           },
           {
            "iteration": 872,
            "passed_time": 12.98924699,
            "remaining_time": 2.946014782
           },
           {
            "iteration": 873,
            "passed_time": 13.00423395,
            "remaining_time": 2.931160284
           },
           {
            "iteration": 874,
            "passed_time": 13.01911561,
            "remaining_time": 2.916281896
           },
           {
            "iteration": 875,
            "passed_time": 13.03399461,
            "remaining_time": 2.901402909
           },
           {
            "iteration": 876,
            "passed_time": 13.04845482,
            "remaining_time": 2.886431284
           },
           {
            "iteration": 877,
            "passed_time": 13.06298778,
            "remaining_time": 2.871476813
           },
           {
            "iteration": 878,
            "passed_time": 13.07828644,
            "remaining_time": 2.856690554
           },
           {
            "iteration": 879,
            "passed_time": 13.09275636,
            "remaining_time": 2.841723256
           },
           {
            "iteration": 880,
            "passed_time": 13.10969099,
            "remaining_time": 2.827288635
           },
           {
            "iteration": 881,
            "passed_time": 13.12388192,
            "remaining_time": 2.812260412
           },
           {
            "iteration": 882,
            "passed_time": 13.13852403,
            "remaining_time": 2.797330144
           },
           {
            "iteration": 883,
            "passed_time": 13.15301189,
            "remaining_time": 2.782367899
           },
           {
            "iteration": 884,
            "passed_time": 13.16846425,
            "remaining_time": 2.767609435
           },
           {
            "iteration": 885,
            "passed_time": 13.18293948,
            "remaining_time": 2.752645376
           },
           {
            "iteration": 886,
            "passed_time": 13.19701711,
            "remaining_time": 2.737599943
           },
           {
            "iteration": 887,
            "passed_time": 13.21228658,
            "remaining_time": 2.722802302
           },
           {
            "iteration": 888,
            "passed_time": 13.22738108,
            "remaining_time": 2.70796778
           },
           {
            "iteration": 889,
            "passed_time": 13.24192314,
            "remaining_time": 2.693020324
           },
           {
            "iteration": 890,
            "passed_time": 13.25652367,
            "remaining_time": 2.67808559
           },
           {
            "iteration": 891,
            "passed_time": 13.27169934,
            "remaining_time": 2.66326702
           },
           {
            "iteration": 892,
            "passed_time": 13.28656256,
            "remaining_time": 2.648385371
           },
           {
            "iteration": 893,
            "passed_time": 13.300852,
            "remaining_time": 2.63339016
           },
           {
            "iteration": 894,
            "passed_time": 13.31528434,
            "remaining_time": 2.61842463
           },
           {
            "iteration": 895,
            "passed_time": 13.32975156,
            "remaining_time": 2.603467102
           },
           {
            "iteration": 896,
            "passed_time": 13.34527788,
            "remaining_time": 2.588716111
           },
           {
            "iteration": 897,
            "passed_time": 13.35939166,
            "remaining_time": 2.573691266
           },
           {
            "iteration": 898,
            "passed_time": 13.37502183,
            "remaining_time": 2.558958571
           },
           {
            "iteration": 899,
            "passed_time": 13.38970323,
            "remaining_time": 2.544043613
           },
           {
            "iteration": 900,
            "passed_time": 13.40357552,
            "remaining_time": 2.528976514
           },
           {
            "iteration": 901,
            "passed_time": 13.417831,
            "remaining_time": 2.513983856
           },
           {
            "iteration": 902,
            "passed_time": 13.43335125,
            "remaining_time": 2.49922814
           },
           {
            "iteration": 903,
            "passed_time": 13.44809139,
            "remaining_time": 2.484326617
           },
           {
            "iteration": 904,
            "passed_time": 13.46258023,
            "remaining_time": 2.469379358
           },
           {
            "iteration": 905,
            "passed_time": 13.47721382,
            "remaining_time": 2.45445947
           },
           {
            "iteration": 906,
            "passed_time": 13.49262593,
            "remaining_time": 2.439680985
           },
           {
            "iteration": 907,
            "passed_time": 13.50723387,
            "remaining_time": 2.424756741
           },
           {
            "iteration": 908,
            "passed_time": 13.52217245,
            "remaining_time": 2.409892119
           },
           {
            "iteration": 909,
            "passed_time": 13.53680945,
            "remaining_time": 2.39497398
           },
           {
            "iteration": 910,
            "passed_time": 13.55113584,
            "remaining_time": 2.380001904
           },
           {
            "iteration": 911,
            "passed_time": 13.56598113,
            "remaining_time": 2.365121711
           },
           {
            "iteration": 912,
            "passed_time": 13.58072485,
            "remaining_time": 2.350224015
           },
           {
            "iteration": 913,
            "passed_time": 13.59536191,
            "remaining_time": 2.335308337
           },
           {
            "iteration": 914,
            "passed_time": 13.60998984,
            "remaining_time": 2.320391711
           },
           {
            "iteration": 915,
            "passed_time": 13.62522644,
            "remaining_time": 2.30557871
           },
           {
            "iteration": 916,
            "passed_time": 13.64053306,
            "remaining_time": 2.290776545
           },
           {
            "iteration": 917,
            "passed_time": 13.65537255,
            "remaining_time": 2.275895425
           },
           {
            "iteration": 918,
            "passed_time": 13.67031477,
            "remaining_time": 2.261031387
           },
           {
            "iteration": 919,
            "passed_time": 13.68446908,
            "remaining_time": 2.246037861
           },
           {
            "iteration": 920,
            "passed_time": 13.6995797,
            "remaining_time": 2.231201905
           },
           {
            "iteration": 921,
            "passed_time": 13.7145894,
            "remaining_time": 2.216349047
           },
           {
            "iteration": 922,
            "passed_time": 13.72928678,
            "remaining_time": 2.201445767
           },
           {
            "iteration": 923,
            "passed_time": 13.74470306,
            "remaining_time": 2.186657306
           },
           {
            "iteration": 924,
            "passed_time": 13.75978659,
            "remaining_time": 2.171814965
           },
           {
            "iteration": 925,
            "passed_time": 13.77524121,
            "remaining_time": 2.15703021
           },
           {
            "iteration": 926,
            "passed_time": 13.79021371,
            "remaining_time": 2.14216912
           },
           {
            "iteration": 927,
            "passed_time": 13.80483791,
            "remaining_time": 2.127254118
           },
           {
            "iteration": 928,
            "passed_time": 13.81947248,
            "remaining_time": 2.112341326
           },
           {
            "iteration": 929,
            "passed_time": 13.83484698,
            "remaining_time": 2.097541317
           },
           {
            "iteration": 930,
            "passed_time": 13.84863984,
            "remaining_time": 2.082502232
           },
           {
            "iteration": 931,
            "passed_time": 13.86333165,
            "remaining_time": 2.067599892
           },
           {
            "iteration": 932,
            "passed_time": 13.87836657,
            "remaining_time": 2.052748753
           },
           {
            "iteration": 933,
            "passed_time": 13.89343083,
            "remaining_time": 2.037901524
           },
           {
            "iteration": 934,
            "passed_time": 13.90851406,
            "remaining_time": 2.02305659
           },
           {
            "iteration": 935,
            "passed_time": 13.92354628,
            "remaining_time": 2.00820379
           },
           {
            "iteration": 936,
            "passed_time": 13.93824143,
            "remaining_time": 1.993302403
           },
           {
            "iteration": 937,
            "passed_time": 13.95340173,
            "remaining_time": 1.97846741
           },
           {
            "iteration": 938,
            "passed_time": 13.96828306,
            "remaining_time": 1.963592507
           },
           {
            "iteration": 939,
            "passed_time": 13.98371972,
            "remaining_time": 1.948794982
           },
           {
            "iteration": 940,
            "passed_time": 13.99860926,
            "remaining_time": 1.933920515
           },
           {
            "iteration": 941,
            "passed_time": 14.01247495,
            "remaining_time": 1.918905806
           },
           {
            "iteration": 942,
            "passed_time": 14.02724678,
            "remaining_time": 1.90401653
           },
           {
            "iteration": 943,
            "passed_time": 14.04225108,
            "remaining_time": 1.889158779
           },
           {
            "iteration": 944,
            "passed_time": 14.05681966,
            "remaining_time": 1.874242622
           },
           {
            "iteration": 945,
            "passed_time": 14.07219664,
            "remaining_time": 1.859434018
           },
           {
            "iteration": 946,
            "passed_time": 14.08680557,
            "remaining_time": 1.844523644
           },
           {
            "iteration": 947,
            "passed_time": 14.10144706,
            "remaining_time": 1.829618131
           },
           {
            "iteration": 948,
            "passed_time": 14.11649487,
            "remaining_time": 1.814765411
           },
           {
            "iteration": 949,
            "passed_time": 14.13070041,
            "remaining_time": 1.799804999
           },
           {
            "iteration": 950,
            "passed_time": 14.14558303,
            "remaining_time": 1.784931613
           },
           {
            "iteration": 951,
            "passed_time": 14.16070401,
            "remaining_time": 1.770088002
           },
           {
            "iteration": 952,
            "passed_time": 14.17521957,
            "remaining_time": 1.755168844
           },
           {
            "iteration": 953,
            "passed_time": 14.18972284,
            "remaining_time": 1.740249027
           },
           {
            "iteration": 954,
            "passed_time": 14.20502146,
            "remaining_time": 1.725426691
           },
           {
            "iteration": 955,
            "passed_time": 14.22069073,
            "remaining_time": 1.710647943
           },
           {
            "iteration": 956,
            "passed_time": 14.23487273,
            "remaining_time": 1.695690169
           },
           {
            "iteration": 957,
            "passed_time": 14.25008413,
            "remaining_time": 1.680855434
           },
           {
            "iteration": 958,
            "passed_time": 14.264498,
            "remaining_time": 1.665926774
           },
           {
            "iteration": 959,
            "passed_time": 14.27857349,
            "remaining_time": 1.65096006
           },
           {
            "iteration": 960,
            "passed_time": 14.29391569,
            "remaining_time": 1.636140194
           },
           {
            "iteration": 961,
            "passed_time": 14.30824136,
            "remaining_time": 1.621204063
           },
           {
            "iteration": 962,
            "passed_time": 14.32294675,
            "remaining_time": 1.606311785
           },
           {
            "iteration": 963,
            "passed_time": 14.33729726,
            "remaining_time": 1.591380505
           },
           {
            "iteration": 964,
            "passed_time": 14.35195995,
            "remaining_time": 1.57648472
           },
           {
            "iteration": 965,
            "passed_time": 14.36670178,
            "remaining_time": 1.56159802
           },
           {
            "iteration": 966,
            "passed_time": 14.38042153,
            "remaining_time": 1.546601695
           },
           {
            "iteration": 967,
            "passed_time": 14.39385713,
            "remaining_time": 1.531577773
           },
           {
            "iteration": 968,
            "passed_time": 14.40775534,
            "remaining_time": 1.516605826
           },
           {
            "iteration": 969,
            "passed_time": 14.42299337,
            "remaining_time": 1.501775598
           },
           {
            "iteration": 970,
            "passed_time": 14.43738983,
            "remaining_time": 1.486857861
           },
           {
            "iteration": 971,
            "passed_time": 14.4521698,
            "remaining_time": 1.471980257
           },
           {
            "iteration": 972,
            "passed_time": 14.4661943,
            "remaining_time": 1.457026764
           },
           {
            "iteration": 973,
            "passed_time": 14.48194347,
            "remaining_time": 1.442246937
           },
           {
            "iteration": 974,
            "passed_time": 14.49730753,
            "remaining_time": 1.427427203
           },
           {
            "iteration": 975,
            "passed_time": 14.51287298,
            "remaining_time": 1.412625956
           },
           {
            "iteration": 976,
            "passed_time": 14.52811994,
            "remaining_time": 1.397792502
           },
           {
            "iteration": 977,
            "passed_time": 14.54296512,
            "remaining_time": 1.382919996
           },
           {
            "iteration": 978,
            "passed_time": 14.55759765,
            "remaining_time": 1.368027563
           },
           {
            "iteration": 979,
            "passed_time": 14.57259038,
            "remaining_time": 1.353169107
           },
           {
            "iteration": 980,
            "passed_time": 14.58677779,
            "remaining_time": 1.338236494
           },
           {
            "iteration": 981,
            "passed_time": 14.6018577,
            "remaining_time": 1.323386288
           },
           {
            "iteration": 982,
            "passed_time": 14.61553603,
            "remaining_time": 1.308410143
           },
           {
            "iteration": 983,
            "passed_time": 14.62958424,
            "remaining_time": 1.293469338
           },
           {
            "iteration": 984,
            "passed_time": 14.645138,
            "remaining_time": 1.278661795
           },
           {
            "iteration": 985,
            "passed_time": 14.65970791,
            "remaining_time": 1.263767924
           },
           {
            "iteration": 986,
            "passed_time": 14.67428676,
            "remaining_time": 1.248875469
           },
           {
            "iteration": 987,
            "passed_time": 14.68837632,
            "remaining_time": 1.233942545
           },
           {
            "iteration": 988,
            "passed_time": 14.70283267,
            "remaining_time": 1.219041738
           },
           {
            "iteration": 989,
            "passed_time": 14.71784636,
            "remaining_time": 1.20418743
           },
           {
            "iteration": 990,
            "passed_time": 14.73297235,
            "remaining_time": 1.189341864
           },
           {
            "iteration": 991,
            "passed_time": 14.74790452,
            "remaining_time": 1.174480299
           },
           {
            "iteration": 992,
            "passed_time": 14.76312316,
            "remaining_time": 1.159641094
           },
           {
            "iteration": 993,
            "passed_time": 14.77819067,
            "remaining_time": 1.144789418
           },
           {
            "iteration": 994,
            "passed_time": 14.79252055,
            "remaining_time": 1.129880967
           },
           {
            "iteration": 995,
            "passed_time": 14.80690448,
            "remaining_time": 1.114977747
           },
           {
            "iteration": 996,
            "passed_time": 14.82215372,
            "remaining_time": 1.100139794
           },
           {
            "iteration": 997,
            "passed_time": 14.83623982,
            "remaining_time": 1.085215939
           },
           {
            "iteration": 998,
            "passed_time": 14.8507686,
            "remaining_time": 1.070325665
           },
           {
            "iteration": 999,
            "passed_time": 14.8652403,
            "remaining_time": 1.055432061
           },
           {
            "iteration": 1000,
            "passed_time": 14.87994082,
            "remaining_time": 1.040555302
           },
           {
            "iteration": 1001,
            "passed_time": 14.89502285,
            "remaining_time": 1.025705166
           },
           {
            "iteration": 1002,
            "passed_time": 14.91008003,
            "remaining_time": 1.010852884
           },
           {
            "iteration": 1003,
            "passed_time": 14.92557246,
            "remaining_time": 0.9960292381
           },
           {
            "iteration": 1004,
            "passed_time": 14.94018963,
            "remaining_time": 0.9811467817
           },
           {
            "iteration": 1005,
            "passed_time": 14.95409127,
            "remaining_time": 0.9662186207
           },
           {
            "iteration": 1006,
            "passed_time": 14.96930489,
            "remaining_time": 0.951375882
           },
           {
            "iteration": 1007,
            "passed_time": 14.98443077,
            "remaining_time": 0.9365269234
           },
           {
            "iteration": 1008,
            "passed_time": 14.99919786,
            "remaining_time": 0.9216553688
           },
           {
            "iteration": 1009,
            "passed_time": 15.0140137,
            "remaining_time": 0.9067869662
           },
           {
            "iteration": 1010,
            "passed_time": 15.02906922,
            "remaining_time": 0.8919328913
           },
           {
            "iteration": 1011,
            "passed_time": 15.04357933,
            "remaining_time": 0.8770466213
           },
           {
            "iteration": 1012,
            "passed_time": 15.05784165,
            "remaining_time": 0.8621469058
           },
           {
            "iteration": 1013,
            "passed_time": 15.07290908,
            "remaining_time": 0.8472937059
           },
           {
            "iteration": 1014,
            "passed_time": 15.08853234,
            "remaining_time": 0.83247075
           },
           {
            "iteration": 1015,
            "passed_time": 15.10371794,
            "remaining_time": 0.817622526
           },
           {
            "iteration": 1016,
            "passed_time": 15.11910954,
            "remaining_time": 0.8027845772
           },
           {
            "iteration": 1017,
            "passed_time": 15.13382564,
            "remaining_time": 0.7879103721
           },
           {
            "iteration": 1018,
            "passed_time": 15.1477667,
            "remaining_time": 0.7729969267
           },
           {
            "iteration": 1019,
            "passed_time": 15.1624999,
            "remaining_time": 0.7581249951
           },
           {
            "iteration": 1020,
            "passed_time": 15.17725752,
            "remaining_time": 0.7432545306
           },
           {
            "iteration": 1021,
            "passed_time": 15.19241524,
            "remaining_time": 0.7284034703
           },
           {
            "iteration": 1022,
            "passed_time": 15.20662386,
            "remaining_time": 0.7135072778
           },
           {
            "iteration": 1023,
            "passed_time": 15.2214576,
            "remaining_time": 0.6986411203
           },
           {
            "iteration": 1024,
            "passed_time": 15.2368706,
            "remaining_time": 0.6838010221
           },
           {
            "iteration": 1025,
            "passed_time": 15.25146031,
            "remaining_time": 0.6689236978
           },
           {
            "iteration": 1026,
            "passed_time": 15.26766581,
            "remaining_time": 0.6541161592
           },
           {
            "iteration": 1027,
            "passed_time": 15.2821688,
            "remaining_time": 0.639234687
           },
           {
            "iteration": 1028,
            "passed_time": 15.29717458,
            "remaining_time": 0.6243744727
           },
           {
            "iteration": 1029,
            "passed_time": 15.31258104,
            "remaining_time": 0.609529925
           },
           {
            "iteration": 1030,
            "passed_time": 15.32775849,
            "remaining_time": 0.594675402
           },
           {
            "iteration": 1031,
            "passed_time": 15.3425374,
            "remaining_time": 0.5798051926
           },
           {
            "iteration": 1032,
            "passed_time": 15.35715177,
            "remaining_time": 0.5649291066
           },
           {
            "iteration": 1033,
            "passed_time": 15.3724323,
            "remaining_time": 0.5500773649
           },
           {
            "iteration": 1034,
            "passed_time": 15.38746699,
            "remaining_time": 0.5352162432
           },
           {
            "iteration": 1035,
            "passed_time": 15.40267449,
            "remaining_time": 0.5203606247
           },
           {
            "iteration": 1036,
            "passed_time": 15.41767019,
            "remaining_time": 0.5054973832
           },
           {
            "iteration": 1037,
            "passed_time": 15.43225305,
            "remaining_time": 0.4906207616
           },
           {
            "iteration": 1038,
            "passed_time": 15.44818373,
            "remaining_time": 0.4757862169
           },
           {
            "iteration": 1039,
            "passed_time": 15.46371895,
            "remaining_time": 0.4609377765
           },
           {
            "iteration": 1040,
            "passed_time": 15.4776008,
            "remaining_time": 0.446040369
           },
           {
            "iteration": 1041,
            "passed_time": 15.49258561,
            "remaining_time": 0.4311756072
           },
           {
            "iteration": 1042,
            "passed_time": 15.50896969,
            "remaining_time": 0.4163481796
           },
           {
            "iteration": 1043,
            "passed_time": 15.52416103,
            "remaining_time": 0.4014869232
           },
           {
            "iteration": 1044,
            "passed_time": 15.53930774,
            "remaining_time": 0.3866239246
           },
           {
            "iteration": 1045,
            "passed_time": 15.55392914,
            "remaining_time": 0.3717478283
           },
           {
            "iteration": 1046,
            "passed_time": 15.5677907,
            "remaining_time": 0.3568548011
           },
           {
            "iteration": 1047,
            "passed_time": 15.58308241,
            "remaining_time": 0.3419951292
           },
           {
            "iteration": 1048,
            "passed_time": 15.59840098,
            "remaining_time": 0.327135197
           },
           {
            "iteration": 1049,
            "passed_time": 15.61330874,
            "remaining_time": 0.3122661748
           },
           {
            "iteration": 1050,
            "passed_time": 15.62823658,
            "remaining_time": 0.2973974611
           },
           {
            "iteration": 1051,
            "passed_time": 15.64289531,
            "remaining_time": 0.2825237746
           },
           {
            "iteration": 1052,
            "passed_time": 15.65766469,
            "remaining_time": 0.2676523879
           },
           {
            "iteration": 1053,
            "passed_time": 15.67137415,
            "remaining_time": 0.2527640992
           },
           {
            "iteration": 1054,
            "passed_time": 15.6861076,
            "remaining_time": 0.237893575
           },
           {
            "iteration": 1055,
            "passed_time": 15.70151805,
            "remaining_time": 0.2230329268
           },
           {
            "iteration": 1056,
            "passed_time": 15.7163164,
            "remaining_time": 0.2081631312
           },
           {
            "iteration": 1057,
            "passed_time": 15.73121314,
            "remaining_time": 0.1932946795
           },
           {
            "iteration": 1058,
            "passed_time": 15.74608761,
            "remaining_time": 0.178425922
           },
           {
            "iteration": 1059,
            "passed_time": 15.76074561,
            "remaining_time": 0.1635549073
           },
           {
            "iteration": 1060,
            "passed_time": 15.7762978,
            "remaining_time": 0.148692722
           },
           {
            "iteration": 1061,
            "passed_time": 15.79160572,
            "remaining_time": 0.1338271671
           },
           {
            "iteration": 1062,
            "passed_time": 15.80586948,
            "remaining_time": 0.1189529218
           },
           {
            "iteration": 1063,
            "passed_time": 15.82015704,
            "remaining_time": 0.1040799806
           },
           {
            "iteration": 1064,
            "passed_time": 15.8346421,
            "remaining_time": 0.08920925125
           },
           {
            "iteration": 1065,
            "passed_time": 15.84920383,
            "remaining_time": 0.07433960519
           },
           {
            "iteration": 1066,
            "passed_time": 15.8641706,
            "remaining_time": 0.05947205472
           },
           {
            "iteration": 1067,
            "passed_time": 15.878822,
            "remaining_time": 0.04460343257
           },
           {
            "iteration": 1068,
            "passed_time": 15.89293293,
            "remaining_time": 0.02973420566
           },
           {
            "iteration": 1069,
            "passed_time": 15.9074115,
            "remaining_time": 0.01486673972
           },
           {
            "iteration": 1070,
            "passed_time": 15.92190234,
            "remaining_time": 0
           }
          ],
          "meta": {
           "iteration_count": 1071,
           "launch_mode": "Train",
           "learn_metrics": [],
           "learn_sets": [
            "learn"
           ],
           "name": "experiment",
           "parameters": "",
           "test_metrics": [],
           "test_sets": []
          }
         },
         "passed_iterations": 1070,
         "total_iterations": 1071
        },
        "name": "YetiRank-lr-0.3",
        "path": "YetiRank-lr-0.3"
       }
      },
      "layout": "IPY_MODEL_8c147e14938248d2917a309d1b4dd84b"
     }
    },
    "a58c1a725cdd480d9012e42d472d1125": {
     "model_module": "@jupyter-widgets/base",
     "model_module_version": "1.2.0",
     "model_name": "LayoutModel",
     "state": {
      "_model_module": "@jupyter-widgets/base",
      "_model_module_version": "1.2.0",
      "_model_name": "LayoutModel",
      "_view_count": null,
      "_view_module": "@jupyter-widgets/base",
      "_view_module_version": "1.2.0",
      "_view_name": "LayoutView",
      "align_content": null,
      "align_items": null,
      "align_self": null,
      "border": null,
      "bottom": null,
      "display": null,
      "flex": null,
      "flex_flow": null,
      "grid_area": null,
      "grid_auto_columns": null,
      "grid_auto_flow": null,
      "grid_auto_rows": null,
      "grid_column": null,
      "grid_gap": null,
      "grid_row": null,
      "grid_template_areas": null,
      "grid_template_columns": null,
      "grid_template_rows": null,
      "height": null,
      "justify_content": null,
      "justify_items": null,
      "left": null,
      "margin": null,
      "max_height": null,
      "max_width": null,
      "min_height": null,
      "min_width": null,
      "object_fit": null,
      "object_position": null,
      "order": null,
      "overflow": null,
      "overflow_x": null,
      "overflow_y": null,
      "padding": null,
      "right": null,
      "top": null,
      "visibility": null,
      "width": null
     }
    },
    "ac64e782780e4a13a5552815c325125a": {
     "model_module": "@jupyter-widgets/controls",
     "model_module_version": "1.5.0",
     "model_name": "HTMLModel",
     "state": {
      "_dom_classes": [],
      "_model_module": "@jupyter-widgets/controls",
      "_model_module_version": "1.5.0",
      "_model_name": "HTMLModel",
      "_view_count": null,
      "_view_module": "@jupyter-widgets/controls",
      "_view_module_version": "1.5.0",
      "_view_name": "HTMLView",
      "description": "",
      "description_tooltip": null,
      "layout": "IPY_MODEL_5cd4fd3c90e940abaf824736f607191b",
      "placeholder": "​",
      "style": "IPY_MODEL_6163d524080b405e841ad520b8362fa6",
      "value": " 202079/202079 [00:03&lt;00:00, 66728.12it/s]"
     }
    },
    "bdbe2075c49d4c16bf77777744298874": {
     "model_module": "@jupyter-widgets/base",
     "model_module_version": "1.2.0",
     "model_name": "LayoutModel",
     "state": {
      "_model_module": "@jupyter-widgets/base",
      "_model_module_version": "1.2.0",
      "_model_name": "LayoutModel",
      "_view_count": null,
      "_view_module": "@jupyter-widgets/base",
      "_view_module_version": "1.2.0",
      "_view_name": "LayoutView",
      "align_content": null,
      "align_items": null,
      "align_self": null,
      "border": null,
      "bottom": null,
      "display": null,
      "flex": null,
      "flex_flow": null,
      "grid_area": null,
      "grid_auto_columns": null,
      "grid_auto_flow": null,
      "grid_auto_rows": null,
      "grid_column": null,
      "grid_gap": null,
      "grid_row": null,
      "grid_template_areas": null,
      "grid_template_columns": null,
      "grid_template_rows": null,
      "height": null,
      "justify_content": null,
      "justify_items": null,
      "left": null,
      "margin": null,
      "max_height": null,
      "max_width": null,
      "min_height": null,
      "min_width": null,
      "object_fit": null,
      "object_position": null,
      "order": null,
      "overflow": null,
      "overflow_x": null,
      "overflow_y": null,
      "padding": null,
      "right": null,
      "top": null,
      "visibility": null,
      "width": null
     }
    },
    "c751e12256d34da7baee78f852db7f36": {
     "model_module": "@jupyter-widgets/controls",
     "model_module_version": "1.5.0",
     "model_name": "HBoxModel",
     "state": {
      "_dom_classes": [],
      "_model_module": "@jupyter-widgets/controls",
      "_model_module_version": "1.5.0",
      "_model_name": "HBoxModel",
      "_view_count": null,
      "_view_module": "@jupyter-widgets/controls",
      "_view_module_version": "1.5.0",
      "_view_name": "HBoxView",
      "box_style": "",
      "children": [
       "IPY_MODEL_60e24cf8ed2e4bb6a4634ad6390eab4b",
       "IPY_MODEL_75b27348c8fa4e7ebab502d5483fb419",
       "IPY_MODEL_ac64e782780e4a13a5552815c325125a"
      ],
      "layout": "IPY_MODEL_a58c1a725cdd480d9012e42d472d1125"
     }
    },
    "c86f6976d809438ea1cca38d09f77d70": {
     "model_module": "@jupyter-widgets/base",
     "model_module_version": "1.2.0",
     "model_name": "LayoutModel",
     "state": {
      "_model_module": "@jupyter-widgets/base",
      "_model_module_version": "1.2.0",
      "_model_name": "LayoutModel",
      "_view_count": null,
      "_view_module": "@jupyter-widgets/base",
      "_view_module_version": "1.2.0",
      "_view_name": "LayoutView",
      "align_content": null,
      "align_items": null,
      "align_self": null,
      "border": null,
      "bottom": null,
      "display": null,
      "flex": null,
      "flex_flow": null,
      "grid_area": null,
      "grid_auto_columns": null,
      "grid_auto_flow": null,
      "grid_auto_rows": null,
      "grid_column": null,
      "grid_gap": null,
      "grid_row": null,
      "grid_template_areas": null,
      "grid_template_columns": null,
      "grid_template_rows": null,
      "height": null,
      "justify_content": null,
      "justify_items": null,
      "left": null,
      "margin": null,
      "max_height": null,
      "max_width": null,
      "min_height": null,
      "min_width": null,
      "object_fit": null,
      "object_position": null,
      "order": null,
      "overflow": null,
      "overflow_x": null,
      "overflow_y": null,
      "padding": null,
      "right": null,
      "top": null,
      "visibility": null,
      "width": null
     }
    },
    "c880164b68244f69b505e7f844bbd401": {
     "model_module": "@jupyter-widgets/base",
     "model_module_version": "1.2.0",
     "model_name": "LayoutModel",
     "state": {
      "_model_module": "@jupyter-widgets/base",
      "_model_module_version": "1.2.0",
      "_model_name": "LayoutModel",
      "_view_count": null,
      "_view_module": "@jupyter-widgets/base",
      "_view_module_version": "1.2.0",
      "_view_name": "LayoutView",
      "align_content": null,
      "align_items": null,
      "align_self": null,
      "border": null,
      "bottom": null,
      "display": null,
      "flex": null,
      "flex_flow": null,
      "grid_area": null,
      "grid_auto_columns": null,
      "grid_auto_flow": null,
      "grid_auto_rows": null,
      "grid_column": null,
      "grid_gap": null,
      "grid_row": null,
      "grid_template_areas": null,
      "grid_template_columns": null,
      "grid_template_rows": null,
      "height": null,
      "justify_content": null,
      "justify_items": null,
      "left": null,
      "margin": null,
      "max_height": null,
      "max_width": null,
      "min_height": null,
      "min_width": null,
      "object_fit": null,
      "object_position": null,
      "order": null,
      "overflow": null,
      "overflow_x": null,
      "overflow_y": null,
      "padding": null,
      "right": null,
      "top": null,
      "visibility": null,
      "width": null
     }
    }
   }
  }
 },
 "nbformat": 4,
 "nbformat_minor": 1
}
