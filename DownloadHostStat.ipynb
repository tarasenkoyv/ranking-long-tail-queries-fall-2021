{
 "cells": [
  {
   "cell_type": "markdown",
   "id": "041d4400",
   "metadata": {},
   "source": [
    "CREATE TABLE [dbo].[log_serp](  \n",
    "\t[urls] [varchar](max) NOT NULL,  \n",
    "\t[filename] [nvarchar](200) NULL,  \n",
    "\t[log_id_start] [int] NULL)  \n",
    "ON [PRIMARY] TEXTIMAGE_ON [PRIMARY]  "
   ]
  },
  {
   "cell_type": "code",
   "execution_count": 2,
   "id": "25a6fbd7",
   "metadata": {},
   "outputs": [],
   "source": [
    "import bz2\n",
    "import os\n",
    "from tqdm.notebook import tqdm\n",
    "import numpy as np\n",
    "import pandas as pd"
   ]
  },
  {
   "cell_type": "code",
   "execution_count": 3,
   "id": "bc3b7b93",
   "metadata": {},
   "outputs": [],
   "source": [
    "import helpers"
   ]
  },
  {
   "cell_type": "code",
   "execution_count": 4,
   "id": "f56bc0d4",
   "metadata": {},
   "outputs": [],
   "source": [
    "log_ids = helpers.load_obj('log_ids')"
   ]
  },
  {
   "cell_type": "markdown",
   "id": "8de35368",
   "metadata": {},
   "source": [
    "### Загрузка showed urls из click data"
   ]
  },
  {
   "cell_type": "code",
   "execution_count": 6,
   "id": "6212c3c4",
   "metadata": {},
   "outputs": [],
   "source": [
    "def process_file(sql_conn, filename, log_id, path='E:/Техносфера/Итоговый конкурс/2017'):\n",
    "    with bz2.open(os.path.join(path, filename), \"rb\") as f:\n",
    "        lines = f.readlines()\n",
    "        \n",
    "    prev_query = ''\n",
    "    cnt_query = 0\n",
    "    with sql_conn.cursor() as cursor: \n",
    "        for line_ind, line in enumerate(tqdm(lines, total=len(lines))):\n",
    "            line = line.decode('utf-8').rstrip('\\n')\n",
    "            query = line.split(\"@\")[0]\n",
    "            line = line[len(query) + 1:]\n",
    "            data = line.split('\\t')\n",
    "            urls = data[1]\n",
    "            \n",
    "            if prev_query != query:\n",
    "                cnt_query = cnt_query + 1\n",
    "                cursor.execute(\"insert into dbo.log_serp (urls, filename, log_id_start) values(?,?,?)\", \n",
    "                               urls, filename, log_id)\n",
    "                prev_query = query\n",
    "            log_id = log_id + 1\n",
    "            if cnt_query % 10_000:\n",
    "                sql_conn.commit()\n",
    "        sql_conn.commit()\n",
    "    return log_id"
   ]
  },
  {
   "cell_type": "code",
   "execution_count": 10,
   "id": "e895b85e",
   "metadata": {},
   "outputs": [
    {
     "data": {
      "application/vnd.jupyter.widget-view+json": {
       "model_id": "f7842124dfb24846bca1e788c7cbaa70",
       "version_major": 2,
       "version_minor": 0
      },
      "text/plain": [
       "HBox(children=(FloatProgress(value=0.0, max=741895.0), HTML(value='')))"
      ]
     },
     "metadata": {},
     "output_type": "display_data"
    },
    {
     "name": "stdout",
     "output_type": "stream",
     "text": [
      "\n"
     ]
    }
   ],
   "source": [
    "filename = 'part-m-01011.bz2'\n",
    "with helpers.get_sql_conn() as get_sql_conn:\n",
    "    log_id = log_ids[filename][0]\n",
    "    process_file(get_sql_conn, filename, log_id)"
   ]
  },
  {
   "cell_type": "code",
   "execution_count": 8,
   "id": "842d8a16",
   "metadata": {},
   "outputs": [
    {
     "data": {
      "application/vnd.jupyter.widget-view+json": {
       "model_id": "cf8ed2c678ca4a64aa3968be553c60eb",
       "version_major": 2,
       "version_minor": 0
      },
      "text/plain": [
       "HBox(children=(FloatProgress(value=0.0, max=195394.0), HTML(value='')))"
      ]
     },
     "metadata": {},
     "output_type": "display_data"
    },
    {
     "name": "stdout",
     "output_type": "stream",
     "text": [
      "\n"
     ]
    }
   ],
   "source": [
    "filename = 'part-m-00005.bz2'\n",
    "with helpers.get_sql_conn() as get_sql_conn:\n",
    "    log_id = log_ids[filename][0]\n",
    "    process_file(get_sql_conn, filename, log_id, path='2017')"
   ]
  }
 ],
 "metadata": {
  "kernelspec": {
   "display_name": "Python 3 (ipykernel)",
   "language": "python",
   "name": "python3"
  },
  "language_info": {
   "codemirror_mode": {
    "name": "ipython",
    "version": 3
   },
   "file_extension": ".py",
   "mimetype": "text/x-python",
   "name": "python",
   "nbconvert_exporter": "python",
   "pygments_lexer": "ipython3",
   "version": "3.8.5"
  }
 },
 "nbformat": 4,
 "nbformat_minor": 5
}
